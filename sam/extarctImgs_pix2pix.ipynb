{
 "cells": [
  {
   "cell_type": "markdown",
   "metadata": {},
   "source": [
    "# Purpose of this is to extract the data from Radar/Sat datasets and save it as images for pix2pix\n",
    "\n",
    "### Todo:  make this a script!"
   ]
  },
  {
   "cell_type": "code",
   "execution_count": null,
   "metadata": {},
   "outputs": [],
   "source": [
    "import numpy as np\n",
    "import matplotlib.pyplot as plt\n",
    "import pylab as pl\n",
    "import matplotlib.animation as animation\n",
    "# This is how we can import src module from sibling module\n",
    "import os, sys\n",
    "nb_dir = os.path.split(os.getcwd())[0]\n",
    "print nb_dir\n",
    "if nb_dir not in sys.path: sys.path.append(nb_dir)\n",
    "#######################\n",
    "from src import wdata\n",
    "from netCDF4 import Dataset\n",
    "import seaborn as sns;\n",
    "from src.wdata import Sat, Radar\n",
    "from skimage.transform import resize\n",
    "from sklearn.utils import shuffle"
   ]
  },
  {
   "cell_type": "code",
   "execution_count": null,
   "metadata": {},
   "outputs": [],
   "source": [
    "# todo: add code to automatically create directory structure where images will be saved\n",
    "savedir = os.path.abspath(\"C:/Users/Sa/Desktop/weather/p2p\")\n",
    "radar_ = [i for mo in [7,8,9] for i in Radar.getMonth(2017,mo)]\n",
    "band2, radar = [], []\n",
    "\n",
    "for tup in radar_:\n",
    "    # only use non-sparse radar images\n",
    "    if RadarisSparse(tup[1], threshold=0.0175): continue\n",
    "    # get corrosponding Satelite image\n",
    "    ds = Sat.getSatFromRad(tup, 2)\n",
    "    if ds: \n",
    "        band2.append(Sat.getAndClose(ds))\n",
    "        radar.append(resize(tup[1], (52,200)))\n",
    "\n",
    "# todo: Fix: I removed all sparse images... this could cause overfitting. Need to include a feww\n",
    "\n",
    "band2, radar = shuffle(band2, radar)"
   ]
  },
  {
   "cell_type": "code",
   "execution_count": null,
   "metadata": {
    "scrolled": false
   },
   "outputs": [],
   "source": [
    "size = (len(band2) * 100) // 100 \n",
    "print size\n",
    "print len(band2), len(radar)"
   ]
  },
  {
   "cell_type": "code",
   "execution_count": null,
   "metadata": {},
   "outputs": [],
   "source": [
    "def saveImgs():\n",
    "    for i,d in enumerate(band2[:size]):\n",
    "        plt.imsave(savedir+\"/b2/{:>03d}.png\".format(i), d, cmap='gray')\n",
    "    print \"done b2\"\n",
    "    for i,d in enumerate(radar[:size]):\n",
    "        plt.imsave(savedir+\"/radar/{:>03d}.png\".format(i), d, cmap='gray', origin='lower')\n",
    "    print \"done radar\"\n",
    "saveImgs()"
   ]
  },
  {
   "cell_type": "code",
   "execution_count": null,
   "metadata": {},
   "outputs": [],
   "source": []
  }
 ],
 "metadata": {
  "kernelspec": {
   "display_name": "Python 2",
   "language": "python",
   "name": "python2"
  },
  "language_info": {
   "codemirror_mode": {
    "name": "ipython",
    "version": 2
   },
   "file_extension": ".py",
   "mimetype": "text/x-python",
   "name": "python",
   "nbconvert_exporter": "python",
   "pygments_lexer": "ipython2",
   "version": "2.7.14"
  }
 },
 "nbformat": 4,
 "nbformat_minor": 2
}
