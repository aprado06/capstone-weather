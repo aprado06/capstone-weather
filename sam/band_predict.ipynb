{
 "cells": [
  {
   "cell_type": "code",
   "execution_count": null,
   "metadata": {},
   "outputs": [],
   "source": [
    "import numpy as np\n",
    "import matplotlib.pyplot as plt\n",
    "import pylab as pl\n",
    "import matplotlib.animation as animation\n",
    "import src.wdata as wdata\n",
    "from netCDF4 import Dataset\n",
    "from datetime import datetime, timedelta\n",
    "from netCDF4 import num2date, date2num\n",
    "from sklearn import datasets, svm, metrics\n",
    "from sklearn.utils import shuffle\n",
    "from sklearn.neural_network import MLPClassifier\n",
    "from sklearn.preprocessing import StandardScaler"
   ]
  },
  {
   "cell_type": "code",
   "execution_count": null,
   "metadata": {},
   "outputs": [],
   "source": [
    "def getandclose(ds, var='data'):\n",
    "    dat = ds['/%s'%var][0] \n",
    "    ds.close()\n",
    "    return dat\n",
    "\n",
    "ncs = np.array([getandclose(ds) for band in [2,3,4,6] \n",
    "                for ds in wdata.Sat.getMonth(2017, 7, band)])\n",
    "print ncs.shape\n",
    "bands = np.array([getandclose(ds,'bands') for band in [2,3,4,6] \n",
    "                for ds in wdata.Sat.getMonth(2017, 7, band)])\n",
    "print bands.shape\n",
    "ncs, bands = shuffle(ncs, bands)"
   ]
  },
  {
   "cell_type": "code",
   "execution_count": null,
   "metadata": {},
   "outputs": [],
   "source": [
    "def runClf(classifier, data, bands, pr=True):\n",
    "    n_samples = len(bands)\n",
    "#     scaler = StandardScaler()\n",
    "#     data = scaler.fit_transform(data)\n",
    "    classifier.fit(data[:n_samples // 2], bands[:n_samples // 2])\n",
    "    expected = bands[n_samples // 2:]\n",
    "#     predicted = classifier.predict(scaler.transform(data[n_samples // 2:]))\n",
    "    predicted = classifier.predict(data[n_samples // 2:])\n",
    "    report = metrics.classification_report(expected, predicted)\n",
    "    if pr: print(\"Classification report for classifier %s:\\n%s\\n\"\n",
    "          % (classifier, report))\n",
    "#     print(\"Confusion matrix:\\n%s\" % metrics.confusion_matrix(expected, predicted))\n",
    "    return float(report.strip().split()[-4]) # precision\n",
    "\n",
    "# To apply a classifier on this data, we need to flatten the image, to\n",
    "# turn the data in a (samples, feature) matrix:\n",
    "n_samples = len(bands)\n",
    "data = ncs.reshape((n_samples, -1))"
   ]
  },
  {
   "cell_type": "code",
   "execution_count": null,
   "metadata": {},
   "outputs": [],
   "source": [
    "vm = svm.SVC(degree=6,gamma=0.001)\n",
    "runClf(vm, data, bands)"
   ]
  },
  {
   "cell_type": "code",
   "execution_count": null,
   "metadata": {},
   "outputs": [],
   "source": [
    "nn = MLPClassifier(solver='adam', alpha=1e-5,\n",
    "         hidden_layer_sizes=(50,80), random_state=1)\n",
    "runClf(nn, data, bands)"
   ]
  },
  {
   "cell_type": "code",
   "execution_count": null,
   "metadata": {},
   "outputs": [],
   "source": [
    "from itertools import product\n",
    "precs = []\n",
    "for a in [1e-5, 1e-3]:\n",
    "    for arch in product([10,20,30,40,50,60,70,80,90],[10,20,30,40,50,60,70,80,90]):\n",
    "        print '-'*20\n",
    "        print arch, a,':'\n",
    "        nn = MLPClassifier(solver='adam', alpha=a,\n",
    "                 hidden_layer_sizes=(arch[0]), random_state=1)\n",
    "        prec = runClf(nn, data, bands, pr=False)\n",
    "        precs.append(prec)\n",
    "        print prec\n",
    "print sorted(precs)[-1]"
   ]
  },
  {
   "cell_type": "code",
   "execution_count": null,
   "metadata": {},
   "outputs": [],
   "source": []
  },
  {
   "cell_type": "code",
   "execution_count": null,
   "metadata": {},
   "outputs": [],
   "source": []
  }
 ],
 "metadata": {
  "kernelspec": {
   "display_name": "Python 2",
   "language": "python",
   "name": "python2"
  },
  "language_info": {
   "codemirror_mode": {
    "name": "ipython",
    "version": 2
   },
   "file_extension": ".py",
   "mimetype": "text/x-python",
   "name": "python",
   "nbconvert_exporter": "python",
   "pygments_lexer": "ipython2",
   "version": "2.7.14"
  }
 },
 "nbformat": 4,
 "nbformat_minor": 2
}
