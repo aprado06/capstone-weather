{
 "cells": [
  {
   "cell_type": "code",
   "execution_count": 1,
   "metadata": {},
   "outputs": [
    {
     "name": "stdout",
     "output_type": "stream",
     "text": [
      "C:\\Users\\Sa\\Desktop\\capstone-weather\n"
     ]
    }
   ],
   "source": [
    "import numpy as np\n",
    "import matplotlib.pyplot as plt\n",
    "import pylab as pl\n",
    "import matplotlib.animation as animation\n",
    "# This is how we can import src module from sibling module\n",
    "import os, sys\n",
    "nb_dir = os.path.split(os.getcwd())[0]\n",
    "print nb_dir\n",
    "if nb_dir not in sys.path: sys.path.append(nb_dir)\n",
    "#######################\n",
    "from src import wdata\n",
    "from netCDF4 import Dataset\n",
    "import seaborn as sns;\n",
    "from src.wdata import Sat, Radar\n",
    "from skimage.transform import resize\n",
    "from sklearn.utils import shuffle\n",
    "from random import random as random "
   ]
  },
  {
   "cell_type": "code",
   "execution_count": 2,
   "metadata": {},
   "outputs": [],
   "source": [
    "def div3(arr):\n",
    "    a1 = arr[:,:52]\n",
    "    a2 = arr[:,52:52*2]\n",
    "    a3 = arr[:,52*2:156]\n",
    "    return (a1, a2, a3)\n",
    "\n",
    "def normBand(arr): # normalize and remap to [-1, 1]\n",
    "    arr = arr - np.min(arr)\n",
    "    arr = arr / np.max(arr)\n",
    "    return arr"
   ]
  },
  {
   "cell_type": "code",
   "execution_count": 3,
   "metadata": {},
   "outputs": [
    {
     "name": "stderr",
     "output_type": "stream",
     "text": [
      "d:\\Anaconda2\\lib\\site-packages\\skimage\\transform\\_warps.py:84: UserWarning: The default mode, 'constant', will be changed to 'reflect' in skimage 0.15.\n",
      "  warn(\"The default mode, 'constant', will be changed to 'reflect' in \"\n"
     ]
    }
   ],
   "source": [
    "# todo: add code to automatically create directory structure where images will be saved\n",
    "savedir = os.path.abspath(\"E:/weatherFall/run5\")\n",
    "radar_ = [i for mo in [7,8,9] for i in Radar.getMonth(2017,mo)]\n",
    "bands, radar = [], []\n",
    "sparsecount = 0\n",
    "for tup in radar_:\n",
    "    rad = tup[1][:,:156] # crop to 126x156\n",
    "    # get corrosponding Satelite image\n",
    "    ds2 = Sat.getSatFromRad(tup, 2)\n",
    "    ds4 = Sat.getSatFromRad(tup, 4)\n",
    "    ds6 = Sat.getSatFromRad(tup, 6)\n",
    "    \n",
    "    if ds2 and ds4 and ds6: \n",
    "        b2 = div3(resize(normBand(Sat.getAndClose(ds2)), (52,156)))\n",
    "        b4 = div3(resize(normBand(Sat.getAndClose(ds4)), (52,156)))\n",
    "        b6 = div3(resize(normBand(Sat.getAndClose(ds6)), (52,156)))\n",
    "        rad1, rad2, rad3 = div3(rad)\n",
    "        \n",
    "        if Radar.isSparse(rad1, threshold=0.00175): \n",
    "            if random() < 0.05:               \n",
    "                radar.append(rad1)\n",
    "                bands.append(np.stack((b2[0],b4[0],b6[0]), axis=2))\n",
    "                sparsecount += 1\n",
    "        else:\n",
    "            radar.append(rad1)\n",
    "            bands.append(np.stack((b2[0],b4[0],b6[0]), axis=2))\n",
    "        \n",
    "        if Radar.isSparse(rad2, threshold=0.00175): \n",
    "            if random() < 0.05:    \n",
    "                radar.append(rad2)\n",
    "                bands.append(np.stack((b2[1],b4[1],b6[1]), axis=2))\n",
    "                sparsecount += 1\n",
    "        else:\n",
    "            radar.append(rad2)\n",
    "            bands.append(np.stack((b2[1],b4[1],b6[1]), axis=2))\n",
    "            \n",
    "        if Radar.isSparse(rad3, threshold=0.00175): \n",
    "            if random() < 0.05:    \n",
    "                radar.append(rad3)\n",
    "                bands.append(np.stack((b2[2],b4[2],b6[2]), axis=2))\n",
    "                sparsecount += 1\n",
    "        else:\n",
    "            radar.append(rad3)\n",
    "            bands.append(np.stack((b2[2],b4[2],b6[2]), axis=2))\n",
    "\n",
    "bands, radar = shuffle(bands, radar)"
   ]
  },
  {
   "cell_type": "code",
   "execution_count": 4,
   "metadata": {},
   "outputs": [
    {
     "name": "stdout",
     "output_type": "stream",
     "text": [
      "626\n",
      "626 626\n",
      "Num of sparse images: 44\n"
     ]
    }
   ],
   "source": [
    "size = len(bands)\n",
    "print size\n",
    "print len(bands), len(radar)\n",
    "print 'Num of sparse images:', sparsecount"
   ]
  },
  {
   "cell_type": "code",
   "execution_count": null,
   "metadata": {},
   "outputs": [],
   "source": [
    "splitRatio = 0.80\n",
    "def saveImgs():\n",
    "    for i,d in enumerate(bands[:size]):\n",
    "        plt.imsave(savedir+\"/A/{:>03d}.png\".format(i), d, cmap=None)\n",
    "    print \"done bands\"\n",
    "    for i,d in enumerate(radar[:size]):\n",
    "        plt.imsave(savedir+\"/B/{:>03d}.png\".format(i), d*255, cmap='gray', origin='lower')\n",
    "    print \"done radar\"\n",
    "saveImgs()"
   ]
  }
 ],
 "metadata": {
  "kernelspec": {
   "display_name": "Python 2",
   "language": "python",
   "name": "python2"
  },
  "language_info": {
   "codemirror_mode": {
    "name": "ipython",
    "version": 2
   },
   "file_extension": ".py",
   "mimetype": "text/x-python",
   "name": "python",
   "nbconvert_exporter": "python",
   "pygments_lexer": "ipython2",
   "version": "2.7.14"
  }
 },
 "nbformat": 4,
 "nbformat_minor": 2
}
