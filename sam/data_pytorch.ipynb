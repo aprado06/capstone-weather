{
 "cells": [
  {
   "cell_type": "code",
   "execution_count": 1,
   "metadata": {},
   "outputs": [
    {
     "name": "stdout",
     "output_type": "stream",
     "text": [
      "C:\\Users\\Sa\\Desktop\\capstone-weather\n"
     ]
    }
   ],
   "source": [
    "import numpy as np\n",
    "import matplotlib.pyplot as plt\n",
    "import pylab as pl\n",
    "import matplotlib.animation as animation\n",
    "# This is how we can import src module from sibling module\n",
    "import os, sys\n",
    "nb_dir = os.path.split(os.getcwd())[0]\n",
    "print nb_dir\n",
    "if nb_dir not in sys.path: sys.path.append(nb_dir)\n",
    "#######################\n",
    "from src import wdata\n",
    "from netCDF4 import Dataset\n",
    "import seaborn as sns;\n",
    "from src.wdata import Sat, Radar\n",
    "from skimage.transform import resize\n",
    "from sklearn.utils import shuffle\n",
    "from random import random as random \n",
    "import scipy.misc"
   ]
  },
  {
   "cell_type": "code",
   "execution_count": 2,
   "metadata": {},
   "outputs": [],
   "source": [
    "def div2(arr):\n",
    "    a1 = arr[:,:100]\n",
    "    a2 = arr[:,100:]\n",
    "    return (a1, a2)\n",
    "\n",
    "def normBand(arr): # normalize and remap to [-1, 1]\n",
    "    arr = arr - np.min(arr)\n",
    "    arr = arr / np.max(arr)\n",
    "    return (arr-0.5)*2"
   ]
  },
  {
   "cell_type": "code",
   "execution_count": 3,
   "metadata": {},
   "outputs": [
    {
     "name": "stderr",
     "output_type": "stream",
     "text": [
      "d:\\Anaconda2\\lib\\site-packages\\skimage\\transform\\_warps.py:84: UserWarning: The default mode, 'constant', will be changed to 'reflect' in skimage 0.15.\n",
      "  warn(\"The default mode, 'constant', will be changed to 'reflect' in \"\n"
     ]
    }
   ],
   "source": [
    "# todo: add code to automatically create directory structure where images will be saved\n",
    "savedir = os.path.abspath(\"E:/weatherFall/run5\")\n",
    "radar_ = [i for mo in [7,8,9] for i in Radar.getMonth(2017,mo)]\n",
    "bands, radar = [], []\n",
    "sparsecount = 0\n",
    "for tup in radar_:\n",
    "    rad = np.flip(tup[1],0)[:100,:200] # crop to 126x200\n",
    "    # get corrosponding Satelite image\n",
    "    ds2 = Sat.getSatFromRad(tup, 2)\n",
    "    ds4 = Sat.getSatFromRad(tup, 4)\n",
    "    ds6 = Sat.getSatFromRad(tup, 6)\n",
    "    \n",
    "    if ds2 and ds4 and ds6: \n",
    "        b2 = div2(resize(normBand(Sat.getAndClose(ds2)), (126,201))[:100,:200])\n",
    "        b4 = div2(resize(normBand(Sat.getAndClose(ds4)), (126,201))[:100,:200])\n",
    "        b6 = div2(resize(normBand(Sat.getAndClose(ds6)), (126,201))[:100,:200])\n",
    "        rad1, rad2 = div2(rad)\n",
    "        \n",
    "        if Radar.isSparse(rad1, threshold=0.00175): \n",
    "            if random() < 0.05:               \n",
    "                radar.append(rad1)\n",
    "                bands.append(np.stack((b2[0],b4[0],b6[0]), axis=2))\n",
    "                sparsecount += 1\n",
    "        else:\n",
    "            radar.append(rad1)\n",
    "            bands.append(np.stack((b2[0],b4[0],b6[0]), axis=2))\n",
    "        \n",
    "        if Radar.isSparse(rad2, threshold=0.00175): \n",
    "            if random() < 0.05:    \n",
    "                radar.append(rad2)\n",
    "                bands.append(np.stack((b2[1],b4[1],b6[1]), axis=2))\n",
    "                sparsecount += 1\n",
    "        else:\n",
    "            radar.append(rad2)\n",
    "            bands.append(np.stack((b2[1],b4[1],b6[1]), axis=2))\n",
    "            \n",
    "#         if Radar.isSparse(rad3, threshold=0.00175): \n",
    "#             if random() < 0.05:    \n",
    "#                 radar.append(rad3)\n",
    "#                 bands.append(np.stack((b2[2],b4[2],b6[2]), axis=2))\n",
    "#                 sparsecount += 1\n",
    "#         else:\n",
    "#             radar.append(rad3)\n",
    "#             bands.append(np.stack((b2[2],b4[2],b6[2]), axis=2))\n",
    "\n",
    "bands, radar = shuffle(bands, radar)"
   ]
  },
  {
   "cell_type": "code",
   "execution_count": 4,
   "metadata": {},
   "outputs": [
    {
     "name": "stdout",
     "output_type": "stream",
     "text": [
      "417\n",
      "417 417\n",
      "Num of sparse images: 34\n"
     ]
    }
   ],
   "source": [
    "size = len(bands)\n",
    "print size\n",
    "print len(bands), len(radar)\n",
    "print 'Num of sparse images:', sparsecount"
   ]
  },
  {
   "cell_type": "code",
   "execution_count": 5,
   "metadata": {},
   "outputs": [
    {
     "name": "stderr",
     "output_type": "stream",
     "text": [
      "d:\\Anaconda2\\lib\\site-packages\\ipykernel_launcher.py:5: DeprecationWarning: `imsave` is deprecated!\n",
      "`imsave` is deprecated in SciPy 1.0.0, and will be removed in 1.2.0.\n",
      "Use ``imageio.imwrite`` instead.\n",
      "  \"\"\"\n",
      "d:\\Anaconda2\\lib\\site-packages\\ipykernel_launcher.py:6: DeprecationWarning: `imsave` is deprecated!\n",
      "`imsave` is deprecated in SciPy 1.0.0, and will be removed in 1.2.0.\n",
      "Use ``imageio.imwrite`` instead.\n",
      "  \n",
      "d:\\Anaconda2\\lib\\site-packages\\ipykernel_launcher.py:7: DeprecationWarning: `imsave` is deprecated!\n",
      "`imsave` is deprecated in SciPy 1.0.0, and will be removed in 1.2.0.\n",
      "Use ``imageio.imwrite`` instead.\n",
      "  import sys\n",
      "d:\\Anaconda2\\lib\\site-packages\\ipykernel_launcher.py:9: DeprecationWarning: `imsave` is deprecated!\n",
      "`imsave` is deprecated in SciPy 1.0.0, and will be removed in 1.2.0.\n",
      "Use ``imageio.imwrite`` instead.\n",
      "  if __name__ == '__main__':\n",
      "d:\\Anaconda2\\lib\\site-packages\\ipykernel_launcher.py:13: DeprecationWarning: `imsave` is deprecated!\n",
      "`imsave` is deprecated in SciPy 1.0.0, and will be removed in 1.2.0.\n",
      "Use ``imageio.imwrite`` instead.\n",
      "  del sys.path[0]\n",
      "d:\\Anaconda2\\lib\\site-packages\\ipykernel_launcher.py:14: DeprecationWarning: `imsave` is deprecated!\n",
      "`imsave` is deprecated in SciPy 1.0.0, and will be removed in 1.2.0.\n",
      "Use ``imageio.imwrite`` instead.\n",
      "  \n",
      "d:\\Anaconda2\\lib\\site-packages\\ipykernel_launcher.py:15: DeprecationWarning: `imsave` is deprecated!\n",
      "`imsave` is deprecated in SciPy 1.0.0, and will be removed in 1.2.0.\n",
      "Use ``imageio.imwrite`` instead.\n",
      "  from ipykernel import kernelapp as app\n"
     ]
    },
    {
     "name": "stdout",
     "output_type": "stream",
     "text": [
      "train, val count: 333, 84\n"
     ]
    },
    {
     "name": "stderr",
     "output_type": "stream",
     "text": [
      "d:\\Anaconda2\\lib\\site-packages\\ipykernel_launcher.py:17: DeprecationWarning: `imsave` is deprecated!\n",
      "`imsave` is deprecated in SciPy 1.0.0, and will be removed in 1.2.0.\n",
      "Use ``imageio.imwrite`` instead.\n"
     ]
    }
   ],
   "source": [
    "splitratio = 0.80 # train percentage\n",
    "def saveImgs():\n",
    "    # save train set\n",
    "    for i,d in enumerate(bands[:int(size*splitratio)]):\n",
    "        scipy.misc.imsave(savedir+\"/train/A/{:>03d}A{:d}.png\".format(i,0), d[...,0])\n",
    "        scipy.misc.imsave(savedir+\"/train/A/{:>03d}A{:d}.png\".format(i,1), d[...,1])\n",
    "        scipy.misc.imsave(savedir+\"/train/A/{:>03d}A{:d}.png\".format(i,2), d[...,2])\n",
    "    for i,d in enumerate(radar[:int(size*splitratio)]):\n",
    "        scipy.misc.imsave(savedir+\"/train/B/{:>03d}.png\".format(i), np.flip(d*255,1).astype(np.uint8))\n",
    "    \n",
    "    # save val set\n",
    "    for i,d in enumerate(bands[int(size*splitratio):]):\n",
    "        scipy.misc.imsave(savedir+\"/val/A/{:>03d}A{:d}.png\".format(i,0), d[...,0])\n",
    "        scipy.misc.imsave(savedir+\"/val/A/{:>03d}A{:d}.png\".format(i,1), d[...,1])\n",
    "        scipy.misc.imsave(savedir+\"/val/A/{:>03d}A{:d}.png\".format(i,2), d[...,2])\n",
    "    for i,d in enumerate(radar[int(size*splitratio):]):\n",
    "        scipy.misc.imsave(savedir+\"/val/B/{:>03d}.png\".format(i),(d*255).astype(np.uint8))\n",
    "    print('train, val count: {:d}, {:d}'.format(int(size*splitratio), size-int(size*splitratio)))\n",
    "saveImgs()"
   ]
  },
  {
   "cell_type": "code",
   "execution_count": null,
   "metadata": {},
   "outputs": [],
   "source": []
  }
 ],
 "metadata": {
  "kernelspec": {
   "display_name": "Python 2",
   "language": "python",
   "name": "python2"
  },
  "language_info": {
   "codemirror_mode": {
    "name": "ipython",
    "version": 2
   },
   "file_extension": ".py",
   "mimetype": "text/x-python",
   "name": "python",
   "nbconvert_exporter": "python",
   "pygments_lexer": "ipython2",
   "version": "2.7.14"
  }
 },
 "nbformat": 4,
 "nbformat_minor": 2
}
