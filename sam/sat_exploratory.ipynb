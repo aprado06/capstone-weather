{
 "cells": [
  {
   "cell_type": "code",
   "execution_count": null,
   "metadata": {},
   "outputs": [],
   "source": [
    "import numpy as np\n",
    "import matplotlib.pyplot as plt\n",
    "import pylab as pl\n",
    "import matplotlib.animation as animation\n",
    "import os, sys\n",
    "nb_dir = os.path.split(os.getcwd())[0]\n",
    "if nb_dir not in sys.path: sys.path.append(nb_dir)\n",
    "#######################\n",
    "from src import wdata\n",
    "from netCDF4 import Dataset\n",
    "from datetime import datetime, timedelta\n",
    "from netCDF4 import num2date, date2num"
   ]
  },
  {
   "cell_type": "code",
   "execution_count": null,
   "metadata": {},
   "outputs": [],
   "source": [
    "# ds = Dataset(satpath+'goes13.2017.182.034519.BAND_01.nc',mode ='r')\n",
    "ds = wdata.Sat.getHalfHr(2017,7,1,3,1,1)\n",
    "print ds['/data'][0]"
   ]
  },
  {
   "cell_type": "code",
   "execution_count": null,
   "metadata": {},
   "outputs": [],
   "source": [
    "for k in ds.variables:\n",
    "    print k, ds['/'+str(k)][:]"
   ]
  },
  {
   "cell_type": "code",
   "execution_count": null,
   "metadata": {},
   "outputs": [],
   "source": [
    "# Highlight the satellite dataset on a map\n",
    "# requires googlemaps api key to be set in configDefault.py/configLocal.py\n",
    "\n",
    "%matplotlib inline\n",
    "import gmaps\n",
    "def plotMap(ds):\n",
    "    \"\"\" \n",
    "        Highlight the satellite dataset on a map,\n",
    "        requires googlemaps api key to be set in configDefault.py/configLocal.py\n",
    "    \"\"\"\n",
    "    gmaps.configure(api_key= wdata.config['gmapsKey'])\n",
    "    fig = gmaps.figure()\n",
    "    # get corners coordinates as (lat, lon):\n",
    "    miny, maxy = np.min(ds['/lat'][:]), np.max(ds['/lat'][:])\n",
    "    minx, maxx = np.min(ds['/lon'][:]), np.max(ds['/lon'][:])\n",
    "    corners = [ \n",
    "        (miny, minx),\n",
    "        (miny, maxx),\n",
    "        (maxy, maxx),\n",
    "        (maxy, minx),\n",
    "    ]\n",
    "    markers = gmaps.marker_layer(corners)\n",
    "    area = gmaps.Polygon(\n",
    "        marker_locations,\n",
    "        stroke_color='blue',\n",
    "        fill_color='blue'\n",
    "    )\n",
    "    drawing = gmaps.drawing_layer(\n",
    "        features=[area],\n",
    "        show_controls=False\n",
    "    )\n",
    "    fig.add_layer(drawing)\n",
    "    fig.add_layer(markers)\n",
    "    return fig\n",
    "\n",
    "plotMap(ds)"
   ]
  },
  {
   "cell_type": "code",
   "execution_count": null,
   "metadata": {},
   "outputs": [],
   "source": [
    "# plt.figure()\n",
    "# ds['/data'][0]\n",
    "# def plotBands(filename):\n",
    "#     fig, axes = plt.subplots(3,2)\n",
    "#     for i,ax in enumerate(np.array(axes).reshape(-1)):\n",
    "#         ds = Dataset(filename+'', mode ='r')\n",
    "#         ax.set_title('Band %d'%i)\n",
    "#         ax.imshow(ds['/data'][0])\n",
    "# plotBands(satpath+'goes13.2017.182.034519.BAND_02.nc')"
   ]
  },
  {
   "cell_type": "code",
   "execution_count": null,
   "metadata": {},
   "outputs": [],
   "source": [
    "def whattime(ds):\n",
    "    times = ds['/time']\n",
    "    date = num2date(times[:],units=times.units)[0]\n",
    "    print date.hour, date.minute, date.second"
   ]
  },
  {
   "cell_type": "code",
   "execution_count": null,
   "metadata": {},
   "outputs": [],
   "source": [
    "whattime(ds)\n",
    "# date = num2date(times[:],units=times.units)[0]\n",
    "# date2num([datetime(2017,7,2,1,1,1)], 'seconds')"
   ]
  },
  {
   "cell_type": "code",
   "execution_count": null,
   "metadata": {},
   "outputs": [],
   "source": []
  }
 ],
 "metadata": {
  "kernelspec": {
   "display_name": "Python 2",
   "language": "python",
   "name": "python2"
  },
  "language_info": {
   "codemirror_mode": {
    "name": "ipython",
    "version": 2
   },
   "file_extension": ".py",
   "mimetype": "text/x-python",
   "name": "python",
   "nbconvert_exporter": "python",
   "pygments_lexer": "ipython2",
   "version": "2.7.14"
  }
 },
 "nbformat": 4,
 "nbformat_minor": 2
}
