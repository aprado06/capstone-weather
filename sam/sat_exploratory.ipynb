{
 "cells": [
  {
   "cell_type": "code",
   "execution_count": null,
   "metadata": {},
   "outputs": [],
   "source": [
    "import numpy as np\n",
    "import matplotlib.pyplot as plt\n",
    "import pylab as pl\n",
    "import matplotlib.animation as animation\n",
    "import src.wdata as wdata\n",
    "from netCDF4 import Dataset\n",
    "from datetime import datetime, timedelta\n",
    "from netCDF4 import num2date, date2num\n",
    "satpath = wdata.config['satelliteRootPath']"
   ]
  },
  {
   "cell_type": "code",
   "execution_count": null,
   "metadata": {},
   "outputs": [],
   "source": [
    "ds = Dataset(satpath+'goes13.2017.182.034519.BAND_01.nc',mode ='r')\n",
    "print ds['/data'][0]"
   ]
  },
  {
   "cell_type": "code",
   "execution_count": null,
   "metadata": {},
   "outputs": [],
   "source": [
    "for k in ds.variables:\n",
    "    print k, ds['/'+str(k)][:]"
   ]
  },
  {
   "cell_type": "code",
   "execution_count": null,
   "metadata": {},
   "outputs": [],
   "source": []
  },
  {
   "cell_type": "code",
   "execution_count": null,
   "metadata": {},
   "outputs": [],
   "source": [
    "miny, maxy = np.min(ds['/lat'][:]), np.max(ds['/lat'][:])\n",
    "minx, maxx = np.min(ds['/lon'][:]), np.max(ds['/lon'][:])\n",
    "marker_locations = [ \n",
    "    (miny,minx),\n",
    "    (miny,maxx),\n",
    "    (maxy,maxx),\n",
    "    (maxy,minx),\n",
    "]"
   ]
  },
  {
   "cell_type": "code",
   "execution_count": null,
   "metadata": {},
   "outputs": [],
   "source": [
    "%matplotlib inline\n",
    "import gmaps\n",
    "from configLocal import config as cflocal\n",
    "gmaps.configure(api_key=cflocal['gmapsKey'])\n",
    "fig = gmaps.figure()\n",
    "markers = gmaps.marker_layer(marker_locations)\n",
    "area = gmaps.Polygon(\n",
    "    marker_locations,\n",
    "    stroke_color='blue',\n",
    "    fill_color='blue'\n",
    ")\n",
    "drawing = gmaps.drawing_layer(\n",
    "    features=[area],\n",
    "    show_controls=False\n",
    ")\n",
    "fig.add_layer(drawing)\n",
    "fig.add_layer(markers)\n",
    "fig"
   ]
  },
  {
   "cell_type": "code",
   "execution_count": null,
   "metadata": {},
   "outputs": [],
   "source": [
    "# plt.figure()\n",
    "# ds['/data'][0]\n",
    "def plotBands(filename):\n",
    "    fig, axes = plt.subplots(3,2)\n",
    "    for i,ax in enumerate(np.array(axes).reshape(-1)):\n",
    "        ds = Dataset(filename+'', mode ='r')\n",
    "        ax.set_title('Band %d'%i)\n",
    "        ax.imshow(ds['/data'][0])\n",
    "plotBands(satpath+'goes13.2017.182.034519.BAND_02.nc')"
   ]
  },
  {
   "cell_type": "code",
   "execution_count": null,
   "metadata": {},
   "outputs": [],
   "source": [
    "def whattime(fname):\n",
    "    ds_ = Dataset(filename, mode ='r')\n",
    "    times = ds_['/time']\n",
    "    date = num2date(times[:],units=times.units)[0]\n",
    "    print date.hour, date.minute, date.second"
   ]
  },
  {
   "cell_type": "code",
   "execution_count": null,
   "metadata": {},
   "outputs": [],
   "source": [
    "\n",
    "times = ds['/time']\n",
    "times[:]\n",
    "# date = num2date(times[:],units=times.units)[0]\n",
    "# date2num([datetime(2017,7,2,1,1,1)], 'seconds')"
   ]
  },
  {
   "cell_type": "code",
   "execution_count": null,
   "metadata": {},
   "outputs": [],
   "source": []
  }
 ],
 "metadata": {
  "kernelspec": {
   "display_name": "Python 2",
   "language": "python",
   "name": "python2"
  },
  "language_info": {
   "codemirror_mode": {
    "name": "ipython",
    "version": 2
   },
   "file_extension": ".py",
   "mimetype": "text/x-python",
   "name": "python",
   "nbconvert_exporter": "python",
   "pygments_lexer": "ipython2",
   "version": "2.7.14"
  }
 },
 "nbformat": 4,
 "nbformat_minor": 2
}
