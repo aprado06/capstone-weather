{
 "cells": [
  {
   "cell_type": "code",
   "execution_count": null,
   "metadata": {},
   "outputs": [],
   "source": [
    "import numpy as np\n",
    "import matplotlib.pyplot as plt\n",
    "import pylab as pl\n",
    "import matplotlib.animation as animation\n",
    "# This is how we can import src module from sibling module\n",
    "import os, sys\n",
    "nb_dir = os.path.split(os.getcwd())[0]\n",
    "if nb_dir not in sys.path: sys.path.append(nb_dir)\n",
    "#######################\n",
    "from src import wdata\n",
    "from netCDF4 import Dataset\n",
    "import seaborn as sns;\n",
    "%matplotlib nbagg\n",
    "\n",
    "def animate(images):\n",
    "    \"\"\" need to keep a reference to returned object for the animation to work!\"\"\"\n",
    "    fig = plt.figure()\n",
    "    ims = []\n",
    "    for n,i in enumerate(images):\n",
    "        ims.append([plt.imshow(i, Animated=True, cmap='gray', origin='lower')])\n",
    "    return animation.ArtistAnimation(fig, ims, interval=100, blit=True,\n",
    "                                    repeat_delay=1000)"
   ]
  },
  {
   "cell_type": "code",
   "execution_count": null,
   "metadata": {},
   "outputs": [],
   "source": [
    "%matplotlib nbagg\n",
    "imgs2017 = np.array([i[1] for i in wdata.Radar.getYear(2017)]).astype(float)\n",
    "imgs2017 = (imgs2017 - np.min(imgs2017)) /(np.max(imgs2017)-np.min(imgs2017))\n",
    "\n",
    "# ani = animate([i[1] for i in imgs2017])"
   ]
  },
  {
   "cell_type": "code",
   "execution_count": null,
   "metadata": {},
   "outputs": [],
   "source": [
    "%matplotlib nbagg\n",
    "imgs2017_2 = np.array([i[1] for i in wdata.Radar2.getYear(2017)]).astype(float)\n",
    "imgs2017_2 = (imgs2017_2 - np.min(imgs2017_2)) /(np.max(imgs2017_2)-np.min(imgs2017_2))\n",
    "# ani_2 = animate([i[1] for i in imgs2017_2])"
   ]
  },
  {
   "cell_type": "code",
   "execution_count": null,
   "metadata": {},
   "outputs": [],
   "source": [
    "x = imgs2017[0][1]\n",
    "print x[x>0].shape\n",
    "print x[x==0].shape"
   ]
  },
  {
   "cell_type": "code",
   "execution_count": null,
   "metadata": {},
   "outputs": [],
   "source": [
    "y = imgs2017_2[0][1]\n",
    "print y[y>0].shape\n",
    "print y[y==0].shape"
   ]
  },
  {
   "cell_type": "code",
   "execution_count": null,
   "metadata": {},
   "outputs": [],
   "source": [
    "y[y>0]"
   ]
  },
  {
   "cell_type": "code",
   "execution_count": null,
   "metadata": {},
   "outputs": [],
   "source": [
    "a1 = np.array([[1,2],[3,4]])\n",
    "a2 = np.array([[5,6],[7,8]])"
   ]
  },
  {
   "cell_type": "code",
   "execution_count": null,
   "metadata": {},
   "outputs": [],
   "source": [
    "np.hstack((a1,a2))"
   ]
  },
  {
   "cell_type": "code",
   "execution_count": null,
   "metadata": {},
   "outputs": [],
   "source": [
    "%matplotlib nbagg\n",
    "imgs = []\n",
    "for im,im2 in zip(imgs2017,imgs2017_2):\n",
    "    imgs.append(np.hstack((im,im2)))\n",
    "annn = animate(imgs)"
   ]
  },
  {
   "cell_type": "code",
   "execution_count": null,
   "metadata": {},
   "outputs": [],
   "source": [
    "xx = np.array([-5,0,1,2,3,4,5]).astype(float)\n",
    "yy = (xx - np.min(xx)) /(np.max(xx)-np.min(xx))\n",
    "yy"
   ]
  },
  {
   "cell_type": "code",
   "execution_count": null,
   "metadata": {},
   "outputs": [],
   "source": [
    "imgs2017[0].sum()"
   ]
  },
  {
   "cell_type": "code",
   "execution_count": null,
   "metadata": {},
   "outputs": [],
   "source": [
    "imgs2017_2[0].sum()"
   ]
  },
  {
   "cell_type": "code",
   "execution_count": null,
   "metadata": {},
   "outputs": [],
   "source": [
    "raw = [i[1] for i in wdata.Radar2.getYear(2017)]"
   ]
  },
  {
   "cell_type": "code",
   "execution_count": null,
   "metadata": {},
   "outputs": [],
   "source": [
    "raw[0][0]"
   ]
  },
  {
   "cell_type": "code",
   "execution_count": null,
   "metadata": {},
   "outputs": [],
   "source": [
    "imgs2017_2 = np.array([i[1] for i in wdata.Radar2.getYear(2017)]).astype(float)\n",
    "imgs2017_2 = (imgs2017_2 - np.min(imgs2017_2)) /(np.max(imgs2017_2)-np.min(imgs2017_2))\n",
    "imgs2017_2 = 1.0 - imgs2017_2"
   ]
  },
  {
   "cell_type": "code",
   "execution_count": null,
   "metadata": {},
   "outputs": [],
   "source": [
    "an = animate(imgs2017_2*255)"
   ]
  },
  {
   "cell_type": "code",
   "execution_count": null,
   "metadata": {},
   "outputs": [],
   "source": []
  }
 ],
 "metadata": {
  "kernelspec": {
   "display_name": "Python 2",
   "language": "python",
   "name": "python2"
  },
  "language_info": {
   "codemirror_mode": {
    "name": "ipython",
    "version": 2
   },
   "file_extension": ".py",
   "mimetype": "text/x-python",
   "name": "python",
   "nbconvert_exporter": "python",
   "pygments_lexer": "ipython2",
   "version": "2.7.14"
  }
 },
 "nbformat": 4,
 "nbformat_minor": 2
}
