{
 "cells": [
  {
   "cell_type": "code",
   "execution_count": null,
   "metadata": {},
   "outputs": [],
   "source": [
    "import numpy as np\n",
    "import matplotlib.pyplot as plt\n",
    "import pylab as pl\n",
    "import matplotlib.animation as animation\n",
    "# This is how we can import src module from sibling module\n",
    "import os, sys\n",
    "nb_dir = os.path.split(os.getcwd())[0]\n",
    "if nb_dir not in sys.path: sys.path.append(nb_dir)\n",
    "#######################\n",
    "from src import wdata\n",
    "from netCDF4 import Dataset\n",
    "import seaborn as sns;\n",
    "%matplotlib nbagg\n",
    "\n",
    "def animate(images):\n",
    "    \"\"\" need to keep a reference to returned object for the animation to work!\"\"\"\n",
    "    fig = plt.figure()\n",
    "    ims = []\n",
    "    for n,i in enumerate(images):\n",
    "        ims.append([plt.imshow(i, Animated=True, cmap='gray', origin='lower')])\n",
    "    return animation.ArtistAnimation(fig, ims, interval=100, blit=True,\n",
    "                                    repeat_delay=1000)"
   ]
  },
  {
   "cell_type": "markdown",
   "metadata": {},
   "source": [
    "# A time-lapse through all 2017 radar images:"
   ]
  },
  {
   "cell_type": "code",
   "execution_count": null,
   "metadata": {
    "scrolled": false
   },
   "outputs": [],
   "source": [
    "# takes some time\n",
    "# Todo: make it faster\n",
    "%matplotlib nbagg\n",
    "imgs2017 = wdata.Radar.getYear(2017)\n",
    "ani = animate([i[1] for i in imgs2017])"
   ]
  },
  {
   "cell_type": "markdown",
   "metadata": {},
   "source": [
    "# Average Rainfall"
   ]
  },
  {
   "cell_type": "code",
   "execution_count": null,
   "metadata": {
    "scrolled": true
   },
   "outputs": [],
   "source": [
    "y2017 = reduce(lambda x,y: x + y, [i[1] for i in imgs2017], np.zeros((126,201)))\n",
    "plt.figure()\n",
    "# plt.imshow(y2017/len(y2017), origin='lower', cmap='gray')\n",
    "ax = sns.heatmap(y2017/len(y2017), cmap='gray', vmin=0, vmax=1)\n",
    "ax.invert_yaxis()\n",
    "# plt.show()"
   ]
  },
  {
   "cell_type": "markdown",
   "metadata": {},
   "source": [
    "# Day-to-day Rainfall"
   ]
  },
  {
   "cell_type": "code",
   "execution_count": null,
   "metadata": {},
   "outputs": [],
   "source": [
    "MONTHS = ['Jan', 'Feb', 'Mar', 'Apr', 'May', 'Jun', 'Jul', 'Aug', 'Sep', 'Oct', 'Nov', 'Dec']\n",
    "def rainfallDaily(year, month):\n",
    "    days = map(lambda (hr, x): (hr[:-3], x), wdata.Radar.getMonth(year, month))\n",
    "    days_rainfall = {k:0.0 for k in set([i[0] for i in days])}\n",
    "    for (k,v) in days:\n",
    "        days_rainfall[k] += np.sum(v) \n",
    "    xs = sorted(map(lambda x: int(x[-2:]), days_rainfall.keys()))\n",
    "    ys = [days_rainfall['{:0>2d}-{:0>2d}-{:0>2d}'.format(year, month, i)] for i in xs]\n",
    "    m, b = np.polyfit(xs, ys, 1) \n",
    "    plt.figure()\n",
    "    plt.title('Daily Rainfall for {:s}, {:0>2d}'.format(MONTHS[month-1], year))\n",
    "    plt.xlabel('Day')\n",
    "    plt.ylabel('Rainfall(mm)')\n",
    "    plt.plot(xs, ys)\n",
    "    plt.scatter(xs, ys)\n",
    "    plt.plot([-10, 100],[-10*m+b, 100*m+b])\n",
    "    plt.xlim(0,32)\n",
    "    plt.show()\n",
    "\n",
    "rainfallDaily(2017, 6)\n",
    "rainfallDaily(2017, 12)"
   ]
  },
  {
   "cell_type": "code",
   "execution_count": null,
   "metadata": {},
   "outputs": [],
   "source": []
  }
 ],
 "metadata": {
  "kernelspec": {
   "display_name": "Python 2",
   "language": "python",
   "name": "python2"
  },
  "language_info": {
   "codemirror_mode": {
    "name": "ipython",
    "version": 2
   },
   "file_extension": ".py",
   "mimetype": "text/x-python",
   "name": "python",
   "nbconvert_exporter": "python",
   "pygments_lexer": "ipython2",
   "version": "2.7.14"
  }
 },
 "nbformat": 4,
 "nbformat_minor": 2
}
