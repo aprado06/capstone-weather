{
 "cells": [
  {
   "cell_type": "markdown",
   "metadata": {},
   "source": [
    "# Purpose of this is to extract the data from Radar/Sat datasets and save it as images for pix2pix\n",
    "\n",
    "### Todo:  make this a script!"
   ]
  },
  {
   "cell_type": "code",
   "execution_count": 1,
   "metadata": {},
   "outputs": [
    {
     "name": "stdout",
     "output_type": "stream",
     "text": [
      "C:\\Users\\Sa\\Desktop\\capstone-weather\n"
     ]
    }
   ],
   "source": [
    "import numpy as np\n",
    "import matplotlib.pyplot as plt\n",
    "import pylab as pl\n",
    "import matplotlib.animation as animation\n",
    "# This is how we can import src module from sibling module\n",
    "import os, sys\n",
    "nb_dir = os.path.split(os.getcwd())[0]\n",
    "print nb_dir\n",
    "if nb_dir not in sys.path: sys.path.append(nb_dir)\n",
    "#######################\n",
    "from src import wdata\n",
    "from netCDF4 import Dataset\n",
    "import seaborn as sns;\n",
    "from src.wdata import Sat, Radar\n",
    "from skimage.transform import resize\n",
    "from sklearn.utils import shuffle\n",
    "from random import random as random "
   ]
  },
  {
   "cell_type": "code",
   "execution_count": 2,
   "metadata": {},
   "outputs": [
    {
     "name": "stderr",
     "output_type": "stream",
     "text": [
      "d:\\Anaconda2\\lib\\site-packages\\skimage\\transform\\_warps.py:84: UserWarning: The default mode, 'constant', will be changed to 'reflect' in skimage 0.15.\n",
      "  warn(\"The default mode, 'constant', will be changed to 'reflect' in \"\n"
     ]
    }
   ],
   "source": [
    "# todo: add code to automatically create directory structure where images will be saved\n",
    "savedir = os.path.abspath(\"E:/weatherFall/p2p\")\n",
    "radar_ = [i for mo in [7,8,9] for i in Radar.getMonth(2017,mo)]\n",
    "bands, radar = [], []\n",
    "sparsecount = 0\n",
    "for tup in radar_:\n",
    "    isSparse = False\n",
    "    if Radar.isSparse(tup[1], threshold=0.0175): \n",
    "        if random() > 0.05:\n",
    "            continue  # sparse images have a 5% chance of being added\n",
    "        isSparse = True\n",
    "    # get corrosponding Satelite image\n",
    "    ds2 = Sat.getSatFromRad(tup, 2)\n",
    "    ds4 = Sat.getSatFromRad(tup, 4) \n",
    "    ds6 = Sat.getSatFromRad(tup, 6) \n",
    "    if ds2 and ds4 and ds6: \n",
    "        b2,b4 = Sat.getAndClose(ds2), Sat.getAndClose(ds4)\n",
    "        b6 = Sat.getAndClose(ds6)\n",
    "#         bands.append(np.vstack((b2,b4)))\n",
    "        bands.append(np.stack((b2,b4,b6), axis=2))\n",
    "        radar.append(resize(tup[1], (52,200)))\n",
    "        if isSparse: sparsecount += 1\n",
    "\n",
    "bands, radar = shuffle(bands, radar)"
   ]
  },
  {
   "cell_type": "code",
   "execution_count": 3,
   "metadata": {
    "scrolled": false
   },
   "outputs": [
    {
     "name": "stdout",
     "output_type": "stream",
     "text": [
      "182\n",
      "182 182\n",
      "# sparse images: 16\n"
     ]
    }
   ],
   "source": [
    "size = len(bands)\n",
    "print size\n",
    "print len(bands), len(radar)\n",
    "print 'NUm of sparse images:', sparsecount"
   ]
  },
  {
   "cell_type": "code",
   "execution_count": 4,
   "metadata": {},
   "outputs": [],
   "source": [
    "def normBand(arr):\n",
    "    arr = arr - np.min(arr)\n",
    "    arr = arr / np.max(arr)\n",
    "    return arr\n",
    "bands = normBand(bands)"
   ]
  },
  {
   "cell_type": "code",
   "execution_count": 7,
   "metadata": {},
   "outputs": [
    {
     "name": "stdout",
     "output_type": "stream",
     "text": [
      "done bands\n",
      "done radar\n"
     ]
    }
   ],
   "source": [
    "def saveImgs():\n",
    "    for i,d in enumerate(bands[:size]):\n",
    "        plt.imsave(savedir+\"/A/{:>03d}.png\".format(i), d, cmap=None)\n",
    "    print \"done bands\"\n",
    "    for i,d in enumerate(radar[:size]):\n",
    "        plt.imsave(savedir+\"/B/{:>03d}.png\".format(i), d, cmap='gray', origin='lower')\n",
    "    print \"done radar\"\n",
    "saveImgs()"
   ]
  },
  {
   "cell_type": "code",
   "execution_count": null,
   "metadata": {},
   "outputs": [],
   "source": []
  }
 ],
 "metadata": {
  "kernelspec": {
   "display_name": "Python 2",
   "language": "python",
   "name": "python2"
  },
  "language_info": {
   "codemirror_mode": {
    "name": "ipython",
    "version": 2
   },
   "file_extension": ".py",
   "mimetype": "text/x-python",
   "name": "python",
   "nbconvert_exporter": "python",
   "pygments_lexer": "ipython2",
   "version": "2.7.14"
  }
 },
 "nbformat": 4,
 "nbformat_minor": 2
}
