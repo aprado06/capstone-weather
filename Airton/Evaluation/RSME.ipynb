{
 "cells": [
  {
   "cell_type": "code",
   "execution_count": 12,
   "metadata": {},
   "outputs": [],
   "source": [
    "import numpy as np\n",
    "import matplotlib.pyplot as plt\n",
    "import pylab as pl\n",
    "import matplotlib.animation as animation\n",
    "# This is how we can import src module from sibling module\n",
    "import os, sys\n",
    "nb_dir = os.path.split(os.getcwd())[0]\n",
    "if nb_dir not in sys.path: sys.path.append(nb_dir)\n",
    "#######################\n",
    "#from src import wdata\n",
    "from netCDF4 import Dataset\n",
    "import seaborn as sns;\n",
    "%matplotlib nbagg\n",
    "from skimage import io, measure, transform"
   ]
  },
  {
   "cell_type": "code",
   "execution_count": 13,
   "metadata": {
    "collapsed": true
   },
   "outputs": [],
   "source": [
    "def rgb2gray(rgb):\n",
    "    \"\"\" Only temporary. Need to use inverse of function used to save radar to RGB .pngs\"\"\"\n",
    "    return np.dot(rgb[...,:3], [0.299, 0.587, 0.114])"
   ]
  },
  {
   "cell_type": "code",
   "execution_count": 14,
   "metadata": {
    "collapsed": true
   },
   "outputs": [],
   "source": [
    "def readFolder(basedir):\n",
    "    \"\"\" \n",
    "    Read pix2pix output (test_out) and get input, output, target images\n",
    "    basedir: path to pix2pix validation output folder (i.e. 'test_out' folder)\n",
    "    \"\"\"\n",
    "    from bs4 import BeautifulSoup as bs\n",
    "    bshtml = None\n",
    "    with open(basedir+'index.html', 'rb') as f:\n",
    "        bshtml = bs(f, 'html.parser')\n",
    "    tds = bshtml.find_all('td')\n",
    "    inp, out, targ = [], [], []\n",
    "    for i in range(0,len(tds),4):\n",
    "        inp.append(tds[i+1].contents[0]['src'])\n",
    "        out.append(tds[i+2].contents[0]['src'])\n",
    "        targ.append(tds[i+3].contents[0]['src'])\n",
    "\n",
    "    inp = map(lambda x: rgb2gray(plt.imread(basedir+x)), inp)\n",
    "    out = map(lambda x: rgb2gray(plt.imread(basedir+x)), out)\n",
    "    targ = map(lambda x: rgb2gray(plt.imread(basedir+x)), targ)\n",
    "\n",
    "    return (np.array(inp), np.array(out), np.array(targ))"
   ]
  },
  {
   "cell_type": "code",
   "execution_count": 15,
   "metadata": {
    "collapsed": true
   },
   "outputs": [],
   "source": [
    "savedir = 'c:/Users/Airton/Desktop/run1eval'\n",
    "basedir = 'c:/Users/Airton/Desktop/run1/'"
   ]
  },
  {
   "cell_type": "code",
   "execution_count": 16,
   "metadata": {
    "collapsed": true
   },
   "outputs": [],
   "source": [
    "def diffL1(x,y):\n",
    "    \"\"\" L1 distance between 2 tensors \"\"\"\n",
    "    return np.sum(np.abs(x-y))*1.0/np.prod(x.shape)"
   ]
  },
  {
   "cell_type": "code",
   "execution_count": 17,
   "metadata": {
    "collapsed": true
   },
   "outputs": [],
   "source": [
    "# %matplotlib nbagg\n",
    "def pyramidL2(img1, img2, show=False):\n",
    "    \"\"\" \n",
    "    compare how similar two images are using pyrmid downscaling and RMSE \n",
    "    return: [(shape, rmse), .... ]\n",
    "    \"\"\"\n",
    "    l2s = []\n",
    "    for i,j in zip(transform.pyramid_gaussian(img1), transform.pyramid_gaussian(img2))[:6]:\n",
    "        shape, rmse = i.shape, np.sqrt(measure.compare_mse(i,j))\n",
    "        l2s.append((shape,rmse))\n",
    "        if not show: continue\n",
    "        ax, fig = plt.subplots(ncols=2,nrows=1)\n",
    "        fig[0].imshow(i,cmap='gray')\n",
    "        fig[0].set_xticks([])\n",
    "        fig[0].set_yticks([])\n",
    "        fig[1].imshow(i,cmap='gray')\n",
    "        fig[1].set_xticks([])\n",
    "        fig[1].set_yticks([])\n",
    "        ax.text(.92, 0.4, 'dim: %s'%str(shape), fontsize=18)\n",
    "        ax.text(.92, 0.6, 'RMSE: %s'%str(rmse)[:5], fontsize=18)\n",
    "        ax.subplots_adjust(left=0.1)\n",
    "#         ax.savefig(savedir+str(shape[0])+'.png', bbox_inches='tight')\n",
    "        plt.show()\n",
    "    return l2s\n",
    "  \n",
    "# print pyramidL2(out[0], targ[0], True)"
   ]
  },
  {
   "cell_type": "code",
   "execution_count": 18,
   "metadata": {
    "collapsed": true
   },
   "outputs": [],
   "source": [
    "def evaluateModel(rootpath):\n",
    "    \"\"\" use RMSE an pyrmaid method to score a pix2pix model \"\"\"\n",
    "    _, mout, mtarg = readFolder(rootpath)\n",
    "    allrmse = [pyramidL2(x,y) for x,y in zip(mout,mtarg)]\n",
    "    avgByDim = {k[0]: 0.0 for k in allrmse[0]}\n",
    "    for img in allrmse:\n",
    "        for dim,rmse in img:\n",
    "            avgByDim[dim] += rmse\n",
    "    for k in avgByDim.iterkeys():     \n",
    "        avgByDim[k] /= len(allrmse)\n",
    "    return avgByDim"
   ]
  },
  {
   "cell_type": "code",
   "execution_count": 19,
   "metadata": {},
   "outputs": [
    {
     "ename": "FileNotFoundError",
     "evalue": "[Errno 2] No such file or directory: 'c:/Users/Airton/Desktop/run1/test_out/index.html'",
     "output_type": "error",
     "traceback": [
      "\u001b[0;31m---------------------------------------------------------------------------\u001b[0m",
      "\u001b[0;31mFileNotFoundError\u001b[0m                         Traceback (most recent call last)",
      "\u001b[0;32m<ipython-input-19-397f082a9292>\u001b[0m in \u001b[0;36m<module>\u001b[0;34m()\u001b[0m\n\u001b[1;32m      1\u001b[0m \u001b[0;31m# evaluate each of our models:\u001b[0m\u001b[0;34m\u001b[0m\u001b[0;34m\u001b[0m\u001b[0m\n\u001b[0;32m----> 2\u001b[0;31m \u001b[0mrun1\u001b[0m \u001b[0;34m=\u001b[0m \u001b[0mevaluateModel\u001b[0m\u001b[0;34m(\u001b[0m\u001b[0mbasedir\u001b[0m\u001b[0;34m+\u001b[0m\u001b[0;34m'test_out/'\u001b[0m\u001b[0;34m)\u001b[0m\u001b[0;34m\u001b[0m\u001b[0m\n\u001b[0m\u001b[1;32m      3\u001b[0m \u001b[0;31m#lowerThresh2 = evaluateModel(basedir+'2lower_threshold/test_out/')\u001b[0m\u001b[0;34m\u001b[0m\u001b[0;34m\u001b[0m\u001b[0m\n\u001b[1;32m      4\u001b[0m \u001b[0;31m#bands2and4 = evaluateModel(basedir+'2and4/test_out/')\u001b[0m\u001b[0;34m\u001b[0m\u001b[0;34m\u001b[0m\u001b[0m\n\u001b[1;32m      5\u001b[0m \u001b[0;31m#band6 = evaluateModel(basedir+'6/test_out/')\u001b[0m\u001b[0;34m\u001b[0m\u001b[0;34m\u001b[0m\u001b[0m\n",
      "\u001b[0;32m<ipython-input-18-a677de9d0318>\u001b[0m in \u001b[0;36mevaluateModel\u001b[0;34m(rootpath)\u001b[0m\n\u001b[1;32m      1\u001b[0m \u001b[0;32mdef\u001b[0m \u001b[0mevaluateModel\u001b[0m\u001b[0;34m(\u001b[0m\u001b[0mrootpath\u001b[0m\u001b[0;34m)\u001b[0m\u001b[0;34m:\u001b[0m\u001b[0;34m\u001b[0m\u001b[0m\n\u001b[1;32m      2\u001b[0m     \u001b[0;34m\"\"\" use RMSE an pyrmaid method to score a pix2pix model \"\"\"\u001b[0m\u001b[0;34m\u001b[0m\u001b[0m\n\u001b[0;32m----> 3\u001b[0;31m     \u001b[0m_\u001b[0m\u001b[0;34m,\u001b[0m \u001b[0mmout\u001b[0m\u001b[0;34m,\u001b[0m \u001b[0mmtarg\u001b[0m \u001b[0;34m=\u001b[0m \u001b[0mreadFolder\u001b[0m\u001b[0;34m(\u001b[0m\u001b[0mrootpath\u001b[0m\u001b[0;34m)\u001b[0m\u001b[0;34m\u001b[0m\u001b[0m\n\u001b[0m\u001b[1;32m      4\u001b[0m     \u001b[0mallrmse\u001b[0m \u001b[0;34m=\u001b[0m \u001b[0;34m[\u001b[0m\u001b[0mpyramidL2\u001b[0m\u001b[0;34m(\u001b[0m\u001b[0mx\u001b[0m\u001b[0;34m,\u001b[0m\u001b[0my\u001b[0m\u001b[0;34m)\u001b[0m \u001b[0;32mfor\u001b[0m \u001b[0mx\u001b[0m\u001b[0;34m,\u001b[0m\u001b[0my\u001b[0m \u001b[0;32min\u001b[0m \u001b[0mzip\u001b[0m\u001b[0;34m(\u001b[0m\u001b[0mmout\u001b[0m\u001b[0;34m,\u001b[0m\u001b[0mmtarg\u001b[0m\u001b[0;34m)\u001b[0m\u001b[0;34m]\u001b[0m\u001b[0;34m\u001b[0m\u001b[0m\n\u001b[1;32m      5\u001b[0m     \u001b[0mavgByDim\u001b[0m \u001b[0;34m=\u001b[0m \u001b[0;34m{\u001b[0m\u001b[0mk\u001b[0m\u001b[0;34m[\u001b[0m\u001b[0;36m0\u001b[0m\u001b[0;34m]\u001b[0m\u001b[0;34m:\u001b[0m \u001b[0;36m0.0\u001b[0m \u001b[0;32mfor\u001b[0m \u001b[0mk\u001b[0m \u001b[0;32min\u001b[0m \u001b[0mallrmse\u001b[0m\u001b[0;34m[\u001b[0m\u001b[0;36m0\u001b[0m\u001b[0;34m]\u001b[0m\u001b[0;34m}\u001b[0m\u001b[0;34m\u001b[0m\u001b[0m\n",
      "\u001b[0;32m<ipython-input-14-3bd32cb18a10>\u001b[0m in \u001b[0;36mreadFolder\u001b[0;34m(basedir)\u001b[0m\n\u001b[1;32m      6\u001b[0m     \u001b[0;32mfrom\u001b[0m \u001b[0mbs4\u001b[0m \u001b[0;32mimport\u001b[0m \u001b[0mBeautifulSoup\u001b[0m \u001b[0;32mas\u001b[0m \u001b[0mbs\u001b[0m\u001b[0;34m\u001b[0m\u001b[0m\n\u001b[1;32m      7\u001b[0m     \u001b[0mbshtml\u001b[0m \u001b[0;34m=\u001b[0m \u001b[0;32mNone\u001b[0m\u001b[0;34m\u001b[0m\u001b[0m\n\u001b[0;32m----> 8\u001b[0;31m     \u001b[0;32mwith\u001b[0m \u001b[0mopen\u001b[0m\u001b[0;34m(\u001b[0m\u001b[0mbasedir\u001b[0m\u001b[0;34m+\u001b[0m\u001b[0;34m'index.html'\u001b[0m\u001b[0;34m,\u001b[0m \u001b[0;34m'rb'\u001b[0m\u001b[0;34m)\u001b[0m \u001b[0;32mas\u001b[0m \u001b[0mf\u001b[0m\u001b[0;34m:\u001b[0m\u001b[0;34m\u001b[0m\u001b[0m\n\u001b[0m\u001b[1;32m      9\u001b[0m         \u001b[0mbshtml\u001b[0m \u001b[0;34m=\u001b[0m \u001b[0mbs\u001b[0m\u001b[0;34m(\u001b[0m\u001b[0mf\u001b[0m\u001b[0;34m,\u001b[0m \u001b[0;34m'html.parser'\u001b[0m\u001b[0;34m)\u001b[0m\u001b[0;34m\u001b[0m\u001b[0m\n\u001b[1;32m     10\u001b[0m     \u001b[0mtds\u001b[0m \u001b[0;34m=\u001b[0m \u001b[0mbshtml\u001b[0m\u001b[0;34m.\u001b[0m\u001b[0mfind_all\u001b[0m\u001b[0;34m(\u001b[0m\u001b[0;34m'td'\u001b[0m\u001b[0;34m)\u001b[0m\u001b[0;34m\u001b[0m\u001b[0m\n",
      "\u001b[0;31mFileNotFoundError\u001b[0m: [Errno 2] No such file or directory: 'c:/Users/Airton/Desktop/run1/test_out/index.html'"
     ]
    }
   ],
   "source": [
    "# evaluate each of our models:\n",
    "run1 = evaluateModel(basedir+'test_out/')\n",
    "#lowerThresh2 = evaluateModel(basedir+'2lower_threshold/test_out/')\n",
    "#bands2and4 = evaluateModel(basedir+'2and4/test_out/')\n",
    "#band6 = evaluateModel(basedir+'6/test_out/')"
   ]
  },
  {
   "cell_type": "code",
   "execution_count": null,
   "metadata": {
    "collapsed": true
   },
   "outputs": [],
   "source": [
    "sortkeys = sorted(old2.keys())\n",
    "width = 0.1 \n",
    "plt.xticks(np.arange(6), [str(k)[1:-1].replace(', ','x').replace('L','') for k in sortkeys])\n",
    "for i, (model, desc) in enumerate(zip([old2, lowerThresh2, bands2and4, band6], ['Band 2 (non-normalized)', 'Band 2 (less-strict sparsity threshold)', 'Bands 2 and 4 (stacked)', 'Band 6'])):\n",
    "#     plt.figure()\n",
    "    plt.bar(np.arange(6)+width*i, [model[k] for k in sortkeys],width=width, label=desc)\n",
    "plt.title(\"Models RMSE by dimension (eval on test data only)\")\n",
    "plt.legend()\n",
    "plt.show()"
   ]
  }
 ],
 "metadata": {
  "kernelspec": {
   "display_name": "Python 3",
   "language": "python",
   "name": "python3"
  },
  "language_info": {
   "codemirror_mode": {
    "name": "ipython",
    "version": 3
   },
   "file_extension": ".py",
   "mimetype": "text/x-python",
   "name": "python",
   "nbconvert_exporter": "python",
   "pygments_lexer": "ipython3",
   "version": "3.6.3"
  }
 },
 "nbformat": 4,
 "nbformat_minor": 2
}
