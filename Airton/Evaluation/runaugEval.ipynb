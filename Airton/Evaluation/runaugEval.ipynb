{
 "cells": [
  {
   "cell_type": "code",
   "execution_count": 1,
   "metadata": {},
   "outputs": [],
   "source": [
    "from skimage.measure import compare_ssim as ssim\n",
    "import matplotlib.pyplot as plt\n",
    "import numpy as np\n",
    "import cv2\n",
    "from PIL import Image\n",
    "import glob"
   ]
  },
  {
   "cell_type": "code",
   "execution_count": 3,
   "metadata": {},
   "outputs": [],
   "source": [
    "runaugR = '/Users/Airton/Desktop/runaug/results/weather/test_latest/images/*real_B.png'\n",
    "runaugF = '/Users/Airton/Desktop/runaug/results/weather/test_latest/images/*fake_B.png'"
   ]
  },
  {
   "cell_type": "code",
   "execution_count": 4,
   "metadata": {},
   "outputs": [],
   "source": [
    "MSE = [] \n",
    "SSIM =[]\n",
    "\n",
    "def mse(imageA, imageB):\n",
    "    # the 'Mean Squared Error' between the two images is the\n",
    "    # sum of the squared difference between the two images;\n",
    "    # NOTE: the two images must have the same dimension\n",
    "    err = np.sum((imageA.astype(\"float\") - imageB.astype(\"float\")) ** 2)\n",
    "    err /= float(imageA.shape[0] * imageA.shape[1])\n",
    "    # return the MSE, the lower the error, the more \"similar\"\n",
    "    # the two images are\n",
    "    return err"
   ]
  },
  {
   "cell_type": "code",
   "execution_count": 5,
   "metadata": {},
   "outputs": [],
   "source": [
    "run1R = []\n",
    "for filename in sorted(glob.glob(runsl2R)):\n",
    "    im=Image.open(filename).convert('L')\n",
    "    run1R.append(im)"
   ]
  },
  {
   "cell_type": "code",
   "execution_count": 6,
   "metadata": {},
   "outputs": [],
   "source": [
    "run1F = []\n",
    "for filename in sorted(glob.glob(runsl2F)):\n",
    "    im=Image.open(filename).convert('L')\n",
    "    run1F.append(im)"
   ]
  },
  {
   "cell_type": "code",
   "execution_count": 7,
   "metadata": {},
   "outputs": [
    {
     "name": "stdout",
     "output_type": "stream",
     "text": [
      "50\n",
      "50\n"
     ]
    }
   ],
   "source": [
    "print(len(run1F))\n",
    "print(len(run1R))"
   ]
  },
  {
   "cell_type": "code",
   "execution_count": 8,
   "metadata": {},
   "outputs": [],
   "source": [
    "MSE = []\n",
    "SSIM = []\n",
    "for i in range(len(run1R)):\n",
    "    m = mse(np.array(run1R[i]),np.array(run1F[i]))\n",
    "    s = ssim(np.array(run1R[i]),np.array(run1F[i]))\n",
    "    MSE.append(m)\n",
    "    SSIM.append(s)"
   ]
  },
  {
   "cell_type": "code",
   "execution_count": 9,
   "metadata": {},
   "outputs": [],
   "source": [
    "x=list(range(0,50))"
   ]
  },
  {
   "cell_type": "code",
   "execution_count": 10,
   "metadata": {},
   "outputs": [
    {
     "data": {
      "image/png": "[encoded data removed]",
      "text/plain": [
       "<matplotlib.figure.Figure at 0x112c9aeb8>"
      ]
     },
     "metadata": {
      "needs_background": "light"
     },
     "output_type": "display_data"
    },
    {
     "name": "stdout",
     "output_type": "stream",
     "text": [
      "418.8321990966797 3741.164077758789\n",
      "2222.6345501708984\n"
     ]
    }
   ],
   "source": [
    "plt.scatter(x,MSE,c='black')\n",
    "plt.title(\" runaug MSE\")\n",
    "plt.show()\n",
    "print(min(MSE),max(MSE))\n",
    "print(np.mean(MSE))"
   ]
  },
  {
   "cell_type": "code",
   "execution_count": 11,
   "metadata": {},
   "outputs": [
    {
     "data": {
      "image/png": "[encoded data removed]",
      "text/plain": [
       "<matplotlib.figure.Figure at 0x106f6f940>"
      ]
     },
     "metadata": {
      "needs_background": "light"
     },
     "output_type": "display_data"
    },
    {
     "name": "stdout",
     "output_type": "stream",
     "text": [
      "0.6641433884606961 0.93587534824758\n",
      "0.7801584587772591\n"
     ]
    }
   ],
   "source": [
    "plt.scatter(x,SSIM,c='black')\n",
    "plt.title(\" runsaug SSIM\")\n",
    "plt.show()\n",
    "print(min(SSIM),max(SSIM))\n",
    "print(np.mean(SSIM))"
   ]
  },
  {
   "cell_type": "code",
   "execution_count": 12,
   "metadata": {},
   "outputs": [],
   "source": [
    "from sklearn.metrics import confusion_matrix"
   ]
  },
  {
   "cell_type": "code",
   "execution_count": 13,
   "metadata": {},
   "outputs": [],
   "source": [
    "Fthr = []\n",
    "Fthf = []\n",
    "for i in range(len(run1R)):\n",
    "    gray_img= np.array(run1R[i])\n",
    "    gray_img2= np.array(run1F[i])\n",
    "    th1 = cv2.threshold(gray_img,1,255,cv2.THRESH_BINARY)\n",
    "    th2 = cv2.threshold(gray_img2,1,255,cv2.THRESH_BINARY)\n",
    "    Fr = list(th1[1].flatten())\n",
    "    Ff = list(th2[1].flatten())\n",
    "    Fthr.append(Fr)\n",
    "    Fthf.append(Ff)"
   ]
  },
  {
   "cell_type": "code",
   "execution_count": 14,
   "metadata": {},
   "outputs": [],
   "source": [
    "TN,FP,FN,TP = 0,0,0,0\n",
    "TN1,FP1,FN1,TP1 = 0,0,0,0"
   ]
  },
  {
   "cell_type": "code",
   "execution_count": 15,
   "metadata": {},
   "outputs": [],
   "source": [
    "for i in range(len(Fthr)):\n",
    "    tn,fp,fn,tp=confusion_matrix(Fthr[i], Fthf[i]).ravel()\n",
    "    TN = TN +tn\n",
    "    FP = FP +fp\n",
    "    FN = FN +fn\n",
    "    TP = TP +tp"
   ]
  },
  {
   "cell_type": "code",
   "execution_count": 16,
   "metadata": {},
   "outputs": [],
   "source": [
    "Total = TN+FP+FN+TP\n",
    "TotalP = FN + TP\n",
    "TotalN = TN + FP\n",
    "PTN = (TN/Total)*100\n",
    "PFP = (FP/Total)*100\n",
    "PFN = (FN/Total)*100\n",
    "PTP = (TP/Total)*100\n",
    "To1 = FN + TN\n",
    "To2 = TP + FP"
   ]
  },
  {
   "cell_type": "code",
   "execution_count": 17,
   "metadata": {},
   "outputs": [],
   "source": [
    "PTC = []\n",
    "PTC.append([PTN,PFP,PFN,PTP])"
   ]
  },
  {
   "cell_type": "code",
   "execution_count": 18,
   "metadata": {},
   "outputs": [
    {
     "name": "stdout",
     "output_type": "stream",
     "text": [
      "Correct =  89.10189819335938  Wrong =  10.898101806640625\n"
     ]
    }
   ],
   "source": [
    "Correct = PTN + PTP\n",
    "Wrong = PFN + PFP\n",
    "print(\"Correct = \", Correct, \" Wrong = \", Wrong)"
   ]
  },
  {
   "cell_type": "code",
   "execution_count": 19,
   "metadata": {},
   "outputs": [
    {
     "data": {
      "text/plain": [
       "<matplotlib.axes._subplots.AxesSubplot at 0x1c2aa720f0>"
      ]
     },
     "execution_count": 19,
     "metadata": {},
     "output_type": "execute_result"
    },
    {
     "data": {
      "image/png": "[encoded data removed]",
      "text/plain": [
       "<matplotlib.figure.Figure at 0x1c292c3400>"
      ]
     },
     "metadata": {},
     "output_type": "display_data"
    }
   ],
   "source": [
    "import seaborn as sn\n",
    "import pandas as pd\n",
    "import matplotlib.pyplot as plt\n",
    "\n",
    "array = [[PTN,PFP],\n",
    "        [PFN,PTP]]        \n",
    "df_cm = pd.DataFrame(array, range(2),\n",
    "                  range(2))\n",
    "sn.set(font_scale=1.4)#for label size\n",
    "sn.heatmap(df_cm, annot=True,annot_kws={\"size\": 16})# font size"
   ]
  },
  {
   "cell_type": "code",
   "execution_count": 20,
   "metadata": {},
   "outputs": [
    {
     "data": {
      "text/plain": [
       "<matplotlib.axes._subplots.AxesSubplot at 0x1c2aaa0240>"
      ]
     },
     "execution_count": 20,
     "metadata": {},
     "output_type": "execute_result"
    },
    {
     "data": {
      "image/png": "[encoded data removed]",
      "text/plain": [
       "<matplotlib.figure.Figure at 0x1c2aab9898>"
      ]
     },
     "metadata": {},
     "output_type": "display_data"
    }
   ],
   "source": [
    "import seaborn as sn\n",
    "import pandas as pd\n",
    "import matplotlib.pyplot as plt\n",
    "\n",
    "array = [[TN/TotalN,FP/TotalN],\n",
    "        [FN/TotalP,TP/TotalP]]        \n",
    "df_cm = pd.DataFrame(array, range(2),\n",
    "                  range(2))\n",
    "sn.set(font_scale=1.4)#for label size\n",
    "sn.heatmap(df_cm, annot=True,annot_kws={\"size\": 16})# font size"
   ]
  },
  {
   "cell_type": "code",
   "execution_count": null,
   "metadata": {},
   "outputs": [],
   "source": []
  }
 ],
 "metadata": {
  "kernelspec": {
   "display_name": "Python 3",
   "language": "python",
   "name": "python3"
  },
  "language_info": {
   "codemirror_mode": {
    "name": "ipython",
    "version": 3
   },
   "file_extension": ".py",
   "mimetype": "text/x-python",
   "name": "python",
   "nbconvert_exporter": "python",
   "pygments_lexer": "ipython3",
   "version": "3.6.3"
  }
 },
 "nbformat": 4,
 "nbformat_minor": 2
}
