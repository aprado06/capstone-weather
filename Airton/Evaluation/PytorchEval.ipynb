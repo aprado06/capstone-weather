{
 "cells": [
  {
   "cell_type": "code",
   "execution_count": 1,
   "metadata": {},
   "outputs": [],
   "source": [
    "from skimage.measure import compare_ssim as ssim\n",
    "import matplotlib.pyplot as plt\n",
    "import numpy as np\n",
    "import cv2\n",
    "from PIL import Image\n",
    "import glob"
   ]
  },
  {
   "cell_type": "code",
   "execution_count": 9,
   "metadata": {},
   "outputs": [],
   "source": [
    "MSE = [] \n",
    "SSIM =[]\n",
    "\n",
    "def mse(imageA, imageB):\n",
    "    # the 'Mean Squared Error' between the two images is the\n",
    "    # sum of the squared difference between the two images;\n",
    "    # NOTE: the two images must have the same dimension\n",
    "    err = np.sum((imageA.astype(\"float\") - imageB.astype(\"float\")) ** 2)\n",
    "    err /= float(imageA.shape[0] * imageA.shape[1])\n",
    "    # return the MSE, the lower the error, the more \"similar\"\n",
    "    # the two images are\n",
    "    return err\n",
    " \n",
    "def compare_images(imageA, imageB, title):\n",
    "    # compute the mean squared error and structural similarity\n",
    "    # index for the images\n",
    "    m = mse(imageA, imageB)\n",
    "    s = ssim(imageA, imageB)\n",
    "    #MSE.append(m)\n",
    "    #SSIM.append(s)\n",
    "    # setup the figure\n",
    "    fig = plt.figure(title)\n",
    "    plt.suptitle(\"MSE: %.2f, SSIM: %.2f\" % (m, s))\n",
    "    # show first image\n",
    "    ax = fig.add_subplot(1, 2, 1)\n",
    "    plt.imshow(imageA, cmap = plt.cm.gray)\n",
    "    plt.axis(\"off\")\n",
    "    # show the second image\n",
    "    ax = fig.add_subplot(1, 2, 2)\n",
    "    plt.imshow(imageB, cmap = plt.cm.gray)\n",
    "    plt.axis(\"off\")\n",
    "    # show the images\n",
    "    plt.show()"
   ]
  },
  {
   "cell_type": "code",
   "execution_count": null,
   "metadata": {},
   "outputs": [],
   "source": [
    "# load the images -- the original, the original + contrast,\n",
    "# and the original + photoshop\n",
    "original = cv2.imread(\"results/042912A1_real_B.png\")\n",
    "output = cv2.imread(\"results/042912A1_fake_B.png\")\n",
    " \n",
    "# convert the images to grayscale\n",
    "original = cv2.cvtColor(original, cv2.COLOR_BGR2GRAY)\n",
    "output = cv2.cvtColor(output, cv2.COLOR_BGR2GRAY)"
   ]
  },
  {
   "cell_type": "code",
   "execution_count": null,
   "metadata": {},
   "outputs": [],
   "source": [
    "# initialize the figure\n",
    "fig = plt.figure(\"Images\")\n",
    "images = (\"Original\", original), (\"Output\", output)\n",
    " \n",
    "# loop over the images\n",
    "for (i, (name, image)) in enumerate(images):\n",
    "    # show the image\n",
    "    ax = fig.add_subplot(1, 2, i + 1)\n",
    "    ax.set_title(name)\n",
    "    plt.imshow(image, cmap = plt.cm.gray)\n",
    "    plt.axis(\"off\")\n",
    "# show the figure\n",
    "plt.show()\n",
    "# compare the images\n",
    "#compare_images(original, original, \"Original vs. Original\")\n",
    "compare_images(original, output, \"Original vs. Output\")"
   ]
  },
  {
   "cell_type": "code",
   "execution_count": null,
   "metadata": {},
   "outputs": [],
   "source": [
    "image3 = cv2.subtract(output,original)\n",
    "plt.imshow(image3, cmap = plt.cm.gray)\n",
    "plt.title(\"Difference\")\n",
    "plt.show()"
   ]
  },
  {
   "cell_type": "code",
   "execution_count": null,
   "metadata": {},
   "outputs": [],
   "source": [
    "from os import listdir\n",
    "from os.path import isfile, join\n",
    "import numpy\n",
    "import cv2\n",
    "\n",
    "mypath='results'\n",
    "onlyfiles = [ f for f in listdir(mypath) if isfile(join(mypath,f)) ]\n",
    "images = numpy.empty(len(onlyfiles), dtype=object)\n",
    "for n in range(0, len(onlyfiles)):\n",
    "  images[n] = cv2.imread( join(mypath,onlyfiles[n]) )"
   ]
  },
  {
   "cell_type": "code",
   "execution_count": null,
   "metadata": {},
   "outputs": [],
   "source": [
    "plt.imshow(images[1])\n",
    "plt.show()"
   ]
  },
  {
   "cell_type": "code",
   "execution_count": null,
   "metadata": {},
   "outputs": [],
   "source": [
    "import cv2\n",
    "import glob\n",
    "\n",
    "images = [cv2.imread(file) for file in glob.glob('Real/*.png')]\n",
    "images2 = [cv2.imread(file) for file in glob.glob('fake/*.png')]"
   ]
  },
  {
   "cell_type": "code",
   "execution_count": null,
   "metadata": {},
   "outputs": [],
   "source": [
    "plt.imshow(images[1])\n",
    "plt.show()"
   ]
  },
  {
   "cell_type": "code",
   "execution_count": null,
   "metadata": {},
   "outputs": [],
   "source": [
    "plt.imshow(images2[46])\n",
    "plt.show()"
   ]
  },
  {
   "cell_type": "code",
   "execution_count": null,
   "metadata": {},
   "outputs": [],
   "source": [
    "print(MSE)\n",
    "print(SSIM)"
   ]
  },
  {
   "cell_type": "code",
   "execution_count": null,
   "metadata": {},
   "outputs": [],
   "source": [
    "#MSE.pop(-1)\n",
    "#SSIM.pop(-1)"
   ]
  },
  {
   "cell_type": "code",
   "execution_count": 27,
   "metadata": {},
   "outputs": [
    {
     "name": "stdout",
     "output_type": "stream",
     "text": [
      "49\n",
      "49\n"
     ]
    }
   ],
   "source": [
    "print(len(MSE))\n",
    "print(len(SSIM))\n",
    "x=list(range(0,50))"
   ]
  },
  {
   "cell_type": "code",
   "execution_count": null,
   "metadata": {},
   "outputs": [],
   "source": [
    "plt.scatter(x,MSE)\n",
    "plt.title(\"MSE\")\n",
    "plt.show()\n",
    "print(min(MSE),max(MSE))\n",
    "print(np.mean(MSE))\n",
    "print(MSE.index(538.8857879638672))"
   ]
  },
  {
   "cell_type": "code",
   "execution_count": null,
   "metadata": {},
   "outputs": [],
   "source": [
    "plt.scatter(x,SSIM)\n",
    "plt.title(\"SSIM\")\n",
    "plt.show()\n",
    "print(min(SSIM),max(SSIM))\n",
    "print(np.mean(SSIM))\n",
    "print(SSIM.index(0.6739305878492471))"
   ]
  },
  {
   "cell_type": "code",
   "execution_count": null,
   "metadata": {},
   "outputs": [],
   "source": [
    "from sklearn.metrics import confusion_matrix\n",
    "y_actu = original\n",
    "y_pred = output\n",
    "confusion_matrix(y_actu, y_pred)"
   ]
  },
  {
   "cell_type": "markdown",
   "metadata": {},
   "source": [
    "# Evaluation Run 1"
   ]
  },
  {
   "cell_type": "code",
   "execution_count": 3,
   "metadata": {},
   "outputs": [],
   "source": [
    "run1R = []\n",
    "for filename in sorted(glob.glob('/Users/Airton/Desktop/Data/B/*B1.png')):\n",
    "    im=Image.open(filename).convert('L')\n",
    "    run1R.append(im)"
   ]
  },
  {
   "cell_type": "code",
   "execution_count": 4,
   "metadata": {},
   "outputs": [],
   "source": [
    "run1F = []\n",
    "for filename in sorted(glob.glob('/Users/Airton/Desktop/Data/F/*B.png')):\n",
    "    im=Image.open(filename).convert('L')\n",
    "    run1F.append(im)"
   ]
  },
  {
   "cell_type": "code",
   "execution_count": 5,
   "metadata": {},
   "outputs": [
    {
     "name": "stdout",
     "output_type": "stream",
     "text": [
      "49\n",
      "49\n"
     ]
    }
   ],
   "source": [
    "print(len(run1F))\n",
    "print(len(run1R))"
   ]
  },
  {
   "cell_type": "code",
   "execution_count": 6,
   "metadata": {},
   "outputs": [
    {
     "data": {
      "image/png": "[encoded data removed]",
      "text/plain": [
       "<matplotlib.figure.Figure at 0x1c19ff76a0>"
      ]
     },
     "metadata": {
      "needs_background": "light"
     },
     "output_type": "display_data"
    }
   ],
   "source": [
    "plt.imshow(np.array(run1R[0]),cmap='gray')\n",
    "plt.show()"
   ]
  },
  {
   "cell_type": "code",
   "execution_count": 7,
   "metadata": {},
   "outputs": [
    {
     "data": {
      "image/png": "[encoded data removed]",
      "text/plain": [
       "<matplotlib.figure.Figure at 0x1c1a047f60>"
      ]
     },
     "metadata": {
      "needs_background": "light"
     },
     "output_type": "display_data"
    }
   ],
   "source": [
    "plt.imshow(np.array(run1F[0]),cmap='gray')\n",
    "plt.show()"
   ]
  },
  {
   "cell_type": "code",
   "execution_count": 10,
   "metadata": {},
   "outputs": [],
   "source": [
    "MSE = []\n",
    "SSIM = []\n",
    "for i in range(len(run1R)):\n",
    "    m = mse(np.array(run1R[i]),np.array(run1F[i]))\n",
    "    s = ssim(np.array(run1R[i]),np.array(run1F[i]))\n",
    "    MSE.append(m)\n",
    "    SSIM.append(s)"
   ]
  },
  {
   "cell_type": "code",
   "execution_count": 11,
   "metadata": {},
   "outputs": [
    {
     "name": "stdout",
     "output_type": "stream",
     "text": [
      "[287.16587829589844, 84.21824645996094, 19.811355590820312, 79.10015869140625, 248.61802673339844, 190.52401733398438, 95.91621398925781, 95.04197692871094, 83.30058288574219, 235.05567932128906, 87.30947875976562, 33.26164245605469, 92.66152954101562, 73.02433776855469, 269.8690185546875, 154.45928955078125, 142.0358123779297, 244.41551208496094, 15.081588745117188, 30.872467041015625, 65.31134033203125, 272.52813720703125, 239.85543823242188, 546.5882568359375, 264.49644470214844, 113.66316223144531, 68.93101501464844, 153.1437530517578, 215.7307891845703, 57.76951599121094, 28.980056762695312, 68.11952209472656, 91.24888610839844, 101.51716613769531, 73.75254821777344, 85.79736328125, 73.95645141601562, 18.029541015625, 15.525466918945312, 57.57283020019531, 87.74534606933594, 23.288558959960938, 6.5163421630859375, 11.164718627929688, 45.18894958496094, 79.20207214355469, 137.1333770751953, 13.191680908203125, 2.8973541259765625]\n"
     ]
    }
   ],
   "source": [
    "print(MSE)"
   ]
  },
  {
   "cell_type": "code",
   "execution_count": 12,
   "metadata": {},
   "outputs": [
    {
     "name": "stdout",
     "output_type": "stream",
     "text": [
      "[0.7437068610348295, 0.8071453514257659, 0.9837102950110285, 0.9129537660826379, 0.9551020992514005, 0.873711178384792, 0.9382046579151267, 0.9491299565581864, 0.85727883182708, 0.8120644751395141, 0.8341371113125, 0.8871020565825969, 0.8665119956138096, 0.8315476572663726, 0.7989430610890856, 0.894597950326306, 0.8534496403868042, 0.8264230530170565, 0.9813537508064732, 0.9400379716528204, 0.8941990391731413, 0.7734515438691084, 0.8616597204122277, 0.6709810432890365, 0.7047206038841652, 0.7801943657411768, 0.9761295258973006, 0.9112453373245212, 0.777529462120188, 0.8696586878034552, 0.9768122799051431, 0.8946506011183564, 0.9019513938650235, 0.8688535614864157, 0.8746286395674359, 0.8542319509444883, 0.8595900951403771, 0.968902281709867, 0.9402456959622062, 0.9384375035747177, 0.884322459131753, 0.9606513086284929, 0.9845614345085079, 0.9862179089522979, 0.9100885346085608, 0.8927482896803551, 0.8737293523730307, 0.9779117009981616, 0.9937564653520228]\n"
     ]
    }
   ],
   "source": [
    "print(SSIM)"
   ]
  },
  {
   "cell_type": "code",
   "execution_count": 13,
   "metadata": {},
   "outputs": [],
   "source": [
    "x1=list(range(0,49))"
   ]
  },
  {
   "cell_type": "code",
   "execution_count": 14,
   "metadata": {
    "scrolled": true
   },
   "outputs": [
    {
     "data": {
      "image/png": "[encoded data removed]",
      "text/plain": [
       "<matplotlib.figure.Figure at 0x1c223a8780>"
      ]
     },
     "metadata": {
      "needs_background": "light"
     },
     "output_type": "display_data"
    },
    {
     "name": "stdout",
     "output_type": "stream",
     "text": [
      "2.8973541259765625 546.5882568359375\n",
      "113.88956934091996\n"
     ]
    }
   ],
   "source": [
    "plt.scatter(x1,MSE,c='black')\n",
    "plt.title(\"OLD MSE\")\n",
    "plt.show()\n",
    "print(min(MSE),max(MSE))\n",
    "print(np.mean(MSE))"
   ]
  },
  {
   "cell_type": "code",
   "execution_count": 15,
   "metadata": {},
   "outputs": [
    {
     "data": {
      "image/png": "[encoded data removed]",
      "text/plain": [
       "<matplotlib.figure.Figure at 0x1c223a83c8>"
      ]
     },
     "metadata": {
      "needs_background": "light"
     },
     "output_type": "display_data"
    },
    {
     "name": "stdout",
     "output_type": "stream",
     "text": [
      "0.6709810432890365 0.9937564653520228\n",
      "0.8838606634225659\n"
     ]
    }
   ],
   "source": [
    "plt.scatter(x1,SSIM,c='black')\n",
    "plt.title(\"OLD SSIM\")\n",
    "plt.show()\n",
    "print(min(SSIM),max(SSIM))\n",
    "print(np.mean(SSIM))"
   ]
  },
  {
   "cell_type": "markdown",
   "metadata": {},
   "source": [
    "# Evaluation Run 2"
   ]
  },
  {
   "cell_type": "code",
   "execution_count": 16,
   "metadata": {},
   "outputs": [],
   "source": [
    "from PIL import Image\n",
    "import glob\n",
    "image_listA1 = []\n",
    "\n",
    "for filename in sorted(glob.glob('/Users/Airton/Desktop/images/*real_B.png')):\n",
    "    im=Image.open(filename).convert('L')\n",
    "    image_listA1.append(im)"
   ]
  },
  {
   "cell_type": "code",
   "execution_count": 17,
   "metadata": {},
   "outputs": [],
   "source": [
    "image_listA2 = []\n",
    "\n",
    "for filename in sorted(glob.glob('/Users/Airton/Desktop/images/*fake_B.png')):\n",
    "    im=Image.open(filename).convert('L')\n",
    "    image_listA2.append(im)"
   ]
  },
  {
   "cell_type": "code",
   "execution_count": 18,
   "metadata": {},
   "outputs": [
    {
     "data": {
      "image/png": "[encoded data removed]",
      "text/plain": [
       "<matplotlib.figure.Figure at 0x1c1f0916d8>"
      ]
     },
     "metadata": {
      "needs_background": "light"
     },
     "output_type": "display_data"
    }
   ],
   "source": [
    "plt.imshow(np.array(image_listA1[0]),cmap='gray')\n",
    "plt.show()"
   ]
  },
  {
   "cell_type": "code",
   "execution_count": 19,
   "metadata": {},
   "outputs": [
    {
     "data": {
      "image/png": "[encoded data removed]",
      "text/plain": [
       "<matplotlib.figure.Figure at 0x1c223d96a0>"
      ]
     },
     "metadata": {
      "needs_background": "light"
     },
     "output_type": "display_data"
    }
   ],
   "source": [
    "plt.imshow(np.array(image_listA2[0]),cmap='gray')\n",
    "plt.show()"
   ]
  },
  {
   "cell_type": "code",
   "execution_count": 20,
   "metadata": {},
   "outputs": [
    {
     "name": "stdout",
     "output_type": "stream",
     "text": [
      "[[0 0 0 ... 0 0 0]\n",
      " [0 0 0 ... 0 0 0]\n",
      " [0 0 0 ... 0 0 0]\n",
      " ...\n",
      " [0 0 0 ... 0 0 0]\n",
      " [0 0 0 ... 0 0 0]\n",
      " [0 0 0 ... 0 0 0]]\n"
     ]
    }
   ],
   "source": [
    "print(np.array(image_listA1[1]))"
   ]
  },
  {
   "cell_type": "code",
   "execution_count": 21,
   "metadata": {},
   "outputs": [
    {
     "data": {
      "text/plain": [
       "131.75535583496094"
      ]
     },
     "execution_count": 21,
     "metadata": {},
     "output_type": "execute_result"
    }
   ],
   "source": [
    "mse(np.array(image_listA1[0]),np.array(image_listA2[0]))"
   ]
  },
  {
   "cell_type": "code",
   "execution_count": 22,
   "metadata": {},
   "outputs": [
    {
     "data": {
      "text/plain": [
       "0.8104632798835872"
      ]
     },
     "execution_count": 22,
     "metadata": {},
     "output_type": "execute_result"
    }
   ],
   "source": [
    "ssim(np.array(image_listA1[0]),np.array(image_listA2[0]))"
   ]
  },
  {
   "cell_type": "code",
   "execution_count": 23,
   "metadata": {},
   "outputs": [],
   "source": [
    "MSE1 = []\n",
    "SSIM1 = []\n",
    "for i in range(len(image_listA1)):\n",
    "    m = mse(np.array(image_listA1[i]),np.array(image_listA2[i]))\n",
    "    s = ssim(np.array(image_listA1[i]),np.array(image_listA2[i]))\n",
    "    MSE1.append(m)\n",
    "    SSIM1.append(s)"
   ]
  },
  {
   "cell_type": "code",
   "execution_count": 24,
   "metadata": {
    "scrolled": true
   },
   "outputs": [
    {
     "name": "stdout",
     "output_type": "stream",
     "text": [
      "[131.75535583496094, 128.32083129882812, 69.33480834960938, 114.59130859375, 89.13592529296875, 67.87240600585938, 57.55235290527344, 171.2384033203125, 97.76322937011719, 237.75119018554688, 104.62367248535156, 131.8997039794922, 253.30491638183594, 336.6425323486328, 70.82469177246094, 123.17013549804688, 234.21791076660156, 236.73719787597656, 91.84942626953125, 180.93370056152344, 145.58056640625, 121.31417846679688, 187.21107482910156, 133.6106719970703, 67.7845458984375, 139.74612426757812, 194.86944580078125, 108.96170043945312, 240.7487335205078, 220.95169067382812, 44.23155212402344, 93.37855529785156, 48.247711181640625, 95.86820983886719, 90.55743408203125, 54.49314880371094, 54.97406005859375, 132.14451599121094, 266.36192321777344, 83.51454162597656, 76.66363525390625, 64.85169982910156, 76.46852111816406, 53.82099914550781, 80.19471740722656, 78.26194763183594, 87.31692504882812, 95.97132873535156, 70.13563537597656, 66.52210998535156]\n"
     ]
    }
   ],
   "source": [
    "print(MSE1)"
   ]
  },
  {
   "cell_type": "code",
   "execution_count": 25,
   "metadata": {},
   "outputs": [
    {
     "name": "stdout",
     "output_type": "stream",
     "text": [
      "[0.8104632798835872, 0.8535117162736573, 0.8855115975865853, 0.8902430992358322, 0.9394917365097974, 0.9242491567038903, 0.8768515333824127, 0.812580623912952, 0.8188276059137682, 0.8175244177886716, 0.8259112337374741, 0.9047978671128555, 0.8406196460999114, 0.7837364807633057, 0.9320692566585123, 0.8405247960556614, 0.8325131697646739, 0.8595529478034779, 0.884856592903737, 0.896809996149835, 0.9052669709922877, 0.9399207618331472, 0.9421902335477637, 0.877513221454988, 0.9070514138059843, 0.8810404579129129, 0.868186609744865, 0.8670870723501989, 0.9384512278235828, 0.927817415600871, 0.9374138185184946, 0.8475335835687211, 0.9381923930180402, 0.8765649212393849, 0.864082187428482, 0.8588142928774155, 0.8510165640971319, 0.8850354822783771, 0.8102374331864155, 0.8858675543254779, 0.8914394526780313, 0.8966355385214372, 0.8789174327734545, 0.8250067113762914, 0.826033005532922, 0.8464971360475726, 0.8599425514481859, 0.8224819375393518, 0.8516684189670409, 0.8739519403777976]\n"
     ]
    }
   ],
   "source": [
    "print(SSIM1)"
   ]
  },
  {
   "cell_type": "code",
   "execution_count": 28,
   "metadata": {},
   "outputs": [
    {
     "data": {
      "image/png": "[encoded data removed]",
      "text/plain": [
       "<matplotlib.figure.Figure at 0x1c22444cf8>"
      ]
     },
     "metadata": {
      "needs_background": "light"
     },
     "output_type": "display_data"
    },
    {
     "name": "stdout",
     "output_type": "stream",
     "text": [
      "44.23155212402344 336.6425323486328\n",
      "124.08555206298828\n"
     ]
    }
   ],
   "source": [
    "plt.scatter(x,MSE1,c='black')\n",
    "plt.title(\" NEW MSE\")\n",
    "plt.show()\n",
    "print(min(MSE1),max(MSE1))\n",
    "print(np.mean(MSE1))"
   ]
  },
  {
   "cell_type": "code",
   "execution_count": 29,
   "metadata": {},
   "outputs": [
    {
     "data": {
      "image/png": "[encoded data removed]",
      "text/plain": [
       "<matplotlib.figure.Figure at 0x1c22476f98>"
      ]
     },
     "metadata": {
      "needs_background": "light"
     },
     "output_type": "display_data"
    },
    {
     "name": "stdout",
     "output_type": "stream",
     "text": [
      "0.7837364807633057 0.9421902335477637\n",
      "0.8722500899021446\n"
     ]
    }
   ],
   "source": [
    "plt.scatter(x,SSIM1,c='black')\n",
    "plt.title(\" NEW SSIM\")\n",
    "plt.show()\n",
    "print(min(SSIM1),max(SSIM1))\n",
    "print(np.mean(SSIM1))"
   ]
  },
  {
   "cell_type": "code",
   "execution_count": 30,
   "metadata": {},
   "outputs": [
    {
     "data": {
      "image/png": "[encoded data removed]",
      "text/plain": [
       "<matplotlib.figure.Figure at 0x1c22512160>"
      ]
     },
     "metadata": {
      "needs_background": "light"
     },
     "output_type": "display_data"
    },
    {
     "data": {
      "image/png": "[encoded data removed]",
      "text/plain": [
       "<matplotlib.figure.Figure at 0x1c224ffac8>"
      ]
     },
     "metadata": {
      "needs_background": "light"
     },
     "output_type": "display_data"
    }
   ],
   "source": [
    "original = np.array(image_listA1[0])\n",
    "output = np.array(image_listA2[0])\n",
    "# initialize the figure\n",
    "fig = plt.figure(\"Images\")\n",
    "images = (\"Original\", original), (\"Output\", output)\n",
    " \n",
    "# loop over the images\n",
    "for (i, (name, image)) in enumerate(images):\n",
    "    # show the image\n",
    "    ax = fig.add_subplot(1, 2, i + 1)\n",
    "    ax.set_title(name)\n",
    "    plt.imshow(image, cmap = plt.cm.gray)\n",
    "    plt.axis(\"off\")\n",
    "# show the figure\n",
    "plt.show()\n",
    "# compare the images\n",
    "#compare_images(original, original, \"Original vs. Original\")\n",
    "compare_images(original, output, \"Original vs. Output\")"
   ]
  },
  {
   "cell_type": "markdown",
   "metadata": {},
   "source": [
    "# Confusion Matrix"
   ]
  },
  {
   "cell_type": "code",
   "execution_count": 31,
   "metadata": {},
   "outputs": [],
   "source": [
    "from sklearn.metrics import confusion_matrix"
   ]
  },
  {
   "cell_type": "code",
   "execution_count": 32,
   "metadata": {},
   "outputs": [],
   "source": [
    "Fthr = []\n",
    "Fthf = []\n",
    "for i in range(len(image_listA1)):\n",
    "    gray_img= np.array(image_listA1[i])\n",
    "    gray_img2= np.array(image_listA2[i])\n",
    "    th1 = cv2.threshold(gray_img,1,255,cv2.THRESH_BINARY)\n",
    "    th2 = cv2.threshold(gray_img2,1,255,cv2.THRESH_BINARY)\n",
    "    Fr = list(th1[1].flatten())\n",
    "    Ff = list(th2[1].flatten())\n",
    "    Fthr.append(Fr)\n",
    "    Fthf.append(Ff)"
   ]
  },
  {
   "cell_type": "code",
   "execution_count": null,
   "metadata": {},
   "outputs": [],
   "source": [
    "plt.imshow(Thr[0][1],cmap = 'gray')\n",
    "plt.show()"
   ]
  },
  {
   "cell_type": "code",
   "execution_count": null,
   "metadata": {},
   "outputs": [],
   "source": [
    "plt.imshow(Thf[0][1],cmap = 'gray')\n",
    "plt.show()"
   ]
  },
  {
   "cell_type": "code",
   "execution_count": null,
   "metadata": {},
   "outputs": [],
   "source": [
    "Fthr = []\n",
    "Fthf = []\n",
    "for i in range(len(Thr)):\n",
    "    Fr = list(Thr[i][1].flatten())\n",
    "    Ff = list(Thf[i][1].flatten())\n",
    "    Fthr.append(Fr)\n",
    "    Fthf.append(Ff)"
   ]
  },
  {
   "cell_type": "code",
   "execution_count": 33,
   "metadata": {},
   "outputs": [],
   "source": [
    "TN,FP,FN,TP = 0,0,0,0\n",
    "TN1,FP1,FN1,TP1 = 0,0,0,0"
   ]
  },
  {
   "cell_type": "code",
   "execution_count": null,
   "metadata": {},
   "outputs": [],
   "source": [
    "print(Fthr[1])"
   ]
  },
  {
   "cell_type": "code",
   "execution_count": 34,
   "metadata": {},
   "outputs": [],
   "source": [
    "for i in range(len(Fthr)):\n",
    "    tn,fp,fn,tp=confusion_matrix(Fthr[i], Fthf[i]).ravel()\n",
    "    TN = TN+tn\n",
    "    FP = FP +fp\n",
    "    FN = FN +fn\n",
    "    TP = TP +tp"
   ]
  },
  {
   "cell_type": "code",
   "execution_count": null,
   "metadata": {},
   "outputs": [],
   "source": [
    "print(\"            \", \"True-\", \"False+\", \"False-\", \"True+\")\n",
    "print(\"Old run:   \", 2829160, 87329, 141761, 153014)\n",
    "print(\"New run:   \",TN,FP,FN,TP)\n",
    "print(\"Difference: \",TN-2829160, FP-87329, FN-141761, TP-153014)"
   ]
  },
  {
   "cell_type": "markdown",
   "metadata": {},
   "source": [
    "Old run:    2829160 87329 141761 153014\n",
    "New run:    2813072 143918 93857 225953\n",
    "Difference:  -16088 56589 -47904 72939"
   ]
  },
  {
   "cell_type": "code",
   "execution_count": 45,
   "metadata": {},
   "outputs": [],
   "source": [
    "Fthr1 = []\n",
    "Fthf1 = []\n",
    "for i in range(len(run1R)):\n",
    "    gray_img= np.array(run1R[i])\n",
    "    gray_img2= np.array(run1F[i])\n",
    "    th1 = cv2.threshold(gray_img,1,255,cv2.THRESH_BINARY)\n",
    "    th2 = cv2.threshold(gray_img2,1,255,cv2.THRESH_BINARY)\n",
    "    Fr = list(th1[1].flatten())\n",
    "    Ff = list(th2[1].flatten())\n",
    "    Fthr1.append(Fr)\n",
    "    Fthf1.append(Ff)"
   ]
  },
  {
   "cell_type": "code",
   "execution_count": 46,
   "metadata": {},
   "outputs": [],
   "source": [
    "for i in range(len(Fthr1)):\n",
    "    tn,fp,fn,tp=confusion_matrix(Fthr1[i], Fthf1[i]).ravel()\n",
    "    TN1 = TN1 +tn\n",
    "    FP1 = FP1 +fp\n",
    "    FN1 = FN1 +fn\n",
    "    TP1 = TP1 +tp"
   ]
  },
  {
   "cell_type": "code",
   "execution_count": null,
   "metadata": {},
   "outputs": [],
   "source": [
    "print(\"             \", \"TN\", \"   \", \"FP\",\"   \", \"FN\",\"   \", \"TP\")\n",
    "print(\"Old run:    \",TN1,FP1,FN1,TP1)\n",
    "print(\"New run:    \",TN,FP,FN,TP)\n",
    "print(\"Difference: \",TN-TN1, FP-FP1, FN-FN1, TP-TP1)"
   ]
  },
  {
   "cell_type": "code",
   "execution_count": 47,
   "metadata": {},
   "outputs": [],
   "source": [
    "Total = TN+FP+FN+TP\n",
    "Total1 = TN1+FP1+FN1+TP1"
   ]
  },
  {
   "cell_type": "code",
   "execution_count": 48,
   "metadata": {},
   "outputs": [
    {
     "name": "stdout",
     "output_type": "stream",
     "text": [
      "Old run %:     90.57727735869739 2.0966977489237886 3.7869667520328445 3.5390581403459818\n",
      "New run %:     85.84814453125 4.39202880859375 2.864288330078125 6.895538330078126\n"
     ]
    }
   ],
   "source": [
    "print(\"Old run %:    \",(TN1/Total1)*100,(FP1/Total1)*100,(FN1/Total1)*100,(TP1/Total1)*100)\n",
    "print(\"New run %:    \",(TN/Total)*100,(FP/Total)*100,(FN/Total)*100,(TP/Total)*100)"
   ]
  },
  {
   "cell_type": "code",
   "execution_count": 49,
   "metadata": {},
   "outputs": [],
   "source": [
    "PTN = (TN/Total)*100\n",
    "PFP = (FP/Total)*100\n",
    "PFN = (FN/Total)*100\n",
    "PTP = (TP/Total)*100"
   ]
  },
  {
   "cell_type": "code",
   "execution_count": 50,
   "metadata": {},
   "outputs": [
    {
     "name": "stdout",
     "output_type": "stream",
     "text": [
      "Correct =  92.74368286132812  Wrong =  7.256317138671875\n"
     ]
    }
   ],
   "source": [
    "Correct = PTN + PTP\n",
    "Wrong = PFN + PFP\n",
    "print(\"Correct = \", Correct, \" Wrong = \", Wrong)"
   ]
  },
  {
   "cell_type": "code",
   "execution_count": 51,
   "metadata": {},
   "outputs": [],
   "source": [
    "PTN1 = (TN1/Total1)*100\n",
    "PFP1 = (FP1/Total1)*100\n",
    "PFN1 = (FN1/Total1)*100\n",
    "PTP1 = (TP1/Total1)*100"
   ]
  },
  {
   "cell_type": "code",
   "execution_count": 52,
   "metadata": {},
   "outputs": [
    {
     "name": "stdout",
     "output_type": "stream",
     "text": [
      "Correct =  94.11633549904337  Wrong =  5.883664500956633\n"
     ]
    }
   ],
   "source": [
    "Correct = PTN1 + PTP1\n",
    "Wrong = PFN1 + PFP1\n",
    "print(\"Correct = \", Correct, \" Wrong = \", Wrong)"
   ]
  },
  {
   "cell_type": "code",
   "execution_count": 53,
   "metadata": {},
   "outputs": [
    {
     "data": {
      "text/plain": [
       "<matplotlib.axes._subplots.AxesSubplot at 0x1c3e09aa90>"
      ]
     },
     "execution_count": 53,
     "metadata": {},
     "output_type": "execute_result"
    },
    {
     "data": {
      "image/png": "[encoded data removed]",
      "text/plain": [
       "<matplotlib.figure.Figure at 0x1c3dff0eb8>"
      ]
     },
     "metadata": {},
     "output_type": "display_data"
    }
   ],
   "source": [
    "import seaborn as sn\n",
    "import pandas as pd\n",
    "import matplotlib.pyplot as plt\n",
    "\n",
    "array = [[PTN,PFN],\n",
    "        [PFP,PTP]]        \n",
    "df_cm = pd.DataFrame(array, range(2),\n",
    "                  range(2))\n",
    "sn.set(font_scale=1.4)#for label size\n",
    "sn.heatmap(df_cm, annot=True,annot_kws={\"size\": 16})# font size"
   ]
  },
  {
   "cell_type": "code",
   "execution_count": 57,
   "metadata": {},
   "outputs": [],
   "source": [
    "NF = FN+TN\n",
    "NP = FP+TP\n",
    "NPTN = (TN/NF)\n",
    "NPFP = (FP/NP)\n",
    "NPFN = (FN/NF)\n",
    "NPTP = (TP/NP)"
   ]
  },
  {
   "cell_type": "code",
   "execution_count": 58,
   "metadata": {},
   "outputs": [
    {
     "data": {
      "text/plain": [
       "<matplotlib.axes._subplots.AxesSubplot at 0x1c1f096d68>"
      ]
     },
     "execution_count": 58,
     "metadata": {},
     "output_type": "execute_result"
    },
    {
     "data": {
      "image/png": "[encoded data removed]",
      "text/plain": [
       "<matplotlib.figure.Figure at 0x1c22503cf8>"
      ]
     },
     "metadata": {},
     "output_type": "display_data"
    }
   ],
   "source": [
    "array = [[NPTN,NPFN],[NPFP,NPTP]]        \n",
    "df_cm = pd.DataFrame(array, range(2),\n",
    "                  range(2))\n",
    "sn.set(font_scale=1.4)#for label size\n",
    "sn.heatmap(df_cm, annot=True,annot_kws={\"size\": 16})# font size"
   ]
  },
  {
   "cell_type": "code",
   "execution_count": null,
   "metadata": {},
   "outputs": [],
   "source": []
  }
 ],
 "metadata": {
  "kernelspec": {
   "display_name": "Python 3",
   "language": "python",
   "name": "python3"
  },
  "language_info": {
   "codemirror_mode": {
    "name": "ipython",
    "version": 3
   },
   "file_extension": ".py",
   "mimetype": "text/x-python",
   "name": "python",
   "nbconvert_exporter": "python",
   "pygments_lexer": "ipython3",
   "version": "3.6.3"
  }
 },
 "nbformat": 4,
 "nbformat_minor": 2
}
