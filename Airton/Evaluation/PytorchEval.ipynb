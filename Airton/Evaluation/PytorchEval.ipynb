{
 "cells": [
  {
   "cell_type": "code",
   "execution_count": null,
   "metadata": {},
   "outputs": [],
   "source": [
    "from skimage.measure import compare_ssim as ssim\n",
    "import matplotlib.pyplot as plt\n",
    "import numpy as np\n",
    "import cv2\n",
    "from PIL import Image\n",
    "import glob"
   ]
  },
  {
   "cell_type": "code",
   "execution_count": null,
   "metadata": {},
   "outputs": [],
   "source": [
    "MSE = [] \n",
    "SSIM =[]\n",
    "\n",
    "def mse(imageA, imageB):\n",
    "    # the 'Mean Squared Error' between the two images is the\n",
    "    # sum of the squared difference between the two images;\n",
    "    # NOTE: the two images must have the same dimension\n",
    "    err = np.sum((imageA.astype(\"float\") - imageB.astype(\"float\")) ** 2)\n",
    "    err /= float(imageA.shape[0] * imageA.shape[1])\n",
    "    # return the MSE, the lower the error, the more \"similar\"\n",
    "    # the two images are\n",
    "    return err\n",
    " \n",
    "def compare_images(imageA, imageB, title):\n",
    "    # compute the mean squared error and structural similarity\n",
    "    # index for the images\n",
    "    m = mse(imageA, imageB)\n",
    "    s = ssim(imageA, imageB)\n",
    "    #MSE.append(m)\n",
    "    #SSIM.append(s)\n",
    "    # setup the figure\n",
    "    fig = plt.figure(title)\n",
    "    plt.suptitle(\"MSE: %.2f, SSIM: %.2f\" % (m, s))\n",
    "    # show first image\n",
    "    ax = fig.add_subplot(1, 2, 1)\n",
    "    plt.imshow(imageA, cmap = plt.cm.gray)\n",
    "    plt.axis(\"off\")\n",
    "    # show the second image\n",
    "    ax = fig.add_subplot(1, 2, 2)\n",
    "    plt.imshow(imageB, cmap = plt.cm.gray)\n",
    "    plt.axis(\"off\")\n",
    "    # show the images\n",
    "    plt.show()"
   ]
  },
  {
   "cell_type": "code",
   "execution_count": null,
   "metadata": {},
   "outputs": [],
   "source": [
    "# load the images -- the original, the original + contrast,\n",
    "# and the original + photoshop\n",
    "original = cv2.imread(\"results/042912A1_real_B.png\")\n",
    "output = cv2.imread(\"results/042912A1_fake_B.png\")\n",
    " \n",
    "# convert the images to grayscale\n",
    "original = cv2.cvtColor(original, cv2.COLOR_BGR2GRAY)\n",
    "output = cv2.cvtColor(output, cv2.COLOR_BGR2GRAY)"
   ]
  },
  {
   "cell_type": "code",
   "execution_count": null,
   "metadata": {},
   "outputs": [],
   "source": [
    "# initialize the figure\n",
    "fig = plt.figure(\"Images\")\n",
    "images = (\"Original\", original), (\"Output\", output)\n",
    " \n",
    "# loop over the images\n",
    "for (i, (name, image)) in enumerate(images):\n",
    "    # show the image\n",
    "    ax = fig.add_subplot(1, 2, i + 1)\n",
    "    ax.set_title(name)\n",
    "    plt.imshow(image, cmap = plt.cm.gray)\n",
    "    plt.axis(\"off\")\n",
    "# show the figure\n",
    "plt.show()\n",
    "# compare the images\n",
    "#compare_images(original, original, \"Original vs. Original\")\n",
    "compare_images(original, output, \"Original vs. Output\")"
   ]
  },
  {
   "cell_type": "code",
   "execution_count": null,
   "metadata": {},
   "outputs": [],
   "source": [
    "image3 = cv2.subtract(output,original)\n",
    "plt.imshow(image3, cmap = plt.cm.gray)\n",
    "plt.title(\"Difference\")\n",
    "plt.show()"
   ]
  },
  {
   "cell_type": "code",
   "execution_count": null,
   "metadata": {},
   "outputs": [],
   "source": [
    "from os import listdir\n",
    "from os.path import isfile, join\n",
    "import numpy\n",
    "import cv2\n",
    "\n",
    "mypath='results'\n",
    "onlyfiles = [ f for f in listdir(mypath) if isfile(join(mypath,f)) ]\n",
    "images = numpy.empty(len(onlyfiles), dtype=object)\n",
    "for n in range(0, len(onlyfiles)):\n",
    "  images[n] = cv2.imread( join(mypath,onlyfiles[n]) )"
   ]
  },
  {
   "cell_type": "code",
   "execution_count": null,
   "metadata": {},
   "outputs": [],
   "source": [
    "plt.imshow(images[1])\n",
    "plt.show()"
   ]
  },
  {
   "cell_type": "code",
   "execution_count": null,
   "metadata": {},
   "outputs": [],
   "source": [
    "import cv2\n",
    "import glob\n",
    "\n",
    "images = [cv2.imread(file) for file in glob.glob('Real/*.png')]\n",
    "images2 = [cv2.imread(file) for file in glob.glob('fake/*.png')]"
   ]
  },
  {
   "cell_type": "code",
   "execution_count": null,
   "metadata": {},
   "outputs": [],
   "source": [
    "plt.imshow(images[1])\n",
    "plt.show()"
   ]
  },
  {
   "cell_type": "code",
   "execution_count": null,
   "metadata": {},
   "outputs": [],
   "source": [
    "plt.imshow(images2[46])\n",
    "plt.show()"
   ]
  },
  {
   "cell_type": "code",
   "execution_count": null,
   "metadata": {},
   "outputs": [],
   "source": [
    "print(MSE)\n",
    "print(SSIM)"
   ]
  },
  {
   "cell_type": "code",
   "execution_count": null,
   "metadata": {},
   "outputs": [],
   "source": [
    "#MSE.pop(-1)\n",
    "#SSIM.pop(-1)"
   ]
  },
  {
   "cell_type": "code",
   "execution_count": null,
   "metadata": {},
   "outputs": [],
   "source": [
    "print(len(MSE))\n",
    "print(len(SSIM))\n",
    "x=list(range(0,50))"
   ]
  },
  {
   "cell_type": "code",
   "execution_count": null,
   "metadata": {},
   "outputs": [],
   "source": [
    "plt.scatter(x,MSE)\n",
    "plt.title(\"MSE\")\n",
    "plt.show()\n",
    "print(min(MSE),max(MSE))\n",
    "print(np.mean(MSE))\n",
    "print(MSE.index(538.8857879638672))"
   ]
  },
  {
   "cell_type": "code",
   "execution_count": null,
   "metadata": {},
   "outputs": [],
   "source": [
    "plt.scatter(x,SSIM)\n",
    "plt.title(\"SSIM\")\n",
    "plt.show()\n",
    "print(min(SSIM),max(SSIM))\n",
    "print(np.mean(SSIM))\n",
    "print(SSIM.index(0.6739305878492471))"
   ]
  },
  {
   "cell_type": "code",
   "execution_count": null,
   "metadata": {},
   "outputs": [],
   "source": [
    "from sklearn.metrics import confusion_matrix\n",
    "y_actu = original\n",
    "y_pred = output\n",
    "confusion_matrix(y_actu, y_pred)"
   ]
  },
  {
   "cell_type": "markdown",
   "metadata": {},
   "source": [
    "# Evaluation Run 1"
   ]
  },
  {
   "cell_type": "code",
   "execution_count": null,
   "metadata": {},
   "outputs": [],
   "source": [
    "run1R = []\n",
    "for filename in sorted(glob.glob('/Users/Airton/Desktop/Data/B/*B1.png')):\n",
    "    im=Image.open(filename).convert('L')\n",
    "    run1R.append(im)"
   ]
  },
  {
   "cell_type": "code",
   "execution_count": null,
   "metadata": {},
   "outputs": [],
   "source": [
    "run1F = []\n",
    "for filename in sorted(glob.glob('/Users/Airton/Desktop/Data/F/*B.png')):\n",
    "    im=Image.open(filename).convert('L')\n",
    "    run1F.append(im)"
   ]
  },
  {
   "cell_type": "code",
   "execution_count": null,
   "metadata": {},
   "outputs": [],
   "source": [
    "print(len(run1F))\n",
    "print(len(run1R))"
   ]
  },
  {
   "cell_type": "code",
   "execution_count": null,
   "metadata": {},
   "outputs": [],
   "source": [
    "plt.imshow(np.array(run1R[0]),cmap='gray')\n",
    "plt.show()"
   ]
  },
  {
   "cell_type": "code",
   "execution_count": null,
   "metadata": {},
   "outputs": [],
   "source": [
    "plt.imshow(np.array(run1F[0]),cmap='gray')\n",
    "plt.show()"
   ]
  },
  {
   "cell_type": "code",
   "execution_count": null,
   "metadata": {},
   "outputs": [],
   "source": [
    "MSE = []\n",
    "SSIM = []\n",
    "for i in range(len(run1R)):\n",
    "    m = mse(np.array(run1R[i]),np.array(run1F[i]))\n",
    "    s = ssim(np.array(run1R[i]),np.array(run1F[i]))\n",
    "    MSE.append(m)\n",
    "    SSIM.append(s)"
   ]
  },
  {
   "cell_type": "code",
   "execution_count": null,
   "metadata": {},
   "outputs": [],
   "source": [
    "print(MSE)"
   ]
  },
  {
   "cell_type": "code",
   "execution_count": null,
   "metadata": {},
   "outputs": [],
   "source": [
    "print(SSIM)"
   ]
  },
  {
   "cell_type": "code",
   "execution_count": null,
   "metadata": {},
   "outputs": [],
   "source": [
    "x1=list(range(0,49))"
   ]
  },
  {
   "cell_type": "code",
   "execution_count": null,
   "metadata": {
    "scrolled": true
   },
   "outputs": [],
   "source": [
    "plt.scatter(x1,MSE,c='black')\n",
    "plt.title(\"OLD MSE\")\n",
    "plt.show()\n",
    "print(min(MSE),max(MSE))\n",
    "print(np.mean(MSE))"
   ]
  },
  {
   "cell_type": "code",
   "execution_count": null,
   "metadata": {},
   "outputs": [],
   "source": [
    "plt.scatter(x1,SSIM,c='black')\n",
    "plt.title(\"OLD SSIM\")\n",
    "plt.show()\n",
    "print(min(SSIM),max(SSIM))\n",
    "print(np.mean(SSIM))"
   ]
  },
  {
   "cell_type": "markdown",
   "metadata": {},
   "source": [
    "# Evaluation Run 2"
   ]
  },
  {
   "cell_type": "code",
   "execution_count": null,
   "metadata": {},
   "outputs": [],
   "source": [
    "from PIL import Image\n",
    "import glob\n",
    "image_listA1 = []\n",
    "\n",
    "for filename in sorted(glob.glob('/Users/Airton/Desktop/images/*real_B.png')):\n",
    "    im=Image.open(filename).convert('L')\n",
    "    image_listA1.append(im)"
   ]
  },
  {
   "cell_type": "code",
   "execution_count": null,
   "metadata": {},
   "outputs": [],
   "source": [
    "image_listA2 = []\n",
    "\n",
    "for filename in sorted(glob.glob('/Users/Airton/Desktop/images/*fake_B.png')):\n",
    "    im=Image.open(filename).convert('L')\n",
    "    image_listA2.append(im)"
   ]
  },
  {
   "cell_type": "code",
   "execution_count": null,
   "metadata": {},
   "outputs": [],
   "source": [
    "plt.imshow(np.array(image_listA1[0]),cmap='gray')\n",
    "plt.show()"
   ]
  },
  {
   "cell_type": "code",
   "execution_count": null,
   "metadata": {},
   "outputs": [],
   "source": [
    "plt.imshow(np.array(image_listA2[0]),cmap='gray')\n",
    "plt.show()"
   ]
  },
  {
   "cell_type": "code",
   "execution_count": null,
   "metadata": {},
   "outputs": [],
   "source": [
    "th1 = cv2.threshold(np.array(image_listA1[0]),15,255,cv2.THRESH_BINARY)\n",
    "th2 = cv2.threshold(np.array(image_listA2[0]),15,255,cv2.THRESH_BINARY)"
   ]
  },
  {
   "cell_type": "code",
   "execution_count": null,
   "metadata": {},
   "outputs": [],
   "source": [
    "plt.imshow(th1[1],cmap = 'gray')\n",
    "plt.show()"
   ]
  },
  {
   "cell_type": "code",
   "execution_count": null,
   "metadata": {},
   "outputs": [],
   "source": [
    "plt.imshow(th2[1],cmap = 'gray')\n",
    "plt.show()"
   ]
  },
  {
   "cell_type": "code",
   "execution_count": null,
   "metadata": {},
   "outputs": [],
   "source": [
    "print(np.array(image_listA1[1]))"
   ]
  },
  {
   "cell_type": "code",
   "execution_count": null,
   "metadata": {},
   "outputs": [],
   "source": [
    "mse(np.array(image_listA1[0]),np.array(image_listA2[0]))"
   ]
  },
  {
   "cell_type": "code",
   "execution_count": null,
   "metadata": {},
   "outputs": [],
   "source": [
    "ssim(np.array(image_listA1[0]),np.array(image_listA2[0]))"
   ]
  },
  {
   "cell_type": "code",
   "execution_count": null,
   "metadata": {},
   "outputs": [],
   "source": [
    "MSE1 = []\n",
    "SSIM1 = []\n",
    "for i in range(len(image_listA1)):\n",
    "    m = mse(np.array(image_listA1[i]),np.array(image_listA2[i]))\n",
    "    s = ssim(np.array(image_listA1[i]),np.array(image_listA2[i]))\n",
    "    MSE1.append(m)\n",
    "    SSIM1.append(s)"
   ]
  },
  {
   "cell_type": "code",
   "execution_count": null,
   "metadata": {
    "scrolled": true
   },
   "outputs": [],
   "source": [
    "print(MSE1)"
   ]
  },
  {
   "cell_type": "code",
   "execution_count": null,
   "metadata": {},
   "outputs": [],
   "source": [
    "print(SSIM1)"
   ]
  },
  {
   "cell_type": "code",
   "execution_count": null,
   "metadata": {},
   "outputs": [],
   "source": [
    "plt.scatter(x,MSE1,c='black')\n",
    "plt.title(\" NEW MSE\")\n",
    "plt.show()\n",
    "print(min(MSE1),max(MSE1))\n",
    "print(np.mean(MSE1))"
   ]
  },
  {
   "cell_type": "code",
   "execution_count": null,
   "metadata": {},
   "outputs": [],
   "source": [
    "plt.scatter(x,SSIM1,c='black')\n",
    "plt.title(\" NEW SSIM\")\n",
    "plt.show()\n",
    "print(min(SSIM1),max(SSIM1))\n",
    "print(np.mean(SSIM1))"
   ]
  },
  {
   "cell_type": "code",
   "execution_count": null,
   "metadata": {},
   "outputs": [],
   "source": [
    "original = np.array(image_listA1[0])\n",
    "output = np.array(image_listA2[0])\n",
    "# initialize the figure\n",
    "fig = plt.figure(\"Images\")\n",
    "images = (\"Original\", original), (\"Output\", output)\n",
    " \n",
    "# loop over the images\n",
    "for (i, (name, image)) in enumerate(images):\n",
    "    # show the image\n",
    "    ax = fig.add_subplot(1, 2, i + 1)\n",
    "    ax.set_title(name)\n",
    "    plt.imshow(image, cmap = plt.cm.gray)\n",
    "    plt.axis(\"off\")\n",
    "# show the figure\n",
    "plt.show()\n",
    "# compare the images\n",
    "#compare_images(original, original, \"Original vs. Original\")\n",
    "compare_images(original, output, \"Original vs. Output\")"
   ]
  },
  {
   "cell_type": "markdown",
   "metadata": {},
   "source": [
    "# Confusion Matrix"
   ]
  },
  {
   "cell_type": "code",
   "execution_count": null,
   "metadata": {},
   "outputs": [],
   "source": [
    "from sklearn.metrics import confusion_matrix"
   ]
  },
  {
   "cell_type": "code",
   "execution_count": null,
   "metadata": {},
   "outputs": [],
   "source": [
    "PTC = []"
   ]
  },
  {
   "cell_type": "code",
   "execution_count": null,
   "metadata": {},
   "outputs": [],
   "source": [
    "Fthr = []\n",
    "Fthf = []\n",
    "for i in range(len(image_listA1)):\n",
    "    gray_img= np.array(image_listA1[i])\n",
    "    gray_img2= np.array(image_listA2[i])\n",
    "    th1 = cv2.threshold(gray_img,20,255,cv2.THRESH_BINARY)\n",
    "    th2 = cv2.threshold(gray_img2,20,255,cv2.THRESH_BINARY)\n",
    "    Fr = list(th1[1].flatten())\n",
    "    Ff = list(th2[1].flatten())\n",
    "    Fthr.append(Fr)\n",
    "    Fthf.append(Ff)"
   ]
  },
  {
   "cell_type": "code",
   "execution_count": null,
   "metadata": {},
   "outputs": [],
   "source": [
    "plt.imshow(Thr[0][1],cmap = 'gray')\n",
    "plt.show()"
   ]
  },
  {
   "cell_type": "code",
   "execution_count": null,
   "metadata": {},
   "outputs": [],
   "source": [
    "plt.imshow(Thf[0][1],cmap = 'gray')\n",
    "plt.show()"
   ]
  },
  {
   "cell_type": "code",
   "execution_count": null,
   "metadata": {},
   "outputs": [],
   "source": [
    "Fthr = []\n",
    "Fthf = []\n",
    "for i in range(len(Thr)):\n",
    "    Fr = list(Thr[i][1].flatten())\n",
    "    Ff = list(Thf[i][1].flatten())\n",
    "    Fthr.append(Fr)\n",
    "    Fthf.append(Ff)"
   ]
  },
  {
   "cell_type": "code",
   "execution_count": null,
   "metadata": {},
   "outputs": [],
   "source": [
    "TN,FP,FN,TP = 0,0,0,0\n",
    "TN1,FP1,FN1,TP1 = 0,0,0,0"
   ]
  },
  {
   "cell_type": "code",
   "execution_count": null,
   "metadata": {},
   "outputs": [],
   "source": [
    "print(Fthr[1])"
   ]
  },
  {
   "cell_type": "code",
   "execution_count": null,
   "metadata": {},
   "outputs": [],
   "source": [
    "for i in range(len(Fthr)):\n",
    "    tn,fp,fn,tp=confusion_matrix(Fthr[i], Fthf[i]).ravel()\n",
    "    TN = TN +tn\n",
    "    FP = FP +fp\n",
    "    FN = FN +fn\n",
    "    TP = TP +tp"
   ]
  },
  {
   "cell_type": "code",
   "execution_count": null,
   "metadata": {},
   "outputs": [],
   "source": [
    "Total = TN+FP+FN+TP\n",
    "PTN = (TN/Total)*100\n",
    "PFP = (FP/Total)*100\n",
    "PFN = (FN/Total)*100\n",
    "PTP = (TP/Total)*100"
   ]
  },
  {
   "cell_type": "code",
   "execution_count": null,
   "metadata": {},
   "outputs": [],
   "source": [
    "PTC.append([PTN,PFP,PFN,PTP])"
   ]
  },
  {
   "cell_type": "code",
   "execution_count": null,
   "metadata": {},
   "outputs": [],
   "source": [
    "print(len(PTC))\n",
    "print(PTC)"
   ]
  },
  {
   "cell_type": "code",
   "execution_count": null,
   "metadata": {},
   "outputs": [],
   "source": [
    "print(\"            \", \"True-\", \"False+\", \"False-\", \"True+\")\n",
    "print(\"Old run:   \", 2829160, 87329, 141761, 153014)\n",
    "print(\"New run:   \",TN,FP,FN,TP)\n",
    "print(\"Difference: \",TN-2829160, FP-87329, FN-141761, TP-153014)"
   ]
  },
  {
   "cell_type": "markdown",
   "metadata": {},
   "source": [
    "Old run:    2829160 87329 141761 153014\n",
    "New run:    2813072 143918 93857 225953\n",
    "Difference:  -16088 56589 -47904 72939"
   ]
  },
  {
   "cell_type": "code",
   "execution_count": null,
   "metadata": {},
   "outputs": [],
   "source": [
    "Fthr1 = []\n",
    "Fthf1 = []\n",
    "for i in range(len(run1R)):\n",
    "    gray_img= np.array(run1R[i])\n",
    "    gray_img2= np.array(run1F[i])\n",
    "    th1 = cv2.threshold(gray_img,1,255,cv2.THRESH_BINARY)\n",
    "    th2 = cv2.threshold(gray_img2,1,255,cv2.THRESH_BINARY)\n",
    "    Fr = list(th1[1].flatten())\n",
    "    Ff = list(th2[1].flatten())\n",
    "    Fthr1.append(Fr)\n",
    "    Fthf1.append(Ff)"
   ]
  },
  {
   "cell_type": "code",
   "execution_count": null,
   "metadata": {},
   "outputs": [],
   "source": [
    "for i in range(len(Fthr1)):\n",
    "    tn,fp,fn,tp=confusion_matrix(Fthr1[i], Fthf1[i]).ravel()\n",
    "    TN1 = TN1 +tn\n",
    "    FP1 = FP1 +fp\n",
    "    FN1 = FN1 +fn\n",
    "    TP1 = TP1 +tp"
   ]
  },
  {
   "cell_type": "code",
   "execution_count": null,
   "metadata": {},
   "outputs": [],
   "source": [
    "print(\"             \", \"TN\", \"   \", \"FP\",\"   \", \"FN\",\"   \", \"TP\")\n",
    "print(\"Old run:    \",TN1,FP1,FN1,TP1)\n",
    "print(\"New run:    \",TN,FP,FN,TP)\n",
    "print(\"Difference: \",TN-TN1, FP-FP1, FN-FN1, TP-TP1)"
   ]
  },
  {
   "cell_type": "code",
   "execution_count": null,
   "metadata": {},
   "outputs": [],
   "source": [
    "Total = TN+FP+FN+TP\n",
    "Total1 = TN1+FP1+FN1+TP1"
   ]
  },
  {
   "cell_type": "code",
   "execution_count": null,
   "metadata": {},
   "outputs": [],
   "source": [
    "print(\"Old run %:    \",(TN1/Total1)*100,(FP1/Total1)*100,(FN1/Total1)*100,(TP1/Total1)*100)\n",
    "print(\"New run %:    \",(TN/Total)*100,(FP/Total)*100,(FN/Total)*100,(TP/Total)*100)"
   ]
  },
  {
   "cell_type": "code",
   "execution_count": null,
   "metadata": {},
   "outputs": [],
   "source": [
    "PTN = (TN/Total)*100\n",
    "PFP = (FP/Total)*100\n",
    "PFN = (FN/Total)*100\n",
    "PTP = (TP/Total)*100"
   ]
  },
  {
   "cell_type": "code",
   "execution_count": null,
   "metadata": {},
   "outputs": [],
   "source": [
    "Correct = PTN + PTP\n",
    "Wrong = PFN + PFP\n",
    "print(\"Correct = \", Correct, \" Wrong = \", Wrong)"
   ]
  },
  {
   "cell_type": "code",
   "execution_count": null,
   "metadata": {},
   "outputs": [],
   "source": [
    "PTN1 = (TN1/Total1)*100\n",
    "PFP1 = (FP1/Total1)*100\n",
    "PFN1 = (FN1/Total1)*100\n",
    "PTP1 = (TP1/Total1)*100"
   ]
  },
  {
   "cell_type": "code",
   "execution_count": null,
   "metadata": {},
   "outputs": [],
   "source": [
    "Correct = PTN1 + PTP1\n",
    "Wrong = PFN1 + PFP1\n",
    "print(\"Correct = \", Correct, \" Wrong = \", Wrong)"
   ]
  },
  {
   "cell_type": "code",
   "execution_count": null,
   "metadata": {},
   "outputs": [],
   "source": [
    "import seaborn as sn\n",
    "import pandas as pd\n",
    "import matplotlib.pyplot as plt\n",
    "\n",
    "array = [[PTN,PFP],\n",
    "        [PFN,PTP]]        \n",
    "df_cm = pd.DataFrame(array, range(2),\n",
    "                  range(2))\n",
    "sn.set(font_scale=1.4)#for label size\n",
    "sn.heatmap(df_cm, annot=True,annot_kws={\"size\": 16})# font size"
   ]
  },
  {
   "cell_type": "code",
   "execution_count": null,
   "metadata": {},
   "outputs": [],
   "source": [
    "NF = FN+TN\n",
    "NP = FP+TP\n",
    "NPTN = (TN/NF)\n",
    "NPFP = (FP/NP)\n",
    "NPFN = (FN/NF)\n",
    "NPTP = (TP/NP)"
   ]
  },
  {
   "cell_type": "code",
   "execution_count": null,
   "metadata": {},
   "outputs": [],
   "source": [
    "array = [[NPTN,NPFN],[NPFP,NPTP]]        \n",
    "df_cm = pd.DataFrame(array, range(2),\n",
    "                  range(2))\n",
    "sn.set(font_scale=1.4)#for label size\n",
    "sn.heatmap(df_cm, annot=True,annot_kws={\"size\": 16})# font size"
   ]
  },
  {
   "cell_type": "markdown",
   "metadata": {},
   "source": [
    "# Comparing Different Thresholds with LR"
   ]
  },
  {
   "cell_type": "code",
   "execution_count": null,
   "metadata": {},
   "outputs": [],
   "source": [
    "TCPP = [[85.84814453125, 4.39202880859375, 2.864288330078125, 6.895538330078126], [86.70901489257812, 3.9813537597656246, 2.861907958984375, 6.447723388671875], [87.17013549804688, 3.520233154296875, 3.082977294921875, 6.226654052734375], [88.06210327148438, 3.439117431640625, 2.771484375, 5.727294921875], [88.62521362304688, 3.253204345703125, 2.715911865234375, 5.405670166015625], [89.13287353515625, 3.08544921875, 2.668548583984375, 5.113128662109375], [89.60699462890625, 2.93841552734375, 2.626373291015625, 4.828216552734375], [89.8526611328125, 2.6927490234375, 2.77191162109375, 4.68267822265625], [90.45684814453125, 2.6883544921875, 2.536834716796875, 4.317962646484375], [90.84359741210938, 2.57342529296875, 2.496368408203125, 4.08660888671875], [91.20303344726562, 2.474822998046875, 2.45184326171875, 3.87030029296875], [91.54550170898438, 2.37628173828125, 2.41009521484375, 3.668121337890625], [91.72515869140625, 2.196624755859375, 2.51611328125, 3.562103271484375], [92.17974853515625, 2.197845458984375, 2.328033447265625, 3.29437255859375], [92.46575927734375, 2.1187744140625, 2.297088623046875, 3.118377685546875], [92.73428344726562, 2.044921875, 2.269195556640625, 2.95159912109375], [92.98776245117188, 1.971343994140625, 2.246856689453125, 2.794036865234375], [93.23687744140625, 1.89654541015625, 2.214019775390625, 2.652557373046875], [93.47384643554688, 1.824249267578125, 2.186004638671875, 2.515899658203125], [93.69772338867188, 1.7602539062499998, 2.15740966796875, 2.384613037109375]]\n",
    "TCPL = [[46.0174560546875, 0.6744384765625, 49.2950439453125, 4.0130615234375], [52.84881591796875, 0.848388671875, 42.81463623046875, 3.4881591796875], [59.332275390625, 1.02386474609375, 36.61956787109375, 3.0242919921875], [65.17791748046875, 1.18560791015625, 31.02264404296875, 2.61383056640625], [71.36077880859375, 1.318359375, 25.0396728515625, 2.28118896484375], [79.28466796875, 1.49688720703125, 17.3004150390625, 1.91802978515625], [87.37335205078125, 1.678466796875, 9.3994140625, 1.54876708984375], [91.62445068359375, 1.7181396484375, 5.32379150390625, 1.3336181640625], [94.44580078125, 1.69677734375, 2.6519775390625, 1.2054443359375], [94.90966796875, 1.70745849609375, 2.29339599609375, 1.0894775390625], [95.2911376953125, 1.7425537109375, 2.0263671875, 0.93994140625], [95.68328857421875, 1.76849365234375, 1.727294921875, 0.8209228515625], [96.1212158203125, 1.80816650390625, 1.3702392578125, 0.70037841796875], [96.58050537109375, 1.87835693359375, 0.9674072265625, 0.57373046875], [97.01385498046875, 1.89666748046875, 0.62255859375, 0.4669189453125], [97.247314453125, 1.9439697265625, 0.4486083984375, 0.360107421875], [97.503662109375, 1.97601318359375, 0.28076171875, 0.23956298828125], [97.66082763671875, 2.03094482421875, 0.1800537109375, 0.128173828125], [97.79510498046875, 2.0233154296875, 0.11444091796875, 0.067138671875], [97.90191650390625, 1.99737548828125, 0.0732421875, 0.0274658203125]]"
   ]
  },
  {
   "cell_type": "code",
   "execution_count": null,
   "metadata": {},
   "outputs": [],
   "source": [
    "print(len(TCPP))\n",
    "print(len(TCPL))"
   ]
  },
  {
   "cell_type": "code",
   "execution_count": null,
   "metadata": {},
   "outputs": [],
   "source": [
    "TCWP = []\n",
    "TCWL = []\n",
    "for i in range(20):\n",
    "    Correct, Wrong, Correct1, Wrong1 = 0,0,0,0\n",
    "    Correct = TCPP[i][0]+TCPP[i][3]\n",
    "    Wrong   = TCPP[i][1]+TCPP[i][2]\n",
    "    Correct1= TCPL[i][0]+TCPL[i][3]\n",
    "    Wrong1  = TCPL[i][1]+TCPL[i][2]\n",
    "    TCWP.append([Correct,Wrong])\n",
    "    TCWL.append([Correct1,Wrong1])"
   ]
  },
  {
   "cell_type": "code",
   "execution_count": null,
   "metadata": {},
   "outputs": [],
   "source": [
    "print(TCWP)"
   ]
  },
  {
   "cell_type": "code",
   "execution_count": null,
   "metadata": {},
   "outputs": [],
   "source": [
    "print(TCWL)"
   ]
  },
  {
   "cell_type": "code",
   "execution_count": null,
   "metadata": {},
   "outputs": [],
   "source": [
    "YP = []\n",
    "YL = []\n",
    "for i in range(17):\n",
    "    YP.append(TCWP[i][0])\n",
    "    YL.append(TCWL[i][0])\n",
    "x=list(range(1,18))    \n",
    "print(x)"
   ]
  },
  {
   "cell_type": "code",
   "execution_count": null,
   "metadata": {},
   "outputs": [],
   "source": [
    "plt.plot(x,YP,'G')\n",
    "plt.plot(x,YL,'R')\n",
    "plt.xlabel('Threshold')\n",
    "plt.ylabel('Percent')\n",
    "plt.title('Correctness with diferent threholds')\n",
    "plt.xticks(np.arange(1, 18, step=1))\n",
    "plt.show()"
   ]
  },
  {
   "cell_type": "code",
   "execution_count": null,
   "metadata": {},
   "outputs": [],
   "source": []
  }
 ],
 "metadata": {
  "kernelspec": {
   "display_name": "Python 3",
   "language": "python",
   "name": "python3"
  },
  "language_info": {
   "codemirror_mode": {
    "name": "ipython",
    "version": 3
   },
   "file_extension": ".py",
   "mimetype": "text/x-python",
   "name": "python",
   "nbconvert_exporter": "python",
   "pygments_lexer": "ipython3",
   "version": "3.6.3"
  }
 },
 "nbformat": 4,
 "nbformat_minor": 2
}
