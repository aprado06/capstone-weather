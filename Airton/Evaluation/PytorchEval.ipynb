{
 "cells": [
  {
   "cell_type": "code",
   "execution_count": null,
   "metadata": {},
   "outputs": [],
   "source": [
    "from skimage.measure import compare_ssim as ssim\n",
    "import matplotlib.pyplot as plt\n",
    "import numpy as np\n",
    "import cv2\n",
    "from PIL import Image\n",
    "import glob"
   ]
  },
  {
   "cell_type": "code",
   "execution_count": null,
   "metadata": {},
   "outputs": [],
   "source": [
    "MSE = [] \n",
    "SSIM =[]\n",
    "\n",
    "def mse(imageA, imageB):\n",
    "    # the 'Mean Squared Error' between the two images is the\n",
    "    # sum of the squared difference between the two images;\n",
    "    # NOTE: the two images must have the same dimension\n",
    "    err = np.sum((imageA.astype(\"float\") - imageB.astype(\"float\")) ** 2)\n",
    "    err /= float(imageA.shape[0] * imageA.shape[1])\n",
    "    # return the MSE, the lower the error, the more \"similar\"\n",
    "    # the two images are\n",
    "    return err\n",
    " \n",
    "def compare_images(imageA, imageB, title):\n",
    "    # compute the mean squared error and structural similarity\n",
    "    # index for the images\n",
    "    m = mse(imageA, imageB)\n",
    "    s = ssim(imageA, imageB)\n",
    "    #MSE.append(m)\n",
    "    #SSIM.append(s)\n",
    "    # setup the figure\n",
    "    fig = plt.figure(title)\n",
    "    plt.suptitle(\"MSE: %.2f, SSIM: %.2f\" % (m, s))\n",
    "    # show first image\n",
    "    ax = fig.add_subplot(1, 2, 1)\n",
    "    plt.imshow(imageA, cmap = plt.cm.gray)\n",
    "    plt.axis(\"off\")\n",
    "    # show the second image\n",
    "    ax = fig.add_subplot(1, 2, 2)\n",
    "    plt.imshow(imageB, cmap = plt.cm.gray)\n",
    "    plt.axis(\"off\")\n",
    "    # show the images\n",
    "    plt.show()"
   ]
  },
  {
   "cell_type": "code",
   "execution_count": null,
   "metadata": {},
   "outputs": [],
   "source": [
    "# load the images -- the original, the original + contrast,\n",
    "# and the original + photoshop\n",
    "original = cv2.imread(\"results/042912A1_real_B.png\")\n",
    "output = cv2.imread(\"results/042912A1_fake_B.png\")\n",
    " \n",
    "# convert the images to grayscale\n",
    "original = cv2.cvtColor(original, cv2.COLOR_BGR2GRAY)\n",
    "output = cv2.cvtColor(output, cv2.COLOR_BGR2GRAY)"
   ]
  },
  {
   "cell_type": "code",
   "execution_count": null,
   "metadata": {},
   "outputs": [],
   "source": [
    "# initialize the figure\n",
    "fig = plt.figure(\"Images\")\n",
    "images = (\"Original\", original), (\"Output\", output)\n",
    " \n",
    "# loop over the images\n",
    "for (i, (name, image)) in enumerate(images):\n",
    "    # show the image\n",
    "    ax = fig.add_subplot(1, 2, i + 1)\n",
    "    ax.set_title(name)\n",
    "    plt.imshow(image, cmap = plt.cm.gray)\n",
    "    plt.axis(\"off\")\n",
    "# show the figure\n",
    "plt.show()\n",
    "# compare the images\n",
    "#compare_images(original, original, \"Original vs. Original\")\n",
    "compare_images(original, output, \"Original vs. Output\")"
   ]
  },
  {
   "cell_type": "code",
   "execution_count": null,
   "metadata": {},
   "outputs": [],
   "source": [
    "image3 = cv2.subtract(output,original)\n",
    "plt.imshow(image3, cmap = plt.cm.gray)\n",
    "plt.title(\"Difference\")\n",
    "plt.show()"
   ]
  },
  {
   "cell_type": "code",
   "execution_count": null,
   "metadata": {},
   "outputs": [],
   "source": [
    "from os import listdir\n",
    "from os.path import isfile, join\n",
    "import numpy\n",
    "import cv2\n",
    "\n",
    "mypath='results'\n",
    "onlyfiles = [ f for f in listdir(mypath) if isfile(join(mypath,f)) ]\n",
    "images = numpy.empty(len(onlyfiles), dtype=object)\n",
    "for n in range(0, len(onlyfiles)):\n",
    "  images[n] = cv2.imread( join(mypath,onlyfiles[n]) )"
   ]
  },
  {
   "cell_type": "code",
   "execution_count": null,
   "metadata": {},
   "outputs": [],
   "source": [
    "plt.imshow(images[1])\n",
    "plt.show()"
   ]
  },
  {
   "cell_type": "code",
   "execution_count": null,
   "metadata": {},
   "outputs": [],
   "source": [
    "import cv2\n",
    "import glob\n",
    "\n",
    "images = [cv2.imread(file) for file in glob.glob('Real/*.png')]\n",
    "images2 = [cv2.imread(file) for file in glob.glob('fake/*.png')]"
   ]
  },
  {
   "cell_type": "code",
   "execution_count": null,
   "metadata": {},
   "outputs": [],
   "source": [
    "plt.imshow(images[1])\n",
    "plt.show()"
   ]
  },
  {
   "cell_type": "code",
   "execution_count": null,
   "metadata": {},
   "outputs": [],
   "source": [
    "plt.imshow(images2[46])\n",
    "plt.show()"
   ]
  },
  {
   "cell_type": "code",
   "execution_count": null,
   "metadata": {},
   "outputs": [],
   "source": [
    "print(MSE)\n",
    "print(SSIM)"
   ]
  },
  {
   "cell_type": "code",
   "execution_count": null,
   "metadata": {},
   "outputs": [],
   "source": [
    "#MSE.pop(-1)\n",
    "#SSIM.pop(-1)"
   ]
  },
  {
   "cell_type": "code",
   "execution_count": null,
   "metadata": {},
   "outputs": [],
   "source": [
    "print(len(MSE))\n",
    "print(len(SSIM))\n",
    "x=list(range(0,50))"
   ]
  },
  {
   "cell_type": "code",
   "execution_count": null,
   "metadata": {},
   "outputs": [],
   "source": [
    "plt.scatter(x,MSE)\n",
    "plt.title(\"MSE\")\n",
    "plt.show()\n",
    "print(min(MSE),max(MSE))\n",
    "print(np.mean(MSE))\n",
    "print(MSE.index(538.8857879638672))"
   ]
  },
  {
   "cell_type": "code",
   "execution_count": null,
   "metadata": {},
   "outputs": [],
   "source": [
    "plt.scatter(x,SSIM)\n",
    "plt.title(\"SSIM\")\n",
    "plt.show()\n",
    "print(min(SSIM),max(SSIM))\n",
    "print(np.mean(SSIM))\n",
    "print(SSIM.index(0.6739305878492471))"
   ]
  },
  {
   "cell_type": "code",
   "execution_count": null,
   "metadata": {},
   "outputs": [],
   "source": [
    "from sklearn.metrics import confusion_matrix\n",
    "y_actu = original\n",
    "y_pred = output\n",
    "confusion_matrix(y_actu, y_pred)"
   ]
  },
  {
   "cell_type": "markdown",
   "metadata": {},
   "source": [
    "# Evaluation Run 1"
   ]
  },
  {
   "cell_type": "code",
   "execution_count": null,
   "metadata": {},
   "outputs": [],
   "source": [
    "run1R = []\n",
    "for filename in sorted(glob.glob('/Users/Airton/Desktop/Data/B/*B1.png')):\n",
    "    im=Image.open(filename).convert('L')\n",
    "    run1R.append(im)"
   ]
  },
  {
   "cell_type": "code",
   "execution_count": null,
   "metadata": {},
   "outputs": [],
   "source": [
    "run1F = []\n",
    "for filename in sorted(glob.glob('/Users/Airton/Desktop/Data/F/*B.png')):\n",
    "    im=Image.open(filename).convert('L')\n",
    "    run1F.append(im)"
   ]
  },
  {
   "cell_type": "code",
   "execution_count": null,
   "metadata": {},
   "outputs": [],
   "source": [
    "print(len(run1F))\n",
    "print(len(run1R))"
   ]
  },
  {
   "cell_type": "code",
   "execution_count": null,
   "metadata": {},
   "outputs": [],
   "source": [
    "plt.imshow(np.array(run1R[0]),cmap='gray')\n",
    "plt.show()"
   ]
  },
  {
   "cell_type": "code",
   "execution_count": null,
   "metadata": {},
   "outputs": [],
   "source": [
    "plt.imshow(np.array(run1F[0]),cmap='gray')\n",
    "plt.show()"
   ]
  },
  {
   "cell_type": "code",
   "execution_count": null,
   "metadata": {},
   "outputs": [],
   "source": [
    "MSE = []\n",
    "SSIM = []\n",
    "for i in range(len(run1R)):\n",
    "    m = mse(np.array(run1R[i]),np.array(run1F[i]))\n",
    "    s = ssim(np.array(run1R[i]),np.array(run1F[i]))\n",
    "    MSE.append(m)\n",
    "    SSIM.append(s)"
   ]
  },
  {
   "cell_type": "code",
   "execution_count": null,
   "metadata": {},
   "outputs": [],
   "source": [
    "print(MSE)"
   ]
  },
  {
   "cell_type": "code",
   "execution_count": null,
   "metadata": {},
   "outputs": [],
   "source": [
    "print(SSIM)"
   ]
  },
  {
   "cell_type": "code",
   "execution_count": null,
   "metadata": {},
   "outputs": [],
   "source": [
    "x1=list(range(0,49))"
   ]
  },
  {
   "cell_type": "code",
   "execution_count": null,
   "metadata": {
    "scrolled": true
   },
   "outputs": [],
   "source": [
    "plt.scatter(x1,MSE,c='black')\n",
    "plt.title(\"OLD MSE\")\n",
    "plt.show()\n",
    "print(min(MSE),max(MSE))\n",
    "print(np.mean(MSE))"
   ]
  },
  {
   "cell_type": "code",
   "execution_count": null,
   "metadata": {},
   "outputs": [],
   "source": [
    "plt.scatter(x1,SSIM,c='black')\n",
    "plt.title(\"OLD SSIM\")\n",
    "plt.show()\n",
    "print(min(SSIM),max(SSIM))\n",
    "print(np.mean(SSIM))"
   ]
  },
  {
   "cell_type": "markdown",
   "metadata": {},
   "source": [
    "# Evaluation Run 2"
   ]
  },
  {
   "cell_type": "code",
   "execution_count": null,
   "metadata": {},
   "outputs": [],
   "source": [
    "from PIL import Image\n",
    "import glob\n",
    "image_listA1 = []\n",
    "\n",
    "for filename in sorted(glob.glob('/Users/Airton/Desktop/images/*real_B.png')):\n",
    "    im=Image.open(filename).convert('L')\n",
    "    image_listA1.append(im)"
   ]
  },
  {
   "cell_type": "code",
   "execution_count": null,
   "metadata": {},
   "outputs": [],
   "source": [
    "image_listA2 = []\n",
    "\n",
    "for filename in sorted(glob.glob('/Users/Airton/Desktop/images/*fake_B.png')):\n",
    "    im=Image.open(filename).convert('L')\n",
    "    image_listA2.append(im)"
   ]
  },
  {
   "cell_type": "code",
   "execution_count": null,
   "metadata": {},
   "outputs": [],
   "source": [
    "plt.imshow(np.array(image_listA1[0]),cmap='gray')\n",
    "plt.show()"
   ]
  },
  {
   "cell_type": "code",
   "execution_count": null,
   "metadata": {},
   "outputs": [],
   "source": [
    "plt.imshow(np.array(image_listA2[0]),cmap='gray')\n",
    "plt.show()"
   ]
  },
  {
   "cell_type": "code",
   "execution_count": null,
   "metadata": {},
   "outputs": [],
   "source": [
    "print(np.array(image_listA1[1]))"
   ]
  },
  {
   "cell_type": "code",
   "execution_count": null,
   "metadata": {},
   "outputs": [],
   "source": [
    "mse(np.array(image_listA1[0]),np.array(image_listA2[0]))"
   ]
  },
  {
   "cell_type": "code",
   "execution_count": null,
   "metadata": {},
   "outputs": [],
   "source": [
    "ssim(np.array(image_listA1[0]),np.array(image_listA2[0]))"
   ]
  },
  {
   "cell_type": "code",
   "execution_count": null,
   "metadata": {},
   "outputs": [],
   "source": [
    "MSE1 = []\n",
    "SSIM1 = []\n",
    "for i in range(len(image_listA1)):\n",
    "    m = mse(np.array(image_listA1[i]),np.array(image_listA2[i]))\n",
    "    s = ssim(np.array(image_listA1[i]),np.array(image_listA2[i]))\n",
    "    MSE1.append(m)\n",
    "    SSIM1.append(s)"
   ]
  },
  {
   "cell_type": "code",
   "execution_count": null,
   "metadata": {
    "scrolled": true
   },
   "outputs": [],
   "source": [
    "print(MSE1)"
   ]
  },
  {
   "cell_type": "code",
   "execution_count": null,
   "metadata": {},
   "outputs": [],
   "source": [
    "print(SSIM1)"
   ]
  },
  {
   "cell_type": "code",
   "execution_count": null,
   "metadata": {},
   "outputs": [],
   "source": [
    "plt.scatter(x,MSE1,c='black')\n",
    "plt.title(\" NEW MSE\")\n",
    "plt.show()\n",
    "print(min(MSE1),max(MSE1))\n",
    "print(np.mean(MSE1))"
   ]
  },
  {
   "cell_type": "code",
   "execution_count": null,
   "metadata": {},
   "outputs": [],
   "source": [
    "plt.scatter(x,SSIM1,c='black')\n",
    "plt.title(\" NEW SSIM\")\n",
    "plt.show()\n",
    "print(min(SSIM1),max(SSIM1))\n",
    "print(np.mean(SSIM1))"
   ]
  },
  {
   "cell_type": "code",
   "execution_count": null,
   "metadata": {},
   "outputs": [],
   "source": [
    "original = np.array(image_listA1[0])\n",
    "output = np.array(image_listA2[0])\n",
    "# initialize the figure\n",
    "fig = plt.figure(\"Images\")\n",
    "images = (\"Original\", original), (\"Output\", output)\n",
    " \n",
    "# loop over the images\n",
    "for (i, (name, image)) in enumerate(images):\n",
    "    # show the image\n",
    "    ax = fig.add_subplot(1, 2, i + 1)\n",
    "    ax.set_title(name)\n",
    "    plt.imshow(image, cmap = plt.cm.gray)\n",
    "    plt.axis(\"off\")\n",
    "# show the figure\n",
    "plt.show()\n",
    "# compare the images\n",
    "#compare_images(original, original, \"Original vs. Original\")\n",
    "compare_images(original, output, \"Original vs. Output\")"
   ]
  },
  {
   "cell_type": "markdown",
   "metadata": {},
   "source": [
    "# Confusion Matrix"
   ]
  },
  {
   "cell_type": "code",
   "execution_count": null,
   "metadata": {},
   "outputs": [],
   "source": [
    "from sklearn.metrics import confusion_matrix"
   ]
  },
  {
   "cell_type": "code",
   "execution_count": null,
   "metadata": {},
   "outputs": [],
   "source": [
    "Fthr = []\n",
    "Fthf = []\n",
    "for i in range(len(image_listA1)):\n",
    "    gray_img= np.array(image_listA1[i])\n",
    "    gray_img2= np.array(image_listA2[i])\n",
    "    th1 = cv2.threshold(gray_img,1,255,cv2.THRESH_BINARY)\n",
    "    th2 = cv2.threshold(gray_img2,1,255,cv2.THRESH_BINARY)\n",
    "    Fr = list(th1[1].flatten())\n",
    "    Ff = list(th2[1].flatten())\n",
    "    Fthr.append(Fr)\n",
    "    Fthf.append(Ff)"
   ]
  },
  {
   "cell_type": "code",
   "execution_count": null,
   "metadata": {},
   "outputs": [],
   "source": [
    "plt.imshow(Thr[0][1],cmap = 'gray')\n",
    "plt.show()"
   ]
  },
  {
   "cell_type": "code",
   "execution_count": null,
   "metadata": {},
   "outputs": [],
   "source": [
    "plt.imshow(Thf[0][1],cmap = 'gray')\n",
    "plt.show()"
   ]
  },
  {
   "cell_type": "code",
   "execution_count": null,
   "metadata": {},
   "outputs": [],
   "source": [
    "Fthr = []\n",
    "Fthf = []\n",
    "for i in range(len(Thr)):\n",
    "    Fr = list(Thr[i][1].flatten())\n",
    "    Ff = list(Thf[i][1].flatten())\n",
    "    Fthr.append(Fr)\n",
    "    Fthf.append(Ff)"
   ]
  },
  {
   "cell_type": "code",
   "execution_count": null,
   "metadata": {},
   "outputs": [],
   "source": [
    "TN,FP,FN,TP = 0,0,0,0\n",
    "TN1,FP1,FN1,TP1 = 0,0,0,0"
   ]
  },
  {
   "cell_type": "code",
   "execution_count": null,
   "metadata": {},
   "outputs": [],
   "source": [
    "print(Fthr[1])"
   ]
  },
  {
   "cell_type": "code",
   "execution_count": null,
   "metadata": {},
   "outputs": [],
   "source": [
    "for i in range(len(Fthr)):\n",
    "    tn,fp,fn,tp=confusion_matrix(Fthr[i], Fthf[i]).ravel()\n",
    "    TN = TN+tn\n",
    "    FP = FP +fp\n",
    "    FN = FN +fn\n",
    "    TP = TP +tp"
   ]
  },
  {
   "cell_type": "code",
   "execution_count": null,
   "metadata": {},
   "outputs": [],
   "source": [
    "print(\"            \", \"True-\", \"False+\", \"False-\", \"True+\")\n",
    "print(\"Old run:   \", 2829160, 87329, 141761, 153014)\n",
    "print(\"New run:   \",TN,FP,FN,TP)\n",
    "print(\"Difference: \",TN-2829160, FP-87329, FN-141761, TP-153014)"
   ]
  },
  {
   "cell_type": "markdown",
   "metadata": {},
   "source": [
    "Old run:    2829160 87329 141761 153014\n",
    "New run:    2813072 143918 93857 225953\n",
    "Difference:  -16088 56589 -47904 72939"
   ]
  },
  {
   "cell_type": "code",
   "execution_count": null,
   "metadata": {},
   "outputs": [],
   "source": [
    "Fthr1 = []\n",
    "Fthf1 = []\n",
    "for i in range(len(run1R)):\n",
    "    gray_img= np.array(run1R[i])\n",
    "    gray_img2= np.array(run1F[i])\n",
    "    th1 = cv2.threshold(gray_img,10,255,cv2.THRESH_BINARY)\n",
    "    th2 = cv2.threshold(gray_img2,10,255,cv2.THRESH_BINARY)\n",
    "    Fr = list(th1[1].flatten())\n",
    "    Ff = list(th2[1].flatten())\n",
    "    Fthr1.append(Fr)\n",
    "    Fthf1.append(Ff)"
   ]
  },
  {
   "cell_type": "code",
   "execution_count": null,
   "metadata": {},
   "outputs": [],
   "source": [
    "for i in range(len(Fthr1)):\n",
    "    tn,fp,fn,tp=confusion_matrix(Fthr1[i], Fthf1[i]).ravel()\n",
    "    TN1 = TN1 +tn\n",
    "    FP1 = FP1 +fp\n",
    "    FN1 = FN1 +fn\n",
    "    TP1 = TP1 +tp"
   ]
  },
  {
   "cell_type": "code",
   "execution_count": null,
   "metadata": {},
   "outputs": [],
   "source": [
    "print(\"             \", \"TN\", \"   \", \"FP\",\"   \", \"FN\",\"   \", \"TP\")\n",
    "print(\"Old run:    \",TN1,FP1,FN1,TP1)\n",
    "print(\"New run:    \",TN,FP,FN,TP)\n",
    "print(\"Difference: \",TN-TN1, FP-FP1, FN-FN1, TP-TP1)"
   ]
  },
  {
   "cell_type": "code",
   "execution_count": null,
   "metadata": {},
   "outputs": [],
   "source": [
    "Total = TN+FP+FN+TP\n",
    "Total1 = TN1+FP1+FN1+TP1"
   ]
  },
  {
   "cell_type": "code",
   "execution_count": null,
   "metadata": {},
   "outputs": [],
   "source": [
    "print(\"Old run %:    \",(TN1/Total1)*100,(FP1/Total1)*100,(FN1/Total1)*100,(TP1/Total1)*100)\n",
    "print(\"New run %:    \",(TN/Total)*100,(FP/Total)*100,(FN/Total)*100,(TP/Total)*100)"
   ]
  },
  {
   "cell_type": "code",
   "execution_count": null,
   "metadata": {},
   "outputs": [],
   "source": []
  }
 ],
 "metadata": {
  "kernelspec": {
   "display_name": "Python 3",
   "language": "python",
   "name": "python3"
  },
  "language_info": {
   "codemirror_mode": {
    "name": "ipython",
    "version": 3
   },
   "file_extension": ".py",
   "mimetype": "text/x-python",
   "name": "python",
   "nbconvert_exporter": "python",
   "pygments_lexer": "ipython3",
   "version": "3.6.3"
  }
 },
 "nbformat": 4,
 "nbformat_minor": 2
}
