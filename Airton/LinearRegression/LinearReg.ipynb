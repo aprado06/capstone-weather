{
 "cells": [
  {
   "cell_type": "code",
   "execution_count": 1,
   "metadata": {},
   "outputs": [],
   "source": [
    "import numpy as np\n",
    "import matplotlib.pyplot as plt\n",
    "import pylab as pl\n",
    "import matplotlib.animation as animation\n",
    "\n",
    "import seaborn as sns;\n",
    "from skimage.transform import rescale, resize, downscale_local_mean\n",
    "\n",
    "from sklearn import datasets, linear_model\n",
    "from sklearn.metrics import mean_squared_error, r2_score\n",
    "\n",
    "import pandas as pd\n",
    "import cv2 \n",
    "from sklearn.metrics import confusion_matrix"
   ]
  },
  {
   "cell_type": "code",
   "execution_count": 2,
   "metadata": {},
   "outputs": [],
   "source": [
    "from PIL import Image\n",
    "import glob\n",
    "image_listA1 = []\n",
    "\n",
    "for filename in sorted(glob.glob('/Users/Airton/Desktop/Data/A/*A1.png')):\n",
    "    im=Image.open(filename).convert('L')\n",
    "    image_listA1.append(np.array(im).flatten())"
   ]
  },
  {
   "cell_type": "code",
   "execution_count": 3,
   "metadata": {},
   "outputs": [],
   "source": [
    "image_listA2 = []\n",
    "\n",
    "for filename in sorted(glob.glob('/Users/Airton/Desktop/Data/A/*A2.png')):\n",
    "    im=Image.open(filename).convert('L')\n",
    "    image_listA2.append(np.array(im).flatten())"
   ]
  },
  {
   "cell_type": "code",
   "execution_count": 4,
   "metadata": {},
   "outputs": [],
   "source": [
    "image_listA3 = []\n",
    "\n",
    "for filename in sorted(glob.glob('/Users/Airton/Desktop/Data/A/*A3.png')):\n",
    "    im=Image.open(filename).convert('L')\n",
    "    image_listA3.append(np.array(im).flatten())"
   ]
  },
  {
   "cell_type": "code",
   "execution_count": 5,
   "metadata": {},
   "outputs": [],
   "source": [
    "image_listA4 = []\n",
    "\n",
    "for filename in sorted(glob.glob('/Users/Airton/Desktop/Data/A/*A4.png')):\n",
    "    im=Image.open(filename).convert('L')\n",
    "    image_listA4.append(np.array(im).flatten())"
   ]
  },
  {
   "cell_type": "code",
   "execution_count": 6,
   "metadata": {},
   "outputs": [],
   "source": [
    "image_listA5 = []\n",
    "\n",
    "for filename in sorted(glob.glob('/Users/Airton/Desktop/Data/A/*A5.png')):\n",
    "    im=Image.open(filename).convert('L')\n",
    "    image_listA5.append(np.array(im).flatten())"
   ]
  },
  {
   "cell_type": "code",
   "execution_count": 7,
   "metadata": {},
   "outputs": [],
   "source": [
    "image_listA6 = []\n",
    "\n",
    "for filename in sorted(glob.glob('/Users/Airton/Desktop/Data/A/*A6.png')):\n",
    "    im=Image.open(filename).convert('L')\n",
    "    image_listA6.append(np.array(im).flatten())"
   ]
  },
  {
   "cell_type": "code",
   "execution_count": 12,
   "metadata": {},
   "outputs": [],
   "source": [
    "image_listB1 = []\n",
    "\n",
    "for filename in sorted(glob.glob('/Users/Airton/Desktop/Data/B/*B1.png')):\n",
    "    im=Image.open(filename).convert('L')\n",
    "    image_listB1.append(np.array(im).flatten())"
   ]
  },
  {
   "cell_type": "code",
   "execution_count": null,
   "metadata": {},
   "outputs": [],
   "source": [
    "print(type(image_listA1[0]))"
   ]
  },
  {
   "cell_type": "code",
   "execution_count": 11,
   "metadata": {},
   "outputs": [
    {
     "name": "stdout",
     "output_type": "stream",
     "text": [
      "49\n",
      "57\n",
      "35\n"
     ]
    }
   ],
   "source": [
    "print(len(image_listB1))\n",
    "print(len(image_listA1))\n",
    "print(image_listA1[0][65535])"
   ]
  },
  {
   "cell_type": "code",
   "execution_count": null,
   "metadata": {},
   "outputs": [],
   "source": [
    "plt.imshow(image_listA1[0].reshape(256,256),cmap=\"gray\")\n",
    "plt.show()"
   ]
  },
  {
   "cell_type": "code",
   "execution_count": null,
   "metadata": {},
   "outputs": [],
   "source": [
    "plt.imshow(image_listA6[0])\n",
    "plt.show()"
   ]
  },
  {
   "cell_type": "code",
   "execution_count": null,
   "metadata": {},
   "outputs": [],
   "source": [
    "plt.imshow(image_listB1[0])\n",
    "plt.show()"
   ]
  },
  {
   "cell_type": "code",
   "execution_count": 13,
   "metadata": {},
   "outputs": [],
   "source": [
    "Inputs = []\n",
    "Radar = []\n",
    "for i in range(len(image_listA1)):\n",
    "    for j in range(len(image_listA1[0])):\n",
    "        x = []\n",
    "        x.append(image_listA1[i][j])\n",
    "        x.append(image_listA2[i][j])\n",
    "        x.append(image_listA3[i][j])\n",
    "        x.append(image_listA4[i][j])\n",
    "        x.append(image_listA5[i][j])\n",
    "        x.append(image_listA6[i][j])\n",
    "        \n",
    "        Radar.append(image_listB1[i][j])\n",
    "        \n",
    "        Inputs.append(x)"
   ]
  },
  {
   "cell_type": "code",
   "execution_count": 14,
   "metadata": {},
   "outputs": [],
   "source": [
    "Inputs = np.array(Inputs)\n",
    "Radar = np.array(Radar)"
   ]
  },
  {
   "cell_type": "code",
   "execution_count": null,
   "metadata": {},
   "outputs": [],
   "source": [
    "print(Inputs.shape)\n",
    "print(Radar.shape)"
   ]
  },
  {
   "cell_type": "code",
   "execution_count": 15,
   "metadata": {
    "scrolled": true
   },
   "outputs": [
    {
     "name": "stdout",
     "output_type": "stream",
     "text": [
      "393216\n"
     ]
    }
   ],
   "source": [
    "Input = np.concatenate((image_listA1,image_listA2,image_listA3,image_listA4,image_listA5,image_listA6),axis=1)\n",
    "print(len(Input[0]))"
   ]
  },
  {
   "cell_type": "code",
   "execution_count": null,
   "metadata": {},
   "outputs": [],
   "source": [
    "plt.imshow(Input[0])\n",
    "plt.show()"
   ]
  },
  {
   "cell_type": "code",
   "execution_count": null,
   "metadata": {},
   "outputs": [],
   "source": [
    "print((Input[0][1]))"
   ]
  },
  {
   "cell_type": "code",
   "execution_count": null,
   "metadata": {},
   "outputs": [],
   "source": [
    "flattened_listt = []\n",
    "for index in range(len(Input)):\n",
    "    for pixel in range(256): \n",
    "        flattened = Input[index][pixel].flatten()\n",
    "        flattened_listt.append(flattened.tolist())\n",
    "ftry = np.array(flattened_listt).reshape(-1,1)\n",
    "print(len(ftry))"
   ]
  },
  {
   "cell_type": "code",
   "execution_count": null,
   "metadata": {},
   "outputs": [],
   "source": [
    "def flatten(listin):\n",
    "    flattened_list = []\n",
    "    for index in range(len(listin)):\n",
    "        for pixel in range(256): \n",
    "            flattened = listin[index][pixel].flatten()\n",
    "            flattened_list.append(flattened.tolist())\n",
    "    return flattened_list"
   ]
  },
  {
   "cell_type": "code",
   "execution_count": null,
   "metadata": {},
   "outputs": [],
   "source": [
    "FlatInput = np.array(flatten(Input)).reshape(-1,1)\n",
    "FlatRadar = np.array(flatten(image_listB1)).reshape(-1,1)\n",
    "print(len(FlatRadar))\n",
    "print(len(FlatInput))\n",
    "print(FlatInput[1024])\n",
    "print(FlatRadar[1024])"
   ]
  },
  {
   "cell_type": "code",
   "execution_count": null,
   "metadata": {
    "scrolled": true
   },
   "outputs": [],
   "source": [
    "'''\n",
    "Linear Regression\n",
    "'''\n",
    "train_x = FlatInput[:-58368]\n",
    "train_y = FlatRadar[:-58368]\n",
    "test_x = FlatInput[-58368:]\n",
    "test_y = FlatRadar[-58368:]\n",
    "\n",
    "regr = linear_model.LinearRegression(normalize=False)\n",
    "\n",
    "# Train the model using the training sets\n",
    "regr.fit(train_x, train_y)\n",
    "\n",
    "# Make predictions using the testing set\n",
    "y_pred = regr.predict(test_x)\n",
    "\n",
    "# The coefficients\n",
    "print('Coefficients: \\n', regr.coef_)\n",
    "# The mean squared error\n",
    "print(\"Mean squared error: %.2f\"\n",
    "      % mean_squared_error(test_y, y_pred))\n",
    "print(\"Calculated mean squared error\", np.mean(y_pred - test_y)**2)\n",
    "# Explained variance score: 1 is perfect prediction\n",
    "print('Variance score: %.2f' % r2_score(test_y, y_pred))\n",
    "print('Intercept: ', regr.intercept_)\n",
    "# Plot outputs\n",
    "plt.scatter(test_x, test_y,  color='black')\n",
    "plt.plot(test_x, y_pred, color='blue', linewidth=3)\n",
    "\n",
    "plt.xticks(())\n",
    "plt.yticks(())\n",
    "\n",
    "plt.show()"
   ]
  },
  {
   "cell_type": "code",
   "execution_count": 18,
   "metadata": {},
   "outputs": [
    {
     "name": "stdout",
     "output_type": "stream",
     "text": [
      "Coefficients: \n",
      " [ 0.00658671 -0.04822761 -0.05972578 -0.00197233  0.00765351 -0.00489003]\n",
      "Mean squared error: 106.34\n",
      "Calculated mean squared error 1.1012530163773546\n",
      "Variance score: 0.03\n",
      "Intercept:  23.999517756175344\n"
     ]
    }
   ],
   "source": [
    "'''\n",
    "Linear Regression\n",
    "'''\n",
    "train_x = Inputs[:-65536]\n",
    "train_y = Radar[:-65536]\n",
    "test_x = Inputs[-65536:]\n",
    "test_y = Radar[-65536:]\n",
    "regr = linear_model.LinearRegression(normalize=False)\n",
    "\n",
    "# Train the model using the training sets\n",
    "regr.fit(train_x, train_y)\n",
    "\n",
    "# Make predictions using the testing set\n",
    "y_pred = regr.predict(test_x)\n",
    "\n",
    "# The coefficients\n",
    "print('Coefficients: \\n', regr.coef_)\n",
    "# The mean squared error\n",
    "print(\"Mean squared error: %.2f\"\n",
    "      % mean_squared_error(test_y, y_pred))\n",
    "print(\"Calculated mean squared error\", np.mean(y_pred - test_y)**2)\n",
    "# Explained variance score: 1 is perfect prediction\n",
    "print('Variance score: %.2f' % r2_score(test_y, y_pred))\n",
    "print('Intercept: ', regr.intercept_)"
   ]
  },
  {
   "cell_type": "code",
   "execution_count": null,
   "metadata": {},
   "outputs": [],
   "source": [
    "# Plot outputs\n",
    "plt.scatter(test_x, test_y,  color='black')\n",
    "plt.plot(test_x, y_pred, color='blue', linewidth=3)\n",
    "\n",
    "plt.xticks(())\n",
    "plt.yticks(())\n",
    "\n",
    "plt.show()"
   ]
  },
  {
   "cell_type": "code",
   "execution_count": null,
   "metadata": {},
   "outputs": [],
   "source": [
    "print(test_x.size)\n",
    "print(test_y.size)"
   ]
  },
  {
   "cell_type": "code",
   "execution_count": null,
   "metadata": {},
   "outputs": [],
   "source": [
    "resh = np.array(image_listA1).reshape(-1,1)\n",
    "plt.imshow(resh[-65536:].reshape(256, 256), cmap='gray')\n",
    "plt.show()"
   ]
  },
  {
   "cell_type": "code",
   "execution_count": null,
   "metadata": {},
   "outputs": [],
   "source": [
    "resh = np.array(image_listA2).reshape(-1,1)\n",
    "plt.imshow(resh[-65536:].reshape(256, 256), cmap='gray')\n",
    "plt.show()"
   ]
  },
  {
   "cell_type": "code",
   "execution_count": null,
   "metadata": {},
   "outputs": [],
   "source": [
    "resh = np.array(image_listA3).reshape(-1,1)\n",
    "plt.imshow(resh[-65536:].reshape(256, 256), cmap='gray')\n",
    "plt.show()"
   ]
  },
  {
   "cell_type": "code",
   "execution_count": null,
   "metadata": {},
   "outputs": [],
   "source": [
    "resh = np.array(image_listA4).reshape(-1,1)\n",
    "plt.imshow(resh[-65536:].reshape(256, 256), cmap='gray')\n",
    "plt.show()"
   ]
  },
  {
   "cell_type": "code",
   "execution_count": null,
   "metadata": {},
   "outputs": [],
   "source": [
    "resh = np.array(image_listA5).reshape(-1,1)\n",
    "plt.imshow(resh[-65536:].reshape(256, 256), cmap='gray')\n",
    "plt.show()"
   ]
  },
  {
   "cell_type": "code",
   "execution_count": null,
   "metadata": {},
   "outputs": [],
   "source": [
    "resh = np.array(image_listA6).reshape(-1,1)\n",
    "plt.imshow(resh[-65536:].reshape(256, 256), cmap='gray')\n",
    "plt.show()"
   ]
  },
  {
   "cell_type": "code",
   "execution_count": null,
   "metadata": {
    "scrolled": true
   },
   "outputs": [],
   "source": [
    "plt.imshow(y_pred.reshape(256, 256), cmap='gray')\n",
    "plt.show()"
   ]
  },
  {
   "cell_type": "code",
   "execution_count": null,
   "metadata": {},
   "outputs": [],
   "source": [
    "plt.imshow(test_y.reshape(256, 256), cmap='gray')\n",
    "plt.show()"
   ]
  },
  {
   "cell_type": "code",
   "execution_count": 20,
   "metadata": {},
   "outputs": [],
   "source": [
    "input_names = [\"Sat Band 2\",\"Sat Band 6\",\"Mod Visibility Feature\",\"Mod Relative Humidity Feature\",\"Mod Specific Humidty Feature\",\"Mod Temperature at the surface Feature\"]\n",
    "X_names = np.asarray(input_names)"
   ]
  },
  {
   "cell_type": "code",
   "execution_count": 21,
   "metadata": {},
   "outputs": [
    {
     "data": {
      "text/plain": [
       "array([ 0.00658671, -0.04822761, -0.05972578, -0.00197233,  0.00765351,\n",
       "       -0.00489003])"
      ]
     },
     "execution_count": 21,
     "metadata": {},
     "output_type": "execute_result"
    }
   ],
   "source": [
    "regr.coef_"
   ]
  },
  {
   "cell_type": "code",
   "execution_count": 22,
   "metadata": {},
   "outputs": [
    {
     "name": "stdout",
     "output_type": "stream",
     "text": [
      "Sat Band 2       0.006586711492964128\n",
      "Sat Band 6       -0.04822761350660772\n",
      "Mod Visibility Feature       -0.05972577518858085\n",
      "Mod Relative Humidity Feature       -0.001972327680450401\n",
      "Mod Specific Humidty Feature       0.007653508527873743\n",
      "Mod Temperature at the surface Feature       -0.0048900269513936995\n"
     ]
    }
   ],
   "source": [
    "for feat, coef in zip(X_names, regr.coef_):\n",
    "    print('{}       {}'.format(feat, coef))"
   ]
  },
  {
   "cell_type": "code",
   "execution_count": 23,
   "metadata": {},
   "outputs": [],
   "source": [
    "df = pd.DataFrame({'Features':input_names, 'coeff':regr.coef_})"
   ]
  },
  {
   "cell_type": "code",
   "execution_count": 24,
   "metadata": {},
   "outputs": [
    {
     "data": {
      "image/png": "[encoded data removed]",
      "text/plain": [
       "<matplotlib.figure.Figure at 0x1c51ae44a8>"
      ]
     },
     "metadata": {
      "needs_background": "light"
     },
     "output_type": "display_data"
    }
   ],
   "source": [
    "df.plot.bar(x='Features', y='coeff', color=(\"g\"),rot=90)\n",
    "plt.show()"
   ]
  },
  {
   "cell_type": "code",
   "execution_count": 25,
   "metadata": {},
   "outputs": [],
   "source": [
    "Output = y_pred.reshape(256, 256)\n",
    "Original = test_y.reshape(256, 256)"
   ]
  },
  {
   "cell_type": "code",
   "execution_count": 26,
   "metadata": {},
   "outputs": [],
   "source": [
    "th1 = cv2.threshold(Output,1,255,cv2.THRESH_BINARY)\n",
    "th2 = cv2.threshold(Original,1,255,cv2.THRESH_BINARY)\n",
    "FR = list(th1[1].flatten())\n",
    "FF = list(th2[1].flatten())"
   ]
  },
  {
   "cell_type": "code",
   "execution_count": 35,
   "metadata": {},
   "outputs": [
    {
     "name": "stdout",
     "output_type": "stream",
     "text": [
      "30158 442 32306 2630\n"
     ]
    }
   ],
   "source": [
    "tn,fp,fn,tp=confusion_matrix(FR, FF).ravel()\n",
    "print(tn,fp,fn,tp)"
   ]
  },
  {
   "cell_type": "code",
   "execution_count": 28,
   "metadata": {},
   "outputs": [
    {
     "data": {
      "image/png": "[encoded data removed]",
      "text/plain": [
       "<matplotlib.figure.Figure at 0x1c52281ef0>"
      ]
     },
     "metadata": {
      "needs_background": "light"
     },
     "output_type": "display_data"
    }
   ],
   "source": [
    "plt.imshow(th1[1],cmap = 'gray')\n",
    "plt.show()"
   ]
  },
  {
   "cell_type": "code",
   "execution_count": 29,
   "metadata": {},
   "outputs": [
    {
     "data": {
      "image/png": "[encoded data removed]",
      "text/plain": [
       "<matplotlib.figure.Figure at 0x1c2c9c8048>"
      ]
     },
     "metadata": {
      "needs_background": "light"
     },
     "output_type": "display_data"
    }
   ],
   "source": [
    "plt.imshow(th2[1],cmap = 'gray')\n",
    "plt.show()"
   ]
  },
  {
   "cell_type": "code",
   "execution_count": 38,
   "metadata": {},
   "outputs": [
    {
     "name": "stdout",
     "output_type": "stream",
     "text": [
      "65536\n"
     ]
    }
   ],
   "source": [
    "Total = tn+fp+fn+tp\n",
    "print(Total)"
   ]
  },
  {
   "cell_type": "code",
   "execution_count": 39,
   "metadata": {},
   "outputs": [],
   "source": [
    "PTN = (tn/Total)*100\n",
    "PFP = (fp/Total)*100\n",
    "PFN = (fn/Total)*100\n",
    "PTP = (tp/Total)*100"
   ]
  },
  {
   "cell_type": "code",
   "execution_count": 41,
   "metadata": {},
   "outputs": [
    {
     "name": "stdout",
     "output_type": "stream",
     "text": [
      "46.0174560546875 0.6744384765625 49.2950439453125 4.0130615234375\n"
     ]
    }
   ],
   "source": [
    "print(PTN,PFP,PFN,PTP)"
   ]
  },
  {
   "cell_type": "code",
   "execution_count": 32,
   "metadata": {},
   "outputs": [
    {
     "name": "stdout",
     "output_type": "stream",
     "text": [
      "Correct =  50.030517578125  Wrong =  49.969482421875\n"
     ]
    }
   ],
   "source": [
    "Correct = PTN + PTP\n",
    "Wrong = PFN + PFP\n",
    "print(\"Correct = \", Correct, \" Wrong = \", Wrong)"
   ]
  },
  {
   "cell_type": "code",
   "execution_count": 42,
   "metadata": {},
   "outputs": [
    {
     "data": {
      "text/plain": [
       "<matplotlib.axes._subplots.AxesSubplot at 0x1c1b970f60>"
      ]
     },
     "execution_count": 42,
     "metadata": {},
     "output_type": "execute_result"
    },
    {
     "data": {
      "image/png": "[encoded data removed]",
      "text/plain": [
       "<matplotlib.figure.Figure at 0x1c1b970320>"
      ]
     },
     "metadata": {},
     "output_type": "display_data"
    }
   ],
   "source": [
    "import seaborn as sn\n",
    "import pandas as pd\n",
    "import matplotlib.pyplot as plt\n",
    "\n",
    "array = [[PTN,PFN],\n",
    "        [PFP,PTP]]        \n",
    "df_cm = pd.DataFrame(array, range(2),\n",
    "                  range(2))\n",
    "sn.set(font_scale=1.4)#for label size\n",
    "sn.heatmap(df_cm, annot=True,annot_kws={\"size\": 16})# font size"
   ]
  },
  {
   "cell_type": "code",
   "execution_count": 53,
   "metadata": {},
   "outputs": [],
   "source": [
    "NN = fn+tn\n",
    "NP = fp+tp"
   ]
  },
  {
   "cell_type": "code",
   "execution_count": 54,
   "metadata": {},
   "outputs": [],
   "source": [
    "NPTN = (tn/NN)\n",
    "NPFP = (fp/NP)\n",
    "NPFN = (fn/NN)\n",
    "NPTP = (tp/NP)"
   ]
  },
  {
   "cell_type": "code",
   "execution_count": 56,
   "metadata": {},
   "outputs": [
    {
     "name": "stdout",
     "output_type": "stream",
     "text": [
      "0.5171939036885246\n"
     ]
    }
   ],
   "source": [
    "print(NPFN)"
   ]
  },
  {
   "cell_type": "code",
   "execution_count": 65,
   "metadata": {},
   "outputs": [
    {
     "data": {
      "text/plain": [
       "<matplotlib.axes._subplots.AxesSubplot at 0x1c1c8e72e8>"
      ]
     },
     "execution_count": 65,
     "metadata": {},
     "output_type": "execute_result"
    },
    {
     "data": {
      "image/png": "[encoded data removed]",
      "text/plain": [
       "<matplotlib.figure.Figure at 0x1c1c980a90>"
      ]
     },
     "metadata": {},
     "output_type": "display_data"
    }
   ],
   "source": [
    "array = [[NPTN,NPFN],[NPFP,NPTP]]        \n",
    "df_cm = pd.DataFrame(array, range(2),\n",
    "                  range(2))\n",
    "sn.set(font_scale=1.4)#for label size\n",
    "sn.heatmap(df_cm, annot=True,annot_kws={\"size\": 16})# font size"
   ]
  },
  {
   "cell_type": "code",
   "execution_count": 64,
   "metadata": {},
   "outputs": [
    {
     "data": {
      "text/plain": [
       "<matplotlib.axes._subplots.AxesSubplot at 0x1c1c86f550>"
      ]
     },
     "execution_count": 64,
     "metadata": {},
     "output_type": "execute_result"
    },
    {
     "data": {
      "image/png": "[encoded data removed]",
      "text/plain": [
       "<matplotlib.figure.Figure at 0x1c1c8999e8>"
      ]
     },
     "metadata": {},
     "output_type": "display_data"
    }
   ],
   "source": [
    "array = [[NPTP,NPFP],[NPFN,NPTN]]        \n",
    "df_cm = pd.DataFrame(array, range(2),\n",
    "                  range(2))\n",
    "sn.set(font_scale=1.4)#for label size\n",
    "sn.heatmap(df_cm, annot=True,annot_kws={\"size\": 16})# font size"
   ]
  },
  {
   "cell_type": "code",
   "execution_count": null,
   "metadata": {},
   "outputs": [],
   "source": []
  }
 ],
 "metadata": {
  "kernelspec": {
   "display_name": "Python 3",
   "language": "python",
   "name": "python3"
  },
  "language_info": {
   "codemirror_mode": {
    "name": "ipython",
    "version": 3
   },
   "file_extension": ".py",
   "mimetype": "text/x-python",
   "name": "python",
   "nbconvert_exporter": "python",
   "pygments_lexer": "ipython3",
   "version": "3.6.3"
  }
 },
 "nbformat": 4,
 "nbformat_minor": 2
}
