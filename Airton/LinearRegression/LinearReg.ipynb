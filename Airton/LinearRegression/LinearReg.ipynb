{
 "cells": [
  {
   "cell_type": "code",
   "execution_count": null,
   "metadata": {},
   "outputs": [],
   "source": [
    "import numpy as np\n",
    "import matplotlib.pyplot as plt\n",
    "import pylab as pl\n",
    "import matplotlib.animation as animation\n",
    "\n",
    "import seaborn as sns;\n",
    "from skimage.transform import rescale, resize, downscale_local_mean\n",
    "\n",
    "from sklearn import datasets, linear_model\n",
    "from sklearn.metrics import mean_squared_error, r2_score\n",
    "\n",
    "import pandas as pd\n",
    "import cv2 \n",
    "from sklearn.metrics import confusion_matrix"
   ]
  },
  {
   "cell_type": "code",
   "execution_count": null,
   "metadata": {},
   "outputs": [],
   "source": [
    "from PIL import Image\n",
    "import glob\n",
    "image_listA1 = []\n",
    "\n",
    "for filename in sorted(glob.glob('/Users/Airton/Desktop/Data/A/*A1.png')):\n",
    "    im=Image.open(filename).convert('L')\n",
    "    image_listA1.append(np.array(im).flatten())"
   ]
  },
  {
   "cell_type": "code",
   "execution_count": null,
   "metadata": {},
   "outputs": [],
   "source": [
    "image_listA2 = []\n",
    "\n",
    "for filename in sorted(glob.glob('/Users/Airton/Desktop/Data/A/*A2.png')):\n",
    "    im=Image.open(filename).convert('L')\n",
    "    image_listA2.append(np.array(im).flatten())"
   ]
  },
  {
   "cell_type": "code",
   "execution_count": null,
   "metadata": {},
   "outputs": [],
   "source": [
    "image_listA3 = []\n",
    "\n",
    "for filename in sorted(glob.glob('/Users/Airton/Desktop/Data/A/*A3.png')):\n",
    "    im=Image.open(filename).convert('L')\n",
    "    image_listA3.append(np.array(im).flatten())"
   ]
  },
  {
   "cell_type": "code",
   "execution_count": null,
   "metadata": {},
   "outputs": [],
   "source": [
    "image_listA4 = []\n",
    "\n",
    "for filename in sorted(glob.glob('/Users/Airton/Desktop/Data/A/*A4.png')):\n",
    "    im=Image.open(filename).convert('L')\n",
    "    image_listA4.append(np.array(im).flatten())"
   ]
  },
  {
   "cell_type": "code",
   "execution_count": null,
   "metadata": {},
   "outputs": [],
   "source": [
    "image_listA5 = []\n",
    "\n",
    "for filename in sorted(glob.glob('/Users/Airton/Desktop/Data/A/*A5.png')):\n",
    "    im=Image.open(filename).convert('L')\n",
    "    image_listA5.append(np.array(im).flatten())"
   ]
  },
  {
   "cell_type": "code",
   "execution_count": null,
   "metadata": {},
   "outputs": [],
   "source": [
    "image_listA6 = []\n",
    "\n",
    "for filename in sorted(glob.glob('/Users/Airton/Desktop/Data/A/*A6.png')):\n",
    "    im=Image.open(filename).convert('L')\n",
    "    image_listA6.append(np.array(im).flatten())"
   ]
  },
  {
   "cell_type": "code",
   "execution_count": null,
   "metadata": {},
   "outputs": [],
   "source": [
    "image_listB1 = []\n",
    "\n",
    "for filename in sorted(glob.glob('/Users/Airton/Desktop/Data/B/*B1.png')):\n",
    "    im=Image.open(filename).convert('L')\n",
    "    image_listB1.append(np.array(im).flatten())"
   ]
  },
  {
   "cell_type": "code",
   "execution_count": null,
   "metadata": {},
   "outputs": [],
   "source": [
    "print(type(image_listA1[0]))"
   ]
  },
  {
   "cell_type": "code",
   "execution_count": null,
   "metadata": {},
   "outputs": [],
   "source": [
    "print(len(image_listB1))\n",
    "print(image_listA1[0][65535])"
   ]
  },
  {
   "cell_type": "code",
   "execution_count": null,
   "metadata": {},
   "outputs": [],
   "source": [
    "plt.imshow(image_listA1[0].reshape(256,256),cmap=\"gray\")\n",
    "plt.show()"
   ]
  },
  {
   "cell_type": "code",
   "execution_count": null,
   "metadata": {},
   "outputs": [],
   "source": [
    "plt.imshow(image_listA6[0])\n",
    "plt.show()"
   ]
  },
  {
   "cell_type": "code",
   "execution_count": null,
   "metadata": {},
   "outputs": [],
   "source": [
    "plt.imshow(image_listB1[0])\n",
    "plt.show()"
   ]
  },
  {
   "cell_type": "code",
   "execution_count": null,
   "metadata": {},
   "outputs": [],
   "source": [
    "Inputs = []\n",
    "Radar = []\n",
    "for i in range(len(image_listA1)):\n",
    "    for j in range(len(image_listA1[0])):\n",
    "        x = []\n",
    "        x.append(image_listA1[i][j])\n",
    "        x.append(image_listA2[i][j])\n",
    "        x.append(image_listA3[i][j])\n",
    "        x.append(image_listA4[i][j])\n",
    "        x.append(image_listA5[i][j])\n",
    "        x.append(image_listA6[i][j])\n",
    "        \n",
    "        Radar.append(image_listB1[i][j])\n",
    "        \n",
    "        Inputs.append(x)"
   ]
  },
  {
   "cell_type": "code",
   "execution_count": null,
   "metadata": {},
   "outputs": [],
   "source": [
    "Inputs = np.array(Inputs)\n",
    "Radar = np.array(Radar)"
   ]
  },
  {
   "cell_type": "code",
   "execution_count": null,
   "metadata": {},
   "outputs": [],
   "source": [
    "print(Inputs.shape)\n",
    "print(Radar.shape)"
   ]
  },
  {
   "cell_type": "code",
   "execution_count": null,
   "metadata": {
    "scrolled": true
   },
   "outputs": [],
   "source": [
    "Input = np.concatenate((image_listA1,image_listA2,image_listA3,image_listA4,image_listA5,image_listA6),axis=1)\n",
    "print(len(Input[0]))"
   ]
  },
  {
   "cell_type": "code",
   "execution_count": null,
   "metadata": {},
   "outputs": [],
   "source": [
    "plt.imshow(Input[0])\n",
    "plt.show()"
   ]
  },
  {
   "cell_type": "code",
   "execution_count": null,
   "metadata": {},
   "outputs": [],
   "source": [
    "print((Input[0][1]))"
   ]
  },
  {
   "cell_type": "code",
   "execution_count": null,
   "metadata": {},
   "outputs": [],
   "source": [
    "flattened_listt = []\n",
    "for index in range(len(Input)):\n",
    "    for pixel in range(256): \n",
    "        flattened = Input[index][pixel].flatten()\n",
    "        flattened_listt.append(flattened.tolist())\n",
    "ftry = np.array(flattened_listt).reshape(-1,1)\n",
    "print(len(ftry))"
   ]
  },
  {
   "cell_type": "code",
   "execution_count": null,
   "metadata": {},
   "outputs": [],
   "source": [
    "def flatten(listin):\n",
    "    flattened_list = []\n",
    "    for index in range(len(listin)):\n",
    "        for pixel in range(256): \n",
    "            flattened = listin[index][pixel].flatten()\n",
    "            flattened_list.append(flattened.tolist())\n",
    "    return flattened_list"
   ]
  },
  {
   "cell_type": "code",
   "execution_count": null,
   "metadata": {},
   "outputs": [],
   "source": [
    "FlatInput = np.array(flatten(Input)).reshape(-1,1)\n",
    "FlatRadar = np.array(flatten(image_listB1)).reshape(-1,1)\n",
    "print(len(FlatRadar))\n",
    "print(len(FlatInput))\n",
    "print(FlatInput[1024])\n",
    "print(FlatRadar[1024])"
   ]
  },
  {
   "cell_type": "code",
   "execution_count": null,
   "metadata": {
    "scrolled": true
   },
   "outputs": [],
   "source": [
    "'''\n",
    "Linear Regression\n",
    "'''\n",
    "train_x = FlatInput[:-58368]\n",
    "train_y = FlatRadar[:-58368]\n",
    "test_x = FlatInput[-58368:]\n",
    "test_y = FlatRadar[-58368:]\n",
    "\n",
    "regr = linear_model.LinearRegression(normalize=False)\n",
    "\n",
    "# Train the model using the training sets\n",
    "regr.fit(train_x, train_y)\n",
    "\n",
    "# Make predictions using the testing set\n",
    "y_pred = regr.predict(test_x)\n",
    "\n",
    "# The coefficients\n",
    "print('Coefficients: \\n', regr.coef_)\n",
    "# The mean squared error\n",
    "print(\"Mean squared error: %.2f\"\n",
    "      % mean_squared_error(test_y, y_pred))\n",
    "print(\"Calculated mean squared error\", np.mean(y_pred - test_y)**2)\n",
    "# Explained variance score: 1 is perfect prediction\n",
    "print('Variance score: %.2f' % r2_score(test_y, y_pred))\n",
    "print('Intercept: ', regr.intercept_)\n",
    "# Plot outputs\n",
    "plt.scatter(test_x, test_y,  color='black')\n",
    "plt.plot(test_x, y_pred, color='blue', linewidth=3)\n",
    "\n",
    "plt.xticks(())\n",
    "plt.yticks(())\n",
    "\n",
    "plt.show()"
   ]
  },
  {
   "cell_type": "code",
   "execution_count": null,
   "metadata": {},
   "outputs": [],
   "source": [
    "'''\n",
    "Linear Regression\n",
    "'''\n",
    "train_x = Inputs[:-65536]\n",
    "train_y = Radar[:-65536]\n",
    "test_x = Inputs[-65536:]\n",
    "test_y = Radar[-65536:]\n",
    "regr = linear_model.LinearRegression(normalize=False)\n",
    "\n",
    "# Train the model using the training sets\n",
    "regr.fit(train_x, train_y)\n",
    "\n",
    "# Make predictions using the testing set\n",
    "y_pred = regr.predict(test_x)\n",
    "\n",
    "# The coefficients\n",
    "print('Coefficients: \\n', regr.coef_)\n",
    "# The mean squared error\n",
    "print(\"Mean squared error: %.2f\"\n",
    "      % mean_squared_error(test_y, y_pred))\n",
    "print(\"Calculated mean squared error\", np.mean(y_pred - test_y)**2)\n",
    "# Explained variance score: 1 is perfect prediction\n",
    "print('Variance score: %.2f' % r2_score(test_y, y_pred))\n",
    "print('Intercept: ', regr.intercept_)"
   ]
  },
  {
   "cell_type": "code",
   "execution_count": null,
   "metadata": {},
   "outputs": [],
   "source": [
    "# Plot outputs\n",
    "plt.scatter(test_x, test_y,  color='black')\n",
    "plt.plot(test_x, y_pred, color='blue', linewidth=3)\n",
    "\n",
    "plt.xticks(())\n",
    "plt.yticks(())\n",
    "\n",
    "plt.show()"
   ]
  },
  {
   "cell_type": "code",
   "execution_count": null,
   "metadata": {},
   "outputs": [],
   "source": [
    "print(test_x.size)\n",
    "print(test_y.size)"
   ]
  },
  {
   "cell_type": "code",
   "execution_count": null,
   "metadata": {},
   "outputs": [],
   "source": [
    "resh = np.array(image_listA1).reshape(-1,1)\n",
    "plt.imshow(resh[-65536:].reshape(256, 256), cmap='gray')\n",
    "plt.show()"
   ]
  },
  {
   "cell_type": "code",
   "execution_count": null,
   "metadata": {},
   "outputs": [],
   "source": [
    "resh = np.array(image_listA2).reshape(-1,1)\n",
    "plt.imshow(resh[-65536:].reshape(256, 256), cmap='gray')\n",
    "plt.show()"
   ]
  },
  {
   "cell_type": "code",
   "execution_count": null,
   "metadata": {},
   "outputs": [],
   "source": [
    "resh = np.array(image_listA3).reshape(-1,1)\n",
    "plt.imshow(resh[-65536:].reshape(256, 256), cmap='gray')\n",
    "plt.show()"
   ]
  },
  {
   "cell_type": "code",
   "execution_count": null,
   "metadata": {},
   "outputs": [],
   "source": [
    "resh = np.array(image_listA4).reshape(-1,1)\n",
    "plt.imshow(resh[-65536:].reshape(256, 256), cmap='gray')\n",
    "plt.show()"
   ]
  },
  {
   "cell_type": "code",
   "execution_count": null,
   "metadata": {},
   "outputs": [],
   "source": [
    "resh = np.array(image_listA5).reshape(-1,1)\n",
    "plt.imshow(resh[-65536:].reshape(256, 256), cmap='gray')\n",
    "plt.show()"
   ]
  },
  {
   "cell_type": "code",
   "execution_count": null,
   "metadata": {},
   "outputs": [],
   "source": [
    "resh = np.array(image_listA6).reshape(-1,1)\n",
    "plt.imshow(resh[-65536:].reshape(256, 256), cmap='gray')\n",
    "plt.show()"
   ]
  },
  {
   "cell_type": "code",
   "execution_count": null,
   "metadata": {
    "scrolled": true
   },
   "outputs": [],
   "source": [
    "plt.imshow(y_pred.reshape(256, 256), cmap='gray')\n",
    "plt.show()"
   ]
  },
  {
   "cell_type": "code",
   "execution_count": null,
   "metadata": {},
   "outputs": [],
   "source": [
    "plt.imshow(test_y.reshape(256, 256), cmap='gray')\n",
    "plt.show()"
   ]
  },
  {
   "cell_type": "code",
   "execution_count": null,
   "metadata": {},
   "outputs": [],
   "source": [
    "input_names = [\"Sat Band 2\",\"Sat Band 6\",\"Mod Visibility Feature\",\"Mod Relative Humidity Feature\",\"Mod Specific Humidty Feature\",\"Mod Temperature at the surface Feature\"]\n",
    "X_names = np.asarray(input_names)"
   ]
  },
  {
   "cell_type": "code",
   "execution_count": null,
   "metadata": {},
   "outputs": [],
   "source": [
    "regr.coef_"
   ]
  },
  {
   "cell_type": "code",
   "execution_count": null,
   "metadata": {},
   "outputs": [],
   "source": [
    "for feat, coef in zip(X_names, regr.coef_):\n",
    "    print('{}       {}'.format(feat, coef))"
   ]
  },
  {
   "cell_type": "code",
   "execution_count": null,
   "metadata": {},
   "outputs": [],
   "source": [
    "df = pd.DataFrame({'Features':input_names, 'coeff':regr.coef_})"
   ]
  },
  {
   "cell_type": "code",
   "execution_count": null,
   "metadata": {},
   "outputs": [],
   "source": [
    "df.plot.bar(x='Features', y='coeff', color=(\"g\"),rot=90)\n",
    "plt.show()"
   ]
  },
  {
   "cell_type": "code",
   "execution_count": null,
   "metadata": {},
   "outputs": [],
   "source": [
    "Output = y_pred.reshape(256, 256)\n",
    "Original = test_y.reshape(256, 256)"
   ]
  },
  {
   "cell_type": "code",
   "execution_count": null,
   "metadata": {},
   "outputs": [],
   "source": [
    "th1 = cv2.threshold(Output,1,255,cv2.THRESH_BINARY)\n",
    "th2 = cv2.threshold(Original,1,255,cv2.THRESH_BINARY)\n",
    "FR = list(th1[1].flatten())\n",
    "FF = list(th2[1].flatten())"
   ]
  },
  {
   "cell_type": "code",
   "execution_count": null,
   "metadata": {},
   "outputs": [],
   "source": [
    "tn,fp,fn,tp=confusion_matrix(FR, FF).ravel()\n",
    "print(tn,fp,fn,tp)"
   ]
  },
  {
   "cell_type": "code",
   "execution_count": null,
   "metadata": {},
   "outputs": [],
   "source": [
    "plt.imshow(th1[1],cmap = 'gray')\n",
    "plt.show()"
   ]
  },
  {
   "cell_type": "code",
   "execution_count": null,
   "metadata": {},
   "outputs": [],
   "source": [
    "plt.imshow(th2[1],cmap = 'gray')\n",
    "plt.show()"
   ]
  },
  {
   "cell_type": "code",
   "execution_count": null,
   "metadata": {},
   "outputs": [],
   "source": []
  }
 ],
 "metadata": {
  "kernelspec": {
   "display_name": "Python 3",
   "language": "python",
   "name": "python3"
  },
  "language_info": {
   "codemirror_mode": {
    "name": "ipython",
    "version": 3
   },
   "file_extension": ".py",
   "mimetype": "text/x-python",
   "name": "python",
   "nbconvert_exporter": "python",
   "pygments_lexer": "ipython3",
   "version": "3.6.3"
  }
 },
 "nbformat": 4,
 "nbformat_minor": 2
}
