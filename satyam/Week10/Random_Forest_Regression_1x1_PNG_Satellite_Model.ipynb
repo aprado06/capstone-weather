{
 "cells": [
  {
   "cell_type": "code",
   "execution_count": 1,
   "metadata": {},
   "outputs": [],
   "source": [
    "from sklearn.ensemble import RandomForestRegressor\n",
    "import numpy as np\n",
    "\n",
    "import matplotlib.pyplot as plt; \n",
    "import pandas as pd\n",
    "plt.rcdefaults()\n",
    "%matplotlib inline\n",
    "\n",
    "import PIL\n",
    "import glob\n",
    "import scikitplot as skplt"
   ]
  },
  {
   "cell_type": "code",
   "execution_count": 2,
   "metadata": {
    "collapsed": true
   },
   "outputs": [],
   "source": [
    "X_input = []\n",
    "input_names = [\"Band 1\", \"Band 2\", \"Band 3\", \"Band 4\", \"Band 6\", \"MRH\", \"MSH\", \"MTE\", \"MVI\"]\n",
    "X_names = np.asarray(input_names)\n",
    "\n",
    "Y_output = []"
   ]
  },
  {
   "cell_type": "code",
   "execution_count": 3,
   "metadata": {
    "collapsed": true
   },
   "outputs": [],
   "source": [
    "Sa1_files = glob.glob(\"sa1_16to20_cleaned/*.png\")"
   ]
  },
  {
   "cell_type": "code",
   "execution_count": 4,
   "metadata": {},
   "outputs": [
    {
     "data": {
      "text/plain": [
       "346"
      ]
     },
     "execution_count": 4,
     "metadata": {},
     "output_type": "execute_result"
    }
   ],
   "source": [
    "len(Sa1_files)"
   ]
  },
  {
   "cell_type": "code",
   "execution_count": 5,
   "metadata": {},
   "outputs": [],
   "source": [
    "for filename in Sa1_files:\n",
    "    filename = filename.split('/')[1]\n",
    "    \n",
    "    # Satellite 1\n",
    "    Sa_1_File = \"sa1_256/\" + filename;\n",
    "    Sa1 = PIL.Image.open(Sa_1_File).convert(\"L\")\n",
    "    Sa1arr = np.array(Sa1).flatten()\n",
    "    \n",
    "    \n",
    "    # Satellite 2\n",
    "    Sa_2_File = \"sa2_256/\" + filename;\n",
    "    Sa2 = PIL.Image.open(Sa_2_File).convert(\"L\")\n",
    "    Sa2arr = np.array(Sa2).flatten()\n",
    "    \n",
    "    \n",
    "    # Satellite 3\n",
    "    Sa_3_File = \"sa3_256/\" + filename;\n",
    "    Sa3 = PIL.Image.open(Sa_3_File).convert(\"L\")\n",
    "    Sa3arr = np.array(Sa3).flatten()\n",
    "    \n",
    "    # Satellite 4\n",
    "    Sa_4_File = \"sa4_256/\" + filename;\n",
    "    Sa4 = PIL.Image.open(Sa_4_File).convert(\"L\")\n",
    "    Sa4arr = np.array(Sa4).flatten()\n",
    "    \n",
    "    # Satellite 6\n",
    "    Sa_6_File = \"sa6_256/\" + filename;\n",
    "    Sa6 = PIL.Image.open(Sa_6_File).convert(\"L\")\n",
    "    Sa6arr = np.array(Sa6).flatten()\n",
    "    \n",
    "    \n",
    "    \n",
    "    # MRH\n",
    "    MRH_File = \"mrh_256/\" + filename.replace('sat', \"nam\", 1)\n",
    "    MRH = PIL.Image.open(MRH_File).convert(\"L\")\n",
    "    MRHarr = np.array(MRH).flatten()\n",
    "    \n",
    "    # MSH\n",
    "    MSH_File = \"msh_256/\" + filename.replace('sat', \"nam\", 1)\n",
    "    MSH = PIL.Image.open(MSH_File).convert(\"L\")\n",
    "    MSHarr = np.array(MSH).flatten()\n",
    "    \n",
    "    # MTE\n",
    "    MTE_File = \"mte_256/\" + filename.replace('sat', \"nam\", 1)\n",
    "    MTE = PIL.Image.open(MTE_File).convert(\"L\")\n",
    "    MTEarr = np.array(MTE).flatten()\n",
    "    \n",
    "    # MVI\n",
    "    MVI_File = \"mvi_256/\" + filename.replace('sat', \"nam\", 1)\n",
    "    MVI = PIL.Image.open(MVI_File).convert(\"L\")\n",
    "    MVIarr = np.array(MVI).flatten()\n",
    "    \n",
    "\n",
    "    \n",
    "    # Radar\n",
    "    Radar_File = \"rad_256/\" + filename.replace('sat', \"rad\", 1)\n",
    "    Radar = PIL.Image.open(Radar_File).convert(\"L\")\n",
    "    Radararr = np.array(Radar).flatten()\n",
    "    \n",
    "    \n",
    "    \n",
    "    for i in range(len(Sa1arr)):\n",
    "        x = [];\n",
    "        x.append(Sa1arr[i])\n",
    "        x.append(Sa2arr[i])\n",
    "        x.append(Sa3arr[i])\n",
    "        x.append(Sa4arr[i])\n",
    "        x.append(Sa6arr[i])\n",
    "        \n",
    "        x.append(MRHarr[i])\n",
    "        x.append(MSHarr[i])\n",
    "        x.append(MTEarr[i])\n",
    "        x.append(MVIarr[i])\n",
    "        \n",
    "        Y_output.append(Radararr[i])\n",
    "        \n",
    "        X_input.append(x)\n",
    "        "
   ]
  },
  {
   "cell_type": "code",
   "execution_count": 6,
   "metadata": {
    "collapsed": true
   },
   "outputs": [],
   "source": [
    "X_input = np.array(X_input)\n",
    "Y_output = np.array(Y_output)"
   ]
  },
  {
   "cell_type": "code",
   "execution_count": 7,
   "metadata": {},
   "outputs": [
    {
     "data": {
      "text/plain": [
       "(22675456,)"
      ]
     },
     "execution_count": 7,
     "metadata": {},
     "output_type": "execute_result"
    }
   ],
   "source": [
    "Y_output.shape"
   ]
  },
  {
   "cell_type": "code",
   "execution_count": 8,
   "metadata": {},
   "outputs": [
    {
     "data": {
      "text/plain": [
       "0"
      ]
     },
     "execution_count": 8,
     "metadata": {},
     "output_type": "execute_result"
    }
   ],
   "source": [
    "np.min(Y_output)"
   ]
  },
  {
   "cell_type": "code",
   "execution_count": 9,
   "metadata": {},
   "outputs": [
    {
     "data": {
      "text/plain": [
       "1.8213885974332777"
      ]
     },
     "execution_count": 9,
     "metadata": {},
     "output_type": "execute_result"
    }
   ],
   "source": [
    "np.mean(Y_output)"
   ]
  },
  {
   "cell_type": "code",
   "execution_count": 10,
   "metadata": {},
   "outputs": [
    {
     "data": {
      "text/plain": [
       "254"
      ]
     },
     "execution_count": 10,
     "metadata": {},
     "output_type": "execute_result"
    }
   ],
   "source": [
    "np.max(Y_output)"
   ]
  },
  {
   "cell_type": "code",
   "execution_count": 11,
   "metadata": {
    "collapsed": true
   },
   "outputs": [],
   "source": [
    "Y_output_no_zero = list(filter(lambda a: a != 0, Y_output))"
   ]
  },
  {
   "cell_type": "code",
   "execution_count": 12,
   "metadata": {},
   "outputs": [
    {
     "data": {
      "text/plain": [
       "(1910004,)"
      ]
     },
     "execution_count": 12,
     "metadata": {},
     "output_type": "execute_result"
    }
   ],
   "source": [
    "np.shape(Y_output_no_zero)"
   ]
  },
  {
   "cell_type": "code",
   "execution_count": 13,
   "metadata": {},
   "outputs": [
    {
     "data": {
      "text/plain": [
       "21.6234191132584"
      ]
     },
     "execution_count": 13,
     "metadata": {},
     "output_type": "execute_result"
    }
   ],
   "source": [
    "np.mean(Y_output_no_zero)"
   ]
  },
  {
   "cell_type": "code",
   "execution_count": 14,
   "metadata": {},
   "outputs": [
    {
     "data": {
      "text/plain": [
       "(array([561999, 330160, 216483, 153558, 114857,  88072,  70011,  56440,\n",
       "         54543]), array([ 0,  5, 10, 15, 20, 25, 30, 35, 40, 45]))"
      ]
     },
     "execution_count": 14,
     "metadata": {},
     "output_type": "execute_result"
    }
   ],
   "source": [
    "np.histogram(Y_output_no_zero, bins=range(0, int(np.max(Y_output_no_zero)/5), 5))"
   ]
  },
  {
   "cell_type": "code",
   "execution_count": 15,
   "metadata": {},
   "outputs": [
    {
     "data": {
      "text/plain": [
       "(22675456, 9)"
      ]
     },
     "execution_count": 15,
     "metadata": {},
     "output_type": "execute_result"
    }
   ],
   "source": [
    "X_input.shape"
   ]
  },
  {
   "cell_type": "markdown",
   "metadata": {},
   "source": [
    "# Feature Importance"
   ]
  },
  {
   "cell_type": "code",
   "execution_count": 16,
   "metadata": {},
   "outputs": [
    {
     "name": "stderr",
     "output_type": "stream",
     "text": [
      "/home/wproj/.conda/envs/py36/lib/python3.6/site-packages/sklearn/ensemble/forest.py:248: FutureWarning: The default value of n_estimators will change from 10 in version 0.20 to 100 in 0.22.\n",
      "  \"10 in version 0.20 to 100 in 0.22.\", FutureWarning)\n"
     ]
    },
    {
     "data": {
      "text/plain": [
       "RandomForestRegressor(bootstrap=True, criterion='mse', max_depth=None,\n",
       "           max_features='auto', max_leaf_nodes=None,\n",
       "           min_impurity_decrease=0.0, min_impurity_split=None,\n",
       "           min_samples_leaf=1, min_samples_split=2,\n",
       "           min_weight_fraction_leaf=0.0, n_estimators=10, n_jobs=None,\n",
       "           oob_score=False, random_state=None, verbose=0, warm_start=False)"
      ]
     },
     "execution_count": 16,
     "metadata": {},
     "output_type": "execute_result"
    }
   ],
   "source": [
    "rf = RandomForestRegressor()\n",
    "rf.fit(X_input, Y_output)"
   ]
  },
  {
   "cell_type": "code",
   "execution_count": 17,
   "metadata": {},
   "outputs": [
    {
     "name": "stdout",
     "output_type": "stream",
     "text": [
      "Band 1       0.10115770650471763\n",
      "Band 2       0.082008379053937\n",
      "Band 3       0.07414505959651375\n",
      "Band 4       0.06837670801082049\n",
      "Band 6       0.08131300264242641\n",
      "MRH       0.13194198199356844\n",
      "MSH       0.14921116980849675\n",
      "MTE       0.14355720786744003\n",
      "MVI       0.16828878452207946\n"
     ]
    }
   ],
   "source": [
    "for feat, score in zip(X_names, rf.feature_importances_):\n",
    "    print('{}       {}'.format(feat, score))"
   ]
  },
  {
   "cell_type": "code",
   "execution_count": 18,
   "metadata": {},
   "outputs": [
    {
     "data": {
      "image/png": "[encoded data removed]",
      "text/plain": [
       "<Figure size 432x288 with 1 Axes>"
      ]
     },
     "metadata": {},
     "output_type": "display_data"
    }
   ],
   "source": [
    "df = pd.DataFrame({'lab':input_names, 'val':rf.feature_importances_})\n",
    "df.plot(kind = 'bar' , x='lab', y='val', rot=0, color=('g', 'g', 'g', 'g', 'g','b', 'b', 'b', 'b'))\n",
    "plt.show()"
   ]
  },
  {
   "cell_type": "markdown",
   "metadata": {
    "collapsed": true
   },
   "source": [
    "# Test Train Split"
   ]
  },
  {
   "cell_type": "code",
   "execution_count": 19,
   "metadata": {},
   "outputs": [],
   "source": [
    "from sklearn.model_selection import train_test_split"
   ]
  },
  {
   "cell_type": "code",
   "execution_count": 20,
   "metadata": {},
   "outputs": [],
   "source": [
    "X_train, X_test, y_train, y_test = train_test_split(X_input, Y_output, test_size=0.30, random_state=42)"
   ]
  },
  {
   "cell_type": "code",
   "execution_count": 21,
   "metadata": {},
   "outputs": [
    {
     "data": {
      "text/plain": [
       "(15872819, 9)"
      ]
     },
     "execution_count": 21,
     "metadata": {},
     "output_type": "execute_result"
    }
   ],
   "source": [
    "X_train.shape"
   ]
  },
  {
   "cell_type": "code",
   "execution_count": 22,
   "metadata": {},
   "outputs": [
    {
     "data": {
      "text/plain": [
       "(6802637, 9)"
      ]
     },
     "execution_count": 22,
     "metadata": {},
     "output_type": "execute_result"
    }
   ],
   "source": [
    "X_test.shape"
   ]
  },
  {
   "cell_type": "code",
   "execution_count": 23,
   "metadata": {},
   "outputs": [
    {
     "data": {
      "text/plain": [
       "(15872819,)"
      ]
     },
     "execution_count": 23,
     "metadata": {},
     "output_type": "execute_result"
    }
   ],
   "source": [
    "y_train.shape"
   ]
  },
  {
   "cell_type": "code",
   "execution_count": 24,
   "metadata": {},
   "outputs": [
    {
     "data": {
      "text/plain": [
       "(6802637,)"
      ]
     },
     "execution_count": 24,
     "metadata": {},
     "output_type": "execute_result"
    }
   ],
   "source": [
    "y_test.shape"
   ]
  },
  {
   "cell_type": "code",
   "execution_count": 25,
   "metadata": {},
   "outputs": [
    {
     "name": "stderr",
     "output_type": "stream",
     "text": [
      "/home/wproj/.conda/envs/py36/lib/python3.6/site-packages/sklearn/ensemble/forest.py:248: FutureWarning: The default value of n_estimators will change from 10 in version 0.20 to 100 in 0.22.\n",
      "  \"10 in version 0.20 to 100 in 0.22.\", FutureWarning)\n"
     ]
    },
    {
     "data": {
      "text/plain": [
       "RandomForestRegressor(bootstrap=True, criterion='mse', max_depth=None,\n",
       "           max_features='auto', max_leaf_nodes=None,\n",
       "           min_impurity_decrease=0.0, min_impurity_split=None,\n",
       "           min_samples_leaf=1, min_samples_split=2,\n",
       "           min_weight_fraction_leaf=0.0, n_estimators=10, n_jobs=None,\n",
       "           oob_score=False, random_state=None, verbose=0, warm_start=False)"
      ]
     },
     "execution_count": 25,
     "metadata": {},
     "output_type": "execute_result"
    }
   ],
   "source": [
    "rf_train = RandomForestRegressor()\n",
    "rf_train.fit(X_train, y_train)"
   ]
  },
  {
   "cell_type": "code",
   "execution_count": 26,
   "metadata": {},
   "outputs": [
    {
     "name": "stdout",
     "output_type": "stream",
     "text": [
      "Band 1       0.10115770650471763\n",
      "Band 2       0.082008379053937\n",
      "Band 3       0.07414505959651375\n",
      "Band 4       0.06837670801082049\n",
      "Band 6       0.08131300264242641\n",
      "MRH       0.13194198199356844\n",
      "MSH       0.14921116980849675\n",
      "MTE       0.14355720786744003\n",
      "MVI       0.16828878452207946\n"
     ]
    }
   ],
   "source": [
    "for feat, score in zip(X_names, rf.feature_importances_):\n",
    "    print('{}       {}'.format(feat, score))"
   ]
  },
  {
   "cell_type": "code",
   "execution_count": 27,
   "metadata": {},
   "outputs": [
    {
     "data": {
      "image/png": "[encoded data removed]",
      "text/plain": [
       "<Figure size 432x288 with 1 Axes>"
      ]
     },
     "metadata": {},
     "output_type": "display_data"
    }
   ],
   "source": [
    "df = pd.DataFrame({'lab':input_names, 'val':rf_train.feature_importances_})\n",
    "df.plot(kind = 'bar' , x='lab', y='val', rot=0, color=('g', 'g', 'g', 'g', 'g','b', 'b', 'b', 'b'))\n",
    "plt.show()"
   ]
  },
  {
   "cell_type": "markdown",
   "metadata": {},
   "source": [
    "# Evaluation on Trained"
   ]
  },
  {
   "cell_type": "code",
   "execution_count": 28,
   "metadata": {},
   "outputs": [],
   "source": [
    "predictions_train = rf_train.predict(X_train)"
   ]
  },
  {
   "cell_type": "code",
   "execution_count": 29,
   "metadata": {},
   "outputs": [
    {
     "data": {
      "text/plain": [
       "(15872819,)"
      ]
     },
     "execution_count": 29,
     "metadata": {},
     "output_type": "execute_result"
    }
   ],
   "source": [
    "predictions_train.shape"
   ]
  },
  {
   "cell_type": "code",
   "execution_count": 30,
   "metadata": {},
   "outputs": [
    {
     "data": {
      "text/plain": [
       "(15872819,)"
      ]
     },
     "execution_count": 30,
     "metadata": {},
     "output_type": "execute_result"
    }
   ],
   "source": [
    "y_train.shape"
   ]
  },
  {
   "cell_type": "code",
   "execution_count": 31,
   "metadata": {},
   "outputs": [],
   "source": [
    "errors_train = abs(predictions_train - y_train)"
   ]
  },
  {
   "cell_type": "code",
   "execution_count": 32,
   "metadata": {},
   "outputs": [
    {
     "data": {
      "text/plain": [
       "array([0. , 0. , 0. , ..., 0. , 0.2, 0. ])"
      ]
     },
     "execution_count": 32,
     "metadata": {},
     "output_type": "execute_result"
    }
   ],
   "source": [
    "errors_train"
   ]
  },
  {
   "cell_type": "code",
   "execution_count": 33,
   "metadata": {},
   "outputs": [
    {
     "data": {
      "text/plain": [
       "0.4852267550117377"
      ]
     },
     "execution_count": 33,
     "metadata": {},
     "output_type": "execute_result"
    }
   ],
   "source": [
    "np.mean(errors_train)"
   ]
  },
  {
   "cell_type": "code",
   "execution_count": 34,
   "metadata": {},
   "outputs": [
    {
     "data": {
      "text/plain": [
       "163.7669483423203"
      ]
     },
     "execution_count": 34,
     "metadata": {},
     "output_type": "execute_result"
    }
   ],
   "source": [
    "np.max(errors_train)"
   ]
  },
  {
   "cell_type": "code",
   "execution_count": 35,
   "metadata": {},
   "outputs": [
    {
     "data": {
      "text/plain": [
       "(array([1.5555302e+07, 2.0483000e+05, 6.2810000e+04, 2.4760000e+04,\n",
       "        1.0947000e+04, 5.6930000e+03, 3.1830000e+03, 1.9180000e+03,\n",
       "        1.1680000e+03, 7.5500000e+02, 4.8200000e+02, 3.3900000e+02,\n",
       "        2.0300000e+02, 1.6800000e+02, 8.9000000e+01, 6.3000000e+01,\n",
       "        4.1000000e+01, 2.4000000e+01, 9.0000000e+00, 1.5000000e+01,\n",
       "        9.0000000e+00, 3.0000000e+00, 2.0000000e+00, 1.0000000e+00,\n",
       "        5.0000000e+00]),\n",
       " array([  0.        ,   6.55067793,  13.10135587,  19.6520338 ,\n",
       "         26.20271173,  32.75338967,  39.3040676 ,  45.85474554,\n",
       "         52.40542347,  58.9561014 ,  65.50677934,  72.05745727,\n",
       "         78.6081352 ,  85.15881314,  91.70949107,  98.26016901,\n",
       "        104.81084694, 111.36152487, 117.91220281, 124.46288074,\n",
       "        131.01355867, 137.56423661, 144.11491454, 150.66559247,\n",
       "        157.21627041, 163.76694834]),\n",
       " <a list of 25 Patch objects>)"
      ]
     },
     "execution_count": 35,
     "metadata": {},
     "output_type": "execute_result"
    },
    {
     "data": {
      "image/png": "[encoded data removed]",
      "text/plain": [
       "<Figure size 432x288 with 1 Axes>"
      ]
     },
     "metadata": {},
     "output_type": "display_data"
    }
   ],
   "source": [
    "plt.hist(errors_train, bins='auto')"
   ]
  },
  {
   "cell_type": "code",
   "execution_count": 36,
   "metadata": {},
   "outputs": [
    {
     "data": {
      "text/plain": [
       "(array([1.31306e+05, 3.01850e+04, 9.86900e+03, 4.07400e+03, 1.89700e+03,\n",
       "        9.84000e+02, 5.27000e+02, 2.84000e+02, 1.42000e+02, 7.90000e+01,\n",
       "        3.90000e+01]),\n",
       " array([ 10,  20,  30,  40,  50,  60,  70,  80,  90, 100, 110, 120]),\n",
       " <a list of 11 Patch objects>)"
      ]
     },
     "execution_count": 36,
     "metadata": {},
     "output_type": "execute_result"
    },
    {
     "data": {
      "image/png": "[encoded data removed]",
      "text/plain": [
       "<Figure size 432x288 with 1 Axes>"
      ]
     },
     "metadata": {},
     "output_type": "display_data"
    }
   ],
   "source": [
    "plt.hist(errors_train, bins=range(10, 130, 10))"
   ]
  },
  {
   "cell_type": "code",
   "execution_count": 37,
   "metadata": {},
   "outputs": [
    {
     "data": {
      "text/plain": [
       "7701916.456258655"
      ]
     },
     "execution_count": 37,
     "metadata": {},
     "output_type": "execute_result"
    }
   ],
   "source": [
    "np.sum(errors_train)"
   ]
  },
  {
   "cell_type": "markdown",
   "metadata": {},
   "source": [
    "### Confusion Matrix"
   ]
  },
  {
   "cell_type": "code",
   "execution_count": 38,
   "metadata": {},
   "outputs": [
    {
     "data": {
      "image/png": "[encoded data removed]",
      "text/plain": [
       "<Figure size 432x288 with 2 Axes>"
      ]
     },
     "metadata": {},
     "output_type": "display_data"
    }
   ],
   "source": [
    "y_train_copy = np.copy(y_train)\n",
    "y_train_copy[y_train_copy < 18] = 0\n",
    "y_train_copy[y_train_copy >= 18] = 1\n",
    "\n",
    "predictions_train_copy = np.copy(predictions_train)\n",
    "predictions_train_copy[predictions_train_copy < 18] = 0\n",
    "predictions_train_copy[predictions_train_copy >= 18] = 1\n",
    "\n",
    "skplt.metrics.plot_confusion_matrix(y_train_copy, predictions_train_copy, normalize=True)\n",
    "plt.show()"
   ]
  },
  {
   "cell_type": "markdown",
   "metadata": {
    "collapsed": true
   },
   "source": [
    "# Evaluation on Test"
   ]
  },
  {
   "cell_type": "code",
   "execution_count": 39,
   "metadata": {
    "collapsed": true
   },
   "outputs": [],
   "source": [
    "predictions_test = rf_train.predict(X_test)"
   ]
  },
  {
   "cell_type": "code",
   "execution_count": 40,
   "metadata": {},
   "outputs": [
    {
     "data": {
      "text/plain": [
       "(6802637,)"
      ]
     },
     "execution_count": 40,
     "metadata": {},
     "output_type": "execute_result"
    }
   ],
   "source": [
    "predictions_test.shape"
   ]
  },
  {
   "cell_type": "code",
   "execution_count": 41,
   "metadata": {},
   "outputs": [
    {
     "data": {
      "text/plain": [
       "(6802637,)"
      ]
     },
     "execution_count": 41,
     "metadata": {},
     "output_type": "execute_result"
    }
   ],
   "source": [
    "y_test.shape"
   ]
  },
  {
   "cell_type": "code",
   "execution_count": 42,
   "metadata": {
    "collapsed": true
   },
   "outputs": [],
   "source": [
    "errors_test = abs(predictions_test - y_test)"
   ]
  },
  {
   "cell_type": "code",
   "execution_count": 43,
   "metadata": {},
   "outputs": [
    {
     "data": {
      "text/plain": [
       "array([0. , 0. , 0.9, ..., 0. , 0. , 0. ])"
      ]
     },
     "execution_count": 43,
     "metadata": {},
     "output_type": "execute_result"
    }
   ],
   "source": [
    "errors_test"
   ]
  },
  {
   "cell_type": "code",
   "execution_count": 44,
   "metadata": {},
   "outputs": [
    {
     "data": {
      "text/plain": [
       "0.0"
      ]
     },
     "execution_count": 44,
     "metadata": {},
     "output_type": "execute_result"
    }
   ],
   "source": [
    "np.min(errors_test)"
   ]
  },
  {
   "cell_type": "code",
   "execution_count": 45,
   "metadata": {},
   "outputs": [
    {
     "data": {
      "text/plain": [
       "1.2355156168958752"
      ]
     },
     "execution_count": 45,
     "metadata": {},
     "output_type": "execute_result"
    }
   ],
   "source": [
    "np.mean(errors_test)"
   ]
  },
  {
   "cell_type": "code",
   "execution_count": 46,
   "metadata": {},
   "outputs": [
    {
     "data": {
      "text/plain": [
       "233.7"
      ]
     },
     "execution_count": 46,
     "metadata": {},
     "output_type": "execute_result"
    }
   ],
   "source": [
    "np.max(errors_test)"
   ]
  },
  {
   "cell_type": "code",
   "execution_count": 47,
   "metadata": {},
   "outputs": [
    {
     "data": {
      "text/plain": [
       "(array([6.566511e+06, 1.402500e+05, 4.735100e+04, 2.030100e+04,\n",
       "        1.053900e+04, 6.018000e+03, 3.655000e+03, 2.361000e+03,\n",
       "        1.684000e+03, 1.145000e+03, 8.260000e+02, 5.660000e+02,\n",
       "        4.250000e+02, 2.740000e+02, 2.150000e+02, 1.650000e+02,\n",
       "        1.070000e+02, 9.200000e+01, 5.300000e+01, 4.700000e+01,\n",
       "        2.100000e+01, 1.100000e+01, 1.300000e+01, 7.000000e+00]),\n",
       " array([  0.    ,   9.7375,  19.475 ,  29.2125,  38.95  ,  48.6875,\n",
       "         58.425 ,  68.1625,  77.9   ,  87.6375,  97.375 , 107.1125,\n",
       "        116.85  , 126.5875, 136.325 , 146.0625, 155.8   , 165.5375,\n",
       "        175.275 , 185.0125, 194.75  , 204.4875, 214.225 , 223.9625,\n",
       "        233.7   ]),\n",
       " <a list of 24 Patch objects>)"
      ]
     },
     "execution_count": 47,
     "metadata": {},
     "output_type": "execute_result"
    },
    {
     "data": {
      "image/png": "[encoded data removed]",
      "text/plain": [
       "<Figure size 432x288 with 1 Axes>"
      ]
     },
     "metadata": {},
     "output_type": "display_data"
    }
   ],
   "source": [
    "plt.hist(errors_test, bins='auto')"
   ]
  },
  {
   "cell_type": "code",
   "execution_count": 48,
   "metadata": {},
   "outputs": [
    {
     "data": {
      "text/plain": [
       "(array([138803.,  45776.,  19787.,  10023.,   5690.,   3522.,   2228.,\n",
       "          1649.,   1062.,    747.,    527.]),\n",
       " array([ 10,  20,  30,  40,  50,  60,  70,  80,  90, 100, 110, 120]),\n",
       " <a list of 11 Patch objects>)"
      ]
     },
     "execution_count": 48,
     "metadata": {},
     "output_type": "execute_result"
    },
    {
     "data": {
      "image/png": "[encoded data removed]",
      "text/plain": [
       "<Figure size 432x288 with 1 Axes>"
      ]
     },
     "metadata": {},
     "output_type": "display_data"
    }
   ],
   "source": [
    "plt.hist(errors_test, bins=range(10, 130, 10))"
   ]
  },
  {
   "cell_type": "code",
   "execution_count": 49,
   "metadata": {},
   "outputs": [
    {
     "data": {
      "text/plain": [
       "8404764.249573706"
      ]
     },
     "execution_count": 49,
     "metadata": {},
     "output_type": "execute_result"
    }
   ],
   "source": [
    "np.sum(errors_test)"
   ]
  },
  {
   "cell_type": "markdown",
   "metadata": {},
   "source": [
    "### Confusion Matrix\n"
   ]
  },
  {
   "cell_type": "code",
   "execution_count": 50,
   "metadata": {},
   "outputs": [
    {
     "data": {
      "image/png": "[encoded data removed]",
      "text/plain": [
       "<Figure size 432x288 with 2 Axes>"
      ]
     },
     "metadata": {},
     "output_type": "display_data"
    }
   ],
   "source": [
    "y_test_copy = np.copy(y_test)\n",
    "y_test_copy[y_test_copy < 18] = 0\n",
    "y_test_copy[y_test_copy >= 18] = 1\n",
    "\n",
    "predictions_test_copy = np.copy(predictions_test)\n",
    "predictions_test_copy[predictions_test_copy < 18] = 0\n",
    "predictions_test_copy[predictions_test_copy >= 18] = 1\n",
    "\n",
    "skplt.metrics.plot_confusion_matrix(y_test_copy, predictions_test_copy, normalize=True)\n",
    "plt.show()"
   ]
  },
  {
   "cell_type": "code",
   "execution_count": 51,
   "metadata": {
    "collapsed": true
   },
   "outputs": [],
   "source": []
  }
 ],
 "metadata": {
  "kernelspec": {
   "display_name": "Python 3",
   "language": "python",
   "name": "python3"
  },
  "language_info": {
   "codemirror_mode": {
    "name": "ipython",
    "version": 3
   },
   "file_extension": ".py",
   "mimetype": "text/x-python",
   "name": "python",
   "nbconvert_exporter": "python",
   "pygments_lexer": "ipython3",
   "version": "3.6.6"
  }
 },
 "nbformat": 4,
 "nbformat_minor": 2
}
