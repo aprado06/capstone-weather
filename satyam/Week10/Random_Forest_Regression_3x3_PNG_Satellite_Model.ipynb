{
 "cells": [
  {
   "cell_type": "code",
   "execution_count": 1,
   "metadata": {},
   "outputs": [],
   "source": [
    "from sklearn.ensemble import RandomForestRegressor\n",
    "import numpy as np\n",
    "\n",
    "import matplotlib.pyplot as plt; \n",
    "import seaborn as sns; sns.set()\n",
    "import pandas as pd\n",
    "plt.rcdefaults()\n",
    "%matplotlib inline\n",
    "\n",
    "import PIL\n",
    "import glob\n",
    "import scikitplot as skplt"
   ]
  },
  {
   "cell_type": "code",
   "execution_count": 2,
   "metadata": {},
   "outputs": [],
   "source": [
    "X_input = []\n",
    "input_names = [\"Band 1_11\", \"Band 1_12\", \"Band 1_13\", \n",
    "               \"Band 1_21\", \"Band 1_22\", \"Band 1_23\",\n",
    "               \"Band 1_31\", \"Band 1_32\", \"Band 1_33\",\n",
    "               \n",
    "               \n",
    "               \"Band 2_11\", \"Band 2_12\", \"Band 2_13\", \n",
    "               \"Band 2_21\", \"Band 2_22\", \"Band 2_23\",\n",
    "               \"Band 2_31\", \"Band 2_32\", \"Band 2_33\",\n",
    "               \n",
    "               \"Band 3_11\", \"Band 3_12\", \"Band 3_13\", \n",
    "               \"Band 3_21\", \"Band 3_22\", \"Band 3_23\",\n",
    "               \"Band 3_31\", \"Band 3_32\", \"Band 3_33\",\n",
    "               \n",
    "               \"Band 4_11\", \"Band 4_12\", \"Band 4_13\", \n",
    "               \"Band 4_21\", \"Band 4_22\", \"Band 4_23\",\n",
    "               \"Band 4_31\", \"Band 4_32\", \"Band 4_33\",\n",
    "               \n",
    "               \"Band 6_11\", \"Band 6_12\", \"Band 6_13\", \n",
    "               \"Band 6_21\", \"Band 6_22\", \"Band 6_23\",\n",
    "               \"Band 6_31\", \"Band 6_32\", \"Band 6_33\",\n",
    "               \n",
    "               \n",
    "               \"MRH_11\", \"MRH_12\", \"MRH_13\", \n",
    "               \"MRH_21\", \"MRH_22\", \"MRH_23\",\n",
    "               \"MRH_31\", \"MRH_32\", \"MRH_33\",\n",
    "               \n",
    "               \"MSH_11\", \"MSH_12\", \"MSH_13\", \n",
    "               \"MSH_21\", \"MSH_22\", \"MSH_23\",\n",
    "               \"MSH_31\", \"MSH_32\", \"MSH_33\",\n",
    "               \n",
    "               \"MTE_11\", \"MTE_12\", \"MTE_13\", \n",
    "               \"MTE_21\", \"MTE_22\", \"MTE_23\",\n",
    "               \"MTE_31\", \"MTE_32\", \"MTE_33\",\n",
    "               \n",
    "               \"MVI_11\", \"MVI_12\", \"MVI_13\", \n",
    "               \"MVI_21\", \"MVI_22\", \"MVI_23\",\n",
    "               \"MVI_31\", \"MVI_32\", \"MVI_33\"]\n",
    "\n",
    "X_names = np.asarray(input_names)\n",
    "\n",
    "Y_output = []"
   ]
  },
  {
   "cell_type": "code",
   "execution_count": 3,
   "metadata": {
    "collapsed": true
   },
   "outputs": [],
   "source": [
    "Sa1_files = glob.glob(\"sa1_16to20_cleaned/*.png\")"
   ]
  },
  {
   "cell_type": "code",
   "execution_count": 4,
   "metadata": {},
   "outputs": [
    {
     "data": {
      "text/plain": [
       "346"
      ]
     },
     "execution_count": 4,
     "metadata": {},
     "output_type": "execute_result"
    }
   ],
   "source": [
    "len(Sa1_files)"
   ]
  },
  {
   "cell_type": "code",
   "execution_count": 5,
   "metadata": {},
   "outputs": [],
   "source": [
    "for filename in Sa1_files:\n",
    "    filename = filename.split('/')[1]\n",
    "    \n",
    "    # Satellite 1\n",
    "    Sa_1_File = \"sa1_256/\" + filename;\n",
    "    Sa1 = PIL.Image.open(Sa_1_File).convert(\"L\")\n",
    "    Sa1arr = np.array(Sa1)\n",
    "    \n",
    "    \n",
    "    # Satellite 2\n",
    "    Sa_2_File = \"sa2_256/\" + filename;\n",
    "    Sa2 = PIL.Image.open(Sa_2_File).convert(\"L\")\n",
    "    Sa2arr = np.array(Sa2)\n",
    "    \n",
    "    \n",
    "    # Satellite 3\n",
    "    Sa_3_File = \"sa3_256/\" + filename;\n",
    "    Sa3 = PIL.Image.open(Sa_3_File).convert(\"L\")\n",
    "    Sa3arr = np.array(Sa3)\n",
    "    \n",
    "    # Satellite 4\n",
    "    Sa_4_File = \"sa4_256/\" + filename;\n",
    "    Sa4 = PIL.Image.open(Sa_4_File).convert(\"L\")\n",
    "    Sa4arr = np.array(Sa4)\n",
    "    \n",
    "    # Satellite 6\n",
    "    Sa_6_File = \"sa6_256/\" + filename;\n",
    "    Sa6 = PIL.Image.open(Sa_6_File).convert(\"L\")\n",
    "    Sa6arr = np.array(Sa6)\n",
    "    \n",
    "    \n",
    "    \n",
    "    # MRH\n",
    "    MRH_File = \"mrh_256/\" + filename.replace('sat', \"nam\", 1)\n",
    "    MRH = PIL.Image.open(MRH_File).convert(\"L\")\n",
    "    MRHarr = np.array(MRH)\n",
    "    \n",
    "    # MSH\n",
    "    MSH_File = \"msh_256/\" + filename.replace('sat', \"nam\", 1)\n",
    "    MSH = PIL.Image.open(MSH_File).convert(\"L\")\n",
    "    MSHarr = np.array(MSH)\n",
    "    \n",
    "    # MTE\n",
    "    MTE_File = \"mte_256/\" + filename.replace('sat', \"nam\", 1)\n",
    "    MTE = PIL.Image.open(MTE_File).convert(\"L\")\n",
    "    MTEarr = np.array(MTE)\n",
    "    \n",
    "    # MVI\n",
    "    MVI_File = \"mvi_256/\" + filename.replace('sat', \"nam\", 1)\n",
    "    MVI = PIL.Image.open(MVI_File).convert(\"L\")\n",
    "    MVIarr = np.array(MVI)\n",
    "    \n",
    "    # Radar\n",
    "    Radar_File = \"rad_256/\" + filename.replace('sat', \"rad\", 1)\n",
    "    Radar = PIL.Image.open(Radar_File).convert(\"L\")\n",
    "    Radararr = np.array(Radar)\n",
    "    \n",
    "    rows = len(Sa1arr);\n",
    "    cols = len(Sa1arr[0]);\n",
    "    \n",
    "    for row in range(1, rows-1):\n",
    "        for col in range(1, cols-1):\n",
    "            x = [];\n",
    "            \n",
    "            # Sa1\n",
    "            for row_ in range(row-1, row+2):\n",
    "                for col_ in range(col-1, col+2):\n",
    "                    x.append(Sa1arr[row_][col_])\n",
    "                    \n",
    "            # Sa2\n",
    "            for row_ in range(row-1, row+2):\n",
    "                for col_ in range(col-1, col+2):\n",
    "                    x.append(Sa2arr[row_][col_])\n",
    "                    \n",
    "                    \n",
    "            # Sa3\n",
    "            for row_ in range(row-1, row+2):\n",
    "                for col_ in range(col-1, col+2):\n",
    "                    x.append(Sa3arr[row_][col_])\n",
    "                    \n",
    "            # Sa4\n",
    "            for row_ in range(row-1, row+2):\n",
    "                for col_ in range(col-1, col+2):\n",
    "                    x.append(Sa4arr[row_][col_])\n",
    "                    \n",
    "            # Sa6\n",
    "            for row_ in range(row-1, row+2):\n",
    "                for col_ in range(col-1, col+2):\n",
    "                    x.append(Sa6arr[row_][col_])\n",
    "                    \n",
    "                    \n",
    "                    \n",
    "                    \n",
    "            # MRH\n",
    "            for row_ in range(row-1, row+2):\n",
    "                for col_ in range(col-1, col+2):\n",
    "                    x.append(MRHarr[row_][col_])    \n",
    "                    \n",
    "            # MSH\n",
    "            for row_ in range(row-1, row+2):\n",
    "                for col_ in range(col-1, col+2):\n",
    "                    x.append(MSHarr[row_][col_])\n",
    "                    \n",
    "                    \n",
    "            # MTE\n",
    "            for row_ in range(row-1, row+2):\n",
    "                for col_ in range(col-1, col+2):\n",
    "                    x.append(MTEarr[row_][col_])\n",
    "                    \n",
    "                    \n",
    "            # MVI\n",
    "            for row_ in range(row-1, row+2):\n",
    "                for col_ in range(col-1, col+2):\n",
    "                    x.append(MVIarr[row_][col_])\n",
    "                    \n",
    "\n",
    "        \n",
    "        Y_output.append(Radararr[row][col])        \n",
    "        X_input.append(x)"
   ]
  },
  {
   "cell_type": "code",
   "execution_count": 6,
   "metadata": {},
   "outputs": [
    {
     "data": {
      "text/plain": [
       "array([[0, 0, 0, ..., 0, 0, 0],\n",
       "       [0, 0, 0, ..., 0, 0, 0],\n",
       "       [0, 0, 0, ..., 0, 0, 0],\n",
       "       ...,\n",
       "       [0, 0, 0, ..., 0, 0, 0],\n",
       "       [0, 0, 0, ..., 0, 0, 0],\n",
       "       [0, 0, 0, ..., 0, 0, 0]], dtype=uint8)"
      ]
     },
     "execution_count": 6,
     "metadata": {},
     "output_type": "execute_result"
    }
   ],
   "source": [
    "Radararr"
   ]
  },
  {
   "cell_type": "code",
   "execution_count": 7,
   "metadata": {},
   "outputs": [
    {
     "data": {
      "text/plain": [
       "256"
      ]
     },
     "execution_count": 7,
     "metadata": {},
     "output_type": "execute_result"
    }
   ],
   "source": [
    "len(Radararr)"
   ]
  },
  {
   "cell_type": "code",
   "execution_count": 8,
   "metadata": {},
   "outputs": [
    {
     "data": {
      "text/plain": [
       "(256, 256)"
      ]
     },
     "execution_count": 8,
     "metadata": {},
     "output_type": "execute_result"
    }
   ],
   "source": [
    "Radararr.shape"
   ]
  },
  {
   "cell_type": "code",
   "execution_count": 9,
   "metadata": {},
   "outputs": [
    {
     "data": {
      "text/plain": [
       "array([0, 0, 0, 0, 0, 0, 0, 0, 0, 0, 0, 0, 0, 0, 0, 0, 0, 0, 0, 0, 0, 0,\n",
       "       0, 0, 0, 0, 0, 0, 0, 0, 0, 0, 0, 0, 0, 0, 0, 0, 0, 0, 0, 0, 0, 0,\n",
       "       0, 0, 0, 0, 0, 0, 0, 0, 0, 0, 0, 0, 0, 0, 0, 0, 0, 0, 0, 0, 0, 0,\n",
       "       0, 0, 0, 0, 0, 0, 0, 0, 0, 0, 0, 0, 0, 0, 0, 0, 0, 0, 0, 0, 0, 0,\n",
       "       0, 0, 0, 0, 0, 0, 0, 0, 0, 0, 0, 0, 0, 0, 0, 0, 0, 0, 0, 0, 0, 0,\n",
       "       0, 0, 0, 0, 0, 0, 0, 0, 0, 0, 0, 0, 0, 0, 0, 0, 0, 0, 0, 0, 0, 0,\n",
       "       0, 0, 0, 0, 0, 0, 0, 0, 0, 0, 0, 0, 0, 0, 0, 0, 0, 0, 0, 0, 0, 0,\n",
       "       0, 0, 0, 0, 0, 0, 0, 0, 0, 0, 0, 0, 0, 0, 0, 0, 0, 0, 0, 0, 0, 0,\n",
       "       0, 0, 0, 0, 0, 0, 0, 0, 0, 0, 0, 0, 0, 0, 0, 0, 0, 0, 0, 0, 0, 0,\n",
       "       0, 0, 0, 0, 0, 0, 0, 0, 0, 0, 0, 0, 0, 0, 0, 0, 0, 0, 0, 1, 3, 9,\n",
       "       5, 1, 0, 0, 0, 0, 0, 0, 0, 0, 0, 0, 0, 0, 0, 0, 0, 0, 0, 0, 0, 0,\n",
       "       0, 0, 0, 0, 0, 0, 0, 0, 0, 0, 0, 0, 0, 0], dtype=uint8)"
      ]
     },
     "execution_count": 9,
     "metadata": {},
     "output_type": "execute_result"
    }
   ],
   "source": [
    "Radararr[255]"
   ]
  },
  {
   "cell_type": "code",
   "execution_count": 10,
   "metadata": {},
   "outputs": [
    {
     "data": {
      "text/plain": [
       "array([0, 0, 0, 0, 0, 0, 0, 0, 0, 0, 0, 0, 0, 0, 2, 1, 0, 0, 0, 3, 5, 5,\n",
       "       4, 6, 3, 1, 0, 0, 0, 0, 0, 0, 0, 0, 0, 0, 0, 0, 0, 0, 0, 0, 0, 0,\n",
       "       0, 1, 6, 3, 1, 0, 0, 0, 0, 0, 0, 0, 0, 0, 0, 0, 0, 0, 0, 0, 0, 0,\n",
       "       0, 0, 0, 0, 0, 0, 0, 0, 0, 0, 0, 0, 0, 0, 0, 0, 0, 0, 0, 0, 0, 0,\n",
       "       0, 0, 0, 0, 0, 0, 0, 0, 0, 0, 0, 0, 0, 0, 0, 0, 0, 0, 0, 0, 0, 0,\n",
       "       0, 0, 0, 0, 0, 0, 0, 0, 0, 0, 0, 0, 0, 0, 0, 0, 0, 0, 0, 0, 0, 0,\n",
       "       0, 0, 0, 0, 0, 0, 0, 0, 0, 0, 0, 0, 0, 0, 0, 0, 0, 0, 0, 0, 0, 0,\n",
       "       0, 0, 0, 0, 0, 0, 0, 0, 0, 0, 0, 0, 0, 0, 0, 0, 0, 0, 0, 0, 0, 0,\n",
       "       0, 0, 0, 0, 0, 0, 0, 0, 0, 0, 0, 0, 0, 0, 0, 0, 0, 0, 0, 0, 0, 0,\n",
       "       0, 0, 0, 0, 0, 0, 0, 0, 0, 0, 0, 0, 0, 0, 0, 0, 0, 0, 0, 0, 0, 0,\n",
       "       0, 0, 0, 0, 0, 0, 0, 0, 0, 0, 0, 0, 0, 0, 0, 0, 0, 0, 0, 0, 0, 0,\n",
       "       0, 0, 0, 0, 0, 0, 0, 0, 0, 0, 0, 0, 0, 0], dtype=uint8)"
      ]
     },
     "execution_count": 10,
     "metadata": {},
     "output_type": "execute_result"
    }
   ],
   "source": [
    "Radararr[0]"
   ]
  },
  {
   "cell_type": "code",
   "execution_count": 11,
   "metadata": {},
   "outputs": [
    {
     "data": {
      "text/plain": [
       "array([0, 0, 0, 0, 0, 0, 0, 0, 0, 0, 0, 0, 0, 0, 2, 1, 0, 0, 0, 3, 5, 5,\n",
       "       4, 6, 3, 1, 0, 0, 0, 0, 0, 0, 0, 0, 0, 0, 0, 0, 0, 0, 0, 0, 0, 0,\n",
       "       0, 1, 6, 3, 1, 0, 0, 0, 0, 0, 0, 0, 0, 0, 0, 0, 0, 0, 0, 0, 0, 0,\n",
       "       0, 0, 0, 0, 0, 0, 0, 0, 0, 0, 0, 0, 0, 0, 0, 0, 0, 0, 0, 0, 0, 0,\n",
       "       0, 0, 0, 0, 0, 0, 0, 0, 0, 0, 0, 0, 0, 0, 0, 0, 0, 0, 0, 0, 0, 0,\n",
       "       0, 0, 0, 0, 0, 0, 0, 0, 0, 0, 0, 0, 0, 0, 0, 0, 0, 0, 0, 0, 0, 0,\n",
       "       0, 0, 0, 0, 0, 0, 0, 0, 0, 0, 0, 0, 0, 0, 0, 0, 0, 0, 0, 0, 0, 0,\n",
       "       0, 0, 0, 0, 0, 0, 0, 0, 0, 0, 0, 0, 0, 0, 0, 0, 0, 0, 0, 0, 0, 0,\n",
       "       0, 0, 0, 0, 0, 0, 0, 0, 0, 0, 0, 0, 0, 0, 0, 0, 0, 0, 0, 0, 0, 0,\n",
       "       0, 0, 0, 0, 0, 0, 0, 0, 0, 0, 0, 0, 0, 0, 0, 0, 0, 0, 0, 0, 0, 0,\n",
       "       0, 0, 0, 0, 0, 0, 0, 0, 0, 0, 0, 0, 0, 0, 0, 0, 0, 0, 0, 0, 0, 0,\n",
       "       0, 0, 0, 0, 0, 0, 0, 0, 0, 0, 0, 0, 0, 0], dtype=uint8)"
      ]
     },
     "execution_count": 11,
     "metadata": {},
     "output_type": "execute_result"
    }
   ],
   "source": [
    "Radararr[0]"
   ]
  },
  {
   "cell_type": "code",
   "execution_count": 12,
   "metadata": {
    "collapsed": true
   },
   "outputs": [],
   "source": [
    "X_input = np.array(X_input)\n",
    "Y_output = np.array(Y_output)"
   ]
  },
  {
   "cell_type": "code",
   "execution_count": 13,
   "metadata": {},
   "outputs": [
    {
     "data": {
      "text/plain": [
       "(87884,)"
      ]
     },
     "execution_count": 13,
     "metadata": {},
     "output_type": "execute_result"
    }
   ],
   "source": [
    "Y_output.shape"
   ]
  },
  {
   "cell_type": "code",
   "execution_count": 14,
   "metadata": {},
   "outputs": [
    {
     "data": {
      "text/plain": [
       "0"
      ]
     },
     "execution_count": 14,
     "metadata": {},
     "output_type": "execute_result"
    }
   ],
   "source": [
    "np.min(Y_output)"
   ]
  },
  {
   "cell_type": "code",
   "execution_count": 15,
   "metadata": {},
   "outputs": [
    {
     "data": {
      "text/plain": [
       "3.3678826635109917"
      ]
     },
     "execution_count": 15,
     "metadata": {},
     "output_type": "execute_result"
    }
   ],
   "source": [
    "np.mean(Y_output)"
   ]
  },
  {
   "cell_type": "code",
   "execution_count": 16,
   "metadata": {},
   "outputs": [
    {
     "data": {
      "text/plain": [
       "245"
      ]
     },
     "execution_count": 16,
     "metadata": {},
     "output_type": "execute_result"
    }
   ],
   "source": [
    "np.max(Y_output)"
   ]
  },
  {
   "cell_type": "code",
   "execution_count": 17,
   "metadata": {},
   "outputs": [],
   "source": [
    "Y_output_no_zero = list(filter(lambda a: a != 0, Y_output))"
   ]
  },
  {
   "cell_type": "code",
   "execution_count": 18,
   "metadata": {},
   "outputs": [
    {
     "data": {
      "text/plain": [
       "(12254,)"
      ]
     },
     "execution_count": 18,
     "metadata": {},
     "output_type": "execute_result"
    }
   ],
   "source": [
    "np.shape(Y_output_no_zero)"
   ]
  },
  {
   "cell_type": "code",
   "execution_count": 19,
   "metadata": {},
   "outputs": [
    {
     "data": {
      "text/plain": [
       "24.15399053370328"
      ]
     },
     "execution_count": 19,
     "metadata": {},
     "output_type": "execute_result"
    }
   ],
   "source": [
    "np.mean(Y_output_no_zero)"
   ]
  },
  {
   "cell_type": "code",
   "execution_count": 20,
   "metadata": {},
   "outputs": [
    {
     "data": {
      "text/plain": [
       "(array([2982,  967,  775, 1019,  521,  419,  592,  374,  344,  425,  267,\n",
       "         219,  324,  185,  171,  237,  139,  128,  148,  118,   97,  143,\n",
       "          83,   79,  115,   68,   49,  106,   47,   42,   69,   50,   58,\n",
       "          53,   44,   43,   39,   65,   29,   42,   48,   22,   26,   29,\n",
       "          32,   29,   33,   18,   21,   33,   23,   16,   19,   13,   11,\n",
       "          18,   18,   11,   15,    8,    5,   11,    3,    4,    8,    5,\n",
       "           3,    6,    5,    2,    7,    3,    5,    5,    4,    3,    3,\n",
       "           3,    3,    3,    1,    1,    1,    4,    8,    2,    4,    2,\n",
       "           2,    2,    1,    1,    2,    0,    2,    1,    0,    1,    1,\n",
       "           1,    3,    1,    2,    0,    2]),\n",
       " array([  1.        ,   3.32380952,   5.64761905,   7.97142857,\n",
       "         10.2952381 ,  12.61904762,  14.94285714,  17.26666667,\n",
       "         19.59047619,  21.91428571,  24.23809524,  26.56190476,\n",
       "         28.88571429,  31.20952381,  33.53333333,  35.85714286,\n",
       "         38.18095238,  40.5047619 ,  42.82857143,  45.15238095,\n",
       "         47.47619048,  49.8       ,  52.12380952,  54.44761905,\n",
       "         56.77142857,  59.0952381 ,  61.41904762,  63.74285714,\n",
       "         66.06666667,  68.39047619,  70.71428571,  73.03809524,\n",
       "         75.36190476,  77.68571429,  80.00952381,  82.33333333,\n",
       "         84.65714286,  86.98095238,  89.3047619 ,  91.62857143,\n",
       "         93.95238095,  96.27619048,  98.6       , 100.92380952,\n",
       "        103.24761905, 105.57142857, 107.8952381 , 110.21904762,\n",
       "        112.54285714, 114.86666667, 117.19047619, 119.51428571,\n",
       "        121.83809524, 124.16190476, 126.48571429, 128.80952381,\n",
       "        131.13333333, 133.45714286, 135.78095238, 138.1047619 ,\n",
       "        140.42857143, 142.75238095, 145.07619048, 147.4       ,\n",
       "        149.72380952, 152.04761905, 154.37142857, 156.6952381 ,\n",
       "        159.01904762, 161.34285714, 163.66666667, 165.99047619,\n",
       "        168.31428571, 170.63809524, 172.96190476, 175.28571429,\n",
       "        177.60952381, 179.93333333, 182.25714286, 184.58095238,\n",
       "        186.9047619 , 189.22857143, 191.55238095, 193.87619048,\n",
       "        196.2       , 198.52380952, 200.84761905, 203.17142857,\n",
       "        205.4952381 , 207.81904762, 210.14285714, 212.46666667,\n",
       "        214.79047619, 217.11428571, 219.43809524, 221.76190476,\n",
       "        224.08571429, 226.40952381, 228.73333333, 231.05714286,\n",
       "        233.38095238, 235.7047619 , 238.02857143, 240.35238095,\n",
       "        242.67619048, 245.        ]))"
      ]
     },
     "execution_count": 20,
     "metadata": {},
     "output_type": "execute_result"
    }
   ],
   "source": [
    "np.histogram(Y_output_no_zero, bins='auto')"
   ]
  },
  {
   "cell_type": "code",
   "execution_count": 21,
   "metadata": {},
   "outputs": [
    {
     "data": {
      "text/plain": [
       "(87884, 81)"
      ]
     },
     "execution_count": 21,
     "metadata": {},
     "output_type": "execute_result"
    }
   ],
   "source": [
    "X_input.shape"
   ]
  },
  {
   "cell_type": "markdown",
   "metadata": {},
   "source": [
    "# Feature Importance"
   ]
  },
  {
   "cell_type": "code",
   "execution_count": 22,
   "metadata": {},
   "outputs": [
    {
     "name": "stderr",
     "output_type": "stream",
     "text": [
      "/home/wproj/.conda/envs/py36/lib/python3.6/site-packages/sklearn/ensemble/forest.py:248: FutureWarning: The default value of n_estimators will change from 10 in version 0.20 to 100 in 0.22.\n",
      "  \"10 in version 0.20 to 100 in 0.22.\", FutureWarning)\n"
     ]
    },
    {
     "data": {
      "text/plain": [
       "RandomForestRegressor(bootstrap=True, criterion='mse', max_depth=None,\n",
       "           max_features='auto', max_leaf_nodes=None,\n",
       "           min_impurity_decrease=0.0, min_impurity_split=None,\n",
       "           min_samples_leaf=1, min_samples_split=2,\n",
       "           min_weight_fraction_leaf=0.0, n_estimators=10, n_jobs=None,\n",
       "           oob_score=False, random_state=None, verbose=0, warm_start=False)"
      ]
     },
     "execution_count": 22,
     "metadata": {},
     "output_type": "execute_result"
    }
   ],
   "source": [
    "rf = RandomForestRegressor()\n",
    "rf.fit(X_input, Y_output)"
   ]
  },
  {
   "cell_type": "code",
   "execution_count": 23,
   "metadata": {},
   "outputs": [
    {
     "name": "stdout",
     "output_type": "stream",
     "text": [
      "Band 1_11       0.014372229995177042\n",
      "Band 1_12       0.00995006543166192\n",
      "Band 1_13       0.029530834304616737\n",
      "Band 1_21       0.012337444148524428\n",
      "Band 1_22       0.007511165926775804\n",
      "Band 1_23       0.01578840450734249\n",
      "Band 1_31       0.01178474271230694\n",
      "Band 1_32       0.01210292539730902\n",
      "Band 1_33       0.0482172117288903\n",
      "Band 2_11       0.011273420786325417\n",
      "Band 2_12       0.00783421927684685\n",
      "Band 2_13       0.011461613575851886\n",
      "Band 2_21       0.00889518418457796\n",
      "Band 2_22       0.0061618543474569075\n",
      "Band 2_23       0.009933639356743348\n",
      "Band 2_31       0.007629192569462424\n",
      "Band 2_32       0.007605366803708283\n",
      "Band 2_33       0.01025799959647421\n",
      "Band 3_11       0.0069090212447073095\n",
      "Band 3_12       0.007641637682326101\n",
      "Band 3_13       0.008898295996573881\n",
      "Band 3_21       0.005644987436715413\n",
      "Band 3_22       0.005425837630470824\n",
      "Band 3_23       0.008734789977308853\n",
      "Band 3_31       0.008213786093535297\n",
      "Band 3_32       0.006701231374100836\n",
      "Band 3_33       0.01294959188176725\n",
      "Band 4_11       0.009704003036910921\n",
      "Band 4_12       0.005377837151204632\n",
      "Band 4_13       0.007717390612694214\n",
      "Band 4_21       0.004318851258960376\n",
      "Band 4_22       0.003569528270302818\n",
      "Band 4_23       0.009662265376802554\n",
      "Band 4_31       0.004309995016584129\n",
      "Band 4_32       0.005029884040728536\n",
      "Band 4_33       0.015251465760182764\n",
      "Band 6_11       0.009639889729812494\n",
      "Band 6_12       0.006101432400034737\n",
      "Band 6_13       0.008673758092954922\n",
      "Band 6_21       0.00435654652949009\n",
      "Band 6_22       0.003713675907778981\n",
      "Band 6_23       0.006588062446542949\n",
      "Band 6_31       0.006213921536826624\n",
      "Band 6_32       0.005769502920003518\n",
      "Band 6_33       0.0061250651092029425\n",
      "MRH_11       0.01684230381446332\n",
      "MRH_12       0.013775972662847196\n",
      "MRH_13       0.014482801639199757\n",
      "MRH_21       0.008337325210806915\n",
      "MRH_22       0.0052479253071625685\n",
      "MRH_23       0.005713632817063435\n",
      "MRH_31       0.008474352322341241\n",
      "MRH_32       0.010917002077640504\n",
      "MRH_33       0.009416859124609284\n",
      "MSH_11       0.022037392427824813\n",
      "MSH_12       0.006201908236325031\n",
      "MSH_13       0.009473282395783001\n",
      "MSH_21       0.010008905639172184\n",
      "MSH_22       0.009539244702635726\n",
      "MSH_23       0.011136100090162956\n",
      "MSH_31       0.020039824430392785\n",
      "MSH_32       0.011358541956962715\n",
      "MSH_33       0.012560788913471038\n",
      "MTE_11       0.010304835166925184\n",
      "MTE_12       0.005402677964515025\n",
      "MTE_13       0.02966539991274037\n",
      "MTE_21       0.00999910554344802\n",
      "MTE_22       0.007172008838740028\n",
      "MTE_23       0.006871062864926576\n",
      "MTE_31       0.011129817429556729\n",
      "MTE_32       0.00941245713520759\n",
      "MTE_33       0.013523225296212887\n",
      "MVI_11       0.013971822921927824\n",
      "MVI_12       0.010350212212719003\n",
      "MVI_13       0.008882892519084338\n",
      "MVI_21       0.013020010495804559\n",
      "MVI_22       0.010118198631390154\n",
      "MVI_23       0.0070606642153300285\n",
      "MVI_31       0.017719570412995798\n",
      "MVI_32       0.01586297138061523\n",
      "MVI_33       0.15807913412442032\n"
     ]
    }
   ],
   "source": [
    "for feat, score in zip(X_names, rf.feature_importances_):\n",
    "    print('{}       {}'.format(feat, score))"
   ]
  },
  {
   "cell_type": "code",
   "execution_count": 24,
   "metadata": {},
   "outputs": [
    {
     "data": {
      "text/plain": [
       "81"
      ]
     },
     "execution_count": 24,
     "metadata": {},
     "output_type": "execute_result"
    }
   ],
   "source": [
    "len(input_names)"
   ]
  },
  {
   "cell_type": "code",
   "execution_count": 25,
   "metadata": {},
   "outputs": [
    {
     "data": {
      "text/plain": [
       "(81,)"
      ]
     },
     "execution_count": 25,
     "metadata": {},
     "output_type": "execute_result"
    }
   ],
   "source": [
    "rf.feature_importances_.shape"
   ]
  },
  {
   "cell_type": "code",
   "execution_count": 26,
   "metadata": {
    "collapsed": true
   },
   "outputs": [],
   "source": [
    "feature_heatmap = rf.feature_importances_.reshape((27,3))"
   ]
  },
  {
   "cell_type": "code",
   "execution_count": 27,
   "metadata": {},
   "outputs": [
    {
     "data": {
      "text/plain": [
       "Text(0.5, 1.0, 'Band 1')"
      ]
     },
     "execution_count": 27,
     "metadata": {},
     "output_type": "execute_result"
    },
    {
     "data": {
      "image/png": "[encoded data removed]",
      "text/plain": [
       "<Figure size 432x288 with 2 Axes>"
      ]
     },
     "metadata": {},
     "output_type": "display_data"
    }
   ],
   "source": [
    "sns.heatmap(feature_heatmap[0:3], linewidths=.01, annot=True,square=\"true\", vmin=0, vmax=1).set_title('Band 1')"
   ]
  },
  {
   "cell_type": "code",
   "execution_count": 28,
   "metadata": {},
   "outputs": [
    {
     "data": {
      "image/png": "[encoded data removed]",
      "text/plain": [
       "<Figure size 432x288 with 2 Axes>"
      ]
     },
     "metadata": {},
     "output_type": "display_data"
    }
   ],
   "source": [
    "g2 = sns.heatmap(feature_heatmap[3:6], linewidths=.01, annot=True,square=\"true\", vmin=0, vmax=1).set_title('Band 2')"
   ]
  },
  {
   "cell_type": "code",
   "execution_count": 29,
   "metadata": {},
   "outputs": [
    {
     "data": {
      "text/plain": [
       "Text(0.5, 1.0, 'Band 3')"
      ]
     },
     "execution_count": 29,
     "metadata": {},
     "output_type": "execute_result"
    },
    {
     "data": {
      "image/png": "[encoded data removed]",
      "text/plain": [
       "<Figure size 432x288 with 2 Axes>"
      ]
     },
     "metadata": {},
     "output_type": "display_data"
    }
   ],
   "source": [
    "sns.heatmap(feature_heatmap[6:9], linewidths=.01, annot=True,square=\"true\", vmin=0, vmax=1).set_title('Band 3')"
   ]
  },
  {
   "cell_type": "code",
   "execution_count": 30,
   "metadata": {},
   "outputs": [
    {
     "data": {
      "text/plain": [
       "Text(0.5, 1.0, 'Band 4')"
      ]
     },
     "execution_count": 30,
     "metadata": {},
     "output_type": "execute_result"
    },
    {
     "data": {
      "image/png": "[encoded data removed]",
      "text/plain": [
       "<Figure size 432x288 with 2 Axes>"
      ]
     },
     "metadata": {},
     "output_type": "display_data"
    }
   ],
   "source": [
    "sns.heatmap(feature_heatmap[9:12], linewidths=.01, annot=True,square=\"true\", vmin=0, vmax=1).set_title('Band 4')"
   ]
  },
  {
   "cell_type": "code",
   "execution_count": 31,
   "metadata": {},
   "outputs": [
    {
     "data": {
      "text/plain": [
       "Text(0.5, 1.0, 'Band 6')"
      ]
     },
     "execution_count": 31,
     "metadata": {},
     "output_type": "execute_result"
    },
    {
     "data": {
      "image/png": "[encoded data removed]",
      "text/plain": [
       "<Figure size 432x288 with 2 Axes>"
      ]
     },
     "metadata": {},
     "output_type": "display_data"
    }
   ],
   "source": [
    "sns.heatmap(feature_heatmap[12:15], linewidths=.01, annot=True,square=\"true\", vmin=0, vmax=1).set_title('Band 6')"
   ]
  },
  {
   "cell_type": "code",
   "execution_count": 32,
   "metadata": {},
   "outputs": [
    {
     "data": {
      "text/plain": [
       "Text(0.5, 1.0, 'MRH')"
      ]
     },
     "execution_count": 32,
     "metadata": {},
     "output_type": "execute_result"
    },
    {
     "data": {
      "image/png": "[encoded data removed]",
      "text/plain": [
       "<Figure size 432x288 with 2 Axes>"
      ]
     },
     "metadata": {},
     "output_type": "display_data"
    }
   ],
   "source": [
    "sns.heatmap(feature_heatmap[15:18], linewidths=.01, annot=True,square=\"true\", vmin=0, vmax=1).set_title('MRH')"
   ]
  },
  {
   "cell_type": "code",
   "execution_count": 33,
   "metadata": {},
   "outputs": [
    {
     "data": {
      "text/plain": [
       "Text(0.5, 1.0, 'MSH')"
      ]
     },
     "execution_count": 33,
     "metadata": {},
     "output_type": "execute_result"
    },
    {
     "data": {
      "image/png": "[encoded data removed]",
      "text/plain": [
       "<Figure size 432x288 with 2 Axes>"
      ]
     },
     "metadata": {},
     "output_type": "display_data"
    }
   ],
   "source": [
    "sns.heatmap(feature_heatmap[18:21], linewidths=.01, annot=True,square=\"true\", vmin=0, vmax=1).set_title('MSH')"
   ]
  },
  {
   "cell_type": "code",
   "execution_count": 34,
   "metadata": {},
   "outputs": [
    {
     "data": {
      "text/plain": [
       "Text(0.5, 1.0, 'MTE')"
      ]
     },
     "execution_count": 34,
     "metadata": {},
     "output_type": "execute_result"
    },
    {
     "data": {
      "image/png": "[encoded data removed]",
      "text/plain": [
       "<Figure size 432x288 with 2 Axes>"
      ]
     },
     "metadata": {},
     "output_type": "display_data"
    }
   ],
   "source": [
    "sns.heatmap(feature_heatmap[21:24], linewidths=.01, annot=True, square=\"true\", vmin=0, vmax=1).set_title('MTE')"
   ]
  },
  {
   "cell_type": "code",
   "execution_count": 35,
   "metadata": {},
   "outputs": [
    {
     "data": {
      "text/plain": [
       "Text(0.5, 1.0, 'MVI')"
      ]
     },
     "execution_count": 35,
     "metadata": {},
     "output_type": "execute_result"
    },
    {
     "data": {
      "image/png": "[encoded data removed]",
      "text/plain": [
       "<Figure size 432x288 with 2 Axes>"
      ]
     },
     "metadata": {},
     "output_type": "display_data"
    }
   ],
   "source": [
    "sns.heatmap(feature_heatmap[24:27], linewidths=.01, annot=True, square=True, vmin=0, vmax=1).set_title('MVI')"
   ]
  },
  {
   "cell_type": "markdown",
   "metadata": {
    "collapsed": true
   },
   "source": [
    "# Test Train Split"
   ]
  },
  {
   "cell_type": "code",
   "execution_count": 36,
   "metadata": {},
   "outputs": [],
   "source": [
    "from sklearn.model_selection import train_test_split"
   ]
  },
  {
   "cell_type": "code",
   "execution_count": 37,
   "metadata": {},
   "outputs": [],
   "source": [
    "X_train, X_test, y_train, y_test = train_test_split(X_input, Y_output, test_size=0.30, random_state=42)"
   ]
  },
  {
   "cell_type": "code",
   "execution_count": 38,
   "metadata": {},
   "outputs": [
    {
     "data": {
      "text/plain": [
       "(61518, 81)"
      ]
     },
     "execution_count": 38,
     "metadata": {},
     "output_type": "execute_result"
    }
   ],
   "source": [
    "X_train.shape"
   ]
  },
  {
   "cell_type": "code",
   "execution_count": 39,
   "metadata": {},
   "outputs": [
    {
     "data": {
      "text/plain": [
       "(26366, 81)"
      ]
     },
     "execution_count": 39,
     "metadata": {},
     "output_type": "execute_result"
    }
   ],
   "source": [
    "X_test.shape"
   ]
  },
  {
   "cell_type": "code",
   "execution_count": 40,
   "metadata": {},
   "outputs": [
    {
     "data": {
      "text/plain": [
       "(61518,)"
      ]
     },
     "execution_count": 40,
     "metadata": {},
     "output_type": "execute_result"
    }
   ],
   "source": [
    "y_train.shape"
   ]
  },
  {
   "cell_type": "code",
   "execution_count": 41,
   "metadata": {},
   "outputs": [
    {
     "data": {
      "text/plain": [
       "(26366,)"
      ]
     },
     "execution_count": 41,
     "metadata": {},
     "output_type": "execute_result"
    }
   ],
   "source": [
    "y_test.shape"
   ]
  },
  {
   "cell_type": "code",
   "execution_count": 42,
   "metadata": {},
   "outputs": [
    {
     "name": "stderr",
     "output_type": "stream",
     "text": [
      "/home/wproj/.conda/envs/py36/lib/python3.6/site-packages/sklearn/ensemble/forest.py:248: FutureWarning: The default value of n_estimators will change from 10 in version 0.20 to 100 in 0.22.\n",
      "  \"10 in version 0.20 to 100 in 0.22.\", FutureWarning)\n"
     ]
    },
    {
     "data": {
      "text/plain": [
       "RandomForestRegressor(bootstrap=True, criterion='mse', max_depth=None,\n",
       "           max_features='auto', max_leaf_nodes=None,\n",
       "           min_impurity_decrease=0.0, min_impurity_split=None,\n",
       "           min_samples_leaf=1, min_samples_split=2,\n",
       "           min_weight_fraction_leaf=0.0, n_estimators=10, n_jobs=None,\n",
       "           oob_score=False, random_state=None, verbose=0, warm_start=False)"
      ]
     },
     "execution_count": 42,
     "metadata": {},
     "output_type": "execute_result"
    }
   ],
   "source": [
    "rf_train = RandomForestRegressor()\n",
    "rf_train.fit(X_train, y_train)"
   ]
  },
  {
   "cell_type": "code",
   "execution_count": 43,
   "metadata": {},
   "outputs": [
    {
     "name": "stdout",
     "output_type": "stream",
     "text": [
      "Band 1_11       0.013885419796504431\n",
      "Band 1_12       0.010954240389893285\n",
      "Band 1_13       0.024810734653071022\n",
      "Band 1_21       0.01151179666455113\n",
      "Band 1_22       0.011794721099828211\n",
      "Band 1_23       0.024918740221611977\n",
      "Band 1_31       0.011654412300303977\n",
      "Band 1_32       0.01280181362650922\n",
      "Band 1_33       0.049173464411564054\n",
      "Band 2_11       0.010500376465685756\n",
      "Band 2_12       0.005121652105449376\n",
      "Band 2_13       0.009847684194183921\n",
      "Band 2_21       0.008728858531658019\n",
      "Band 2_22       0.0066713483817956\n",
      "Band 2_23       0.012600859816540296\n",
      "Band 2_31       0.010779328811836126\n",
      "Band 2_32       0.007951722956794388\n",
      "Band 2_33       0.012609575320141762\n",
      "Band 3_11       0.007248159724831486\n",
      "Band 3_12       0.007013015699751058\n",
      "Band 3_13       0.01122940327079177\n",
      "Band 3_21       0.005954472869569477\n",
      "Band 3_22       0.006740923546591557\n",
      "Band 3_23       0.007454477391529234\n",
      "Band 3_31       0.007881776289485014\n",
      "Band 3_32       0.00882208752237889\n",
      "Band 3_33       0.017280272772026487\n",
      "Band 4_11       0.007902699830056075\n",
      "Band 4_12       0.004417983616431836\n",
      "Band 4_13       0.013726767371203966\n",
      "Band 4_21       0.004105487720534224\n",
      "Band 4_22       0.004435742742536282\n",
      "Band 4_23       0.007903423460490671\n",
      "Band 4_31       0.003327960265848571\n",
      "Band 4_32       0.004423070925536168\n",
      "Band 4_33       0.01047726378595282\n",
      "Band 6_11       0.008852314647866993\n",
      "Band 6_12       0.005925181100219587\n",
      "Band 6_13       0.008069480475252796\n",
      "Band 6_21       0.006919522433980278\n",
      "Band 6_22       0.006475218228139935\n",
      "Band 6_23       0.004957917931554498\n",
      "Band 6_31       0.007657262508424835\n",
      "Band 6_32       0.004680191425814232\n",
      "Band 6_33       0.00671476335725781\n",
      "MRH_11       0.016704337463974657\n",
      "MRH_12       0.006135288202998406\n",
      "MRH_13       0.009380306042435995\n",
      "MRH_21       0.010017191840929944\n",
      "MRH_22       0.004745934800415469\n",
      "MRH_23       0.005945535335680071\n",
      "MRH_31       0.011135304048055747\n",
      "MRH_32       0.008643009806737613\n",
      "MRH_33       0.00845923755398649\n",
      "MSH_11       0.018972293566046378\n",
      "MSH_12       0.011272915045595504\n",
      "MSH_13       0.011127260321204192\n",
      "MSH_21       0.013060123437276439\n",
      "MSH_22       0.010187182310914599\n",
      "MSH_23       0.007174037498753563\n",
      "MSH_31       0.02153360364237785\n",
      "MSH_32       0.009218601439979133\n",
      "MSH_33       0.010769867332846487\n",
      "MTE_11       0.006640683941795655\n",
      "MTE_12       0.011573899605357976\n",
      "MTE_13       0.01575328327636008\n",
      "MTE_21       0.00557800759094191\n",
      "MTE_22       0.003138961372825487\n",
      "MTE_23       0.009019261231109998\n",
      "MTE_31       0.007047774384894609\n",
      "MTE_32       0.020089215002379646\n",
      "MTE_33       0.017633667571753213\n",
      "MVI_11       0.013770389501068311\n",
      "MVI_12       0.014322777407968432\n",
      "MVI_13       0.009625283861126117\n",
      "MVI_21       0.010274000173127556\n",
      "MVI_22       0.008941177695261215\n",
      "MVI_23       0.010772860220710558\n",
      "MVI_31       0.014281330992271473\n",
      "MVI_32       0.018361102873245334\n",
      "MVI_33       0.15178070294561471\n"
     ]
    }
   ],
   "source": [
    "for feat, score in zip(X_names, rf_train.feature_importances_):\n",
    "    print('{}       {}'.format(feat, score))"
   ]
  },
  {
   "cell_type": "code",
   "execution_count": 44,
   "metadata": {},
   "outputs": [],
   "source": [
    "feature_heatmap = rf_train.feature_importances_.reshape((27,3))"
   ]
  },
  {
   "cell_type": "code",
   "execution_count": 45,
   "metadata": {},
   "outputs": [
    {
     "data": {
      "text/plain": [
       "Text(0.5, 1.0, 'Band 1')"
      ]
     },
     "execution_count": 45,
     "metadata": {},
     "output_type": "execute_result"
    },
    {
     "data": {
      "image/png": "[encoded data removed]",
      "text/plain": [
       "<Figure size 432x288 with 2 Axes>"
      ]
     },
     "metadata": {},
     "output_type": "display_data"
    }
   ],
   "source": [
    "sns.heatmap(feature_heatmap[0:3], linewidths=.01, annot=True,square=\"true\", vmin=0, vmax=1).set_title('Band 1')"
   ]
  },
  {
   "cell_type": "code",
   "execution_count": 46,
   "metadata": {},
   "outputs": [
    {
     "data": {
      "image/png": "[encoded data removed]",
      "text/plain": [
       "<Figure size 432x288 with 2 Axes>"
      ]
     },
     "metadata": {},
     "output_type": "display_data"
    }
   ],
   "source": [
    "g2 = sns.heatmap(feature_heatmap[3:6], linewidths=.01, annot=True,square=\"true\", vmin=0, vmax=1).set_title('Band 2')"
   ]
  },
  {
   "cell_type": "code",
   "execution_count": 47,
   "metadata": {},
   "outputs": [
    {
     "data": {
      "text/plain": [
       "Text(0.5, 1.0, 'Band 3')"
      ]
     },
     "execution_count": 47,
     "metadata": {},
     "output_type": "execute_result"
    },
    {
     "data": {
      "image/png": "[encoded data removed]",
      "text/plain": [
       "<Figure size 432x288 with 2 Axes>"
      ]
     },
     "metadata": {},
     "output_type": "display_data"
    }
   ],
   "source": [
    "sns.heatmap(feature_heatmap[6:9], linewidths=.01, annot=True,square=\"true\", vmin=0, vmax=1).set_title('Band 3')"
   ]
  },
  {
   "cell_type": "code",
   "execution_count": 48,
   "metadata": {},
   "outputs": [
    {
     "data": {
      "text/plain": [
       "Text(0.5, 1.0, 'Band 4')"
      ]
     },
     "execution_count": 48,
     "metadata": {},
     "output_type": "execute_result"
    },
    {
     "data": {
      "image/png": "[encoded data removed]",
      "text/plain": [
       "<Figure size 432x288 with 2 Axes>"
      ]
     },
     "metadata": {},
     "output_type": "display_data"
    }
   ],
   "source": [
    "sns.heatmap(feature_heatmap[9:12], linewidths=.01, annot=True,square=\"true\", vmin=0, vmax=1).set_title('Band 4')"
   ]
  },
  {
   "cell_type": "code",
   "execution_count": 49,
   "metadata": {},
   "outputs": [
    {
     "data": {
      "text/plain": [
       "Text(0.5, 1.0, 'Band 6')"
      ]
     },
     "execution_count": 49,
     "metadata": {},
     "output_type": "execute_result"
    },
    {
     "data": {
      "image/png": "[encoded data removed]",
      "text/plain": [
       "<Figure size 432x288 with 2 Axes>"
      ]
     },
     "metadata": {},
     "output_type": "display_data"
    }
   ],
   "source": [
    "sns.heatmap(feature_heatmap[12:15], linewidths=.01, annot=True,square=\"true\", vmin=0, vmax=1).set_title('Band 6')"
   ]
  },
  {
   "cell_type": "code",
   "execution_count": 50,
   "metadata": {},
   "outputs": [
    {
     "data": {
      "text/plain": [
       "Text(0.5, 1.0, 'MRH')"
      ]
     },
     "execution_count": 50,
     "metadata": {},
     "output_type": "execute_result"
    },
    {
     "data": {
      "image/png": "[encoded data removed]",
      "text/plain": [
       "<Figure size 432x288 with 2 Axes>"
      ]
     },
     "metadata": {},
     "output_type": "display_data"
    }
   ],
   "source": [
    "sns.heatmap(feature_heatmap[15:18], linewidths=.01, annot=True,square=\"true\", vmin=0, vmax=1).set_title('MRH')"
   ]
  },
  {
   "cell_type": "code",
   "execution_count": 51,
   "metadata": {},
   "outputs": [
    {
     "data": {
      "text/plain": [
       "Text(0.5, 1.0, 'MSH')"
      ]
     },
     "execution_count": 51,
     "metadata": {},
     "output_type": "execute_result"
    },
    {
     "data": {
      "image/png": "[encoded data removed]",
      "text/plain": [
       "<Figure size 432x288 with 2 Axes>"
      ]
     },
     "metadata": {},
     "output_type": "display_data"
    }
   ],
   "source": [
    "sns.heatmap(feature_heatmap[18:21], linewidths=.01, annot=True,square=\"true\", vmin=0, vmax=1).set_title('MSH')"
   ]
  },
  {
   "cell_type": "code",
   "execution_count": 52,
   "metadata": {},
   "outputs": [
    {
     "data": {
      "text/plain": [
       "Text(0.5, 1.0, 'MTE')"
      ]
     },
     "execution_count": 52,
     "metadata": {},
     "output_type": "execute_result"
    },
    {
     "data": {
      "image/png": "[encoded data removed]",
      "text/plain": [
       "<Figure size 432x288 with 2 Axes>"
      ]
     },
     "metadata": {},
     "output_type": "display_data"
    }
   ],
   "source": [
    "sns.heatmap(feature_heatmap[21:24], linewidths=.01, annot=True, square=\"true\", vmin=0, vmax=1).set_title('MTE')"
   ]
  },
  {
   "cell_type": "code",
   "execution_count": 53,
   "metadata": {},
   "outputs": [
    {
     "data": {
      "text/plain": [
       "Text(0.5, 1.0, 'MVI')"
      ]
     },
     "execution_count": 53,
     "metadata": {},
     "output_type": "execute_result"
    },
    {
     "data": {
      "image/png": "[encoded data removed]",
      "text/plain": [
       "<Figure size 432x288 with 2 Axes>"
      ]
     },
     "metadata": {},
     "output_type": "display_data"
    }
   ],
   "source": [
    "sns.heatmap(feature_heatmap[24:27], linewidths=.01, annot=True, square=True, vmin=0, vmax=1).set_title('MVI')"
   ]
  },
  {
   "cell_type": "markdown",
   "metadata": {},
   "source": [
    "# Evaluation on Trained"
   ]
  },
  {
   "cell_type": "code",
   "execution_count": 54,
   "metadata": {},
   "outputs": [],
   "source": [
    "predictions_train = rf_train.predict(X_train)"
   ]
  },
  {
   "cell_type": "code",
   "execution_count": 55,
   "metadata": {},
   "outputs": [
    {
     "data": {
      "text/plain": [
       "(61518,)"
      ]
     },
     "execution_count": 55,
     "metadata": {},
     "output_type": "execute_result"
    }
   ],
   "source": [
    "predictions_train.shape"
   ]
  },
  {
   "cell_type": "code",
   "execution_count": 56,
   "metadata": {},
   "outputs": [
    {
     "data": {
      "text/plain": [
       "(61518,)"
      ]
     },
     "execution_count": 56,
     "metadata": {},
     "output_type": "execute_result"
    }
   ],
   "source": [
    "y_train.shape"
   ]
  },
  {
   "cell_type": "code",
   "execution_count": 57,
   "metadata": {},
   "outputs": [],
   "source": [
    "errors_train = abs(predictions_train - y_train)"
   ]
  },
  {
   "cell_type": "code",
   "execution_count": 58,
   "metadata": {},
   "outputs": [
    {
     "data": {
      "text/plain": [
       "array([2.6, 1.1, 0. , ..., 0. , 0. , 0. ])"
      ]
     },
     "execution_count": 58,
     "metadata": {},
     "output_type": "execute_result"
    }
   ],
   "source": [
    "errors_train"
   ]
  },
  {
   "cell_type": "code",
   "execution_count": 59,
   "metadata": {},
   "outputs": [
    {
     "data": {
      "text/plain": [
       "0.9417585097044768"
      ]
     },
     "execution_count": 59,
     "metadata": {},
     "output_type": "execute_result"
    }
   ],
   "source": [
    "np.mean(errors_train)"
   ]
  },
  {
   "cell_type": "code",
   "execution_count": 60,
   "metadata": {},
   "outputs": [
    {
     "data": {
      "text/plain": [
       "103.0"
      ]
     },
     "execution_count": 60,
     "metadata": {},
     "output_type": "execute_result"
    }
   ],
   "source": [
    "np.max(errors_train)"
   ]
  },
  {
   "cell_type": "code",
   "execution_count": 61,
   "metadata": {},
   "outputs": [
    {
     "data": {
      "text/plain": [
       "(array([4.514e+04, 0.000e+00, 0.000e+00, ..., 0.000e+00, 0.000e+00,\n",
       "        1.000e+00]),\n",
       " array([0.00000000e+00, 5.06615513e-03, 1.01323103e-02, ...,\n",
       "        1.02989868e+02, 1.02994934e+02, 1.03000000e+02]),\n",
       " <a list of 20331 Patch objects>)"
      ]
     },
     "execution_count": 61,
     "metadata": {},
     "output_type": "execute_result"
    },
    {
     "data": {
      "image/png": "[encoded data removed]",
      "text/plain": [
       "<Figure size 432x288 with 1 Axes>"
      ]
     },
     "metadata": {},
     "output_type": "display_data"
    }
   ],
   "source": [
    "plt.hist(errors_train, bins='auto')"
   ]
  },
  {
   "cell_type": "code",
   "execution_count": 62,
   "metadata": {},
   "outputs": [
    {
     "data": {
      "text/plain": [
       "(array([6.0006e+04, 1.1300e+03, 2.3900e+02, 7.7000e+01, 3.3000e+01,\n",
       "        1.3000e+01, 8.0000e+00, 6.0000e+00, 2.0000e+00, 2.0000e+00,\n",
       "        2.0000e+00, 0.0000e+00]),\n",
       " array([  0,  10,  20,  30,  40,  50,  60,  70,  80,  90, 100, 110, 120]),\n",
       " <a list of 12 Patch objects>)"
      ]
     },
     "execution_count": 62,
     "metadata": {},
     "output_type": "execute_result"
    },
    {
     "data": {
      "image/png": "[encoded data removed]",
      "text/plain": [
       "<Figure size 432x288 with 1 Axes>"
      ]
     },
     "metadata": {},
     "output_type": "display_data"
    }
   ],
   "source": [
    "plt.hist(errors_train, bins=range(0, 130, 10))"
   ]
  },
  {
   "cell_type": "code",
   "execution_count": 63,
   "metadata": {},
   "outputs": [
    {
     "data": {
      "text/plain": [
       "57935.100000000006"
      ]
     },
     "execution_count": 63,
     "metadata": {},
     "output_type": "execute_result"
    }
   ],
   "source": [
    "np.sum(errors_train)"
   ]
  },
  {
   "cell_type": "markdown",
   "metadata": {},
   "source": [
    "### Confusion Matrix"
   ]
  },
  {
   "cell_type": "code",
   "execution_count": 64,
   "metadata": {},
   "outputs": [
    {
     "data": {
      "image/png": "[encoded data removed]",
      "text/plain": [
       "<Figure size 432x288 with 2 Axes>"
      ]
     },
     "metadata": {},
     "output_type": "display_data"
    }
   ],
   "source": [
    "y_train_copy = np.copy(y_train)\n",
    "y_train_copy[y_train_copy < 18] = 0\n",
    "y_train_copy[y_train_copy >= 18] = 1\n",
    "\n",
    "predictions_train_copy = np.copy(predictions_train)\n",
    "predictions_train_copy[predictions_train_copy < 18] = 0\n",
    "predictions_train_copy[predictions_train_copy >= 18] = 1\n",
    "\n",
    "skplt.metrics.plot_confusion_matrix(y_train_copy, predictions_train_copy, normalize=True)\n",
    "plt.show()"
   ]
  },
  {
   "cell_type": "markdown",
   "metadata": {
    "collapsed": true
   },
   "source": [
    "# Evaluation on Test"
   ]
  },
  {
   "cell_type": "code",
   "execution_count": 65,
   "metadata": {
    "collapsed": true
   },
   "outputs": [],
   "source": [
    "predictions_test = rf_train.predict(X_test)"
   ]
  },
  {
   "cell_type": "code",
   "execution_count": 66,
   "metadata": {},
   "outputs": [
    {
     "data": {
      "text/plain": [
       "(26366,)"
      ]
     },
     "execution_count": 66,
     "metadata": {},
     "output_type": "execute_result"
    }
   ],
   "source": [
    "predictions_test.shape"
   ]
  },
  {
   "cell_type": "code",
   "execution_count": 67,
   "metadata": {},
   "outputs": [
    {
     "data": {
      "text/plain": [
       "(26366,)"
      ]
     },
     "execution_count": 67,
     "metadata": {},
     "output_type": "execute_result"
    }
   ],
   "source": [
    "y_test.shape"
   ]
  },
  {
   "cell_type": "code",
   "execution_count": 68,
   "metadata": {
    "collapsed": true
   },
   "outputs": [],
   "source": [
    "errors_test = abs(predictions_test - y_test)"
   ]
  },
  {
   "cell_type": "code",
   "execution_count": 69,
   "metadata": {},
   "outputs": [
    {
     "data": {
      "text/plain": [
       "array([ 0.7,  0. ,  0. , ...,  9. ,  0. , 81.8])"
      ]
     },
     "execution_count": 69,
     "metadata": {},
     "output_type": "execute_result"
    }
   ],
   "source": [
    "errors_test"
   ]
  },
  {
   "cell_type": "code",
   "execution_count": 70,
   "metadata": {},
   "outputs": [
    {
     "data": {
      "text/plain": [
       "0.0"
      ]
     },
     "execution_count": 70,
     "metadata": {},
     "output_type": "execute_result"
    }
   ],
   "source": [
    "np.min(errors_test)"
   ]
  },
  {
   "cell_type": "code",
   "execution_count": 71,
   "metadata": {},
   "outputs": [
    {
     "data": {
      "text/plain": [
       "2.3607524842600323"
      ]
     },
     "execution_count": 71,
     "metadata": {},
     "output_type": "execute_result"
    }
   ],
   "source": [
    "np.mean(errors_test)"
   ]
  },
  {
   "cell_type": "code",
   "execution_count": 72,
   "metadata": {},
   "outputs": [
    {
     "data": {
      "text/plain": [
       "223.9"
      ]
     },
     "execution_count": 72,
     "metadata": {},
     "output_type": "execute_result"
    }
   ],
   "source": [
    "np.max(errors_test)"
   ]
  },
  {
   "cell_type": "code",
   "execution_count": 73,
   "metadata": {},
   "outputs": [
    {
     "data": {
      "text/plain": [
       "(array([1.6568e+04, 8.2200e+02, 0.0000e+00, ..., 0.0000e+00, 0.0000e+00,\n",
       "        1.0000e+00]),\n",
       " array([0.00000000e+00, 6.04644883e-02, 1.20928977e-01, ...,\n",
       "        2.23779071e+02, 2.23839536e+02, 2.23900000e+02]),\n",
       " <a list of 3703 Patch objects>)"
      ]
     },
     "execution_count": 73,
     "metadata": {},
     "output_type": "execute_result"
    },
    {
     "data": {
      "image/png": "[encoded data removed]",
      "text/plain": [
       "<Figure size 432x288 with 1 Axes>"
      ]
     },
     "metadata": {},
     "output_type": "display_data"
    }
   ],
   "source": [
    "plt.hist(errors_test, bins='auto')"
   ]
  },
  {
   "cell_type": "code",
   "execution_count": 74,
   "metadata": {},
   "outputs": [
    {
     "data": {
      "text/plain": [
       "(array([2.4494e+04, 1.1170e+03, 4.0800e+02, 1.6900e+02, 7.2000e+01,\n",
       "        3.4000e+01, 3.0000e+01, 1.1000e+01, 7.0000e+00, 3.0000e+00,\n",
       "        5.0000e+00, 4.0000e+00]),\n",
       " array([  0,  10,  20,  30,  40,  50,  60,  70,  80,  90, 100, 110, 120]),\n",
       " <a list of 12 Patch objects>)"
      ]
     },
     "execution_count": 74,
     "metadata": {},
     "output_type": "execute_result"
    },
    {
     "data": {
      "image/png": "[encoded data removed]",
      "text/plain": [
       "<Figure size 432x288 with 1 Axes>"
      ]
     },
     "metadata": {},
     "output_type": "display_data"
    }
   ],
   "source": [
    "plt.hist(errors_test, bins=range(0, 130, 10))"
   ]
  },
  {
   "cell_type": "code",
   "execution_count": 75,
   "metadata": {},
   "outputs": [
    {
     "data": {
      "text/plain": [
       "62243.60000000001"
      ]
     },
     "execution_count": 75,
     "metadata": {},
     "output_type": "execute_result"
    }
   ],
   "source": [
    "np.sum(errors_test)"
   ]
  },
  {
   "cell_type": "markdown",
   "metadata": {},
   "source": [
    "### Confusion Matrix\n"
   ]
  },
  {
   "cell_type": "code",
   "execution_count": 76,
   "metadata": {},
   "outputs": [
    {
     "data": {
      "image/png": "[encoded data removed]",
      "text/plain": [
       "<Figure size 432x288 with 2 Axes>"
      ]
     },
     "metadata": {},
     "output_type": "display_data"
    }
   ],
   "source": [
    "y_test_copy = np.copy(y_test)\n",
    "y_test_copy[y_test_copy < 18] = 0\n",
    "y_test_copy[y_test_copy >= 18] = 1\n",
    "\n",
    "predictions_test_copy = np.copy(predictions_test)\n",
    "predictions_test_copy[predictions_test_copy < 18] = 0\n",
    "predictions_test_copy[predictions_test_copy >= 18] = 1\n",
    "\n",
    "skplt.metrics.plot_confusion_matrix(y_test_copy, predictions_test_copy, normalize=True)\n",
    "plt.show()"
   ]
  }
 ],
 "metadata": {
  "kernelspec": {
   "display_name": "Python 3",
   "language": "python",
   "name": "python3"
  },
  "language_info": {
   "codemirror_mode": {
    "name": "ipython",
    "version": 3
   },
   "file_extension": ".py",
   "mimetype": "text/x-python",
   "name": "python",
   "nbconvert_exporter": "python",
   "pygments_lexer": "ipython3",
   "version": "3.6.6"
  }
 },
 "nbformat": 4,
 "nbformat_minor": 2
}
