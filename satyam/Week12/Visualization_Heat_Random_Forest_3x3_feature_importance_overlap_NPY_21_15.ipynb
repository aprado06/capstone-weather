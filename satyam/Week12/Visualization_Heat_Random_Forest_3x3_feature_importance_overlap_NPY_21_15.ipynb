{
 "cells": [
  {
   "cell_type": "code",
   "execution_count": 1,
   "metadata": {
    "collapsed": true
   },
   "outputs": [],
   "source": [
    "# Load Model"
   ]
  },
  {
   "cell_type": "code",
   "execution_count": 4,
   "metadata": {
    "collapsed": false
   },
   "outputs": [
    {
     "name": "stdout",
     "output_type": "stream",
     "text": [
      "RandomForestRegressor(bootstrap=True, criterion='mse', max_depth=None,\n",
      "           max_features='auto', max_leaf_nodes=None,\n",
      "           min_impurity_decrease=0.0, min_impurity_split=None,\n",
      "           min_samples_leaf=1, min_samples_split=2,\n",
      "           min_weight_fraction_leaf=0.0, n_estimators=10, n_jobs=None,\n",
      "           oob_score=False, random_state=None, verbose=0, warm_start=False)\n"
     ]
    }
   ],
   "source": [
    "import pickle\n",
    "model_name = \"MODEL_70_Random_Forest_3x3_overlap_npy.sav\"\n",
    "loaded_model = pickle.load(open(model_name, 'rb'))\n",
    "print(loaded_model)"
   ]
  },
  {
   "cell_type": "code",
   "execution_count": 5,
   "metadata": {
    "collapsed": true
   },
   "outputs": [],
   "source": [
    "from sklearn.ensemble import RandomForestRegressor\n",
    "import numpy as np\n",
    "\n",
    "import matplotlib.pyplot as plt; \n",
    "import pandas as pd\n",
    "plt.rcdefaults()\n",
    "%matplotlib inline\n",
    "\n",
    "import PIL\n",
    "import glob\n",
    "import scikitplot as skplt"
   ]
  },
  {
   "cell_type": "code",
   "execution_count": 6,
   "metadata": {
    "collapsed": false
   },
   "outputs": [
    {
     "data": {
      "text/plain": [
       "['../satyam_rad_sat_mod_npy/sa1_npy_removed/sat.2017010215.npy',\n",
       " '../satyam_rad_sat_mod_npy/sa1_npy_removed/sat.2017022315.npy',\n",
       " '../satyam_rad_sat_mod_npy/sa1_npy_removed/sat.2017012115.npy',\n",
       " '../satyam_rad_sat_mod_npy/sa1_npy_removed/sat.2017022415.npy',\n",
       " '../satyam_rad_sat_mod_npy/sa1_npy_removed/sat.2017022515.npy',\n",
       " '../satyam_rad_sat_mod_npy/sa1_npy_removed/sat.2017022815.npy',\n",
       " '../satyam_rad_sat_mod_npy/sa1_npy_removed/sat.2017012215.npy',\n",
       " '../satyam_rad_sat_mod_npy/sa1_npy_removed/sat.2017030115.npy',\n",
       " '../satyam_rad_sat_mod_npy/sa1_npy_removed/sat.2017020715.npy',\n",
       " '../satyam_rad_sat_mod_npy/sa1_npy_removed/sat.2017030615.npy',\n",
       " '../satyam_rad_sat_mod_npy/sa1_npy_removed/sat.2017021415.npy',\n",
       " '../satyam_rad_sat_mod_npy/sa1_npy_removed/sat.2017031415.npy',\n",
       " '../satyam_rad_sat_mod_npy/sa1_npy_removed/sat.2017032115.npy',\n",
       " '../satyam_rad_sat_mod_npy/sa1_npy_removed/sat.2017040215.npy',\n",
       " '../satyam_rad_sat_mod_npy/sa1_npy_removed/sat.2017040315.npy',\n",
       " '../satyam_rad_sat_mod_npy/sa1_npy_removed/sat.2017040515.npy',\n",
       " '../satyam_rad_sat_mod_npy/sa1_npy_removed/sat.2017041915.npy',\n",
       " '../satyam_rad_sat_mod_npy/sa1_npy_removed/sat.2017042115.npy',\n",
       " '../satyam_rad_sat_mod_npy/sa1_npy_removed/sat.2017042415.npy',\n",
       " '../satyam_rad_sat_mod_npy/sa1_npy_removed/sat.2017042915.npy',\n",
       " '../satyam_rad_sat_mod_npy/sa1_npy_removed/sat.2017043015.npy',\n",
       " '../satyam_rad_sat_mod_npy/sa1_npy_removed/sat.2017050115.npy',\n",
       " '../satyam_rad_sat_mod_npy/sa1_npy_removed/sat.2017050315.npy',\n",
       " '../satyam_rad_sat_mod_npy/sa1_npy_removed/sat.2017050415.npy',\n",
       " '../satyam_rad_sat_mod_npy/sa1_npy_removed/sat.2017051715.npy',\n",
       " '../satyam_rad_sat_mod_npy/sa1_npy_removed/sat.2017051815.npy',\n",
       " '../satyam_rad_sat_mod_npy/sa1_npy_removed/sat.2017051915.npy',\n",
       " '../satyam_rad_sat_mod_npy/sa1_npy_removed/sat.2017052315.npy',\n",
       " '../satyam_rad_sat_mod_npy/sa1_npy_removed/sat.2017052415.npy',\n",
       " '../satyam_rad_sat_mod_npy/sa1_npy_removed/sat.2017052715.npy',\n",
       " '../satyam_rad_sat_mod_npy/sa1_npy_removed/sat.2017061915.npy',\n",
       " '../satyam_rad_sat_mod_npy/sa1_npy_removed/sat.2017062015.npy',\n",
       " '../satyam_rad_sat_mod_npy/sa1_npy_removed/sat.2017062115.npy',\n",
       " '../satyam_rad_sat_mod_npy/sa1_npy_removed/sat.2017062215.npy',\n",
       " '../satyam_rad_sat_mod_npy/sa1_npy_removed/sat.2017062315.npy',\n",
       " '../satyam_rad_sat_mod_npy/sa1_npy_removed/sat.2017063015.npy',\n",
       " '../satyam_rad_sat_mod_npy/sa1_npy_removed/sat.2017070615.npy',\n",
       " '../satyam_rad_sat_mod_npy/sa1_npy_removed/sat.2017071115.npy',\n",
       " '../satyam_rad_sat_mod_npy/sa1_npy_removed/sat.2017072115.npy',\n",
       " '../satyam_rad_sat_mod_npy/sa1_npy_removed/sat.2017080915.npy',\n",
       " '../satyam_rad_sat_mod_npy/sa1_npy_removed/sat.2017082315.npy',\n",
       " '../satyam_rad_sat_mod_npy/sa1_npy_removed/sat.2017082415.npy',\n",
       " '../satyam_rad_sat_mod_npy/sa1_npy_removed/sat.2017082515.npy',\n",
       " '../satyam_rad_sat_mod_npy/sa1_npy_removed/sat.2017082615.npy',\n",
       " '../satyam_rad_sat_mod_npy/sa1_npy_removed/sat.2017090415.npy',\n",
       " '../satyam_rad_sat_mod_npy/sa1_npy_removed/sat.2017090915.npy',\n",
       " '../satyam_rad_sat_mod_npy/sa1_npy_removed/sat.2017091015.npy',\n",
       " '../satyam_rad_sat_mod_npy/sa1_npy_removed/sat.2017091115.npy',\n",
       " '../satyam_rad_sat_mod_npy/sa1_npy_removed/sat.2017093015.npy',\n",
       " '../satyam_rad_sat_mod_npy/sa1_npy_removed/sat.2017100615.npy',\n",
       " '../satyam_rad_sat_mod_npy/sa1_npy_removed/sat.2017010221.npy',\n",
       " '../satyam_rad_sat_mod_npy/sa1_npy_removed/sat.2017022321.npy',\n",
       " '../satyam_rad_sat_mod_npy/sa1_npy_removed/sat.2017012121.npy',\n",
       " '../satyam_rad_sat_mod_npy/sa1_npy_removed/sat.2017022421.npy',\n",
       " '../satyam_rad_sat_mod_npy/sa1_npy_removed/sat.2017022821.npy',\n",
       " '../satyam_rad_sat_mod_npy/sa1_npy_removed/sat.2017012221.npy',\n",
       " '../satyam_rad_sat_mod_npy/sa1_npy_removed/sat.2017030121.npy',\n",
       " '../satyam_rad_sat_mod_npy/sa1_npy_removed/sat.2017012421.npy',\n",
       " '../satyam_rad_sat_mod_npy/sa1_npy_removed/sat.2017030421.npy',\n",
       " '../satyam_rad_sat_mod_npy/sa1_npy_removed/sat.2017020621.npy',\n",
       " '../satyam_rad_sat_mod_npy/sa1_npy_removed/sat.2017020721.npy',\n",
       " '../satyam_rad_sat_mod_npy/sa1_npy_removed/sat.2017030621.npy',\n",
       " '../satyam_rad_sat_mod_npy/sa1_npy_removed/sat.2017021421.npy',\n",
       " '../satyam_rad_sat_mod_npy/sa1_npy_removed/sat.2017030921.npy',\n",
       " '../satyam_rad_sat_mod_npy/sa1_npy_removed/sat.2017031321.npy',\n",
       " '../satyam_rad_sat_mod_npy/sa1_npy_removed/sat.2017031421.npy',\n",
       " '../satyam_rad_sat_mod_npy/sa1_npy_removed/sat.2017032721.npy',\n",
       " '../satyam_rad_sat_mod_npy/sa1_npy_removed/sat.2017032821.npy',\n",
       " '../satyam_rad_sat_mod_npy/sa1_npy_removed/sat.2017032921.npy',\n",
       " '../satyam_rad_sat_mod_npy/sa1_npy_removed/sat.2017033021.npy',\n",
       " '../satyam_rad_sat_mod_npy/sa1_npy_removed/sat.2017040121.npy',\n",
       " '../satyam_rad_sat_mod_npy/sa1_npy_removed/sat.2017040221.npy',\n",
       " '../satyam_rad_sat_mod_npy/sa1_npy_removed/sat.2017040321.npy',\n",
       " '../satyam_rad_sat_mod_npy/sa1_npy_removed/sat.2017040421.npy',\n",
       " '../satyam_rad_sat_mod_npy/sa1_npy_removed/sat.2017040521.npy',\n",
       " '../satyam_rad_sat_mod_npy/sa1_npy_removed/sat.2017041221.npy',\n",
       " '../satyam_rad_sat_mod_npy/sa1_npy_removed/sat.2017041421.npy',\n",
       " '../satyam_rad_sat_mod_npy/sa1_npy_removed/sat.2017041521.npy',\n",
       " '../satyam_rad_sat_mod_npy/sa1_npy_removed/sat.2017041921.npy',\n",
       " '../satyam_rad_sat_mod_npy/sa1_npy_removed/sat.2017042021.npy',\n",
       " '../satyam_rad_sat_mod_npy/sa1_npy_removed/sat.2017042121.npy',\n",
       " '../satyam_rad_sat_mod_npy/sa1_npy_removed/sat.2017042421.npy',\n",
       " '../satyam_rad_sat_mod_npy/sa1_npy_removed/sat.2017042521.npy',\n",
       " '../satyam_rad_sat_mod_npy/sa1_npy_removed/sat.2017042621.npy',\n",
       " '../satyam_rad_sat_mod_npy/sa1_npy_removed/sat.2017042821.npy',\n",
       " '../satyam_rad_sat_mod_npy/sa1_npy_removed/sat.2017042921.npy',\n",
       " '../satyam_rad_sat_mod_npy/sa1_npy_removed/sat.2017043021.npy',\n",
       " '../satyam_rad_sat_mod_npy/sa1_npy_removed/sat.2017050121.npy',\n",
       " '../satyam_rad_sat_mod_npy/sa1_npy_removed/sat.2017050321.npy',\n",
       " '../satyam_rad_sat_mod_npy/sa1_npy_removed/sat.2017050421.npy',\n",
       " '../satyam_rad_sat_mod_npy/sa1_npy_removed/sat.2017050921.npy',\n",
       " '../satyam_rad_sat_mod_npy/sa1_npy_removed/sat.2017051121.npy',\n",
       " '../satyam_rad_sat_mod_npy/sa1_npy_removed/sat.2017051521.npy',\n",
       " '../satyam_rad_sat_mod_npy/sa1_npy_removed/sat.2017051721.npy',\n",
       " '../satyam_rad_sat_mod_npy/sa1_npy_removed/sat.2017051821.npy',\n",
       " '../satyam_rad_sat_mod_npy/sa1_npy_removed/sat.2017051921.npy',\n",
       " '../satyam_rad_sat_mod_npy/sa1_npy_removed/sat.2017052321.npy',\n",
       " '../satyam_rad_sat_mod_npy/sa1_npy_removed/sat.2017052421.npy',\n",
       " '../satyam_rad_sat_mod_npy/sa1_npy_removed/sat.2017052521.npy',\n",
       " '../satyam_rad_sat_mod_npy/sa1_npy_removed/sat.2017052621.npy',\n",
       " '../satyam_rad_sat_mod_npy/sa1_npy_removed/sat.2017052721.npy',\n",
       " '../satyam_rad_sat_mod_npy/sa1_npy_removed/sat.2017052821.npy',\n",
       " '../satyam_rad_sat_mod_npy/sa1_npy_removed/sat.2017053021.npy',\n",
       " '../satyam_rad_sat_mod_npy/sa1_npy_removed/sat.2017060521.npy',\n",
       " '../satyam_rad_sat_mod_npy/sa1_npy_removed/sat.2017060721.npy',\n",
       " '../satyam_rad_sat_mod_npy/sa1_npy_removed/sat.2017060821.npy',\n",
       " '../satyam_rad_sat_mod_npy/sa1_npy_removed/sat.2017060921.npy',\n",
       " '../satyam_rad_sat_mod_npy/sa1_npy_removed/sat.2017061221.npy',\n",
       " '../satyam_rad_sat_mod_npy/sa1_npy_removed/sat.2017061321.npy',\n",
       " '../satyam_rad_sat_mod_npy/sa1_npy_removed/sat.2017061521.npy',\n",
       " '../satyam_rad_sat_mod_npy/sa1_npy_removed/sat.2017061721.npy',\n",
       " '../satyam_rad_sat_mod_npy/sa1_npy_removed/sat.2017061921.npy',\n",
       " '../satyam_rad_sat_mod_npy/sa1_npy_removed/sat.2017062021.npy',\n",
       " '../satyam_rad_sat_mod_npy/sa1_npy_removed/sat.2017062121.npy',\n",
       " '../satyam_rad_sat_mod_npy/sa1_npy_removed/sat.2017062221.npy',\n",
       " '../satyam_rad_sat_mod_npy/sa1_npy_removed/sat.2017062321.npy',\n",
       " '../satyam_rad_sat_mod_npy/sa1_npy_removed/sat.2017062621.npy',\n",
       " '../satyam_rad_sat_mod_npy/sa1_npy_removed/sat.2017062821.npy',\n",
       " '../satyam_rad_sat_mod_npy/sa1_npy_removed/sat.2017062921.npy',\n",
       " '../satyam_rad_sat_mod_npy/sa1_npy_removed/sat.2017063021.npy',\n",
       " '../satyam_rad_sat_mod_npy/sa1_npy_removed/sat.2017070321.npy',\n",
       " '../satyam_rad_sat_mod_npy/sa1_npy_removed/sat.2017070521.npy',\n",
       " '../satyam_rad_sat_mod_npy/sa1_npy_removed/sat.2017070621.npy',\n",
       " '../satyam_rad_sat_mod_npy/sa1_npy_removed/sat.2017070721.npy',\n",
       " '../satyam_rad_sat_mod_npy/sa1_npy_removed/sat.2017070921.npy',\n",
       " '../satyam_rad_sat_mod_npy/sa1_npy_removed/sat.2017071121.npy',\n",
       " '../satyam_rad_sat_mod_npy/sa1_npy_removed/sat.2017071321.npy',\n",
       " '../satyam_rad_sat_mod_npy/sa1_npy_removed/sat.2017071921.npy',\n",
       " '../satyam_rad_sat_mod_npy/sa1_npy_removed/sat.2017072021.npy',\n",
       " '../satyam_rad_sat_mod_npy/sa1_npy_removed/sat.2017072121.npy',\n",
       " '../satyam_rad_sat_mod_npy/sa1_npy_removed/sat.2017080921.npy',\n",
       " '../satyam_rad_sat_mod_npy/sa1_npy_removed/sat.2017081621.npy',\n",
       " '../satyam_rad_sat_mod_npy/sa1_npy_removed/sat.2017081821.npy',\n",
       " '../satyam_rad_sat_mod_npy/sa1_npy_removed/sat.2017082221.npy',\n",
       " '../satyam_rad_sat_mod_npy/sa1_npy_removed/sat.2017082321.npy',\n",
       " '../satyam_rad_sat_mod_npy/sa1_npy_removed/sat.2017082421.npy',\n",
       " '../satyam_rad_sat_mod_npy/sa1_npy_removed/sat.2017082521.npy',\n",
       " '../satyam_rad_sat_mod_npy/sa1_npy_removed/sat.2017082621.npy',\n",
       " '../satyam_rad_sat_mod_npy/sa1_npy_removed/sat.2017090121.npy',\n",
       " '../satyam_rad_sat_mod_npy/sa1_npy_removed/sat.2017090421.npy',\n",
       " '../satyam_rad_sat_mod_npy/sa1_npy_removed/sat.2017090521.npy',\n",
       " '../satyam_rad_sat_mod_npy/sa1_npy_removed/sat.2017090821.npy',\n",
       " '../satyam_rad_sat_mod_npy/sa1_npy_removed/sat.2017091021.npy',\n",
       " '../satyam_rad_sat_mod_npy/sa1_npy_removed/sat.2017091121.npy',\n",
       " '../satyam_rad_sat_mod_npy/sa1_npy_removed/sat.2017091921.npy',\n",
       " '../satyam_rad_sat_mod_npy/sa1_npy_removed/sat.2017092321.npy',\n",
       " '../satyam_rad_sat_mod_npy/sa1_npy_removed/sat.2017100121.npy',\n",
       " '../satyam_rad_sat_mod_npy/sa1_npy_removed/sat.2017100621.npy',\n",
       " '../satyam_rad_sat_mod_npy/sa1_npy_removed/sat.2017101421.npy',\n",
       " '../satyam_rad_sat_mod_npy/sa1_npy_removed/sat.2017102121.npy',\n",
       " '../satyam_rad_sat_mod_npy/sa1_npy_removed/sat.2017102821.npy',\n",
       " '../satyam_rad_sat_mod_npy/sa1_npy_removed/sat.2017110521.npy',\n",
       " '../satyam_rad_sat_mod_npy/sa1_npy_removed/sat.2017120821.npy']"
      ]
     },
     "execution_count": 6,
     "metadata": {},
     "output_type": "execute_result"
    }
   ],
   "source": [
    "folder = \"../satyam_rad_sat_mod_npy/\"\n",
    "Sa1_files = glob.glob(\"../satyam_rad_sat_mod_npy/sa1_npy_removed/*15.npy\")\n",
    "Sa1_files += glob.glob(\"../satyam_rad_sat_mod_npy/sa1_npy_removed/*21.npy\")\n",
    "Sa1_files"
   ]
  },
  {
   "cell_type": "code",
   "execution_count": 42,
   "metadata": {
    "collapsed": false
   },
   "outputs": [
    {
     "data": {
      "text/plain": [
       "153"
      ]
     },
     "execution_count": 42,
     "metadata": {},
     "output_type": "execute_result"
    }
   ],
   "source": [
    "len(Sa1_files)"
   ]
  },
  {
   "cell_type": "code",
   "execution_count": 77,
   "metadata": {
    "collapsed": true
   },
   "outputs": [],
   "source": [
    "X_input = []\n",
    "input_names = [\"Band 1_11\", \"Band 1_12\", \"Band 1_13\", \n",
    "               \"Band 1_21\", \"Band 1_22\", \"Band 1_23\",\n",
    "               \"Band 1_31\", \"Band 1_32\", \"Band 1_33\",\n",
    "               \n",
    "               \n",
    "               \"Band 2_11\", \"Band 2_12\", \"Band 2_13\", \n",
    "               \"Band 2_21\", \"Band 2_22\", \"Band 2_23\",\n",
    "               \"Band 2_31\", \"Band 2_32\", \"Band 2_33\",\n",
    "               \n",
    "               \"Band 3_11\", \"Band 3_12\", \"Band 3_13\", \n",
    "               \"Band 3_21\", \"Band 3_22\", \"Band 3_23\",\n",
    "               \"Band 3_31\", \"Band 3_32\", \"Band 3_33\",\n",
    "               \n",
    "               \"Band 4_11\", \"Band 4_12\", \"Band 4_13\", \n",
    "               \"Band 4_21\", \"Band 4_22\", \"Band 4_23\",\n",
    "               \"Band 4_31\", \"Band 4_32\", \"Band 4_33\",\n",
    "               \n",
    "               \"Band 6_11\", \"Band 6_12\", \"Band 6_13\", \n",
    "               \"Band 6_21\", \"Band 6_22\", \"Band 6_23\",\n",
    "               \"Band 6_31\", \"Band 6_32\", \"Band 6_33\",\n",
    "               \n",
    "               \n",
    "               \"MRH_11\", \"MRH_12\", \"MRH_13\", \n",
    "               \"MRH_21\", \"MRH_22\", \"MRH_23\",\n",
    "               \"MRH_31\", \"MRH_32\", \"MRH_33\",\n",
    "               \n",
    "               \"MSH_11\", \"MSH_12\", \"MSH_13\", \n",
    "               \"MSH_21\", \"MSH_22\", \"MSH_23\",\n",
    "               \"MSH_31\", \"MSH_32\", \"MSH_33\",\n",
    "               \n",
    "               \"MTE_11\", \"MTE_12\", \"MTE_13\", \n",
    "               \"MTE_21\", \"MTE_22\", \"MTE_23\",\n",
    "               \"MTE_31\", \"MTE_32\", \"MTE_33\",\n",
    "               \n",
    "               \"MVI_11\", \"MVI_12\", \"MVI_13\", \n",
    "               \"MVI_21\", \"MVI_22\", \"MVI_23\",\n",
    "               \"MVI_31\", \"MVI_32\", \"MVI_33\"]\n",
    "\n",
    "X_names = np.asarray(input_names)\n",
    "\n",
    "Y_output = []"
   ]
  },
  {
   "cell_type": "code",
   "execution_count": 78,
   "metadata": {
    "collapsed": false
   },
   "outputs": [],
   "source": [
    "for filename in Sa1_files:\n",
    "    filename = filename.split('/')[-1]\n",
    "    \n",
    "    # Satellite 1\n",
    "    Sa_1_File = folder + \"sa1_npy_removed/\" + filename;\n",
    "    Sa1arr = np.load(Sa_1_File)\n",
    "    \n",
    "    \n",
    "    # Satellite 2\n",
    "    Sa_2_File = folder + \"sa2_npy/\" + filename;\n",
    "    Sa2arr = np.load(Sa_2_File)\n",
    "    \n",
    "    \n",
    "    # Satellite 3\n",
    "    Sa_3_File = folder + \"sa3_npy/\" + filename;\n",
    "    Sa3arr = np.load(Sa_3_File)\n",
    "    \n",
    "    # Satellite 4\n",
    "    Sa_4_File = folder + \"sa4_npy/\" + filename;\n",
    "    Sa4arr = np.load(Sa_4_File)\n",
    "    \n",
    "    # Satellite 6\n",
    "    Sa_6_File = folder + \"sa6_npy/\" + filename;\n",
    "    Sa6arr = np.load(Sa_6_File)\n",
    "    \n",
    "    \n",
    "    \n",
    "    # MRH\n",
    "    MRH_File = folder + \"mrh_npy/\" + filename.replace('sat', \"mod\", 1)\n",
    "    MRHarr = np.load(MRH_File)\n",
    "    \n",
    "    # MSH\n",
    "    MSH_File = folder + \"msh_npy/\" + filename.replace('sat', \"mod\", 1)\n",
    "    MSHarr = np.load(MSH_File)\n",
    "    \n",
    "    # MTE\n",
    "    MTE_File = folder + \"tem_npy/\" + filename.replace('sat', \"mod\", 1)\n",
    "    MTEarr = np.load(MTE_File)\n",
    "    \n",
    "    # MVI\n",
    "    MVI_File = folder + \"vis_npy/\" + filename.replace('sat', \"mod\", 1)\n",
    "    MVIarr = np.load(MVI_File)\n",
    "    \n",
    "    # Radar\n",
    "    Radar_File = folder + \"rad_npy/\" + filename.replace('sat', \"rad\", 1)\n",
    "    Radararr = np.load(Radar_File)\n",
    "    \n",
    "    rows = len(Sa1arr);\n",
    "    cols = len(Sa1arr[0]);\n",
    "    \n",
    "    for row in range(1, rows-1):\n",
    "        for col in range(1, cols-1):\n",
    "            x = [];\n",
    "            \n",
    "            # Sa1\n",
    "            for row_ in range(row-1, row+2):\n",
    "                for col_ in range(col-1, col+2):\n",
    "                    x.append(Sa1arr[row_][col_])\n",
    "                    \n",
    "            # Sa2\n",
    "            for row_ in range(row-1, row+2):\n",
    "                for col_ in range(col-1, col+2):\n",
    "                    x.append(Sa2arr[row_][col_])\n",
    "                    \n",
    "                    \n",
    "            # Sa3\n",
    "            for row_ in range(row-1, row+2):\n",
    "                for col_ in range(col-1, col+2):\n",
    "                    x.append(Sa3arr[row_][col_])\n",
    "                    \n",
    "            # Sa4\n",
    "            for row_ in range(row-1, row+2):\n",
    "                for col_ in range(col-1, col+2):\n",
    "                    x.append(Sa4arr[row_][col_])\n",
    "                    \n",
    "            # Sa6\n",
    "            for row_ in range(row-1, row+2):\n",
    "                for col_ in range(col-1, col+2):\n",
    "                    x.append(Sa6arr[row_][col_])\n",
    "                    \n",
    "                    \n",
    "                    \n",
    "                    \n",
    "            # MRH\n",
    "            for row_ in range(row-1, row+2):\n",
    "                for col_ in range(col-1, col+2):\n",
    "                    x.append(MRHarr[row_][col_])    \n",
    "                    \n",
    "            # MSH\n",
    "            for row_ in range(row-1, row+2):\n",
    "                for col_ in range(col-1, col+2):\n",
    "                    x.append(MSHarr[row_][col_])\n",
    "                    \n",
    "                    \n",
    "            # MTE\n",
    "            for row_ in range(row-1, row+2):\n",
    "                for col_ in range(col-1, col+2):\n",
    "                    x.append(MTEarr[row_][col_])\n",
    "                    \n",
    "                    \n",
    "            # MVI\n",
    "            for row_ in range(row-1, row+2):\n",
    "                for col_ in range(col-1, col+2):\n",
    "                    x.append(MVIarr[row_][col_])\n",
    "            \n",
    "            X_input.append(x)\n",
    "            Y_output.append(Radararr[row][col])      \n",
    "    break"
   ]
  },
  {
   "cell_type": "code",
   "execution_count": 81,
   "metadata": {
    "collapsed": false
   },
   "outputs": [
    {
     "data": {
      "text/plain": [
       "(64516,)"
      ]
     },
     "execution_count": 81,
     "metadata": {},
     "output_type": "execute_result"
    }
   ],
   "source": [
    "Y_output.shape"
   ]
  },
  {
   "cell_type": "code",
   "execution_count": 80,
   "metadata": {
    "collapsed": true
   },
   "outputs": [],
   "source": [
    "X_input = np.array(X_input)\n",
    "Y_output = np.array(Y_output)"
   ]
  },
  {
   "cell_type": "code",
   "execution_count": 82,
   "metadata": {
    "collapsed": false
   },
   "outputs": [
    {
     "data": {
      "text/plain": [
       "(256, 256)"
      ]
     },
     "execution_count": 82,
     "metadata": {},
     "output_type": "execute_result"
    }
   ],
   "source": [
    "MTEarr.shape"
   ]
  },
  {
   "cell_type": "code",
   "execution_count": 83,
   "metadata": {
    "collapsed": false
   },
   "outputs": [
    {
     "data": {
      "text/plain": [
       "(64516, 81)"
      ]
     },
     "execution_count": 83,
     "metadata": {},
     "output_type": "execute_result"
    }
   ],
   "source": [
    "X_input.shape"
   ]
  },
  {
   "cell_type": "code",
   "execution_count": 56,
   "metadata": {
    "collapsed": false
   },
   "outputs": [
    {
     "data": {
      "text/plain": [
       "(254,)"
      ]
     },
     "execution_count": 56,
     "metadata": {},
     "output_type": "execute_result"
    }
   ],
   "source": [
    "Y_output.shape"
   ]
  },
  {
   "cell_type": "code",
   "execution_count": 15,
   "metadata": {
    "collapsed": true
   },
   "outputs": [],
   "source": [
    "## Visualize"
   ]
  },
  {
   "cell_type": "code",
   "execution_count": 24,
   "metadata": {
    "collapsed": false
   },
   "outputs": [
    {
     "ename": "ValueError",
     "evalue": "cannot reshape array of size 254 into shape (254,254)",
     "output_type": "error",
     "traceback": [
      "\u001b[0;31m---------------------------------------------------------------------------\u001b[0m",
      "\u001b[0;31mValueError\u001b[0m                                Traceback (most recent call last)",
      "\u001b[0;32m<ipython-input-24-1cfec59bca68>\u001b[0m in \u001b[0;36m<module>\u001b[0;34m()\u001b[0m\n\u001b[1;32m      3\u001b[0m \u001b[0mfig_\u001b[0m\u001b[0;34m=\u001b[0m\u001b[0mplt\u001b[0m\u001b[0;34m.\u001b[0m\u001b[0mfigure\u001b[0m\u001b[0;34m(\u001b[0m\u001b[0;34m)\u001b[0m\u001b[0;34m\u001b[0m\u001b[0m\n\u001b[1;32m      4\u001b[0m \u001b[0;34m\u001b[0m\u001b[0m\n\u001b[0;32m----> 5\u001b[0;31m \u001b[0mY_test_predicted\u001b[0m \u001b[0;34m=\u001b[0m \u001b[0mloaded_model\u001b[0m\u001b[0;34m.\u001b[0m\u001b[0mpredict\u001b[0m\u001b[0;34m(\u001b[0m\u001b[0mX_input\u001b[0m\u001b[0;34m)\u001b[0m\u001b[0;34m[\u001b[0m\u001b[0;34m(\u001b[0m\u001b[0mi\u001b[0m\u001b[0;34m*\u001b[0m\u001b[0;36m64516\u001b[0m\u001b[0;34m)\u001b[0m\u001b[0;34m:\u001b[0m\u001b[0;34m(\u001b[0m\u001b[0;34m(\u001b[0m\u001b[0mi\u001b[0m\u001b[0;34m+\u001b[0m\u001b[0;36m1\u001b[0m\u001b[0;34m)\u001b[0m\u001b[0;34m*\u001b[0m\u001b[0;36m64516\u001b[0m\u001b[0;34m)\u001b[0m\u001b[0;34m]\u001b[0m\u001b[0;34m.\u001b[0m\u001b[0mreshape\u001b[0m\u001b[0;34m(\u001b[0m\u001b[0;34m(\u001b[0m\u001b[0;36m254\u001b[0m\u001b[0;34m,\u001b[0m \u001b[0;36m254\u001b[0m\u001b[0;34m)\u001b[0m\u001b[0;34m)\u001b[0m\u001b[0;34m\u001b[0m\u001b[0m\n\u001b[0m\u001b[1;32m      6\u001b[0m \u001b[0mfig_\u001b[0m\u001b[0;34m.\u001b[0m\u001b[0madd_subplot\u001b[0m\u001b[0;34m(\u001b[0m\u001b[0;36m1\u001b[0m\u001b[0;34m,\u001b[0m \u001b[0;36m2\u001b[0m\u001b[0;34m,\u001b[0m \u001b[0;36m1\u001b[0m\u001b[0;34m)\u001b[0m\u001b[0;34m\u001b[0m\u001b[0m\n\u001b[1;32m      7\u001b[0m \u001b[0mplt\u001b[0m\u001b[0;34m.\u001b[0m\u001b[0mimshow\u001b[0m\u001b[0;34m(\u001b[0m\u001b[0mY_test_predicted\u001b[0m\u001b[0;34m,\u001b[0m \u001b[0mcmap\u001b[0m\u001b[0;34m=\u001b[0m\u001b[0;34m\"gray\"\u001b[0m\u001b[0;34m)\u001b[0m\u001b[0;34m\u001b[0m\u001b[0m\n",
      "\u001b[0;31mValueError\u001b[0m: cannot reshape array of size 254 into shape (254,254)"
     ]
    },
    {
     "data": {
      "text/plain": [
       "<Figure size 432x288 with 0 Axes>"
      ]
     },
     "metadata": {},
     "output_type": "display_data"
    }
   ],
   "source": [
    "i = 0\n",
    "\n",
    "fig_=plt.figure()\n",
    "    \n",
    "Y_test_predicted = loaded_model.predict(X_input)[(i*64516):((i+1)*64516)].reshape((254, 254))\n",
    "fig_.add_subplot(1, 2, 1)\n",
    "plt.imshow(Y_test_predicted, cmap=\"gray\")\n",
    "    \n",
    "Y_true = Y_output[(i*64516):((i+1)*64516)].reshape((254, 254))\n",
    "fig_.add_subplot(1, 2, 2)\n",
    "plt.imshow(Y_true, cmap=\"gray\")\n",
    "    \n",
    "plt.show()\n",
    "    \n",
    "heat_map = Y_test_predicted - Y_true\n",
    "plt.imshow(heat_map, cmap=\"gray\")\n",
    "plt.show()\n",
    "    \n",
    "\n",
    "print(np.mean(((Y_test_predicted - Y_true)**2).flatten()))\n",
    "print(\"=====================================\")"
   ]
  },
  {
   "cell_type": "code",
   "execution_count": 37,
   "metadata": {
    "collapsed": false
   },
   "outputs": [
    {
     "data": {
      "text/plain": [
       "(254, 81)"
      ]
     },
     "execution_count": 37,
     "metadata": {},
     "output_type": "execute_result"
    }
   ],
   "source": [
    "X_input.shape"
   ]
  },
  {
   "cell_type": "code",
   "execution_count": 39,
   "metadata": {
    "collapsed": false
   },
   "outputs": [
    {
     "data": {
      "text/plain": [
       "(254,)"
      ]
     },
     "execution_count": 39,
     "metadata": {},
     "output_type": "execute_result"
    }
   ],
   "source": [
    "loaded_model.predict(X_input).shape"
   ]
  },
  {
   "cell_type": "code",
   "execution_count": 33,
   "metadata": {
    "collapsed": false
   },
   "outputs": [
    {
     "data": {
      "text/plain": [
       "array([ 15.5,  14.9,  14.9,  14.9,  14.9,  14.9,  14.9,  13.3,  14.9,\n",
       "        14.9,  14.9,  15.2,  15.8,  16. ,  17.1,  18.6,  20.7,  17.7,\n",
       "        16.8,  27.3,  55.1,  57. ,  57.4,  77.7,  75.7,  57. ,  45.8,\n",
       "        54.4,  61.4,  64.7,  72.7,  80. , 112. , 115.4, 109.1, 109.1,\n",
       "       141.9, 162. , 196.3, 199.4, 185.5, 162.9, 162.9, 162.9, 172.3,\n",
       "       138.5, 140.9, 174.6, 133.1,  70.3,  79.3,  78.7,  78.7,  80.6,\n",
       "        64.7,  64.7,  50.1,  38.9,  36.9,  36.9,  36.9,  26.8,  26.8,\n",
       "        17.4,  16.4,  16. ,  14.9,  14.9,  14. ,  14. ,  19.7,  17.7,\n",
       "        15.8,  14. ,  12.3,  11.4,  11.8,  12. ,  11.1,  13.7,  14.1,\n",
       "        14.1,  17. ,  16.7,  13.2,  12.7,   6.4,   6. ,   5.4,  10.1,\n",
       "        14.7,   8. ,   5.3,  14.1,  12.7,  12.6,  11.7,  11.8,  15.3,\n",
       "        13.3,   7.7,   5.4,   5.1,   5.1,   6.6,   6.4,   6.6,   6.2,\n",
       "         6.2,   6.6,   7. ,   7.8,   7.8,   7.8,   8.5,  13.5,  14.4,\n",
       "        15.8,  11. ,  10.9,  15.1,  16.4,  16.8,  24.6,  28. ,  21.3,\n",
       "        18.7,  18.5,  16. ,  15.1,  15.6,   8.5,   8.6,   5.4,   8.6,\n",
       "         8. ,   9.4,  10.9,   8.4,   5. ,  10.6,  10.2,  10.4,  10.8,\n",
       "         4.2,   4.2,   4.4,   4.3,   4.4,   4.1,  11.3,   6.2,  25.1,\n",
       "        12.3,  13.3,  16.2,  16. ,  24.9,  18.3,  16.2,  11.6,   9.9,\n",
       "        16. ,  15. ,  12.7,  28.9,  21.1,  30.2,  32.9,  20.1,  15.5,\n",
       "        13. ,  11.4,  13.3,  13.4,  13.3,  13.7,  14.6,  13.1,  11.4,\n",
       "        11.8,  13.8,  13.8,  13.8,  14.1,  13.9,  13.9,  13.9,  16.7,\n",
       "        19.3,  19.3,  19.3,  19.3,  19.3,  19.2,  18.4,  17.2,  17.2,\n",
       "        17.2,  16.9,  15.3,   6.1,   6.1,  21.2,  11.9,  11.3,  12. ,\n",
       "        12.6,  13.3,  14.2,  13.3,  21.9,  21.9,  22.2,  21.9,  20.2,\n",
       "         5.8,   5.4,   4.2,   4.5,   5. ,   9.2,  17.8,  17.8,  12.3,\n",
       "         8.3,   7.5,  13.9,   9.4,   9.9,  13.6,   9.4,  11.6,  14.6,\n",
       "        14.2,  15. ,  11.7,  22.6,   9.5,  11.7,  13.8,  12.9,  16.1,\n",
       "        20.7,  15.9,  14.7,  15. ,  19. ,  13.7,  13.7,  13.9,   9.4,\n",
       "        10. ,  13.5])"
      ]
     },
     "execution_count": 33,
     "metadata": {},
     "output_type": "execute_result"
    }
   ],
   "source": [
    "loaded_model.predict(X_input)[0:]"
   ]
  },
  {
   "cell_type": "code",
   "execution_count": null,
   "metadata": {
    "collapsed": true
   },
   "outputs": [],
   "source": []
  },
  {
   "cell_type": "code",
   "execution_count": 18,
   "metadata": {
    "collapsed": false
   },
   "outputs": [
    {
     "ename": "ValueError",
     "evalue": "cannot reshape array of size 254 into shape (256,256)",
     "output_type": "error",
     "traceback": [
      "\u001b[0;31m---------------------------------------------------------------------------\u001b[0m",
      "\u001b[0;31mValueError\u001b[0m                                Traceback (most recent call last)",
      "\u001b[0;32m<ipython-input-18-88931dcb55a6>\u001b[0m in \u001b[0;36m<module>\u001b[0;34m()\u001b[0m\n\u001b[1;32m      1\u001b[0m \u001b[0;32mfor\u001b[0m \u001b[0mi\u001b[0m \u001b[0;32min\u001b[0m \u001b[0mrange\u001b[0m\u001b[0;34m(\u001b[0m\u001b[0;36m1\u001b[0m\u001b[0;34m)\u001b[0m\u001b[0;34m:\u001b[0m\u001b[0;34m\u001b[0m\u001b[0m\n\u001b[0;32m----> 2\u001b[0;31m     \u001b[0mplotgraph\u001b[0m\u001b[0;34m(\u001b[0m\u001b[0mi\u001b[0m\u001b[0;34m)\u001b[0m\u001b[0;34m\u001b[0m\u001b[0m\n\u001b[0m",
      "\u001b[0;32m<ipython-input-17-4a581808eca6>\u001b[0m in \u001b[0;36mplotgraph\u001b[0;34m(i)\u001b[0m\n\u001b[1;32m      2\u001b[0m     \u001b[0mfig_\u001b[0m\u001b[0;34m=\u001b[0m\u001b[0mplt\u001b[0m\u001b[0;34m.\u001b[0m\u001b[0mfigure\u001b[0m\u001b[0;34m(\u001b[0m\u001b[0;34m)\u001b[0m\u001b[0;34m\u001b[0m\u001b[0m\n\u001b[1;32m      3\u001b[0m \u001b[0;34m\u001b[0m\u001b[0m\n\u001b[0;32m----> 4\u001b[0;31m     \u001b[0mY_test_predicted\u001b[0m \u001b[0;34m=\u001b[0m \u001b[0mloaded_model\u001b[0m\u001b[0;34m.\u001b[0m\u001b[0mpredict\u001b[0m\u001b[0;34m(\u001b[0m\u001b[0mX_input\u001b[0m\u001b[0;34m)\u001b[0m\u001b[0;34m[\u001b[0m\u001b[0;34m(\u001b[0m\u001b[0mi\u001b[0m\u001b[0;34m*\u001b[0m\u001b[0;36m65536\u001b[0m\u001b[0;34m)\u001b[0m\u001b[0;34m:\u001b[0m\u001b[0;34m(\u001b[0m\u001b[0;34m(\u001b[0m\u001b[0mi\u001b[0m\u001b[0;34m+\u001b[0m\u001b[0;36m1\u001b[0m\u001b[0;34m)\u001b[0m\u001b[0;34m*\u001b[0m\u001b[0;36m65536\u001b[0m\u001b[0;34m)\u001b[0m\u001b[0;34m]\u001b[0m\u001b[0;34m.\u001b[0m\u001b[0mreshape\u001b[0m\u001b[0;34m(\u001b[0m\u001b[0;34m(\u001b[0m\u001b[0;36m256\u001b[0m\u001b[0;34m,\u001b[0m \u001b[0;36m256\u001b[0m\u001b[0;34m)\u001b[0m\u001b[0;34m)\u001b[0m\u001b[0;34m\u001b[0m\u001b[0m\n\u001b[0m\u001b[1;32m      5\u001b[0m     \u001b[0mfig_\u001b[0m\u001b[0;34m.\u001b[0m\u001b[0madd_subplot\u001b[0m\u001b[0;34m(\u001b[0m\u001b[0;36m1\u001b[0m\u001b[0;34m,\u001b[0m \u001b[0;36m2\u001b[0m\u001b[0;34m,\u001b[0m \u001b[0;36m1\u001b[0m\u001b[0;34m)\u001b[0m\u001b[0;34m\u001b[0m\u001b[0m\n\u001b[1;32m      6\u001b[0m     \u001b[0mplt\u001b[0m\u001b[0;34m.\u001b[0m\u001b[0mimshow\u001b[0m\u001b[0;34m(\u001b[0m\u001b[0mY_test_predicted\u001b[0m\u001b[0;34m,\u001b[0m \u001b[0mcmap\u001b[0m\u001b[0;34m=\u001b[0m\u001b[0;34m\"gray\"\u001b[0m\u001b[0;34m)\u001b[0m\u001b[0;34m\u001b[0m\u001b[0m\n",
      "\u001b[0;31mValueError\u001b[0m: cannot reshape array of size 254 into shape (256,256)"
     ]
    },
    {
     "data": {
      "text/plain": [
       "<Figure size 432x288 with 0 Axes>"
      ]
     },
     "metadata": {},
     "output_type": "display_data"
    }
   ],
   "source": [
    "for i in range(1):\n",
    "    plotgraph(i)"
   ]
  },
  {
   "cell_type": "code",
   "execution_count": null,
   "metadata": {
    "collapsed": true
   },
   "outputs": [],
   "source": []
  }
 ],
 "metadata": {
  "kernelspec": {
   "display_name": "Python3",
   "language": "python",
   "name": "python3"
  },
  "language_info": {
   "codemirror_mode": {
    "name": "ipython",
    "version": 3
   },
   "file_extension": ".py",
   "mimetype": "text/x-python",
   "name": "python",
   "nbconvert_exporter": "python",
   "pygments_lexer": "ipython3",
   "version": "3.6.2"
  }
 },
 "nbformat": 4,
 "nbformat_minor": 0
}
