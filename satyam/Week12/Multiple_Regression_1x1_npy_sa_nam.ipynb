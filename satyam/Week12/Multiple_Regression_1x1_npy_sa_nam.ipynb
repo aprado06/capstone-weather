{
 "cells": [
  {
   "cell_type": "code",
   "execution_count": 1,
   "metadata": {
    "collapsed": true
   },
   "outputs": [],
   "source": [
    "from sklearn import linear_model\n",
    "from sklearn.metrics import mean_squared_error, r2_score\n",
    "import numpy as np\n",
    "from sklearn.model_selection import KFold\n",
    "\n",
    "import matplotlib.pyplot as plt; \n",
    "import pandas as pd\n",
    "plt.rcdefaults()\n",
    "%matplotlib inline\n",
    "\n",
    "import PIL\n",
    "import glob\n",
    "import scikitplot as skplt"
   ]
  },
  {
   "cell_type": "code",
   "execution_count": 2,
   "metadata": {
    "collapsed": true
   },
   "outputs": [],
   "source": [
    "X_input = []\n",
    "input_names = [\"Band 1\", \"Band 2\", \"Band 3\", \"Band 4\", \"Band 6\", \"MRH\", \"MSH\", \"MTE\", \"MVI\"]\n",
    "X_names = np.asarray(input_names)\n",
    "\n",
    "Y_output = []"
   ]
  },
  {
   "cell_type": "code",
   "execution_count": 3,
   "metadata": {
    "collapsed": false
   },
   "outputs": [
    {
     "data": {
      "text/plain": [
       "['../satyam_rad_sat_mod_npy/sa1_npy/sat.2017030620.npy',\n",
       " '../satyam_rad_sat_mod_npy/sa1_npy/sat.2017010216.npy',\n",
       " '../satyam_rad_sat_mod_npy/sa1_npy/sat.2017030920.npy',\n",
       " '../satyam_rad_sat_mod_npy/sa1_npy/sat.2017010218.npy',\n",
       " '../satyam_rad_sat_mod_npy/sa1_npy/sat.2017030919.npy',\n",
       " '../satyam_rad_sat_mod_npy/sa1_npy/sat.2017010219.npy',\n",
       " '../satyam_rad_sat_mod_npy/sa1_npy/sat.2017031318.npy',\n",
       " '../satyam_rad_sat_mod_npy/sa1_npy/sat.2017010220.npy',\n",
       " '../satyam_rad_sat_mod_npy/sa1_npy/sat.2017031319.npy',\n",
       " '../satyam_rad_sat_mod_npy/sa1_npy/sat.2017012116.npy',\n",
       " '../satyam_rad_sat_mod_npy/sa1_npy/sat.2017031320.npy',\n",
       " '../satyam_rad_sat_mod_npy/sa1_npy/sat.2017012118.npy',\n",
       " '../satyam_rad_sat_mod_npy/sa1_npy/sat.2017032119.npy',\n",
       " '../satyam_rad_sat_mod_npy/sa1_npy/sat.2017012119.npy',\n",
       " '../satyam_rad_sat_mod_npy/sa1_npy/sat.2017032716.npy',\n",
       " '../satyam_rad_sat_mod_npy/sa1_npy/sat.2017012120.npy',\n",
       " '../satyam_rad_sat_mod_npy/sa1_npy/sat.2017032718.npy',\n",
       " '../satyam_rad_sat_mod_npy/sa1_npy/sat.2017012216.npy',\n",
       " '../satyam_rad_sat_mod_npy/sa1_npy/sat.2017032719.npy',\n",
       " '../satyam_rad_sat_mod_npy/sa1_npy/sat.2017012218.npy',\n",
       " '../satyam_rad_sat_mod_npy/sa1_npy/sat.2017032720.npy',\n",
       " '../satyam_rad_sat_mod_npy/sa1_npy/sat.2017012219.npy',\n",
       " '../satyam_rad_sat_mod_npy/sa1_npy/sat.2017032818.npy',\n",
       " '../satyam_rad_sat_mod_npy/sa1_npy/sat.2017012220.npy',\n",
       " '../satyam_rad_sat_mod_npy/sa1_npy/sat.2017032819.npy',\n",
       " '../satyam_rad_sat_mod_npy/sa1_npy/sat.2017012418.npy',\n",
       " '../satyam_rad_sat_mod_npy/sa1_npy/sat.2017032820.npy',\n",
       " '../satyam_rad_sat_mod_npy/sa1_npy/sat.2017012419.npy',\n",
       " '../satyam_rad_sat_mod_npy/sa1_npy/sat.2017032918.npy',\n",
       " '../satyam_rad_sat_mod_npy/sa1_npy/sat.2017012420.npy',\n",
       " '../satyam_rad_sat_mod_npy/sa1_npy/sat.2017032919.npy',\n",
       " '../satyam_rad_sat_mod_npy/sa1_npy/sat.2017020620.npy',\n",
       " '../satyam_rad_sat_mod_npy/sa1_npy/sat.2017032920.npy',\n",
       " '../satyam_rad_sat_mod_npy/sa1_npy/sat.2017020716.npy',\n",
       " '../satyam_rad_sat_mod_npy/sa1_npy/sat.2017033018.npy',\n",
       " '../satyam_rad_sat_mod_npy/sa1_npy/sat.2017020718.npy',\n",
       " '../satyam_rad_sat_mod_npy/sa1_npy/sat.2017033019.npy',\n",
       " '../satyam_rad_sat_mod_npy/sa1_npy/sat.2017020719.npy',\n",
       " '../satyam_rad_sat_mod_npy/sa1_npy/sat.2017033020.npy',\n",
       " '../satyam_rad_sat_mod_npy/sa1_npy/sat.2017020720.npy',\n",
       " '../satyam_rad_sat_mod_npy/sa1_npy/sat.2017040119.npy',\n",
       " '../satyam_rad_sat_mod_npy/sa1_npy/sat.2017021116.npy',\n",
       " '../satyam_rad_sat_mod_npy/sa1_npy/sat.2017040120.npy',\n",
       " '../satyam_rad_sat_mod_npy/sa1_npy/sat.2017021120.npy',\n",
       " '../satyam_rad_sat_mod_npy/sa1_npy/sat.2017040216.npy',\n",
       " '../satyam_rad_sat_mod_npy/sa1_npy/sat.2017021416.npy',\n",
       " '../satyam_rad_sat_mod_npy/sa1_npy/sat.2017040218.npy',\n",
       " '../satyam_rad_sat_mod_npy/sa1_npy/sat.2017021418.npy',\n",
       " '../satyam_rad_sat_mod_npy/sa1_npy/sat.2017040219.npy',\n",
       " '../satyam_rad_sat_mod_npy/sa1_npy/sat.2017021419.npy',\n",
       " '../satyam_rad_sat_mod_npy/sa1_npy/sat.2017040220.npy',\n",
       " '../satyam_rad_sat_mod_npy/sa1_npy/sat.2017021420.npy',\n",
       " '../satyam_rad_sat_mod_npy/sa1_npy/sat.2017040316.npy',\n",
       " '../satyam_rad_sat_mod_npy/sa1_npy/sat.2017022316.npy',\n",
       " '../satyam_rad_sat_mod_npy/sa1_npy/sat.2017040318.npy',\n",
       " '../satyam_rad_sat_mod_npy/sa1_npy/sat.2017022318.npy',\n",
       " '../satyam_rad_sat_mod_npy/sa1_npy/sat.2017040319.npy',\n",
       " '../satyam_rad_sat_mod_npy/sa1_npy/sat.2017022319.npy',\n",
       " '../satyam_rad_sat_mod_npy/sa1_npy/sat.2017040320.npy',\n",
       " '../satyam_rad_sat_mod_npy/sa1_npy/sat.2017022320.npy',\n",
       " '../satyam_rad_sat_mod_npy/sa1_npy/sat.2017040420.npy',\n",
       " '../satyam_rad_sat_mod_npy/sa1_npy/sat.2017022416.npy',\n",
       " '../satyam_rad_sat_mod_npy/sa1_npy/sat.2017040516.npy',\n",
       " '../satyam_rad_sat_mod_npy/sa1_npy/sat.2017022418.npy',\n",
       " '../satyam_rad_sat_mod_npy/sa1_npy/sat.2017040518.npy',\n",
       " '../satyam_rad_sat_mod_npy/sa1_npy/sat.2017022419.npy',\n",
       " '../satyam_rad_sat_mod_npy/sa1_npy/sat.2017040519.npy',\n",
       " '../satyam_rad_sat_mod_npy/sa1_npy/sat.2017022420.npy',\n",
       " '../satyam_rad_sat_mod_npy/sa1_npy/sat.2017040520.npy',\n",
       " '../satyam_rad_sat_mod_npy/sa1_npy/sat.2017022516.npy',\n",
       " '../satyam_rad_sat_mod_npy/sa1_npy/sat.2017041216.npy',\n",
       " '../satyam_rad_sat_mod_npy/sa1_npy/sat.2017022518.npy',\n",
       " '../satyam_rad_sat_mod_npy/sa1_npy/sat.2017041218.npy',\n",
       " '../satyam_rad_sat_mod_npy/sa1_npy/sat.2017022519.npy',\n",
       " '../satyam_rad_sat_mod_npy/sa1_npy/sat.2017041219.npy',\n",
       " '../satyam_rad_sat_mod_npy/sa1_npy/sat.2017022816.npy',\n",
       " '../satyam_rad_sat_mod_npy/sa1_npy/sat.2017041220.npy',\n",
       " '../satyam_rad_sat_mod_npy/sa1_npy/sat.2017022818.npy',\n",
       " '../satyam_rad_sat_mod_npy/sa1_npy/sat.2017041520.npy',\n",
       " '../satyam_rad_sat_mod_npy/sa1_npy/sat.2017022819.npy',\n",
       " '../satyam_rad_sat_mod_npy/sa1_npy/sat.2017041719.npy',\n",
       " '../satyam_rad_sat_mod_npy/sa1_npy/sat.2017022820.npy',\n",
       " '../satyam_rad_sat_mod_npy/sa1_npy/sat.2017041720.npy',\n",
       " '../satyam_rad_sat_mod_npy/sa1_npy/sat.2017030118.npy',\n",
       " '../satyam_rad_sat_mod_npy/sa1_npy/sat.2017041916.npy',\n",
       " '../satyam_rad_sat_mod_npy/sa1_npy/sat.2017030119.npy',\n",
       " '../satyam_rad_sat_mod_npy/sa1_npy/sat.2017041918.npy',\n",
       " '../satyam_rad_sat_mod_npy/sa1_npy/sat.2017030120.npy',\n",
       " '../satyam_rad_sat_mod_npy/sa1_npy/sat.2017041919.npy',\n",
       " '../satyam_rad_sat_mod_npy/sa1_npy/sat.2017030419.npy',\n",
       " '../satyam_rad_sat_mod_npy/sa1_npy/sat.2017041920.npy',\n",
       " '../satyam_rad_sat_mod_npy/sa1_npy/sat.2017030420.npy',\n",
       " '../satyam_rad_sat_mod_npy/sa1_npy/sat.2017042016.npy',\n",
       " '../satyam_rad_sat_mod_npy/sa1_npy/sat.2017030616.npy',\n",
       " '../satyam_rad_sat_mod_npy/sa1_npy/sat.2017042018.npy',\n",
       " '../satyam_rad_sat_mod_npy/sa1_npy/sat.2017030618.npy',\n",
       " '../satyam_rad_sat_mod_npy/sa1_npy/sat.2017042019.npy',\n",
       " '../satyam_rad_sat_mod_npy/sa1_npy/sat.2017030619.npy',\n",
       " '../satyam_rad_sat_mod_npy/sa1_npy/sat.2017031416.npy',\n",
       " '../satyam_rad_sat_mod_npy/sa1_npy/sat.2017042020.npy',\n",
       " '../satyam_rad_sat_mod_npy/sa1_npy/sat.2017031418.npy',\n",
       " '../satyam_rad_sat_mod_npy/sa1_npy/sat.2017042116.npy',\n",
       " '../satyam_rad_sat_mod_npy/sa1_npy/sat.2017031419.npy',\n",
       " '../satyam_rad_sat_mod_npy/sa1_npy/sat.2017042118.npy',\n",
       " '../satyam_rad_sat_mod_npy/sa1_npy/sat.2017031420.npy',\n",
       " '../satyam_rad_sat_mod_npy/sa1_npy/sat.2017042119.npy',\n",
       " '../satyam_rad_sat_mod_npy/sa1_npy/sat.2017032116.npy',\n",
       " '../satyam_rad_sat_mod_npy/sa1_npy/sat.2017042120.npy',\n",
       " '../satyam_rad_sat_mod_npy/sa1_npy/sat.2017032118.npy',\n",
       " '../satyam_rad_sat_mod_npy/sa1_npy/sat.2017042416.npy',\n",
       " '../satyam_rad_sat_mod_npy/sa1_npy/sat.2017042418.npy',\n",
       " '../satyam_rad_sat_mod_npy/sa1_npy/sat.2017042419.npy',\n",
       " '../satyam_rad_sat_mod_npy/sa1_npy/sat.2017042520.npy',\n",
       " '../satyam_rad_sat_mod_npy/sa1_npy/sat.2017042616.npy',\n",
       " '../satyam_rad_sat_mod_npy/sa1_npy/sat.2017042618.npy',\n",
       " '../satyam_rad_sat_mod_npy/sa1_npy/sat.2017042619.npy',\n",
       " '../satyam_rad_sat_mod_npy/sa1_npy/sat.2017042620.npy',\n",
       " '../satyam_rad_sat_mod_npy/sa1_npy/sat.2017042816.npy',\n",
       " '../satyam_rad_sat_mod_npy/sa1_npy/sat.2017042818.npy',\n",
       " '../satyam_rad_sat_mod_npy/sa1_npy/sat.2017042819.npy',\n",
       " '../satyam_rad_sat_mod_npy/sa1_npy/sat.2017042820.npy',\n",
       " '../satyam_rad_sat_mod_npy/sa1_npy/sat.2017042916.npy',\n",
       " '../satyam_rad_sat_mod_npy/sa1_npy/sat.2017042919.npy',\n",
       " '../satyam_rad_sat_mod_npy/sa1_npy/sat.2017042920.npy',\n",
       " '../satyam_rad_sat_mod_npy/sa1_npy/sat.2017043016.npy',\n",
       " '../satyam_rad_sat_mod_npy/sa1_npy/sat.2017043018.npy',\n",
       " '../satyam_rad_sat_mod_npy/sa1_npy/sat.2017043019.npy',\n",
       " '../satyam_rad_sat_mod_npy/sa1_npy/sat.2017043020.npy',\n",
       " '../satyam_rad_sat_mod_npy/sa1_npy/sat.2017050116.npy',\n",
       " '../satyam_rad_sat_mod_npy/sa1_npy/sat.2017050118.npy',\n",
       " '../satyam_rad_sat_mod_npy/sa1_npy/sat.2017050119.npy',\n",
       " '../satyam_rad_sat_mod_npy/sa1_npy/sat.2017050120.npy',\n",
       " '../satyam_rad_sat_mod_npy/sa1_npy/sat.2017050316.npy',\n",
       " '../satyam_rad_sat_mod_npy/sa1_npy/sat.2017050318.npy',\n",
       " '../satyam_rad_sat_mod_npy/sa1_npy/sat.2017050319.npy',\n",
       " '../satyam_rad_sat_mod_npy/sa1_npy/sat.2017050320.npy',\n",
       " '../satyam_rad_sat_mod_npy/sa1_npy/sat.2017050416.npy',\n",
       " '../satyam_rad_sat_mod_npy/sa1_npy/sat.2017050418.npy',\n",
       " '../satyam_rad_sat_mod_npy/sa1_npy/sat.2017050420.npy',\n",
       " '../satyam_rad_sat_mod_npy/sa1_npy/sat.2017050918.npy',\n",
       " '../satyam_rad_sat_mod_npy/sa1_npy/sat.2017050919.npy',\n",
       " '../satyam_rad_sat_mod_npy/sa1_npy/sat.2017050920.npy',\n",
       " '../satyam_rad_sat_mod_npy/sa1_npy/sat.2017051119.npy',\n",
       " '../satyam_rad_sat_mod_npy/sa1_npy/sat.2017051120.npy',\n",
       " '../satyam_rad_sat_mod_npy/sa1_npy/sat.2017051518.npy',\n",
       " '../satyam_rad_sat_mod_npy/sa1_npy/sat.2017051520.npy',\n",
       " '../satyam_rad_sat_mod_npy/sa1_npy/sat.2017051619.npy',\n",
       " '../satyam_rad_sat_mod_npy/sa1_npy/sat.2017051620.npy',\n",
       " '../satyam_rad_sat_mod_npy/sa1_npy/sat.2017051716.npy',\n",
       " '../satyam_rad_sat_mod_npy/sa1_npy/sat.2017051718.npy',\n",
       " '../satyam_rad_sat_mod_npy/sa1_npy/sat.2017051719.npy',\n",
       " '../satyam_rad_sat_mod_npy/sa1_npy/sat.2017051720.npy',\n",
       " '../satyam_rad_sat_mod_npy/sa1_npy/sat.2017051816.npy',\n",
       " '../satyam_rad_sat_mod_npy/sa1_npy/sat.2017051818.npy',\n",
       " '../satyam_rad_sat_mod_npy/sa1_npy/sat.2017051819.npy',\n",
       " '../satyam_rad_sat_mod_npy/sa1_npy/sat.2017051820.npy',\n",
       " '../satyam_rad_sat_mod_npy/sa1_npy/sat.2017051916.npy',\n",
       " '../satyam_rad_sat_mod_npy/sa1_npy/sat.2017051918.npy',\n",
       " '../satyam_rad_sat_mod_npy/sa1_npy/sat.2017051919.npy',\n",
       " '../satyam_rad_sat_mod_npy/sa1_npy/sat.2017051920.npy',\n",
       " '../satyam_rad_sat_mod_npy/sa1_npy/sat.2017052316.npy',\n",
       " '../satyam_rad_sat_mod_npy/sa1_npy/sat.2017052318.npy',\n",
       " '../satyam_rad_sat_mod_npy/sa1_npy/sat.2017052319.npy',\n",
       " '../satyam_rad_sat_mod_npy/sa1_npy/sat.2017052320.npy',\n",
       " '../satyam_rad_sat_mod_npy/sa1_npy/sat.2017052416.npy',\n",
       " '../satyam_rad_sat_mod_npy/sa1_npy/sat.2017052418.npy',\n",
       " '../satyam_rad_sat_mod_npy/sa1_npy/sat.2017052419.npy',\n",
       " '../satyam_rad_sat_mod_npy/sa1_npy/sat.2017052420.npy',\n",
       " '../satyam_rad_sat_mod_npy/sa1_npy/sat.2017052520.npy',\n",
       " '../satyam_rad_sat_mod_npy/sa1_npy/sat.2017052618.npy',\n",
       " '../satyam_rad_sat_mod_npy/sa1_npy/sat.2017052619.npy',\n",
       " '../satyam_rad_sat_mod_npy/sa1_npy/sat.2017052620.npy',\n",
       " '../satyam_rad_sat_mod_npy/sa1_npy/sat.2017052716.npy',\n",
       " '../satyam_rad_sat_mod_npy/sa1_npy/sat.2017052718.npy',\n",
       " '../satyam_rad_sat_mod_npy/sa1_npy/sat.2017052719.npy',\n",
       " '../satyam_rad_sat_mod_npy/sa1_npy/sat.2017052720.npy',\n",
       " '../satyam_rad_sat_mod_npy/sa1_npy/sat.2017052819.npy',\n",
       " '../satyam_rad_sat_mod_npy/sa1_npy/sat.2017052820.npy',\n",
       " '../satyam_rad_sat_mod_npy/sa1_npy/sat.2017053016.npy',\n",
       " '../satyam_rad_sat_mod_npy/sa1_npy/sat.2017053018.npy',\n",
       " '../satyam_rad_sat_mod_npy/sa1_npy/sat.2017053019.npy',\n",
       " '../satyam_rad_sat_mod_npy/sa1_npy/sat.2017053020.npy',\n",
       " '../satyam_rad_sat_mod_npy/sa1_npy/sat.2017060518.npy',\n",
       " '../satyam_rad_sat_mod_npy/sa1_npy/sat.2017060519.npy',\n",
       " '../satyam_rad_sat_mod_npy/sa1_npy/sat.2017060520.npy',\n",
       " '../satyam_rad_sat_mod_npy/sa1_npy/sat.2017060719.npy',\n",
       " '../satyam_rad_sat_mod_npy/sa1_npy/sat.2017060720.npy',\n",
       " '../satyam_rad_sat_mod_npy/sa1_npy/sat.2017060818.npy',\n",
       " '../satyam_rad_sat_mod_npy/sa1_npy/sat.2017060819.npy',\n",
       " '../satyam_rad_sat_mod_npy/sa1_npy/sat.2017060820.npy',\n",
       " '../satyam_rad_sat_mod_npy/sa1_npy/sat.2017060920.npy',\n",
       " '../satyam_rad_sat_mod_npy/sa1_npy/sat.2017061216.npy',\n",
       " '../satyam_rad_sat_mod_npy/sa1_npy/sat.2017061218.npy',\n",
       " '../satyam_rad_sat_mod_npy/sa1_npy/sat.2017061219.npy',\n",
       " '../satyam_rad_sat_mod_npy/sa1_npy/sat.2017061220.npy',\n",
       " '../satyam_rad_sat_mod_npy/sa1_npy/sat.2017061316.npy',\n",
       " '../satyam_rad_sat_mod_npy/sa1_npy/sat.2017061318.npy',\n",
       " '../satyam_rad_sat_mod_npy/sa1_npy/sat.2017061320.npy',\n",
       " '../satyam_rad_sat_mod_npy/sa1_npy/sat.2017061518.npy',\n",
       " '../satyam_rad_sat_mod_npy/sa1_npy/sat.2017061519.npy',\n",
       " '../satyam_rad_sat_mod_npy/sa1_npy/sat.2017061520.npy',\n",
       " '../satyam_rad_sat_mod_npy/sa1_npy/sat.2017061718.npy',\n",
       " '../satyam_rad_sat_mod_npy/sa1_npy/sat.2017061719.npy',\n",
       " '../satyam_rad_sat_mod_npy/sa1_npy/sat.2017061720.npy',\n",
       " '../satyam_rad_sat_mod_npy/sa1_npy/sat.2017061916.npy',\n",
       " '../satyam_rad_sat_mod_npy/sa1_npy/sat.2017061918.npy',\n",
       " '../satyam_rad_sat_mod_npy/sa1_npy/sat.2017061919.npy',\n",
       " '../satyam_rad_sat_mod_npy/sa1_npy/sat.2017061920.npy',\n",
       " '../satyam_rad_sat_mod_npy/sa1_npy/sat.2017062016.npy',\n",
       " '../satyam_rad_sat_mod_npy/sa1_npy/sat.2017062018.npy',\n",
       " '../satyam_rad_sat_mod_npy/sa1_npy/sat.2017062019.npy',\n",
       " '../satyam_rad_sat_mod_npy/sa1_npy/sat.2017062020.npy',\n",
       " '../satyam_rad_sat_mod_npy/sa1_npy/sat.2017062116.npy',\n",
       " '../satyam_rad_sat_mod_npy/sa1_npy/sat.2017062118.npy',\n",
       " '../satyam_rad_sat_mod_npy/sa1_npy/sat.2017062119.npy',\n",
       " '../satyam_rad_sat_mod_npy/sa1_npy/sat.2017062120.npy',\n",
       " '../satyam_rad_sat_mod_npy/sa1_npy/sat.2017062216.npy',\n",
       " '../satyam_rad_sat_mod_npy/sa1_npy/sat.2017062218.npy',\n",
       " '../satyam_rad_sat_mod_npy/sa1_npy/sat.2017062219.npy',\n",
       " '../satyam_rad_sat_mod_npy/sa1_npy/sat.2017062220.npy',\n",
       " '../satyam_rad_sat_mod_npy/sa1_npy/sat.2017062316.npy',\n",
       " '../satyam_rad_sat_mod_npy/sa1_npy/sat.2017062318.npy',\n",
       " '../satyam_rad_sat_mod_npy/sa1_npy/sat.2017062319.npy',\n",
       " '../satyam_rad_sat_mod_npy/sa1_npy/sat.2017062320.npy',\n",
       " '../satyam_rad_sat_mod_npy/sa1_npy/sat.2017062619.npy',\n",
       " '../satyam_rad_sat_mod_npy/sa1_npy/sat.2017062620.npy',\n",
       " '../satyam_rad_sat_mod_npy/sa1_npy/sat.2017062820.npy',\n",
       " '../satyam_rad_sat_mod_npy/sa1_npy/sat.2017062918.npy',\n",
       " '../satyam_rad_sat_mod_npy/sa1_npy/sat.2017062919.npy',\n",
       " '../satyam_rad_sat_mod_npy/sa1_npy/sat.2017062920.npy',\n",
       " '../satyam_rad_sat_mod_npy/sa1_npy/sat.2017063016.npy',\n",
       " '../satyam_rad_sat_mod_npy/sa1_npy/sat.2017063018.npy',\n",
       " '../satyam_rad_sat_mod_npy/sa1_npy/sat.2017063019.npy',\n",
       " '../satyam_rad_sat_mod_npy/sa1_npy/sat.2017063020.npy',\n",
       " '../satyam_rad_sat_mod_npy/sa1_npy/sat.2017070318.npy',\n",
       " '../satyam_rad_sat_mod_npy/sa1_npy/sat.2017070319.npy',\n",
       " '../satyam_rad_sat_mod_npy/sa1_npy/sat.2017070320.npy',\n",
       " '../satyam_rad_sat_mod_npy/sa1_npy/sat.2017070518.npy',\n",
       " '../satyam_rad_sat_mod_npy/sa1_npy/sat.2017070519.npy',\n",
       " '../satyam_rad_sat_mod_npy/sa1_npy/sat.2017070520.npy',\n",
       " '../satyam_rad_sat_mod_npy/sa1_npy/sat.2017070616.npy',\n",
       " '../satyam_rad_sat_mod_npy/sa1_npy/sat.2017070618.npy',\n",
       " '../satyam_rad_sat_mod_npy/sa1_npy/sat.2017070619.npy',\n",
       " '../satyam_rad_sat_mod_npy/sa1_npy/sat.2017070620.npy',\n",
       " '../satyam_rad_sat_mod_npy/sa1_npy/sat.2017070716.npy',\n",
       " '../satyam_rad_sat_mod_npy/sa1_npy/sat.2017070718.npy',\n",
       " '../satyam_rad_sat_mod_npy/sa1_npy/sat.2017070719.npy',\n",
       " '../satyam_rad_sat_mod_npy/sa1_npy/sat.2017070720.npy',\n",
       " '../satyam_rad_sat_mod_npy/sa1_npy/sat.2017070919.npy',\n",
       " '../satyam_rad_sat_mod_npy/sa1_npy/sat.2017070920.npy',\n",
       " '../satyam_rad_sat_mod_npy/sa1_npy/sat.2017071116.npy',\n",
       " '../satyam_rad_sat_mod_npy/sa1_npy/sat.2017071118.npy',\n",
       " '../satyam_rad_sat_mod_npy/sa1_npy/sat.2017071119.npy',\n",
       " '../satyam_rad_sat_mod_npy/sa1_npy/sat.2017071120.npy',\n",
       " '../satyam_rad_sat_mod_npy/sa1_npy/sat.2017071318.npy',\n",
       " '../satyam_rad_sat_mod_npy/sa1_npy/sat.2017071319.npy',\n",
       " '../satyam_rad_sat_mod_npy/sa1_npy/sat.2017071320.npy',\n",
       " '../satyam_rad_sat_mod_npy/sa1_npy/sat.2017071916.npy',\n",
       " '../satyam_rad_sat_mod_npy/sa1_npy/sat.2017071918.npy',\n",
       " '../satyam_rad_sat_mod_npy/sa1_npy/sat.2017071919.npy',\n",
       " '../satyam_rad_sat_mod_npy/sa1_npy/sat.2017071920.npy',\n",
       " '../satyam_rad_sat_mod_npy/sa1_npy/sat.2017072019.npy',\n",
       " '../satyam_rad_sat_mod_npy/sa1_npy/sat.2017072020.npy',\n",
       " '../satyam_rad_sat_mod_npy/sa1_npy/sat.2017072116.npy',\n",
       " '../satyam_rad_sat_mod_npy/sa1_npy/sat.2017072118.npy',\n",
       " '../satyam_rad_sat_mod_npy/sa1_npy/sat.2017072119.npy',\n",
       " '../satyam_rad_sat_mod_npy/sa1_npy/sat.2017072120.npy',\n",
       " '../satyam_rad_sat_mod_npy/sa1_npy/sat.2017072519.npy',\n",
       " '../satyam_rad_sat_mod_npy/sa1_npy/sat.2017072520.npy',\n",
       " '../satyam_rad_sat_mod_npy/sa1_npy/sat.2017080916.npy',\n",
       " '../satyam_rad_sat_mod_npy/sa1_npy/sat.2017080918.npy',\n",
       " '../satyam_rad_sat_mod_npy/sa1_npy/sat.2017080919.npy',\n",
       " '../satyam_rad_sat_mod_npy/sa1_npy/sat.2017080920.npy',\n",
       " '../satyam_rad_sat_mod_npy/sa1_npy/sat.2017081616.npy',\n",
       " '../satyam_rad_sat_mod_npy/sa1_npy/sat.2017081618.npy',\n",
       " '../satyam_rad_sat_mod_npy/sa1_npy/sat.2017081619.npy',\n",
       " '../satyam_rad_sat_mod_npy/sa1_npy/sat.2017081620.npy',\n",
       " '../satyam_rad_sat_mod_npy/sa1_npy/sat.2017081818.npy',\n",
       " '../satyam_rad_sat_mod_npy/sa1_npy/sat.2017081819.npy',\n",
       " '../satyam_rad_sat_mod_npy/sa1_npy/sat.2017081820.npy',\n",
       " '../satyam_rad_sat_mod_npy/sa1_npy/sat.2017082216.npy',\n",
       " '../satyam_rad_sat_mod_npy/sa1_npy/sat.2017082218.npy',\n",
       " '../satyam_rad_sat_mod_npy/sa1_npy/sat.2017082219.npy',\n",
       " '../satyam_rad_sat_mod_npy/sa1_npy/sat.2017082220.npy',\n",
       " '../satyam_rad_sat_mod_npy/sa1_npy/sat.2017082316.npy',\n",
       " '../satyam_rad_sat_mod_npy/sa1_npy/sat.2017082318.npy',\n",
       " '../satyam_rad_sat_mod_npy/sa1_npy/sat.2017082319.npy',\n",
       " '../satyam_rad_sat_mod_npy/sa1_npy/sat.2017082320.npy',\n",
       " '../satyam_rad_sat_mod_npy/sa1_npy/sat.2017082416.npy',\n",
       " '../satyam_rad_sat_mod_npy/sa1_npy/sat.2017082418.npy',\n",
       " '../satyam_rad_sat_mod_npy/sa1_npy/sat.2017082419.npy',\n",
       " '../satyam_rad_sat_mod_npy/sa1_npy/sat.2017082420.npy',\n",
       " '../satyam_rad_sat_mod_npy/sa1_npy/sat.2017082516.npy',\n",
       " '../satyam_rad_sat_mod_npy/sa1_npy/sat.2017082518.npy',\n",
       " '../satyam_rad_sat_mod_npy/sa1_npy/sat.2017082519.npy',\n",
       " '../satyam_rad_sat_mod_npy/sa1_npy/sat.2017082520.npy',\n",
       " '../satyam_rad_sat_mod_npy/sa1_npy/sat.2017082616.npy',\n",
       " '../satyam_rad_sat_mod_npy/sa1_npy/sat.2017082618.npy',\n",
       " '../satyam_rad_sat_mod_npy/sa1_npy/sat.2017082619.npy',\n",
       " '../satyam_rad_sat_mod_npy/sa1_npy/sat.2017082620.npy',\n",
       " '../satyam_rad_sat_mod_npy/sa1_npy/sat.2017090116.npy',\n",
       " '../satyam_rad_sat_mod_npy/sa1_npy/sat.2017090118.npy',\n",
       " '../satyam_rad_sat_mod_npy/sa1_npy/sat.2017090119.npy',\n",
       " '../satyam_rad_sat_mod_npy/sa1_npy/sat.2017090120.npy',\n",
       " '../satyam_rad_sat_mod_npy/sa1_npy/sat.2017090416.npy',\n",
       " '../satyam_rad_sat_mod_npy/sa1_npy/sat.2017090418.npy',\n",
       " '../satyam_rad_sat_mod_npy/sa1_npy/sat.2017090419.npy',\n",
       " '../satyam_rad_sat_mod_npy/sa1_npy/sat.2017090420.npy',\n",
       " '../satyam_rad_sat_mod_npy/sa1_npy/sat.2017090518.npy',\n",
       " '../satyam_rad_sat_mod_npy/sa1_npy/sat.2017090519.npy',\n",
       " '../satyam_rad_sat_mod_npy/sa1_npy/sat.2017090520.npy',\n",
       " '../satyam_rad_sat_mod_npy/sa1_npy/sat.2017090819.npy',\n",
       " '../satyam_rad_sat_mod_npy/sa1_npy/sat.2017090820.npy',\n",
       " '../satyam_rad_sat_mod_npy/sa1_npy/sat.2017090916.npy',\n",
       " '../satyam_rad_sat_mod_npy/sa1_npy/sat.2017090918.npy',\n",
       " '../satyam_rad_sat_mod_npy/sa1_npy/sat.2017090919.npy',\n",
       " '../satyam_rad_sat_mod_npy/sa1_npy/sat.2017090920.npy',\n",
       " '../satyam_rad_sat_mod_npy/sa1_npy/sat.2017091016.npy',\n",
       " '../satyam_rad_sat_mod_npy/sa1_npy/sat.2017091018.npy',\n",
       " '../satyam_rad_sat_mod_npy/sa1_npy/sat.2017091019.npy',\n",
       " '../satyam_rad_sat_mod_npy/sa1_npy/sat.2017091020.npy',\n",
       " '../satyam_rad_sat_mod_npy/sa1_npy/sat.2017091116.npy',\n",
       " '../satyam_rad_sat_mod_npy/sa1_npy/sat.2017091119.npy',\n",
       " '../satyam_rad_sat_mod_npy/sa1_npy/sat.2017091120.npy',\n",
       " '../satyam_rad_sat_mod_npy/sa1_npy/sat.2017091918.npy',\n",
       " '../satyam_rad_sat_mod_npy/sa1_npy/sat.2017091919.npy',\n",
       " '../satyam_rad_sat_mod_npy/sa1_npy/sat.2017091920.npy',\n",
       " '../satyam_rad_sat_mod_npy/sa1_npy/sat.2017092318.npy',\n",
       " '../satyam_rad_sat_mod_npy/sa1_npy/sat.2017092319.npy',\n",
       " '../satyam_rad_sat_mod_npy/sa1_npy/sat.2017092320.npy',\n",
       " '../satyam_rad_sat_mod_npy/sa1_npy/sat.2017093016.npy',\n",
       " '../satyam_rad_sat_mod_npy/sa1_npy/sat.2017100118.npy',\n",
       " '../satyam_rad_sat_mod_npy/sa1_npy/sat.2017100119.npy',\n",
       " '../satyam_rad_sat_mod_npy/sa1_npy/sat.2017100120.npy',\n",
       " '../satyam_rad_sat_mod_npy/sa1_npy/sat.2017100616.npy',\n",
       " '../satyam_rad_sat_mod_npy/sa1_npy/sat.2017100618.npy',\n",
       " '../satyam_rad_sat_mod_npy/sa1_npy/sat.2017100619.npy',\n",
       " '../satyam_rad_sat_mod_npy/sa1_npy/sat.2017100620.npy',\n",
       " '../satyam_rad_sat_mod_npy/sa1_npy/sat.2017101418.npy',\n",
       " '../satyam_rad_sat_mod_npy/sa1_npy/sat.2017101419.npy',\n",
       " '../satyam_rad_sat_mod_npy/sa1_npy/sat.2017101420.npy',\n",
       " '../satyam_rad_sat_mod_npy/sa1_npy/sat.2017102119.npy',\n",
       " '../satyam_rad_sat_mod_npy/sa1_npy/sat.2017102120.npy',\n",
       " '../satyam_rad_sat_mod_npy/sa1_npy/sat.2017102820.npy',\n",
       " '../satyam_rad_sat_mod_npy/sa1_npy/sat.2017110519.npy',\n",
       " '../satyam_rad_sat_mod_npy/sa1_npy/sat.2017110520.npy',\n",
       " '../satyam_rad_sat_mod_npy/sa1_npy/sat.2017120818.npy',\n",
       " '../satyam_rad_sat_mod_npy/sa1_npy/sat.2017120819.npy',\n",
       " '../satyam_rad_sat_mod_npy/sa1_npy/sat.2017120820.npy']"
      ]
     },
     "execution_count": 3,
     "metadata": {},
     "output_type": "execute_result"
    }
   ],
   "source": [
    "folder = \"../satyam_rad_sat_mod_npy/\"\n",
    "Sa1_files = glob.glob(\"../satyam_rad_sat_mod_npy/sa1_npy/*.npy\")\n",
    "Sa1_files"
   ]
  },
  {
   "cell_type": "code",
   "execution_count": 4,
   "metadata": {
    "collapsed": false
   },
   "outputs": [
    {
     "data": {
      "text/plain": [
       "349"
      ]
     },
     "execution_count": 4,
     "metadata": {},
     "output_type": "execute_result"
    }
   ],
   "source": [
    "len(Sa1_files)"
   ]
  },
  {
   "cell_type": "code",
   "execution_count": 5,
   "metadata": {
    "collapsed": false
   },
   "outputs": [],
   "source": [
    "for filename in Sa1_files:\n",
    "    filename = filename.split('/')[-1]\n",
    "    \n",
    "    # Satellite 1\n",
    "    Sa_1_File = folder + \"sa1_npy/\" + filename;\n",
    "    Sa1arr = np.load(Sa_1_File).flatten()\n",
    "    \n",
    "    \n",
    "    # Satellite 2\n",
    "    Sa_2_File = folder + \"sa2_npy/\" + filename;\n",
    "    Sa2arr = np.load(Sa_2_File).flatten()\n",
    "    \n",
    "    \n",
    "    # Satellite 3\n",
    "    Sa_3_File = folder + \"sa3_npy/\" + filename;\n",
    "    Sa3arr = np.load(Sa_3_File).flatten()\n",
    "    \n",
    "    # Satellite 4\n",
    "    Sa_4_File = folder + \"sa4_npy/\" + filename;\n",
    "    Sa4arr = np.load(Sa_4_File).flatten()\n",
    "    \n",
    "    # Satellite 6\n",
    "    Sa_6_File = folder + \"sa6_npy/\" + filename;\n",
    "    Sa6arr = np.load(Sa_6_File).flatten()\n",
    "    \n",
    "    \n",
    "    \n",
    "    # MRH\n",
    "    MRH_File = folder+\"mrh_npy/\" + filename.replace('sat', \"mod\", 1)\n",
    "    MRHarr = np.load(MRH_File).flatten()\n",
    "    \n",
    "    # MSH\n",
    "    MSH_File = folder+\"msh_npy/\" + filename.replace('sat', \"mod\", 1)\n",
    "    MSHarr = np.load(MSH_File).flatten()\n",
    "    \n",
    "    # MTE\n",
    "    MTE_File = folder+\"tem_npy/\" + filename.replace('sat', \"mod\", 1)\n",
    "    MTEarr = np.load(MTE_File).flatten()\n",
    "    \n",
    "    # MVI\n",
    "    MVI_File = folder+\"vis_npy/\" + filename.replace('sat', \"mod\", 1)\n",
    "    MVIarr = np.load(MVI_File).flatten()\n",
    "    \n",
    "\n",
    "    \n",
    "    # Radar\n",
    "    Radar_File = folder + \"rad_npy/\" + filename.replace('sat', \"rad\", 1)\n",
    "    Radararr = np.load(Radar_File).flatten()\n",
    "    \n",
    "    \n",
    "    \n",
    "    for i in range(len(Sa1arr)):\n",
    "        x = [];\n",
    "        x.append(Sa1arr[i])\n",
    "        x.append(Sa2arr[i])\n",
    "        x.append(Sa3arr[i])\n",
    "        x.append(Sa4arr[i])\n",
    "        x.append(Sa6arr[i])\n",
    "        \n",
    "        x.append(MRHarr[i])\n",
    "        x.append(MSHarr[i])\n",
    "        x.append(MTEarr[i])\n",
    "        x.append(MVIarr[i])\n",
    "        \n",
    "        Y_output.append(Radararr[i])\n",
    "        \n",
    "        X_input.append(x)"
   ]
  },
  {
   "cell_type": "code",
   "execution_count": 6,
   "metadata": {
    "collapsed": false
   },
   "outputs": [],
   "source": [
    "X_input = np.array(X_input)\n",
    "Y_output = np.array(Y_output)"
   ]
  },
  {
   "cell_type": "code",
   "execution_count": 7,
   "metadata": {
    "collapsed": false
   },
   "outputs": [
    {
     "name": "stdout",
     "output_type": "stream",
     "text": [
      "(65536, 9)\n",
      "7555.987\n",
      "0.0011697337\n",
      "7736.506\n",
      "26499.057\n"
     ]
    }
   ],
   "source": [
    "print(X_input.shape)\n",
    "print(np.std(X_input))\n",
    "print(np.min(X_input))\n",
    "print(np.mean(X_input))\n",
    "print(np.max(X_input))"
   ]
  },
  {
   "cell_type": "code",
   "execution_count": 8,
   "metadata": {
    "collapsed": false
   },
   "outputs": [
    {
     "name": "stdout",
     "output_type": "stream",
     "text": [
      "(65536,)\n",
      "3.4638414607492107\n",
      "0\n",
      "7.6945343017578125\n",
      "58\n"
     ]
    }
   ],
   "source": [
    "print(Y_output.shape)\n",
    "print(np.std(Y_output))\n",
    "print(np.min(Y_output))\n",
    "print(np.mean(Y_output))\n",
    "print(np.max(Y_output))"
   ]
  },
  {
   "cell_type": "code",
   "execution_count": 9,
   "metadata": {
    "collapsed": false
   },
   "outputs": [
    {
     "name": "stdout",
     "output_type": "stream",
     "text": [
      "(65535,)\n",
      "3.4637374768731077\n",
      "2\n",
      "7.694651712825208\n",
      "58\n"
     ]
    }
   ],
   "source": [
    "Y_output_no_zero = list(filter(lambda a: a != 0, Y_output))\n",
    "print(np.shape(Y_output_no_zero))\n",
    "print(np.std(Y_output_no_zero))\n",
    "print(np.min(Y_output_no_zero))\n",
    "print(np.mean(Y_output_no_zero))\n",
    "print(np.max(Y_output_no_zero))"
   ]
  },
  {
   "cell_type": "code",
   "execution_count": 10,
   "metadata": {
    "collapsed": false
   },
   "outputs": [
    {
     "data": {
      "text/plain": [
       "14.622126666571424"
      ]
     },
     "execution_count": 10,
     "metadata": {},
     "output_type": "execute_result"
    }
   ],
   "source": [
    "thershold = np.mean(Y_output_no_zero) + 2 * np.std(Y_output_no_zero)\n",
    "thershold"
   ]
  },
  {
   "cell_type": "markdown",
   "metadata": {},
   "source": [
    "# Fit the model"
   ]
  },
  {
   "cell_type": "code",
   "execution_count": 11,
   "metadata": {
    "collapsed": false
   },
   "outputs": [
    {
     "data": {
      "text/plain": [
       "LinearRegression(copy_X=True, fit_intercept=True, n_jobs=None,\n",
       "         normalize=False)"
      ]
     },
     "execution_count": 11,
     "metadata": {},
     "output_type": "execute_result"
    }
   ],
   "source": [
    "reg = linear_model.LinearRegression()\n",
    "reg.fit (X_input, Y_output)"
   ]
  },
  {
   "cell_type": "code",
   "execution_count": 12,
   "metadata": {
    "collapsed": false
   },
   "outputs": [
    {
     "name": "stdout",
     "output_type": "stream",
     "text": [
      "Band 1       -5.406274431152269e-05\n",
      "Band 2       7.722352165728807e-06\n",
      "Band 3       -0.0002918759419117123\n",
      "Band 4       0.000366286956705153\n",
      "Band 6       -0.0003559330361895263\n",
      "MRH       0.050472501665353775\n",
      "MSH       -183.89483642578125\n",
      "MTE       -0.021410716697573662\n",
      "MVI       -0.00034139040508307517\n"
     ]
    }
   ],
   "source": [
    "for feat, coef in zip(X_names, reg.coef_):\n",
    "    print('{}       {}'.format(feat, coef))"
   ]
  },
  {
   "cell_type": "code",
   "execution_count": 13,
   "metadata": {
    "collapsed": false
   },
   "outputs": [
    {
     "data": {
      "image/png": "[encoded data removed]",
      "text/plain": [
       "<Figure size 432x288 with 1 Axes>"
      ]
     },
     "metadata": {},
     "output_type": "display_data"
    }
   ],
   "source": [
    "df = pd.DataFrame({'Bands':input_names, 'coeff':reg.coef_})\n",
    "df.plot.bar(x='Bands', y='coeff', rot=0, color=('g'))\n",
    "plt.show()"
   ]
  },
  {
   "cell_type": "markdown",
   "metadata": {},
   "source": [
    "# Test Train Split"
   ]
  },
  {
   "cell_type": "code",
   "execution_count": 14,
   "metadata": {
    "collapsed": true
   },
   "outputs": [],
   "source": [
    "from sklearn.model_selection import train_test_split\n",
    "X_train, X_test, y_train, y_test = train_test_split(X_input, Y_output, test_size=0.30, random_state=42)"
   ]
  },
  {
   "cell_type": "code",
   "execution_count": 15,
   "metadata": {
    "collapsed": false
   },
   "outputs": [
    {
     "name": "stdout",
     "output_type": "stream",
     "text": [
      "(45875, 9)\n",
      "(19661, 9)\n",
      "(45875,)\n",
      "(19661,)\n"
     ]
    }
   ],
   "source": [
    "print(X_train.shape)\n",
    "print(X_test.shape)\n",
    "print(y_train.shape)\n",
    "print(y_test.shape)"
   ]
  },
  {
   "cell_type": "code",
   "execution_count": 16,
   "metadata": {
    "collapsed": false
   },
   "outputs": [
    {
     "data": {
      "text/plain": [
       "LinearRegression(copy_X=True, fit_intercept=True, n_jobs=None,\n",
       "         normalize=False)"
      ]
     },
     "execution_count": 16,
     "metadata": {},
     "output_type": "execute_result"
    }
   ],
   "source": [
    "reg_train = linear_model.LinearRegression()\n",
    "reg_train.fit(X_train, y_train)"
   ]
  },
  {
   "cell_type": "markdown",
   "metadata": {},
   "source": [
    "### Save the trained model"
   ]
  },
  {
   "cell_type": "code",
   "execution_count": 17,
   "metadata": {
    "collapsed": false
   },
   "outputs": [],
   "source": [
    "import pickle\n",
    "filename = 'MODEL_70_Multiple_Reg_1x1_nam_sa_npy.sav'\n",
    "pickle.dump(reg_train, open(filename, 'wb'))"
   ]
  },
  {
   "cell_type": "code",
   "execution_count": 18,
   "metadata": {
    "collapsed": false
   },
   "outputs": [
    {
     "name": "stdout",
     "output_type": "stream",
     "text": [
      "Band 1       -5.5530173995066434e-05\n",
      "Band 2       1.19857577374205e-05\n",
      "Band 3       -0.0003169502888340503\n",
      "Band 4       0.0003697262145578861\n",
      "Band 6       -0.0003487414214760065\n",
      "MRH       0.051223915070295334\n",
      "MSH       -188.7278289794922\n",
      "MTE       -0.023013420403003693\n",
      "MVI       -0.00033803400583565235\n"
     ]
    }
   ],
   "source": [
    "for feat, coef in zip(X_names, reg_train.coef_):\n",
    "    print('{}       {}'.format(feat, coef))"
   ]
  },
  {
   "cell_type": "code",
   "execution_count": 19,
   "metadata": {
    "collapsed": false
   },
   "outputs": [
    {
     "data": {
      "image/png": "[encoded data removed]",
      "text/plain": [
       "<Figure size 432x288 with 1 Axes>"
      ]
     },
     "metadata": {},
     "output_type": "display_data"
    }
   ],
   "source": [
    "df = pd.DataFrame({'Bands':input_names, 'coeff':reg_train.coef_})\n",
    "df.plot.bar(x='Bands', y='coeff', rot=0, color=('g'))\n",
    "plt.show()"
   ]
  },
  {
   "cell_type": "markdown",
   "metadata": {},
   "source": [
    "# Evaluation on Trained"
   ]
  },
  {
   "cell_type": "code",
   "execution_count": 20,
   "metadata": {
    "collapsed": false
   },
   "outputs": [],
   "source": [
    "predictions_train = reg_train.predict(X_train)"
   ]
  },
  {
   "cell_type": "code",
   "execution_count": 21,
   "metadata": {
    "collapsed": false
   },
   "outputs": [
    {
     "data": {
      "text/plain": [
       "(45875,)"
      ]
     },
     "execution_count": 21,
     "metadata": {},
     "output_type": "execute_result"
    }
   ],
   "source": [
    "predictions_train.shape"
   ]
  },
  {
   "cell_type": "code",
   "execution_count": 22,
   "metadata": {
    "collapsed": false
   },
   "outputs": [
    {
     "name": "stdout",
     "output_type": "stream",
     "text": [
      "0.1794863996853734\n"
     ]
    }
   ],
   "source": [
    "print(r2_score(y_train, predictions_train))"
   ]
  },
  {
   "cell_type": "code",
   "execution_count": 23,
   "metadata": {
    "collapsed": true
   },
   "outputs": [],
   "source": [
    "errors_train = abs(predictions_train - y_train)"
   ]
  },
  {
   "cell_type": "code",
   "execution_count": 24,
   "metadata": {
    "collapsed": false
   },
   "outputs": [
    {
     "data": {
      "text/plain": [
       "1.1755571088660965"
      ]
     },
     "execution_count": 24,
     "metadata": {},
     "output_type": "execute_result"
    }
   ],
   "source": [
    "np.mean(errors_train)"
   ]
  },
  {
   "cell_type": "code",
   "execution_count": 25,
   "metadata": {
    "collapsed": false
   },
   "outputs": [
    {
     "data": {
      "text/plain": [
       "43.81122016906738"
      ]
     },
     "execution_count": 25,
     "metadata": {},
     "output_type": "execute_result"
    }
   ],
   "source": [
    "np.max(errors_train)"
   ]
  },
  {
   "cell_type": "code",
   "execution_count": 26,
   "metadata": {
    "collapsed": false
   },
   "outputs": [
    {
     "data": {
      "text/plain": [
       "(array([7.55042026e-01, 1.28865188e-01, 4.77758027e-02, 1.70079224e-02,\n",
       "        1.07533961e-02, 8.47104264e-03, 7.37375732e-03, 6.38620054e-03,\n",
       "        3.99411855e-03, 2.54570193e-03, 2.89683323e-03, 2.19457063e-03,\n",
       "        1.51425374e-03, 1.42647091e-03, 1.14117673e-03, 7.90045428e-04,\n",
       "        5.92534071e-04, 6.14479777e-04, 6.14479777e-04]),\n",
       " array([ 0,  1,  2,  3,  4,  5,  6,  7,  8,  9, 10, 11, 12, 13, 14, 15, 16,\n",
       "        17, 18, 19]),\n",
       " <a list of 19 Patch objects>)"
      ]
     },
     "execution_count": 26,
     "metadata": {},
     "output_type": "execute_result"
    },
    {
     "data": {
      "image/png": "[encoded data removed]",
      "text/plain": [
       "<Figure size 432x288 with 1 Axes>"
      ]
     },
     "metadata": {},
     "output_type": "display_data"
    }
   ],
   "source": [
    "plt.hist(errors_train, bins=range(0, 20, 1), density=1)"
   ]
  },
  {
   "cell_type": "markdown",
   "metadata": {},
   "source": [
    "### Confusion Matrix"
   ]
  },
  {
   "cell_type": "code",
   "execution_count": 27,
   "metadata": {
    "collapsed": false
   },
   "outputs": [
    {
     "data": {
      "image/png": "[encoded data removed]",
      "text/plain": [
       "<Figure size 432x288 with 2 Axes>"
      ]
     },
     "metadata": {},
     "output_type": "display_data"
    }
   ],
   "source": [
    "y_train_copy = np.copy(y_train)\n",
    "y_train_copy[y_train_copy < thershold] = 0\n",
    "y_train_copy[y_train_copy >= thershold] = 1\n",
    "\n",
    "predictions_train_copy = np.copy(predictions_train)\n",
    "predictions_train_copy[predictions_train_copy < thershold] = 0\n",
    "predictions_train_copy[predictions_train_copy >= thershold] = 1\n",
    "\n",
    "skplt.metrics.plot_confusion_matrix(y_train_copy, predictions_train_copy, normalize=True)\n",
    "plt.show()"
   ]
  },
  {
   "cell_type": "markdown",
   "metadata": {},
   "source": [
    "# Evaluation on Test"
   ]
  },
  {
   "cell_type": "code",
   "execution_count": 28,
   "metadata": {
    "collapsed": false
   },
   "outputs": [
    {
     "data": {
      "text/plain": [
       "(19661,)"
      ]
     },
     "execution_count": 28,
     "metadata": {},
     "output_type": "execute_result"
    }
   ],
   "source": [
    "predictions_test = reg_train.predict(X_test)\n",
    "predictions_test.shape"
   ]
  },
  {
   "cell_type": "code",
   "execution_count": 29,
   "metadata": {
    "collapsed": false
   },
   "outputs": [
    {
     "name": "stdout",
     "output_type": "stream",
     "text": [
      "0.16311397990443166\n"
     ]
    }
   ],
   "source": [
    "print(r2_score(y_test, predictions_test))"
   ]
  },
  {
   "cell_type": "code",
   "execution_count": 30,
   "metadata": {
    "collapsed": false
   },
   "outputs": [
    {
     "data": {
      "text/plain": [
       "(19661,)"
      ]
     },
     "execution_count": 30,
     "metadata": {},
     "output_type": "execute_result"
    }
   ],
   "source": [
    "y_test.shape"
   ]
  },
  {
   "cell_type": "code",
   "execution_count": 31,
   "metadata": {
    "collapsed": true
   },
   "outputs": [],
   "source": [
    "errors_test = abs(predictions_test - y_test)"
   ]
  },
  {
   "cell_type": "code",
   "execution_count": 32,
   "metadata": {
    "collapsed": false
   },
   "outputs": [
    {
     "name": "stdout",
     "output_type": "stream",
     "text": [
      "(19661,)\n",
      "2.938606305503825\n",
      "3.814697265625e-06\n",
      "1.1880356999296338\n",
      "46.626413345336914\n"
     ]
    }
   ],
   "source": [
    "print(errors_test.shape)\n",
    "print(np.std(errors_test))\n",
    "print(np.min(errors_test))\n",
    "print(np.mean(errors_test))\n",
    "print(np.max(errors_test))"
   ]
  },
  {
   "cell_type": "code",
   "execution_count": 33,
   "metadata": {
    "collapsed": false
   },
   "outputs": [
    {
     "data": {
      "text/plain": [
       "(array([1.911e+03, 1.866e+03, 1.670e+03, 1.578e+03, 1.429e+03, 1.190e+03,\n",
       "        1.017e+03, 7.650e+02, 6.970e+02, 5.160e+02, 4.910e+02, 3.710e+02,\n",
       "        3.470e+02, 3.310e+02, 2.790e+02, 2.340e+02, 2.630e+02, 2.240e+02,\n",
       "        2.420e+02, 2.210e+02, 2.190e+02, 1.930e+02, 1.880e+02, 1.460e+02,\n",
       "        1.360e+02, 1.350e+02, 1.210e+02, 1.030e+02, 9.700e+01, 1.030e+02,\n",
       "        1.050e+02, 8.600e+01, 8.500e+01, 5.200e+01, 8.100e+01, 7.800e+01,\n",
       "        8.200e+01, 8.500e+01, 6.200e+01, 8.000e+01, 6.900e+01, 7.300e+01,\n",
       "        4.700e+01, 5.400e+01, 3.700e+01, 3.300e+01, 3.400e+01, 3.400e+01,\n",
       "        3.000e+01, 2.900e+01, 2.000e+01, 2.000e+01, 1.900e+01, 1.600e+01,\n",
       "        2.100e+01, 1.800e+01, 2.400e+01, 2.100e+01, 1.500e+01, 1.100e+01,\n",
       "        1.300e+01, 1.600e+01, 9.000e+00, 1.800e+01, 1.200e+01, 1.200e+01,\n",
       "        1.100e+01, 1.200e+01, 9.000e+00, 2.000e+01, 8.000e+00, 1.300e+01,\n",
       "        1.900e+01, 1.300e+01, 1.600e+01, 2.200e+01, 7.000e+00, 6.000e+00,\n",
       "        1.300e+01, 9.000e+00, 8.000e+00, 5.000e+00, 8.000e+00, 1.200e+01,\n",
       "        3.000e+00, 1.100e+01, 1.900e+01, 9.000e+00, 8.000e+00, 1.000e+01,\n",
       "        1.000e+01, 1.100e+01, 6.000e+00, 7.000e+00, 1.500e+01, 7.000e+00,\n",
       "        8.000e+00, 9.000e+00, 8.000e+00, 7.000e+00, 1.200e+01, 7.000e+00,\n",
       "        8.000e+00, 5.000e+00, 1.500e+01, 9.000e+00, 1.000e+01, 1.000e+01,\n",
       "        1.100e+01, 5.000e+00, 9.000e+00, 6.000e+00, 1.300e+01, 1.200e+01,\n",
       "        7.000e+00, 5.000e+00, 1.100e+01, 5.000e+00, 9.000e+00, 6.000e+00,\n",
       "        6.000e+00, 8.000e+00, 8.000e+00, 3.000e+00, 1.100e+01, 8.000e+00,\n",
       "        8.000e+00, 4.000e+00, 4.000e+00, 6.000e+00, 3.000e+00, 4.000e+00,\n",
       "        7.000e+00, 2.000e+00, 9.000e+00, 6.000e+00, 6.000e+00, 3.000e+00,\n",
       "        2.000e+00, 6.000e+00, 1.000e+01, 3.000e+00, 5.000e+00, 5.000e+00,\n",
       "        1.100e+01, 4.000e+00, 1.000e+00, 4.000e+00, 0.000e+00, 2.000e+00,\n",
       "        3.000e+00, 6.000e+00, 4.000e+00, 3.000e+00, 4.000e+00, 7.000e+00,\n",
       "        1.000e+00, 5.000e+00, 3.000e+00, 3.000e+00, 4.000e+00, 2.000e+00,\n",
       "        3.000e+00, 0.000e+00, 0.000e+00, 6.000e+00, 3.000e+00, 2.000e+00,\n",
       "        4.000e+00, 1.000e+00, 2.000e+00, 7.000e+00, 1.000e+00, 3.000e+00,\n",
       "        5.000e+00, 5.000e+00, 4.000e+00, 4.000e+00, 4.000e+00, 2.000e+00,\n",
       "        1.000e+00, 1.000e+00, 4.000e+00, 2.000e+00, 1.000e+00, 2.000e+00,\n",
       "        1.000e+00, 3.000e+00, 2.000e+00, 0.000e+00, 2.000e+00, 1.000e+00,\n",
       "        2.000e+00, 4.000e+00, 1.000e+00, 1.000e+00, 1.000e+00, 3.000e+00,\n",
       "        2.000e+00, 1.000e+00, 3.000e+00, 4.000e+00, 1.000e+00, 0.000e+00,\n",
       "        2.000e+00, 0.000e+00, 2.000e+00, 2.000e+00, 3.000e+00, 1.000e+00,\n",
       "        0.000e+00, 0.000e+00, 0.000e+00, 0.000e+00, 0.000e+00, 1.000e+00,\n",
       "        2.000e+00, 0.000e+00, 1.000e+00, 0.000e+00, 1.000e+00, 2.000e+00,\n",
       "        1.000e+00, 2.000e+00, 2.000e+00, 2.000e+00, 1.000e+00, 2.000e+00,\n",
       "        1.000e+00, 3.000e+00, 3.000e+00, 1.000e+00, 3.000e+00, 4.000e+00,\n",
       "        3.000e+00, 2.000e+00, 3.000e+00, 1.000e+00, 1.000e+00, 3.000e+00,\n",
       "        0.000e+00, 1.000e+00, 1.000e+00, 1.000e+00, 0.000e+00, 2.000e+00,\n",
       "        0.000e+00, 1.000e+00, 1.000e+00, 0.000e+00, 2.000e+00, 3.000e+00,\n",
       "        0.000e+00, 0.000e+00, 0.000e+00, 2.000e+00, 2.000e+00, 2.000e+00,\n",
       "        0.000e+00, 1.000e+00, 1.000e+00, 0.000e+00, 1.000e+00, 2.000e+00,\n",
       "        0.000e+00, 1.000e+00, 0.000e+00, 0.000e+00, 3.000e+00, 1.000e+00,\n",
       "        0.000e+00, 0.000e+00, 0.000e+00, 0.000e+00, 0.000e+00, 3.000e+00,\n",
       "        2.000e+00, 1.000e+00, 2.000e+00, 0.000e+00, 0.000e+00, 0.000e+00,\n",
       "        1.000e+00, 1.000e+00, 1.000e+00, 1.000e+00, 2.000e+00, 0.000e+00,\n",
       "        1.000e+00, 2.000e+00, 0.000e+00, 1.000e+00, 0.000e+00, 1.000e+00,\n",
       "        0.000e+00, 0.000e+00, 0.000e+00, 4.000e+00, 0.000e+00, 2.000e+00,\n",
       "        1.000e+00, 0.000e+00, 0.000e+00, 1.000e+00, 0.000e+00, 2.000e+00,\n",
       "        0.000e+00, 2.000e+00, 0.000e+00, 0.000e+00, 1.000e+00, 1.000e+00,\n",
       "        2.000e+00, 1.000e+00, 0.000e+00, 0.000e+00, 0.000e+00, 1.000e+00,\n",
       "        2.000e+00, 1.000e+00, 0.000e+00, 0.000e+00, 1.000e+00, 1.000e+00,\n",
       "        0.000e+00, 0.000e+00, 0.000e+00, 0.000e+00, 0.000e+00, 0.000e+00,\n",
       "        0.000e+00, 2.000e+00, 0.000e+00, 0.000e+00, 0.000e+00, 0.000e+00,\n",
       "        0.000e+00, 0.000e+00, 1.000e+00, 0.000e+00, 1.000e+00, 4.000e+00,\n",
       "        1.000e+00, 0.000e+00, 0.000e+00, 2.000e+00, 1.000e+00, 2.000e+00,\n",
       "        2.000e+00, 0.000e+00, 0.000e+00, 0.000e+00, 0.000e+00, 0.000e+00,\n",
       "        1.000e+00, 0.000e+00, 0.000e+00, 0.000e+00, 0.000e+00, 1.000e+00,\n",
       "        0.000e+00, 0.000e+00, 0.000e+00, 0.000e+00, 3.000e+00, 0.000e+00,\n",
       "        1.000e+00, 1.000e+00, 0.000e+00, 0.000e+00, 2.000e+00, 1.000e+00,\n",
       "        0.000e+00, 0.000e+00, 1.000e+00, 0.000e+00, 1.000e+00, 1.000e+00,\n",
       "        0.000e+00, 0.000e+00, 0.000e+00, 0.000e+00, 2.000e+00, 0.000e+00,\n",
       "        0.000e+00, 0.000e+00, 0.000e+00, 2.000e+00, 2.000e+00, 0.000e+00,\n",
       "        0.000e+00, 1.000e+00, 0.000e+00, 1.000e+00, 0.000e+00, 0.000e+00,\n",
       "        0.000e+00, 0.000e+00, 0.000e+00, 0.000e+00, 2.000e+00, 2.000e+00,\n",
       "        0.000e+00, 1.000e+00, 1.000e+00, 1.000e+00, 2.000e+00, 1.000e+00,\n",
       "        0.000e+00, 0.000e+00, 0.000e+00, 0.000e+00, 0.000e+00, 0.000e+00,\n",
       "        1.000e+00, 0.000e+00, 0.000e+00, 0.000e+00, 2.000e+00, 1.000e+00,\n",
       "        1.000e+00, 0.000e+00, 0.000e+00, 2.000e+00, 0.000e+00, 1.000e+00,\n",
       "        1.000e+00, 0.000e+00, 0.000e+00, 0.000e+00, 0.000e+00, 1.000e+00,\n",
       "        2.000e+00, 0.000e+00, 1.000e+00, 0.000e+00, 0.000e+00, 0.000e+00,\n",
       "        0.000e+00, 1.000e+00, 0.000e+00, 0.000e+00, 0.000e+00, 1.000e+00,\n",
       "        0.000e+00, 0.000e+00, 0.000e+00, 0.000e+00, 0.000e+00, 0.000e+00,\n",
       "        1.000e+00, 0.000e+00, 1.000e+00, 1.000e+00, 0.000e+00, 0.000e+00,\n",
       "        1.000e+00, 0.000e+00, 0.000e+00, 0.000e+00, 0.000e+00, 0.000e+00,\n",
       "        0.000e+00, 0.000e+00, 0.000e+00, 0.000e+00, 0.000e+00, 1.000e+00,\n",
       "        0.000e+00, 1.000e+00, 1.000e+00, 1.000e+00, 2.000e+00, 1.000e+00,\n",
       "        0.000e+00, 0.000e+00, 0.000e+00, 2.000e+00, 2.000e+00, 1.000e+00,\n",
       "        1.000e+00, 0.000e+00, 1.000e+00, 0.000e+00, 1.000e+00, 0.000e+00,\n",
       "        0.000e+00, 0.000e+00, 1.000e+00, 0.000e+00, 0.000e+00, 0.000e+00,\n",
       "        0.000e+00, 0.000e+00, 0.000e+00, 0.000e+00, 0.000e+00, 0.000e+00,\n",
       "        0.000e+00, 2.000e+00, 0.000e+00, 0.000e+00, 0.000e+00, 1.000e+00,\n",
       "        0.000e+00, 0.000e+00, 0.000e+00, 0.000e+00, 1.000e+00, 1.000e+00,\n",
       "        1.000e+00, 0.000e+00, 0.000e+00, 1.000e+00, 1.000e+00, 0.000e+00,\n",
       "        0.000e+00, 0.000e+00, 0.000e+00, 0.000e+00, 0.000e+00, 1.000e+00,\n",
       "        0.000e+00, 0.000e+00, 0.000e+00, 0.000e+00, 0.000e+00, 1.000e+00,\n",
       "        0.000e+00, 0.000e+00, 1.000e+00, 1.000e+00, 0.000e+00, 0.000e+00,\n",
       "        0.000e+00, 0.000e+00, 0.000e+00, 0.000e+00, 0.000e+00, 0.000e+00,\n",
       "        0.000e+00, 0.000e+00, 1.000e+00, 0.000e+00, 1.000e+00, 1.000e+00,\n",
       "        0.000e+00, 1.000e+00, 0.000e+00, 0.000e+00, 0.000e+00, 1.000e+00,\n",
       "        0.000e+00, 0.000e+00, 0.000e+00, 0.000e+00, 0.000e+00, 1.000e+00,\n",
       "        0.000e+00, 0.000e+00, 0.000e+00, 1.000e+00, 0.000e+00, 0.000e+00,\n",
       "        1.000e+00, 0.000e+00, 0.000e+00, 0.000e+00, 0.000e+00, 0.000e+00,\n",
       "        0.000e+00, 0.000e+00, 0.000e+00, 0.000e+00, 1.000e+00, 0.000e+00,\n",
       "        0.000e+00, 0.000e+00, 0.000e+00, 0.000e+00, 0.000e+00, 1.000e+00,\n",
       "        0.000e+00, 0.000e+00, 0.000e+00, 0.000e+00, 0.000e+00, 0.000e+00,\n",
       "        0.000e+00, 0.000e+00, 1.000e+00, 0.000e+00, 0.000e+00, 0.000e+00,\n",
       "        0.000e+00, 0.000e+00, 1.000e+00, 1.000e+00, 0.000e+00, 0.000e+00,\n",
       "        0.000e+00, 0.000e+00, 0.000e+00, 0.000e+00, 0.000e+00, 0.000e+00,\n",
       "        0.000e+00, 1.000e+00, 0.000e+00, 0.000e+00, 0.000e+00, 1.000e+00,\n",
       "        0.000e+00, 0.000e+00, 0.000e+00, 0.000e+00, 0.000e+00, 0.000e+00,\n",
       "        0.000e+00, 0.000e+00, 0.000e+00, 0.000e+00, 0.000e+00, 0.000e+00,\n",
       "        0.000e+00, 0.000e+00, 1.000e+00, 0.000e+00, 0.000e+00, 0.000e+00,\n",
       "        0.000e+00, 0.000e+00, 0.000e+00, 0.000e+00, 0.000e+00, 0.000e+00,\n",
       "        0.000e+00, 0.000e+00, 0.000e+00, 0.000e+00, 0.000e+00, 0.000e+00,\n",
       "        0.000e+00, 0.000e+00, 0.000e+00, 0.000e+00, 0.000e+00, 0.000e+00,\n",
       "        0.000e+00, 0.000e+00, 1.000e+00, 0.000e+00, 0.000e+00, 0.000e+00,\n",
       "        0.000e+00, 0.000e+00, 0.000e+00, 0.000e+00, 0.000e+00, 0.000e+00,\n",
       "        0.000e+00, 0.000e+00, 0.000e+00, 0.000e+00, 0.000e+00, 0.000e+00,\n",
       "        0.000e+00, 0.000e+00, 0.000e+00, 0.000e+00, 0.000e+00, 0.000e+00,\n",
       "        0.000e+00, 0.000e+00, 0.000e+00, 0.000e+00, 0.000e+00, 0.000e+00,\n",
       "        0.000e+00, 0.000e+00, 0.000e+00, 0.000e+00, 0.000e+00, 0.000e+00,\n",
       "        1.000e+00, 0.000e+00, 0.000e+00, 1.000e+00, 0.000e+00, 0.000e+00,\n",
       "        0.000e+00, 0.000e+00, 0.000e+00, 0.000e+00, 0.000e+00, 0.000e+00,\n",
       "        0.000e+00, 0.000e+00, 0.000e+00, 0.000e+00, 0.000e+00, 0.000e+00,\n",
       "        0.000e+00, 0.000e+00, 0.000e+00, 0.000e+00, 0.000e+00, 0.000e+00,\n",
       "        0.000e+00, 0.000e+00, 0.000e+00, 0.000e+00, 0.000e+00, 0.000e+00,\n",
       "        0.000e+00, 0.000e+00, 0.000e+00, 0.000e+00, 0.000e+00, 0.000e+00,\n",
       "        0.000e+00, 1.000e+00, 0.000e+00, 0.000e+00, 0.000e+00, 0.000e+00,\n",
       "        0.000e+00, 0.000e+00, 0.000e+00, 0.000e+00, 0.000e+00, 0.000e+00,\n",
       "        0.000e+00, 0.000e+00, 1.000e+00]),\n",
       " array([3.81469727e-06, 6.34411066e-02, 1.26878398e-01, 1.90315690e-01,\n",
       "        2.53752982e-01, 3.17190274e-01, 3.80627566e-01, 4.44064858e-01,\n",
       "        5.07502150e-01, 5.70939442e-01, 6.34376733e-01, 6.97814025e-01,\n",
       "        7.61251317e-01, 8.24688609e-01, 8.88125901e-01, 9.51563193e-01,\n",
       "        1.01500048e+00, 1.07843778e+00, 1.14187507e+00, 1.20531236e+00,\n",
       "        1.26874965e+00, 1.33218694e+00, 1.39562424e+00, 1.45906153e+00,\n",
       "        1.52249882e+00, 1.58593611e+00, 1.64937340e+00, 1.71281070e+00,\n",
       "        1.77624799e+00, 1.83968528e+00, 1.90312257e+00, 1.96655986e+00,\n",
       "        2.02999715e+00, 2.09343445e+00, 2.15687174e+00, 2.22030903e+00,\n",
       "        2.28374632e+00, 2.34718361e+00, 2.41062091e+00, 2.47405820e+00,\n",
       "        2.53749549e+00, 2.60093278e+00, 2.66437007e+00, 2.72780737e+00,\n",
       "        2.79124466e+00, 2.85468195e+00, 2.91811924e+00, 2.98155653e+00,\n",
       "        3.04499382e+00, 3.10843112e+00, 3.17186841e+00, 3.23530570e+00,\n",
       "        3.29874299e+00, 3.36218028e+00, 3.42561758e+00, 3.48905487e+00,\n",
       "        3.55249216e+00, 3.61592945e+00, 3.67936674e+00, 3.74280404e+00,\n",
       "        3.80624133e+00, 3.86967862e+00, 3.93311591e+00, 3.99655320e+00,\n",
       "        4.05999049e+00, 4.12342779e+00, 4.18686508e+00, 4.25030237e+00,\n",
       "        4.31373966e+00, 4.37717695e+00, 4.44061425e+00, 4.50405154e+00,\n",
       "        4.56748883e+00, 4.63092612e+00, 4.69436341e+00, 4.75780071e+00,\n",
       "        4.82123800e+00, 4.88467529e+00, 4.94811258e+00, 5.01154987e+00,\n",
       "        5.07498716e+00, 5.13842446e+00, 5.20186175e+00, 5.26529904e+00,\n",
       "        5.32873633e+00, 5.39217362e+00, 5.45561092e+00, 5.51904821e+00,\n",
       "        5.58248550e+00, 5.64592279e+00, 5.70936008e+00, 5.77279738e+00,\n",
       "        5.83623467e+00, 5.89967196e+00, 5.96310925e+00, 6.02654654e+00,\n",
       "        6.08998384e+00, 6.15342113e+00, 6.21685842e+00, 6.28029571e+00,\n",
       "        6.34373300e+00, 6.40717029e+00, 6.47060759e+00, 6.53404488e+00,\n",
       "        6.59748217e+00, 6.66091946e+00, 6.72435675e+00, 6.78779405e+00,\n",
       "        6.85123134e+00, 6.91466863e+00, 6.97810592e+00, 7.04154321e+00,\n",
       "        7.10498051e+00, 7.16841780e+00, 7.23185509e+00, 7.29529238e+00,\n",
       "        7.35872967e+00, 7.42216696e+00, 7.48560426e+00, 7.54904155e+00,\n",
       "        7.61247884e+00, 7.67591613e+00, 7.73935342e+00, 7.80279072e+00,\n",
       "        7.86622801e+00, 7.92966530e+00, 7.99310259e+00, 8.05653988e+00,\n",
       "        8.11997718e+00, 8.18341447e+00, 8.24685176e+00, 8.31028905e+00,\n",
       "        8.37372634e+00, 8.43716363e+00, 8.50060093e+00, 8.56403822e+00,\n",
       "        8.62747551e+00, 8.69091280e+00, 8.75435009e+00, 8.81778739e+00,\n",
       "        8.88122468e+00, 8.94466197e+00, 9.00809926e+00, 9.07153655e+00,\n",
       "        9.13497385e+00, 9.19841114e+00, 9.26184843e+00, 9.32528572e+00,\n",
       "        9.38872301e+00, 9.45216030e+00, 9.51559760e+00, 9.57903489e+00,\n",
       "        9.64247218e+00, 9.70590947e+00, 9.76934676e+00, 9.83278406e+00,\n",
       "        9.89622135e+00, 9.95965864e+00, 1.00230959e+01, 1.00865332e+01,\n",
       "        1.01499705e+01, 1.02134078e+01, 1.02768451e+01, 1.03402824e+01,\n",
       "        1.04037197e+01, 1.04671570e+01, 1.05305943e+01, 1.05940316e+01,\n",
       "        1.06574689e+01, 1.07209061e+01, 1.07843434e+01, 1.08477807e+01,\n",
       "        1.09112180e+01, 1.09746553e+01, 1.10380926e+01, 1.11015299e+01,\n",
       "        1.11649672e+01, 1.12284045e+01, 1.12918418e+01, 1.13552791e+01,\n",
       "        1.14187164e+01, 1.14821536e+01, 1.15455909e+01, 1.16090282e+01,\n",
       "        1.16724655e+01, 1.17359028e+01, 1.17993401e+01, 1.18627774e+01,\n",
       "        1.19262147e+01, 1.19896520e+01, 1.20530893e+01, 1.21165266e+01,\n",
       "        1.21799639e+01, 1.22434011e+01, 1.23068384e+01, 1.23702757e+01,\n",
       "        1.24337130e+01, 1.24971503e+01, 1.25605876e+01, 1.26240249e+01,\n",
       "        1.26874622e+01, 1.27508995e+01, 1.28143368e+01, 1.28777741e+01,\n",
       "        1.29412114e+01, 1.30046486e+01, 1.30680859e+01, 1.31315232e+01,\n",
       "        1.31949605e+01, 1.32583978e+01, 1.33218351e+01, 1.33852724e+01,\n",
       "        1.34487097e+01, 1.35121470e+01, 1.35755843e+01, 1.36390216e+01,\n",
       "        1.37024589e+01, 1.37658962e+01, 1.38293334e+01, 1.38927707e+01,\n",
       "        1.39562080e+01, 1.40196453e+01, 1.40830826e+01, 1.41465199e+01,\n",
       "        1.42099572e+01, 1.42733945e+01, 1.43368318e+01, 1.44002691e+01,\n",
       "        1.44637064e+01, 1.45271437e+01, 1.45905809e+01, 1.46540182e+01,\n",
       "        1.47174555e+01, 1.47808928e+01, 1.48443301e+01, 1.49077674e+01,\n",
       "        1.49712047e+01, 1.50346420e+01, 1.50980793e+01, 1.51615166e+01,\n",
       "        1.52249539e+01, 1.52883912e+01, 1.53518284e+01, 1.54152657e+01,\n",
       "        1.54787030e+01, 1.55421403e+01, 1.56055776e+01, 1.56690149e+01,\n",
       "        1.57324522e+01, 1.57958895e+01, 1.58593268e+01, 1.59227641e+01,\n",
       "        1.59862014e+01, 1.60496387e+01, 1.61130760e+01, 1.61765132e+01,\n",
       "        1.62399505e+01, 1.63033878e+01, 1.63668251e+01, 1.64302624e+01,\n",
       "        1.64936997e+01, 1.65571370e+01, 1.66205743e+01, 1.66840116e+01,\n",
       "        1.67474489e+01, 1.68108862e+01, 1.68743235e+01, 1.69377607e+01,\n",
       "        1.70011980e+01, 1.70646353e+01, 1.71280726e+01, 1.71915099e+01,\n",
       "        1.72549472e+01, 1.73183845e+01, 1.73818218e+01, 1.74452591e+01,\n",
       "        1.75086964e+01, 1.75721337e+01, 1.76355710e+01, 1.76990082e+01,\n",
       "        1.77624455e+01, 1.78258828e+01, 1.78893201e+01, 1.79527574e+01,\n",
       "        1.80161947e+01, 1.80796320e+01, 1.81430693e+01, 1.82065066e+01,\n",
       "        1.82699439e+01, 1.83333812e+01, 1.83968185e+01, 1.84602558e+01,\n",
       "        1.85236930e+01, 1.85871303e+01, 1.86505676e+01, 1.87140049e+01,\n",
       "        1.87774422e+01, 1.88408795e+01, 1.89043168e+01, 1.89677541e+01,\n",
       "        1.90311914e+01, 1.90946287e+01, 1.91580660e+01, 1.92215033e+01,\n",
       "        1.92849405e+01, 1.93483778e+01, 1.94118151e+01, 1.94752524e+01,\n",
       "        1.95386897e+01, 1.96021270e+01, 1.96655643e+01, 1.97290016e+01,\n",
       "        1.97924389e+01, 1.98558762e+01, 1.99193135e+01, 1.99827508e+01,\n",
       "        2.00461880e+01, 2.01096253e+01, 2.01730626e+01, 2.02364999e+01,\n",
       "        2.02999372e+01, 2.03633745e+01, 2.04268118e+01, 2.04902491e+01,\n",
       "        2.05536864e+01, 2.06171237e+01, 2.06805610e+01, 2.07439983e+01,\n",
       "        2.08074356e+01, 2.08708728e+01, 2.09343101e+01, 2.09977474e+01,\n",
       "        2.10611847e+01, 2.11246220e+01, 2.11880593e+01, 2.12514966e+01,\n",
       "        2.13149339e+01, 2.13783712e+01, 2.14418085e+01, 2.15052458e+01,\n",
       "        2.15686831e+01, 2.16321203e+01, 2.16955576e+01, 2.17589949e+01,\n",
       "        2.18224322e+01, 2.18858695e+01, 2.19493068e+01, 2.20127441e+01,\n",
       "        2.20761814e+01, 2.21396187e+01, 2.22030560e+01, 2.22664933e+01,\n",
       "        2.23299306e+01, 2.23933678e+01, 2.24568051e+01, 2.25202424e+01,\n",
       "        2.25836797e+01, 2.26471170e+01, 2.27105543e+01, 2.27739916e+01,\n",
       "        2.28374289e+01, 2.29008662e+01, 2.29643035e+01, 2.30277408e+01,\n",
       "        2.30911781e+01, 2.31546154e+01, 2.32180526e+01, 2.32814899e+01,\n",
       "        2.33449272e+01, 2.34083645e+01, 2.34718018e+01, 2.35352391e+01,\n",
       "        2.35986764e+01, 2.36621137e+01, 2.37255510e+01, 2.37889883e+01,\n",
       "        2.38524256e+01, 2.39158629e+01, 2.39793001e+01, 2.40427374e+01,\n",
       "        2.41061747e+01, 2.41696120e+01, 2.42330493e+01, 2.42964866e+01,\n",
       "        2.43599239e+01, 2.44233612e+01, 2.44867985e+01, 2.45502358e+01,\n",
       "        2.46136731e+01, 2.46771104e+01, 2.47405476e+01, 2.48039849e+01,\n",
       "        2.48674222e+01, 2.49308595e+01, 2.49942968e+01, 2.50577341e+01,\n",
       "        2.51211714e+01, 2.51846087e+01, 2.52480460e+01, 2.53114833e+01,\n",
       "        2.53749206e+01, 2.54383579e+01, 2.55017951e+01, 2.55652324e+01,\n",
       "        2.56286697e+01, 2.56921070e+01, 2.57555443e+01, 2.58189816e+01,\n",
       "        2.58824189e+01, 2.59458562e+01, 2.60092935e+01, 2.60727308e+01,\n",
       "        2.61361681e+01, 2.61996054e+01, 2.62630427e+01, 2.63264799e+01,\n",
       "        2.63899172e+01, 2.64533545e+01, 2.65167918e+01, 2.65802291e+01,\n",
       "        2.66436664e+01, 2.67071037e+01, 2.67705410e+01, 2.68339783e+01,\n",
       "        2.68974156e+01, 2.69608529e+01, 2.70242902e+01, 2.70877274e+01,\n",
       "        2.71511647e+01, 2.72146020e+01, 2.72780393e+01, 2.73414766e+01,\n",
       "        2.74049139e+01, 2.74683512e+01, 2.75317885e+01, 2.75952258e+01,\n",
       "        2.76586631e+01, 2.77221004e+01, 2.77855377e+01, 2.78489749e+01,\n",
       "        2.79124122e+01, 2.79758495e+01, 2.80392868e+01, 2.81027241e+01,\n",
       "        2.81661614e+01, 2.82295987e+01, 2.82930360e+01, 2.83564733e+01,\n",
       "        2.84199106e+01, 2.84833479e+01, 2.85467852e+01, 2.86102225e+01,\n",
       "        2.86736597e+01, 2.87370970e+01, 2.88005343e+01, 2.88639716e+01,\n",
       "        2.89274089e+01, 2.89908462e+01, 2.90542835e+01, 2.91177208e+01,\n",
       "        2.91811581e+01, 2.92445954e+01, 2.93080327e+01, 2.93714700e+01,\n",
       "        2.94349072e+01, 2.94983445e+01, 2.95617818e+01, 2.96252191e+01,\n",
       "        2.96886564e+01, 2.97520937e+01, 2.98155310e+01, 2.98789683e+01,\n",
       "        2.99424056e+01, 3.00058429e+01, 3.00692802e+01, 3.01327175e+01,\n",
       "        3.01961547e+01, 3.02595920e+01, 3.03230293e+01, 3.03864666e+01,\n",
       "        3.04499039e+01, 3.05133412e+01, 3.05767785e+01, 3.06402158e+01,\n",
       "        3.07036531e+01, 3.07670904e+01, 3.08305277e+01, 3.08939650e+01,\n",
       "        3.09574023e+01, 3.10208395e+01, 3.10842768e+01, 3.11477141e+01,\n",
       "        3.12111514e+01, 3.12745887e+01, 3.13380260e+01, 3.14014633e+01,\n",
       "        3.14649006e+01, 3.15283379e+01, 3.15917752e+01, 3.16552125e+01,\n",
       "        3.17186498e+01, 3.17820870e+01, 3.18455243e+01, 3.19089616e+01,\n",
       "        3.19723989e+01, 3.20358362e+01, 3.20992735e+01, 3.21627108e+01,\n",
       "        3.22261481e+01, 3.22895854e+01, 3.23530227e+01, 3.24164600e+01,\n",
       "        3.24798973e+01, 3.25433345e+01, 3.26067718e+01, 3.26702091e+01,\n",
       "        3.27336464e+01, 3.27970837e+01, 3.28605210e+01, 3.29239583e+01,\n",
       "        3.29873956e+01, 3.30508329e+01, 3.31142702e+01, 3.31777075e+01,\n",
       "        3.32411448e+01, 3.33045821e+01, 3.33680193e+01, 3.34314566e+01,\n",
       "        3.34948939e+01, 3.35583312e+01, 3.36217685e+01, 3.36852058e+01,\n",
       "        3.37486431e+01, 3.38120804e+01, 3.38755177e+01, 3.39389550e+01,\n",
       "        3.40023923e+01, 3.40658296e+01, 3.41292668e+01, 3.41927041e+01,\n",
       "        3.42561414e+01, 3.43195787e+01, 3.43830160e+01, 3.44464533e+01,\n",
       "        3.45098906e+01, 3.45733279e+01, 3.46367652e+01, 3.47002025e+01,\n",
       "        3.47636398e+01, 3.48270771e+01, 3.48905143e+01, 3.49539516e+01,\n",
       "        3.50173889e+01, 3.50808262e+01, 3.51442635e+01, 3.52077008e+01,\n",
       "        3.52711381e+01, 3.53345754e+01, 3.53980127e+01, 3.54614500e+01,\n",
       "        3.55248873e+01, 3.55883246e+01, 3.56517619e+01, 3.57151991e+01,\n",
       "        3.57786364e+01, 3.58420737e+01, 3.59055110e+01, 3.59689483e+01,\n",
       "        3.60323856e+01, 3.60958229e+01, 3.61592602e+01, 3.62226975e+01,\n",
       "        3.62861348e+01, 3.63495721e+01, 3.64130094e+01, 3.64764466e+01,\n",
       "        3.65398839e+01, 3.66033212e+01, 3.66667585e+01, 3.67301958e+01,\n",
       "        3.67936331e+01, 3.68570704e+01, 3.69205077e+01, 3.69839450e+01,\n",
       "        3.70473823e+01, 3.71108196e+01, 3.71742569e+01, 3.72376941e+01,\n",
       "        3.73011314e+01, 3.73645687e+01, 3.74280060e+01, 3.74914433e+01,\n",
       "        3.75548806e+01, 3.76183179e+01, 3.76817552e+01, 3.77451925e+01,\n",
       "        3.78086298e+01, 3.78720671e+01, 3.79355044e+01, 3.79989416e+01,\n",
       "        3.80623789e+01, 3.81258162e+01, 3.81892535e+01, 3.82526908e+01,\n",
       "        3.83161281e+01, 3.83795654e+01, 3.84430027e+01, 3.85064400e+01,\n",
       "        3.85698773e+01, 3.86333146e+01, 3.86967519e+01, 3.87601892e+01,\n",
       "        3.88236264e+01, 3.88870637e+01, 3.89505010e+01, 3.90139383e+01,\n",
       "        3.90773756e+01, 3.91408129e+01, 3.92042502e+01, 3.92676875e+01,\n",
       "        3.93311248e+01, 3.93945621e+01, 3.94579994e+01, 3.95214367e+01,\n",
       "        3.95848739e+01, 3.96483112e+01, 3.97117485e+01, 3.97751858e+01,\n",
       "        3.98386231e+01, 3.99020604e+01, 3.99654977e+01, 4.00289350e+01,\n",
       "        4.00923723e+01, 4.01558096e+01, 4.02192469e+01, 4.02826842e+01,\n",
       "        4.03461214e+01, 4.04095587e+01, 4.04729960e+01, 4.05364333e+01,\n",
       "        4.05998706e+01, 4.06633079e+01, 4.07267452e+01, 4.07901825e+01,\n",
       "        4.08536198e+01, 4.09170571e+01, 4.09804944e+01, 4.10439317e+01,\n",
       "        4.11073690e+01, 4.11708062e+01, 4.12342435e+01, 4.12976808e+01,\n",
       "        4.13611181e+01, 4.14245554e+01, 4.14879927e+01, 4.15514300e+01,\n",
       "        4.16148673e+01, 4.16783046e+01, 4.17417419e+01, 4.18051792e+01,\n",
       "        4.18686165e+01, 4.19320537e+01, 4.19954910e+01, 4.20589283e+01,\n",
       "        4.21223656e+01, 4.21858029e+01, 4.22492402e+01, 4.23126775e+01,\n",
       "        4.23761148e+01, 4.24395521e+01, 4.25029894e+01, 4.25664267e+01,\n",
       "        4.26298640e+01, 4.26933012e+01, 4.27567385e+01, 4.28201758e+01,\n",
       "        4.28836131e+01, 4.29470504e+01, 4.30104877e+01, 4.30739250e+01,\n",
       "        4.31373623e+01, 4.32007996e+01, 4.32642369e+01, 4.33276742e+01,\n",
       "        4.33911115e+01, 4.34545488e+01, 4.35179860e+01, 4.35814233e+01,\n",
       "        4.36448606e+01, 4.37082979e+01, 4.37717352e+01, 4.38351725e+01,\n",
       "        4.38986098e+01, 4.39620471e+01, 4.40254844e+01, 4.40889217e+01,\n",
       "        4.41523590e+01, 4.42157963e+01, 4.42792335e+01, 4.43426708e+01,\n",
       "        4.44061081e+01, 4.44695454e+01, 4.45329827e+01, 4.45964200e+01,\n",
       "        4.46598573e+01, 4.47232946e+01, 4.47867319e+01, 4.48501692e+01,\n",
       "        4.49136065e+01, 4.49770438e+01, 4.50404810e+01, 4.51039183e+01,\n",
       "        4.51673556e+01, 4.52307929e+01, 4.52942302e+01, 4.53576675e+01,\n",
       "        4.54211048e+01, 4.54845421e+01, 4.55479794e+01, 4.56114167e+01,\n",
       "        4.56748540e+01, 4.57382913e+01, 4.58017286e+01, 4.58651658e+01,\n",
       "        4.59286031e+01, 4.59920404e+01, 4.60554777e+01, 4.61189150e+01,\n",
       "        4.61823523e+01, 4.62457896e+01, 4.63092269e+01, 4.63726642e+01,\n",
       "        4.64361015e+01, 4.64995388e+01, 4.65629761e+01, 4.66264133e+01]),\n",
       " <a list of 735 Patch objects>)"
      ]
     },
     "execution_count": 33,
     "metadata": {},
     "output_type": "execute_result"
    },
    {
     "data": {
      "image/png": "[encoded data removed]",
      "text/plain": [
       "<Figure size 432x288 with 1 Axes>"
      ]
     },
     "metadata": {},
     "output_type": "display_data"
    }
   ],
   "source": [
    "plt.hist(errors_test, bins='auto')"
   ]
  },
  {
   "cell_type": "code",
   "execution_count": 34,
   "metadata": {
    "collapsed": false
   },
   "outputs": [
    {
     "data": {
      "text/plain": [
       "(array([1.9308e+04, 2.3200e+02, 7.8000e+01, 3.8000e+01, 5.0000e+00,\n",
       "        0.0000e+00, 0.0000e+00, 0.0000e+00, 0.0000e+00, 0.0000e+00,\n",
       "        0.0000e+00, 0.0000e+00]),\n",
       " array([  0,  10,  20,  30,  40,  50,  60,  70,  80,  90, 100, 110, 120]),\n",
       " <a list of 12 Patch objects>)"
      ]
     },
     "execution_count": 34,
     "metadata": {},
     "output_type": "execute_result"
    },
    {
     "data": {
      "image/png": "[encoded data removed]",
      "text/plain": [
       "<Figure size 432x288 with 1 Axes>"
      ]
     },
     "metadata": {},
     "output_type": "display_data"
    }
   ],
   "source": [
    "plt.hist(errors_test, bins=range(0, 130, 10))"
   ]
  },
  {
   "cell_type": "code",
   "execution_count": 35,
   "metadata": {
    "collapsed": false
   },
   "outputs": [
    {
     "data": {
      "text/plain": [
       "23357.96989631653"
      ]
     },
     "execution_count": 35,
     "metadata": {},
     "output_type": "execute_result"
    }
   ],
   "source": [
    "np.sum(errors_test)"
   ]
  },
  {
   "cell_type": "markdown",
   "metadata": {},
   "source": [
    "### Confusion Matrix"
   ]
  },
  {
   "cell_type": "code",
   "execution_count": 36,
   "metadata": {
    "collapsed": false
   },
   "outputs": [
    {
     "data": {
      "image/png": "[encoded data removed]",
      "text/plain": [
       "<Figure size 432x288 with 2 Axes>"
      ]
     },
     "metadata": {},
     "output_type": "display_data"
    }
   ],
   "source": [
    "y_test_copy = np.copy(y_test)\n",
    "y_test_copy[y_test_copy < thershold] = 0\n",
    "y_test_copy[y_test_copy >= thershold] = 1\n",
    "\n",
    "predictions_test_copy = np.copy(predictions_test)\n",
    "predictions_test_copy[predictions_test_copy < thershold] = 0\n",
    "predictions_test_copy[predictions_test_copy >= thershold] = 1\n",
    "\n",
    "skplt.metrics.plot_confusion_matrix(y_test_copy, predictions_test_copy, normalize=True)\n",
    "plt.show()"
   ]
  },
  {
   "cell_type": "markdown",
   "metadata": {},
   "source": [
    "# k-FOLD  Train Test (k = 10)"
   ]
  },
  {
   "cell_type": "code",
   "execution_count": 37,
   "metadata": {
    "collapsed": false
   },
   "outputs": [
    {
     "name": "stdout",
     "output_type": "stream",
     "text": [
      "KFold(n_splits=10, random_state=42, shuffle=True)\n"
     ]
    }
   ],
   "source": [
    "kf = KFold(n_splits=10, random_state=42, shuffle=True)\n",
    "kf.get_n_splits(X_input)\n",
    "print(kf) "
   ]
  },
  {
   "cell_type": "code",
   "execution_count": 38,
   "metadata": {
    "collapsed": false
   },
   "outputs": [
    {
     "name": "stdout",
     "output_type": "stream",
     "text": [
      "=====================================\n",
      "(58982, 9)\n",
      "(6554, 9)\n",
      "(58982,)\n",
      "(6554,)\n"
     ]
    },
    {
     "data": {
      "image/png": "[encoded data removed]",
      "text/plain": [
       "<Figure size 432x288 with 1 Axes>"
      ]
     },
     "metadata": {},
     "output_type": "display_data"
    },
    {
     "name": "stdout",
     "output_type": "stream",
     "text": [
      "\n",
      "\n",
      "r2_score: \n",
      "0.16153048332967856\n",
      "\n",
      "\n",
      "Sum : 7813.874444961548\n",
      "Distribution\n"
     ]
    },
    {
     "data": {
      "image/png": "[encoded data removed]",
      "text/plain": [
       "<Figure size 432x288 with 1 Axes>"
      ]
     },
     "metadata": {},
     "output_type": "display_data"
    },
    {
     "name": "stdout",
     "output_type": "stream",
     "text": [
      "Confusion Matrix\n"
     ]
    },
    {
     "data": {
      "image/png": "[encoded data removed]",
      "text/plain": [
       "<Figure size 432x288 with 2 Axes>"
      ]
     },
     "metadata": {},
     "output_type": "display_data"
    },
    {
     "name": "stdout",
     "output_type": "stream",
     "text": [
      "\n",
      "\n",
      "=====================================\n",
      "(58982, 9)\n",
      "(6554, 9)\n",
      "(58982,)\n",
      "(6554,)\n"
     ]
    },
    {
     "data": {
      "image/png": "[encoded data removed]",
      "text/plain": [
       "<Figure size 432x288 with 1 Axes>"
      ]
     },
     "metadata": {},
     "output_type": "display_data"
    },
    {
     "name": "stdout",
     "output_type": "stream",
     "text": [
      "\n",
      "\n",
      "r2_score: \n",
      "0.15233187930107894\n",
      "\n",
      "\n",
      "Sum : 7569.220850944519\n",
      "Distribution\n"
     ]
    },
    {
     "data": {
      "image/png": "[encoded data removed]",
      "text/plain": [
       "<Figure size 432x288 with 1 Axes>"
      ]
     },
     "metadata": {},
     "output_type": "display_data"
    },
    {
     "name": "stdout",
     "output_type": "stream",
     "text": [
      "Confusion Matrix\n"
     ]
    },
    {
     "data": {
      "image/png": "[encoded data removed]",
      "text/plain": [
       "<Figure size 432x288 with 2 Axes>"
      ]
     },
     "metadata": {},
     "output_type": "display_data"
    },
    {
     "name": "stdout",
     "output_type": "stream",
     "text": [
      "\n",
      "\n",
      "=====================================\n",
      "(58982, 9)\n",
      "(6554, 9)\n",
      "(58982,)\n",
      "(6554,)\n"
     ]
    },
    {
     "data": {
      "image/png": "[encoded data removed]",
      "text/plain": [
       "<Figure size 432x288 with 1 Axes>"
      ]
     },
     "metadata": {},
     "output_type": "display_data"
    },
    {
     "name": "stdout",
     "output_type": "stream",
     "text": [
      "\n",
      "\n",
      "r2_score: \n",
      "0.17334735464782347\n",
      "\n",
      "\n",
      "Sum : 7866.479001998901\n",
      "Distribution\n"
     ]
    },
    {
     "data": {
      "image/png": "[encoded data removed]",
      "text/plain": [
       "<Figure size 432x288 with 1 Axes>"
      ]
     },
     "metadata": {},
     "output_type": "display_data"
    },
    {
     "name": "stdout",
     "output_type": "stream",
     "text": [
      "Confusion Matrix\n"
     ]
    },
    {
     "data": {
      "image/png": "[encoded data removed]",
      "text/plain": [
       "<Figure size 432x288 with 2 Axes>"
      ]
     },
     "metadata": {},
     "output_type": "display_data"
    },
    {
     "name": "stdout",
     "output_type": "stream",
     "text": [
      "\n",
      "\n",
      "=====================================\n",
      "(58982, 9)\n",
      "(6554, 9)\n",
      "(58982,)\n",
      "(6554,)\n"
     ]
    },
    {
     "data": {
      "image/png": "[encoded data removed]",
      "text/plain": [
       "<Figure size 432x288 with 1 Axes>"
      ]
     },
     "metadata": {},
     "output_type": "display_data"
    },
    {
     "name": "stdout",
     "output_type": "stream",
     "text": [
      "\n",
      "\n",
      "r2_score: \n",
      "0.19760737871962963\n",
      "\n",
      "\n",
      "Sum : 7809.336296081543\n",
      "Distribution\n"
     ]
    },
    {
     "data": {
      "image/png": "[encoded data removed]",
      "text/plain": [
       "<Figure size 432x288 with 1 Axes>"
      ]
     },
     "metadata": {},
     "output_type": "display_data"
    },
    {
     "name": "stdout",
     "output_type": "stream",
     "text": [
      "Confusion Matrix\n"
     ]
    },
    {
     "data": {
      "image/png": "[encoded data removed]",
      "text/plain": [
       "<Figure size 432x288 with 2 Axes>"
      ]
     },
     "metadata": {},
     "output_type": "display_data"
    },
    {
     "name": "stdout",
     "output_type": "stream",
     "text": [
      "\n",
      "\n",
      "=====================================\n",
      "(58982, 9)\n",
      "(6554, 9)\n",
      "(58982,)\n",
      "(6554,)\n"
     ]
    },
    {
     "data": {
      "image/png": "[encoded data removed]",
      "text/plain": [
       "<Figure size 432x288 with 1 Axes>"
      ]
     },
     "metadata": {},
     "output_type": "display_data"
    },
    {
     "name": "stdout",
     "output_type": "stream",
     "text": [
      "\n",
      "\n",
      "r2_score: \n",
      "0.14541091638108428\n",
      "\n",
      "\n",
      "Sum : 7719.88258934021\n",
      "Distribution\n"
     ]
    },
    {
     "data": {
      "image/png": "[encoded data removed]",
      "text/plain": [
       "<Figure size 432x288 with 1 Axes>"
      ]
     },
     "metadata": {},
     "output_type": "display_data"
    },
    {
     "name": "stdout",
     "output_type": "stream",
     "text": [
      "Confusion Matrix\n"
     ]
    },
    {
     "data": {
      "image/png": "[encoded data removed]",
      "text/plain": [
       "<Figure size 432x288 with 2 Axes>"
      ]
     },
     "metadata": {},
     "output_type": "display_data"
    },
    {
     "name": "stdout",
     "output_type": "stream",
     "text": [
      "\n",
      "\n",
      "=====================================\n",
      "(58982, 9)\n",
      "(6554, 9)\n",
      "(58982,)\n",
      "(6554,)\n"
     ]
    },
    {
     "data": {
      "image/png": "[encoded data removed]",
      "text/plain": [
       "<Figure size 432x288 with 1 Axes>"
      ]
     },
     "metadata": {},
     "output_type": "display_data"
    },
    {
     "name": "stdout",
     "output_type": "stream",
     "text": [
      "\n",
      "\n",
      "r2_score: \n",
      "0.18703771034386318\n",
      "\n",
      "\n",
      "Sum : 7825.038775444031\n",
      "Distribution\n"
     ]
    },
    {
     "data": {
      "image/png": "[encoded data removed]",
      "text/plain": [
       "<Figure size 432x288 with 1 Axes>"
      ]
     },
     "metadata": {},
     "output_type": "display_data"
    },
    {
     "name": "stdout",
     "output_type": "stream",
     "text": [
      "Confusion Matrix\n"
     ]
    },
    {
     "data": {
      "image/png": "[encoded data removed]",
      "text/plain": [
       "<Figure size 432x288 with 2 Axes>"
      ]
     },
     "metadata": {},
     "output_type": "display_data"
    },
    {
     "name": "stdout",
     "output_type": "stream",
     "text": [
      "\n",
      "\n",
      "=====================================\n",
      "(58983, 9)\n",
      "(6553, 9)\n",
      "(58983,)\n",
      "(6553,)\n"
     ]
    },
    {
     "data": {
      "image/png": "[encoded data removed]",
      "text/plain": [
       "<Figure size 432x288 with 1 Axes>"
      ]
     },
     "metadata": {},
     "output_type": "display_data"
    },
    {
     "name": "stdout",
     "output_type": "stream",
     "text": [
      "\n",
      "\n",
      "r2_score: \n",
      "0.170732627297147\n",
      "\n",
      "\n",
      "Sum : 7827.78470993042\n",
      "Distribution\n"
     ]
    },
    {
     "data": {
      "image/png": "[encoded data removed]",
      "text/plain": [
       "<Figure size 432x288 with 1 Axes>"
      ]
     },
     "metadata": {},
     "output_type": "display_data"
    },
    {
     "name": "stdout",
     "output_type": "stream",
     "text": [
      "Confusion Matrix\n"
     ]
    },
    {
     "data": {
      "image/png": "[encoded data removed]",
      "text/plain": [
       "<Figure size 432x288 with 2 Axes>"
      ]
     },
     "metadata": {},
     "output_type": "display_data"
    },
    {
     "name": "stdout",
     "output_type": "stream",
     "text": [
      "\n",
      "\n",
      "=====================================\n",
      "(58983, 9)\n",
      "(6553, 9)\n",
      "(58983,)\n",
      "(6553,)\n"
     ]
    },
    {
     "data": {
      "image/png": "[encoded data removed]",
      "text/plain": [
       "<Figure size 432x288 with 1 Axes>"
      ]
     },
     "metadata": {},
     "output_type": "display_data"
    },
    {
     "name": "stdout",
     "output_type": "stream",
     "text": [
      "\n",
      "\n",
      "r2_score: \n",
      "0.1808501807852687\n",
      "\n",
      "\n",
      "Sum : 7405.33953666687\n",
      "Distribution\n"
     ]
    },
    {
     "data": {
      "image/png": "[encoded data removed]",
      "text/plain": [
       "<Figure size 432x288 with 1 Axes>"
      ]
     },
     "metadata": {},
     "output_type": "display_data"
    },
    {
     "name": "stdout",
     "output_type": "stream",
     "text": [
      "Confusion Matrix\n"
     ]
    },
    {
     "data": {
      "image/png": "[encoded data removed]",
      "text/plain": [
       "<Figure size 432x288 with 2 Axes>"
      ]
     },
     "metadata": {},
     "output_type": "display_data"
    },
    {
     "name": "stdout",
     "output_type": "stream",
     "text": [
      "\n",
      "\n",
      "=====================================\n",
      "(58983, 9)\n",
      "(6553, 9)\n",
      "(58983,)\n",
      "(6553,)\n"
     ]
    },
    {
     "data": {
      "image/png": "[encoded data removed]",
      "text/plain": [
       "<Figure size 432x288 with 1 Axes>"
      ]
     },
     "metadata": {},
     "output_type": "display_data"
    },
    {
     "name": "stdout",
     "output_type": "stream",
     "text": [
      "\n",
      "\n",
      "r2_score: \n",
      "0.17892371479950664\n",
      "\n",
      "\n",
      "Sum : 7451.035137176514\n",
      "Distribution\n"
     ]
    },
    {
     "data": {
      "image/png": "[encoded data removed]",
      "text/plain": [
       "<Figure size 432x288 with 1 Axes>"
      ]
     },
     "metadata": {},
     "output_type": "display_data"
    },
    {
     "name": "stdout",
     "output_type": "stream",
     "text": [
      "Confusion Matrix\n"
     ]
    },
    {
     "data": {
      "image/png": "[encoded data removed]",
      "text/plain": [
       "<Figure size 432x288 with 2 Axes>"
      ]
     },
     "metadata": {},
     "output_type": "display_data"
    },
    {
     "name": "stdout",
     "output_type": "stream",
     "text": [
      "\n",
      "\n",
      "=====================================\n",
      "(58983, 9)\n",
      "(6553, 9)\n",
      "(58983,)\n",
      "(6553,)\n"
     ]
    },
    {
     "data": {
      "image/png": "[encoded data removed]",
      "text/plain": [
       "<Figure size 432x288 with 1 Axes>"
      ]
     },
     "metadata": {},
     "output_type": "display_data"
    },
    {
     "name": "stdout",
     "output_type": "stream",
     "text": [
      "\n",
      "\n",
      "r2_score: \n",
      "0.18921996710369382\n",
      "\n",
      "\n",
      "Sum : 7565.217452049255\n",
      "Distribution\n"
     ]
    },
    {
     "data": {
      "image/png": "[encoded data removed]",
      "text/plain": [
       "<Figure size 432x288 with 1 Axes>"
      ]
     },
     "metadata": {},
     "output_type": "display_data"
    },
    {
     "name": "stdout",
     "output_type": "stream",
     "text": [
      "Confusion Matrix\n"
     ]
    },
    {
     "data": {
      "image/png": "[encoded data removed]",
      "text/plain": [
       "<Figure size 432x288 with 2 Axes>"
      ]
     },
     "metadata": {},
     "output_type": "display_data"
    },
    {
     "name": "stdout",
     "output_type": "stream",
     "text": [
      "\n",
      "\n"
     ]
    }
   ],
   "source": [
    "for train_index, test_index in kf.split(X_input):\n",
    "    print(\"=====================================\")\n",
    "    X_train, X_test = X_input[train_index], X_input[test_index]\n",
    "    y_train, y_test = Y_output[train_index], Y_output[test_index]\n",
    "    \n",
    "    print(X_train.shape)\n",
    "    print(X_test.shape)\n",
    "    print(y_train.shape)\n",
    "    print(y_test.shape)\n",
    "    \n",
    "    reg_train = linear_model.LinearRegression()\n",
    "    reg_train.fit(X_train, y_train)\n",
    "    \n",
    "    \n",
    "    df = pd.DataFrame({'Bands':input_names, 'coeff':reg_train.coef_})\n",
    "    df.plot.bar(x='Bands', y='coeff', rot=0, color=('g'))\n",
    "    plt.show()\n",
    "    \n",
    "    predictions_test = reg_train.predict(X_test)\n",
    "    \n",
    "    print(\"\\n\")\n",
    "    print(\"r2_score: \")\n",
    "    print(r2_score(y_test, predictions_test))\n",
    "    print(\"\\n\")\n",
    "    \n",
    "    errors_test = abs(predictions_test - y_test)\n",
    "    print(\"Sum :\", np.sum(errors_test))\n",
    "    print(\"Distribution\")\n",
    "    plt.hist(errors_test, bins='auto')\n",
    "    plt.show()\n",
    "    \n",
    "    y_test_copy = np.copy(y_test)\n",
    "    y_test_copy[y_test_copy < thershold] = 0\n",
    "    y_test_copy[y_test_copy >= thershold] = 1\n",
    "\n",
    "    predictions_test_copy = np.copy(predictions_test)\n",
    "    predictions_test_copy[predictions_test_copy < thershold] = 0\n",
    "    predictions_test_copy[predictions_test_copy >= thershold] = 1\n",
    "    \n",
    "    print(\"Confusion Matrix\")\n",
    "    skplt.metrics.plot_confusion_matrix(y_test_copy, predictions_test_copy, normalize=True)\n",
    "    plt.show()\n",
    "\n",
    "    print(\"\\n\")"
   ]
  }
 ],
 "metadata": {
  "kernelspec": {
   "display_name": "Python3",
   "language": "python",
   "name": "python3"
  },
  "language_info": {
   "codemirror_mode": {
    "name": "ipython",
    "version": 3
   },
   "file_extension": ".py",
   "mimetype": "text/x-python",
   "name": "python",
   "nbconvert_exporter": "python",
   "pygments_lexer": "ipython3",
   "version": "3.6.2"
  }
 },
 "nbformat": 4,
 "nbformat_minor": 0
}
