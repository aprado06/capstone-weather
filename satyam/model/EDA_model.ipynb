{
 "cells": [
  {
   "cell_type": "code",
   "execution_count": null,
   "metadata": {
    "collapsed": true
   },
   "outputs": [],
   "source": [
    "import pygrib"
   ]
  },
  {
   "cell_type": "code",
   "execution_count": null,
   "metadata": {
    "collapsed": true
   },
   "outputs": [],
   "source": [
    "grbs = pygrib.open('/Users/satyamsharma/Documents/CAPSTONE/Project/DATA/model/namanl_218_20171229_1800_000.grb2')"
   ]
  },
  {
   "cell_type": "code",
   "execution_count": null,
   "metadata": {},
   "outputs": [],
   "source": [
    "grbs"
   ]
  },
  {
   "cell_type": "code",
   "execution_count": null,
   "metadata": {},
   "outputs": [],
   "source": [
    "grbs.seek(0)\n",
    "for g in grbs:\n",
    "    print(g)"
   ]
  },
  {
   "cell_type": "code",
   "execution_count": null,
   "metadata": {},
   "outputs": [],
   "source": [
    "grbs.seek(0)\n",
    "for g in grbs:\n",
    "    print(\"\\n level\")\n",
    "    print(g.level)\n",
    "    print(\"\\n name\")\n",
    "    print(g.name)\n",
    "    print(\"\\n\")\n",
    "    print(\"\\n\")"
   ]
  },
  {
   "cell_type": "code",
   "execution_count": null,
   "metadata": {},
   "outputs": [],
   "source": [
    "type(grbs[1])"
   ]
  },
  {
   "cell_type": "code",
   "execution_count": null,
   "metadata": {},
   "outputs": [],
   "source": [
    "import numpy as np\n",
    "grbs.seek(0)\n",
    "i = 0;\n",
    "for gc in grbs:\n",
    "    i+=1;\n",
    "    \n",
    "print(i)"
   ]
  },
  {
   "cell_type": "code",
   "execution_count": null,
   "metadata": {},
   "outputs": [],
   "source": [
    "grbs[1].latlon()"
   ]
  },
  {
   "cell_type": "code",
   "execution_count": null,
   "metadata": {
    "collapsed": true
   },
   "outputs": [],
   "source": [
    "grbs.seek(0)\n",
    "for s in grbs[1]\n",
    "    print(s)"
   ]
  },
  {
   "cell_type": "code",
   "execution_count": null,
   "metadata": {
    "collapsed": true
   },
   "outputs": [],
   "source": [
    "grbs.seek(0)\n",
    "for i in range(1, 447):\n",
    "    if(grbs[1].keys() != grbs[i].keys()):\n",
    "        print(i)\n",
    "        print(\"\\n not same\")\n",
    "        print(\"\\n\\n\")"
   ]
  },
  {
   "cell_type": "code",
   "execution_count": null,
   "metadata": {},
   "outputs": [],
   "source": [
    "grbs[1].average"
   ]
  },
  {
   "cell_type": "code",
   "execution_count": null,
   "metadata": {},
   "outputs": [],
   "source": [
    "np.mean(grbs[1].values)"
   ]
  },
  {
   "cell_type": "code",
   "execution_count": null,
   "metadata": {},
   "outputs": [],
   "source": [
    "grbs.select(name='Temperature')"
   ]
  },
  {
   "cell_type": "code",
   "execution_count": null,
   "metadata": {},
   "outputs": [],
   "source": [
    "grbs.select(name='Temperature')[2].keys()"
   ]
  },
  {
   "cell_type": "code",
   "execution_count": null,
   "metadata": {},
   "outputs": [],
   "source": [
    "np.size(grbs.select(name='Temperature'))"
   ]
  },
  {
   "cell_type": "code",
   "execution_count": null,
   "metadata": {},
   "outputs": [],
   "source": [
    "print(grbs.select(name='Temperature')[2].values)\n",
    "print(np.shape(grbs.select(name='Temperature')[2].values))"
   ]
  },
  {
   "cell_type": "code",
   "execution_count": null,
   "metadata": {},
   "outputs": [],
   "source": [
    "import pylab as plt\n",
    "plt.imshow(grbs.select(name='Temperature')[2].values)\n",
    "plt.show()"
   ]
  },
  {
   "cell_type": "code",
   "execution_count": null,
   "metadata": {},
   "outputs": [],
   "source": [
    "from mpl_toolkits.basemap import Basemap\n",
    "import matplotlib.pyplot as plt\n",
    "\n",
    "grb = grbs.select(name='Temperature')[0]\n",
    "data=grb.values\n",
    "lat,lon = grb.latlons()\n",
    "\n",
    "\n",
    "m=Basemap(projection='mill',lat_ts=10,llcrnrlon=lon.min(), \\\n",
    "  urcrnrlon=lon.max(),llcrnrlat=lat.min(),urcrnrlat=lat.max(), \\\n",
    "  resolution='c')\n",
    "\n",
    "x, y = m(lon,lat)\n",
    "cs = m.pcolormesh(x,y,data,shading='flat',cmap=plt.cm.jet)\n",
    "\n",
    "plt.title('window of the grib lat/long')\n",
    "plt.show()"
   ]
  },
  {
   "cell_type": "code",
   "execution_count": null,
   "metadata": {},
   "outputs": [],
   "source": []
  },
  {
   "cell_type": "code",
   "execution_count": null,
   "metadata": {
    "collapsed": true
   },
   "outputs": [],
   "source": [
    "\n",
    "Convert the lat/lon values to x/y projections.\n",
    "x, y = m(lon,lat)\n",
    "Next, plot the field using the fast pcolormesh routine and set the colormap to jet.\n",
    "cs = m.pcolormesh(x,y,data,shading='flat',cmap=plt.cm.jet)\n",
    "Add a coastline and axis values.\n",
    "m.drawcoastlines()\n",
    "m.fillcontinents()\n",
    "m.drawmapboundary()\n",
    "m.drawparallels(np.arange(-90.,120.,30.),labels=[1,0,0,0])\n",
    "m.drawmeridians(np.arange(-180.,180.,60.),labels=[0,0,0,1])\n",
    "Add a colorbar and title, and then show the plot.\n",
    "plt.colorbar(cs,orientation='vertical')\n",
    "plt.title('Example 2: NWW3 Significant Wave Height from GRiB')\n",
    "plt.show()"
   ]
  },
  {
   "cell_type": "code",
   "execution_count": null,
   "metadata": {},
   "outputs": [],
   "source": [
    "ax = sns.heatmap(temp_surf)"
   ]
  },
  {
   "cell_type": "code",
   "execution_count": null,
   "metadata": {
    "collapsed": true
   },
   "outputs": [],
   "source": [
    "import pygrib\n",
    "from matplotlib import pyplot as plt\n",
    "from matplotlib import colors\n",
    "import numpy as np\n",
    "from mpl_toolkits.basemap import Basemap\n",
    "\n",
    "%matplotlib inline"
   ]
  },
  {
   "cell_type": "code",
   "execution_count": null,
   "metadata": {},
   "outputs": [],
   "source": [
    "for grb in grbs[:5]:\n",
    "    print grb"
   ]
  },
  {
   "cell_type": "code",
   "execution_count": null,
   "metadata": {},
   "outputs": [],
   "source": [
    "print grb.keys()"
   ]
  },
  {
   "cell_type": "code",
   "execution_count": null,
   "metadata": {},
   "outputs": [],
   "source": [
    "lats, lons = grb.latlons()  # get the lats and lons for the grid.\n",
    "print 'min/max lat and lon',lats.min(), lats.max(), lons.min(), lons.max()"
   ]
  },
  {
   "cell_type": "code",
   "execution_count": null,
   "metadata": {},
   "outputs": [],
   "source": [
    "fig = plt.figure(figsize=(16,35))\n",
    "m = Basemap(projection='lcc',lon_0=-74,lat_0=41,width=4.e6,height=4.e6)\n"
   ]
  },
  {
   "cell_type": "code",
   "execution_count": null,
   "metadata": {},
   "outputs": [],
   "source": [
    "# basic NOMADS OpenDAP extraction and plotting script\n",
    "from mpl_toolkits.basemap import Basemap\n",
    "import numpy as np\n",
    "import matplotlib.pyplot as plt\n",
    "import netCDF4\n",
    "\n",
    "# set up the figure\n",
    "plt.figure()\n",
    "\n",
    "# set up the URL to access the data server.\n",
    "# See the NWW3 directory on NOMADS \n",
    "# for the list of available model run dates.\n",
    "\n",
    "#mydate='20180424'\n",
    "#url='http://nomads.ncep.noaa.gov:9090/dods/wave/nww3/nww3'+ \\\n",
    "    mydate+'/nww3'+mydate+'_00z'\n",
    "\n",
    "# Extract the significant wave height of combined wind waves and swell\n",
    "\n",
    "file = netCDF4.Dataset(url)\n",
    "lat  = file.variables['lat'][:]\n",
    "lon  = file.variables['lon'][:]\n",
    "data = file.variables['htsgwsfc'][1,:,:]\n",
    "file.close()\n",
    "\n",
    "# Since Python is object oriented, you can explore the contents of the NOMADS\n",
    "# data set by examining the file object, such as file.variables.\n",
    "\n",
    "# The indexing into the data set used by netCDF4 is standard python indexing.\n",
    "# In this case we want the first forecast step, but note that the first time \n",
    "# step in the RTOFS OpenDAP link is all NaN values.  So we start with the \n",
    "# second timestep\n",
    "\n",
    "# Plot the field using Basemap.  Start with setting the map\n",
    "# projection using the limits of the lat/lon data itself:\n",
    "\n",
    "m=Basemap(projection='lcc',lat_ts=10,llcrnrlon=82, \\\n",
    "  urcrnrlon=102,llcrnrlat=131,urcrnrlat=41, \\\n",
    "  resolution='c')\n",
    "\n",
    "# convert the lat/lon values to x/y projections.\n",
    "\n",
    "#x, y = m(*np.meshgrid(lon,lat))\n",
    "\n",
    "# plot the field using the fast pcolormesh routine \n",
    "# set the colormap to jet.\n",
    "\n",
    "#m.pcolormesh(x,y,data,shading='flat',cmap=plt.cm.jet)\n",
    "#m.colorbar(location='right')\n",
    "\n",
    "# Add a coastline and axis values.\n",
    "\n",
    "m.drawcoastlines()\n",
    "m.fillcontinents()\n",
    "m.drawmapboundary()\n",
    "m.drawparallels(np.arange(-90.,120.,30.),labels=[1,0,0,0])\n",
    "m.drawmeridians(np.arange(-180.,180.,60.),labels=[0,0,0,1])\n",
    "\n",
    "# Add a colorbar and title, and then show the plot.\n",
    "\n",
    "plt.title('Example 1: NWW3 Significant Wave Height from NOMADS')\n",
    "plt.show()"
   ]
  },
  {
   "cell_type": "code",
   "execution_count": null,
   "metadata": {},
   "outputs": [],
   "source": [
    "file = netCDF4.Dataset(url)\n",
    "file"
   ]
  },
  {
   "cell_type": "code",
   "execution_count": null,
   "metadata": {},
   "outputs": [],
   "source": [
    "file.variables"
   ]
  },
  {
   "cell_type": "code",
   "execution_count": null,
   "metadata": {},
   "outputs": [],
   "source": [
    "help(Basemap)"
   ]
  },
  {
   "cell_type": "code",
   "execution_count": null,
   "metadata": {
    "collapsed": true
   },
   "outputs": [],
   "source": [
    "from mpl_toolkits.basemap import Basemap\n",
    "grb = grbs.select(name='Temperature')[0]\n",
    "lat,lon = grb.latlons()"
   ]
  },
  {
   "cell_type": "code",
   "execution_count": null,
   "metadata": {},
   "outputs": [],
   "source": [
    "lat"
   ]
  },
  {
   "cell_type": "code",
   "execution_count": null,
   "metadata": {},
   "outputs": [],
   "source": [
    "lon"
   ]
  },
  {
   "cell_type": "code",
   "execution_count": null,
   "metadata": {
    "collapsed": true
   },
   "outputs": [],
   "source": []
  }
 ],
 "metadata": {
  "kernelspec": {
   "display_name": "Python 3",
   "language": "python",
   "name": "python3"
  },
  "language_info": {
   "codemirror_mode": {
    "name": "ipython",
    "version": 3
   },
   "file_extension": ".py",
   "mimetype": "text/x-python",
   "name": "python",
   "nbconvert_exporter": "python",
   "pygments_lexer": "ipython3",
   "version": "3.6.3"
  }
 },
 "nbformat": 4,
 "nbformat_minor": 2
}
