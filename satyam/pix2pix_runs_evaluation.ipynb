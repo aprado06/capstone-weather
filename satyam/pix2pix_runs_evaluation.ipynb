{
 "cells": [
  {
   "cell_type": "code",
   "execution_count": 1,
   "metadata": {
    "collapsed": true
   },
   "outputs": [],
   "source": [
    "import capstone_eval as ce\n",
    "from bs4 import BeautifulSoup as bs\n",
    "import numpy as np"
   ]
  },
  {
   "cell_type": "code",
   "execution_count": 2,
   "metadata": {
    "collapsed": true
   },
   "outputs": [],
   "source": [
    "def extract_imgs(directory):\n",
    "    soup = bs(open(directory + '/index.html'), \"html.parser\")\n",
    "    image_tags = soup.findAll('img')\n",
    "    inp, out, targ = [], [], []\n",
    "    for image_tag in range(0,len(image_tags),3):\n",
    "        inp.append(directory + '/' + image_tags[image_tag].get('src'))\n",
    "        out.append(directory + '/' + image_tags[image_tag+1].get('src'))\n",
    "        targ.append(directory + '/' + image_tags[image_tag+2].get('src'))\n",
    "    return inp, out, targ"
   ]
  },
  {
   "cell_type": "code",
   "execution_count": 3,
   "metadata": {
    "collapsed": true
   },
   "outputs": [],
   "source": [
    "pix2pix_run_dir = '/home/satyam/Desktop/CAPSTONE/DATA/run1'\n",
    "test_out = pix2pix_run_dir + '/test_out'\n",
    "train_out = pix2pix_run_dir + '/train_out'"
   ]
  },
  {
   "cell_type": "code",
   "execution_count": 4,
   "metadata": {
    "collapsed": true
   },
   "outputs": [],
   "source": [
    "input_images_links, output_images_links, target_images_links = extract_imgs(test_out)"
   ]
  },
  {
   "cell_type": "code",
   "execution_count": null,
   "metadata": {
    "collapsed": true
   },
   "outputs": [],
   "source": []
  }
 ],
 "metadata": {
  "kernelspec": {
   "display_name": "Python 3",
   "language": "python",
   "name": "python3"
  },
  "language_info": {
   "codemirror_mode": {
    "name": "ipython",
    "version": 3
   },
   "file_extension": ".py",
   "mimetype": "text/x-python",
   "name": "python",
   "nbconvert_exporter": "python",
   "pygments_lexer": "ipython3",
   "version": "3.6.1"
  }
 },
 "nbformat": 4,
 "nbformat_minor": 2
}
