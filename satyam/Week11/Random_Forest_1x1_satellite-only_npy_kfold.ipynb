{
 "cells": [
  {
   "cell_type": "code",
   "execution_count": 1,
   "metadata": {
    "collapsed": true
   },
   "outputs": [],
   "source": [
    "from sklearn.ensemble import RandomForestRegressor\n",
    "import numpy as np\n",
    "from sklearn.model_selection import KFold\n",
    "\n",
    "import matplotlib.pyplot as plt; \n",
    "import pandas as pd\n",
    "plt.rcdefaults()\n",
    "%matplotlib inline\n",
    "\n",
    "import PIL\n",
    "import glob\n",
    "import scikitplot as skplt"
   ]
  },
  {
   "cell_type": "code",
   "execution_count": 2,
   "metadata": {
    "collapsed": true
   },
   "outputs": [],
   "source": [
    "X_input = []\n",
    "input_names = [\"Band 1\", \"Band 2\", \"Band 3\", \"Band 4\", \"Band 6\"]\n",
    "X_names = np.asarray(input_names)\n",
    "\n",
    "Y_output = []"
   ]
  },
  {
   "cell_type": "code",
   "execution_count": 3,
   "metadata": {},
   "outputs": [
    {
     "data": {
      "text/plain": [
       "['../satyam_rad_sat_mod_npy/sa1_npy/sat.2017030620.npy',\n",
       " '../satyam_rad_sat_mod_npy/sa1_npy/sat.2017010216.npy',\n",
       " '../satyam_rad_sat_mod_npy/sa1_npy/sat.2017030920.npy',\n",
       " '../satyam_rad_sat_mod_npy/sa1_npy/sat.2017010218.npy',\n",
       " '../satyam_rad_sat_mod_npy/sa1_npy/sat.2017030919.npy',\n",
       " '../satyam_rad_sat_mod_npy/sa1_npy/sat.2017010219.npy',\n",
       " '../satyam_rad_sat_mod_npy/sa1_npy/sat.2017031318.npy',\n",
       " '../satyam_rad_sat_mod_npy/sa1_npy/sat.2017010220.npy',\n",
       " '../satyam_rad_sat_mod_npy/sa1_npy/sat.2017031319.npy',\n",
       " '../satyam_rad_sat_mod_npy/sa1_npy/sat.2017012116.npy',\n",
       " '../satyam_rad_sat_mod_npy/sa1_npy/sat.2017031320.npy',\n",
       " '../satyam_rad_sat_mod_npy/sa1_npy/sat.2017012118.npy',\n",
       " '../satyam_rad_sat_mod_npy/sa1_npy/sat.2017032119.npy',\n",
       " '../satyam_rad_sat_mod_npy/sa1_npy/sat.2017012119.npy',\n",
       " '../satyam_rad_sat_mod_npy/sa1_npy/sat.2017032716.npy',\n",
       " '../satyam_rad_sat_mod_npy/sa1_npy/sat.2017012120.npy',\n",
       " '../satyam_rad_sat_mod_npy/sa1_npy/sat.2017032718.npy',\n",
       " '../satyam_rad_sat_mod_npy/sa1_npy/sat.2017012216.npy',\n",
       " '../satyam_rad_sat_mod_npy/sa1_npy/sat.2017032719.npy',\n",
       " '../satyam_rad_sat_mod_npy/sa1_npy/sat.2017012218.npy',\n",
       " '../satyam_rad_sat_mod_npy/sa1_npy/sat.2017032720.npy',\n",
       " '../satyam_rad_sat_mod_npy/sa1_npy/sat.2017012219.npy',\n",
       " '../satyam_rad_sat_mod_npy/sa1_npy/sat.2017032818.npy',\n",
       " '../satyam_rad_sat_mod_npy/sa1_npy/sat.2017012220.npy',\n",
       " '../satyam_rad_sat_mod_npy/sa1_npy/sat.2017032819.npy',\n",
       " '../satyam_rad_sat_mod_npy/sa1_npy/sat.2017012418.npy',\n",
       " '../satyam_rad_sat_mod_npy/sa1_npy/sat.2017032820.npy',\n",
       " '../satyam_rad_sat_mod_npy/sa1_npy/sat.2017012419.npy',\n",
       " '../satyam_rad_sat_mod_npy/sa1_npy/sat.2017032918.npy',\n",
       " '../satyam_rad_sat_mod_npy/sa1_npy/sat.2017012420.npy',\n",
       " '../satyam_rad_sat_mod_npy/sa1_npy/sat.2017032919.npy',\n",
       " '../satyam_rad_sat_mod_npy/sa1_npy/sat.2017020620.npy',\n",
       " '../satyam_rad_sat_mod_npy/sa1_npy/sat.2017032920.npy',\n",
       " '../satyam_rad_sat_mod_npy/sa1_npy/sat.2017020716.npy',\n",
       " '../satyam_rad_sat_mod_npy/sa1_npy/sat.2017033018.npy',\n",
       " '../satyam_rad_sat_mod_npy/sa1_npy/sat.2017020718.npy',\n",
       " '../satyam_rad_sat_mod_npy/sa1_npy/sat.2017033019.npy',\n",
       " '../satyam_rad_sat_mod_npy/sa1_npy/sat.2017020719.npy',\n",
       " '../satyam_rad_sat_mod_npy/sa1_npy/sat.2017033020.npy',\n",
       " '../satyam_rad_sat_mod_npy/sa1_npy/sat.2017020720.npy',\n",
       " '../satyam_rad_sat_mod_npy/sa1_npy/sat.2017040119.npy',\n",
       " '../satyam_rad_sat_mod_npy/sa1_npy/sat.2017021116.npy',\n",
       " '../satyam_rad_sat_mod_npy/sa1_npy/sat.2017040120.npy',\n",
       " '../satyam_rad_sat_mod_npy/sa1_npy/sat.2017021120.npy',\n",
       " '../satyam_rad_sat_mod_npy/sa1_npy/sat.2017040216.npy',\n",
       " '../satyam_rad_sat_mod_npy/sa1_npy/sat.2017021416.npy',\n",
       " '../satyam_rad_sat_mod_npy/sa1_npy/sat.2017040218.npy',\n",
       " '../satyam_rad_sat_mod_npy/sa1_npy/sat.2017021418.npy',\n",
       " '../satyam_rad_sat_mod_npy/sa1_npy/sat.2017040219.npy',\n",
       " '../satyam_rad_sat_mod_npy/sa1_npy/sat.2017021419.npy',\n",
       " '../satyam_rad_sat_mod_npy/sa1_npy/sat.2017040220.npy',\n",
       " '../satyam_rad_sat_mod_npy/sa1_npy/sat.2017021420.npy',\n",
       " '../satyam_rad_sat_mod_npy/sa1_npy/sat.2017040316.npy',\n",
       " '../satyam_rad_sat_mod_npy/sa1_npy/sat.2017022316.npy',\n",
       " '../satyam_rad_sat_mod_npy/sa1_npy/sat.2017040318.npy',\n",
       " '../satyam_rad_sat_mod_npy/sa1_npy/sat.2017022318.npy',\n",
       " '../satyam_rad_sat_mod_npy/sa1_npy/sat.2017040319.npy',\n",
       " '../satyam_rad_sat_mod_npy/sa1_npy/sat.2017022319.npy',\n",
       " '../satyam_rad_sat_mod_npy/sa1_npy/sat.2017040320.npy',\n",
       " '../satyam_rad_sat_mod_npy/sa1_npy/sat.2017022320.npy',\n",
       " '../satyam_rad_sat_mod_npy/sa1_npy/sat.2017040420.npy',\n",
       " '../satyam_rad_sat_mod_npy/sa1_npy/sat.2017022416.npy',\n",
       " '../satyam_rad_sat_mod_npy/sa1_npy/sat.2017040516.npy',\n",
       " '../satyam_rad_sat_mod_npy/sa1_npy/sat.2017022418.npy',\n",
       " '../satyam_rad_sat_mod_npy/sa1_npy/sat.2017040518.npy',\n",
       " '../satyam_rad_sat_mod_npy/sa1_npy/sat.2017022419.npy',\n",
       " '../satyam_rad_sat_mod_npy/sa1_npy/sat.2017040519.npy',\n",
       " '../satyam_rad_sat_mod_npy/sa1_npy/sat.2017022420.npy',\n",
       " '../satyam_rad_sat_mod_npy/sa1_npy/sat.2017040520.npy',\n",
       " '../satyam_rad_sat_mod_npy/sa1_npy/sat.2017022516.npy',\n",
       " '../satyam_rad_sat_mod_npy/sa1_npy/sat.2017041216.npy',\n",
       " '../satyam_rad_sat_mod_npy/sa1_npy/sat.2017022518.npy',\n",
       " '../satyam_rad_sat_mod_npy/sa1_npy/sat.2017041218.npy',\n",
       " '../satyam_rad_sat_mod_npy/sa1_npy/sat.2017022519.npy',\n",
       " '../satyam_rad_sat_mod_npy/sa1_npy/sat.2017041219.npy',\n",
       " '../satyam_rad_sat_mod_npy/sa1_npy/sat.2017022816.npy',\n",
       " '../satyam_rad_sat_mod_npy/sa1_npy/sat.2017041220.npy',\n",
       " '../satyam_rad_sat_mod_npy/sa1_npy/sat.2017022818.npy',\n",
       " '../satyam_rad_sat_mod_npy/sa1_npy/sat.2017041520.npy',\n",
       " '../satyam_rad_sat_mod_npy/sa1_npy/sat.2017022819.npy',\n",
       " '../satyam_rad_sat_mod_npy/sa1_npy/sat.2017041719.npy',\n",
       " '../satyam_rad_sat_mod_npy/sa1_npy/sat.2017022820.npy',\n",
       " '../satyam_rad_sat_mod_npy/sa1_npy/sat.2017041720.npy',\n",
       " '../satyam_rad_sat_mod_npy/sa1_npy/sat.2017030118.npy',\n",
       " '../satyam_rad_sat_mod_npy/sa1_npy/sat.2017041916.npy',\n",
       " '../satyam_rad_sat_mod_npy/sa1_npy/sat.2017030119.npy',\n",
       " '../satyam_rad_sat_mod_npy/sa1_npy/sat.2017041918.npy',\n",
       " '../satyam_rad_sat_mod_npy/sa1_npy/sat.2017030120.npy',\n",
       " '../satyam_rad_sat_mod_npy/sa1_npy/sat.2017041919.npy',\n",
       " '../satyam_rad_sat_mod_npy/sa1_npy/sat.2017030419.npy',\n",
       " '../satyam_rad_sat_mod_npy/sa1_npy/sat.2017041920.npy',\n",
       " '../satyam_rad_sat_mod_npy/sa1_npy/sat.2017030420.npy',\n",
       " '../satyam_rad_sat_mod_npy/sa1_npy/sat.2017042016.npy',\n",
       " '../satyam_rad_sat_mod_npy/sa1_npy/sat.2017030616.npy',\n",
       " '../satyam_rad_sat_mod_npy/sa1_npy/sat.2017042018.npy',\n",
       " '../satyam_rad_sat_mod_npy/sa1_npy/sat.2017030618.npy',\n",
       " '../satyam_rad_sat_mod_npy/sa1_npy/sat.2017042019.npy',\n",
       " '../satyam_rad_sat_mod_npy/sa1_npy/sat.2017030619.npy',\n",
       " '../satyam_rad_sat_mod_npy/sa1_npy/sat.2017031416.npy',\n",
       " '../satyam_rad_sat_mod_npy/sa1_npy/sat.2017042020.npy',\n",
       " '../satyam_rad_sat_mod_npy/sa1_npy/sat.2017031418.npy',\n",
       " '../satyam_rad_sat_mod_npy/sa1_npy/sat.2017042116.npy',\n",
       " '../satyam_rad_sat_mod_npy/sa1_npy/sat.2017031419.npy',\n",
       " '../satyam_rad_sat_mod_npy/sa1_npy/sat.2017042118.npy',\n",
       " '../satyam_rad_sat_mod_npy/sa1_npy/sat.2017031420.npy',\n",
       " '../satyam_rad_sat_mod_npy/sa1_npy/sat.2017042119.npy',\n",
       " '../satyam_rad_sat_mod_npy/sa1_npy/sat.2017032116.npy',\n",
       " '../satyam_rad_sat_mod_npy/sa1_npy/sat.2017042120.npy',\n",
       " '../satyam_rad_sat_mod_npy/sa1_npy/sat.2017032118.npy',\n",
       " '../satyam_rad_sat_mod_npy/sa1_npy/sat.2017042416.npy',\n",
       " '../satyam_rad_sat_mod_npy/sa1_npy/sat.2017042418.npy',\n",
       " '../satyam_rad_sat_mod_npy/sa1_npy/sat.2017042419.npy',\n",
       " '../satyam_rad_sat_mod_npy/sa1_npy/sat.2017042520.npy',\n",
       " '../satyam_rad_sat_mod_npy/sa1_npy/sat.2017042616.npy',\n",
       " '../satyam_rad_sat_mod_npy/sa1_npy/sat.2017042618.npy',\n",
       " '../satyam_rad_sat_mod_npy/sa1_npy/sat.2017042619.npy',\n",
       " '../satyam_rad_sat_mod_npy/sa1_npy/sat.2017042620.npy',\n",
       " '../satyam_rad_sat_mod_npy/sa1_npy/sat.2017042816.npy',\n",
       " '../satyam_rad_sat_mod_npy/sa1_npy/sat.2017042818.npy',\n",
       " '../satyam_rad_sat_mod_npy/sa1_npy/sat.2017042819.npy',\n",
       " '../satyam_rad_sat_mod_npy/sa1_npy/sat.2017042820.npy',\n",
       " '../satyam_rad_sat_mod_npy/sa1_npy/sat.2017042916.npy',\n",
       " '../satyam_rad_sat_mod_npy/sa1_npy/sat.2017042919.npy',\n",
       " '../satyam_rad_sat_mod_npy/sa1_npy/sat.2017042920.npy',\n",
       " '../satyam_rad_sat_mod_npy/sa1_npy/sat.2017043016.npy',\n",
       " '../satyam_rad_sat_mod_npy/sa1_npy/sat.2017043018.npy',\n",
       " '../satyam_rad_sat_mod_npy/sa1_npy/sat.2017043019.npy',\n",
       " '../satyam_rad_sat_mod_npy/sa1_npy/sat.2017043020.npy',\n",
       " '../satyam_rad_sat_mod_npy/sa1_npy/sat.2017050116.npy',\n",
       " '../satyam_rad_sat_mod_npy/sa1_npy/sat.2017050118.npy',\n",
       " '../satyam_rad_sat_mod_npy/sa1_npy/sat.2017050119.npy',\n",
       " '../satyam_rad_sat_mod_npy/sa1_npy/sat.2017050120.npy',\n",
       " '../satyam_rad_sat_mod_npy/sa1_npy/sat.2017050316.npy',\n",
       " '../satyam_rad_sat_mod_npy/sa1_npy/sat.2017050318.npy',\n",
       " '../satyam_rad_sat_mod_npy/sa1_npy/sat.2017050319.npy',\n",
       " '../satyam_rad_sat_mod_npy/sa1_npy/sat.2017050320.npy',\n",
       " '../satyam_rad_sat_mod_npy/sa1_npy/sat.2017050416.npy',\n",
       " '../satyam_rad_sat_mod_npy/sa1_npy/sat.2017050418.npy',\n",
       " '../satyam_rad_sat_mod_npy/sa1_npy/sat.2017050420.npy',\n",
       " '../satyam_rad_sat_mod_npy/sa1_npy/sat.2017050918.npy',\n",
       " '../satyam_rad_sat_mod_npy/sa1_npy/sat.2017050919.npy',\n",
       " '../satyam_rad_sat_mod_npy/sa1_npy/sat.2017050920.npy',\n",
       " '../satyam_rad_sat_mod_npy/sa1_npy/sat.2017051119.npy',\n",
       " '../satyam_rad_sat_mod_npy/sa1_npy/sat.2017051120.npy',\n",
       " '../satyam_rad_sat_mod_npy/sa1_npy/sat.2017051518.npy',\n",
       " '../satyam_rad_sat_mod_npy/sa1_npy/sat.2017051520.npy',\n",
       " '../satyam_rad_sat_mod_npy/sa1_npy/sat.2017051619.npy',\n",
       " '../satyam_rad_sat_mod_npy/sa1_npy/sat.2017051620.npy',\n",
       " '../satyam_rad_sat_mod_npy/sa1_npy/sat.2017051716.npy',\n",
       " '../satyam_rad_sat_mod_npy/sa1_npy/sat.2017051718.npy',\n",
       " '../satyam_rad_sat_mod_npy/sa1_npy/sat.2017051719.npy',\n",
       " '../satyam_rad_sat_mod_npy/sa1_npy/sat.2017051720.npy',\n",
       " '../satyam_rad_sat_mod_npy/sa1_npy/sat.2017051816.npy',\n",
       " '../satyam_rad_sat_mod_npy/sa1_npy/sat.2017051818.npy',\n",
       " '../satyam_rad_sat_mod_npy/sa1_npy/sat.2017051819.npy',\n",
       " '../satyam_rad_sat_mod_npy/sa1_npy/sat.2017051820.npy',\n",
       " '../satyam_rad_sat_mod_npy/sa1_npy/sat.2017051916.npy',\n",
       " '../satyam_rad_sat_mod_npy/sa1_npy/sat.2017051918.npy',\n",
       " '../satyam_rad_sat_mod_npy/sa1_npy/sat.2017051919.npy',\n",
       " '../satyam_rad_sat_mod_npy/sa1_npy/sat.2017051920.npy',\n",
       " '../satyam_rad_sat_mod_npy/sa1_npy/sat.2017052316.npy',\n",
       " '../satyam_rad_sat_mod_npy/sa1_npy/sat.2017052318.npy',\n",
       " '../satyam_rad_sat_mod_npy/sa1_npy/sat.2017052319.npy',\n",
       " '../satyam_rad_sat_mod_npy/sa1_npy/sat.2017052320.npy',\n",
       " '../satyam_rad_sat_mod_npy/sa1_npy/sat.2017052416.npy',\n",
       " '../satyam_rad_sat_mod_npy/sa1_npy/sat.2017052418.npy',\n",
       " '../satyam_rad_sat_mod_npy/sa1_npy/sat.2017052419.npy',\n",
       " '../satyam_rad_sat_mod_npy/sa1_npy/sat.2017052420.npy',\n",
       " '../satyam_rad_sat_mod_npy/sa1_npy/sat.2017052520.npy',\n",
       " '../satyam_rad_sat_mod_npy/sa1_npy/sat.2017052618.npy',\n",
       " '../satyam_rad_sat_mod_npy/sa1_npy/sat.2017052619.npy',\n",
       " '../satyam_rad_sat_mod_npy/sa1_npy/sat.2017052620.npy',\n",
       " '../satyam_rad_sat_mod_npy/sa1_npy/sat.2017052716.npy',\n",
       " '../satyam_rad_sat_mod_npy/sa1_npy/sat.2017052718.npy',\n",
       " '../satyam_rad_sat_mod_npy/sa1_npy/sat.2017052719.npy',\n",
       " '../satyam_rad_sat_mod_npy/sa1_npy/sat.2017052720.npy',\n",
       " '../satyam_rad_sat_mod_npy/sa1_npy/sat.2017052819.npy',\n",
       " '../satyam_rad_sat_mod_npy/sa1_npy/sat.2017052820.npy',\n",
       " '../satyam_rad_sat_mod_npy/sa1_npy/sat.2017053016.npy',\n",
       " '../satyam_rad_sat_mod_npy/sa1_npy/sat.2017053018.npy',\n",
       " '../satyam_rad_sat_mod_npy/sa1_npy/sat.2017053019.npy',\n",
       " '../satyam_rad_sat_mod_npy/sa1_npy/sat.2017053020.npy',\n",
       " '../satyam_rad_sat_mod_npy/sa1_npy/sat.2017060518.npy',\n",
       " '../satyam_rad_sat_mod_npy/sa1_npy/sat.2017060519.npy',\n",
       " '../satyam_rad_sat_mod_npy/sa1_npy/sat.2017060520.npy',\n",
       " '../satyam_rad_sat_mod_npy/sa1_npy/sat.2017060719.npy',\n",
       " '../satyam_rad_sat_mod_npy/sa1_npy/sat.2017060720.npy',\n",
       " '../satyam_rad_sat_mod_npy/sa1_npy/sat.2017060818.npy',\n",
       " '../satyam_rad_sat_mod_npy/sa1_npy/sat.2017060819.npy',\n",
       " '../satyam_rad_sat_mod_npy/sa1_npy/sat.2017060820.npy',\n",
       " '../satyam_rad_sat_mod_npy/sa1_npy/sat.2017060920.npy',\n",
       " '../satyam_rad_sat_mod_npy/sa1_npy/sat.2017061216.npy',\n",
       " '../satyam_rad_sat_mod_npy/sa1_npy/sat.2017061218.npy',\n",
       " '../satyam_rad_sat_mod_npy/sa1_npy/sat.2017061219.npy',\n",
       " '../satyam_rad_sat_mod_npy/sa1_npy/sat.2017061220.npy',\n",
       " '../satyam_rad_sat_mod_npy/sa1_npy/sat.2017061316.npy',\n",
       " '../satyam_rad_sat_mod_npy/sa1_npy/sat.2017061318.npy',\n",
       " '../satyam_rad_sat_mod_npy/sa1_npy/sat.2017061320.npy',\n",
       " '../satyam_rad_sat_mod_npy/sa1_npy/sat.2017061518.npy',\n",
       " '../satyam_rad_sat_mod_npy/sa1_npy/sat.2017061519.npy',\n",
       " '../satyam_rad_sat_mod_npy/sa1_npy/sat.2017061520.npy',\n",
       " '../satyam_rad_sat_mod_npy/sa1_npy/sat.2017061718.npy',\n",
       " '../satyam_rad_sat_mod_npy/sa1_npy/sat.2017061719.npy',\n",
       " '../satyam_rad_sat_mod_npy/sa1_npy/sat.2017061720.npy',\n",
       " '../satyam_rad_sat_mod_npy/sa1_npy/sat.2017061916.npy',\n",
       " '../satyam_rad_sat_mod_npy/sa1_npy/sat.2017061918.npy',\n",
       " '../satyam_rad_sat_mod_npy/sa1_npy/sat.2017061919.npy',\n",
       " '../satyam_rad_sat_mod_npy/sa1_npy/sat.2017061920.npy',\n",
       " '../satyam_rad_sat_mod_npy/sa1_npy/sat.2017062016.npy',\n",
       " '../satyam_rad_sat_mod_npy/sa1_npy/sat.2017062018.npy',\n",
       " '../satyam_rad_sat_mod_npy/sa1_npy/sat.2017062019.npy',\n",
       " '../satyam_rad_sat_mod_npy/sa1_npy/sat.2017062020.npy',\n",
       " '../satyam_rad_sat_mod_npy/sa1_npy/sat.2017062116.npy',\n",
       " '../satyam_rad_sat_mod_npy/sa1_npy/sat.2017062118.npy',\n",
       " '../satyam_rad_sat_mod_npy/sa1_npy/sat.2017062119.npy',\n",
       " '../satyam_rad_sat_mod_npy/sa1_npy/sat.2017062120.npy',\n",
       " '../satyam_rad_sat_mod_npy/sa1_npy/sat.2017062216.npy',\n",
       " '../satyam_rad_sat_mod_npy/sa1_npy/sat.2017062218.npy',\n",
       " '../satyam_rad_sat_mod_npy/sa1_npy/sat.2017062219.npy',\n",
       " '../satyam_rad_sat_mod_npy/sa1_npy/sat.2017062220.npy',\n",
       " '../satyam_rad_sat_mod_npy/sa1_npy/sat.2017062316.npy',\n",
       " '../satyam_rad_sat_mod_npy/sa1_npy/sat.2017062318.npy',\n",
       " '../satyam_rad_sat_mod_npy/sa1_npy/sat.2017062319.npy',\n",
       " '../satyam_rad_sat_mod_npy/sa1_npy/sat.2017062320.npy',\n",
       " '../satyam_rad_sat_mod_npy/sa1_npy/sat.2017062619.npy',\n",
       " '../satyam_rad_sat_mod_npy/sa1_npy/sat.2017062620.npy',\n",
       " '../satyam_rad_sat_mod_npy/sa1_npy/sat.2017062820.npy',\n",
       " '../satyam_rad_sat_mod_npy/sa1_npy/sat.2017062918.npy',\n",
       " '../satyam_rad_sat_mod_npy/sa1_npy/sat.2017062919.npy',\n",
       " '../satyam_rad_sat_mod_npy/sa1_npy/sat.2017062920.npy',\n",
       " '../satyam_rad_sat_mod_npy/sa1_npy/sat.2017063016.npy',\n",
       " '../satyam_rad_sat_mod_npy/sa1_npy/sat.2017063018.npy',\n",
       " '../satyam_rad_sat_mod_npy/sa1_npy/sat.2017063019.npy',\n",
       " '../satyam_rad_sat_mod_npy/sa1_npy/sat.2017063020.npy',\n",
       " '../satyam_rad_sat_mod_npy/sa1_npy/sat.2017070318.npy',\n",
       " '../satyam_rad_sat_mod_npy/sa1_npy/sat.2017070319.npy',\n",
       " '../satyam_rad_sat_mod_npy/sa1_npy/sat.2017070320.npy',\n",
       " '../satyam_rad_sat_mod_npy/sa1_npy/sat.2017070518.npy',\n",
       " '../satyam_rad_sat_mod_npy/sa1_npy/sat.2017070519.npy',\n",
       " '../satyam_rad_sat_mod_npy/sa1_npy/sat.2017070520.npy',\n",
       " '../satyam_rad_sat_mod_npy/sa1_npy/sat.2017070616.npy',\n",
       " '../satyam_rad_sat_mod_npy/sa1_npy/sat.2017070618.npy',\n",
       " '../satyam_rad_sat_mod_npy/sa1_npy/sat.2017070619.npy',\n",
       " '../satyam_rad_sat_mod_npy/sa1_npy/sat.2017070620.npy',\n",
       " '../satyam_rad_sat_mod_npy/sa1_npy/sat.2017070716.npy',\n",
       " '../satyam_rad_sat_mod_npy/sa1_npy/sat.2017070718.npy',\n",
       " '../satyam_rad_sat_mod_npy/sa1_npy/sat.2017070719.npy',\n",
       " '../satyam_rad_sat_mod_npy/sa1_npy/sat.2017070720.npy',\n",
       " '../satyam_rad_sat_mod_npy/sa1_npy/sat.2017070919.npy',\n",
       " '../satyam_rad_sat_mod_npy/sa1_npy/sat.2017070920.npy',\n",
       " '../satyam_rad_sat_mod_npy/sa1_npy/sat.2017071116.npy',\n",
       " '../satyam_rad_sat_mod_npy/sa1_npy/sat.2017071118.npy',\n",
       " '../satyam_rad_sat_mod_npy/sa1_npy/sat.2017071119.npy',\n",
       " '../satyam_rad_sat_mod_npy/sa1_npy/sat.2017071120.npy',\n",
       " '../satyam_rad_sat_mod_npy/sa1_npy/sat.2017071318.npy',\n",
       " '../satyam_rad_sat_mod_npy/sa1_npy/sat.2017071319.npy',\n",
       " '../satyam_rad_sat_mod_npy/sa1_npy/sat.2017071320.npy',\n",
       " '../satyam_rad_sat_mod_npy/sa1_npy/sat.2017071916.npy',\n",
       " '../satyam_rad_sat_mod_npy/sa1_npy/sat.2017071918.npy',\n",
       " '../satyam_rad_sat_mod_npy/sa1_npy/sat.2017071919.npy',\n",
       " '../satyam_rad_sat_mod_npy/sa1_npy/sat.2017071920.npy',\n",
       " '../satyam_rad_sat_mod_npy/sa1_npy/sat.2017072019.npy',\n",
       " '../satyam_rad_sat_mod_npy/sa1_npy/sat.2017072020.npy',\n",
       " '../satyam_rad_sat_mod_npy/sa1_npy/sat.2017072116.npy',\n",
       " '../satyam_rad_sat_mod_npy/sa1_npy/sat.2017072118.npy',\n",
       " '../satyam_rad_sat_mod_npy/sa1_npy/sat.2017072119.npy',\n",
       " '../satyam_rad_sat_mod_npy/sa1_npy/sat.2017072120.npy',\n",
       " '../satyam_rad_sat_mod_npy/sa1_npy/sat.2017072519.npy',\n",
       " '../satyam_rad_sat_mod_npy/sa1_npy/sat.2017072520.npy',\n",
       " '../satyam_rad_sat_mod_npy/sa1_npy/sat.2017080916.npy',\n",
       " '../satyam_rad_sat_mod_npy/sa1_npy/sat.2017080918.npy',\n",
       " '../satyam_rad_sat_mod_npy/sa1_npy/sat.2017080919.npy',\n",
       " '../satyam_rad_sat_mod_npy/sa1_npy/sat.2017080920.npy',\n",
       " '../satyam_rad_sat_mod_npy/sa1_npy/sat.2017081616.npy',\n",
       " '../satyam_rad_sat_mod_npy/sa1_npy/sat.2017081618.npy',\n",
       " '../satyam_rad_sat_mod_npy/sa1_npy/sat.2017081619.npy',\n",
       " '../satyam_rad_sat_mod_npy/sa1_npy/sat.2017081620.npy',\n",
       " '../satyam_rad_sat_mod_npy/sa1_npy/sat.2017081818.npy',\n",
       " '../satyam_rad_sat_mod_npy/sa1_npy/sat.2017081819.npy',\n",
       " '../satyam_rad_sat_mod_npy/sa1_npy/sat.2017081820.npy',\n",
       " '../satyam_rad_sat_mod_npy/sa1_npy/sat.2017082216.npy',\n",
       " '../satyam_rad_sat_mod_npy/sa1_npy/sat.2017082218.npy',\n",
       " '../satyam_rad_sat_mod_npy/sa1_npy/sat.2017082219.npy',\n",
       " '../satyam_rad_sat_mod_npy/sa1_npy/sat.2017082220.npy',\n",
       " '../satyam_rad_sat_mod_npy/sa1_npy/sat.2017082316.npy',\n",
       " '../satyam_rad_sat_mod_npy/sa1_npy/sat.2017082318.npy',\n",
       " '../satyam_rad_sat_mod_npy/sa1_npy/sat.2017082319.npy',\n",
       " '../satyam_rad_sat_mod_npy/sa1_npy/sat.2017082320.npy',\n",
       " '../satyam_rad_sat_mod_npy/sa1_npy/sat.2017082416.npy',\n",
       " '../satyam_rad_sat_mod_npy/sa1_npy/sat.2017082418.npy',\n",
       " '../satyam_rad_sat_mod_npy/sa1_npy/sat.2017082419.npy',\n",
       " '../satyam_rad_sat_mod_npy/sa1_npy/sat.2017082420.npy',\n",
       " '../satyam_rad_sat_mod_npy/sa1_npy/sat.2017082516.npy',\n",
       " '../satyam_rad_sat_mod_npy/sa1_npy/sat.2017082518.npy',\n",
       " '../satyam_rad_sat_mod_npy/sa1_npy/sat.2017082519.npy',\n",
       " '../satyam_rad_sat_mod_npy/sa1_npy/sat.2017082520.npy',\n",
       " '../satyam_rad_sat_mod_npy/sa1_npy/sat.2017082616.npy',\n",
       " '../satyam_rad_sat_mod_npy/sa1_npy/sat.2017082618.npy',\n",
       " '../satyam_rad_sat_mod_npy/sa1_npy/sat.2017082619.npy',\n",
       " '../satyam_rad_sat_mod_npy/sa1_npy/sat.2017082620.npy',\n",
       " '../satyam_rad_sat_mod_npy/sa1_npy/sat.2017090116.npy',\n",
       " '../satyam_rad_sat_mod_npy/sa1_npy/sat.2017090118.npy',\n",
       " '../satyam_rad_sat_mod_npy/sa1_npy/sat.2017090119.npy',\n",
       " '../satyam_rad_sat_mod_npy/sa1_npy/sat.2017090120.npy',\n",
       " '../satyam_rad_sat_mod_npy/sa1_npy/sat.2017090416.npy',\n",
       " '../satyam_rad_sat_mod_npy/sa1_npy/sat.2017090418.npy',\n",
       " '../satyam_rad_sat_mod_npy/sa1_npy/sat.2017090419.npy',\n",
       " '../satyam_rad_sat_mod_npy/sa1_npy/sat.2017090420.npy',\n",
       " '../satyam_rad_sat_mod_npy/sa1_npy/sat.2017090518.npy',\n",
       " '../satyam_rad_sat_mod_npy/sa1_npy/sat.2017090519.npy',\n",
       " '../satyam_rad_sat_mod_npy/sa1_npy/sat.2017090520.npy',\n",
       " '../satyam_rad_sat_mod_npy/sa1_npy/sat.2017090819.npy',\n",
       " '../satyam_rad_sat_mod_npy/sa1_npy/sat.2017090820.npy',\n",
       " '../satyam_rad_sat_mod_npy/sa1_npy/sat.2017090916.npy',\n",
       " '../satyam_rad_sat_mod_npy/sa1_npy/sat.2017090918.npy',\n",
       " '../satyam_rad_sat_mod_npy/sa1_npy/sat.2017090919.npy',\n",
       " '../satyam_rad_sat_mod_npy/sa1_npy/sat.2017090920.npy',\n",
       " '../satyam_rad_sat_mod_npy/sa1_npy/sat.2017091016.npy',\n",
       " '../satyam_rad_sat_mod_npy/sa1_npy/sat.2017091018.npy',\n",
       " '../satyam_rad_sat_mod_npy/sa1_npy/sat.2017091019.npy',\n",
       " '../satyam_rad_sat_mod_npy/sa1_npy/sat.2017091020.npy',\n",
       " '../satyam_rad_sat_mod_npy/sa1_npy/sat.2017091116.npy',\n",
       " '../satyam_rad_sat_mod_npy/sa1_npy/sat.2017091119.npy',\n",
       " '../satyam_rad_sat_mod_npy/sa1_npy/sat.2017091120.npy',\n",
       " '../satyam_rad_sat_mod_npy/sa1_npy/sat.2017091918.npy',\n",
       " '../satyam_rad_sat_mod_npy/sa1_npy/sat.2017091919.npy',\n",
       " '../satyam_rad_sat_mod_npy/sa1_npy/sat.2017091920.npy',\n",
       " '../satyam_rad_sat_mod_npy/sa1_npy/sat.2017092318.npy',\n",
       " '../satyam_rad_sat_mod_npy/sa1_npy/sat.2017092319.npy',\n",
       " '../satyam_rad_sat_mod_npy/sa1_npy/sat.2017092320.npy',\n",
       " '../satyam_rad_sat_mod_npy/sa1_npy/sat.2017093016.npy',\n",
       " '../satyam_rad_sat_mod_npy/sa1_npy/sat.2017100118.npy',\n",
       " '../satyam_rad_sat_mod_npy/sa1_npy/sat.2017100119.npy',\n",
       " '../satyam_rad_sat_mod_npy/sa1_npy/sat.2017100120.npy',\n",
       " '../satyam_rad_sat_mod_npy/sa1_npy/sat.2017100616.npy',\n",
       " '../satyam_rad_sat_mod_npy/sa1_npy/sat.2017100618.npy',\n",
       " '../satyam_rad_sat_mod_npy/sa1_npy/sat.2017100619.npy',\n",
       " '../satyam_rad_sat_mod_npy/sa1_npy/sat.2017100620.npy',\n",
       " '../satyam_rad_sat_mod_npy/sa1_npy/sat.2017101418.npy',\n",
       " '../satyam_rad_sat_mod_npy/sa1_npy/sat.2017101419.npy',\n",
       " '../satyam_rad_sat_mod_npy/sa1_npy/sat.2017101420.npy',\n",
       " '../satyam_rad_sat_mod_npy/sa1_npy/sat.2017102119.npy',\n",
       " '../satyam_rad_sat_mod_npy/sa1_npy/sat.2017102120.npy',\n",
       " '../satyam_rad_sat_mod_npy/sa1_npy/sat.2017102820.npy',\n",
       " '../satyam_rad_sat_mod_npy/sa1_npy/sat.2017110519.npy',\n",
       " '../satyam_rad_sat_mod_npy/sa1_npy/sat.2017110520.npy',\n",
       " '../satyam_rad_sat_mod_npy/sa1_npy/sat.2017120818.npy',\n",
       " '../satyam_rad_sat_mod_npy/sa1_npy/sat.2017120819.npy',\n",
       " '../satyam_rad_sat_mod_npy/sa1_npy/sat.2017120820.npy']"
      ]
     },
     "execution_count": 3,
     "metadata": {},
     "output_type": "execute_result"
    }
   ],
   "source": [
    "folder = \"../satyam_rad_sat_mod_npy/\"\n",
    "Sa1_files = glob.glob(\"../satyam_rad_sat_mod_npy/sa1_npy/*\")\n",
    "Sa1_files"
   ]
  },
  {
   "cell_type": "code",
   "execution_count": 4,
   "metadata": {},
   "outputs": [
    {
     "data": {
      "text/plain": [
       "349"
      ]
     },
     "execution_count": 4,
     "metadata": {},
     "output_type": "execute_result"
    }
   ],
   "source": [
    "len(Sa1_files)"
   ]
  },
  {
   "cell_type": "code",
   "execution_count": 5,
   "metadata": {},
   "outputs": [],
   "source": [
    "for filename in Sa1_files:\n",
    "    filename = filename.split('/')[-1]\n",
    "    \n",
    "    # Satellite 1\n",
    "    Sa_1_File = folder + \"sa1_npy/\" + filename;\n",
    "    Sa1arr = np.load(Sa_1_File).flatten()\n",
    "    \n",
    "    \n",
    "    # Satellite 2\n",
    "    Sa_2_File = folder + \"sa2_npy/\" + filename;\n",
    "    Sa2arr = np.load(Sa_2_File).flatten()\n",
    "    \n",
    "    \n",
    "    # Satellite 3\n",
    "    Sa_3_File = folder + \"sa3_npy/\" + filename;\n",
    "    Sa3arr = np.load(Sa_3_File).flatten()\n",
    "    \n",
    "    # Satellite 4\n",
    "    Sa_4_File = folder + \"sa4_npy/\" + filename;\n",
    "    Sa4arr = np.load(Sa_4_File).flatten()\n",
    "    \n",
    "    # Satellite 6\n",
    "    Sa_6_File = folder + \"sa6_npy/\" + filename;\n",
    "    Sa6arr = np.load(Sa_6_File).flatten()\n",
    "    \n",
    "    \n",
    "    \n",
    "\n",
    "    \n",
    "    # Radar\n",
    "    Radar_File = folder + \"rad_npy/\" + filename.replace('sat', \"rad\", 1)\n",
    "    Radararr = np.load(Radar_File).flatten()\n",
    "    \n",
    "    \n",
    "    \n",
    "    for i in range(len(Sa1arr)):\n",
    "        x = [];\n",
    "        x.append(Sa1arr[i])\n",
    "        x.append(Sa2arr[i])\n",
    "        x.append(Sa3arr[i])\n",
    "        x.append(Sa4arr[i])\n",
    "        x.append(Sa6arr[i])\n",
    "        \n",
    "        Y_output.append(Radararr[i])\n",
    "        \n",
    "        X_input.append(x)"
   ]
  },
  {
   "cell_type": "code",
   "execution_count": 6,
   "metadata": {},
   "outputs": [],
   "source": [
    "X_input = np.array(X_input)\n",
    "Y_output = np.array(Y_output)"
   ]
  },
  {
   "cell_type": "code",
   "execution_count": 7,
   "metadata": {},
   "outputs": [
    {
     "name": "stdout",
     "output_type": "stream",
     "text": [
      "(22872064, 5)\n",
      "4989.591\n",
      "0.0\n",
      "9875.468\n",
      "30993.518\n"
     ]
    }
   ],
   "source": [
    "print(X_input.shape)\n",
    "print(np.std(X_input))\n",
    "print(np.min(X_input))\n",
    "print(np.mean(X_input))\n",
    "print(np.max(X_input))"
   ]
  },
  {
   "cell_type": "code",
   "execution_count": 8,
   "metadata": {},
   "outputs": [
    {
     "name": "stdout",
     "output_type": "stream",
     "text": [
      "(22872064,)\n",
      "20.273754068168778\n",
      "0\n",
      "20.161293095367345\n",
      "953\n"
     ]
    }
   ],
   "source": [
    "print(Y_output.shape)\n",
    "print(np.std(Y_output))\n",
    "print(np.min(Y_output))\n",
    "print(np.mean(Y_output))\n",
    "print(np.max(Y_output))"
   ]
  },
  {
   "cell_type": "code",
   "execution_count": 9,
   "metadata": {},
   "outputs": [
    {
     "name": "stdout",
     "output_type": "stream",
     "text": [
      "(22674932,)\n",
      "20.273971376030666\n",
      "1\n",
      "20.336571946500214\n",
      "953\n"
     ]
    }
   ],
   "source": [
    "Y_output_no_zero = list(filter(lambda a: a != 0, Y_output))\n",
    "print(np.shape(Y_output_no_zero))\n",
    "print(np.std(Y_output_no_zero))\n",
    "print(np.min(Y_output_no_zero))\n",
    "print(np.mean(Y_output_no_zero))\n",
    "print(np.max(Y_output_no_zero))"
   ]
  },
  {
   "cell_type": "code",
   "execution_count": 10,
   "metadata": {},
   "outputs": [
    {
     "data": {
      "text/plain": [
       "60.884514698561546"
      ]
     },
     "execution_count": 10,
     "metadata": {},
     "output_type": "execute_result"
    }
   ],
   "source": [
    "thershold = np.mean(Y_output_no_zero) + 2 * np.std(Y_output_no_zero)\n",
    "thershold"
   ]
  },
  {
   "cell_type": "markdown",
   "metadata": {},
   "source": [
    "# Feature Importance"
   ]
  },
  {
   "cell_type": "code",
   "execution_count": 11,
   "metadata": {},
   "outputs": [
    {
     "name": "stderr",
     "output_type": "stream",
     "text": [
      "/home/wproj/.conda/envs/py36/lib/python3.6/site-packages/sklearn/ensemble/forest.py:248: FutureWarning: The default value of n_estimators will change from 10 in version 0.20 to 100 in 0.22.\n",
      "  \"10 in version 0.20 to 100 in 0.22.\", FutureWarning)\n"
     ]
    },
    {
     "data": {
      "text/plain": [
       "RandomForestRegressor(bootstrap=True, criterion='mse', max_depth=None,\n",
       "           max_features='auto', max_leaf_nodes=None,\n",
       "           min_impurity_decrease=0.0, min_impurity_split=None,\n",
       "           min_samples_leaf=1, min_samples_split=2,\n",
       "           min_weight_fraction_leaf=0.0, n_estimators=10, n_jobs=None,\n",
       "           oob_score=False, random_state=None, verbose=0, warm_start=False)"
      ]
     },
     "execution_count": 11,
     "metadata": {},
     "output_type": "execute_result"
    }
   ],
   "source": [
    "rf = RandomForestRegressor()\n",
    "rf.fit(X_input, Y_output)"
   ]
  },
  {
   "cell_type": "code",
   "execution_count": 12,
   "metadata": {},
   "outputs": [
    {
     "name": "stdout",
     "output_type": "stream",
     "text": [
      "Band 1       0.19421089013760567\n",
      "Band 2       0.19679668990078975\n",
      "Band 3       0.20298368127422967\n",
      "Band 4       0.20860096190249097\n",
      "Band 6       0.19740777678488394\n"
     ]
    }
   ],
   "source": [
    "for feat, score in zip(X_names, rf.feature_importances_):\n",
    "    print('{}       {}'.format(feat, score))"
   ]
  },
  {
   "cell_type": "code",
   "execution_count": 13,
   "metadata": {},
   "outputs": [
    {
     "data": {
      "image/png": "[encoded data removed]",
      "text/plain": [
       "<Figure size 432x288 with 1 Axes>"
      ]
     },
     "metadata": {},
     "output_type": "display_data"
    }
   ],
   "source": [
    "df = pd.DataFrame({'lab':input_names, 'val':rf.feature_importances_})\n",
    "df.plot(kind = 'bar' , x='lab', y='val', rot=0, color=('g', 'g', 'g', 'g', 'g','b', 'b', 'b', 'b'))\n",
    "plt.show()"
   ]
  },
  {
   "cell_type": "markdown",
   "metadata": {
    "collapsed": true
   },
   "source": [
    "# Test Train Split"
   ]
  },
  {
   "cell_type": "code",
   "execution_count": 14,
   "metadata": {
    "collapsed": true
   },
   "outputs": [],
   "source": [
    "from sklearn.model_selection import train_test_split\n",
    "X_train, X_test, y_train, y_test = train_test_split(X_input, Y_output, test_size=0.30, random_state=42)"
   ]
  },
  {
   "cell_type": "code",
   "execution_count": 15,
   "metadata": {},
   "outputs": [
    {
     "name": "stdout",
     "output_type": "stream",
     "text": [
      "(16010444, 5)\n",
      "(6861620, 5)\n",
      "(16010444,)\n",
      "(6861620,)\n"
     ]
    }
   ],
   "source": [
    "print(X_train.shape)\n",
    "print(X_test.shape)\n",
    "print(y_train.shape)\n",
    "print(y_test.shape)"
   ]
  },
  {
   "cell_type": "code",
   "execution_count": 16,
   "metadata": {},
   "outputs": [
    {
     "name": "stderr",
     "output_type": "stream",
     "text": [
      "/home/wproj/.conda/envs/py36/lib/python3.6/site-packages/sklearn/ensemble/forest.py:248: FutureWarning: The default value of n_estimators will change from 10 in version 0.20 to 100 in 0.22.\n",
      "  \"10 in version 0.20 to 100 in 0.22.\", FutureWarning)\n"
     ]
    },
    {
     "data": {
      "text/plain": [
       "RandomForestRegressor(bootstrap=True, criterion='mse', max_depth=None,\n",
       "           max_features='auto', max_leaf_nodes=None,\n",
       "           min_impurity_decrease=0.0, min_impurity_split=None,\n",
       "           min_samples_leaf=1, min_samples_split=2,\n",
       "           min_weight_fraction_leaf=0.0, n_estimators=10, n_jobs=None,\n",
       "           oob_score=False, random_state=None, verbose=0, warm_start=False)"
      ]
     },
     "execution_count": 16,
     "metadata": {},
     "output_type": "execute_result"
    }
   ],
   "source": [
    "rf_train = RandomForestRegressor()\n",
    "rf_train.fit(X_train, y_train)"
   ]
  },
  {
   "cell_type": "markdown",
   "metadata": {},
   "source": [
    "### Save the trained model"
   ]
  },
  {
   "cell_type": "code",
   "execution_count": 17,
   "metadata": {},
   "outputs": [],
   "source": [
    "import pickle\n",
    "filename = 'MODEL_70_Random_Forest_1x1_only_sa_npy.sav'\n",
    "pickle.dump(rf_train, open(filename, 'wb'))"
   ]
  },
  {
   "cell_type": "code",
   "execution_count": 18,
   "metadata": {},
   "outputs": [
    {
     "data": {
      "image/png": "[encoded data removed]",
      "text/plain": [
       "<Figure size 432x288 with 1 Axes>"
      ]
     },
     "metadata": {},
     "output_type": "display_data"
    }
   ],
   "source": [
    "df = pd.DataFrame({'lab':input_names, 'val':rf_train.feature_importances_})\n",
    "df.plot(kind = 'bar' , x='lab', y='val', rot=0, color=('g', 'g', 'g', 'g', 'g','b', 'b', 'b', 'b'))\n",
    "plt.show()"
   ]
  },
  {
   "cell_type": "code",
   "execution_count": 19,
   "metadata": {},
   "outputs": [],
   "source": [
    "predictions_train = rf_train.predict(X_train)"
   ]
  },
  {
   "cell_type": "code",
   "execution_count": 20,
   "metadata": {},
   "outputs": [
    {
     "data": {
      "text/plain": [
       "(16010444,)"
      ]
     },
     "execution_count": 20,
     "metadata": {},
     "output_type": "execute_result"
    }
   ],
   "source": [
    "predictions_train.shape"
   ]
  },
  {
   "cell_type": "code",
   "execution_count": 21,
   "metadata": {
    "collapsed": true
   },
   "outputs": [],
   "source": [
    "errors_train = abs(predictions_train - y_train)"
   ]
  },
  {
   "cell_type": "code",
   "execution_count": 22,
   "metadata": {},
   "outputs": [
    {
     "data": {
      "text/plain": [
       "4.582891516932376"
      ]
     },
     "execution_count": 22,
     "metadata": {},
     "output_type": "execute_result"
    }
   ],
   "source": [
    "np.mean(errors_train)"
   ]
  },
  {
   "cell_type": "code",
   "execution_count": 23,
   "metadata": {},
   "outputs": [
    {
     "data": {
      "text/plain": [
       "636.6"
      ]
     },
     "execution_count": 23,
     "metadata": {},
     "output_type": "execute_result"
    }
   ],
   "source": [
    "np.max(errors_train)"
   ]
  },
  {
   "cell_type": "code",
   "execution_count": 24,
   "metadata": {},
   "outputs": [
    {
     "data": {
      "text/plain": [
       "(array([0.24055335, 0.16647291, 0.13206868, 0.10320834, 0.08067732,\n",
       "        0.06218098, 0.04823242, 0.03731857, 0.02899136, 0.02266661,\n",
       "        0.01771401, 0.01397192, 0.01114806, 0.00901437, 0.00722918,\n",
       "        0.00589547, 0.00488715, 0.00407326, 0.00369602]),\n",
       " array([ 0,  1,  2,  3,  4,  5,  6,  7,  8,  9, 10, 11, 12, 13, 14, 15, 16,\n",
       "        17, 18, 19]),\n",
       " <a list of 19 Patch objects>)"
      ]
     },
     "execution_count": 24,
     "metadata": {},
     "output_type": "execute_result"
    },
    {
     "data": {
      "image/png": "[encoded data removed]",
      "text/plain": [
       "<Figure size 432x288 with 1 Axes>"
      ]
     },
     "metadata": {},
     "output_type": "display_data"
    }
   ],
   "source": [
    "plt.hist(errors_train, bins=range(0, 20, 1), density=1)"
   ]
  },
  {
   "cell_type": "markdown",
   "metadata": {},
   "source": [
    "### Confusion Matrix"
   ]
  },
  {
   "cell_type": "code",
   "execution_count": 25,
   "metadata": {},
   "outputs": [
    {
     "data": {
      "image/png": "[encoded data removed]",
      "text/plain": [
       "<Figure size 432x288 with 2 Axes>"
      ]
     },
     "metadata": {},
     "output_type": "display_data"
    }
   ],
   "source": [
    "y_train_copy = np.copy(y_train)\n",
    "y_train_copy[y_train_copy < thershold] = 0\n",
    "y_train_copy[y_train_copy >= thershold] = 1\n",
    "\n",
    "predictions_train_copy = np.copy(predictions_train)\n",
    "predictions_train_copy[predictions_train_copy < thershold] = 0\n",
    "predictions_train_copy[predictions_train_copy >= thershold] = 1\n",
    "\n",
    "skplt.metrics.plot_confusion_matrix(y_train_copy, predictions_train_copy, normalize=True)\n",
    "plt.show()"
   ]
  },
  {
   "cell_type": "markdown",
   "metadata": {},
   "source": [
    "# Evaluation on Test"
   ]
  },
  {
   "cell_type": "code",
   "execution_count": 26,
   "metadata": {},
   "outputs": [
    {
     "data": {
      "text/plain": [
       "(6861620,)"
      ]
     },
     "execution_count": 26,
     "metadata": {},
     "output_type": "execute_result"
    }
   ],
   "source": [
    "predictions_test = rf_train.predict(X_test)\n",
    "predictions_test.shape"
   ]
  },
  {
   "cell_type": "code",
   "execution_count": 27,
   "metadata": {},
   "outputs": [
    {
     "data": {
      "text/plain": [
       "(6861620,)"
      ]
     },
     "execution_count": 27,
     "metadata": {},
     "output_type": "execute_result"
    }
   ],
   "source": [
    "y_test.shape"
   ]
  },
  {
   "cell_type": "code",
   "execution_count": 28,
   "metadata": {
    "collapsed": true
   },
   "outputs": [],
   "source": [
    "errors_test = abs(predictions_test - y_test)"
   ]
  },
  {
   "cell_type": "code",
   "execution_count": 29,
   "metadata": {},
   "outputs": [
    {
     "name": "stdout",
     "output_type": "stream",
     "text": [
      "(6861620,)\n",
      "16.660021907899377\n",
      "0.0\n",
      "11.553297238843152\n",
      "946.1\n"
     ]
    }
   ],
   "source": [
    "print(errors_test.shape)\n",
    "print(np.std(errors_test))\n",
    "print(np.min(errors_test))\n",
    "print(np.mean(errors_test))\n",
    "print(np.max(errors_test))"
   ]
  },
  {
   "cell_type": "code",
   "execution_count": 30,
   "metadata": {},
   "outputs": [
    {
     "data": {
      "text/plain": [
       "(array([1.62197e+05, 5.70520e+04, 5.38050e+04, ..., 0.00000e+00,\n",
       "        0.00000e+00, 1.00000e+00]),\n",
       " array([0.00000000e+00, 1.18931490e-01, 2.37862979e-01, ...,\n",
       "        9.45862137e+02, 9.45981069e+02, 9.46100000e+02]),\n",
       " <a list of 7955 Patch objects>)"
      ]
     },
     "execution_count": 30,
     "metadata": {},
     "output_type": "execute_result"
    },
    {
     "data": {
      "image/png": "[encoded data removed]",
      "text/plain": [
       "<Figure size 432x288 with 1 Axes>"
      ]
     },
     "metadata": {},
     "output_type": "display_data"
    }
   ],
   "source": [
    "plt.hist(errors_test, bins='auto')"
   ]
  },
  {
   "cell_type": "code",
   "execution_count": 31,
   "metadata": {},
   "outputs": [
    {
     "data": {
      "text/plain": [
       "(array([4035695., 1852320.,  593681.,  194466.,   64731.,   31322.,\n",
       "          19833.,   14073.,   10136.,    7942.,    6122.,    5023.]),\n",
       " array([  0,  10,  20,  30,  40,  50,  60,  70,  80,  90, 100, 110, 120]),\n",
       " <a list of 12 Patch objects>)"
      ]
     },
     "execution_count": 31,
     "metadata": {},
     "output_type": "execute_result"
    },
    {
     "data": {
      "image/png": "[encoded data removed]",
      "text/plain": [
       "<Figure size 432x288 with 1 Axes>"
      ]
     },
     "metadata": {},
     "output_type": "display_data"
    }
   ],
   "source": [
    "plt.hist(errors_test, bins=range(0, 130, 10))"
   ]
  },
  {
   "cell_type": "code",
   "execution_count": 32,
   "metadata": {},
   "outputs": [
    {
     "data": {
      "text/plain": [
       "79274335.39999095"
      ]
     },
     "execution_count": 32,
     "metadata": {},
     "output_type": "execute_result"
    }
   ],
   "source": [
    "np.sum(errors_test)"
   ]
  },
  {
   "cell_type": "markdown",
   "metadata": {},
   "source": [
    "### Confusion Matrix"
   ]
  },
  {
   "cell_type": "code",
   "execution_count": 33,
   "metadata": {},
   "outputs": [
    {
     "data": {
      "image/png": "[encoded data removed]",
      "text/plain": [
       "<Figure size 432x288 with 2 Axes>"
      ]
     },
     "metadata": {},
     "output_type": "display_data"
    }
   ],
   "source": [
    "y_test_copy = np.copy(y_test)\n",
    "y_test_copy[y_test_copy < thershold] = 0\n",
    "y_test_copy[y_test_copy >= thershold] = 1\n",
    "\n",
    "predictions_test_copy = np.copy(predictions_test)\n",
    "predictions_test_copy[predictions_test_copy < thershold] = 0\n",
    "predictions_test_copy[predictions_test_copy >= thershold] = 1\n",
    "\n",
    "skplt.metrics.plot_confusion_matrix(y_test_copy, predictions_test_copy, normalize=True)\n",
    "plt.show()"
   ]
  },
  {
   "cell_type": "markdown",
   "metadata": {},
   "source": [
    "# k-FOLD  Train Test (k = 10)"
   ]
  },
  {
   "cell_type": "code",
   "execution_count": 34,
   "metadata": {},
   "outputs": [
    {
     "name": "stdout",
     "output_type": "stream",
     "text": [
      "KFold(n_splits=10, random_state=42, shuffle=True)\n"
     ]
    }
   ],
   "source": [
    "kf = KFold(n_splits=10, random_state=42, shuffle=True)\n",
    "kf.get_n_splits(X_input)\n",
    "print(kf) "
   ]
  },
  {
   "cell_type": "code",
   "execution_count": 35,
   "metadata": {},
   "outputs": [
    {
     "name": "stdout",
     "output_type": "stream",
     "text": [
      "=====================================\n",
      "(20584857, 5)\n",
      "(2287207, 5)\n",
      "(20584857,)\n",
      "(2287207,)\n"
     ]
    },
    {
     "name": "stderr",
     "output_type": "stream",
     "text": [
      "/home/wproj/.conda/envs/py36/lib/python3.6/site-packages/sklearn/ensemble/forest.py:248: FutureWarning: The default value of n_estimators will change from 10 in version 0.20 to 100 in 0.22.\n",
      "  \"10 in version 0.20 to 100 in 0.22.\", FutureWarning)\n"
     ]
    },
    {
     "data": {
      "image/png": "[encoded data removed]",
      "text/plain": [
       "<Figure size 432x288 with 1 Axes>"
      ]
     },
     "metadata": {},
     "output_type": "display_data"
    },
    {
     "name": "stdout",
     "output_type": "stream",
     "text": [
      "Sum : 26347326.670273688\n",
      "Distribution\n"
     ]
    },
    {
     "data": {
      "image/png": "[encoded data removed]",
      "text/plain": [
       "<Figure size 432x288 with 1 Axes>"
      ]
     },
     "metadata": {},
     "output_type": "display_data"
    },
    {
     "name": "stdout",
     "output_type": "stream",
     "text": [
      "Confusion Matrix\n"
     ]
    },
    {
     "data": {
      "image/png": "[encoded data removed]",
      "text/plain": [
       "<Figure size 432x288 with 2 Axes>"
      ]
     },
     "metadata": {},
     "output_type": "display_data"
    },
    {
     "name": "stdout",
     "output_type": "stream",
     "text": [
      "\n",
      "\n",
      "=====================================\n",
      "(20584857, 5)\n",
      "(2287207, 5)\n",
      "(20584857,)\n"
     ]
    },
    {
     "name": "stderr",
     "output_type": "stream",
     "text": [
      "/home/wproj/.conda/envs/py36/lib/python3.6/site-packages/sklearn/ensemble/forest.py:248: FutureWarning: The default value of n_estimators will change from 10 in version 0.20 to 100 in 0.22.\n",
      "  \"10 in version 0.20 to 100 in 0.22.\", FutureWarning)\n"
     ]
    },
    {
     "name": "stdout",
     "output_type": "stream",
     "text": [
      "(2287207,)\n"
     ]
    },
    {
     "data": {
      "image/png": "[encoded data removed]",
      "text/plain": [
       "<Figure size 432x288 with 1 Axes>"
      ]
     },
     "metadata": {},
     "output_type": "display_data"
    },
    {
     "name": "stdout",
     "output_type": "stream",
     "text": [
      "Sum : 26352955.19504424\n",
      "Distribution\n"
     ]
    },
    {
     "data": {
      "image/png": "[encoded data removed]",
      "text/plain": [
       "<Figure size 432x288 with 1 Axes>"
      ]
     },
     "metadata": {},
     "output_type": "display_data"
    },
    {
     "name": "stdout",
     "output_type": "stream",
     "text": [
      "Confusion Matrix\n"
     ]
    },
    {
     "data": {
      "image/png": "[encoded data removed]",
      "text/plain": [
       "<Figure size 432x288 with 2 Axes>"
      ]
     },
     "metadata": {},
     "output_type": "display_data"
    },
    {
     "name": "stdout",
     "output_type": "stream",
     "text": [
      "\n",
      "\n",
      "=====================================\n",
      "(20584857, 5)\n",
      "(2287207, 5)\n",
      "(20584857,)"
     ]
    },
    {
     "name": "stderr",
     "output_type": "stream",
     "text": [
      "/home/wproj/.conda/envs/py36/lib/python3.6/site-packages/sklearn/ensemble/forest.py:248: FutureWarning: The default value of n_estimators will change from 10 in version 0.20 to 100 in 0.22.\n",
      "  \"10 in version 0.20 to 100 in 0.22.\", FutureWarning)\n"
     ]
    },
    {
     "name": "stdout",
     "output_type": "stream",
     "text": [
      "\n",
      "(2287207,)\n"
     ]
    },
    {
     "data": {
      "image/png": "[encoded data removed]",
      "text/plain": [
       "<Figure size 432x288 with 1 Axes>"
      ]
     },
     "metadata": {},
     "output_type": "display_data"
    },
    {
     "name": "stdout",
     "output_type": "stream",
     "text": [
      "Sum : 26302947.41355251\n",
      "Distribution\n"
     ]
    },
    {
     "data": {
      "image/png": "[encoded data removed]",
      "text/plain": [
       "<Figure size 432x288 with 1 Axes>"
      ]
     },
     "metadata": {},
     "output_type": "display_data"
    },
    {
     "name": "stdout",
     "output_type": "stream",
     "text": [
      "Confusion Matrix\n"
     ]
    },
    {
     "data": {
      "image/png": "[encoded data removed]",
      "text/plain": [
       "<Figure size 432x288 with 2 Axes>"
      ]
     },
     "metadata": {},
     "output_type": "display_data"
    },
    {
     "name": "stdout",
     "output_type": "stream",
     "text": [
      "\n",
      "\n",
      "=====================================\n",
      "(20584857, 5)\n",
      "(2287207, 5)\n",
      "(20584857,)\n"
     ]
    },
    {
     "name": "stderr",
     "output_type": "stream",
     "text": [
      "/home/wproj/.conda/envs/py36/lib/python3.6/site-packages/sklearn/ensemble/forest.py:248: FutureWarning: The default value of n_estimators will change from 10 in version 0.20 to 100 in 0.22.\n",
      "  \"10 in version 0.20 to 100 in 0.22.\", FutureWarning)\n"
     ]
    },
    {
     "name": "stdout",
     "output_type": "stream",
     "text": [
      "(2287207,)\n"
     ]
    },
    {
     "data": {
      "image/png": "[encoded data removed]",
      "text/plain": [
       "<Figure size 432x288 with 1 Axes>"
      ]
     },
     "metadata": {},
     "output_type": "display_data"
    },
    {
     "name": "stdout",
     "output_type": "stream",
     "text": [
      "Sum : 26345499.60521504\n",
      "Distribution\n"
     ]
    },
    {
     "data": {
      "image/png": "[encoded data removed]",
      "text/plain": [
       "<Figure size 432x288 with 1 Axes>"
      ]
     },
     "metadata": {},
     "output_type": "display_data"
    },
    {
     "name": "stdout",
     "output_type": "stream",
     "text": [
      "Confusion Matrix\n"
     ]
    },
    {
     "data": {
      "image/png": "[encoded data removed]",
      "text/plain": [
       "<Figure size 432x288 with 2 Axes>"
      ]
     },
     "metadata": {},
     "output_type": "display_data"
    },
    {
     "name": "stdout",
     "output_type": "stream",
     "text": [
      "\n",
      "\n",
      "=====================================\n",
      "(20584858, 5)\n",
      "(2287206, 5)\n",
      "(20584858,)\n"
     ]
    },
    {
     "name": "stderr",
     "output_type": "stream",
     "text": [
      "/home/wproj/.conda/envs/py36/lib/python3.6/site-packages/sklearn/ensemble/forest.py:248: FutureWarning: The default value of n_estimators will change from 10 in version 0.20 to 100 in 0.22.\n",
      "  \"10 in version 0.20 to 100 in 0.22.\", FutureWarning)\n"
     ]
    },
    {
     "name": "stdout",
     "output_type": "stream",
     "text": [
      "(2287206,)\n"
     ]
    },
    {
     "data": {
      "image/png": "[encoded data removed]",
      "text/plain": [
       "<Figure size 432x288 with 1 Axes>"
      ]
     },
     "metadata": {},
     "output_type": "display_data"
    },
    {
     "name": "stdout",
     "output_type": "stream",
     "text": [
      "Sum : 26346425.678586226\n",
      "Distribution\n"
     ]
    },
    {
     "data": {
      "image/png": "[encoded data removed]",
      "text/plain": [
       "<Figure size 432x288 with 1 Axes>"
      ]
     },
     "metadata": {},
     "output_type": "display_data"
    },
    {
     "name": "stdout",
     "output_type": "stream",
     "text": [
      "Confusion Matrix\n"
     ]
    },
    {
     "data": {
      "image/png": "[encoded data removed]",
      "text/plain": [
       "<Figure size 432x288 with 2 Axes>"
      ]
     },
     "metadata": {},
     "output_type": "display_data"
    },
    {
     "name": "stdout",
     "output_type": "stream",
     "text": [
      "\n",
      "\n",
      "=====================================\n",
      "(20584858, 5)\n",
      "(2287206, 5)\n",
      "(20584858,)"
     ]
    },
    {
     "name": "stderr",
     "output_type": "stream",
     "text": [
      "/home/wproj/.conda/envs/py36/lib/python3.6/site-packages/sklearn/ensemble/forest.py:248: FutureWarning: The default value of n_estimators will change from 10 in version 0.20 to 100 in 0.22.\n",
      "  \"10 in version 0.20 to 100 in 0.22.\", FutureWarning)\n"
     ]
    },
    {
     "name": "stdout",
     "output_type": "stream",
     "text": [
      "\n",
      "(2287206,)\n"
     ]
    },
    {
     "data": {
      "image/png": "[encoded data removed]",
      "text/plain": [
       "<Figure size 432x288 with 1 Axes>"
      ]
     },
     "metadata": {},
     "output_type": "display_data"
    },
    {
     "name": "stdout",
     "output_type": "stream",
     "text": [
      "Sum : 26303061.28084123\n",
      "Distribution\n"
     ]
    },
    {
     "data": {
      "image/png": "[encoded data removed]",
      "text/plain": [
       "<Figure size 432x288 with 1 Axes>"
      ]
     },
     "metadata": {},
     "output_type": "display_data"
    },
    {
     "name": "stdout",
     "output_type": "stream",
     "text": [
      "Confusion Matrix\n"
     ]
    },
    {
     "data": {
      "image/png": "[encoded data removed]",
      "text/plain": [
       "<Figure size 432x288 with 2 Axes>"
      ]
     },
     "metadata": {},
     "output_type": "display_data"
    },
    {
     "name": "stdout",
     "output_type": "stream",
     "text": [
      "\n",
      "\n",
      "=====================================\n",
      "(20584858, 5)\n",
      "(2287206, 5)\n",
      "(20584858,)"
     ]
    },
    {
     "name": "stderr",
     "output_type": "stream",
     "text": [
      "/home/wproj/.conda/envs/py36/lib/python3.6/site-packages/sklearn/ensemble/forest.py:248: FutureWarning: The default value of n_estimators will change from 10 in version 0.20 to 100 in 0.22.\n",
      "  \"10 in version 0.20 to 100 in 0.22.\", FutureWarning)\n"
     ]
    },
    {
     "name": "stdout",
     "output_type": "stream",
     "text": [
      "\n",
      "(2287206,)\n"
     ]
    },
    {
     "data": {
      "image/png": "[encoded data removed]",
      "text/plain": [
       "<Figure size 432x288 with 1 Axes>"
      ]
     },
     "metadata": {},
     "output_type": "display_data"
    },
    {
     "name": "stdout",
     "output_type": "stream",
     "text": [
      "Sum : 26313022.388161365\n",
      "Distribution\n"
     ]
    },
    {
     "data": {
      "image/png": "[encoded data removed]",
      "text/plain": [
       "<Figure size 432x288 with 1 Axes>"
      ]
     },
     "metadata": {},
     "output_type": "display_data"
    },
    {
     "name": "stdout",
     "output_type": "stream",
     "text": [
      "Confusion Matrix\n"
     ]
    },
    {
     "data": {
      "image/png": "[encoded data removed]",
      "text/plain": [
       "<Figure size 432x288 with 2 Axes>"
      ]
     },
     "metadata": {},
     "output_type": "display_data"
    },
    {
     "name": "stdout",
     "output_type": "stream",
     "text": [
      "\n",
      "\n",
      "=====================================\n",
      "(20584858, 5)\n",
      "(2287206, 5)\n",
      "(20584858,)\n"
     ]
    },
    {
     "name": "stderr",
     "output_type": "stream",
     "text": [
      "/home/wproj/.conda/envs/py36/lib/python3.6/site-packages/sklearn/ensemble/forest.py:248: FutureWarning: The default value of n_estimators will change from 10 in version 0.20 to 100 in 0.22.\n",
      "  \"10 in version 0.20 to 100 in 0.22.\", FutureWarning)\n"
     ]
    },
    {
     "name": "stdout",
     "output_type": "stream",
     "text": [
      "(2287206,)\n"
     ]
    },
    {
     "data": {
      "image/png": "[encoded data removed]",
      "text/plain": [
       "<Figure size 432x288 with 1 Axes>"
      ]
     },
     "metadata": {},
     "output_type": "display_data"
    },
    {
     "name": "stdout",
     "output_type": "stream",
     "text": [
      "Sum : 26314620.014662303\n",
      "Distribution\n"
     ]
    },
    {
     "data": {
      "image/png": "[encoded data removed]",
      "text/plain": [
       "<Figure size 432x288 with 1 Axes>"
      ]
     },
     "metadata": {},
     "output_type": "display_data"
    },
    {
     "name": "stdout",
     "output_type": "stream",
     "text": [
      "Confusion Matrix\n"
     ]
    },
    {
     "data": {
      "image/png": "[encoded data removed]",
      "text/plain": [
       "<Figure size 432x288 with 2 Axes>"
      ]
     },
     "metadata": {},
     "output_type": "display_data"
    },
    {
     "name": "stdout",
     "output_type": "stream",
     "text": [
      "\n",
      "\n",
      "=====================================\n",
      "(20584858, 5)\n",
      "(2287206, 5)\n"
     ]
    },
    {
     "name": "stderr",
     "output_type": "stream",
     "text": [
      "/home/wproj/.conda/envs/py36/lib/python3.6/site-packages/sklearn/ensemble/forest.py:248: FutureWarning: The default value of n_estimators will change from 10 in version 0.20 to 100 in 0.22.\n",
      "  \"10 in version 0.20 to 100 in 0.22.\", FutureWarning)\n"
     ]
    },
    {
     "name": "stdout",
     "output_type": "stream",
     "text": [
      "(20584858,)\n",
      "(2287206,)\n"
     ]
    },
    {
     "data": {
      "image/png": "[encoded data removed]",
      "text/plain": [
       "<Figure size 432x288 with 1 Axes>"
      ]
     },
     "metadata": {},
     "output_type": "display_data"
    },
    {
     "name": "stdout",
     "output_type": "stream",
     "text": [
      "Sum : 26336691.49312095\n",
      "Distribution\n"
     ]
    },
    {
     "data": {
      "image/png": "[encoded data removed]",
      "text/plain": [
       "<Figure size 432x288 with 1 Axes>"
      ]
     },
     "metadata": {},
     "output_type": "display_data"
    },
    {
     "name": "stdout",
     "output_type": "stream",
     "text": [
      "Confusion Matrix\n"
     ]
    },
    {
     "data": {
      "image/png": "[encoded data removed]",
      "text/plain": [
       "<Figure size 432x288 with 2 Axes>"
      ]
     },
     "metadata": {},
     "output_type": "display_data"
    },
    {
     "name": "stdout",
     "output_type": "stream",
     "text": [
      "\n",
      "\n",
      "=====================================\n",
      "(20584858, 5)\n",
      "(2287206, 5)\n",
      "(20584858,)\n"
     ]
    },
    {
     "name": "stderr",
     "output_type": "stream",
     "text": [
      "/home/wproj/.conda/envs/py36/lib/python3.6/site-packages/sklearn/ensemble/forest.py:248: FutureWarning: The default value of n_estimators will change from 10 in version 0.20 to 100 in 0.22.\n",
      "  \"10 in version 0.20 to 100 in 0.22.\", FutureWarning)\n"
     ]
    },
    {
     "name": "stdout",
     "output_type": "stream",
     "text": [
      "(2287206,)\n"
     ]
    },
    {
     "data": {
      "image/png": "[encoded data removed]",
      "text/plain": [
       "<Figure size 432x288 with 1 Axes>"
      ]
     },
     "metadata": {},
     "output_type": "display_data"
    },
    {
     "name": "stdout",
     "output_type": "stream",
     "text": [
      "Sum : 26317307.72018249\n",
      "Distribution\n"
     ]
    },
    {
     "data": {
      "image/png": "[encoded data removed]",
      "text/plain": [
       "<Figure size 432x288 with 1 Axes>"
      ]
     },
     "metadata": {},
     "output_type": "display_data"
    },
    {
     "name": "stdout",
     "output_type": "stream",
     "text": [
      "Confusion Matrix\n"
     ]
    },
    {
     "data": {
      "image/png": "[encoded data removed]",
      "text/plain": [
       "<Figure size 432x288 with 2 Axes>"
      ]
     },
     "metadata": {},
     "output_type": "display_data"
    },
    {
     "name": "stdout",
     "output_type": "stream",
     "text": [
      "\n",
      "\n"
     ]
    }
   ],
   "source": [
    "for train_index, test_index in kf.split(X_input):\n",
    "    print(\"=====================================\")\n",
    "    X_train, X_test = X_input[train_index], X_input[test_index]\n",
    "    y_train, y_test = Y_output[train_index], Y_output[test_index]\n",
    "    \n",
    "    print(X_train.shape)\n",
    "    print(X_test.shape)\n",
    "    print(y_train.shape)\n",
    "    print(y_test.shape)\n",
    "    \n",
    "    rf_train = RandomForestRegressor()\n",
    "    rf_train.fit(X_train, y_train)\n",
    "    \n",
    "    df = pd.DataFrame({'lab':input_names, 'val':rf_train.feature_importances_})\n",
    "    df.plot(kind = 'bar' , x='lab', y='val', rot=0, color=('g', 'g', 'g', 'g', 'g','b', 'b', 'b', 'b'))\n",
    "    plt.show()\n",
    "    \n",
    "    predictions_test = rf_train.predict(X_test)\n",
    "    \n",
    "    errors_test = abs(predictions_test - y_test)\n",
    "    print(\"Sum :\", np.sum(errors_test))\n",
    "    print(\"Distribution\")\n",
    "    plt.hist(errors_test, bins='auto')\n",
    "    plt.show()\n",
    "    \n",
    "    y_test_copy = np.copy(y_test)\n",
    "    y_test_copy[y_test_copy < thershold] = 0\n",
    "    y_test_copy[y_test_copy >= thershold] = 1\n",
    "\n",
    "    predictions_test_copy = np.copy(predictions_test)\n",
    "    predictions_test_copy[predictions_test_copy < thershold] = 0\n",
    "    predictions_test_copy[predictions_test_copy >= thershold] = 1\n",
    "    \n",
    "    print(\"Confusion Matrix\")\n",
    "    skplt.metrics.plot_confusion_matrix(y_test_copy, predictions_test_copy, normalize=True)\n",
    "    plt.show()\n",
    "\n",
    "    print(\"\\n\")\n",
    "\n",
    "    \n",
    "    "
   ]
  },
  {
   "cell_type": "code",
   "execution_count": 36,
   "metadata": {},
   "outputs": [],
   "source": []
  },
  {
   "cell_type": "code",
   "execution_count": 36,
   "metadata": {
    "collapsed": true
   },
   "outputs": [],
   "source": []
  }
 ],
 "metadata": {
  "kernelspec": {
   "display_name": "Python 3",
   "language": "python",
   "name": "python3"
  },
  "language_info": {
   "codemirror_mode": {
    "name": "ipython",
    "version": 3
   },
   "file_extension": ".py",
   "mimetype": "text/x-python",
   "name": "python",
   "nbconvert_exporter": "python",
   "pygments_lexer": "ipython3",
   "version": "3.6.6"
  }
 },
 "nbformat": 4,
 "nbformat_minor": 1
}
