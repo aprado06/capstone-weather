{
 "cells": [
  {
   "cell_type": "code",
   "execution_count": 1,
   "metadata": {
    "collapsed": true
   },
   "outputs": [],
   "source": [
    "from sklearn import linear_model\n",
    "from sklearn.metrics import mean_squared_error, r2_score\n",
    "\n",
    "import numpy as np\n",
    "from sklearn.model_selection import KFold\n",
    "\n",
    "import matplotlib.pyplot as plt; \n",
    "import pandas as pd\n",
    "plt.rcdefaults()\n",
    "%matplotlib inline\n",
    "\n",
    "import PIL\n",
    "import glob\n",
    "import scikitplot as skplt"
   ]
  },
  {
   "cell_type": "code",
   "execution_count": 2,
   "metadata": {
    "collapsed": true
   },
   "outputs": [],
   "source": [
    "X_train = []\n",
    "input_names = [\"Band 1\", \"Band 2\", \"Band 3\", \"Band 4\", \"Band 6\", \"MRH\", \"MSH\", \"MTE\", \"MVI\"]\n",
    "X_names = np.asarray(input_names)\n",
    "\n",
    "y_train = []"
   ]
  },
  {
   "cell_type": "code",
   "execution_count": 3,
   "metadata": {},
   "outputs": [
    {
     "data": {
      "text/plain": [
       "['../satyam_rad_sat_mod_npy/sa1_npy/sat.2017030620.npy',\n",
       " '../satyam_rad_sat_mod_npy/sa1_npy/sat.2017010216.npy',\n",
       " '../satyam_rad_sat_mod_npy/sa1_npy/sat.2017030920.npy',\n",
       " '../satyam_rad_sat_mod_npy/sa1_npy/sat.2017010218.npy',\n",
       " '../satyam_rad_sat_mod_npy/sa1_npy/sat.2017030919.npy',\n",
       " '../satyam_rad_sat_mod_npy/sa1_npy/sat.2017010219.npy',\n",
       " '../satyam_rad_sat_mod_npy/sa1_npy/sat.2017031318.npy',\n",
       " '../satyam_rad_sat_mod_npy/sa1_npy/sat.2017010220.npy',\n",
       " '../satyam_rad_sat_mod_npy/sa1_npy/sat.2017031319.npy',\n",
       " '../satyam_rad_sat_mod_npy/sa1_npy/sat.2017012116.npy',\n",
       " '../satyam_rad_sat_mod_npy/sa1_npy/sat.2017031320.npy',\n",
       " '../satyam_rad_sat_mod_npy/sa1_npy/sat.2017012118.npy',\n",
       " '../satyam_rad_sat_mod_npy/sa1_npy/sat.2017032119.npy',\n",
       " '../satyam_rad_sat_mod_npy/sa1_npy/sat.2017012119.npy',\n",
       " '../satyam_rad_sat_mod_npy/sa1_npy/sat.2017032716.npy',\n",
       " '../satyam_rad_sat_mod_npy/sa1_npy/sat.2017012120.npy',\n",
       " '../satyam_rad_sat_mod_npy/sa1_npy/sat.2017032718.npy',\n",
       " '../satyam_rad_sat_mod_npy/sa1_npy/sat.2017012216.npy',\n",
       " '../satyam_rad_sat_mod_npy/sa1_npy/sat.2017032719.npy',\n",
       " '../satyam_rad_sat_mod_npy/sa1_npy/sat.2017012218.npy',\n",
       " '../satyam_rad_sat_mod_npy/sa1_npy/sat.2017032720.npy',\n",
       " '../satyam_rad_sat_mod_npy/sa1_npy/sat.2017012219.npy',\n",
       " '../satyam_rad_sat_mod_npy/sa1_npy/sat.2017032818.npy',\n",
       " '../satyam_rad_sat_mod_npy/sa1_npy/sat.2017012220.npy',\n",
       " '../satyam_rad_sat_mod_npy/sa1_npy/sat.2017032819.npy',\n",
       " '../satyam_rad_sat_mod_npy/sa1_npy/sat.2017012418.npy',\n",
       " '../satyam_rad_sat_mod_npy/sa1_npy/sat.2017032820.npy',\n",
       " '../satyam_rad_sat_mod_npy/sa1_npy/sat.2017012419.npy',\n",
       " '../satyam_rad_sat_mod_npy/sa1_npy/sat.2017032918.npy',\n",
       " '../satyam_rad_sat_mod_npy/sa1_npy/sat.2017012420.npy',\n",
       " '../satyam_rad_sat_mod_npy/sa1_npy/sat.2017032919.npy',\n",
       " '../satyam_rad_sat_mod_npy/sa1_npy/sat.2017020620.npy',\n",
       " '../satyam_rad_sat_mod_npy/sa1_npy/sat.2017032920.npy',\n",
       " '../satyam_rad_sat_mod_npy/sa1_npy/sat.2017020716.npy',\n",
       " '../satyam_rad_sat_mod_npy/sa1_npy/sat.2017033018.npy',\n",
       " '../satyam_rad_sat_mod_npy/sa1_npy/sat.2017020718.npy',\n",
       " '../satyam_rad_sat_mod_npy/sa1_npy/sat.2017033019.npy',\n",
       " '../satyam_rad_sat_mod_npy/sa1_npy/sat.2017020719.npy',\n",
       " '../satyam_rad_sat_mod_npy/sa1_npy/sat.2017033020.npy',\n",
       " '../satyam_rad_sat_mod_npy/sa1_npy/sat.2017020720.npy',\n",
       " '../satyam_rad_sat_mod_npy/sa1_npy/sat.2017040119.npy',\n",
       " '../satyam_rad_sat_mod_npy/sa1_npy/sat.2017021116.npy',\n",
       " '../satyam_rad_sat_mod_npy/sa1_npy/sat.2017040120.npy',\n",
       " '../satyam_rad_sat_mod_npy/sa1_npy/sat.2017021120.npy',\n",
       " '../satyam_rad_sat_mod_npy/sa1_npy/sat.2017040216.npy',\n",
       " '../satyam_rad_sat_mod_npy/sa1_npy/sat.2017021416.npy',\n",
       " '../satyam_rad_sat_mod_npy/sa1_npy/sat.2017040218.npy',\n",
       " '../satyam_rad_sat_mod_npy/sa1_npy/sat.2017021418.npy',\n",
       " '../satyam_rad_sat_mod_npy/sa1_npy/sat.2017040219.npy',\n",
       " '../satyam_rad_sat_mod_npy/sa1_npy/sat.2017021419.npy',\n",
       " '../satyam_rad_sat_mod_npy/sa1_npy/sat.2017040220.npy',\n",
       " '../satyam_rad_sat_mod_npy/sa1_npy/sat.2017021420.npy',\n",
       " '../satyam_rad_sat_mod_npy/sa1_npy/sat.2017040316.npy',\n",
       " '../satyam_rad_sat_mod_npy/sa1_npy/sat.2017022316.npy',\n",
       " '../satyam_rad_sat_mod_npy/sa1_npy/sat.2017040318.npy',\n",
       " '../satyam_rad_sat_mod_npy/sa1_npy/sat.2017022318.npy',\n",
       " '../satyam_rad_sat_mod_npy/sa1_npy/sat.2017040319.npy',\n",
       " '../satyam_rad_sat_mod_npy/sa1_npy/sat.2017022319.npy',\n",
       " '../satyam_rad_sat_mod_npy/sa1_npy/sat.2017040320.npy',\n",
       " '../satyam_rad_sat_mod_npy/sa1_npy/sat.2017022320.npy',\n",
       " '../satyam_rad_sat_mod_npy/sa1_npy/sat.2017040420.npy',\n",
       " '../satyam_rad_sat_mod_npy/sa1_npy/sat.2017022416.npy',\n",
       " '../satyam_rad_sat_mod_npy/sa1_npy/sat.2017040516.npy',\n",
       " '../satyam_rad_sat_mod_npy/sa1_npy/sat.2017022418.npy',\n",
       " '../satyam_rad_sat_mod_npy/sa1_npy/sat.2017040518.npy',\n",
       " '../satyam_rad_sat_mod_npy/sa1_npy/sat.2017022419.npy',\n",
       " '../satyam_rad_sat_mod_npy/sa1_npy/sat.2017040519.npy',\n",
       " '../satyam_rad_sat_mod_npy/sa1_npy/sat.2017022420.npy',\n",
       " '../satyam_rad_sat_mod_npy/sa1_npy/sat.2017040520.npy',\n",
       " '../satyam_rad_sat_mod_npy/sa1_npy/sat.2017022516.npy',\n",
       " '../satyam_rad_sat_mod_npy/sa1_npy/sat.2017041216.npy',\n",
       " '../satyam_rad_sat_mod_npy/sa1_npy/sat.2017022518.npy',\n",
       " '../satyam_rad_sat_mod_npy/sa1_npy/sat.2017041218.npy',\n",
       " '../satyam_rad_sat_mod_npy/sa1_npy/sat.2017022519.npy',\n",
       " '../satyam_rad_sat_mod_npy/sa1_npy/sat.2017041219.npy',\n",
       " '../satyam_rad_sat_mod_npy/sa1_npy/sat.2017022816.npy',\n",
       " '../satyam_rad_sat_mod_npy/sa1_npy/sat.2017041220.npy',\n",
       " '../satyam_rad_sat_mod_npy/sa1_npy/sat.2017022818.npy',\n",
       " '../satyam_rad_sat_mod_npy/sa1_npy/sat.2017041520.npy',\n",
       " '../satyam_rad_sat_mod_npy/sa1_npy/sat.2017022819.npy',\n",
       " '../satyam_rad_sat_mod_npy/sa1_npy/sat.2017041719.npy',\n",
       " '../satyam_rad_sat_mod_npy/sa1_npy/sat.2017022820.npy',\n",
       " '../satyam_rad_sat_mod_npy/sa1_npy/sat.2017041720.npy',\n",
       " '../satyam_rad_sat_mod_npy/sa1_npy/sat.2017030118.npy',\n",
       " '../satyam_rad_sat_mod_npy/sa1_npy/sat.2017041916.npy',\n",
       " '../satyam_rad_sat_mod_npy/sa1_npy/sat.2017030119.npy',\n",
       " '../satyam_rad_sat_mod_npy/sa1_npy/sat.2017041918.npy',\n",
       " '../satyam_rad_sat_mod_npy/sa1_npy/sat.2017030120.npy',\n",
       " '../satyam_rad_sat_mod_npy/sa1_npy/sat.2017041919.npy',\n",
       " '../satyam_rad_sat_mod_npy/sa1_npy/sat.2017030419.npy',\n",
       " '../satyam_rad_sat_mod_npy/sa1_npy/sat.2017041920.npy',\n",
       " '../satyam_rad_sat_mod_npy/sa1_npy/sat.2017030420.npy',\n",
       " '../satyam_rad_sat_mod_npy/sa1_npy/sat.2017042016.npy',\n",
       " '../satyam_rad_sat_mod_npy/sa1_npy/sat.2017030616.npy',\n",
       " '../satyam_rad_sat_mod_npy/sa1_npy/sat.2017042018.npy',\n",
       " '../satyam_rad_sat_mod_npy/sa1_npy/sat.2017030618.npy',\n",
       " '../satyam_rad_sat_mod_npy/sa1_npy/sat.2017042019.npy',\n",
       " '../satyam_rad_sat_mod_npy/sa1_npy/sat.2017030619.npy',\n",
       " '../satyam_rad_sat_mod_npy/sa1_npy/sat.2017031416.npy',\n",
       " '../satyam_rad_sat_mod_npy/sa1_npy/sat.2017042020.npy',\n",
       " '../satyam_rad_sat_mod_npy/sa1_npy/sat.2017031418.npy',\n",
       " '../satyam_rad_sat_mod_npy/sa1_npy/sat.2017042116.npy',\n",
       " '../satyam_rad_sat_mod_npy/sa1_npy/sat.2017031419.npy',\n",
       " '../satyam_rad_sat_mod_npy/sa1_npy/sat.2017042118.npy',\n",
       " '../satyam_rad_sat_mod_npy/sa1_npy/sat.2017031420.npy',\n",
       " '../satyam_rad_sat_mod_npy/sa1_npy/sat.2017042119.npy',\n",
       " '../satyam_rad_sat_mod_npy/sa1_npy/sat.2017032116.npy',\n",
       " '../satyam_rad_sat_mod_npy/sa1_npy/sat.2017042120.npy',\n",
       " '../satyam_rad_sat_mod_npy/sa1_npy/sat.2017032118.npy',\n",
       " '../satyam_rad_sat_mod_npy/sa1_npy/sat.2017042416.npy',\n",
       " '../satyam_rad_sat_mod_npy/sa1_npy/sat.2017042418.npy',\n",
       " '../satyam_rad_sat_mod_npy/sa1_npy/sat.2017042419.npy',\n",
       " '../satyam_rad_sat_mod_npy/sa1_npy/sat.2017042520.npy',\n",
       " '../satyam_rad_sat_mod_npy/sa1_npy/sat.2017042616.npy',\n",
       " '../satyam_rad_sat_mod_npy/sa1_npy/sat.2017042618.npy',\n",
       " '../satyam_rad_sat_mod_npy/sa1_npy/sat.2017042619.npy',\n",
       " '../satyam_rad_sat_mod_npy/sa1_npy/sat.2017042620.npy',\n",
       " '../satyam_rad_sat_mod_npy/sa1_npy/sat.2017042816.npy',\n",
       " '../satyam_rad_sat_mod_npy/sa1_npy/sat.2017042818.npy',\n",
       " '../satyam_rad_sat_mod_npy/sa1_npy/sat.2017042819.npy',\n",
       " '../satyam_rad_sat_mod_npy/sa1_npy/sat.2017042820.npy',\n",
       " '../satyam_rad_sat_mod_npy/sa1_npy/sat.2017042916.npy',\n",
       " '../satyam_rad_sat_mod_npy/sa1_npy/sat.2017042919.npy',\n",
       " '../satyam_rad_sat_mod_npy/sa1_npy/sat.2017042920.npy',\n",
       " '../satyam_rad_sat_mod_npy/sa1_npy/sat.2017043016.npy',\n",
       " '../satyam_rad_sat_mod_npy/sa1_npy/sat.2017043018.npy',\n",
       " '../satyam_rad_sat_mod_npy/sa1_npy/sat.2017043019.npy',\n",
       " '../satyam_rad_sat_mod_npy/sa1_npy/sat.2017043020.npy',\n",
       " '../satyam_rad_sat_mod_npy/sa1_npy/sat.2017050116.npy',\n",
       " '../satyam_rad_sat_mod_npy/sa1_npy/sat.2017050118.npy',\n",
       " '../satyam_rad_sat_mod_npy/sa1_npy/sat.2017050119.npy',\n",
       " '../satyam_rad_sat_mod_npy/sa1_npy/sat.2017050120.npy',\n",
       " '../satyam_rad_sat_mod_npy/sa1_npy/sat.2017050316.npy',\n",
       " '../satyam_rad_sat_mod_npy/sa1_npy/sat.2017050318.npy',\n",
       " '../satyam_rad_sat_mod_npy/sa1_npy/sat.2017050319.npy',\n",
       " '../satyam_rad_sat_mod_npy/sa1_npy/sat.2017050320.npy',\n",
       " '../satyam_rad_sat_mod_npy/sa1_npy/sat.2017050416.npy',\n",
       " '../satyam_rad_sat_mod_npy/sa1_npy/sat.2017050418.npy',\n",
       " '../satyam_rad_sat_mod_npy/sa1_npy/sat.2017050420.npy',\n",
       " '../satyam_rad_sat_mod_npy/sa1_npy/sat.2017050918.npy',\n",
       " '../satyam_rad_sat_mod_npy/sa1_npy/sat.2017050919.npy',\n",
       " '../satyam_rad_sat_mod_npy/sa1_npy/sat.2017050920.npy',\n",
       " '../satyam_rad_sat_mod_npy/sa1_npy/sat.2017051119.npy',\n",
       " '../satyam_rad_sat_mod_npy/sa1_npy/sat.2017051120.npy',\n",
       " '../satyam_rad_sat_mod_npy/sa1_npy/sat.2017051518.npy',\n",
       " '../satyam_rad_sat_mod_npy/sa1_npy/sat.2017051520.npy',\n",
       " '../satyam_rad_sat_mod_npy/sa1_npy/sat.2017051619.npy',\n",
       " '../satyam_rad_sat_mod_npy/sa1_npy/sat.2017051620.npy',\n",
       " '../satyam_rad_sat_mod_npy/sa1_npy/sat.2017051716.npy',\n",
       " '../satyam_rad_sat_mod_npy/sa1_npy/sat.2017051718.npy',\n",
       " '../satyam_rad_sat_mod_npy/sa1_npy/sat.2017051719.npy',\n",
       " '../satyam_rad_sat_mod_npy/sa1_npy/sat.2017051720.npy',\n",
       " '../satyam_rad_sat_mod_npy/sa1_npy/sat.2017051816.npy',\n",
       " '../satyam_rad_sat_mod_npy/sa1_npy/sat.2017051818.npy',\n",
       " '../satyam_rad_sat_mod_npy/sa1_npy/sat.2017051819.npy',\n",
       " '../satyam_rad_sat_mod_npy/sa1_npy/sat.2017051820.npy',\n",
       " '../satyam_rad_sat_mod_npy/sa1_npy/sat.2017051916.npy',\n",
       " '../satyam_rad_sat_mod_npy/sa1_npy/sat.2017051918.npy',\n",
       " '../satyam_rad_sat_mod_npy/sa1_npy/sat.2017051919.npy',\n",
       " '../satyam_rad_sat_mod_npy/sa1_npy/sat.2017051920.npy',\n",
       " '../satyam_rad_sat_mod_npy/sa1_npy/sat.2017052316.npy',\n",
       " '../satyam_rad_sat_mod_npy/sa1_npy/sat.2017052318.npy',\n",
       " '../satyam_rad_sat_mod_npy/sa1_npy/sat.2017052319.npy',\n",
       " '../satyam_rad_sat_mod_npy/sa1_npy/sat.2017052320.npy',\n",
       " '../satyam_rad_sat_mod_npy/sa1_npy/sat.2017052416.npy',\n",
       " '../satyam_rad_sat_mod_npy/sa1_npy/sat.2017052418.npy',\n",
       " '../satyam_rad_sat_mod_npy/sa1_npy/sat.2017052419.npy',\n",
       " '../satyam_rad_sat_mod_npy/sa1_npy/sat.2017052420.npy',\n",
       " '../satyam_rad_sat_mod_npy/sa1_npy/sat.2017052520.npy',\n",
       " '../satyam_rad_sat_mod_npy/sa1_npy/sat.2017052618.npy',\n",
       " '../satyam_rad_sat_mod_npy/sa1_npy/sat.2017052619.npy',\n",
       " '../satyam_rad_sat_mod_npy/sa1_npy/sat.2017052620.npy',\n",
       " '../satyam_rad_sat_mod_npy/sa1_npy/sat.2017052716.npy',\n",
       " '../satyam_rad_sat_mod_npy/sa1_npy/sat.2017052718.npy',\n",
       " '../satyam_rad_sat_mod_npy/sa1_npy/sat.2017052719.npy',\n",
       " '../satyam_rad_sat_mod_npy/sa1_npy/sat.2017052720.npy',\n",
       " '../satyam_rad_sat_mod_npy/sa1_npy/sat.2017052819.npy',\n",
       " '../satyam_rad_sat_mod_npy/sa1_npy/sat.2017052820.npy',\n",
       " '../satyam_rad_sat_mod_npy/sa1_npy/sat.2017053016.npy',\n",
       " '../satyam_rad_sat_mod_npy/sa1_npy/sat.2017053018.npy',\n",
       " '../satyam_rad_sat_mod_npy/sa1_npy/sat.2017053019.npy',\n",
       " '../satyam_rad_sat_mod_npy/sa1_npy/sat.2017053020.npy',\n",
       " '../satyam_rad_sat_mod_npy/sa1_npy/sat.2017060518.npy',\n",
       " '../satyam_rad_sat_mod_npy/sa1_npy/sat.2017060519.npy',\n",
       " '../satyam_rad_sat_mod_npy/sa1_npy/sat.2017060520.npy',\n",
       " '../satyam_rad_sat_mod_npy/sa1_npy/sat.2017060719.npy',\n",
       " '../satyam_rad_sat_mod_npy/sa1_npy/sat.2017060720.npy',\n",
       " '../satyam_rad_sat_mod_npy/sa1_npy/sat.2017060818.npy',\n",
       " '../satyam_rad_sat_mod_npy/sa1_npy/sat.2017060819.npy',\n",
       " '../satyam_rad_sat_mod_npy/sa1_npy/sat.2017060820.npy',\n",
       " '../satyam_rad_sat_mod_npy/sa1_npy/sat.2017060920.npy',\n",
       " '../satyam_rad_sat_mod_npy/sa1_npy/sat.2017061216.npy',\n",
       " '../satyam_rad_sat_mod_npy/sa1_npy/sat.2017061218.npy',\n",
       " '../satyam_rad_sat_mod_npy/sa1_npy/sat.2017061219.npy',\n",
       " '../satyam_rad_sat_mod_npy/sa1_npy/sat.2017061220.npy',\n",
       " '../satyam_rad_sat_mod_npy/sa1_npy/sat.2017061316.npy',\n",
       " '../satyam_rad_sat_mod_npy/sa1_npy/sat.2017061318.npy',\n",
       " '../satyam_rad_sat_mod_npy/sa1_npy/sat.2017061320.npy',\n",
       " '../satyam_rad_sat_mod_npy/sa1_npy/sat.2017061518.npy',\n",
       " '../satyam_rad_sat_mod_npy/sa1_npy/sat.2017061519.npy',\n",
       " '../satyam_rad_sat_mod_npy/sa1_npy/sat.2017061520.npy',\n",
       " '../satyam_rad_sat_mod_npy/sa1_npy/sat.2017061718.npy',\n",
       " '../satyam_rad_sat_mod_npy/sa1_npy/sat.2017061719.npy',\n",
       " '../satyam_rad_sat_mod_npy/sa1_npy/sat.2017061720.npy',\n",
       " '../satyam_rad_sat_mod_npy/sa1_npy/sat.2017061916.npy',\n",
       " '../satyam_rad_sat_mod_npy/sa1_npy/sat.2017061918.npy',\n",
       " '../satyam_rad_sat_mod_npy/sa1_npy/sat.2017061919.npy',\n",
       " '../satyam_rad_sat_mod_npy/sa1_npy/sat.2017061920.npy',\n",
       " '../satyam_rad_sat_mod_npy/sa1_npy/sat.2017062016.npy',\n",
       " '../satyam_rad_sat_mod_npy/sa1_npy/sat.2017062018.npy',\n",
       " '../satyam_rad_sat_mod_npy/sa1_npy/sat.2017062019.npy',\n",
       " '../satyam_rad_sat_mod_npy/sa1_npy/sat.2017062020.npy',\n",
       " '../satyam_rad_sat_mod_npy/sa1_npy/sat.2017062116.npy',\n",
       " '../satyam_rad_sat_mod_npy/sa1_npy/sat.2017062118.npy',\n",
       " '../satyam_rad_sat_mod_npy/sa1_npy/sat.2017062119.npy',\n",
       " '../satyam_rad_sat_mod_npy/sa1_npy/sat.2017062120.npy',\n",
       " '../satyam_rad_sat_mod_npy/sa1_npy/sat.2017062216.npy',\n",
       " '../satyam_rad_sat_mod_npy/sa1_npy/sat.2017062218.npy',\n",
       " '../satyam_rad_sat_mod_npy/sa1_npy/sat.2017062219.npy',\n",
       " '../satyam_rad_sat_mod_npy/sa1_npy/sat.2017062220.npy',\n",
       " '../satyam_rad_sat_mod_npy/sa1_npy/sat.2017062316.npy',\n",
       " '../satyam_rad_sat_mod_npy/sa1_npy/sat.2017062318.npy',\n",
       " '../satyam_rad_sat_mod_npy/sa1_npy/sat.2017062319.npy',\n",
       " '../satyam_rad_sat_mod_npy/sa1_npy/sat.2017062320.npy',\n",
       " '../satyam_rad_sat_mod_npy/sa1_npy/sat.2017062619.npy',\n",
       " '../satyam_rad_sat_mod_npy/sa1_npy/sat.2017062620.npy',\n",
       " '../satyam_rad_sat_mod_npy/sa1_npy/sat.2017062820.npy',\n",
       " '../satyam_rad_sat_mod_npy/sa1_npy/sat.2017062918.npy',\n",
       " '../satyam_rad_sat_mod_npy/sa1_npy/sat.2017062919.npy',\n",
       " '../satyam_rad_sat_mod_npy/sa1_npy/sat.2017062920.npy',\n",
       " '../satyam_rad_sat_mod_npy/sa1_npy/sat.2017063016.npy',\n",
       " '../satyam_rad_sat_mod_npy/sa1_npy/sat.2017063018.npy',\n",
       " '../satyam_rad_sat_mod_npy/sa1_npy/sat.2017063019.npy',\n",
       " '../satyam_rad_sat_mod_npy/sa1_npy/sat.2017063020.npy',\n",
       " '../satyam_rad_sat_mod_npy/sa1_npy/sat.2017070318.npy',\n",
       " '../satyam_rad_sat_mod_npy/sa1_npy/sat.2017070319.npy',\n",
       " '../satyam_rad_sat_mod_npy/sa1_npy/sat.2017070320.npy',\n",
       " '../satyam_rad_sat_mod_npy/sa1_npy/sat.2017070518.npy',\n",
       " '../satyam_rad_sat_mod_npy/sa1_npy/sat.2017070519.npy',\n",
       " '../satyam_rad_sat_mod_npy/sa1_npy/sat.2017070520.npy',\n",
       " '../satyam_rad_sat_mod_npy/sa1_npy/sat.2017070616.npy',\n",
       " '../satyam_rad_sat_mod_npy/sa1_npy/sat.2017070618.npy',\n",
       " '../satyam_rad_sat_mod_npy/sa1_npy/sat.2017070619.npy',\n",
       " '../satyam_rad_sat_mod_npy/sa1_npy/sat.2017070620.npy',\n",
       " '../satyam_rad_sat_mod_npy/sa1_npy/sat.2017070716.npy',\n",
       " '../satyam_rad_sat_mod_npy/sa1_npy/sat.2017070718.npy',\n",
       " '../satyam_rad_sat_mod_npy/sa1_npy/sat.2017070719.npy',\n",
       " '../satyam_rad_sat_mod_npy/sa1_npy/sat.2017070720.npy',\n",
       " '../satyam_rad_sat_mod_npy/sa1_npy/sat.2017070919.npy',\n",
       " '../satyam_rad_sat_mod_npy/sa1_npy/sat.2017070920.npy',\n",
       " '../satyam_rad_sat_mod_npy/sa1_npy/sat.2017071116.npy',\n",
       " '../satyam_rad_sat_mod_npy/sa1_npy/sat.2017071118.npy',\n",
       " '../satyam_rad_sat_mod_npy/sa1_npy/sat.2017071119.npy',\n",
       " '../satyam_rad_sat_mod_npy/sa1_npy/sat.2017071120.npy',\n",
       " '../satyam_rad_sat_mod_npy/sa1_npy/sat.2017071318.npy',\n",
       " '../satyam_rad_sat_mod_npy/sa1_npy/sat.2017071319.npy',\n",
       " '../satyam_rad_sat_mod_npy/sa1_npy/sat.2017071320.npy',\n",
       " '../satyam_rad_sat_mod_npy/sa1_npy/sat.2017071916.npy',\n",
       " '../satyam_rad_sat_mod_npy/sa1_npy/sat.2017071918.npy',\n",
       " '../satyam_rad_sat_mod_npy/sa1_npy/sat.2017071919.npy',\n",
       " '../satyam_rad_sat_mod_npy/sa1_npy/sat.2017071920.npy',\n",
       " '../satyam_rad_sat_mod_npy/sa1_npy/sat.2017072019.npy',\n",
       " '../satyam_rad_sat_mod_npy/sa1_npy/sat.2017072020.npy',\n",
       " '../satyam_rad_sat_mod_npy/sa1_npy/sat.2017072116.npy',\n",
       " '../satyam_rad_sat_mod_npy/sa1_npy/sat.2017072118.npy',\n",
       " '../satyam_rad_sat_mod_npy/sa1_npy/sat.2017072119.npy',\n",
       " '../satyam_rad_sat_mod_npy/sa1_npy/sat.2017072120.npy',\n",
       " '../satyam_rad_sat_mod_npy/sa1_npy/sat.2017072519.npy',\n",
       " '../satyam_rad_sat_mod_npy/sa1_npy/sat.2017072520.npy',\n",
       " '../satyam_rad_sat_mod_npy/sa1_npy/sat.2017080916.npy',\n",
       " '../satyam_rad_sat_mod_npy/sa1_npy/sat.2017080918.npy',\n",
       " '../satyam_rad_sat_mod_npy/sa1_npy/sat.2017080919.npy',\n",
       " '../satyam_rad_sat_mod_npy/sa1_npy/sat.2017080920.npy',\n",
       " '../satyam_rad_sat_mod_npy/sa1_npy/sat.2017081616.npy',\n",
       " '../satyam_rad_sat_mod_npy/sa1_npy/sat.2017081618.npy',\n",
       " '../satyam_rad_sat_mod_npy/sa1_npy/sat.2017081619.npy',\n",
       " '../satyam_rad_sat_mod_npy/sa1_npy/sat.2017081620.npy',\n",
       " '../satyam_rad_sat_mod_npy/sa1_npy/sat.2017081818.npy',\n",
       " '../satyam_rad_sat_mod_npy/sa1_npy/sat.2017081819.npy',\n",
       " '../satyam_rad_sat_mod_npy/sa1_npy/sat.2017081820.npy',\n",
       " '../satyam_rad_sat_mod_npy/sa1_npy/sat.2017082216.npy',\n",
       " '../satyam_rad_sat_mod_npy/sa1_npy/sat.2017082218.npy',\n",
       " '../satyam_rad_sat_mod_npy/sa1_npy/sat.2017082219.npy',\n",
       " '../satyam_rad_sat_mod_npy/sa1_npy/sat.2017082220.npy',\n",
       " '../satyam_rad_sat_mod_npy/sa1_npy/sat.2017082316.npy',\n",
       " '../satyam_rad_sat_mod_npy/sa1_npy/sat.2017082318.npy',\n",
       " '../satyam_rad_sat_mod_npy/sa1_npy/sat.2017082319.npy',\n",
       " '../satyam_rad_sat_mod_npy/sa1_npy/sat.2017082320.npy',\n",
       " '../satyam_rad_sat_mod_npy/sa1_npy/sat.2017082416.npy',\n",
       " '../satyam_rad_sat_mod_npy/sa1_npy/sat.2017082418.npy',\n",
       " '../satyam_rad_sat_mod_npy/sa1_npy/sat.2017082419.npy',\n",
       " '../satyam_rad_sat_mod_npy/sa1_npy/sat.2017082420.npy',\n",
       " '../satyam_rad_sat_mod_npy/sa1_npy/sat.2017082516.npy',\n",
       " '../satyam_rad_sat_mod_npy/sa1_npy/sat.2017082518.npy',\n",
       " '../satyam_rad_sat_mod_npy/sa1_npy/sat.2017082519.npy',\n",
       " '../satyam_rad_sat_mod_npy/sa1_npy/sat.2017082520.npy',\n",
       " '../satyam_rad_sat_mod_npy/sa1_npy/sat.2017082616.npy',\n",
       " '../satyam_rad_sat_mod_npy/sa1_npy/sat.2017082618.npy',\n",
       " '../satyam_rad_sat_mod_npy/sa1_npy/sat.2017082619.npy',\n",
       " '../satyam_rad_sat_mod_npy/sa1_npy/sat.2017082620.npy',\n",
       " '../satyam_rad_sat_mod_npy/sa1_npy/sat.2017090116.npy',\n",
       " '../satyam_rad_sat_mod_npy/sa1_npy/sat.2017090118.npy',\n",
       " '../satyam_rad_sat_mod_npy/sa1_npy/sat.2017090119.npy',\n",
       " '../satyam_rad_sat_mod_npy/sa1_npy/sat.2017090120.npy',\n",
       " '../satyam_rad_sat_mod_npy/sa1_npy/sat.2017090416.npy',\n",
       " '../satyam_rad_sat_mod_npy/sa1_npy/sat.2017090418.npy',\n",
       " '../satyam_rad_sat_mod_npy/sa1_npy/sat.2017090419.npy',\n",
       " '../satyam_rad_sat_mod_npy/sa1_npy/sat.2017090420.npy',\n",
       " '../satyam_rad_sat_mod_npy/sa1_npy/sat.2017090518.npy',\n",
       " '../satyam_rad_sat_mod_npy/sa1_npy/sat.2017090519.npy',\n",
       " '../satyam_rad_sat_mod_npy/sa1_npy/sat.2017090520.npy',\n",
       " '../satyam_rad_sat_mod_npy/sa1_npy/sat.2017090819.npy',\n",
       " '../satyam_rad_sat_mod_npy/sa1_npy/sat.2017090820.npy',\n",
       " '../satyam_rad_sat_mod_npy/sa1_npy/sat.2017090916.npy',\n",
       " '../satyam_rad_sat_mod_npy/sa1_npy/sat.2017090918.npy',\n",
       " '../satyam_rad_sat_mod_npy/sa1_npy/sat.2017090919.npy',\n",
       " '../satyam_rad_sat_mod_npy/sa1_npy/sat.2017090920.npy',\n",
       " '../satyam_rad_sat_mod_npy/sa1_npy/sat.2017091016.npy',\n",
       " '../satyam_rad_sat_mod_npy/sa1_npy/sat.2017091018.npy',\n",
       " '../satyam_rad_sat_mod_npy/sa1_npy/sat.2017091019.npy',\n",
       " '../satyam_rad_sat_mod_npy/sa1_npy/sat.2017091020.npy',\n",
       " '../satyam_rad_sat_mod_npy/sa1_npy/sat.2017091116.npy',\n",
       " '../satyam_rad_sat_mod_npy/sa1_npy/sat.2017091119.npy',\n",
       " '../satyam_rad_sat_mod_npy/sa1_npy/sat.2017091120.npy',\n",
       " '../satyam_rad_sat_mod_npy/sa1_npy/sat.2017091918.npy',\n",
       " '../satyam_rad_sat_mod_npy/sa1_npy/sat.2017091919.npy',\n",
       " '../satyam_rad_sat_mod_npy/sa1_npy/sat.2017091920.npy',\n",
       " '../satyam_rad_sat_mod_npy/sa1_npy/sat.2017092318.npy',\n",
       " '../satyam_rad_sat_mod_npy/sa1_npy/sat.2017092319.npy',\n",
       " '../satyam_rad_sat_mod_npy/sa1_npy/sat.2017092320.npy',\n",
       " '../satyam_rad_sat_mod_npy/sa1_npy/sat.2017093016.npy',\n",
       " '../satyam_rad_sat_mod_npy/sa1_npy/sat.2017100118.npy',\n",
       " '../satyam_rad_sat_mod_npy/sa1_npy/sat.2017100119.npy',\n",
       " '../satyam_rad_sat_mod_npy/sa1_npy/sat.2017100120.npy',\n",
       " '../satyam_rad_sat_mod_npy/sa1_npy/sat.2017100616.npy',\n",
       " '../satyam_rad_sat_mod_npy/sa1_npy/sat.2017100618.npy',\n",
       " '../satyam_rad_sat_mod_npy/sa1_npy/sat.2017100619.npy',\n",
       " '../satyam_rad_sat_mod_npy/sa1_npy/sat.2017100620.npy',\n",
       " '../satyam_rad_sat_mod_npy/sa1_npy/sat.2017101418.npy',\n",
       " '../satyam_rad_sat_mod_npy/sa1_npy/sat.2017101419.npy',\n",
       " '../satyam_rad_sat_mod_npy/sa1_npy/sat.2017101420.npy',\n",
       " '../satyam_rad_sat_mod_npy/sa1_npy/sat.2017102119.npy',\n",
       " '../satyam_rad_sat_mod_npy/sa1_npy/sat.2017102120.npy',\n",
       " '../satyam_rad_sat_mod_npy/sa1_npy/sat.2017102820.npy',\n",
       " '../satyam_rad_sat_mod_npy/sa1_npy/sat.2017110519.npy',\n",
       " '../satyam_rad_sat_mod_npy/sa1_npy/sat.2017110520.npy',\n",
       " '../satyam_rad_sat_mod_npy/sa1_npy/sat.2017120818.npy',\n",
       " '../satyam_rad_sat_mod_npy/sa1_npy/sat.2017120819.npy',\n",
       " '../satyam_rad_sat_mod_npy/sa1_npy/sat.2017120820.npy']"
      ]
     },
     "execution_count": 3,
     "metadata": {},
     "output_type": "execute_result"
    }
   ],
   "source": [
    "folder = \"../satyam_rad_sat_mod_npy/\"\n",
    "Sa1_files_all = glob.glob(\"../satyam_rad_sat_mod_npy/sa1_npy/*.npy\")\n",
    "Sa1_files_all"
   ]
  },
  {
   "cell_type": "code",
   "execution_count": 4,
   "metadata": {},
   "outputs": [],
   "source": [
    "# Test Train Split for Files\n",
    "import random\n",
    "import math\n",
    "SEED = 42\n",
    "random.seed(SEED)\n",
    "random.shuffle(Sa1_files_all)\n",
    "\n",
    "Sa1_files_all.sort()\n",
    "\n",
    "size_Sa1 = len(Sa1_files_all)\n",
    "\n",
    "Sa1_files_train_size = math.ceil(size_Sa1*.75)\n",
    "Sa1_files_test_size = size_Sa1 - Sa1_files_train_size\n",
    "\n",
    "Sa1_files_train = Sa1_files_all[:Sa1_files_train_size]\n",
    "Sa1_files_test = Sa1_files_all[Sa1_files_train_size:]"
   ]
  },
  {
   "cell_type": "code",
   "execution_count": 5,
   "metadata": {},
   "outputs": [
    {
     "data": {
      "text/plain": [
       "262"
      ]
     },
     "execution_count": 5,
     "metadata": {},
     "output_type": "execute_result"
    }
   ],
   "source": [
    "np.size(Sa1_files_train)"
   ]
  },
  {
   "cell_type": "code",
   "execution_count": 6,
   "metadata": {},
   "outputs": [
    {
     "data": {
      "text/plain": [
       "87"
      ]
     },
     "execution_count": 6,
     "metadata": {},
     "output_type": "execute_result"
    }
   ],
   "source": [
    "np.size(Sa1_files_test)"
   ]
  },
  {
   "cell_type": "code",
   "execution_count": 7,
   "metadata": {},
   "outputs": [
    {
     "data": {
      "text/plain": [
       "['../satyam_rad_sat_mod_npy/sa1_npy/sat.2017010216.npy',\n",
       " '../satyam_rad_sat_mod_npy/sa1_npy/sat.2017010218.npy',\n",
       " '../satyam_rad_sat_mod_npy/sa1_npy/sat.2017010219.npy',\n",
       " '../satyam_rad_sat_mod_npy/sa1_npy/sat.2017010220.npy',\n",
       " '../satyam_rad_sat_mod_npy/sa1_npy/sat.2017012116.npy',\n",
       " '../satyam_rad_sat_mod_npy/sa1_npy/sat.2017012118.npy',\n",
       " '../satyam_rad_sat_mod_npy/sa1_npy/sat.2017012119.npy',\n",
       " '../satyam_rad_sat_mod_npy/sa1_npy/sat.2017012120.npy',\n",
       " '../satyam_rad_sat_mod_npy/sa1_npy/sat.2017012216.npy',\n",
       " '../satyam_rad_sat_mod_npy/sa1_npy/sat.2017012218.npy',\n",
       " '../satyam_rad_sat_mod_npy/sa1_npy/sat.2017012219.npy',\n",
       " '../satyam_rad_sat_mod_npy/sa1_npy/sat.2017012220.npy',\n",
       " '../satyam_rad_sat_mod_npy/sa1_npy/sat.2017012418.npy',\n",
       " '../satyam_rad_sat_mod_npy/sa1_npy/sat.2017012419.npy',\n",
       " '../satyam_rad_sat_mod_npy/sa1_npy/sat.2017012420.npy',\n",
       " '../satyam_rad_sat_mod_npy/sa1_npy/sat.2017020620.npy',\n",
       " '../satyam_rad_sat_mod_npy/sa1_npy/sat.2017020716.npy',\n",
       " '../satyam_rad_sat_mod_npy/sa1_npy/sat.2017020718.npy',\n",
       " '../satyam_rad_sat_mod_npy/sa1_npy/sat.2017020719.npy',\n",
       " '../satyam_rad_sat_mod_npy/sa1_npy/sat.2017020720.npy',\n",
       " '../satyam_rad_sat_mod_npy/sa1_npy/sat.2017021116.npy',\n",
       " '../satyam_rad_sat_mod_npy/sa1_npy/sat.2017021120.npy',\n",
       " '../satyam_rad_sat_mod_npy/sa1_npy/sat.2017021416.npy',\n",
       " '../satyam_rad_sat_mod_npy/sa1_npy/sat.2017021418.npy',\n",
       " '../satyam_rad_sat_mod_npy/sa1_npy/sat.2017021419.npy',\n",
       " '../satyam_rad_sat_mod_npy/sa1_npy/sat.2017021420.npy',\n",
       " '../satyam_rad_sat_mod_npy/sa1_npy/sat.2017022316.npy',\n",
       " '../satyam_rad_sat_mod_npy/sa1_npy/sat.2017022318.npy',\n",
       " '../satyam_rad_sat_mod_npy/sa1_npy/sat.2017022319.npy',\n",
       " '../satyam_rad_sat_mod_npy/sa1_npy/sat.2017022320.npy',\n",
       " '../satyam_rad_sat_mod_npy/sa1_npy/sat.2017022416.npy',\n",
       " '../satyam_rad_sat_mod_npy/sa1_npy/sat.2017022418.npy',\n",
       " '../satyam_rad_sat_mod_npy/sa1_npy/sat.2017022419.npy',\n",
       " '../satyam_rad_sat_mod_npy/sa1_npy/sat.2017022420.npy',\n",
       " '../satyam_rad_sat_mod_npy/sa1_npy/sat.2017022516.npy',\n",
       " '../satyam_rad_sat_mod_npy/sa1_npy/sat.2017022518.npy',\n",
       " '../satyam_rad_sat_mod_npy/sa1_npy/sat.2017022519.npy',\n",
       " '../satyam_rad_sat_mod_npy/sa1_npy/sat.2017022816.npy',\n",
       " '../satyam_rad_sat_mod_npy/sa1_npy/sat.2017022818.npy',\n",
       " '../satyam_rad_sat_mod_npy/sa1_npy/sat.2017022819.npy',\n",
       " '../satyam_rad_sat_mod_npy/sa1_npy/sat.2017022820.npy',\n",
       " '../satyam_rad_sat_mod_npy/sa1_npy/sat.2017030118.npy',\n",
       " '../satyam_rad_sat_mod_npy/sa1_npy/sat.2017030119.npy',\n",
       " '../satyam_rad_sat_mod_npy/sa1_npy/sat.2017030120.npy',\n",
       " '../satyam_rad_sat_mod_npy/sa1_npy/sat.2017030419.npy',\n",
       " '../satyam_rad_sat_mod_npy/sa1_npy/sat.2017030420.npy',\n",
       " '../satyam_rad_sat_mod_npy/sa1_npy/sat.2017030616.npy',\n",
       " '../satyam_rad_sat_mod_npy/sa1_npy/sat.2017030618.npy',\n",
       " '../satyam_rad_sat_mod_npy/sa1_npy/sat.2017030619.npy',\n",
       " '../satyam_rad_sat_mod_npy/sa1_npy/sat.2017030620.npy',\n",
       " '../satyam_rad_sat_mod_npy/sa1_npy/sat.2017030919.npy',\n",
       " '../satyam_rad_sat_mod_npy/sa1_npy/sat.2017030920.npy',\n",
       " '../satyam_rad_sat_mod_npy/sa1_npy/sat.2017031318.npy',\n",
       " '../satyam_rad_sat_mod_npy/sa1_npy/sat.2017031319.npy',\n",
       " '../satyam_rad_sat_mod_npy/sa1_npy/sat.2017031320.npy',\n",
       " '../satyam_rad_sat_mod_npy/sa1_npy/sat.2017031416.npy',\n",
       " '../satyam_rad_sat_mod_npy/sa1_npy/sat.2017031418.npy',\n",
       " '../satyam_rad_sat_mod_npy/sa1_npy/sat.2017031419.npy',\n",
       " '../satyam_rad_sat_mod_npy/sa1_npy/sat.2017031420.npy',\n",
       " '../satyam_rad_sat_mod_npy/sa1_npy/sat.2017032116.npy',\n",
       " '../satyam_rad_sat_mod_npy/sa1_npy/sat.2017032118.npy',\n",
       " '../satyam_rad_sat_mod_npy/sa1_npy/sat.2017032119.npy',\n",
       " '../satyam_rad_sat_mod_npy/sa1_npy/sat.2017032716.npy',\n",
       " '../satyam_rad_sat_mod_npy/sa1_npy/sat.2017032718.npy',\n",
       " '../satyam_rad_sat_mod_npy/sa1_npy/sat.2017032719.npy',\n",
       " '../satyam_rad_sat_mod_npy/sa1_npy/sat.2017032720.npy',\n",
       " '../satyam_rad_sat_mod_npy/sa1_npy/sat.2017032818.npy',\n",
       " '../satyam_rad_sat_mod_npy/sa1_npy/sat.2017032819.npy',\n",
       " '../satyam_rad_sat_mod_npy/sa1_npy/sat.2017032820.npy',\n",
       " '../satyam_rad_sat_mod_npy/sa1_npy/sat.2017032918.npy',\n",
       " '../satyam_rad_sat_mod_npy/sa1_npy/sat.2017032919.npy',\n",
       " '../satyam_rad_sat_mod_npy/sa1_npy/sat.2017032920.npy',\n",
       " '../satyam_rad_sat_mod_npy/sa1_npy/sat.2017033018.npy',\n",
       " '../satyam_rad_sat_mod_npy/sa1_npy/sat.2017033019.npy',\n",
       " '../satyam_rad_sat_mod_npy/sa1_npy/sat.2017033020.npy',\n",
       " '../satyam_rad_sat_mod_npy/sa1_npy/sat.2017040119.npy',\n",
       " '../satyam_rad_sat_mod_npy/sa1_npy/sat.2017040120.npy',\n",
       " '../satyam_rad_sat_mod_npy/sa1_npy/sat.2017040216.npy',\n",
       " '../satyam_rad_sat_mod_npy/sa1_npy/sat.2017040218.npy',\n",
       " '../satyam_rad_sat_mod_npy/sa1_npy/sat.2017040219.npy',\n",
       " '../satyam_rad_sat_mod_npy/sa1_npy/sat.2017040220.npy',\n",
       " '../satyam_rad_sat_mod_npy/sa1_npy/sat.2017040316.npy',\n",
       " '../satyam_rad_sat_mod_npy/sa1_npy/sat.2017040318.npy',\n",
       " '../satyam_rad_sat_mod_npy/sa1_npy/sat.2017040319.npy',\n",
       " '../satyam_rad_sat_mod_npy/sa1_npy/sat.2017040320.npy',\n",
       " '../satyam_rad_sat_mod_npy/sa1_npy/sat.2017040420.npy',\n",
       " '../satyam_rad_sat_mod_npy/sa1_npy/sat.2017040516.npy',\n",
       " '../satyam_rad_sat_mod_npy/sa1_npy/sat.2017040518.npy',\n",
       " '../satyam_rad_sat_mod_npy/sa1_npy/sat.2017040519.npy',\n",
       " '../satyam_rad_sat_mod_npy/sa1_npy/sat.2017040520.npy',\n",
       " '../satyam_rad_sat_mod_npy/sa1_npy/sat.2017041216.npy',\n",
       " '../satyam_rad_sat_mod_npy/sa1_npy/sat.2017041218.npy',\n",
       " '../satyam_rad_sat_mod_npy/sa1_npy/sat.2017041219.npy',\n",
       " '../satyam_rad_sat_mod_npy/sa1_npy/sat.2017041220.npy',\n",
       " '../satyam_rad_sat_mod_npy/sa1_npy/sat.2017041520.npy',\n",
       " '../satyam_rad_sat_mod_npy/sa1_npy/sat.2017041719.npy',\n",
       " '../satyam_rad_sat_mod_npy/sa1_npy/sat.2017041720.npy',\n",
       " '../satyam_rad_sat_mod_npy/sa1_npy/sat.2017041916.npy',\n",
       " '../satyam_rad_sat_mod_npy/sa1_npy/sat.2017041918.npy',\n",
       " '../satyam_rad_sat_mod_npy/sa1_npy/sat.2017041919.npy',\n",
       " '../satyam_rad_sat_mod_npy/sa1_npy/sat.2017041920.npy',\n",
       " '../satyam_rad_sat_mod_npy/sa1_npy/sat.2017042016.npy',\n",
       " '../satyam_rad_sat_mod_npy/sa1_npy/sat.2017042018.npy',\n",
       " '../satyam_rad_sat_mod_npy/sa1_npy/sat.2017042019.npy',\n",
       " '../satyam_rad_sat_mod_npy/sa1_npy/sat.2017042020.npy',\n",
       " '../satyam_rad_sat_mod_npy/sa1_npy/sat.2017042116.npy',\n",
       " '../satyam_rad_sat_mod_npy/sa1_npy/sat.2017042118.npy',\n",
       " '../satyam_rad_sat_mod_npy/sa1_npy/sat.2017042119.npy',\n",
       " '../satyam_rad_sat_mod_npy/sa1_npy/sat.2017042120.npy',\n",
       " '../satyam_rad_sat_mod_npy/sa1_npy/sat.2017042416.npy',\n",
       " '../satyam_rad_sat_mod_npy/sa1_npy/sat.2017042418.npy',\n",
       " '../satyam_rad_sat_mod_npy/sa1_npy/sat.2017042419.npy',\n",
       " '../satyam_rad_sat_mod_npy/sa1_npy/sat.2017042520.npy',\n",
       " '../satyam_rad_sat_mod_npy/sa1_npy/sat.2017042616.npy',\n",
       " '../satyam_rad_sat_mod_npy/sa1_npy/sat.2017042618.npy',\n",
       " '../satyam_rad_sat_mod_npy/sa1_npy/sat.2017042619.npy',\n",
       " '../satyam_rad_sat_mod_npy/sa1_npy/sat.2017042620.npy',\n",
       " '../satyam_rad_sat_mod_npy/sa1_npy/sat.2017042816.npy',\n",
       " '../satyam_rad_sat_mod_npy/sa1_npy/sat.2017042818.npy',\n",
       " '../satyam_rad_sat_mod_npy/sa1_npy/sat.2017042819.npy',\n",
       " '../satyam_rad_sat_mod_npy/sa1_npy/sat.2017042820.npy',\n",
       " '../satyam_rad_sat_mod_npy/sa1_npy/sat.2017042916.npy',\n",
       " '../satyam_rad_sat_mod_npy/sa1_npy/sat.2017042919.npy',\n",
       " '../satyam_rad_sat_mod_npy/sa1_npy/sat.2017042920.npy',\n",
       " '../satyam_rad_sat_mod_npy/sa1_npy/sat.2017043016.npy',\n",
       " '../satyam_rad_sat_mod_npy/sa1_npy/sat.2017043018.npy',\n",
       " '../satyam_rad_sat_mod_npy/sa1_npy/sat.2017043019.npy',\n",
       " '../satyam_rad_sat_mod_npy/sa1_npy/sat.2017043020.npy',\n",
       " '../satyam_rad_sat_mod_npy/sa1_npy/sat.2017050116.npy',\n",
       " '../satyam_rad_sat_mod_npy/sa1_npy/sat.2017050118.npy',\n",
       " '../satyam_rad_sat_mod_npy/sa1_npy/sat.2017050119.npy',\n",
       " '../satyam_rad_sat_mod_npy/sa1_npy/sat.2017050120.npy',\n",
       " '../satyam_rad_sat_mod_npy/sa1_npy/sat.2017050316.npy',\n",
       " '../satyam_rad_sat_mod_npy/sa1_npy/sat.2017050318.npy',\n",
       " '../satyam_rad_sat_mod_npy/sa1_npy/sat.2017050319.npy',\n",
       " '../satyam_rad_sat_mod_npy/sa1_npy/sat.2017050320.npy',\n",
       " '../satyam_rad_sat_mod_npy/sa1_npy/sat.2017050416.npy',\n",
       " '../satyam_rad_sat_mod_npy/sa1_npy/sat.2017050418.npy',\n",
       " '../satyam_rad_sat_mod_npy/sa1_npy/sat.2017050420.npy',\n",
       " '../satyam_rad_sat_mod_npy/sa1_npy/sat.2017050918.npy',\n",
       " '../satyam_rad_sat_mod_npy/sa1_npy/sat.2017050919.npy',\n",
       " '../satyam_rad_sat_mod_npy/sa1_npy/sat.2017050920.npy',\n",
       " '../satyam_rad_sat_mod_npy/sa1_npy/sat.2017051119.npy',\n",
       " '../satyam_rad_sat_mod_npy/sa1_npy/sat.2017051120.npy',\n",
       " '../satyam_rad_sat_mod_npy/sa1_npy/sat.2017051518.npy',\n",
       " '../satyam_rad_sat_mod_npy/sa1_npy/sat.2017051520.npy',\n",
       " '../satyam_rad_sat_mod_npy/sa1_npy/sat.2017051619.npy',\n",
       " '../satyam_rad_sat_mod_npy/sa1_npy/sat.2017051620.npy',\n",
       " '../satyam_rad_sat_mod_npy/sa1_npy/sat.2017051716.npy',\n",
       " '../satyam_rad_sat_mod_npy/sa1_npy/sat.2017051718.npy',\n",
       " '../satyam_rad_sat_mod_npy/sa1_npy/sat.2017051719.npy',\n",
       " '../satyam_rad_sat_mod_npy/sa1_npy/sat.2017051720.npy',\n",
       " '../satyam_rad_sat_mod_npy/sa1_npy/sat.2017051816.npy',\n",
       " '../satyam_rad_sat_mod_npy/sa1_npy/sat.2017051818.npy',\n",
       " '../satyam_rad_sat_mod_npy/sa1_npy/sat.2017051819.npy',\n",
       " '../satyam_rad_sat_mod_npy/sa1_npy/sat.2017051820.npy',\n",
       " '../satyam_rad_sat_mod_npy/sa1_npy/sat.2017051916.npy',\n",
       " '../satyam_rad_sat_mod_npy/sa1_npy/sat.2017051918.npy',\n",
       " '../satyam_rad_sat_mod_npy/sa1_npy/sat.2017051919.npy',\n",
       " '../satyam_rad_sat_mod_npy/sa1_npy/sat.2017051920.npy',\n",
       " '../satyam_rad_sat_mod_npy/sa1_npy/sat.2017052316.npy',\n",
       " '../satyam_rad_sat_mod_npy/sa1_npy/sat.2017052318.npy',\n",
       " '../satyam_rad_sat_mod_npy/sa1_npy/sat.2017052319.npy',\n",
       " '../satyam_rad_sat_mod_npy/sa1_npy/sat.2017052320.npy',\n",
       " '../satyam_rad_sat_mod_npy/sa1_npy/sat.2017052416.npy',\n",
       " '../satyam_rad_sat_mod_npy/sa1_npy/sat.2017052418.npy',\n",
       " '../satyam_rad_sat_mod_npy/sa1_npy/sat.2017052419.npy',\n",
       " '../satyam_rad_sat_mod_npy/sa1_npy/sat.2017052420.npy',\n",
       " '../satyam_rad_sat_mod_npy/sa1_npy/sat.2017052520.npy',\n",
       " '../satyam_rad_sat_mod_npy/sa1_npy/sat.2017052618.npy',\n",
       " '../satyam_rad_sat_mod_npy/sa1_npy/sat.2017052619.npy',\n",
       " '../satyam_rad_sat_mod_npy/sa1_npy/sat.2017052620.npy',\n",
       " '../satyam_rad_sat_mod_npy/sa1_npy/sat.2017052716.npy',\n",
       " '../satyam_rad_sat_mod_npy/sa1_npy/sat.2017052718.npy',\n",
       " '../satyam_rad_sat_mod_npy/sa1_npy/sat.2017052719.npy',\n",
       " '../satyam_rad_sat_mod_npy/sa1_npy/sat.2017052720.npy',\n",
       " '../satyam_rad_sat_mod_npy/sa1_npy/sat.2017052819.npy',\n",
       " '../satyam_rad_sat_mod_npy/sa1_npy/sat.2017052820.npy',\n",
       " '../satyam_rad_sat_mod_npy/sa1_npy/sat.2017053016.npy',\n",
       " '../satyam_rad_sat_mod_npy/sa1_npy/sat.2017053018.npy',\n",
       " '../satyam_rad_sat_mod_npy/sa1_npy/sat.2017053019.npy',\n",
       " '../satyam_rad_sat_mod_npy/sa1_npy/sat.2017053020.npy',\n",
       " '../satyam_rad_sat_mod_npy/sa1_npy/sat.2017060518.npy',\n",
       " '../satyam_rad_sat_mod_npy/sa1_npy/sat.2017060519.npy',\n",
       " '../satyam_rad_sat_mod_npy/sa1_npy/sat.2017060520.npy',\n",
       " '../satyam_rad_sat_mod_npy/sa1_npy/sat.2017060719.npy',\n",
       " '../satyam_rad_sat_mod_npy/sa1_npy/sat.2017060720.npy',\n",
       " '../satyam_rad_sat_mod_npy/sa1_npy/sat.2017060818.npy',\n",
       " '../satyam_rad_sat_mod_npy/sa1_npy/sat.2017060819.npy',\n",
       " '../satyam_rad_sat_mod_npy/sa1_npy/sat.2017060820.npy',\n",
       " '../satyam_rad_sat_mod_npy/sa1_npy/sat.2017060920.npy',\n",
       " '../satyam_rad_sat_mod_npy/sa1_npy/sat.2017061216.npy',\n",
       " '../satyam_rad_sat_mod_npy/sa1_npy/sat.2017061218.npy',\n",
       " '../satyam_rad_sat_mod_npy/sa1_npy/sat.2017061219.npy',\n",
       " '../satyam_rad_sat_mod_npy/sa1_npy/sat.2017061220.npy',\n",
       " '../satyam_rad_sat_mod_npy/sa1_npy/sat.2017061316.npy',\n",
       " '../satyam_rad_sat_mod_npy/sa1_npy/sat.2017061318.npy',\n",
       " '../satyam_rad_sat_mod_npy/sa1_npy/sat.2017061320.npy',\n",
       " '../satyam_rad_sat_mod_npy/sa1_npy/sat.2017061518.npy',\n",
       " '../satyam_rad_sat_mod_npy/sa1_npy/sat.2017061519.npy',\n",
       " '../satyam_rad_sat_mod_npy/sa1_npy/sat.2017061520.npy',\n",
       " '../satyam_rad_sat_mod_npy/sa1_npy/sat.2017061718.npy',\n",
       " '../satyam_rad_sat_mod_npy/sa1_npy/sat.2017061719.npy',\n",
       " '../satyam_rad_sat_mod_npy/sa1_npy/sat.2017061720.npy',\n",
       " '../satyam_rad_sat_mod_npy/sa1_npy/sat.2017061916.npy',\n",
       " '../satyam_rad_sat_mod_npy/sa1_npy/sat.2017061918.npy',\n",
       " '../satyam_rad_sat_mod_npy/sa1_npy/sat.2017061919.npy',\n",
       " '../satyam_rad_sat_mod_npy/sa1_npy/sat.2017061920.npy',\n",
       " '../satyam_rad_sat_mod_npy/sa1_npy/sat.2017062016.npy',\n",
       " '../satyam_rad_sat_mod_npy/sa1_npy/sat.2017062018.npy',\n",
       " '../satyam_rad_sat_mod_npy/sa1_npy/sat.2017062019.npy',\n",
       " '../satyam_rad_sat_mod_npy/sa1_npy/sat.2017062020.npy',\n",
       " '../satyam_rad_sat_mod_npy/sa1_npy/sat.2017062116.npy',\n",
       " '../satyam_rad_sat_mod_npy/sa1_npy/sat.2017062118.npy',\n",
       " '../satyam_rad_sat_mod_npy/sa1_npy/sat.2017062119.npy',\n",
       " '../satyam_rad_sat_mod_npy/sa1_npy/sat.2017062120.npy',\n",
       " '../satyam_rad_sat_mod_npy/sa1_npy/sat.2017062216.npy',\n",
       " '../satyam_rad_sat_mod_npy/sa1_npy/sat.2017062218.npy',\n",
       " '../satyam_rad_sat_mod_npy/sa1_npy/sat.2017062219.npy',\n",
       " '../satyam_rad_sat_mod_npy/sa1_npy/sat.2017062220.npy',\n",
       " '../satyam_rad_sat_mod_npy/sa1_npy/sat.2017062316.npy',\n",
       " '../satyam_rad_sat_mod_npy/sa1_npy/sat.2017062318.npy',\n",
       " '../satyam_rad_sat_mod_npy/sa1_npy/sat.2017062319.npy',\n",
       " '../satyam_rad_sat_mod_npy/sa1_npy/sat.2017062320.npy',\n",
       " '../satyam_rad_sat_mod_npy/sa1_npy/sat.2017062619.npy',\n",
       " '../satyam_rad_sat_mod_npy/sa1_npy/sat.2017062620.npy',\n",
       " '../satyam_rad_sat_mod_npy/sa1_npy/sat.2017062820.npy',\n",
       " '../satyam_rad_sat_mod_npy/sa1_npy/sat.2017062918.npy',\n",
       " '../satyam_rad_sat_mod_npy/sa1_npy/sat.2017062919.npy',\n",
       " '../satyam_rad_sat_mod_npy/sa1_npy/sat.2017062920.npy',\n",
       " '../satyam_rad_sat_mod_npy/sa1_npy/sat.2017063016.npy',\n",
       " '../satyam_rad_sat_mod_npy/sa1_npy/sat.2017063018.npy',\n",
       " '../satyam_rad_sat_mod_npy/sa1_npy/sat.2017063019.npy',\n",
       " '../satyam_rad_sat_mod_npy/sa1_npy/sat.2017063020.npy',\n",
       " '../satyam_rad_sat_mod_npy/sa1_npy/sat.2017070318.npy',\n",
       " '../satyam_rad_sat_mod_npy/sa1_npy/sat.2017070319.npy',\n",
       " '../satyam_rad_sat_mod_npy/sa1_npy/sat.2017070320.npy',\n",
       " '../satyam_rad_sat_mod_npy/sa1_npy/sat.2017070518.npy',\n",
       " '../satyam_rad_sat_mod_npy/sa1_npy/sat.2017070519.npy',\n",
       " '../satyam_rad_sat_mod_npy/sa1_npy/sat.2017070520.npy',\n",
       " '../satyam_rad_sat_mod_npy/sa1_npy/sat.2017070616.npy',\n",
       " '../satyam_rad_sat_mod_npy/sa1_npy/sat.2017070618.npy',\n",
       " '../satyam_rad_sat_mod_npy/sa1_npy/sat.2017070619.npy',\n",
       " '../satyam_rad_sat_mod_npy/sa1_npy/sat.2017070620.npy',\n",
       " '../satyam_rad_sat_mod_npy/sa1_npy/sat.2017070716.npy',\n",
       " '../satyam_rad_sat_mod_npy/sa1_npy/sat.2017070718.npy',\n",
       " '../satyam_rad_sat_mod_npy/sa1_npy/sat.2017070719.npy',\n",
       " '../satyam_rad_sat_mod_npy/sa1_npy/sat.2017070720.npy',\n",
       " '../satyam_rad_sat_mod_npy/sa1_npy/sat.2017070919.npy',\n",
       " '../satyam_rad_sat_mod_npy/sa1_npy/sat.2017070920.npy',\n",
       " '../satyam_rad_sat_mod_npy/sa1_npy/sat.2017071116.npy',\n",
       " '../satyam_rad_sat_mod_npy/sa1_npy/sat.2017071118.npy',\n",
       " '../satyam_rad_sat_mod_npy/sa1_npy/sat.2017071119.npy',\n",
       " '../satyam_rad_sat_mod_npy/sa1_npy/sat.2017071120.npy',\n",
       " '../satyam_rad_sat_mod_npy/sa1_npy/sat.2017071318.npy',\n",
       " '../satyam_rad_sat_mod_npy/sa1_npy/sat.2017071319.npy',\n",
       " '../satyam_rad_sat_mod_npy/sa1_npy/sat.2017071320.npy',\n",
       " '../satyam_rad_sat_mod_npy/sa1_npy/sat.2017071916.npy',\n",
       " '../satyam_rad_sat_mod_npy/sa1_npy/sat.2017071918.npy',\n",
       " '../satyam_rad_sat_mod_npy/sa1_npy/sat.2017071919.npy',\n",
       " '../satyam_rad_sat_mod_npy/sa1_npy/sat.2017071920.npy',\n",
       " '../satyam_rad_sat_mod_npy/sa1_npy/sat.2017072019.npy']"
      ]
     },
     "execution_count": 7,
     "metadata": {},
     "output_type": "execute_result"
    }
   ],
   "source": [
    "Sa1_files_train"
   ]
  },
  {
   "cell_type": "code",
   "execution_count": 8,
   "metadata": {},
   "outputs": [
    {
     "data": {
      "text/plain": [
       "['../satyam_rad_sat_mod_npy/sa1_npy/sat.2017072020.npy',\n",
       " '../satyam_rad_sat_mod_npy/sa1_npy/sat.2017072116.npy',\n",
       " '../satyam_rad_sat_mod_npy/sa1_npy/sat.2017072118.npy',\n",
       " '../satyam_rad_sat_mod_npy/sa1_npy/sat.2017072119.npy',\n",
       " '../satyam_rad_sat_mod_npy/sa1_npy/sat.2017072120.npy',\n",
       " '../satyam_rad_sat_mod_npy/sa1_npy/sat.2017072519.npy',\n",
       " '../satyam_rad_sat_mod_npy/sa1_npy/sat.2017072520.npy',\n",
       " '../satyam_rad_sat_mod_npy/sa1_npy/sat.2017080916.npy',\n",
       " '../satyam_rad_sat_mod_npy/sa1_npy/sat.2017080918.npy',\n",
       " '../satyam_rad_sat_mod_npy/sa1_npy/sat.2017080919.npy',\n",
       " '../satyam_rad_sat_mod_npy/sa1_npy/sat.2017080920.npy',\n",
       " '../satyam_rad_sat_mod_npy/sa1_npy/sat.2017081616.npy',\n",
       " '../satyam_rad_sat_mod_npy/sa1_npy/sat.2017081618.npy',\n",
       " '../satyam_rad_sat_mod_npy/sa1_npy/sat.2017081619.npy',\n",
       " '../satyam_rad_sat_mod_npy/sa1_npy/sat.2017081620.npy',\n",
       " '../satyam_rad_sat_mod_npy/sa1_npy/sat.2017081818.npy',\n",
       " '../satyam_rad_sat_mod_npy/sa1_npy/sat.2017081819.npy',\n",
       " '../satyam_rad_sat_mod_npy/sa1_npy/sat.2017081820.npy',\n",
       " '../satyam_rad_sat_mod_npy/sa1_npy/sat.2017082216.npy',\n",
       " '../satyam_rad_sat_mod_npy/sa1_npy/sat.2017082218.npy',\n",
       " '../satyam_rad_sat_mod_npy/sa1_npy/sat.2017082219.npy',\n",
       " '../satyam_rad_sat_mod_npy/sa1_npy/sat.2017082220.npy',\n",
       " '../satyam_rad_sat_mod_npy/sa1_npy/sat.2017082316.npy',\n",
       " '../satyam_rad_sat_mod_npy/sa1_npy/sat.2017082318.npy',\n",
       " '../satyam_rad_sat_mod_npy/sa1_npy/sat.2017082319.npy',\n",
       " '../satyam_rad_sat_mod_npy/sa1_npy/sat.2017082320.npy',\n",
       " '../satyam_rad_sat_mod_npy/sa1_npy/sat.2017082416.npy',\n",
       " '../satyam_rad_sat_mod_npy/sa1_npy/sat.2017082418.npy',\n",
       " '../satyam_rad_sat_mod_npy/sa1_npy/sat.2017082419.npy',\n",
       " '../satyam_rad_sat_mod_npy/sa1_npy/sat.2017082420.npy',\n",
       " '../satyam_rad_sat_mod_npy/sa1_npy/sat.2017082516.npy',\n",
       " '../satyam_rad_sat_mod_npy/sa1_npy/sat.2017082518.npy',\n",
       " '../satyam_rad_sat_mod_npy/sa1_npy/sat.2017082519.npy',\n",
       " '../satyam_rad_sat_mod_npy/sa1_npy/sat.2017082520.npy',\n",
       " '../satyam_rad_sat_mod_npy/sa1_npy/sat.2017082616.npy',\n",
       " '../satyam_rad_sat_mod_npy/sa1_npy/sat.2017082618.npy',\n",
       " '../satyam_rad_sat_mod_npy/sa1_npy/sat.2017082619.npy',\n",
       " '../satyam_rad_sat_mod_npy/sa1_npy/sat.2017082620.npy',\n",
       " '../satyam_rad_sat_mod_npy/sa1_npy/sat.2017090116.npy',\n",
       " '../satyam_rad_sat_mod_npy/sa1_npy/sat.2017090118.npy',\n",
       " '../satyam_rad_sat_mod_npy/sa1_npy/sat.2017090119.npy',\n",
       " '../satyam_rad_sat_mod_npy/sa1_npy/sat.2017090120.npy',\n",
       " '../satyam_rad_sat_mod_npy/sa1_npy/sat.2017090416.npy',\n",
       " '../satyam_rad_sat_mod_npy/sa1_npy/sat.2017090418.npy',\n",
       " '../satyam_rad_sat_mod_npy/sa1_npy/sat.2017090419.npy',\n",
       " '../satyam_rad_sat_mod_npy/sa1_npy/sat.2017090420.npy',\n",
       " '../satyam_rad_sat_mod_npy/sa1_npy/sat.2017090518.npy',\n",
       " '../satyam_rad_sat_mod_npy/sa1_npy/sat.2017090519.npy',\n",
       " '../satyam_rad_sat_mod_npy/sa1_npy/sat.2017090520.npy',\n",
       " '../satyam_rad_sat_mod_npy/sa1_npy/sat.2017090819.npy',\n",
       " '../satyam_rad_sat_mod_npy/sa1_npy/sat.2017090820.npy',\n",
       " '../satyam_rad_sat_mod_npy/sa1_npy/sat.2017090916.npy',\n",
       " '../satyam_rad_sat_mod_npy/sa1_npy/sat.2017090918.npy',\n",
       " '../satyam_rad_sat_mod_npy/sa1_npy/sat.2017090919.npy',\n",
       " '../satyam_rad_sat_mod_npy/sa1_npy/sat.2017090920.npy',\n",
       " '../satyam_rad_sat_mod_npy/sa1_npy/sat.2017091016.npy',\n",
       " '../satyam_rad_sat_mod_npy/sa1_npy/sat.2017091018.npy',\n",
       " '../satyam_rad_sat_mod_npy/sa1_npy/sat.2017091019.npy',\n",
       " '../satyam_rad_sat_mod_npy/sa1_npy/sat.2017091020.npy',\n",
       " '../satyam_rad_sat_mod_npy/sa1_npy/sat.2017091116.npy',\n",
       " '../satyam_rad_sat_mod_npy/sa1_npy/sat.2017091119.npy',\n",
       " '../satyam_rad_sat_mod_npy/sa1_npy/sat.2017091120.npy',\n",
       " '../satyam_rad_sat_mod_npy/sa1_npy/sat.2017091918.npy',\n",
       " '../satyam_rad_sat_mod_npy/sa1_npy/sat.2017091919.npy',\n",
       " '../satyam_rad_sat_mod_npy/sa1_npy/sat.2017091920.npy',\n",
       " '../satyam_rad_sat_mod_npy/sa1_npy/sat.2017092318.npy',\n",
       " '../satyam_rad_sat_mod_npy/sa1_npy/sat.2017092319.npy',\n",
       " '../satyam_rad_sat_mod_npy/sa1_npy/sat.2017092320.npy',\n",
       " '../satyam_rad_sat_mod_npy/sa1_npy/sat.2017093016.npy',\n",
       " '../satyam_rad_sat_mod_npy/sa1_npy/sat.2017100118.npy',\n",
       " '../satyam_rad_sat_mod_npy/sa1_npy/sat.2017100119.npy',\n",
       " '../satyam_rad_sat_mod_npy/sa1_npy/sat.2017100120.npy',\n",
       " '../satyam_rad_sat_mod_npy/sa1_npy/sat.2017100616.npy',\n",
       " '../satyam_rad_sat_mod_npy/sa1_npy/sat.2017100618.npy',\n",
       " '../satyam_rad_sat_mod_npy/sa1_npy/sat.2017100619.npy',\n",
       " '../satyam_rad_sat_mod_npy/sa1_npy/sat.2017100620.npy',\n",
       " '../satyam_rad_sat_mod_npy/sa1_npy/sat.2017101418.npy',\n",
       " '../satyam_rad_sat_mod_npy/sa1_npy/sat.2017101419.npy',\n",
       " '../satyam_rad_sat_mod_npy/sa1_npy/sat.2017101420.npy',\n",
       " '../satyam_rad_sat_mod_npy/sa1_npy/sat.2017102119.npy',\n",
       " '../satyam_rad_sat_mod_npy/sa1_npy/sat.2017102120.npy',\n",
       " '../satyam_rad_sat_mod_npy/sa1_npy/sat.2017102820.npy',\n",
       " '../satyam_rad_sat_mod_npy/sa1_npy/sat.2017110519.npy',\n",
       " '../satyam_rad_sat_mod_npy/sa1_npy/sat.2017110520.npy',\n",
       " '../satyam_rad_sat_mod_npy/sa1_npy/sat.2017120818.npy',\n",
       " '../satyam_rad_sat_mod_npy/sa1_npy/sat.2017120819.npy',\n",
       " '../satyam_rad_sat_mod_npy/sa1_npy/sat.2017120820.npy']"
      ]
     },
     "execution_count": 8,
     "metadata": {},
     "output_type": "execute_result"
    }
   ],
   "source": [
    "Sa1_files_test"
   ]
  },
  {
   "cell_type": "code",
   "execution_count": 9,
   "metadata": {},
   "outputs": [],
   "source": [
    "# Training with training images only\n",
    "for filename in Sa1_files_train:\n",
    "    filename = filename.split('/')[-1]\n",
    "    \n",
    "    # Satellite 1\n",
    "    Sa_1_File = folder + \"sa1_npy/\" + filename;\n",
    "    Sa1arr = np.load(Sa_1_File).flatten()\n",
    "    \n",
    "    \n",
    "    # Satellite 2\n",
    "    Sa_2_File = folder + \"sa2_npy/\" + filename;\n",
    "    Sa2arr = np.load(Sa_2_File).flatten()\n",
    "    \n",
    "    \n",
    "    # Satellite 3\n",
    "    Sa_3_File = folder + \"sa3_npy/\" + filename;\n",
    "    Sa3arr = np.load(Sa_3_File).flatten()\n",
    "    \n",
    "    # Satellite 4\n",
    "    Sa_4_File = folder + \"sa4_npy/\" + filename;\n",
    "    Sa4arr = np.load(Sa_4_File).flatten()\n",
    "    \n",
    "    # Satellite 6\n",
    "    Sa_6_File = folder + \"sa6_npy/\" + filename;\n",
    "    Sa6arr = np.load(Sa_6_File).flatten()\n",
    "    \n",
    "    \n",
    "    # Model Data has wrong orientation relative to the satellite\n",
    "    # Thus using flipud\n",
    "    \n",
    "    # MRH\n",
    "    MRH_File = folder + \"mrh_npy/\" + filename.replace('sat', \"mod\", 1)\n",
    "    MRHarr = np.flipud(np.load(MRH_File)).flatten()\n",
    "    \n",
    "    # MSH\n",
    "    MSH_File = folder + \"msh_npy/\" + filename.replace('sat', \"mod\", 1)\n",
    "    MSHarr = np.flipud(np.load(MSH_File)).flatten()\n",
    "    \n",
    "    # MTE\n",
    "    MTE_File = folder + \"tem_npy/\" + filename.replace('sat', \"mod\", 1)\n",
    "    MTEarr = np.flipud(np.load(MTE_File)).flatten()\n",
    "    \n",
    "    # MVI\n",
    "    MVI_File = folder + \"vis_npy/\" + filename.replace('sat', \"mod\", 1)\n",
    "    MVIarr = np.flipud(np.load(MVI_File)).flatten()\n",
    "    \n",
    "    # Radar Data has wrong orientation relative to the satellite\n",
    "    # Thus using flipud\n",
    "    \n",
    "    # Radar\n",
    "    Radar_File = folder + \"rad_npy/\" + filename.replace('sat', \"rad\", 1)\n",
    "    Radararr = np.flipud(np.load(Radar_File)).flatten()\n",
    "    \n",
    "    \n",
    "    \n",
    "    for i in range(len(Sa1arr)):\n",
    "        x = [];\n",
    "        x.append(Sa1arr[i])\n",
    "        x.append(Sa2arr[i])\n",
    "        x.append(Sa3arr[i])\n",
    "        x.append(Sa4arr[i])\n",
    "        x.append(Sa6arr[i])\n",
    "        \n",
    "        x.append(MRHarr[i])\n",
    "        x.append(MSHarr[i])\n",
    "        x.append(MTEarr[i])\n",
    "        x.append(MVIarr[i])\n",
    "        \n",
    "        # clip 0\n",
    "        x = np.array(x)\n",
    "        x[x < 0] = 0\n",
    "        x = x.tolist()\n",
    "        \n",
    "        y_train.append(Radararr[i])\n",
    "        \n",
    "        X_train.append(x)"
   ]
  },
  {
   "cell_type": "code",
   "execution_count": 10,
   "metadata": {},
   "outputs": [],
   "source": [
    "X_train = np.array(X_train)\n",
    "y_train = np.array(y_train)"
   ]
  },
  {
   "cell_type": "code",
   "execution_count": 11,
   "metadata": {},
   "outputs": [
    {
     "name": "stdout",
     "output_type": "stream",
     "text": [
      "(17170432, 9)\n",
      "7852.1443946772615\n",
      "0.0\n",
      "7954.8010841423975\n",
      "30993.517578125\n"
     ]
    }
   ],
   "source": [
    "print(X_train.shape)\n",
    "print(np.std(X_train))\n",
    "print(np.min(X_train))\n",
    "print(np.mean(X_train))\n",
    "print(np.max(X_train))"
   ]
  },
  {
   "cell_type": "code",
   "execution_count": 12,
   "metadata": {},
   "outputs": [
    {
     "name": "stdout",
     "output_type": "stream",
     "text": [
      "(17170432,)\n",
      "21.281247054536355\n",
      "0\n",
      "20.616795372416956\n",
      "953\n"
     ]
    }
   ],
   "source": [
    "print(y_train.shape)\n",
    "print(np.std(y_train))\n",
    "print(np.min(y_train))\n",
    "print(np.mean(y_train))\n",
    "print(np.max(y_train))"
   ]
  },
  {
   "cell_type": "code",
   "execution_count": 13,
   "metadata": {
    "collapsed": true
   },
   "outputs": [],
   "source": [
    "# Train the Training set"
   ]
  },
  {
   "cell_type": "code",
   "execution_count": 14,
   "metadata": {},
   "outputs": [
    {
     "data": {
      "text/plain": [
       "LinearRegression(copy_X=True, fit_intercept=True, n_jobs=None,\n",
       "         normalize=False)"
      ]
     },
     "execution_count": 14,
     "metadata": {},
     "output_type": "execute_result"
    }
   ],
   "source": [
    "reg_train = linear_model.LinearRegression()\n",
    "reg_train.fit(X_train, y_train)"
   ]
  },
  {
   "cell_type": "code",
   "execution_count": 15,
   "metadata": {},
   "outputs": [
    {
     "name": "stdout",
     "output_type": "stream",
     "text": [
      "Band 1       0.00011407170861435622\n",
      "Band 2       -0.00012350015085108468\n",
      "Band 3       0.0009208896656808898\n",
      "Band 4       0.001684574177728654\n",
      "Band 6       -0.0034009985522007466\n",
      "MRH       -0.04108251727233685\n",
      "MSH       1185.362495977048\n",
      "MTE       -0.04009491592645743\n",
      "MVI       -0.0011620281424808607\n"
     ]
    }
   ],
   "source": [
    "for feat, score in zip(X_names, reg_train.coef_):\n",
    "    print('{}       {}'.format(feat, score))"
   ]
  },
  {
   "cell_type": "code",
   "execution_count": 16,
   "metadata": {},
   "outputs": [
    {
     "data": {
      "image/png": "[encoded data removed]",
      "text/plain": [
       "<Figure size 432x288 with 1 Axes>"
      ]
     },
     "metadata": {},
     "output_type": "display_data"
    }
   ],
   "source": [
    "df = pd.DataFrame({'Bands':input_names, 'coeff':reg_train.coef_})\n",
    "df.plot.bar(x='Bands', y='coeff', rot=0, color=('g'))\n",
    "plt.show()"
   ]
  },
  {
   "cell_type": "code",
   "execution_count": 17,
   "metadata": {},
   "outputs": [],
   "source": [
    "# Evaluate the Trained output"
   ]
  },
  {
   "cell_type": "code",
   "execution_count": 18,
   "metadata": {},
   "outputs": [],
   "source": [
    "predictions_train = reg_train.predict(X_train)"
   ]
  },
  {
   "cell_type": "code",
   "execution_count": 19,
   "metadata": {},
   "outputs": [
    {
     "data": {
      "text/plain": [
       "901.9034717088655"
      ]
     },
     "execution_count": 19,
     "metadata": {},
     "output_type": "execute_result"
    }
   ],
   "source": [
    "errors_train = abs(predictions_train - y_train)\n",
    "np.max(errors_train)"
   ]
  },
  {
   "cell_type": "code",
   "execution_count": 20,
   "metadata": {},
   "outputs": [
    {
     "data": {
      "text/plain": [
       "(array([1.03797521e-02, 9.01504604e-05, 1.66334404e-05, 4.45628068e-06,\n",
       "        1.41779638e-06, 5.13951187e-07, 1.67446641e-07, 6.05007937e-08,\n",
       "        1.89446930e-08, 8.55566779e-09]),\n",
       " array([  0. ,  95.3, 190.6, 285.9, 381.2, 476.5, 571.8, 667.1, 762.4,\n",
       "        857.7, 953. ]),\n",
       " <a list of 10 Patch objects>)"
      ]
     },
     "execution_count": 20,
     "metadata": {},
     "output_type": "execute_result"
    },
    {
     "data": {
      "image/png": "[encoded data removed]",
      "text/plain": [
       "<Figure size 432x288 with 1 Axes>"
      ]
     },
     "metadata": {},
     "output_type": "display_data"
    }
   ],
   "source": [
    "plt.hist(y_train, density=1)"
   ]
  },
  {
   "cell_type": "code",
   "execution_count": 21,
   "metadata": {},
   "outputs": [
    {
     "data": {
      "text/plain": [
       "(array([1.10193687e-02, 5.14475193e-05, 1.14715983e-05, 3.48248408e-06,\n",
       "        1.20172499e-06, 4.54602039e-07, 1.51749260e-07, 5.68252548e-08,\n",
       "        1.74350214e-08, 8.39463992e-09]),\n",
       " array([6.71659961e-07, 9.01903478e+01, 1.80380695e+02, 2.70571042e+02,\n",
       "        3.60761389e+02, 4.50951736e+02, 5.41142083e+02, 6.31332430e+02,\n",
       "        7.21522778e+02, 8.11713125e+02, 9.01903472e+02]),\n",
       " <a list of 10 Patch objects>)"
      ]
     },
     "execution_count": 21,
     "metadata": {},
     "output_type": "execute_result"
    },
    {
     "data": {
      "image/png": "[encoded data removed]",
      "text/plain": [
       "<Figure size 432x288 with 1 Axes>"
      ]
     },
     "metadata": {},
     "output_type": "display_data"
    }
   ],
   "source": [
    "plt.hist(errors_train, density=1)"
   ]
  },
  {
   "cell_type": "code",
   "execution_count": 22,
   "metadata": {
    "collapsed": true
   },
   "outputs": [],
   "source": [
    "# Confusion Matrix"
   ]
  },
  {
   "cell_type": "code",
   "execution_count": 23,
   "metadata": {},
   "outputs": [
    {
     "name": "stdout",
     "output_type": "stream",
     "text": [
      "(16973468,)\n",
      "21.287491448825545\n",
      "1\n",
      "20.856037375508645\n",
      "953\n"
     ]
    }
   ],
   "source": [
    "y_train_no_zero = list(filter(lambda a: a != 0, y_train))\n",
    "print(np.shape(y_train_no_zero))\n",
    "print(np.std(y_train_no_zero))\n",
    "print(np.min(y_train_no_zero))\n",
    "print(np.mean(y_train_no_zero))\n",
    "print(np.max(y_train_no_zero))"
   ]
  },
  {
   "cell_type": "code",
   "execution_count": 24,
   "metadata": {},
   "outputs": [
    {
     "data": {
      "text/plain": [
       "42.14352882433419"
      ]
     },
     "execution_count": 24,
     "metadata": {},
     "output_type": "execute_result"
    }
   ],
   "source": [
    "thershold = np.mean(y_train_no_zero) + 1 * np.std(y_train_no_zero)\n",
    "thershold"
   ]
  },
  {
   "cell_type": "code",
   "execution_count": 25,
   "metadata": {},
   "outputs": [
    {
     "data": {
      "image/png": "[encoded data removed]",
      "text/plain": [
       "<Figure size 432x288 with 2 Axes>"
      ]
     },
     "metadata": {},
     "output_type": "display_data"
    }
   ],
   "source": [
    "y_train_copy = np.copy(y_train)\n",
    "y_train_copy[y_train_copy < thershold] = 0\n",
    "y_train_copy[y_train_copy >= thershold] = 1\n",
    "\n",
    "predictions_train_copy = np.copy(predictions_train)\n",
    "predictions_train_copy[predictions_train_copy < thershold] = 0\n",
    "predictions_train_copy[predictions_train_copy >= thershold] = 1\n",
    "\n",
    "skplt.metrics.plot_confusion_matrix(y_train_copy, predictions_train_copy, normalize=True)\n",
    "plt.show()"
   ]
  },
  {
   "cell_type": "code",
   "execution_count": 26,
   "metadata": {},
   "outputs": [],
   "source": [
    "from sklearn.metrics import confusion_matrix\n",
    "FPR = []\n",
    "TPR = []\n",
    "\n",
    "for i in range(1, 531, 10):\n",
    "    y_train_copy = np.copy(y_train)\n",
    "    y_train_copy[y_train_copy < i] = 0\n",
    "    y_train_copy[y_train_copy >= i] = 1\n",
    "\n",
    "    predictions_train_copy = np.copy(predictions_train)\n",
    "    predictions_train_copy[predictions_train_copy < i] = 0\n",
    "    predictions_train_copy[predictions_train_copy >= i] = 1\n",
    "    \n",
    "    temp = confusion_matrix(y_train_copy, predictions_train_copy)\n",
    "    \n",
    "    TN = temp[0][0]\n",
    "    FP = temp[0][1]\n",
    "    FN = temp[1][0]\n",
    "    TP = temp[1][1]\n",
    "    \n",
    "    TPR_ = TP/(TP+FN)\n",
    "    FPR_ = FP/(TN+FP)\n",
    "    \n",
    "    FPR.append(FPR_)\n",
    "    TPR.append(TPR_)"
   ]
  },
  {
   "cell_type": "code",
   "execution_count": 27,
   "metadata": {},
   "outputs": [
    {
     "data": {
      "text/plain": [
       "<matplotlib.legend.Legend at 0x7fa2b61950b8>"
      ]
     },
     "execution_count": 27,
     "metadata": {},
     "output_type": "execute_result"
    },
    {
     "data": {
      "image/png": "[encoded data removed]",
      "text/plain": [
       "<Figure size 432x288 with 1 Axes>"
      ]
     },
     "metadata": {},
     "output_type": "display_data"
    }
   ],
   "source": [
    "plt.plot(FPR, TPR, label='ROC')\n",
    "plt.plot([0,1], [0,1], linestyle='dashed')\n",
    "plt.title(\"ROC Curve\")\n",
    "plt.xlabel(\"FPR\")\n",
    "plt.ylabel(\"TPR\");\n",
    "plt.legend()"
   ]
  },
  {
   "cell_type": "code",
   "execution_count": 28,
   "metadata": {},
   "outputs": [],
   "source": [
    "# Save the Model\n",
    "import pickle\n",
    "filename = 'MODEL_OUT_Final_Linear_Regression_1x1_npy_SA_MOD.sav'\n",
    "pickle.dump(reg_train, open(filename, 'wb'))"
   ]
  },
  {
   "cell_type": "code",
   "execution_count": 29,
   "metadata": {
    "collapsed": true
   },
   "outputs": [],
   "source": []
  }
 ],
 "metadata": {
  "kernelspec": {
   "display_name": "Python 3",
   "language": "python",
   "name": "python3"
  },
  "language_info": {
   "codemirror_mode": {
    "name": "ipython",
    "version": 3
   },
   "file_extension": ".py",
   "mimetype": "text/x-python",
   "name": "python",
   "nbconvert_exporter": "python",
   "pygments_lexer": "ipython3",
   "version": "3.6.6"
  }
 },
 "nbformat": 4,
 "nbformat_minor": 1
}
