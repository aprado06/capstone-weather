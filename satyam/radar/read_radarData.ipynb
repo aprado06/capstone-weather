{
 "cells": [
  {
   "cell_type": "code",
   "execution_count": 11,
   "metadata": {
    "collapsed": true
   },
   "outputs": [],
   "source": [
    "def data_read_display(filename):\n",
    "    \"\"\" \n",
    "\twhen passed the full filename (path plus filename) of a deep learning dataset\n",
    "\tThis function reads the binary data and rescales it\n",
    "\treforms it from vector into array of the proper size\n",
    "\trails the data off at suggested maximum and minimum values\n",
    "\tdisplays the data as grayscale on black background\n",
    "    \"\"\"\n",
    "\n",
    "    import numpy as np\n",
    "    import matplotlib.pyplot as plt\n",
    "\n",
    "    dims = (126,201)   # rows, columns\n",
    "\n",
    "    minmax = [0,30]\t# suggested data limits for display purposes\n",
    "    \n",
    "    # set minmax = [0,0] to use minimum and maximum of each file (excluding missing data)\n",
    "    # [0,30] mm/hr is a good range for rainfall\n",
    "\n",
    "    data = np.fromfile(filename,dtype='int16',count=-1,sep='') # 2 byte integers\n",
    "    print('size of read vector',len(data))\n",
    "    data = np.reshape(data,dims)\n",
    "\n",
    "    if (np.max(data) > 0):\n",
    "\n",
    "        # scale data to between 0 and 1 then rail off the extremes\n",
    "        if (minmax[0] > 0 or minmax[1] > 0):\n",
    "            data = (data - minmax[0])/(minmax[1] - minmax[0])\n",
    "            data[(data < minmax[0])] = minmax[0]\n",
    "            data[(data > minmax[1])] = minmax[1]\n",
    "        else:\n",
    "            data = (data - np.min(data))/(np.max(data) - np.min(data))\n",
    "\n",
    "    else:\n",
    "        print('empty hour!')\n",
    "\n",
    "    # display image as grayscale\n",
    "    plt.ion()  # needed if running from command line\n",
    "    plt.imshow(data, cmap='gray', origin='lower')\n",
    "\n",
    "    "
   ]
  },
  {
   "cell_type": "code",
   "execution_count": 13,
   "metadata": {},
   "outputs": [
    {
     "name": "stdout",
     "output_type": "stream",
     "text": [
      "size of read vector 25326\n"
     ]
    },
    {
     "data": {
      "image/png": "[encoded data removed]",
      "text/plain": [
       "<matplotlib.figure.Figure at 0x11087ef60>"
      ]
     },
     "metadata": {},
     "output_type": "display_data"
    }
   ],
   "source": [
    "data_read_display(\"../../../DATA/radar/radar2008/radar.20080601.00.dat\")"
   ]
  },
  {
   "cell_type": "code",
   "execution_count": null,
   "metadata": {
    "collapsed": true
   },
   "outputs": [],
   "source": []
  }
 ],
 "metadata": {
  "kernelspec": {
   "display_name": "Python 3",
   "language": "python",
   "name": "python3"
  },
  "language_info": {
   "codemirror_mode": {
    "name": "ipython",
    "version": 3
   },
   "file_extension": ".py",
   "mimetype": "text/x-python",
   "name": "python",
   "nbconvert_exporter": "python",
   "pygments_lexer": "ipython3",
   "version": "3.6.3"
  }
 },
 "nbformat": 4,
 "nbformat_minor": 2
}
