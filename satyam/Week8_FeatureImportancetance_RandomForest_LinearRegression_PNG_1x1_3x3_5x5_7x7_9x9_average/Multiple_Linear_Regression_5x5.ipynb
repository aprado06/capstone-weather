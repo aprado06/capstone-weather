{
 "cells": [
  {
   "cell_type": "code",
   "execution_count": 1,
   "metadata": {
    "collapsed": true
   },
   "outputs": [],
   "source": [
    "import matplotlib.pyplot as plt\n",
    "import numpy as np\n",
    "from sklearn import linear_model\n",
    "from sklearn.metrics import mean_squared_error, r2_score\n",
    "import pandas as pd\n",
    "\n",
    "import PIL\n",
    "import glob"
   ]
  },
  {
   "cell_type": "code",
   "execution_count": 2,
   "metadata": {
    "collapsed": true
   },
   "outputs": [],
   "source": [
    "X_input = []\n",
    "input_names = [\"Band 1\", \"Band 2\", \"Band 3\", \"Band 4\", \"Band 6\"]\n",
    "X_names = np.asarray(input_names)\n",
    "\n",
    "Y_output = []"
   ]
  },
  {
   "cell_type": "code",
   "execution_count": 3,
   "metadata": {
    "collapsed": true
   },
   "outputs": [],
   "source": [
    "Sa1_files = glob.glob(\"sa1_16to20/*\")"
   ]
  },
  {
   "cell_type": "code",
   "execution_count": 4,
   "metadata": {},
   "outputs": [
    {
     "data": {
      "text/plain": [
       "93"
      ]
     },
     "execution_count": 4,
     "metadata": {},
     "output_type": "execute_result"
    }
   ],
   "source": [
    "len(Sa1_files)"
   ]
  },
  {
   "cell_type": "code",
   "execution_count": 5,
   "metadata": {
    "collapsed": true
   },
   "outputs": [],
   "source": [
    "def block_avg_5x5(arrayImage):\n",
    "    arrayImage = np.delete(arrayImage, (-1), axis=0)\n",
    "    arrayImage = np.delete(arrayImage, (-1), axis=1)\n",
    "    arrayImage = arrayImage.reshape(51, 5, 51, 5)\n",
    "    arrayImage = arrayImage.mean(axis= (1, 3))\n",
    "    \n",
    "    return arrayImage;"
   ]
  },
  {
   "cell_type": "code",
   "execution_count": 6,
   "metadata": {
    "collapsed": true
   },
   "outputs": [],
   "source": [
    "for filename in Sa1_files:\n",
    "    filename = filename.split('/')[1]\n",
    "    \n",
    "    # Satellite 1\n",
    "    Sa_1_File = \"sa1_256/\" + filename;\n",
    "    Sa1 = PIL.Image.open(Sa_1_File).convert(\"L\")\n",
    "    Sa1 = block_avg_5x5(Sa1)\n",
    "    Sa1arr = np.array(Sa1).flatten()\n",
    "    \n",
    "    \n",
    "    # Satellite 2\n",
    "    Sa_2_File = \"sa2_256/\" + filename;\n",
    "    Sa2 = PIL.Image.open(Sa_2_File).convert(\"L\")\n",
    "    Sa2 = block_avg_5x5(Sa2)\n",
    "    Sa2arr = np.array(Sa2).flatten()\n",
    "    \n",
    "    \n",
    "    # Satellite 3\n",
    "    Sa_3_File = \"sa3_256/\" + filename;\n",
    "    Sa3 = PIL.Image.open(Sa_3_File).convert(\"L\")\n",
    "    Sa3 = block_avg_5x5(Sa3)\n",
    "    Sa3arr = np.array(Sa3).flatten()\n",
    "    \n",
    "    # Satellite 4\n",
    "    Sa_4_File = \"sa4_256/\" + filename;\n",
    "    Sa4 = PIL.Image.open(Sa_4_File).convert(\"L\")\n",
    "    Sa4 = block_avg_5x5(Sa4)\n",
    "    Sa4arr = np.array(Sa4).flatten()\n",
    "    \n",
    "    # Satellite 6\n",
    "    Sa_6_File = \"sa6_256/\" + filename;\n",
    "    Sa6 = PIL.Image.open(Sa_6_File).convert(\"L\")\n",
    "    Sa6 = block_avg_5x5(Sa6)\n",
    "    Sa6arr = np.array(Sa6).flatten()\n",
    "    \n",
    "    # Radar\n",
    "    Radar_File = \"radpng/\" + filename.replace('sat', \"rad\", 1)\n",
    "    Radar = PIL.Image.open(Radar_File).convert(\"L\")\n",
    "    Radararr = np.array(Radar).flatten()\n",
    "    \n",
    "    \n",
    "    for i in range(len(Sa1arr)):\n",
    "        x = [];\n",
    "        x.append(Sa1arr[i])\n",
    "        x.append(Sa2arr[i])\n",
    "        x.append(Sa3arr[i])\n",
    "        x.append(Sa4arr[i])\n",
    "        x.append(Sa6arr[i])\n",
    "        \n",
    "        Y_output.append(Radararr[i])\n",
    "        \n",
    "        X_input.append(x)"
   ]
  },
  {
   "cell_type": "code",
   "execution_count": 7,
   "metadata": {
    "collapsed": true
   },
   "outputs": [],
   "source": [
    "X_input = np.array(X_input)\n",
    "Y_output = np.array(Y_output)"
   ]
  },
  {
   "cell_type": "code",
   "execution_count": 8,
   "metadata": {},
   "outputs": [
    {
     "data": {
      "text/plain": [
       "(241893,)"
      ]
     },
     "execution_count": 8,
     "metadata": {},
     "output_type": "execute_result"
    }
   ],
   "source": [
    "Y_output.shape"
   ]
  },
  {
   "cell_type": "code",
   "execution_count": 9,
   "metadata": {},
   "outputs": [
    {
     "data": {
      "text/plain": [
       "(241893, 5)"
      ]
     },
     "execution_count": 9,
     "metadata": {},
     "output_type": "execute_result"
    }
   ],
   "source": [
    "X_input.shape"
   ]
  },
  {
   "cell_type": "markdown",
   "metadata": {},
   "source": [
    "# Fit the model"
   ]
  },
  {
   "cell_type": "code",
   "execution_count": 10,
   "metadata": {},
   "outputs": [
    {
     "data": {
      "text/plain": [
       "LinearRegression(copy_X=True, fit_intercept=True, n_jobs=1, normalize=False)"
      ]
     },
     "execution_count": 10,
     "metadata": {},
     "output_type": "execute_result"
    }
   ],
   "source": [
    "reg = linear_model.LinearRegression()\n",
    "reg.fit (X_input, Y_output)"
   ]
  },
  {
   "cell_type": "code",
   "execution_count": 11,
   "metadata": {},
   "outputs": [
    {
     "data": {
      "text/plain": [
       "array([ 0.01090092, -0.02359608, -0.01048484, -0.00339747,  0.03488176])"
      ]
     },
     "execution_count": 11,
     "metadata": {},
     "output_type": "execute_result"
    }
   ],
   "source": [
    "reg.coef_"
   ]
  },
  {
   "cell_type": "code",
   "execution_count": 12,
   "metadata": {},
   "outputs": [
    {
     "name": "stdout",
     "output_type": "stream",
     "text": [
      "Band 1       0.01090091685816957\n",
      "Band 2       -0.023596081067895548\n",
      "Band 3       -0.010484836805197259\n",
      "Band 4       -0.0033974731780072234\n",
      "Band 6       0.03488176167720086\n"
     ]
    }
   ],
   "source": [
    "for feat, coef in zip(X_names, reg.coef_):\n",
    "    print('{}       {}'.format(feat, coef))"
   ]
  },
  {
   "cell_type": "code",
   "execution_count": 13,
   "metadata": {
    "collapsed": true
   },
   "outputs": [],
   "source": [
    "df = pd.DataFrame({'Bands':input_names, 'coeff':reg.coef_})"
   ]
  },
  {
   "cell_type": "code",
   "execution_count": 14,
   "metadata": {},
   "outputs": [
    {
     "data": {
      "image/png": "[encoded data removed]",
      "text/plain": [
       "<matplotlib.figure.Figure at 0x7f6ffa3c67b8>"
      ]
     },
     "metadata": {},
     "output_type": "display_data"
    }
   ],
   "source": [
    "df.plot.bar(x='Bands', y='coeff', rot=0, color=('g', 'r', 'r', 'r', 'g'))\n",
    "plt.show()"
   ]
  },
  {
   "cell_type": "code",
   "execution_count": null,
   "metadata": {
    "collapsed": true
   },
   "outputs": [],
   "source": []
  }
 ],
 "metadata": {
  "kernelspec": {
   "display_name": "Python 3",
   "language": "python",
   "name": "python3"
  },
  "language_info": {
   "codemirror_mode": {
    "name": "ipython",
    "version": 3
   },
   "file_extension": ".py",
   "mimetype": "text/x-python",
   "name": "python",
   "nbconvert_exporter": "python",
   "pygments_lexer": "ipython3",
   "version": "3.6.1"
  }
 },
 "nbformat": 4,
 "nbformat_minor": 2
}
