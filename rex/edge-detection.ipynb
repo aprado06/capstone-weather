{
 "cells": [
  {
   "cell_type": "code",
   "execution_count": null,
   "metadata": {},
   "outputs": [],
   "source": [
    "import os\n",
    "import matplotlib.pyplot as plt\n",
    "from PIL import Image\n",
    "from scipy import ndimage as ndi\n",
    "from skimage import feature\n",
    "import numpy as np"
   ]
  },
  {
   "cell_type": "code",
   "execution_count": null,
   "metadata": {},
   "outputs": [],
   "source": [
    "path_in = \"D:/data-weather/rad_sat_mod/rad_256/\"\n",
    "path_out = \"D:/data-weather/rad_sat_mod/rad_edge/\""
   ]
  },
  {
   "cell_type": "code",
   "execution_count": null,
   "metadata": {},
   "outputs": [],
   "source": [
    "filenames = []\n",
    "directory = os.fsencode(path_in)\n",
    "for file in os.listdir(directory):\n",
    "    filename = os.fsdecode(file)\n",
    "    filenames.append(filename)\n",
    "filenames.sort()\n",
    "print(\"Total number of files found: \", len(filenames))\n",
    "print(\"First filename: \", filenames[0])"
   ]
  },
  {
   "cell_type": "code",
   "execution_count": null,
   "metadata": {},
   "outputs": [],
   "source": [
    "img = Image.open(path_in+filenames[0])"
   ]
  },
  {
   "cell_type": "code",
   "execution_count": null,
   "metadata": {},
   "outputs": [],
   "source": [
    "plt.title(filenames[0])\n",
    "plt.axis('off')\n",
    "plt.imshow(img)"
   ]
  },
  {
   "cell_type": "code",
   "execution_count": null,
   "metadata": {},
   "outputs": [],
   "source": [
    "blurr = ndi.gaussian_filter(img, 4)"
   ]
  },
  {
   "cell_type": "code",
   "execution_count": null,
   "metadata": {},
   "outputs": [],
   "source": [
    "plt.title(filenames[0])\n",
    "plt.axis('off')\n",
    "plt.imshow(blurr, cmap='gray')"
   ]
  },
  {
   "cell_type": "code",
   "execution_count": null,
   "metadata": {},
   "outputs": [],
   "source": [
    "edges1 = feature.canny(blurr)\n",
    "edges2 = feature.canny(blurr, sigma=2)"
   ]
  },
  {
   "cell_type": "code",
   "execution_count": null,
   "metadata": {},
   "outputs": [],
   "source": [
    "plt.title(filenames[0])\n",
    "plt.axis('off')\n",
    "plt.imshow(edges1, cmap='gray')"
   ]
  },
  {
   "cell_type": "code",
   "execution_count": null,
   "metadata": {},
   "outputs": [],
   "source": [
    "plt.title(filenames[0])\n",
    "plt.axis('off')\n",
    "plt.imshow(edges2, cmap='gray')"
   ]
  },
  {
   "cell_type": "code",
   "execution_count": null,
   "metadata": {},
   "outputs": [],
   "source": [
    "fig, (ax0, ax1, ax2, ax3) = plt.subplots(nrows=1, ncols=4, figsize=(16,16))\n",
    "ax0.set_title(filenames[0])\n",
    "ax0.axis('off')\n",
    "ax0.imshow(img, cmap='gray')\n",
    "ax1.set_title(\"blurred\")\n",
    "ax1.axis('off')\n",
    "ax1.imshow(blurr, cmap='gray')\n",
    "ax2.set_title(\"default sigma\")\n",
    "ax2.axis('off')\n",
    "ax2.imshow(edges1, cmap='gray')\n",
    "ax3.set_title(\"sigma=2\")\n",
    "ax3.axis('off')\n",
    "ax3.imshow(edges2, cmap='gray')"
   ]
  },
  {
   "cell_type": "code",
   "execution_count": null,
   "metadata": {},
   "outputs": [],
   "source": [
    "image = plt.imread(path_in+filenames[0])\n",
    "print(image.shape)\n",
    "blurred = ndi.gaussian_filter(img, 4)\n",
    "print(blurred.shape)\n",
    "edge1 = feature.canny(blurred)\n",
    "print(edge1.shape)\n",
    "edge2 = feature.canny(blurred, sigma=2)\n",
    "print(edge2.shape)"
   ]
  },
  {
   "cell_type": "code",
   "execution_count": null,
   "metadata": {},
   "outputs": [],
   "source": [
    "fig, (ax0, ax1, ax2, ax3) = plt.subplots(nrows=1, ncols=4, figsize=(16,16))\n",
    "ax0.set_title(filenames[0])\n",
    "ax0.axis('off')\n",
    "ax0.imshow(image, cmap='gray')\n",
    "ax1.set_title(\"blurred\")\n",
    "ax1.axis('off')\n",
    "ax1.imshow(blurred, cmap='gray')\n",
    "ax2.set_title(\"default sigma\")\n",
    "ax2.axis('off')\n",
    "ax2.imshow(edge1, cmap='gray')\n",
    "ax3.set_title(\"sigma=2\")\n",
    "ax3.axis('off')\n",
    "ax3.imshow(edge2, cmap='gray')"
   ]
  },
  {
   "cell_type": "code",
   "execution_count": null,
   "metadata": {},
   "outputs": [],
   "source": [
    "plt.imsave(path_out+filenames[0], edge1, cmap='gray')"
   ]
  },
  {
   "cell_type": "code",
   "execution_count": null,
   "metadata": {},
   "outputs": [],
   "source": [
    "images = []\n",
    "for filename in filenames:\n",
    "    images.append(plt.imread(path_in+filename))"
   ]
  },
  {
   "cell_type": "code",
   "execution_count": null,
   "metadata": {},
   "outputs": [],
   "source": [
    "print(len(images))"
   ]
  },
  {
   "cell_type": "code",
   "execution_count": null,
   "metadata": {},
   "outputs": [],
   "source": [
    "images_blurred = []\n",
    "for image in images:\n",
    "    images_blurred.append(ndi.gaussian_filter(image, 4))\n",
    "print(len(images_blurred))"
   ]
  },
  {
   "cell_type": "code",
   "execution_count": null,
   "metadata": {},
   "outputs": [],
   "source": [
    "images_edge1 = []\n",
    "for image_blurred in images_blurred:\n",
    "    images_edge1.append(feature.canny(image_blurred))\n",
    "print(len(images_edge1))"
   ]
  },
  {
   "cell_type": "code",
   "execution_count": null,
   "metadata": {},
   "outputs": [],
   "source": [
    "for i in range(0, len(filenames)):\n",
    "    plt.imsave(path_out+filenames[i], images_edge1[i], cmap='gray')"
   ]
  },
  {
   "cell_type": "code",
   "execution_count": null,
   "metadata": {},
   "outputs": [],
   "source": [
    "def rgb2gray(rgb):\n",
    "    return np.dot(rgb[...,:3], [0.299, 0.587, 0.114])\n",
    "path_in = \"D:/data-weather/rad_sat_mod/mvi_256/\"\n",
    "path_out = \"D:/data-weather/rad_sat_mod/mvi_edge/\"\n",
    "filenames = []\n",
    "directory = os.fsencode(path_in)\n",
    "for file in os.listdir(directory):\n",
    "    filename = os.fsdecode(file)\n",
    "    filenames.append(filename)\n",
    "filenames.sort()\n",
    "print(\"Total number of files found: \", len(filenames))\n",
    "print(\"First filename: \", filenames[0])\n",
    "images = []\n",
    "for filename in filenames:\n",
    "    images.append(rgb2gray(plt.imread(path_in+filename)))\n",
    "print(\"Image Loading Successful!\")\n",
    "images_blurred = []\n",
    "for image in images:\n",
    "    images_blurred.append(ndi.gaussian_filter(image, 4))\n",
    "print(\"Image Blurring Successful!\")\n",
    "images_edge1 = []\n",
    "for image_blurred in images_blurred:\n",
    "    images_edge1.append(feature.canny(image_blurred))\n",
    "print(\"Image Edge Detecting Successful!\")\n",
    "for i in range(0, len(filenames)):\n",
    "    plt.imsave(path_out+filenames[i], images_edge1[i], cmap='gray')\n",
    "print(\"Edge Images Saved Successful!\")"
   ]
  },
  {
   "cell_type": "code",
   "execution_count": null,
   "metadata": {},
   "outputs": [],
   "source": [
    "print(images[0].shape)\n",
    "plt.axis('off')\n",
    "plt.imshow(images[0])"
   ]
  },
  {
   "cell_type": "code",
   "execution_count": null,
   "metadata": {},
   "outputs": [],
   "source": [
    "rex = plt.imread(\"D:/data-weather/rad_sat_mod/sa1_edge/sat.20170102.14.png\")\n",
    "print(type(rex))\n",
    "print(rex.shape)\n",
    "plt.imshow(rex)"
   ]
  },
  {
   "cell_type": "code",
   "execution_count": null,
   "metadata": {},
   "outputs": [],
   "source": []
  }
 ],
 "metadata": {
  "kernelspec": {
   "display_name": "Python 3",
   "language": "python",
   "name": "python3"
  },
  "language_info": {
   "codemirror_mode": {
    "name": "ipython",
    "version": 3
   },
   "file_extension": ".py",
   "mimetype": "text/x-python",
   "name": "python",
   "nbconvert_exporter": "python",
   "pygments_lexer": "ipython3",
   "version": "3.7.0"
  }
 },
 "nbformat": 4,
 "nbformat_minor": 2
}
