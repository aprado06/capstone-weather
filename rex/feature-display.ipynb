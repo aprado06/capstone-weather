{
 "cells": [
  {
   "cell_type": "code",
   "execution_count": null,
   "metadata": {},
   "outputs": [],
   "source": [
    "# takes .npy features and saves them as .png\n",
    "import numpy as np\n",
    "import matplotlib.pyplot as plt\n",
    "import os"
   ]
  },
  {
   "cell_type": "code",
   "execution_count": null,
   "metadata": {},
   "outputs": [],
   "source": [
    "path_to_directory = \"/mnt/data-weather/feature/relative-humidity-2m/\"\n",
    "path_to_save = \"/mnt/data-weather/modpng/relative-humidity-2m/\"\n",
    "latlon = np.load(\"/mnt/data-weather/feature/latslons.npy\")\n",
    "directory = os.fsencode(path_to_directory)\n",
    "\n",
    "for file in os.listdir(directory):\n",
    "    filename = os.fsdecode(file) # Gets the filename of every file in \"path_to_directory\"\n",
    "    #print(filename[0:-4])\n",
    "    data = np.load(path_to_directory+filename)\n",
    "    #print(data.shape)\n",
    "    fig = plt.scatter(x=latlon[1], y=latlon[0], s=data, c=data, marker=\".\", alpha=1.0, cmap='gray')\n",
    "    fig.axes.get_xaxis().set_visible(False)\n",
    "    fig.axes.get_yaxis().set_visible(False)\n",
    "    plt.savefig(path_to_save+filename[0:-4]+\".png\", bbox_inches='tight', pad_inches=-0.35)\n",
    "    plt.close()"
   ]
  },
  {
   "cell_type": "code",
   "execution_count": null,
   "metadata": {},
   "outputs": [],
   "source": [
    "rex = np.load(\"/mnt/data-weather/feature/relative-humidity-2m/nam_218_20170121_1800_002.npy\")\n",
    "latlon = np.load(\"/mnt/data-weather/feature/latslons.npy\")\n",
    "print(rex.max(), latlon.shape)"
   ]
  },
  {
   "cell_type": "code",
   "execution_count": null,
   "metadata": {},
   "outputs": [],
   "source": [
    "print(latlon[0], latlon[1])"
   ]
  },
  {
   "cell_type": "code",
   "execution_count": null,
   "metadata": {},
   "outputs": [],
   "source": [
    "fig = plt.scatter(x=latlon[1], y=latlon[0], s=rex, c=rex, marker=\".\", alpha=1.0, cmap='gray')\n",
    "fig.axes.get_xaxis().set_visible(False)\n",
    "fig.axes.get_yaxis().set_visible(False)\n",
    "plt.savefig(\"out.png\", bbox_inches='tight', pad_inches=-0.35)\n",
    "plt.close()"
   ]
  },
  {
   "cell_type": "code",
   "execution_count": null,
   "metadata": {},
   "outputs": [],
   "source": []
  }
 ],
 "metadata": {
  "kernelspec": {
   "display_name": "Python 3",
   "language": "python",
   "name": "python3"
  },
  "language_info": {
   "codemirror_mode": {
    "name": "ipython",
    "version": 3
   },
   "file_extension": ".py",
   "mimetype": "text/x-python",
   "name": "python",
   "nbconvert_exporter": "python",
   "pygments_lexer": "ipython3",
   "version": "3.6.5"
  }
 },
 "nbformat": 4,
 "nbformat_minor": 2
}
