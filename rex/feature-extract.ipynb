{
 "cells": [
  {
   "cell_type": "code",
   "execution_count": 1,
   "metadata": {},
   "outputs": [],
   "source": [
    "import os\n",
    "import numpy as np\n",
    "import pygrib"
   ]
  },
  {
   "cell_type": "code",
   "execution_count": null,
   "metadata": {},
   "outputs": [],
   "source": [
    "path_to_directory = \"/mnt/data-weather/moddata\"\n",
    "path_to_save = \"/mnt/data-weather/feature/total-precipitation\"\n",
    "feature = \"Total Precipitation\"\n",
    "index = 0\n",
    "directory = os.fsencode(path_to_directory)\n",
    "\n",
    "for file in os.listdir(directory):\n",
    "    filename = os.fsdecode(file)\n",
    "    #print(filename) #prints the filename of every file in \"path_to_directory\"\n",
    "    #print(path_to_directory + '/' + filename) #proper path for pygrib\n",
    "    grbs = pygrib.open(path_to_directory + '/' + filename)\n",
    "    grb = grbs.select(name = feature)[index]\n",
    "    data, lats, lons = grb.data(lat1 = 31, lat2 = 41, lon1 = -102, lon2 = -82)\n",
    "    #print(data.shape, lats.shape, lons.shape, lats.min(), lons.min(), lats.max(), lons.max())\n",
    "    output = np.stack((data, lats, lons)) #row0 = data, row1 = lat, row2= lon\n",
    "    np.save(path_to_save + '/' + filename[0:-5], output)\n",
    "    grbs.close()"
   ]
  },
  {
   "cell_type": "code",
   "execution_count": 55,
   "metadata": {},
   "outputs": [
    {
     "name": "stdout",
     "output_type": "stream",
     "text": [
      "442:Total Cloud Cover:% (instant):lambert:unknown:level 0 considered as a single layer:fcst time 0 hrs:from 201712311800\n",
      "(428, 614)\n",
      "(13999,) (13999,) (13999,) 31.001285230157098 -101.99925781682273 40.99968777669306 -82.0002706763687\n",
      "(3, 13999)\n"
     ]
    }
   ],
   "source": [
    "grbs = pygrib.open(\"/mnt/data-weather/moddata/nam_218_20171231_1800_000.grb2\")\n",
    "grb = grbs.select(name = \"Total Cloud Cover\")[0]\n",
    "print(grb)\n",
    "print(grb.values.shape)\n",
    "data, lats, lons = grb.data(lat1 = 31, lat2 = 41, lon1 = -102, lon2 = -82)\n",
    "output = np.stack((data,lats,lons))\n",
    "print(data.shape, lats.shape, lons.shape, lats.min(), lons.min(), lats.max(), lons.max())\n",
    "print(output.shape)\n",
    "grbs.close()"
   ]
  },
  {
   "cell_type": "code",
   "execution_count": 22,
   "metadata": {},
   "outputs": [
    {
     "name": "stdout",
     "output_type": "stream",
     "text": [
      "[448:Total Cloud Cover:% (instant):lambert:unknown:level 0 considered as a single layer:fcst time 1 hrs:from 201712311800]\n",
      "[[  0.   0.   0. ...  36.  25.  18.]\n",
      " [  2.   1.   0. ...  26.  27.  27.]\n",
      " [ 10.  11.  10. ...  40.  40.  40.]\n",
      " ...\n",
      " [ 22.  34.  45. ... 100. 100. 100.]\n",
      " [ 15.  27.  45. ... 100. 100. 100.]\n",
      " [  8.  19.  42. ...  98. 100. 100.]]\n"
     ]
    }
   ],
   "source": [
    "grbs = pygrib.open(\"/mnt/data-weather/moddata/nam_218_20171231_1800_001.grb2\")\n",
    "print(grbs.select(name=\"Total Cloud Cover\"))\n",
    "print(grbs.select(name=\"Total Cloud Cover\")[0].values)\n",
    "grbs.close()"
   ]
  },
  {
   "cell_type": "code",
   "execution_count": 23,
   "metadata": {},
   "outputs": [
    {
     "name": "stdout",
     "output_type": "stream",
     "text": [
      "[448:Total Cloud Cover:% (instant):lambert:unknown:level 0 considered as a single layer:fcst time 2 hrs:from 201712311800]\n",
      "[[ 11.  11.   4. ...  39.  29.  24.]\n",
      " [ 13.  12.   3. ...  32.  31.  30.]\n",
      " [ 18.  21.  10. ...  37.  39.  39.]\n",
      " ...\n",
      " [ 11.  20.  29. ... 100. 100. 100.]\n",
      " [ 16.  24.  29. ... 100. 100. 100.]\n",
      " [ 16.  29.  32. ... 100. 100. 100.]]\n"
     ]
    }
   ],
   "source": [
    "grbs = pygrib.open(\"/mnt/data-weather/moddata/nam_218_20171231_1800_002.grb2\")\n",
    "print(grbs.select(name=\"Total Cloud Cover\"))\n",
    "print(grbs.select(name=\"Total Cloud Cover\")[0].values)\n",
    "grbs.close()"
   ]
  },
  {
   "cell_type": "code",
   "execution_count": 24,
   "metadata": {},
   "outputs": [
    {
     "name": "stdout",
     "output_type": "stream",
     "text": [
      "[448:Total Cloud Cover:% (instant):lambert:unknown:level 0 considered as a single layer:fcst time 3 hrs:from 201712311800]\n",
      "[[ 41.  38.  19. ...  53.  47.  20.]\n",
      " [ 48.  45.  18. ...  53.  48.  34.]\n",
      " [ 34.  31.  12. ...  53.  52.  43.]\n",
      " ...\n",
      " [ 21.  32.  39. ... 100. 100. 100.]\n",
      " [ 25.  37.  47. ... 100. 100. 100.]\n",
      " [ 26.  38.  48. ... 100. 100. 100.]]\n"
     ]
    }
   ],
   "source": [
    "grbs = pygrib.open(\"/mnt/data-weather/moddata/nam_218_20171231_1800_003.grb2\")\n",
    "print(grbs.select(name=\"Total Cloud Cover\"))\n",
    "print(grbs.select(name=\"Total Cloud Cover\")[0].values)\n",
    "grbs.close()"
   ]
  },
  {
   "cell_type": "code",
   "execution_count": 27,
   "metadata": {},
   "outputs": [
    {
     "name": "stdout",
     "output_type": "stream",
     "text": [
      "[448:Total Cloud Cover:% (instant):lambert:unknown:level 0 considered as a single layer:fcst time 6 hrs:from 201712311800]\n",
      "[[  0.   0.   0. ...   0.   7.  12.]\n",
      " [  0.   0.   0. ...   6.  12.  22.]\n",
      " [  0.   0.  10. ...  12.  24.  50.]\n",
      " ...\n",
      " [ 78.  78.  69. ... 100. 100. 100.]\n",
      " [ 85.  85.  71. ... 100. 100. 100.]\n",
      " [ 84.  87.  70. ... 100. 100. 100.]]\n"
     ]
    }
   ],
   "source": [
    "grbs = pygrib.open(\"/mnt/data-weather/moddata/nam_218_20171231_1800_006.grb2\")\n",
    "print(grbs.select(name=\"Total Cloud Cover\"))\n",
    "print(grbs.select(name=\"Total Cloud Cover\")[0].values)\n",
    "grbs.close()"
   ]
  },
  {
   "cell_type": "code",
   "execution_count": null,
   "metadata": {},
   "outputs": [],
   "source": []
  }
 ],
 "metadata": {
  "kernelspec": {
   "display_name": "Python 3",
   "language": "python",
   "name": "python3"
  },
  "language_info": {
   "codemirror_mode": {
    "name": "ipython",
    "version": 3
   },
   "file_extension": ".py",
   "mimetype": "text/x-python",
   "name": "python",
   "nbconvert_exporter": "python",
   "pygments_lexer": "ipython3",
   "version": "3.6.5"
  }
 },
 "nbformat": 4,
 "nbformat_minor": 2
}
