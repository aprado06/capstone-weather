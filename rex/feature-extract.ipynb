{
 "cells": [
  {
   "cell_type": "code",
   "execution_count": null,
   "metadata": {},
   "outputs": [],
   "source": [
    "import os\n",
    "import numpy as np\n",
    "import pygrib"
   ]
  },
  {
   "cell_type": "code",
   "execution_count": null,
   "metadata": {},
   "outputs": [],
   "source": [
    "# Code used to store the lattitude and longitude into a latslons.npy file\n",
    "grbs = pygrib.open(\"/mnt/data-weather/moddata/nam_218_20170101_1800_000.grb2\")\n",
    "grb = grbs.select(name = \"Total Precipitation\")[0]\n",
    "data, lats, lons = grb.data(lat1 = 31, lat2 = 41, lon1 = -102, lon2 = -82)\n",
    "print(\"Data Shape: \", data.shape, \n",
    "      \"Lat Shape: \", lats.shape, \n",
    "      \"Lons Shape: \", lons.shape, \n",
    "      \"Lats Min: \", lats.min(), \n",
    "      \"Lons Min: \", lons.min(), \n",
    "      \"Lats Max: \", lats.max(), \n",
    "      \"Lons Max: \", lons.max())\n",
    "latslons = np.stack((lats, lons))\n",
    "np.save(\"/mnt/data-weather/feature/latslons\", latslons)\n",
    "grbs.close()"
   ]
  },
  {
   "cell_type": "code",
   "execution_count": null,
   "metadata": {},
   "outputs": [],
   "source": [
    "# Code used to get the stored lattitude and longitude in latslons.npy\n",
    "print(np.load(\"/mnt/data-weather/feature/latslons.npy\").shape)\n",
    "# lats is first row, lons is second row"
   ]
  },
  {
   "cell_type": "code",
   "execution_count": null,
   "metadata": {},
   "outputs": [],
   "source": [
    "# Code used to choose, extract, crop, and save the data into a '.npy' file\n",
    "path_to_directory = \"/mnt/data-weather/moddata/\"\n",
    "path_to_save = \"/mnt/data-weather/feature/total-precipitation/\"\n",
    "feature = \"Total Precipitation\"\n",
    "index = 0\n",
    "directory = os.fsencode(path_to_directory)\n",
    "\n",
    "for file in os.listdir(directory):\n",
    "    filename = os.fsdecode(file) # Gets the filename of every file in \"path_to_directory\"\n",
    "    grbs = pygrib.open(path_to_directory + filename) # Connects the path to the .grb2 file\n",
    "    grb = grbs.select(name = feature)[index] # Gets the desired feature\n",
    "    data, lats, lons = grb.data(lat1 = 31, lat2 = 41, lon1 = -102, lon2 = -82) # Crops the extracted data\n",
    "    #print(data.shape, lats.shape, lons.shape, lats.min(), lons.min(), lats.max(), lons.max())\n",
    "    np.save(path_to_save + filename[0:-5], data) # getting rid of the .grb2 extension for .npy\n",
    "    #print(feature, \"of\", path_to_save + filename, \"saved successfully.\")\n",
    "    grbs.close()"
   ]
  },
  {
   "cell_type": "code",
   "execution_count": null,
   "metadata": {},
   "outputs": [],
   "source": [
    "# Code used to choose, extract, crop, and save the data into a '.npy' file\n",
    "path_to_directory = \"/mnt/data-weather/moddata/\"\n",
    "path_to_save = \"/mnt/data-weather/feature/total-cloud-cover/\"\n",
    "feature = \"Total Cloud Cover\"\n",
    "index = 0\n",
    "directory = os.fsencode(path_to_directory)\n",
    "\n",
    "for file in os.listdir(directory):\n",
    "    filename = os.fsdecode(file) # Gets the filename of every file in \"path_to_directory\"\n",
    "    grbs = pygrib.open(path_to_directory + filename) # Connects the path to the .grb2 file\n",
    "    grb = grbs.select(name = feature)[index] # Gets the desired feature\n",
    "    data, lats, lons = grb.data(lat1 = 31, lat2 = 41, lon1 = -102, lon2 = -82) # Crops the extracted data\n",
    "    #print(data.shape, lats.shape, lons.shape, lats.min(), lons.min(), lats.max(), lons.max())\n",
    "    np.save(path_to_save + filename[0:-5], data) # getting rid of the .grb2 extension for .npy\n",
    "    #print(feature, \"of\", path_to_save + filename, \"saved successfully.\")\n",
    "    grbs.close()"
   ]
  },
  {
   "cell_type": "code",
   "execution_count": null,
   "metadata": {},
   "outputs": [],
   "source": [
    "# Code used to choose, extract, crop, and save the data into a '.npy' file\n",
    "path_to_directory = \"/mnt/data-weather/moddata/\"\n",
    "path_to_save = \"/mnt/data-weather/feature/relative-humidity-2m/\"\n",
    "feature = \"2 metre relative humidity\"\n",
    "index = 0\n",
    "directory = os.fsencode(path_to_directory)\n",
    "\n",
    "for file in os.listdir(directory):\n",
    "    filename = os.fsdecode(file) # Gets the filename of every file in \"path_to_directory\"\n",
    "    grbs = pygrib.open(path_to_directory + filename) # Connects the path to the .grb2 file\n",
    "    grb = grbs.select(name = feature)[index] # Gets the desired feature\n",
    "    data, lats, lons = grb.data(lat1 = 31, lat2 = 41, lon1 = -102, lon2 = -82) # Crops the extracted data\n",
    "    #print(data.shape, lats.shape, lons.shape, lats.min(), lons.min(), lats.max(), lons.max())\n",
    "    np.save(path_to_save + filename[0:-5], data) # getting rid of the .grb2 extension for .npy\n",
    "    #print(feature, \"of\", path_to_save + filename, \"saved successfully.\")\n",
    "    grbs.close()"
   ]
  },
  {
   "cell_type": "code",
   "execution_count": null,
   "metadata": {},
   "outputs": [],
   "source": [
    "grbs = pygrib.open(\"/mnt/data-weather/moddata/nam_218_20170101_1800_000.grb2\")\n",
    "for grb in grbs:\n",
    "    print(grb)\n",
    "grbs.close()"
   ]
  },
  {
   "cell_type": "code",
   "execution_count": null,
   "metadata": {},
   "outputs": [],
   "source": [
    "grbs = pygrib.open(\"/mnt/data-weather/moddata/nam_218_20170101_1800_000.grb2\")\n",
    "grb = grbs.select(name=\"2 metre relative humidity\")[0]\n",
    "print(grb)\n",
    "data, lats, lons = grb.data(lat1 = 31, lat2 = 41, lon1 = -102, lon2 = -82)\n",
    "print(data.shape)\n",
    "print(type(data.max()))"
   ]
  },
  {
   "cell_type": "code",
   "execution_count": null,
   "metadata": {},
   "outputs": [],
   "source": []
  }
 ],
 "metadata": {
  "kernelspec": {
   "display_name": "Python 3",
   "language": "python",
   "name": "python3"
  },
  "language_info": {
   "codemirror_mode": {
    "name": "ipython",
    "version": 3
   },
   "file_extension": ".py",
   "mimetype": "text/x-python",
   "name": "python",
   "nbconvert_exporter": "python",
   "pygments_lexer": "ipython3",
   "version": "3.6.5"
  }
 },
 "nbformat": 4,
 "nbformat_minor": 2
}
