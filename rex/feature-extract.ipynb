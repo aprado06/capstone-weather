{
 "cells": [
  {
   "cell_type": "code",
   "execution_count": 1,
   "metadata": {},
   "outputs": [],
   "source": [
    "import os\n",
    "import numpy as np\n",
    "import pygrib"
   ]
  },
  {
   "cell_type": "code",
   "execution_count": 2,
   "metadata": {},
   "outputs": [
    {
     "name": "stdout",
     "output_type": "stream",
     "text": [
      "Data Shape:  (13999,) Lat Shape:  (13999,) Lons Shape:  (13999,) Lats Min:  31.001285230157098 Lons Min:  -101.99925781682273 Lats Max:  40.99968777669306 Lons Max:  -82.0002706763687\n"
     ]
    }
   ],
   "source": [
    "# Code used to store the lattitude and longitude into a latslons.npy file\n",
    "grbs = pygrib.open(\"/mnt/data-weather/moddata/nam_218_20170101_1800_000.grb2\")\n",
    "grb = grbs.select(name = \"Total Precipitation\")[0]\n",
    "data, lats, lons = grb.data(lat1 = 31, lat2 = 41, lon1 = -102, lon2 = -82)\n",
    "print(\"Data Shape: \", data.shape, \n",
    "      \"Lat Shape: \", lats.shape, \n",
    "      \"Lons Shape: \", lons.shape, \n",
    "      \"Lats Min: \", lats.min(), \n",
    "      \"Lons Min: \", lons.min(), \n",
    "      \"Lats Max: \", lats.max(), \n",
    "      \"Lons Max: \", lons.max())\n",
    "latslons = np.stack((lats, lons))\n",
    "np.save(\"/mnt/data-weather/feature/latslons\", latslons)\n",
    "grbs.close()"
   ]
  },
  {
   "cell_type": "code",
   "execution_count": 3,
   "metadata": {},
   "outputs": [
    {
     "name": "stdout",
     "output_type": "stream",
     "text": [
      "(2, 13999)\n"
     ]
    }
   ],
   "source": [
    "# Code used to get the stored lattitude and longitude in latslons.npy\n",
    "print(np.load(\"/mnt/data-weather/feature/latslons.npy\").shape)\n",
    "# lats is first row, lons is second row"
   ]
  },
  {
   "cell_type": "code",
   "execution_count": 5,
   "metadata": {},
   "outputs": [
    {
     "name": "stdout",
     "output_type": "stream",
     "text": [
      "Total Precipitation of /mnt/data-weather/feature/total-precipitation/nam_218_20171220_1800_001.grb2 saved successfully.\n",
      "Total Precipitation of /mnt/data-weather/feature/total-precipitation/nam_218_20171220_1800_002.grb2 saved successfully.\n",
      "Total Precipitation of /mnt/data-weather/feature/total-precipitation/nam_218_20171220_1800_003.grb2 saved successfully.\n",
      "Total Precipitation of /mnt/data-weather/feature/total-precipitation/nam_218_20171220_1800_006.grb2 saved successfully.\n",
      "Total Precipitation of /mnt/data-weather/feature/total-precipitation/nam_218_20171221_1800_000.grb2 saved successfully.\n",
      "Total Precipitation of /mnt/data-weather/feature/total-precipitation/nam_218_20171221_1800_001.grb2 saved successfully.\n",
      "Total Precipitation of /mnt/data-weather/feature/total-precipitation/nam_218_20171221_1800_002.grb2 saved successfully.\n",
      "Total Precipitation of /mnt/data-weather/feature/total-precipitation/nam_218_20171221_1800_003.grb2 saved successfully.\n",
      "Total Precipitation of /mnt/data-weather/feature/total-precipitation/nam_218_20171221_1800_006.grb2 saved successfully.\n",
      "Total Precipitation of /mnt/data-weather/feature/total-precipitation/nam_218_20171222_1800_000.grb2 saved successfully.\n",
      "Total Precipitation of /mnt/data-weather/feature/total-precipitation/nam_218_20171222_1800_001.grb2 saved successfully.\n",
      "Total Precipitation of /mnt/data-weather/feature/total-precipitation/nam_218_20171222_1800_002.grb2 saved successfully.\n"
     ]
    },
    {
     "ename": "KeyboardInterrupt",
     "evalue": "",
     "output_type": "error",
     "traceback": [
      "\u001b[0;31m---------------------------------------------------------------------------\u001b[0m",
      "\u001b[0;31mKeyboardInterrupt\u001b[0m                         Traceback (most recent call last)",
      "\u001b[0;32m<ipython-input-5-b7d403701d21>\u001b[0m in \u001b[0;36m<module>\u001b[0;34m()\u001b[0m\n\u001b[1;32m      9\u001b[0m     \u001b[0mfilename\u001b[0m \u001b[0;34m=\u001b[0m \u001b[0mos\u001b[0m\u001b[0;34m.\u001b[0m\u001b[0mfsdecode\u001b[0m\u001b[0;34m(\u001b[0m\u001b[0mfile\u001b[0m\u001b[0;34m)\u001b[0m \u001b[0;31m# Gets the filename of every file in \"path_to_directory\"\u001b[0m\u001b[0;34m\u001b[0m\u001b[0m\n\u001b[1;32m     10\u001b[0m     \u001b[0mgrbs\u001b[0m \u001b[0;34m=\u001b[0m \u001b[0mpygrib\u001b[0m\u001b[0;34m.\u001b[0m\u001b[0mopen\u001b[0m\u001b[0;34m(\u001b[0m\u001b[0mpath_to_directory\u001b[0m \u001b[0;34m+\u001b[0m \u001b[0mfilename\u001b[0m\u001b[0;34m)\u001b[0m \u001b[0;31m# Connects the path to the .grb2 file\u001b[0m\u001b[0;34m\u001b[0m\u001b[0m\n\u001b[0;32m---> 11\u001b[0;31m     \u001b[0mgrb\u001b[0m \u001b[0;34m=\u001b[0m \u001b[0mgrbs\u001b[0m\u001b[0;34m.\u001b[0m\u001b[0mselect\u001b[0m\u001b[0;34m(\u001b[0m\u001b[0mname\u001b[0m \u001b[0;34m=\u001b[0m \u001b[0mfeature\u001b[0m\u001b[0;34m)\u001b[0m\u001b[0;34m[\u001b[0m\u001b[0mindex\u001b[0m\u001b[0;34m]\u001b[0m \u001b[0;31m# Gets the desired feature\u001b[0m\u001b[0;34m\u001b[0m\u001b[0m\n\u001b[0m\u001b[1;32m     12\u001b[0m     \u001b[0mdata\u001b[0m\u001b[0;34m,\u001b[0m \u001b[0mlats\u001b[0m\u001b[0;34m,\u001b[0m \u001b[0mlons\u001b[0m \u001b[0;34m=\u001b[0m \u001b[0mgrb\u001b[0m\u001b[0;34m.\u001b[0m\u001b[0mdata\u001b[0m\u001b[0;34m(\u001b[0m\u001b[0mlat1\u001b[0m \u001b[0;34m=\u001b[0m \u001b[0;36m31\u001b[0m\u001b[0;34m,\u001b[0m \u001b[0mlat2\u001b[0m \u001b[0;34m=\u001b[0m \u001b[0;36m41\u001b[0m\u001b[0;34m,\u001b[0m \u001b[0mlon1\u001b[0m \u001b[0;34m=\u001b[0m \u001b[0;34m-\u001b[0m\u001b[0;36m102\u001b[0m\u001b[0;34m,\u001b[0m \u001b[0mlon2\u001b[0m \u001b[0;34m=\u001b[0m \u001b[0;34m-\u001b[0m\u001b[0;36m82\u001b[0m\u001b[0;34m)\u001b[0m \u001b[0;31m# Crops the extracted data\u001b[0m\u001b[0;34m\u001b[0m\u001b[0m\n\u001b[1;32m     13\u001b[0m     \u001b[0;31m#print(data.shape, lats.shape, lons.shape, lats.min(), lons.min(), lats.max(), lons.max())\u001b[0m\u001b[0;34m\u001b[0m\u001b[0;34m\u001b[0m\u001b[0m\n",
      "\u001b[0;31mKeyboardInterrupt\u001b[0m: "
     ]
    }
   ],
   "source": [
    "# Code used to choose, extract, crop, and save the data into a '.npy' file\n",
    "path_to_directory = \"/mnt/data-weather/moddata/\"\n",
    "path_to_save = \"/mnt/data-weather/feature/total-precipitation/\"\n",
    "feature = \"Total Precipitation\"\n",
    "index = 0\n",
    "directory = os.fsencode(path_to_directory)\n",
    "\n",
    "for file in os.listdir(directory):\n",
    "    filename = os.fsdecode(file) # Gets the filename of every file in \"path_to_directory\"\n",
    "    grbs = pygrib.open(path_to_directory + filename) # Connects the path to the .grb2 file\n",
    "    grb = grbs.select(name = feature)[index] # Gets the desired feature\n",
    "    data, lats, lons = grb.data(lat1 = 31, lat2 = 41, lon1 = -102, lon2 = -82) # Crops the extracted data\n",
    "    #print(data.shape, lats.shape, lons.shape, lats.min(), lons.min(), lats.max(), lons.max())\n",
    "    np.save(path_to_save + filename[0:-5], data) # getting rid of the .grb2 extension for .npy\n",
    "    #print(feature, \"of\", path_to_save + filename, \"saved successfully.\")\n",
    "    grbs.close()"
   ]
  },
  {
   "cell_type": "code",
   "execution_count": null,
   "metadata": {},
   "outputs": [],
   "source": []
  }
 ],
 "metadata": {
  "kernelspec": {
   "display_name": "Python 3",
   "language": "python",
   "name": "python3"
  },
  "language_info": {
   "codemirror_mode": {
    "name": "ipython",
    "version": 3
   },
   "file_extension": ".py",
   "mimetype": "text/x-python",
   "name": "python",
   "nbconvert_exporter": "python",
   "pygments_lexer": "ipython3",
   "version": "3.6.5"
  }
 },
 "nbformat": 4,
 "nbformat_minor": 2
}
