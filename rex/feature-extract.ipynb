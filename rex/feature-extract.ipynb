{
 "cells": [
  {
   "cell_type": "code",
   "execution_count": null,
   "metadata": {},
   "outputs": [],
   "source": [
    "import os\n",
    "import numpy as np\n",
    "import pygrib"
   ]
  },
  {
   "cell_type": "code",
   "execution_count": null,
   "metadata": {},
   "outputs": [],
   "source": [
    "# let's view the list of features\n",
    "grbs = pygrib.open(\"/mnt/data-weather/moddata/modgrb/namanl_218_20170101_0000_000.grb\")\n",
    "for grb in grbs:\n",
    "    print(grb)\n",
    "grb = grbs.select(name=\"Relative humidity\")[0]\n",
    "data = grb.values\n",
    "print(value.shape)\n",
    "lats, lons = grb.latlons()\n",
    "print(lats.shape, lons.shape)\n",
    "data, lats, lons = grb.data(lat1 = 31, lat2 = 41, lon1 = -102, lon2 = -82)\n",
    "print(data.shape, lats.shape, lons.shape)\n",
    "print(data.max())\n",
    "grbs.close()"
   ]
  },
  {
   "cell_type": "code",
   "execution_count": null,
   "metadata": {},
   "outputs": [],
   "source": [
    "# let's view the list of features\n",
    "grbs = pygrib.open(\"/mnt/data-weather/moddata/modgrb/namanl_218_20171201_0000_000.grb2\")\n",
    "for grb in grbs:\n",
    "    print(grb)\n",
    "grbs.close()"
   ]
  },
  {
   "cell_type": "code",
   "execution_count": null,
   "metadata": {},
   "outputs": [],
   "source": [
    "# Code used to store the lattitude and longitude into a latslons.npy file for files before april 8th\n",
    "grbs = pygrib.open(\"/mnt/data-weather/moddata/modgrb/namanl_218_20170101_0000_001.grb\")\n",
    "grb = grbs.select(name = \"Temperature\")[0] # selecting an arbitruary feature\n",
    "data, lats, lons = grb.data(lat1 = 31, lat2 = 41, lon1 = -102, lon2 = -82) # cropping to domain\n",
    "print(\"Data Shape: \", data.shape, \n",
    "      \"Lat Shape: \", lats.shape, \n",
    "      \"Lons Shape: \", lons.shape, \n",
    "      \"Lats Min: \", lats.min(), \n",
    "      \"Lons Min: \", lons.min(), \n",
    "      \"Lats Max: \", lats.max(), \n",
    "      \"Lons Max: \", lons.max())\n",
    "#latslons = np.stack((lats, lons)) # latslons[0] = lats, latslons[1] = lons\n",
    "#np.save(\"/mnt/data-weather/moddata/modnpy/latslons\", latslons) # saving as .npy\n",
    "grbs.close() # freeing up memory"
   ]
  },
  {
   "cell_type": "code",
   "execution_count": null,
   "metadata": {},
   "outputs": [],
   "source": [
    "# Code used to store the lattitude and longitude into a latslons.npy file for files after april 8th\n",
    "grbs = pygrib.open(\"/mnt/data-weather/moddata/modgrb/namanl_218_20171201_0000_000.grb2\")\n",
    "grb = grbs.select(name = \"Temperature\")[0] # selecting an arbitruary feature\n",
    "data, lats, lons = grb.data(lat1 = 31, lat2 = 41, lon1 = -102, lon2 = -82) # cropping to domain\n",
    "print(\"Data Shape: \", data.shape, \n",
    "      \"Lat Shape: \", lats.shape, \n",
    "      \"Lons Shape: \", lons.shape, \n",
    "      \"Lats Min: \", lats.min(), \n",
    "      \"Lons Min: \", lons.min(), \n",
    "      \"Lats Max: \", lats.max(), \n",
    "      \"Lons Max: \", lons.max())\n",
    "#latslons = np.stack((lats, lons)) # latslons[0] = lats, latslons[1] = lons\n",
    "#np.save(\"/mnt/data-weather/moddata/modnpy/latslons\", latslons) # saving as .npy\n",
    "grbs.close() # freeing up memory"
   ]
  },
  {
   "cell_type": "code",
   "execution_count": null,
   "metadata": {},
   "outputs": [],
   "source": [
    "# Code used to get the stored lattitude and longitude in latslons.npy\n",
    "print(np.load(\"/mnt/data-weather/moddata/modnpy/temperature/namanl_218_20170101_0000_002.npy\").shape)\n",
    "# lats is first row, lons is second row"
   ]
  },
  {
   "cell_type": "code",
   "execution_count": null,
   "metadata": {},
   "outputs": [],
   "source": [
    "# Code used to choose, extract, crop, and save the data into a \".npy\" file\n",
    "path_to_directory = \"/mnt/data-weather/moddata/modgrb/\"\n",
    "path_to_save = \"/mnt/data-weather/moddata/modnpy/convective-precipitation/\"\n",
    "feature = \"Visibility\"\n",
    "directory = os.fsencode(path_to_directory)\n",
    "\n",
    "for file in os.listdir(directory):\n",
    "    filename = os.fsdecode(file) # Gets the filename of every file in \"path_to_directory\"\n",
    "    grbs = pygrib.open(path_to_directory + filename) # Connects the path to the .grb file\n",
    "    grb = grbs.select(name = feature)[0] # Gets the desired feature\n",
    "    data, lats, lons = grb.data(lat1 = 31, lat2 = 41, lon1 = -102, lon2 = -82) # Crops the extracted data\n",
    "    grbs.close() # freeing up memory\n",
    "    rex = np.vstack((data, lats))\n",
    "    rex = np.vstack((rex, lons))\n",
    "    #print(filename[0:28])\n",
    "    #print(\"Data: \", data.shape, data.min(), data.max()) \n",
    "    #print(\"Lats: \", lats.shape, lats.min(), lats.max())\n",
    "    #print(\"Lons: \", lons.shape, lats.min(), lats.max())\n",
    "    #print(\"Rex: \", rex)\n",
    "    np.save(path_to_save + filename[0:28], rex) # saving as .npy\n",
    "    \n",
    "print(\"SUCCESS!\")"
   ]
  },
  {
   "cell_type": "code",
   "execution_count": null,
   "metadata": {},
   "outputs": [],
   "source": [
    "# Code used to choose, extract, crop, and save the data into a \".npy\" file\n",
    "path_to_directory = \"/mnt/data-weather/moddata/modgrb/other/\"\n",
    "path_to_save = \"/mnt/data-weather/moddata/modnpy/relative-humidity/\"\n",
    "path_to_save2 = \"/mnt/data-weather/moddata/modnpy/total-precipitation/\"\n",
    "path_to_save3 = \"/mnt/data-weather/moddata/modnpy/soil-temperature/\"\n",
    "feature = \"Relative humidity\"\n",
    "feature2 = \"Total Precipitation\"\n",
    "feature3 = \"Soil Temperature\"\n",
    "directory = os.fsencode(path_to_directory)\n",
    "\n",
    "for file in os.listdir(directory):\n",
    "    filename = os.fsdecode(file) # Gets the filename of every file in \"path_to_directory\"\n",
    "    grbs = pygrib.open(path_to_directory + filename) # Connects the path to the .grb file\n",
    "    #grb = grbs.select(name = feature)[0] # Gets the desired feature\n",
    "    #data, lats, lons = grb.data(lat1 = 31, lat2 = 41, lon1 = -102, lon2 = -82) # Crops the extracted data\n",
    "    #rex = np.vstack((data, lats))\n",
    "    #rex = np.vstack((rex, lons))\n",
    "    #np.save(path_to_save + filename[0:28], rex) # saving as .npy\n",
    "    #grb = grbs.select(name = feature2)[0] # Gets the desired feature\n",
    "    #data, lats, lons = grb.data(lat1 = 31, lat2 = 41, lon1 = -102, lon2 = -82) # Crops the extracted data\n",
    "    #rex2 = np.vstack((data, lats))\n",
    "    #rex2 = np.vstack((rex2, lons))\n",
    "    #np.save(path_to_save2 + filename[0:28], rex2) # saving as .npy\n",
    "    print(filename)\n",
    "    grb = grbs.select(name = feature3)[0] # Gets the desired feature\n",
    "    data, lats, lons = grb.data(lat1 = 31, lat2 = 41, lon1 = -102, lon2 = -82) # Crops the extracted data\n",
    "    rex3 = np.vstack((data, lats))\n",
    "    rex3 = np.vstack((rex3, lons))\n",
    "    np.save(path_to_save3 + filename[0:28], rex3) # saving as .npy\n",
    "    grbs.close() # freeing up memory\n",
    "    #print(filename[0:28])\n",
    "    #print(\"Data: \", data.shape, data.min(), data.max()) \n",
    "    #print(\"Lats: \", lats.shape, lats.min(), lats.max())\n",
    "    #print(\"Lons: \", lons.shape, lats.min(), lats.max())\n",
    "    #print(\"Rex: \", rex)\n",
    "    \n",
    "print(\"SUCCESS!\")"
   ]
  },
  {
   "cell_type": "code",
   "execution_count": null,
   "metadata": {},
   "outputs": [],
   "source": []
  },
  {
   "cell_type": "code",
   "execution_count": null,
   "metadata": {},
   "outputs": [],
   "source": [
    "# Code used to choose, extract, crop, and save the data into a '.npy' file\n",
    "path_to_directory = \"/mnt/data-weather/moddata/\"\n",
    "path_to_save = \"/mnt/data-weather/feature/total-cloud-cover/\"\n",
    "feature = \"Total Cloud Cover\"\n",
    "index = 0\n",
    "directory = os.fsencode(path_to_directory)\n",
    "\n",
    "for file in os.listdir(directory):\n",
    "    filename = os.fsdecode(file) # Gets the filename of every file in \"path_to_directory\"\n",
    "    grbs = pygrib.open(path_to_directory + filename) # Connects the path to the .grb2 file\n",
    "    grb = grbs.select(name = feature)[index] # Gets the desired feature\n",
    "    data, lats, lons = grb.data(lat1 = 31, lat2 = 41, lon1 = -102, lon2 = -82) # Crops the extracted data\n",
    "    #print(data.shape, lats.shape, lons.shape, lats.min(), lons.min(), lats.max(), lons.max())\n",
    "    np.save(path_to_save + filename[0:-5], data) # getting rid of the .grb2 extension for .npy\n",
    "    #print(feature, \"of\", path_to_save + filename, \"saved successfully.\")\n",
    "    grbs.close()"
   ]
  },
  {
   "cell_type": "code",
   "execution_count": null,
   "metadata": {},
   "outputs": [],
   "source": [
    "# Code used to choose, extract, crop, and save the data into a '.npy' file\n",
    "path_to_directory = \"/mnt/data-weather/moddata/\"\n",
    "path_to_save = \"/mnt/data-weather/feature/relative-humidity-2m/\"\n",
    "feature = \"2 metre relative humidity\"\n",
    "index = 0\n",
    "directory = os.fsencode(path_to_directory)\n",
    "\n",
    "for file in os.listdir(directory):\n",
    "    filename = os.fsdecode(file) # Gets the filename of every file in \"path_to_directory\"\n",
    "    grbs = pygrib.open(path_to_directory + filename) # Connects the path to the .grb2 file\n",
    "    grb = grbs.select(name = feature)[index] # Gets the desired feature\n",
    "    data, lats, lons = grb.data(lat1 = 31, lat2 = 41, lon1 = -102, lon2 = -82) # Crops the extracted data\n",
    "    #print(data.shape, lats.shape, lons.shape, lats.min(), lons.min(), lats.max(), lons.max())\n",
    "    np.save(path_to_save + filename[0:-5], data) # getting rid of the .grb2 extension for .npy\n",
    "    #print(feature, \"of\", path_to_save + filename, \"saved successfully.\")\n",
    "    grbs.close()"
   ]
  },
  {
   "cell_type": "code",
   "execution_count": null,
   "metadata": {},
   "outputs": [],
   "source": [
    "grbs = pygrib.open(\"/mnt/data-weather/moddata/nam_218_20170101_1800_000.grb2\")\n",
    "for grb in grbs:\n",
    "    print(grb)\n",
    "grbs.close()"
   ]
  },
  {
   "cell_type": "code",
   "execution_count": null,
   "metadata": {},
   "outputs": [],
   "source": [
    "grbs = pygrib.open(\"/mnt/data-weather/moddata/nam_218_20170101_1800_000.grb2\")\n",
    "grb = grbs.select(name=\"2 metre relative humidity\")[0]\n",
    "print(grb)\n",
    "data, lats, lons = grb.data(lat1 = 31, lat2 = 41, lon1 = -102, lon2 = -82)\n",
    "print(data.shape)\n",
    "print(type(data.max()))"
   ]
  },
  {
   "cell_type": "code",
   "execution_count": null,
   "metadata": {},
   "outputs": [],
   "source": []
  }
 ],
 "metadata": {
  "kernelspec": {
   "display_name": "Python 3",
   "language": "python",
   "name": "python3"
  },
  "language_info": {
   "codemirror_mode": {
    "name": "ipython",
    "version": 3
   },
   "file_extension": ".py",
   "mimetype": "text/x-python",
   "name": "python",
   "nbconvert_exporter": "python",
   "pygments_lexer": "ipython3",
   "version": "3.6.5"
  }
 },
 "nbformat": 4,
 "nbformat_minor": 2
}
