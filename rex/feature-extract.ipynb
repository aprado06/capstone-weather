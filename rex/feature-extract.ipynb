{
 "cells": [
  {
   "cell_type": "code",
   "execution_count": 1,
   "metadata": {},
   "outputs": [],
   "source": [
    "import os\n",
    "import numpy as np\n",
    "import pygrib"
   ]
  },
  {
   "cell_type": "code",
   "execution_count": 2,
   "metadata": {},
   "outputs": [],
   "source": [
    "path_to_directory = \"/mnt/data-weather/moddata\"\n",
    "path_to_save = \"/mnt/data-weather/feature/total-precipitation\"\n",
    "feature = \"Total Precipitation\"\n",
    "index = 0\n",
    "directory = os.fsencode(path_to_directory)\n",
    "\n",
    "for file in os.listdir(directory):\n",
    "    filename = os.fsdecode(file)\n",
    "    #print(filename) #prints the filename of every file in \"path_to_directory\"\n",
    "    #print(path_to_directory + '/' + filename) #proper path for pygrib\n",
    "    grbs = pygrib.open(path_to_directory + '/' + filename)\n",
    "    grb = grbs.select(name=feature)[index].values\n",
    "    np.save(path_to_save + '/' + filename[0:-5], grb)\n",
    "    grbs.close()"
   ]
  },
  {
   "cell_type": "code",
   "execution_count": null,
   "metadata": {},
   "outputs": [],
   "source": [
    "grbs = pygrib.open(filepath)\n",
    "for grb in grbs:\n",
    "    print(grb)\n",
    "grbs.close()"
   ]
  }
 ],
 "metadata": {
  "kernelspec": {
   "display_name": "Python 3",
   "language": "python",
   "name": "python3"
  },
  "language_info": {
   "codemirror_mode": {
    "name": "ipython",
    "version": 3
   },
   "file_extension": ".py",
   "mimetype": "text/x-python",
   "name": "python",
   "nbconvert_exporter": "python",
   "pygments_lexer": "ipython3",
   "version": "3.6.5"
  }
 },
 "nbformat": 4,
 "nbformat_minor": 2
}
