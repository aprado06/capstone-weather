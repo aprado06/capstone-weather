{
 "cells": [
  {
   "cell_type": "code",
   "execution_count": null,
   "metadata": {},
   "outputs": [],
   "source": [
    "import os\n",
    "import numpy as np\n",
    "from PIL import Image\n",
    "import pygrib"
   ]
  },
  {
   "cell_type": "code",
   "execution_count": null,
   "metadata": {},
   "outputs": [],
   "source": [
    "path = \"/mnt/data-weather/data_mod/\"\n",
    "#path_save_0 = \"/mnt/data-weather/data_mod_mrh_png_256x256/\"\n",
    "path_save_1 = \"/mnt/data-weather/data_mod_msh_npy_256x256/\"\n",
    "directory = os.fsencode(path)\n",
    "feature = \"Specific humidity\"\n",
    "size = (256,256)\n",
    "for file in os.listdir(directory):\n",
    "    filename = os.fsdecode(file)\n",
    "    print(filename)\n",
    "    #newname_0 = filename[0:12]+filename[13:15]+\".png\"\n",
    "    newname_1 = filename[0:12]+filename[13:15]+\".npy\"\n",
    "    grbs = pygrib.open(path+filename)\n",
    "    grb = grbs.select(name=feature)[0]\n",
    "    grbs.close()\n",
    "    data = grb.values\n",
    "    data = data[130:210,300:440]\n",
    "    #data = np.flipud(data)\n",
    "    im = Image.fromarray(data)\n",
    "    im = im.resize(size,Image.ANTIALIAS)\n",
    "    #im.save(path_save_0+newname_0)\n",
    "    #data = np.flipud(data)\n",
    "    data = np.array(im)\n",
    "    np.save(path_save_1+newname_1, data)"
   ]
  },
  {
   "cell_type": "code",
   "execution_count": null,
   "metadata": {},
   "outputs": [],
   "source": [
    "path = \"/mnt/data-weather/data_mod/\"\n",
    "#path_save_0 = \"/mnt/data-weather/data_mod_mrh_png_256x256/\"\n",
    "path_save_1 = \"/mnt/data-weather/data_mod_mrh_npy_256x256/\"\n",
    "path_save_2 = \"/mnt/data-weather/data_mod_tem_npy_256x256/\"\n",
    "path_save_3 = \"/mnt/data-weather/data_mod_vis_npy_256x256/\"\n",
    "directory = os.fsencode(path)\n",
    "size = (256,256)\n",
    "for file in os.listdir(directory):\n",
    "    filename = os.fsdecode(file)\n",
    "    print(filename)\n",
    "    #newname_0 = filename[0:12]+filename[13:15]+\".png\"\n",
    "    newname_1 = filename[0:12]+filename[13:15]+\".npy\"\n",
    "    grbs = pygrib.open(path+filename)\n",
    "    grb = grbs.select(name=\"Relative humidity\")[0]\n",
    "    data = grb.values\n",
    "    data = data[130:210,300:440]\n",
    "    #data = np.flipud(data)\n",
    "    im = Image.fromarray(data)\n",
    "    im = im.resize(size,Image.ANTIALIAS)\n",
    "    #im.save(path_save_0+newname_0)\n",
    "    #data = np.flipud(data)\n",
    "    data = np.array(im)\n",
    "    np.save(path_save_1+newname_1, data)\n",
    "    \n",
    "    grb = grbs.select(name=\"Temperature\")[0]\n",
    "    data = grb.values\n",
    "    data = data[130:210,300:440]\n",
    "    #data = np.flipud(data)\n",
    "    im = Image.fromarray(data)\n",
    "    im = im.resize(size,Image.ANTIALIAS)\n",
    "    #im.save(path_save_0+newname_0)\n",
    "    #data = np.flipud(data)\n",
    "    data = np.array(im)\n",
    "    np.save(path_save_2+newname_1, data)\n",
    "    \n",
    "    grb = grbs.select(name=\"Visibility\")[0]\n",
    "    data = grb.values\n",
    "    data = data[130:210,300:440]\n",
    "    #data = np.flipud(data)\n",
    "    im = Image.fromarray(data)\n",
    "    im = im.resize(size,Image.ANTIALIAS)\n",
    "    #im.save(path_save_0+newname_0)\n",
    "    #data = np.flipud(data)\n",
    "    data = np.array(im)\n",
    "    np.save(path_save_3+newname_1, data)\n",
    "    grbs.close()"
   ]
  },
  {
   "cell_type": "code",
   "execution_count": null,
   "metadata": {},
   "outputs": [],
   "source": [
    "feature = \"Temperature\"\n",
    "feature = \"Visibility\"\n",
    "feature = \"Specific humidity\""
   ]
  },
  {
   "cell_type": "code",
   "execution_count": null,
   "metadata": {},
   "outputs": [],
   "source": [
    "grbs = pygrib.open(\"/mnt/data-weather/data_mod/nam.20170101.00.grb\")\n",
    "grb = grbs.select(name=feature)[0]\n",
    "grbs.close()\n",
    "lat, lon = grb.latlons()\n",
    "data = grb.values\n",
    "print(data.shape, data.min())\n",
    "print(lat.min(), lat.max())\n",
    "print(lon.min(), lon.max())"
   ]
  },
  {
   "cell_type": "code",
   "execution_count": null,
   "metadata": {},
   "outputs": [],
   "source": [
    "import matplotlib.pyplot as plt\n",
    "%matplotlib inline\n",
    "plt.imshow(data, cmap=\"gray\", origin=\"lower\")"
   ]
  },
  {
   "cell_type": "code",
   "execution_count": null,
   "metadata": {},
   "outputs": [],
   "source": [
    "data[lat < 31] = 0\n",
    "data[lat > 41] = 0\n",
    "data[lon < -102] = 0\n",
    "data[lon > -82] = 0\n",
    "plt.imshow(data, cmap=\"gray\", origin=\"lower\")"
   ]
  },
  {
   "cell_type": "code",
   "execution_count": null,
   "metadata": {},
   "outputs": [],
   "source": [
    "data_new = data[130:210,300:440]\n",
    "plt.imshow(data_new, cmap=\"gray\", origin=\"lower\")"
   ]
  },
  {
   "cell_type": "code",
   "execution_count": 1,
   "metadata": {},
   "outputs": [],
   "source": [
    "import os\n",
    "import numpy as np\n",
    "from PIL import Image"
   ]
  },
  {
   "cell_type": "code",
   "execution_count": 5,
   "metadata": {},
   "outputs": [
    {
     "name": "stderr",
     "output_type": "stream",
     "text": [
      "C:\\Users\\Rahgnuhrok-PC\\Anaconda3\\lib\\site-packages\\ipykernel_launcher.py:7: RuntimeWarning: invalid value encountered in true_divide\n",
      "  import sys\n"
     ]
    }
   ],
   "source": [
    "path = \"D:/data-weather/data_mod_vis_npy_256x256/\"\n",
    "path_save = \"D:/data-weather/data_mod_vis_png_256x256/\"\n",
    "directory = os.fsencode(path)\n",
    "for file in os.listdir(directory):\n",
    "    filename = os.fsdecode(file)\n",
    "    data = np.load(path+filename)\n",
    "    data = (data-data.min())/(data.max()-data.min())\n",
    "    data = data*255.0\n",
    "    data = data.astype(np.uint8)\n",
    "    im = Image.fromarray(data)\n",
    "    #im = im.convert(\"L\")\n",
    "    im.save(path_save+filename[0:15]+\"png\")"
   ]
  },
  {
   "cell_type": "code",
   "execution_count": null,
   "metadata": {},
   "outputs": [],
   "source": []
  }
 ],
 "metadata": {
  "kernelspec": {
   "display_name": "Python 3",
   "language": "python",
   "name": "python3"
  },
  "language_info": {
   "codemirror_mode": {
    "name": "ipython",
    "version": 3
   },
   "file_extension": ".py",
   "mimetype": "text/x-python",
   "name": "python",
   "nbconvert_exporter": "python",
   "pygments_lexer": "ipython3",
   "version": "3.7.0"
  }
 },
 "nbformat": 4,
 "nbformat_minor": 2
}
