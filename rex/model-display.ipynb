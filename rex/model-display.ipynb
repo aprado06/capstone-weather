{
 "cells": [
  {
   "cell_type": "code",
   "execution_count": null,
   "metadata": {},
   "outputs": [],
   "source": [
    "def model_display(filegrb,feature,style=\"gray\",crop=True,index=0):\n",
    "    \"\"\"\n",
    "    filegrb: a string containing the filepath to the file that ends in .grb or .grb2\n",
    "    feature: a string containing the feature to be displayed\n",
    "    style: a string containing the cmap coloration\n",
    "    \"\"\"\n",
    "    if (crop == True):\n",
    "        import pygrib\n",
    "        import matplotlib.pyplot as plt\n",
    "        lat_bot = 31.0\n",
    "        lat_top = 41.0\n",
    "        lon_left = -102.0\n",
    "        lon_right = -82.0\n",
    "        grbs = pygrib.open(filegrb)\n",
    "        grb = grbs.select(name=feature)[index]\n",
    "        grbs.close()\n",
    "        data,lats,lons = grb.data(lat1=lat_bot,lat2=lat_top,lon1=lon_left,lon2=lon_right)\n",
    "        data = (data/(data.max()-data.min()))\n",
    "        plt.scatter(x=lons,y=lats,s=data,c=data,cmap=style,alpha=1.0)\n",
    "        plt.title(feature + \" of Domain\")\n",
    "        plt.xlabel(\"Longitude W\")\n",
    "        plt.ylabel(\"Latitude N\")\n",
    "        plt.colorbar()\n",
    "    else:\n",
    "        import pygrib\n",
    "        import matplotlib.pyplot as plt\n",
    "        grbs = pygrib.open(filegrb)\n",
    "        grb = grbs.select(name=feature)[index]\n",
    "        grbs.close()\n",
    "        data = grb.values\n",
    "        data = (data/(data.max()-data.min()))\n",
    "        plt.imshow(data,cmap=style,interpolation='bicubic',origin=\"lower\")\n",
    "        plt.title(feature + \" of NA\")\n",
    "        plt.xlabel(\"Longitude W\")\n",
    "        plt.ylabel(\"Latitude N\")\n",
    "        plt.colorbar()"
   ]
  },
  {
   "cell_type": "code",
   "execution_count": null,
   "metadata": {},
   "outputs": [],
   "source": [
    "filegrb = \"/mnt/data-weather/moddata/modgrb/namanl_218_20171228_1200_000.grb2\"\n",
    "feature = \"Temperature\""
   ]
  },
  {
   "cell_type": "code",
   "execution_count": null,
   "metadata": {},
   "outputs": [],
   "source": [
    "model_display(filegrb,feature)"
   ]
  },
  {
   "cell_type": "code",
   "execution_count": null,
   "metadata": {},
   "outputs": [],
   "source": [
    "model_display(filegrb,feature,crop=False)"
   ]
  },
  {
   "cell_type": "code",
   "execution_count": null,
   "metadata": {},
   "outputs": [],
   "source": [
    "import pygrib\n",
    "grbs = pygrib.open(filegrb)\n",
    "for grb in grbs:\n",
    "    print(grb)\n",
    "grbs.close()"
   ]
  },
  {
   "cell_type": "code",
   "execution_count": null,
   "metadata": {},
   "outputs": [],
   "source": [
    "model_display(filegrb,\"Visibility\",crop=False,index=1)"
   ]
  },
  {
   "cell_type": "code",
   "execution_count": null,
   "metadata": {},
   "outputs": [],
   "source": [
    "model_display(filegrb,\"Visibility\",index=1)"
   ]
  },
  {
   "cell_type": "code",
   "execution_count": null,
   "metadata": {},
   "outputs": [],
   "source": []
  }
 ],
 "metadata": {
  "kernelspec": {
   "display_name": "Python 3",
   "language": "python",
   "name": "python3"
  },
  "language_info": {
   "codemirror_mode": {
    "name": "ipython",
    "version": 3
   },
   "file_extension": ".py",
   "mimetype": "text/x-python",
   "name": "python",
   "nbconvert_exporter": "python",
   "pygments_lexer": "ipython3",
   "version": "3.6.5"
  }
 },
 "nbformat": 4,
 "nbformat_minor": 2
}
