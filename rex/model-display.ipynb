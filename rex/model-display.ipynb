{
 "cells": [
  {
   "cell_type": "code",
   "execution_count": null,
   "metadata": {},
   "outputs": [],
   "source": [
    "def mod_display(filegrb,feature,style=\"gray\",index=0,crop=True,scale=True):\n",
    "    \"\"\"\n",
    "    filegrb: a string containing the filepath to the file that ends in .grb or .grb2\n",
    "    feature: a string containing the feature to be displayed\n",
    "    style: a string containing the cmap coloration\n",
    "    index: an integer used to denote several versions of the feature variable\n",
    "    crop: a boolean variable used to show the cropped image\n",
    "    scale: a boolean variable used to scale the data down between 0 and 1\n",
    "    \"\"\"\n",
    "    if (crop == True):\n",
    "        import pygrib\n",
    "        import matplotlib.pyplot as plt\n",
    "        lat_bot = 31.0\n",
    "        lat_top = 41.0\n",
    "        lon_left = -102.0\n",
    "        lon_right = -82.0\n",
    "        grbs = pygrib.open(filegrb)\n",
    "        grb = grbs.select(name=feature)[index]\n",
    "        grbs.close()\n",
    "        data,lats,lons = grb.data(lat1=lat_bot,lat2=lat_top,lon1=lon_left,lon2=lon_right)\n",
    "        if scale==True:\n",
    "            data = (data/data.max())*10\n",
    "        plt.scatter(x=lons,y=lats,s=data,c=data,marker=\",\",cmap=style,alpha=1.0)\n",
    "        plt.title(feature + \" of Domain\")\n",
    "        plt.xlabel(\"Longitude W\")\n",
    "        plt.ylabel(\"Latitude N\")\n",
    "        plt.colorbar()\n",
    "    else:\n",
    "        import pygrib\n",
    "        import matplotlib.pyplot as plt\n",
    "        grbs = pygrib.open(filegrb)\n",
    "        grb = grbs.select(name=feature)[index]\n",
    "        grbs.close()\n",
    "        data = grb.values\n",
    "        if scale==True:\n",
    "            data = data/data.max()\n",
    "        plt.imshow(data,cmap=style,origin=\"lower\")\n",
    "        plt.title(feature + \" of NA\")\n",
    "        plt.xlabel(\"Longitude W\")\n",
    "        plt.ylabel(\"Latitude N\")\n",
    "        plt.colorbar()"
   ]
  },
  {
   "cell_type": "code",
   "execution_count": null,
   "metadata": {},
   "outputs": [],
   "source": [
    "filegrb = \"/mnt/data-weather/moddata/modgrb/namanl_218_20171228_1200_000.grb2\"\n",
    "feature = \"Temperature\""
   ]
  },
  {
   "cell_type": "code",
   "execution_count": null,
   "metadata": {},
   "outputs": [],
   "source": [
    "mod_display(filegrb,feature)"
   ]
  },
  {
   "cell_type": "code",
   "execution_count": null,
   "metadata": {},
   "outputs": [],
   "source": [
    "mod_display(filegrb,feature,crop=False)"
   ]
  },
  {
   "cell_type": "code",
   "execution_count": null,
   "metadata": {},
   "outputs": [],
   "source": [
    "import pygrib\n",
    "grbs = pygrib.open(filegrb)\n",
    "for grb in grbs:\n",
    "    print(grb)\n",
    "grbs.close()"
   ]
  },
  {
   "cell_type": "code",
   "execution_count": null,
   "metadata": {},
   "outputs": [],
   "source": [
    "mod_display(filegrb,\"Geopotential Height\",crop=False)"
   ]
  },
  {
   "cell_type": "code",
   "execution_count": null,
   "metadata": {},
   "outputs": [],
   "source": [
    "mod_display(filegrb,\"Geopotential Height\")"
   ]
  },
  {
   "cell_type": "code",
   "execution_count": null,
   "metadata": {},
   "outputs": [],
   "source": []
  }
 ],
 "metadata": {
  "kernelspec": {
   "display_name": "Python 3",
   "language": "python",
   "name": "python3"
  },
  "language_info": {
   "codemirror_mode": {
    "name": "ipython",
    "version": 3
   },
   "file_extension": ".py",
   "mimetype": "text/x-python",
   "name": "python",
   "nbconvert_exporter": "python",
   "pygments_lexer": "ipython3",
   "version": "3.6.5"
  }
 },
 "nbformat": 4,
 "nbformat_minor": 2
}
