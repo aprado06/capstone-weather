{
 "cells": [
  {
   "cell_type": "code",
   "execution_count": null,
   "metadata": {},
   "outputs": [],
   "source": [
    "def sat_display(filenc,feature,style=\"gray\",index=0,crop=True,scale=True,domain=True,colorbar=True,savefig=False):\n",
    "    \"\"\"\n",
    "    filegrb: a string containing the filepath to the file that ends in .grb or .grb2\n",
    "    feature: a string containing the feature to be displayed\n",
    "    style: a string containing the cmap coloration\n",
    "    index: an integer used to denote several versions of the feature variable\n",
    "    crop: a boolean variable used to show the cropped image\n",
    "    scale: a boolean variable used to scale the data down between 0 and 1\n",
    "    \"\"\"\n",
    "    if (crop == True):\n",
    "        from netCDF4 import Dataset\n",
    "        import matplotlib.pyplot as plt\n",
    "        import numpy as np\n",
    "        nc_fid = Dataset(filenc, 'r') # \"opening\" the satellite data file \n",
    "        #print(nc_fid) # this should print out all the information of the file, similar to a pandas dataframe\n",
    "        data = nc_fid.variables['data'][:][0] # extracting the data we want from the file\n",
    "        lat = nc_fid.variables['lat'][:]\n",
    "        lon = nc_fid.variables['lon'][:]\n",
    "        nc_fid.close() # closing the file after using it\n",
    "        lat_bot = 31.0\n",
    "        lat_top = 41.0\n",
    "        lon_left = -102.0\n",
    "        lon_right = -82.0\n",
    "        data[lat < lat_bot] = 0\n",
    "        data[lat > lat_top] = 0\n",
    "        data[lon < lon_left] = 0\n",
    "        data[lon > lon_right] = 0\n",
    "        lat = lat[data != 0]\n",
    "        lon = lon[data != 0]\n",
    "        data = data[data != 0]\n",
    "        print(data.min())\n",
    "        if scale==True:\n",
    "            data = (data/data.max())\n",
    "        plt.scatter(x=lon,y=lat,s=data,c=data,marker=',',cmap=style)\n",
    "        plt.title(feature + \" of Domain\")\n",
    "        plt.xlabel(\"Longitude W\")\n",
    "        plt.ylabel(\"Latitude N\")\n",
    "        if colorbar==True:\n",
    "            plt.colorbar()\n",
    "        if savefig==True:\n",
    "            plt.title(\"\")\n",
    "            plt.xlabel(\"\")\n",
    "            plt.ylabel(\"\")\n",
    "            plt.savefig(\"foo.png\",bbox_inches=\"tight\")\n",
    "    else:\n",
    "        from netCDF4 import Dataset\n",
    "        import matplotlib.pyplot as plt\n",
    "        import numpy as np\n",
    "        nc_fid = Dataset(filenc, 'r') # \"opening\" the satellite data file \n",
    "        #print(nc_fid) # this should print out all the information of the file, similar to a pandas dataframe\n",
    "        data = nc_fid.variables['data'][:][0] # extracting the data we want from the file\n",
    "        lat = nc_fid.variables['lat'][:]\n",
    "        lon = nc_fid.variables['lon'][:]\n",
    "        nc_fid.close()\n",
    "        if scale==True:\n",
    "            data = (data/data.max())\n",
    "        if domain==True:\n",
    "            data[lat < 31.0] = 0\n",
    "            data[lat > 41.0] = 0\n",
    "            data[lon < -102.0] = 0\n",
    "            data[lon > -82.0] = 0\n",
    "        plt.imshow(data,cmap=style)\n",
    "        plt.title(feature + \" of NA\")\n",
    "        plt.xlabel(\"Longitude W\")\n",
    "        plt.ylabel(\"Latitude N\")\n",
    "        if colorbar==True:\n",
    "            plt.colorbar()"
   ]
  },
  {
   "cell_type": "code",
   "execution_count": null,
   "metadata": {},
   "outputs": [],
   "source": [
    "def mod_display(filegrb,feature,style=\"gray\",index=0,crop=True,scale=True,domain=True,colorbar=True):\n",
    "    \"\"\"\n",
    "    filegrb: a string containing the filepath to the file that ends in .grb or .grb2\n",
    "    feature: a string containing the feature to be displayed\n",
    "    style: a string containing the cmap coloration\n",
    "    index: an integer used to denote several versions of the feature variable\n",
    "    crop: a boolean variable used to show the cropped image\n",
    "    scale: a boolean variable used to scale the data down between 0 and 1\n",
    "    \"\"\"\n",
    "    if (crop == True):\n",
    "        import pygrib\n",
    "        import matplotlib.pyplot as plt\n",
    "        import numpy as np\n",
    "        lat_bot = 31.0\n",
    "        lat_top = 41.0\n",
    "        lon_left = -102.0\n",
    "        lon_right = -82.0\n",
    "        grbs = pygrib.open(filegrb)\n",
    "        grb = grbs.select(name=feature)[index]\n",
    "        grbs.close()\n",
    "        data,lats,lons = grb.data(lat1=lat_bot,lat2=lat_top,lon1=lon_left,lon2=lon_right)\n",
    "        if scale==True:\n",
    "            data = data+abs(data.min())\n",
    "            data = (data/data.max()+1)*10\n",
    "        print(data.min())\n",
    "        plt.scatter(x=lons,y=lats,s=data,c=data,marker=\",\",cmap=style)\n",
    "        plt.title(feature + \" of Domain\")\n",
    "        plt.xlabel(\"Longitude W\")\n",
    "        plt.ylabel(\"Latitude N\")\n",
    "        if colorbar==True:\n",
    "            plt.colorbar()\n",
    "    else:\n",
    "        import pygrib\n",
    "        import matplotlib.pyplot as plt\n",
    "        import numpy as np\n",
    "        grbs = pygrib.open(filegrb)\n",
    "        grb = grbs.select(name=feature)[index]\n",
    "        grbs.close()\n",
    "        data = grb.values\n",
    "        if scale==True:\n",
    "            data = (data/data.max())\n",
    "        if domain==True:\n",
    "            lats,lons = grb.latlons()\n",
    "            data[lats < 31.0] = np.nan\n",
    "            data[lats > 41.0] = np.nan\n",
    "            data[lons < -102.0] = np.nan\n",
    "            data[lons > -82.0] = np.nan\n",
    "        plt.imshow(data,cmap=style,origin=\"lower\")\n",
    "        plt.title(feature + \" of NA\")\n",
    "        plt.xlabel(\"Longitude W\")\n",
    "        plt.ylabel(\"Latitude N\")\n",
    "        if colorbar==True:\n",
    "            plt.colorbar()"
   ]
  },
  {
   "cell_type": "code",
   "execution_count": null,
   "metadata": {},
   "outputs": [],
   "source": [
    "filegrb = \"/mnt/data-weather/moddata/modgrb/namanl_218_20170102_1200_002.grb\"\n",
    "filenc = \"/mnt/data-weather/satdata/goes13.2017.002.141518.BAND_02.nc\"\n",
    "feature = \"Temperature\""
   ]
  },
  {
   "cell_type": "code",
   "execution_count": null,
   "metadata": {},
   "outputs": [],
   "source": [
    "sat_display(filenc,feature=\"clouds\",crop=False,scale=False,style='Greys',domain=False)"
   ]
  },
  {
   "cell_type": "code",
   "execution_count": null,
   "metadata": {},
   "outputs": [],
   "source": [
    "sat_display(filenc,\"clouds\",crop=False,scale=False,style='Greys',domain=True)"
   ]
  },
  {
   "cell_type": "code",
   "execution_count": null,
   "metadata": {},
   "outputs": [],
   "source": [
    "sat_display(filenc,\"clouds\",crop=True,scale=True,style='Greys',colorbar=True,savefig=False)"
   ]
  },
  {
   "cell_type": "code",
   "execution_count": null,
   "metadata": {},
   "outputs": [],
   "source": [
    "mod_display(filegrb,feature,crop=False)"
   ]
  },
  {
   "cell_type": "code",
   "execution_count": null,
   "metadata": {},
   "outputs": [],
   "source": [
    "import pygrib\n",
    "grbs = pygrib.open(filegrb)\n",
    "for grb in grbs:\n",
    "    print(grb)\n",
    "grb=grbs.select(name=\"Temperature\")[0]\n",
    "print(grb.values.max(),grb.values.min())\n",
    "grb=grbs.select(name=\"Soil Temperature\")[0]\n",
    "print(grb.values.max(),grb.values.min())\n",
    "grb=grbs.select(name=\"Total Precipitation\")[0]\n",
    "print(grb.values.max(),grb.values.min())\n",
    "grb=grbs.select(name=\"Convective precipitation (water)\")[0]\n",
    "print(grb.values.max(),grb.values.min())\n",
    "grb=grbs.select(name=\"Specific humidity\")[0]\n",
    "print(grb.values.max(),grb.values.min())\n",
    "grb=grbs.select(name=\"Relative humidity\")[0]\n",
    "print(grb.values.max(),grb.values.min())\n",
    "grb=grbs.select(name=\"Visibility\")[0]\n",
    "print(grb.values.max(),grb.values.min())\n",
    "grb=grbs.select(name=\"Visibility\")[1]\n",
    "print(grb.values.max(),grb.values.min())\n",
    "\n",
    "\n",
    "grbs.close()"
   ]
  },
  {
   "cell_type": "code",
   "execution_count": null,
   "metadata": {},
   "outputs": [],
   "source": [
    "mod_display(filegrb,\"Soil Temperature\",crop=False,domain=False,colorbar=True,scale=False)"
   ]
  },
  {
   "cell_type": "code",
   "execution_count": null,
   "metadata": {},
   "outputs": [],
   "source": [
    "mod_display(filegrb,\"Soil Temperature\",crop=False,domain=True,colorbar=True,scale=False)"
   ]
  },
  {
   "cell_type": "code",
   "execution_count": null,
   "metadata": {},
   "outputs": [],
   "source": [
    "mod_display(filegrb,\"Soil Temperature\",crop=True,colorbar=True,scale=False,style='gray')"
   ]
  },
  {
   "cell_type": "code",
   "execution_count": null,
   "metadata": {},
   "outputs": [],
   "source": [
    "mod_display(filegrb,\"Relative humidity\",crop=False,domain=False,colorbar=True,scale=False,index=0,style='gray')"
   ]
  },
  {
   "cell_type": "code",
   "execution_count": null,
   "metadata": {},
   "outputs": [],
   "source": [
    "mod_display(filegrb,\"Relative humidity\",crop=False,domain=True,colorbar=True,scale=False,style='gray')"
   ]
  },
  {
   "cell_type": "code",
   "execution_count": null,
   "metadata": {},
   "outputs": [],
   "source": [
    "mod_display(filegrb,\"Relative humidity\",crop=True,colorbar=True,scale=False,style='gray')"
   ]
  },
  {
   "cell_type": "code",
   "execution_count": null,
   "metadata": {},
   "outputs": [],
   "source": [
    "mod_display(filegrb,\"Geopotential Height\")"
   ]
  },
  {
   "cell_type": "code",
   "execution_count": null,
   "metadata": {},
   "outputs": [],
   "source": []
  }
 ],
 "metadata": {
  "kernelspec": {
   "display_name": "Python 3",
   "language": "python",
   "name": "python3"
  },
  "language_info": {
   "codemirror_mode": {
    "name": "ipython",
    "version": 3
   },
   "file_extension": ".py",
   "mimetype": "text/x-python",
   "name": "python",
   "nbconvert_exporter": "python",
   "pygments_lexer": "ipython3",
   "version": "3.6.6"
  }
 },
 "nbformat": 4,
 "nbformat_minor": 2
}
