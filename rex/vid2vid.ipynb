{
 "cells": [
  {
   "cell_type": "code",
   "execution_count": null,
   "metadata": {},
   "outputs": [],
   "source": [
    "import os\n",
    "from shutil import copy2\n",
    "from PIL import Image"
   ]
  },
  {
   "cell_type": "code",
   "execution_count": null,
   "metadata": {},
   "outputs": [],
   "source": [
    "path = \"D:/data-weather/rad_sat/try_2/rad_256/\"\n",
    "directory = os.fsencode(path)\n",
    "for file in os.listdir(directory):\n",
    "    filename = os.fsdecode(file)\n",
    "    newname = filename[0:12]+filename[13:15]+\".png\"\n",
    "    print(newname)\n",
    "    copy2(\"D:/data-weather/data_rad_png_256x256/\"+newname,\"D:/data-weather/yuan/try_2/rad_png_256x256/\"+newname)"
   ]
  },
  {
   "cell_type": "code",
   "execution_count": null,
   "metadata": {},
   "outputs": [],
   "source": [
    "path = \"D:/data-weather/rad_sat/try_2/sa2_256/\"\n",
    "directory = os.fsencode(path)\n",
    "for file in os.listdir(directory):\n",
    "    filename = os.fsdecode(file)\n",
    "    newname = \"sat\"+filename[3:12]+filename[13:15]+\".png\"\n",
    "    print(newname)\n",
    "    copy2(\"D:/data-weather/data_sat_2_png_256x256/\"+newname,\"D:/data-weather/yuan/try_2/sa2_png_256x256/\"+newname)"
   ]
  },
  {
   "cell_type": "code",
   "execution_count": null,
   "metadata": {},
   "outputs": [],
   "source": [
    "path = \"D:/data-weather/yuan/try_2/rad_png_256x256/\"\n",
    "path_save = \"D:/data-weather/yuan/try_2/rad_png_2080x1040/\"\n",
    "directory = os.fsencode(path)\n",
    "size = (2080,1040)\n",
    "for file in os.listdir(directory):\n",
    "    filename = os.fsdecode(file)\n",
    "    im = Image.open(path+filename)\n",
    "    im = im.resize(size,Image.ANTIALIAS)\n",
    "    im.save(path_save+filename)"
   ]
  },
  {
   "cell_type": "code",
   "execution_count": null,
   "metadata": {},
   "outputs": [],
   "source": [
    "path = \"D:/data-weather/yuan/try_2/sa2_png_256x256/\"\n",
    "path_save = \"D:/data-weather/yuan/try_2/sa2_png_2080x1040/\"\n",
    "directory = os.fsencode(path)\n",
    "size = (2080,1040)\n",
    "for file in os.listdir(directory):\n",
    "    filename = os.fsdecode(file)\n",
    "    im = Image.open(path+filename)\n",
    "    im = im.resize(size,Image.ANTIALIAS)\n",
    "    im.save(path_save+filename)"
   ]
  },
  {
   "cell_type": "code",
   "execution_count": null,
   "metadata": {},
   "outputs": [],
   "source": [
    "path_train_A = \"D:/data-weather/yuan/try_2/train_A/\"\n",
    "\n",
    "path_rad = \"D:/data-weather/yuan/try_2/sa2_png_2080x1040/\"\n",
    "directory_rad = os.fsencode(path_rad)\n",
    "\n",
    "folder = 0\n",
    "stop = 0\n",
    "\n",
    "while (stop < 300):\n",
    "    \n",
    "    list_rad = []\n",
    "    for file in os.listdir(directory_rad):\n",
    "        filename = os.fsdecode(file)\n",
    "        list_rad.append(filename)\n",
    "    list_rad.sort()\n",
    "\n",
    "    if (folder <= 9):\n",
    "        folder = \"00\" + str(folder)\n",
    "        os.makedirs(path_train_A+folder+\"/\")\n",
    "    elif (folder <= 99):\n",
    "        folder = \"0\" + str(folder)\n",
    "        os.makedirs(path_train_A+folder+\"/\")\n",
    "    else:\n",
    "        folder = str(folder)\n",
    "        os.makedirs(path_train_A+folder+\"/\")\n",
    "    \n",
    "    for i in range(0,len(list_rad)):\n",
    "        if (int(list_rad[i][12:14]) == 23 and int(list_rad[i+1][12:14]) == 0):\n",
    "            os.rename(path_rad+list_rad[i], path_train_A+folder+\"/\"+list_rad[i])\n",
    "            print(\"midnight:\", list_rad[i])\n",
    "        elif (int(list_rad[i][12:14]) == int(list_rad[i+1][12:14]) - 1):\n",
    "            print(\"regular:\", list_rad[i])\n",
    "            os.rename(path_rad+list_rad[i], path_train_A+folder+\"/\"+list_rad[i])\n",
    "        elif (list_rad[i][12:14] == \"00\" and list_rad[i+1][12:14] == \"01\"):\n",
    "            print(\"morning:\", list_rad[i])\n",
    "            os.rename(path_rad+list_rad[i], path_train_A+folder+\"/\"+list_rad[i])\n",
    "        else:\n",
    "            print(\"done:\", list_rad[i])\n",
    "            os.rename(path_rad+list_rad[i], path_train_A+folder+\"/\"+list_rad[i])\n",
    "            break;\n",
    "\n",
    "    folder = int(folder) + 1\n",
    "    stop = stop + 1"
   ]
  }
 ],
 "metadata": {
  "kernelspec": {
   "display_name": "Python 3",
   "language": "python",
   "name": "python3"
  },
  "language_info": {
   "codemirror_mode": {
    "name": "ipython",
    "version": 3
   },
   "file_extension": ".py",
   "mimetype": "text/x-python",
   "name": "python",
   "nbconvert_exporter": "python",
   "pygments_lexer": "ipython3",
   "version": "3.7.0"
  }
 },
 "nbformat": 4,
 "nbformat_minor": 2
}
