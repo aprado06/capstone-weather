{
 "cells": [
  {
   "cell_type": "code",
   "execution_count": 8,
   "metadata": {},
   "outputs": [],
   "source": [
    "import os\n",
    "import numpy as np\n",
    "from PIL import Image\n",
    "import matplotlib.pyplot as plt"
   ]
  },
  {
   "cell_type": "code",
   "execution_count": 13,
   "metadata": {},
   "outputs": [],
   "source": [
    "path = \"D:/data-weather/data_rad/\"\n",
    "path_save = \"D:/data-weather/data_rad_png/\"\n",
    "directory = os.fsencode(path)\n",
    "dims = (126,201)\n",
    "for file in os.listdir(directory):\n",
    "    filename = os.fsdecode(file)\n",
    "    newname = filename[0:12]+filename[13:15]+\".png\"\n",
    "    data = np.fromfile(path+filename,dtype='int16',count=-1,sep='')\n",
    "    data = np.reshape(data,dims)\n",
    "    data = data/30.0\n",
    "    data[data >= 1.0] = 1.0\n",
    "    data = data*255.0\n",
    "    data = data.astype(np.uint8)\n",
    "    data = np.flipud(data)\n",
    "    im = Image.fromarray(data)\n",
    "    im.save(path_save+newname)"
   ]
  },
  {
   "cell_type": "code",
   "execution_count": 15,
   "metadata": {},
   "outputs": [
    {
     "name": "stdout",
     "output_type": "stream",
     "text": [
      "(201, 126)\n"
     ]
    }
   ],
   "source": [
    "im = Image.open(\"D:/data-weather/data_rad_png/rad.2017010100.png\")\n",
    "print(im.size)\n"
   ]
  },
  {
   "cell_type": "code",
   "execution_count": 12,
   "metadata": {},
   "outputs": [
    {
     "data": {
      "text/plain": [
       "<matplotlib.image.AxesImage at 0x24039d48630>"
      ]
     },
     "execution_count": 12,
     "metadata": {},
     "output_type": "execute_result"
    },
    {
     "data": {
      "image/png": "[encoded data removed]",
      "text/plain": [
       "<Figure size 432x288 with 1 Axes>"
      ]
     },
     "metadata": {
      "needs_background": "light"
     },
     "output_type": "display_data"
    }
   ],
   "source": [
    "    data = np.fromfile(\"D:/data-weather/data_rad/rad.20170101.00.dat\",dtype='int16',count=-1,sep='')\n",
    "    data = np.reshape(data,dims)\n",
    "    data = data/30.0\n",
    "    data[data >= 1.0] = 1.0\n",
    "    data = data*255.0\n",
    "    data = data.astype(np.uint8)\n",
    "    data = np.flipud(data)\n",
    "    plt.imshow(data)"
   ]
  },
  {
   "cell_type": "code",
   "execution_count": null,
   "metadata": {},
   "outputs": [],
   "source": [
    "for i in range(0,len(rad_rescaled)):\n",
    "    # rescaling and capping everything to 30 mm\n",
    "    rad_rescaled[i] = rad_rescaled[i]/30.0\n",
    "    # since everything was divided by 30.0\n",
    "    # any number greater than or equal to 1.0\n",
    "    # was greater than or equal to 30.0\n",
    "    # so cap it at 1.0 then multiple by 30.0 to rescale\n",
    "    rad_rescaled[i][rad_rescaled[i] >= 1.0] = 1.0\n",
    "    rad_rescaled[i] = rad_rescaled[i]*30.0\n",
    "    rad_rescaled[i] = rad_rescaled[i].astype(np.uint8)\n",
    "    print(rad_rescaled[i].max())"
   ]
  },
  {
   "cell_type": "code",
   "execution_count": null,
   "metadata": {},
   "outputs": [],
   "source": [
    "#path = \"/mnt/data-weather/final2/rad/\"\n",
    "#out = \"/mnt/data-weather/final2/radpng/\"\n",
    "\n",
    "path = \"D:/data-weather/data_rad/\"\n",
    "directory = os.fsencode(path)\n",
    "rad_names = []\n",
    "rad_data = []\n",
    "dims = (126,201)\n",
    "for file in os.listdir(directory):\n",
    "    filename = os.fsdecode(file)\n",
    "    rad_names.append(filename)\n",
    "    data = np.fromfile(path+filename,dtype='int16',count=-1,sep='')\n",
    "    data = np.reshape(data,dims)\n",
    "    data = data\n",
    "    rad_data.append(data)"
   ]
  },
  {
   "cell_type": "code",
   "execution_count": null,
   "metadata": {},
   "outputs": [],
   "source": [
    "print(len(rad_names))\n",
    "print(len(rad_data))"
   ]
  },
  {
   "cell_type": "code",
   "execution_count": null,
   "metadata": {},
   "outputs": [],
   "source": [
    "print(type(rad_data))\n",
    "print(rad_data[0].shape)\n",
    "print(rad_data[0][0][:])\n",
    "print(rad_data[0].max())"
   ]
  },
  {
   "cell_type": "code",
   "execution_count": null,
   "metadata": {},
   "outputs": [],
   "source": [
    "for item in rad_data:\n",
    "    print(item.max())"
   ]
  },
  {
   "cell_type": "code",
   "execution_count": null,
   "metadata": {},
   "outputs": [],
   "source": [
    "print(type(rad_data[0][0][0]))\n",
    "rad_rescaled = rad_data.copy()\n",
    "print(type(rad_rescaled[0][0][0]))"
   ]
  },
  {
   "cell_type": "code",
   "execution_count": null,
   "metadata": {},
   "outputs": [],
   "source": [
    "print(type(rad_rescaled[0][0][0]))"
   ]
  },
  {
   "cell_type": "code",
   "execution_count": null,
   "metadata": {},
   "outputs": [],
   "source": [
    "rad_min = 0\n",
    "rad_max = 0\n",
    "for i in range(0, len(rad_data)):\n",
    "    print(rad_data[i].max())\n",
    "    if (rad_data[i].min() <= rad_min):\n",
    "        rad_min = rad_data[i].min()\n",
    "    if (rad_data[i].max() >= rad_max):\n",
    "        rad_max = rad_data[i].max()\n",
    "        #print(rad_names[i])"
   ]
  },
  {
   "cell_type": "code",
   "execution_count": null,
   "metadata": {},
   "outputs": [],
   "source": [
    "print(rad_min)\n",
    "print(rad_max)"
   ]
  },
  {
   "cell_type": "code",
   "execution_count": null,
   "metadata": {},
   "outputs": [],
   "source": [
    "rad_data_norm = rad_data\n",
    "\n",
    "for i in range(0, len(rad_data_norm)):\n",
    "    rad_data_norm[i] = (rad_data_norm[i]/1616.0)*255.99\n",
    "print(type(rad_data_norm[0]))"
   ]
  },
  {
   "cell_type": "code",
   "execution_count": null,
   "metadata": {},
   "outputs": [],
   "source": [
    "print(type(rad_data_norm[0][0][0]))\n",
    "new_max = 0\n",
    "for array in rad_data_norm:\n",
    "    #print(array.max())\n",
    "    if (array.max() >= new_max):\n",
    "        new_max = array.max()\n",
    "print(new_max)"
   ]
  },
  {
   "cell_type": "code",
   "execution_count": null,
   "metadata": {},
   "outputs": [],
   "source": []
  }
 ],
 "metadata": {
  "kernelspec": {
   "display_name": "Python 3",
   "language": "python",
   "name": "python3"
  },
  "language_info": {
   "codemirror_mode": {
    "name": "ipython",
    "version": 3
   },
   "file_extension": ".py",
   "mimetype": "text/x-python",
   "name": "python",
   "nbconvert_exporter": "python",
   "pygments_lexer": "ipython3",
   "version": "3.7.0"
  }
 },
 "nbformat": 4,
 "nbformat_minor": 2
}
