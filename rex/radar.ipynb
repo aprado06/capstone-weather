{
 "cells": [
  {
   "cell_type": "code",
   "execution_count": 5,
   "metadata": {},
   "outputs": [],
   "source": [
    "import os\n",
    "import numpy as np"
   ]
  },
  {
   "cell_type": "code",
   "execution_count": 18,
   "metadata": {},
   "outputs": [],
   "source": [
    "#path = \"/mnt/data-weather/final2/rad/\"\n",
    "#out = \"/mnt/data-weather/final2/radpng/\"\n",
    "\n",
    "path = \"D:/data-weather/data_rad/\"\n",
    "directory = os.fsencode(path)\n",
    "rad_names = []\n",
    "rad_data = []\n",
    "dims = (126,201)\n",
    "for file in os.listdir(directory):\n",
    "    filename = os.fsdecode(file)\n",
    "    rad_names.append(filename)\n",
    "    #print(filename)\n",
    "    #newname = out+filename[0:15]+\".png\"\n",
    "    #print(newname)\n",
    "    data = np.fromfile(path+filename,dtype='int16',count=-1,sep='')\n",
    "    data = np.reshape(data,dims)\n",
    "    data = data/30.0\n",
    "    data[data >= 30.0] = 30.0\n",
    "    rad_data.append(data)\n",
    "#    fig = plt.figure(figsize=(9,9))\n",
    "#    plt.axis('off')\n",
    "#    plt.imshow(data, cmap='gray', origin='lower')\n",
    "#    fig.savefig(newname,bbox_inches='tight',pad_inches=-0.36)\n",
    "#    plt.close(fig)"
   ]
  },
  {
   "cell_type": "code",
   "execution_count": 19,
   "metadata": {},
   "outputs": [
    {
     "name": "stdout",
     "output_type": "stream",
     "text": [
      "7857\n",
      "7857\n"
     ]
    }
   ],
   "source": [
    "print(len(rad_names))\n",
    "print(len(rad_data))"
   ]
  },
  {
   "cell_type": "code",
   "execution_count": 25,
   "metadata": {},
   "outputs": [
    {
     "name": "stdout",
     "output_type": "stream",
     "text": [
      "<class 'list'>\n",
      "(126, 201)\n",
      "[  0   0   0   0   0   0   0   0   0   0   0   0   0   0   0   0   0   0\n",
      "   0   0   0   0   0   0   0   0   0   0   0   0   0   0   0   0   0   0\n",
      "   0   0   0   0   0   0   0   0   0   0   0   0   0   0   0   0   0   0\n",
      "   0   0   0   0   0   0   0   0   0   0   0   0   0   0   0   0   0   0\n",
      "   0   0   0   0   0   0   0   0   0   0   0   0   0   0   0   0   0   0\n",
      "   0   0   0   0   0   0   0   0   0   2  17  18  50  53 102 141 120 212\n",
      " 229 251 197 147 202 116 159 146 126 158 120 122 134 114 167 149  95 131\n",
      " 126 121 104  84  93  87  93  89  69  65  67  63  59  44  40  46  32  23\n",
      "  19  17  14  10   4  11  12  11  13  12   9   9  11   2   0   0   0   0\n",
      "   6  14  13  13  11   5   0   0   0   0   4  18  23  23  19  25  17  16\n",
      "   8   9   4   0   0   0   0   0   0   0   0   0   0   0   0   0   0   0\n",
      "   0   0   0]\n"
     ]
    }
   ],
   "source": [
    "print(type(rad_data))\n",
    "print(rad_data[0].shape)\n",
    "print(rad_data[0][0][:])"
   ]
  },
  {
   "cell_type": "code",
   "execution_count": 28,
   "metadata": {},
   "outputs": [
    {
     "name": "stdout",
     "output_type": "stream",
     "text": [
      "rad.20170101.00.dat\n",
      "rad.20170101.01.dat\n",
      "rad.20170101.05.dat\n",
      "rad.20170101.15.dat\n",
      "rad.20170101.17.dat\n",
      "rad.20170102.23.dat\n",
      "rad.20170103.02.dat\n",
      "rad.20170119.11.dat\n",
      "rad.20170329.00.dat\n",
      "rad.20170329.02.dat\n",
      "rad.20170430.06.dat\n",
      "rad.20170520.04.dat\n",
      "rad.20170703.04.dat\n",
      "rad.20170811.06.dat\n",
      "rad.20170813.11.dat\n"
     ]
    }
   ],
   "source": [
    "rad_min = 0\n",
    "rad_max = 0\n",
    "for i in range(0, len(rad_data)):\n",
    "    print(rad_data[i])\n",
    "    if (rad_data[i].min() <= rad_min):\n",
    "        rad_min = rad_data[i].min()\n",
    "    if (rad_data[i].max() >= rad_max):\n",
    "        rad_max = rad_data[i].max()\n",
    "        #print(rad_names[i])"
   ]
  },
  {
   "cell_type": "code",
   "execution_count": 29,
   "metadata": {},
   "outputs": [
    {
     "name": "stdout",
     "output_type": "stream",
     "text": [
      "0\n",
      "1616\n"
     ]
    }
   ],
   "source": [
    "print(rad_min)\n",
    "print(rad_max)"
   ]
  },
  {
   "cell_type": "code",
   "execution_count": 33,
   "metadata": {},
   "outputs": [
    {
     "name": "stdout",
     "output_type": "stream",
     "text": [
      "<class 'numpy.ndarray'>\n"
     ]
    }
   ],
   "source": [
    "rad_data_norm = rad_data\n",
    "\n",
    "for i in range(0, len(rad_data_norm)):\n",
    "    rad_data_norm[i] = (rad_data_norm[i]/1616.0)*255.99\n",
    "print(type(rad_data_norm[0]))"
   ]
  },
  {
   "cell_type": "code",
   "execution_count": 38,
   "metadata": {},
   "outputs": [
    {
     "name": "stdout",
     "output_type": "stream",
     "text": [
      "<class 'numpy.float64'>\n",
      "0.15840965346534655\n"
     ]
    }
   ],
   "source": [
    "print(type(rad_data_norm[0][0][0]))\n",
    "new_max = 0\n",
    "for array in rad_data_norm:\n",
    "    #print(array.max())\n",
    "    if (array.max() >= new_max):\n",
    "        new_max = array.max()\n",
    "print(new_max)"
   ]
  },
  {
   "cell_type": "code",
   "execution_count": null,
   "metadata": {},
   "outputs": [],
   "source": []
  }
 ],
 "metadata": {
  "kernelspec": {
   "display_name": "Python 3",
   "language": "python",
   "name": "python3"
  },
  "language_info": {
   "codemirror_mode": {
    "name": "ipython",
    "version": 3
   },
   "file_extension": ".py",
   "mimetype": "text/x-python",
   "name": "python",
   "nbconvert_exporter": "python",
   "pygments_lexer": "ipython3",
   "version": "3.7.0"
  }
 },
 "nbformat": 4,
 "nbformat_minor": 2
}
