{
 "cells": [
  {
   "cell_type": "code",
   "execution_count": null,
   "metadata": {},
   "outputs": [],
   "source": [
    "import os\n",
    "import numpy as np\n",
    "from PIL import Image\n",
    "from scipy.ndimage.filters import gaussian_filter"
   ]
  },
  {
   "cell_type": "code",
   "execution_count": null,
   "metadata": {},
   "outputs": [],
   "source": [
    "\"\"\"\n",
    "The following code was used to create the radar png images.\n",
    "The radar data is taken from the files provided by Prof. Brian.\n",
    "The data is read in as a flat array and then reshapen into the given dimensions.\n",
    "The 2d array is then rescaled between 0 and 30 mm/hour.\n",
    "Any data that was originally greater than 30, is set to 30 (capping it at 30).\n",
    "Then, the 2d array is multiplied by 255 and converted to uint8.\n",
    "This is to set 30 as a really high white value for grayscale png images.\n",
    "The rest is just resizing the image to whatever size = (row,col) and saving it.\n",
    "\"\"\"\n",
    "path = \"D:/data-weather/data_rad/\"\n",
    "path_save = \"D:/data-weather/data_rad_png_256x256/\"\n",
    "directory = os.fsencode(path)\n",
    "dims = (126,201) # given by Brian\n",
    "size = (256,256)\n",
    "for file in os.listdir(directory):\n",
    "    filename = os.fsdecode(file)\n",
    "    newname = filename[0:12]+filename[13:15]+\".png\"\n",
    "    data = np.fromfile(path+filename,dtype='int16',count=-1,sep='')\n",
    "    data = np.reshape(data,dims)\n",
    "    data = data/30.0\n",
    "    data[data >= 1.0] = 1.0\n",
    "    data = data*255.0\n",
    "    data = data.astype(np.uint8)\n",
    "    data = np.flipud(data)\n",
    "    im = Image.fromarray(data)\n",
    "    im = im.resize(size,Image.ANTIALIAS)\n",
    "    im.save(path_save+newname)"
   ]
  },
  {
   "cell_type": "code",
   "execution_count": null,
   "metadata": {},
   "outputs": [],
   "source": [
    "\"\"\"\n",
    "NPY SAVE\n",
    "\"\"\"\n",
    "path = \"D:/data-weather/data_rad/\"\n",
    "path_save = \"D:/data-weather/data_rad_npy_256x256/\"\n",
    "directory = os.fsencode(path)\n",
    "dims = (126,201) # given by Brian\n",
    "size = (256,256)\n",
    "for file in os.listdir(directory):\n",
    "    filename = os.fsdecode(file)\n",
    "    newname = filename[0:12]+filename[13:15]+\".npy\"\n",
    "    data = np.fromfile(path+filename,dtype='int16',count=-1,sep='')\n",
    "    data = np.reshape(data,dims)\n",
    "    im = Image.fromarray(data)\n",
    "    im = im.resize(size,Image.ANTIALIAS)\n",
    "    data = np.array(im)\n",
    "    data = data-data.min()\n",
    "    print(data.shape, data.min(), data.max())\n",
    "    np.save(path_save+newname,data)"
   ]
  },
  {
   "cell_type": "code",
   "execution_count": null,
   "metadata": {},
   "outputs": [],
   "source": [
    "import matplotlib.pyplot as plt\n",
    "%matplotlib inline\n",
    "dims = (126,201) # given by Brian\n",
    "size = (256,256)\n",
    "data = np.fromfile(\"D:/data-weather/data_rad/rad.20170101.00.dat\",dtype='int16',count=-1,sep='')\n",
    "data = np.reshape(data,dims)\n",
    "print(data.shape, data.min(), data.max())\n",
    "plt.imshow(data, cmap=\"gray\")\n",
    "plt.imshow(data, cmap=\"gray\")"
   ]
  },
  {
   "cell_type": "code",
   "execution_count": null,
   "metadata": {},
   "outputs": [],
   "source": [
    "data = np.resize(data, (50,50))\n",
    "#im = Image.fromarray(data)\n",
    "#im = im.resize(size,Image.ANTIALIAS)\n",
    "#data = np.array(im)\n",
    "#data = data-data.min()\n",
    "print(data.shape, data.min(), data.max())\n",
    "plt.imshow(data, cmap=\"gray\")"
   ]
  },
  {
   "cell_type": "code",
   "execution_count": null,
   "metadata": {},
   "outputs": [],
   "source": [
    "path = \"D:/data-weather/data_rad/\"\n",
    "directory = os.fsencode(path)\n",
    "dims = (126,201) # given by Brian\n",
    "size = (256,256)\n",
    "data_sum = np.zeros(size)\n",
    "length = 0\n",
    "for file in os.listdir(directory):\n",
    "    length = length + 1\n",
    "    filename = os.fsdecode(file)\n",
    "    newname = filename[0:12]+filename[13:15]+\".png\"\n",
    "    data = np.fromfile(path+filename,dtype='int16',count=-1,sep='')\n",
    "    data = np.reshape(data,dims)\n",
    "    data = data/30.0\n",
    "    data[data >= 1.0] = 1.0\n",
    "    data = data*255.0\n",
    "    data = np.flipud(data)\n",
    "    im = Image.fromarray(data)\n",
    "    im = im.resize(size,Image.ANTIALIAS)\n",
    "    data_sum = data_sum + np.array(im)\n",
    "print(data_sum.shape, data_sum.min(), data_sum.max())\n",
    "print(length)\n",
    "data_average = data_sum/length\n",
    "print(data_average.shape, data_average.min(), data_average.max())"
   ]
  },
  {
   "cell_type": "code",
   "execution_count": null,
   "metadata": {},
   "outputs": [],
   "source": [
    "fig, axes = plt.subplots(2,2)\n",
    "\n",
    "axes[0,0].imshow(data_average, cmap=\"gray\")\n",
    "axes[0,0].set_title(\"avg. Rainfall 2017\")\n",
    "axes[0,0].set_xticks([])\n",
    "axes[0,0].set_yticks([])\n",
    "\n",
    "data_average_flat = data_average.flatten()\n",
    "axes[0,1].boxplot(data_average_flat)\n",
    "axes[0,1].set_title(\"avg. Rainfall 2017\")\n",
    "axes[0,1].set_xticks([])\n",
    "\n",
    "data_average_blurred = gaussian_filter(data_average,sigma=3)\n",
    "axes[1,0].imshow(data_average_blurred, cmap=\"gray\")\n",
    "axes[1,0].set_title(\"avg. Rainfall 2017\")\n",
    "axes[1,0].set_xticks([])\n",
    "axes[1,0].set_yticks([])\n",
    "\n",
    "data_average_flat_blurred = data_average_blurred.flatten()\n",
    "axes[1,1].set_title(\"avg. Rainfall 2017\")\n",
    "axes[1,1].boxplot(data_average_flat_blurred)\n",
    "axes[1,1].set_xticks([])\n"
   ]
  },
  {
   "cell_type": "code",
   "execution_count": null,
   "metadata": {},
   "outputs": [],
   "source": [
    "im = Image.open(\"D:/data-weather/data_rad_png_256x256/rad.2017010100.png\")\n",
    "print(im.size)"
   ]
  },
  {
   "cell_type": "code",
   "execution_count": null,
   "metadata": {},
   "outputs": [],
   "source": []
  }
 ],
 "metadata": {
  "kernelspec": {
   "display_name": "Python 3",
   "language": "python",
   "name": "python3"
  },
  "language_info": {
   "codemirror_mode": {
    "name": "ipython",
    "version": 3
   },
   "file_extension": ".py",
   "mimetype": "text/x-python",
   "name": "python",
   "nbconvert_exporter": "python",
   "pygments_lexer": "ipython3",
   "version": "3.7.0"
  }
 },
 "nbformat": 4,
 "nbformat_minor": 2
}
