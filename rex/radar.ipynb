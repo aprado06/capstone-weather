{
 "cells": [
  {
   "cell_type": "code",
   "execution_count": null,
   "metadata": {},
   "outputs": [],
   "source": [
    "import os\n",
    "import numpy as np\n",
    "from PIL import Image"
   ]
  },
  {
   "cell_type": "code",
   "execution_count": null,
   "metadata": {},
   "outputs": [],
   "source": [
    "\"\"\"\n",
    "The following code was used to create the radar png images.\n",
    "The radar data is taken from the files provided by Prof. Brian.\n",
    "The data is read in as a flat array and then reshapen into the given dimensions.\n",
    "The 2d array is then rescaled between 0 and 30 mm/hour.\n",
    "Any data that was originally greater than 30, is set to 30 (capping it at 30).\n",
    "Then, the 2d array is multiplied by 255 and converted to uint8.\n",
    "This is to set 30 as a really high white value for grayscale png images.\n",
    "The rest is just resizing the image to whatever size = (row,col) and saving it.\n",
    "\"\"\"\n",
    "path = \"D:/data-weather/data_rad/\"\n",
    "path_save = \"D:/data-weather/data_rad_png_256x256/\"\n",
    "directory = os.fsencode(path)\n",
    "dims = (126,201) # given by Brian\n",
    "size = (256,256)\n",
    "for file in os.listdir(directory):\n",
    "    filename = os.fsdecode(file)\n",
    "    newname = filename[0:12]+filename[13:15]+\".png\"\n",
    "    data = np.fromfile(path+filename,dtype='int16',count=-1,sep='')\n",
    "    data = np.reshape(data,dims)\n",
    "    data = data/30.0\n",
    "    data[data >= 1.0] = 1.0\n",
    "    data = data*255.0\n",
    "    data = data.astype(np.uint8)\n",
    "    data = np.flipud(data)\n",
    "    im = Image.fromarray(data)\n",
    "    im = im.resize(size,Image.ANTIALIAS)\n",
    "    im.save(path_save+newname)"
   ]
  }
 ],
 "metadata": {
  "kernelspec": {
   "display_name": "Python 3",
   "language": "python",
   "name": "python3"
  },
  "language_info": {
   "codemirror_mode": {
    "name": "ipython",
    "version": 3
   },
   "file_extension": ".py",
   "mimetype": "text/x-python",
   "name": "python",
   "nbconvert_exporter": "python",
   "pygments_lexer": "ipython3",
   "version": "3.7.0"
  }
 },
 "nbformat": 4,
 "nbformat_minor": 2
}
