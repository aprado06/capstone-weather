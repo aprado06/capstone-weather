{
 "cells": [
  {
   "cell_type": "code",
   "execution_count": null,
   "metadata": {},
   "outputs": [],
   "source": [
    "import os\n",
    "import numpy as np\n",
    "import matplotlib.pyplot as plt\n",
    "from mpl_toolkits.basemap import Basemap\n",
    "import pygrib\n",
    "from netCDF4 import Dataset"
   ]
  },
  {
   "cell_type": "code",
   "execution_count": null,
   "metadata": {},
   "outputs": [],
   "source": [
    "path_to_model = \"/mnt/data-weather/moddata/modgrb/\"\n",
    "path_to_satellite = \"/mnt/data-weather/satdata/satnc/band2346/\"\n",
    "path_to_radar = \"/mnt/data-weather/raddata/raddat/\""
   ]
  },
  {
   "cell_type": "code",
   "execution_count": null,
   "metadata": {},
   "outputs": [],
   "source": [
    "path_to_model_output = \"/mnt/data-weather/moddata/modpng/\"\n",
    "path_to_satellite_output = \"/mnt/data-weather/satdata/satpng/band2346/\"\n",
    "path_to_radar_output = \"/mnt/data-weather/raddata/radpng/\""
   ]
  },
  {
   "cell_type": "code",
   "execution_count": null,
   "metadata": {},
   "outputs": [],
   "source": [
    "path_to_satellite = \"/mnt/data-weather/corr/sat/band2/\"\n",
    "path_to_satellite_output = \"/mnt/data-weather/corr/A2/\"\n",
    "directory = os.fsencode(path_to_satellite)\n",
    "\n",
    "for file in os.listdir(directory):\n",
    "    filename = os.fsdecode(file)\n",
    "    #print(filename)\n",
    "    nc = Dataset(path_to_satellite+filename, 'r')\n",
    "    #extracting the data we want from the file\n",
    "    data = nc.variables['data'][:][0]\n",
    "    lat = nc.variables['lat'][:]\n",
    "    lon = nc.variables['lon'][:]\n",
    "    nc.close()\n",
    "    #print(data.shape, lat.shape, lon.shape)\n",
    "    plt.figure(figsize=(10,10))\n",
    "    m = Basemap(projection='mill',\n",
    "            resolution=None,\n",
    "            llcrnrlon=-102,\n",
    "            urcrnrlon=-82,\n",
    "            llcrnrlat=31,\n",
    "            urcrnrlat=41)\n",
    "    x,y = m(lon,lat)\n",
    "    cs = m.pcolormesh(x,y,data,shading='flat',cmap=\"gray\")\n",
    "    plt.savefig(path_to_satellite_output+filename[0:-3]+\".png\",\n",
    "                bbox_inches='tight',\n",
    "                pad_inches=-0.08)\n",
    "    plt.clf()\n",
    "    plt.close()"
   ]
  },
  {
   "cell_type": "code",
   "execution_count": null,
   "metadata": {},
   "outputs": [],
   "source": [
    "import os\n",
    "from shutil import copy2\n",
    "path_to_satellite = \"/mnt/data-weather/satdata/satnc/band2346/\"\n",
    "path_to_other = \"/mnt/data-weather/satdata/satnc/other/\"\n",
    "directory = os.fsencode(path_to_satellite)\n",
    "for file in os.listdir(directory):\n",
    "    filename = os.fsdecode(file)\n",
    "    #print(filename[18:20])\n",
    "    if filename[18:20] == \"15\":\n",
    "        copy2(path_to_satellite+filename, path_to_other+filename)"
   ]
  },
  {
   "cell_type": "code",
   "execution_count": null,
   "metadata": {},
   "outputs": [],
   "source": [
    "from datetime import timedelta\n",
    "import datetime\n",
    "directory = os.fsencode(path_to_other)\n",
    "for file in os.listdir(directory):\n",
    "    filename = os.fsdecode(file)\n",
    "    print(filename)\n",
    "    print(filename[12:15])\n",
    "    date = datetime.datetime(2017, 1, 1) + datetime.timedelta(int(filename[12:15]) - 1)\n",
    "    if (date.month <= 9 and date.day <= 9):\n",
    "        #print(\"sat.\"+str(date.year)+\"0\"+str(date.month)+\"0\"+str(date.day)+\".\"+filename[16:18]+\".\"+filename[28:30]+\".nc\")\n",
    "        name = \"sat.\"+str(date.year)+\"0\"+str(date.month)+\"0\"+str(date.day)+\".\"+filename[16:18]+\".\"+filename[28:30]+\".nc\"\n",
    "    elif (date.month <= 9 and date.day > 9):\n",
    "        #print(\"sat.\"+str(date.year)+\"0\"+str(date.month)+str(date.day)+\".\"+filename[16:18]+\".\"+filename[28:30]+\".nc\")\n",
    "        name = \"sat.\"+str(date.year)+\"0\"+str(date.month)+str(date.day)+\".\"+filename[16:18]+\".\"+filename[28:30]+\".nc\"\n",
    "    elif (date.month > 9 and date.day <= 9):\n",
    "        #print(\"sat.\"+str(date.year)+str(date.month)+\"0\"+str(date.day)+\".\"+filename[16:18]+\".\"+filename[28:30]+\".nc\")\n",
    "        name = \"sat.\"+str(date.year)+str(date.month)+\"0\"+str(date.day)+\".\"+filename[16:18]+\".\"+filename[28:30]+\".nc\"\n",
    "    else:\n",
    "        #print(\"sat.\"+str(date.year)+str(date.month)+str(date.day)+\".\"+filename[16:18]+\".\"+filename[28:30]+\".nc\")\n",
    "        name = \"sat.\"+str(date.year)+str(date.month)+str(date.day)+\".\"+filename[16:18]+\".\"+filename[28:30]+\".nc\"\n",
    "    os.rename(path_to_other+filename, path_to_other+name)"
   ]
  },
  {
   "cell_type": "code",
   "execution_count": null,
   "metadata": {},
   "outputs": [],
   "source": [
    "sat = \"/mnt/data-weather/satdata/satnc/other/\"\n",
    "rad = \"/mnt/data-weather/raddata/raddat/\"\n",
    "sat_out = \"/mnt/data-weather/corr/sat/\"\n",
    "rad_out = \"/mnt/data-weather/corr/rad/\"\n",
    "sat_dir = os.fsencode(sat)\n",
    "rad_dir = os.fsencode(rad)\n",
    "\n",
    "for sat_file in os.listdir(sat_dir):\n",
    "    sat_filename = os.fsdecode(sat_file)\n",
    "    for rad_file in os.listdir(rad_dir):\n",
    "        rad_filename = os.fsdecode(rad_file)\n",
    "        #print(sat_filename[8:15], rad_filename[10:17])\n",
    "        if sat_filename[8:15] == rad_filename[10:17]:\n",
    "            copy2(sat+sat_filename, sat_out+sat_filename)\n",
    "            copy2(rad+rad_filename, rad_out+rad_filename)"
   ]
  },
  {
   "cell_type": "code",
   "execution_count": null,
   "metadata": {},
   "outputs": [],
   "source": [
    "sat = \"/mnt/data-weather/corr/sat/\"\n",
    "sat_out = \"/mnt/data-weather/corr/sat/band\"\n",
    "sat_dir = os.fsencode(sat)\n",
    "for sat_file in os.listdir(sat_dir):\n",
    "    file = os.fsdecode(sat_file)\n",
    "    print(file)\n",
    "    print(file[17:18])\n",
    "    if len(file) > 5:\n",
    "        if int(file[17:18]) == 2:\n",
    "            os.rename(sat+file,sat_out+\"2/\"+file)\n",
    "        if int(file[17:18]) == 3:\n",
    "            os.rename(sat+file,sat_out+\"3/\"+file)   \n",
    "        if int(file[17:18]) == 4:\n",
    "            os.rename(sat+file,sat_out+\"4/\"+file)\n",
    "        if int(file[17:18]) == 6:\n",
    "            os.rename(sat+file,sat_out+\"6/\"+file)"
   ]
  },
  {
   "cell_type": "code",
   "execution_count": null,
   "metadata": {},
   "outputs": [],
   "source": [
    "rad = \"/mnt/data-weather/corr/rad/\"\n",
    "out = \"/mnt/data-weather/corr/B2/\"\n",
    "directory = os.fsencode(rad)\n",
    "dims = (126,201)\n",
    "\n",
    "for file in os.listdir(directory):\n",
    "    filename = os.fsdecode(file)\n",
    "    #print(filename)\n",
    "    data = np.fromfile(rad+filename,dtype='int16',count=-1,sep='') # 2 byte integers\n",
    "    #print('size of read vector',len(data))\n",
    "    data = np.reshape(data,dims)\n",
    "    #print(data)\n",
    "    fig = plt.figure(figsize=(10,10))\n",
    "    plt.axis('off')\n",
    "    plt.imshow(data, cmap='gray', origin='lower')\n",
    "    fig.savefig(out+filename[0:-4]+\".png\",\n",
    "                bbox_inches='tight',\n",
    "                pad_inches=-0.36)\n",
    "    plt.close(fig)"
   ]
  },
  {
   "cell_type": "code",
   "execution_count": null,
   "metadata": {},
   "outputs": [],
   "source": []
  }
 ],
 "metadata": {
  "kernelspec": {
   "display_name": "Python 3",
   "language": "python",
   "name": "python3"
  },
  "language_info": {
   "codemirror_mode": {
    "name": "ipython",
    "version": 3
   },
   "file_extension": ".py",
   "mimetype": "text/x-python",
   "name": "python",
   "nbconvert_exporter": "python",
   "pygments_lexer": "ipython3",
   "version": "3.6.6"
  }
 },
 "nbformat": 4,
 "nbformat_minor": 2
}
