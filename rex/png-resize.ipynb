{
 "cells": [
  {
   "cell_type": "code",
   "execution_count": null,
   "metadata": {},
   "outputs": [],
   "source": [
    "import os\n",
    "from PIL import Image"
   ]
  },
  {
   "cell_type": "code",
   "execution_count": null,
   "metadata": {},
   "outputs": [],
   "source": [
    "# code used to resize png images to 256x256\n",
    "indirectory = \"/mnt/data-weather/corr/mod/band0/real_B/\"\n",
    "outdirectory = \"/mnt/data-weather/corr/mod/band0/final_B/\"\n",
    "directory = os.fsencode(indirectory)\n",
    "size = 256, 256\n",
    "for file in os.listdir(directory):\n",
    "    filename = os.fsdecode(file)\n",
    "    img = Image.open(indirectory+filename)\n",
    "    img = img.resize((size), Image.ANTIALIAS)\n",
    "    img.save(outdirectory+filename)"
   ]
  },
  {
   "cell_type": "code",
   "execution_count": null,
   "metadata": {},
   "outputs": [],
   "source": [
    "# code used to rename files in folder A for model data\n",
    "indirectory = \"/mnt/data-weather/corr/mod/band0/temperature/A/\"\n",
    "outdirectory = \"/mnt/data-weather/corr/mod/band0/temperature/A_final/\"\n",
    "name = \"mod\"\n",
    "feature = \"T\"\n",
    "directory = os.fsencode(indirectory)\n",
    "for file in os.listdir(directory):\n",
    "    filename = os.fsdecode(file)\n",
    "    #print(filename)\n",
    "    #print(filename[8:12], filename[13:15])\n",
    "    newname = name+filename[8:12]+filename[13:15]+feature+\".png\"\n",
    "    os.rename(indirectory+filename,outdirectory+newname)"
   ]
  },
  {
   "cell_type": "code",
   "execution_count": null,
   "metadata": {},
   "outputs": [],
   "source": [
    "# code used to rename files in folder B for radar data\n",
    "indirectory = \"/mnt/data-weather/corr/mod/band0/temperature/B/\"\n",
    "outdirectory = \"/mnt/data-weather/corr/mod/band0/temperature/B_final/\"\n",
    "name = \"rad\"\n",
    "feature = \"T\"\n",
    "directory = os.fsencode(indirectory)\n",
    "for file in os.listdir(directory):\n",
    "    filename = os.fsdecode(file)\n",
    "    #print(filename)\n",
    "    #print(filename[8:12], filename[13:15])\n",
    "    newname = name+filename[10:14]+filename[15:17]+feature+\".png\"\n",
    "    os.rename(indirectory+filename,outdirectory+newname)"
   ]
  },
  {
   "cell_type": "code",
   "execution_count": null,
   "metadata": {},
   "outputs": [],
   "source": [
    "# renaming files\n",
    "indirectory = \"/mnt/data-weather/corr/mod/band0/rad/\"\n",
    "outdirectory = \"/mnt/data-weather/corr/mod/band0/rad/\"\n",
    "directory = os.fsencode(indirectory)\n",
    "for file in os.listdir(directory):\n",
    "    filename = os.fsdecode(file)\n",
    "    newname = \"rad\"+filename[10:14]+filename[15:17]+\".dat\"\n",
    "    os.rename(indirectory+filename,outdirectory+newname)"
   ]
  },
  {
   "cell_type": "code",
   "execution_count": null,
   "metadata": {},
   "outputs": [],
   "source": [
    "# renaming files\n",
    "indirectory = \"/mnt/data-weather/corr/mod/band0/radpng/\"\n",
    "outdirectory = \"/mnt/data-weather/corr/mod/band0/radpng/\"\n",
    "directory = os.fsencode(indirectory)\n",
    "for file in os.listdir(directory):\n",
    "    filename = os.fsdecode(file)\n",
    "    newname = filename[0:9]+\".png\"\n",
    "    print(newname)\n",
    "    os.rename(indirectory+filename,outdirectory+newname)"
   ]
  },
  {
   "cell_type": "code",
   "execution_count": null,
   "metadata": {},
   "outputs": [],
   "source": []
  }
 ],
 "metadata": {
  "kernelspec": {
   "display_name": "Python 3",
   "language": "python",
   "name": "python3"
  },
  "language_info": {
   "codemirror_mode": {
    "name": "ipython",
    "version": 3
   },
   "file_extension": ".py",
   "mimetype": "text/x-python",
   "name": "python",
   "nbconvert_exporter": "python",
   "pygments_lexer": "ipython3",
   "version": "3.7.0"
  }
 },
 "nbformat": 4,
 "nbformat_minor": 2
}
