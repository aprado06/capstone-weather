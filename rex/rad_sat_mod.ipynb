{
 "cells": [
  {
   "cell_type": "code",
   "execution_count": null,
   "metadata": {},
   "outputs": [],
   "source": [
    "import os\n",
    "from shutil import copy2\n",
    "import pygrib\n",
    "from mpl_toolkits.basemap import Basemap\n",
    "import matplotlib.pyplot as plt\n",
    "from PIL import Image"
   ]
  },
  {
   "cell_type": "code",
   "execution_count": null,
   "metadata": {},
   "outputs": [],
   "source": [
    "path_rad = \"/mnt/data-weather/rad_sat_mod/rad_256/\"\n",
    "path_sa1 = \"/mnt/data-weather/rad_sat_mod/sa1_256/\"\n",
    "path_sa2 = \"/mnt/data-weather/rad_sat_mod/sa2_256/\"\n",
    "path_sa3 = \"/mnt/data-weather/rad_sat_mod/sa3_256/\"\n",
    "path_sa4 = \"/mnt/data-weather/rad_sat_mod/sa4_256/\"\n",
    "path_sa6 = \"/mnt/data-weather/rad_sat_mod/sa6_256/\""
   ]
  },
  {
   "cell_type": "code",
   "execution_count": null,
   "metadata": {},
   "outputs": [],
   "source": [
    "path_raw_mod = \"/mnt/data-weather/moddata/\""
   ]
  },
  {
   "cell_type": "code",
   "execution_count": null,
   "metadata": {},
   "outputs": [],
   "source": [
    "path = \"/mnt/data-weather/rad_sat/radpng/\"\n",
    "directory = os.fsencode(path)\n",
    "list_rad = []\n",
    "for file in os.listdir(directory):\n",
    "    filename = os.fsdecode(file)\n",
    "    list_rad.append(filename)\n",
    "print(len(list_rad))"
   ]
  },
  {
   "cell_type": "code",
   "execution_count": null,
   "metadata": {},
   "outputs": [],
   "source": [
    "print(list_rad[0][4:15])\n",
    "list_rad.sort()"
   ]
  },
  {
   "cell_type": "code",
   "execution_count": null,
   "metadata": {},
   "outputs": [],
   "source": [
    "path = \"/mnt/data-weather/moddata/\"\n",
    "directory = os.fsencode(path)\n",
    "list_mod = []\n",
    "for file in os.listdir(directory):\n",
    "    filename = os.fsdecode(file)\n",
    "    list_mod.append(filename)\n",
    "print(len(list_mod))"
   ]
  },
  {
   "cell_type": "code",
   "execution_count": null,
   "metadata": {},
   "outputs": [],
   "source": [
    "print(list_mod[0])\n",
    "list_mod.sort()"
   ]
  },
  {
   "cell_type": "code",
   "execution_count": null,
   "metadata": {},
   "outputs": [],
   "source": [
    "list_mod_new = []\n",
    "list_rad_new = []\n",
    "for rad in list_rad:\n",
    "    for mod in list_mod:\n",
    "        if (rad[4:15] == mod[4:15]):\n",
    "            list_mod_new.append(mod)\n",
    "            list_rad_new.append(rad)\n",
    "            break\n",
    "print(len(list_mod_new))\n",
    "print(len(list_rad))"
   ]
  },
  {
   "cell_type": "code",
   "execution_count": null,
   "metadata": {},
   "outputs": [],
   "source": [
    "print(len(list_rad_new[0]))\n",
    "print(list_rad_new[0])\n",
    "print(list_rad_new[0][4:15])"
   ]
  },
  {
   "cell_type": "code",
   "execution_count": null,
   "metadata": {},
   "outputs": [],
   "source": [
    "for file in list_rad_new:\n",
    "    copy2(\"/mnt/data-weather/rad_sat/radpng/\"+file, \"/mnt/data-weather/rad_sat_mod/rad_256/\"+file)\n",
    "    copy2(\"/mnt/data-weather/rad_sat/sa1_256/sat.\"+file[4:15]+\".png\", \"/mnt/data-weather/rad_sat_mod/sa1_256/sat.\"+file[4:15]+\".png\")\n",
    "    copy2(\"/mnt/data-weather/rad_sat/sa2_256/sat.\"+file[4:15]+\".png\", \"/mnt/data-weather/rad_sat_mod/sa2_256/sat.\"+file[4:15]+\".png\")\n",
    "    copy2(\"/mnt/data-weather/rad_sat/sa3_256/sat.\"+file[4:15]+\".png\", \"/mnt/data-weather/rad_sat_mod/sa3_256/sat.\"+file[4:15]+\".png\")\n",
    "    copy2(\"/mnt/data-weather/rad_sat/sa4_256/sat.\"+file[4:15]+\".png\", \"/mnt/data-weather/rad_sat_mod/sa4_256/sat.\"+file[4:15]+\".png\")\n",
    "    copy2(\"/mnt/data-weather/rad_sat/sa6_256/sat.\"+file[4:15]+\".png\", \"/mnt/data-weather/rad_sat_mod/sa6_256/sat.\"+file[4:15]+\".png\")"
   ]
  },
  {
   "cell_type": "code",
   "execution_count": null,
   "metadata": {},
   "outputs": [],
   "source": [
    "list_mod = []\n",
    "directory = os.fsencode(path_raw_mod)\n",
    "for file in os.listdir(directory):\n",
    "    filename = os.fsdecode(file)\n",
    "    #print(filename)\n",
    "    list_mod.append(filename)\n",
    "print(len(list_mod))"
   ]
  },
  {
   "cell_type": "code",
   "execution_count": null,
   "metadata": {},
   "outputs": [],
   "source": [
    "list_mod_raw = []\n",
    "for rad in list_rad_new:\n",
    "    for mod in list_mod:\n",
    "        if ()"
   ]
  },
  {
   "cell_type": "code",
   "execution_count": null,
   "metadata": {},
   "outputs": [],
   "source": [
    "print(len(list_mod_new))\n",
    "print(len(list_rad_new))"
   ]
  },
  {
   "cell_type": "code",
   "execution_count": null,
   "metadata": {},
   "outputs": [],
   "source": [
    "list_mod_new.sort()\n",
    "list_rad_new.sort()"
   ]
  },
  {
   "cell_type": "code",
   "execution_count": null,
   "metadata": {},
   "outputs": [],
   "source": [
    "print(list_mod_new[0])\n",
    "print(list_rad_new[0])"
   ]
  },
  {
   "cell_type": "code",
   "execution_count": null,
   "metadata": {},
   "outputs": [],
   "source": [
    "for file in list_mod_new:\n",
    "    copy2(path_raw_mod+file, \"/mnt/data-weather/rad_sat_mod/mod/\"+file)"
   ]
  },
  {
   "cell_type": "code",
   "execution_count": null,
   "metadata": {},
   "outputs": [],
   "source": [
    "# RUN ME\n",
    "path = \"/mnt/data-weather/rad_sat_mod/mod/\"\n",
    "out = \"/mnt/data-weather/rad_sat_mod/mod_v/\"\n",
    "directory = os.fsencode(path)\n",
    "feature = \"Visibility\"\n",
    "m = Basemap(projection='mill',\n",
    "            llcrnrlon=-102.0,\n",
    "            urcrnrlon=-82.0,\n",
    "            llcrnrlat=31.0,\n",
    "            urcrnrlat=41.0,\n",
    "            resolution='l')\n",
    "rex = 0\n",
    "for file in os.listdir(directory):\n",
    "    filename = os.fsdecode(file)\n",
    "    newname = out+filename[0:15]+\".png\"\n",
    "    #print(newname)\n",
    "    grbs = pygrib.open(path+filename)\n",
    "    grb = grbs.select(name=feature)[0]\n",
    "    grbs.close()\n",
    "    data = grb.values\n",
    "    if (rex == 0):\n",
    "        lat, lon = grb.latlons()\n",
    "        x, y = m(lon,lat)\n",
    "        rex += 1\n",
    "    plt.figure(figsize=(9,9))\n",
    "    m.pcolormesh(x,y,data,shading='flat',cmap=\"gray\")\n",
    "    plt.savefig(newname, bbox_inches=\"tight\", pad_inches=-0.1)\n",
    "    plt.clf()\n",
    "    plt.close()"
   ]
  },
  {
   "cell_type": "code",
   "execution_count": null,
   "metadata": {},
   "outputs": [],
   "source": [
    "# code used to resize png images to 256x256\n",
    "indirectory = \"/mnt/data-weather/rad_sat_mod/mod_t/\"\n",
    "outdirectory = \"/mnt/data-weather/rad_sat_mod/mte_256/\"\n",
    "directory = os.fsencode(indirectory)\n",
    "size = 256, 256\n",
    "for file in os.listdir(directory):\n",
    "    filename = os.fsdecode(file)\n",
    "    img = Image.open(indirectory+filename)\n",
    "    img = img.resize((size), Image.ANTIALIAS)\n",
    "    img.save(outdirectory+filename)"
   ]
  },
  {
   "cell_type": "code",
   "execution_count": null,
   "metadata": {},
   "outputs": [],
   "source": []
  }
 ],
 "metadata": {
  "kernelspec": {
   "display_name": "Python 3",
   "language": "python",
   "name": "python3"
  },
  "language_info": {
   "codemirror_mode": {
    "name": "ipython",
    "version": 3
   },
   "file_extension": ".py",
   "mimetype": "text/x-python",
   "name": "python",
   "nbconvert_exporter": "python",
   "pygments_lexer": "ipython3",
   "version": "3.6.6"
  }
 },
 "nbformat": 4,
 "nbformat_minor": 2
}
