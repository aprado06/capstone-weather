{
 "cells": [
  {
   "cell_type": "code",
   "execution_count": 19,
   "metadata": {},
   "outputs": [],
   "source": [
    "import os\n",
    "from shutil import copy2"
   ]
  },
  {
   "cell_type": "code",
   "execution_count": 1,
   "metadata": {},
   "outputs": [],
   "source": [
    "path_rad = \"/mnt/data-weather/rad_sat_mod/rad_256/\"\n",
    "path_sa1 = \"/mnt/data-weather/rad_sat_mod/sa1_256/\"\n",
    "path_sa2 = \"/mnt/data-weather/rad_sat_mod/sa2_256/\"\n",
    "path_sa3 = \"/mnt/data-weather/rad_sat_mod/sa3_256/\"\n",
    "path_sa4 = \"/mnt/data-weather/rad_sat_mod/sa4_256/\"\n",
    "path_sa6 = \"/mnt/data-weather/rad_sat_mod/sa6_256/\""
   ]
  },
  {
   "cell_type": "code",
   "execution_count": 2,
   "metadata": {},
   "outputs": [],
   "source": [
    "path_raw_mod = \"/mnt/data-weather/moddata/\""
   ]
  },
  {
   "cell_type": "code",
   "execution_count": 5,
   "metadata": {},
   "outputs": [
    {
     "name": "stdout",
     "output_type": "stream",
     "text": [
      "1734\n"
     ]
    }
   ],
   "source": [
    "path = \"/mnt/data-weather/rad_sat/radpng/\"\n",
    "directory = os.fsencode(path)\n",
    "list_rad = []\n",
    "for file in os.listdir(directory):\n",
    "    filename = os.fsdecode(file)\n",
    "    list_rad.append(filename)\n",
    "print(len(list_rad))"
   ]
  },
  {
   "cell_type": "code",
   "execution_count": 15,
   "metadata": {},
   "outputs": [
    {
     "name": "stdout",
     "output_type": "stream",
     "text": [
      "20170102.14\n"
     ]
    }
   ],
   "source": [
    "print(list_rad[0][4:15])\n",
    "list_rad.sort()"
   ]
  },
  {
   "cell_type": "code",
   "execution_count": 6,
   "metadata": {},
   "outputs": [
    {
     "name": "stdout",
     "output_type": "stream",
     "text": [
      "7195\n"
     ]
    }
   ],
   "source": [
    "path = \"/mnt/data-weather/moddata/\"\n",
    "directory = os.fsencode(path)\n",
    "list_mod = []\n",
    "for file in os.listdir(directory):\n",
    "    filename = os.fsdecode(file)\n",
    "    list_mod.append(filename)\n",
    "print(len(list_mod))"
   ]
  },
  {
   "cell_type": "code",
   "execution_count": 12,
   "metadata": {},
   "outputs": [
    {
     "name": "stdout",
     "output_type": "stream",
     "text": [
      "nam.20170101.00.grb\n"
     ]
    }
   ],
   "source": [
    "print(list_mod[0])\n",
    "list_mod.sort()"
   ]
  },
  {
   "cell_type": "code",
   "execution_count": 17,
   "metadata": {},
   "outputs": [
    {
     "name": "stdout",
     "output_type": "stream",
     "text": [
      "1419\n",
      "1734\n"
     ]
    }
   ],
   "source": [
    "list_mod_new = []\n",
    "list_rad_new = []\n",
    "for rad in list_rad:\n",
    "    for mod in list_mod:\n",
    "        if (rad[4:15] == mod[4:15]):\n",
    "            list_mod_new.append(mod)\n",
    "            list_rad_new.append(rad)\n",
    "            break\n",
    "print(len(list_mod_new))\n",
    "print(len(list_rad))"
   ]
  },
  {
   "cell_type": "code",
   "execution_count": 22,
   "metadata": {},
   "outputs": [
    {
     "name": "stdout",
     "output_type": "stream",
     "text": [
      "19\n",
      "rad.20170102.14.png\n",
      "20170102.14\n"
     ]
    }
   ],
   "source": [
    "print(len(list_rad_new[0]))\n",
    "print(list_rad_new[0])\n",
    "print(list_rad_new[0][4:15])"
   ]
  },
  {
   "cell_type": "code",
   "execution_count": 23,
   "metadata": {},
   "outputs": [],
   "source": [
    "for file in list_rad_new:\n",
    "    copy2(\"/mnt/data-weather/rad_sat/radpng/\"+file, \"/mnt/data-weather/rad_sat_mod/rad_256/\"+file)\n",
    "    copy2(\"/mnt/data-weather/rad_sat/sa1_256/sat.\"+file[4:15]+\".png\", \"/mnt/data-weather/rad_sat_mod/sa1_256/sat.\"+file[4:15]+\".png\")\n",
    "    copy2(\"/mnt/data-weather/rad_sat/sa2_256/sat.\"+file[4:15]+\".png\", \"/mnt/data-weather/rad_sat_mod/sa2_256/sat.\"+file[4:15]+\".png\")\n",
    "    copy2(\"/mnt/data-weather/rad_sat/sa3_256/sat.\"+file[4:15]+\".png\", \"/mnt/data-weather/rad_sat_mod/sa3_256/sat.\"+file[4:15]+\".png\")\n",
    "    copy2(\"/mnt/data-weather/rad_sat/sa4_256/sat.\"+file[4:15]+\".png\", \"/mnt/data-weather/rad_sat_mod/sa4_256/sat.\"+file[4:15]+\".png\")\n",
    "    copy2(\"/mnt/data-weather/rad_sat/sa6_256/sat.\"+file[4:15]+\".png\", \"/mnt/data-weather/rad_sat_mod/sa6_256/sat.\"+file[4:15]+\".png\")"
   ]
  },
  {
   "cell_type": "code",
   "execution_count": 25,
   "metadata": {},
   "outputs": [
    {
     "name": "stdout",
     "output_type": "stream",
     "text": [
      "7195\n"
     ]
    }
   ],
   "source": [
    "list_mod = []\n",
    "directory = os.fsencode(path_raw_mod)\n",
    "for file in os.listdir(directory):\n",
    "    filename = os.fsdecode(file)\n",
    "    #print(filename)\n",
    "    list_mod.append(filename)\n",
    "print(len(list_mod))"
   ]
  },
  {
   "cell_type": "code",
   "execution_count": null,
   "metadata": {},
   "outputs": [],
   "source": [
    "list_mod_raw = []\n",
    "for rad in list_rad_new:\n",
    "    for mod in list_mod:\n",
    "        if ()"
   ]
  },
  {
   "cell_type": "code",
   "execution_count": 27,
   "metadata": {},
   "outputs": [
    {
     "name": "stdout",
     "output_type": "stream",
     "text": [
      "1419\n",
      "1419\n"
     ]
    }
   ],
   "source": [
    "print(len(list_mod_new))\n",
    "print(len(list_rad_new))"
   ]
  },
  {
   "cell_type": "code",
   "execution_count": 28,
   "metadata": {},
   "outputs": [],
   "source": [
    "list_mod_new.sort()\n",
    "list_rad_new.sort()"
   ]
  },
  {
   "cell_type": "code",
   "execution_count": 29,
   "metadata": {},
   "outputs": [
    {
     "name": "stdout",
     "output_type": "stream",
     "text": [
      "nam.20170102.14.grb\n",
      "rad.20170102.14.png\n"
     ]
    }
   ],
   "source": [
    "print(list_mod_new[0])\n",
    "print(list_rad_new[0])"
   ]
  },
  {
   "cell_type": "code",
   "execution_count": 30,
   "metadata": {},
   "outputs": [],
   "source": [
    "for file in list_mod_new:\n",
    "    copy2(path_raw_mod+file, \"/mnt/data-weather/rad_sat_mod/mod/\"+file)"
   ]
  },
  {
   "cell_type": "code",
   "execution_count": null,
   "metadata": {},
   "outputs": [],
   "source": []
  }
 ],
 "metadata": {
  "kernelspec": {
   "display_name": "Python 3",
   "language": "python",
   "name": "python3"
  },
  "language_info": {
   "codemirror_mode": {
    "name": "ipython",
    "version": 3
   },
   "file_extension": ".py",
   "mimetype": "text/x-python",
   "name": "python",
   "nbconvert_exporter": "python",
   "pygments_lexer": "ipython3",
   "version": "3.6.6"
  }
 },
 "nbformat": 4,
 "nbformat_minor": 2
}
