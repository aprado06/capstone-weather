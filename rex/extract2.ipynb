{
 "cells": [
  {
   "cell_type": "code",
   "execution_count": null,
   "metadata": {},
   "outputs": [],
   "source": [
    "import os\n",
    "from shutil import copy2"
   ]
  },
  {
   "cell_type": "code",
   "execution_count": null,
   "metadata": {},
   "outputs": [],
   "source": [
    "model = \"/mnt/data-weather/moddata/modgrb/band1236/\"\n",
    "radar = \"/mnt/data-weather/raddata/raddat/\"\n",
    "model_out = \"/mnt/data-weather/corr/mod/band1236/A/\"\n",
    "radar_out = \"/mnt/data-weather/corr/mod/band1236/B/\"\n",
    "model_dir = os.fsencode(model)\n",
    "radar_dir = os.fsencode(radar)\n",
    "for model_file in os.listdir(model_dir):\n",
    "    model_name = os.fsdecode(model_file)\n",
    "    for radar_file in os.listdir(radar_dir):\n",
    "        radar_name = os.fsdecode(radar_file)\n",
    "        if (model_name[8:15] == radar_name[10:17]):\n",
    "            print(model_name[8:15], radar_name[10:17])\n",
    "            copy2(model+model_name,model_out+model_name)\n",
    "            copy2(radar+radar_name,radar_out+radar_name)\n",
    "            break"
   ]
  },
  {
   "cell_type": "code",
   "execution_count": null,
   "metadata": {},
   "outputs": [],
   "source": [
    "model = \"/mnt/data-weather/moddata/modgrb/band1236/\"\n",
    "model_dir = os.fsencode(model)\n",
    "for model_file in os.listdir(model_dir):\n",
    "    model_name = os.fsdecode(model_file)\n",
    "    print(model_name)\n",
    "    hh = model_name[13:15]\n",
    "    bd = model_name[17]\n",
    "    if (int(hh) <= 6 and int(bd) < 6 and model_name[-1] == \"2\"):\n",
    "        out = model+model_name[0:13]+\"0\"+str(int(hh)+int(bd))+\".grb2\"\n",
    "        print(out)\n",
    "        os.rename(model+model_name,out)\n",
    "    elif (int(hh) <= 6 and int(bd) < 6 and model_name[-1] == \"b\"):\n",
    "        out = model+model_name[0:13]+\"0\"+str(int(hh)+int(bd))+\".grb\"\n",
    "        print(out)\n",
    "        os.rename(model+model_name,out)\n",
    "    elif (int(hh) < 6 and int(bd) <= 6 and model_name[-1] == \"2\"):\n",
    "        out = model+model_name[0:13]+\"0\"+str(int(hh)+int(bd))+\".grb2\"\n",
    "        print(out)\n",
    "        os.rename(model+model_name,out)\n",
    "    elif (int(hh) < 6 and int(bd) <= 6 and model_name[-1] == \"b\"):\n",
    "        out = model+model_name[0:13]+\"0\"+str(int(hh)+int(bd))+\".grb\"\n",
    "        print(out)\n",
    "        os.rename(model+model_name,out)\n",
    "    elif (int(hh) == 6 and int(bd) == 6 and model_name[-1] == \"2\"):\n",
    "        out = model+model_name[0:13]+str(int(hh)+int(bd))+\".grb2\"\n",
    "        print(out)\n",
    "        os.rename(model+model_name,out)\n",
    "    elif (int(hh) == 6 and int(bd) == 6 and model_name[-1] == \"b\"):\n",
    "        out = model+model_name[0:13]+str(int(hh)+int(bd))+\".grb\"\n",
    "        print(out)\n",
    "        os.rename(model+model_name,out)         \n",
    "    elif (int(hh) > 6 and model_name[-1] == \"2\"):\n",
    "        out = model+model_name[0:13]+str(int(hh)+int(bd))+\".grb2\"\n",
    "        print(out)\n",
    "        os.rename(model+model_name,out)\n",
    "    elif (int(hh) > 6 and model_name[-1] == \"b\"):\n",
    "        out = model+model_name[0:13]+str(int(hh)+int(bd))+\".grb\"\n",
    "        print(out)\n",
    "        os.rename(model+model_name,out)"
   ]
  },
  {
   "cell_type": "code",
   "execution_count": null,
   "metadata": {},
   "outputs": [],
   "source": []
  }
 ],
 "metadata": {
  "kernelspec": {
   "display_name": "Python 3",
   "language": "python",
   "name": "python3"
  },
  "language_info": {
   "codemirror_mode": {
    "name": "ipython",
    "version": 3
   },
   "file_extension": ".py",
   "mimetype": "text/x-python",
   "name": "python",
   "nbconvert_exporter": "python",
   "pygments_lexer": "ipython3",
   "version": "3.6.6"
  }
 },
 "nbformat": 4,
 "nbformat_minor": 2
}
