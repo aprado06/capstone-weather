{
 "cells": [
  {
   "cell_type": "code",
   "execution_count": 24,
   "metadata": {},
   "outputs": [],
   "source": [
    "import os\n",
    "from shutil import copy2"
   ]
  },
  {
   "cell_type": "code",
   "execution_count": 1,
   "metadata": {},
   "outputs": [],
   "source": [
    "path_rad = \"D:/data-weather/data_rad_npy_256x256/\"\n",
    "path_sa1 = \"D:/data-weather/data_sat_1_npy_256x256/\"\n",
    "path_sa2 = \"D:/data-weather/data_sat_2_npy_256x256/\"\n",
    "path_sa3 = \"D:/data-weather/data_sat_3_npy_256x256/\"\n",
    "path_sa4 = \"D:/data-weather/data_sat_4_npy_256x256/\"\n",
    "path_sa6 = \"D:/data-weather/data_sat_6_npy_256x256/\""
   ]
  },
  {
   "cell_type": "code",
   "execution_count": 18,
   "metadata": {},
   "outputs": [],
   "source": [
    "list_rad_mmddhh = []\n",
    "directory = os.fsencode(path_rad)\n",
    "for file in os.listdir(directory):\n",
    "    filename = os.fsdecode(file)\n",
    "    #print(filename[8:14])\n",
    "    mmddhh = filename[8:14]\n",
    "    list_rad_mmddhh.append(mmddhh)\n",
    "    \n",
    "list_sa1_mmddhh = []\n",
    "directory = os.fsencode(path_sa1)\n",
    "for file in os.listdir(directory):\n",
    "    filename = os.fsdecode(file)\n",
    "    #print(filename[8:14])\n",
    "    mmddhh = filename[8:14]\n",
    "    list_sa1_mmddhh.append(mmddhh)\n",
    "    \n",
    "list_sa2_mmddhh = []\n",
    "directory = os.fsencode(path_sa2)\n",
    "for file in os.listdir(directory):\n",
    "    filename = os.fsdecode(file)\n",
    "    #print(filename[8:14])\n",
    "    mmddhh = filename[8:14]\n",
    "    list_sa2_mmddhh.append(mmddhh)\n",
    "    \n",
    "list_sa3_mmddhh = []\n",
    "directory = os.fsencode(path_sa3)\n",
    "for file in os.listdir(directory):\n",
    "    filename = os.fsdecode(file)\n",
    "    #print(filename[8:14])\n",
    "    mmddhh = filename[8:14]\n",
    "    list_sa3_mmddhh.append(mmddhh)\n",
    "    \n",
    "list_sa4_mmddhh = []\n",
    "directory = os.fsencode(path_sa4)\n",
    "for file in os.listdir(directory):\n",
    "    filename = os.fsdecode(file)\n",
    "    #print(filename[8:14])\n",
    "    mmddhh = filename[8:14]\n",
    "    list_sa4_mmddhh.append(mmddhh)\n",
    "    \n",
    "list_sa6_mmddhh = []\n",
    "directory = os.fsencode(path_sa6)\n",
    "for file in os.listdir(directory):\n",
    "    filename = os.fsdecode(file)\n",
    "    #print(filename[8:14])\n",
    "    mmddhh = filename[8:14]\n",
    "    list_sa6_mmddhh.append(mmddhh)"
   ]
  },
  {
   "cell_type": "code",
   "execution_count": 19,
   "metadata": {},
   "outputs": [
    {
     "name": "stdout",
     "output_type": "stream",
     "text": [
      "7857\n",
      "1840\n",
      "1842\n",
      "1844\n",
      "1839\n",
      "1812\n",
      "010100\n",
      "010214\n",
      "010214\n",
      "010214\n",
      "010214\n",
      "010214\n"
     ]
    }
   ],
   "source": [
    "print(len(list_rad_mmddhh))\n",
    "print(len(list_sa1_mmddhh))\n",
    "print(len(list_sa2_mmddhh))\n",
    "print(len(list_sa3_mmddhh))\n",
    "print(len(list_sa4_mmddhh))\n",
    "print(len(list_sa6_mmddhh))\n",
    "\n",
    "print(list_rad_mmddhh[0])\n",
    "print(list_sa1_mmddhh[0])\n",
    "print(list_sa2_mmddhh[0])\n",
    "print(list_sa3_mmddhh[0])\n",
    "print(list_sa4_mmddhh[0])\n",
    "print(list_sa6_mmddhh[0])"
   ]
  },
  {
   "cell_type": "code",
   "execution_count": 21,
   "metadata": {},
   "outputs": [
    {
     "name": "stdout",
     "output_type": "stream",
     "text": [
      "1779\n",
      "1775\n",
      "1773\n",
      "1766\n",
      "1734\n"
     ]
    }
   ],
   "source": [
    "list_rad_sa1 = []\n",
    "for file_1 in list_rad_mmddhh:\n",
    "    for file_2 in list_sa1_mmddhh:\n",
    "        if (file_1 == file_2):\n",
    "            list_rad_sa1.append(file_1)\n",
    "            break\n",
    "print(len(list_rad_sa1))\n",
    "\n",
    "list_rad_sa1_sa2 = []\n",
    "for file_1 in list_rad_sa1:\n",
    "    for file_2 in list_sa2_mmddhh:\n",
    "        if (file_1 == file_2):\n",
    "            list_rad_sa1_sa2.append(file_1)\n",
    "            break\n",
    "print(len(list_rad_sa1_sa2))\n",
    "\n",
    "list_rad_sa1_sa2_sa3 = []\n",
    "for file_1 in list_rad_sa1_sa2:\n",
    "    for file_2 in list_sa3_mmddhh:\n",
    "        if (file_1 == file_2):\n",
    "            list_rad_sa1_sa2_sa3.append(file_1)\n",
    "            break\n",
    "print(len(list_rad_sa1_sa2_sa3))\n",
    "\n",
    "list_rad_sa1_sa2_sa3_sa4 = []\n",
    "for file_1 in list_rad_sa1_sa2_sa3:\n",
    "    for file_2 in list_sa4_mmddhh:\n",
    "        if (file_1 == file_2):\n",
    "            list_rad_sa1_sa2_sa3_sa4.append(file_1)\n",
    "            break\n",
    "print(len(list_rad_sa1_sa2_sa3_sa4))\n",
    "\n",
    "list_rad_sa1_sa2_sa3_sa4_sa6 = []\n",
    "for file_1 in list_rad_sa1_sa2_sa3_sa4:\n",
    "    for file_2 in list_sa6_mmddhh:\n",
    "        if (file_1 == file_2):\n",
    "            list_rad_sa1_sa2_sa3_sa4_sa6.append(file_1)\n",
    "            break\n",
    "print(len(list_rad_sa1_sa2_sa3_sa4_sa6))"
   ]
  },
  {
   "cell_type": "code",
   "execution_count": 23,
   "metadata": {},
   "outputs": [
    {
     "name": "stdout",
     "output_type": "stream",
     "text": [
      "010214\n"
     ]
    }
   ],
   "source": [
    "print(list_rad_sa1_sa2_sa3_sa4_sa6[0])"
   ]
  },
  {
   "cell_type": "code",
   "execution_count": 27,
   "metadata": {},
   "outputs": [],
   "source": [
    "path_satyam_rad = \"D:/data-weather/member_satyam/satyam_rad_sat_npy/rad_npy/\"\n",
    "path_satyam_sa1 = \"D:/data-weather/member_satyam/satyam_rad_sat_npy/sa1_npy/\"\n",
    "path_satyam_sa2 = \"D:/data-weather/member_satyam/satyam_rad_sat_npy/sa2_npy/\"\n",
    "path_satyam_sa3 = \"D:/data-weather/member_satyam/satyam_rad_sat_npy/sa3_npy/\"\n",
    "path_satyam_sa4 = \"D:/data-weather/member_satyam/satyam_rad_sat_npy/sa4_npy/\"\n",
    "path_satyam_sa6 = \"D:/data-weather/member_satyam/satyam_rad_sat_npy/sa6_npy/\"\n",
    "for mmddhh in list_rad_sa1_sa2_sa3_sa4_sa6:\n",
    "    copy2(path_rad+\"rad.2017\"+mmddhh+\".npy\",path_satyam_rad+\"rad.2017\"+mmddhh+\".npy\")\n",
    "    copy2(path_sa1+\"sat.2017\"+mmddhh+\".npy\",path_satyam_sa1+\"sat.2017\"+mmddhh+\".npy\")\n",
    "    copy2(path_sa2+\"sat.2017\"+mmddhh+\".npy\",path_satyam_sa2+\"sat.2017\"+mmddhh+\".npy\")\n",
    "    copy2(path_sa3+\"sat.2017\"+mmddhh+\".npy\",path_satyam_sa3+\"sat.2017\"+mmddhh+\".npy\")\n",
    "    copy2(path_sa4+\"sat.2017\"+mmddhh+\".npy\",path_satyam_sa4+\"sat.2017\"+mmddhh+\".npy\")\n",
    "    copy2(path_sa6+\"sat.2017\"+mmddhh+\".npy\",path_satyam_sa6+\"sat.2017\"+mmddhh+\".npy\")"
   ]
  },
  {
   "cell_type": "code",
   "execution_count": null,
   "metadata": {},
   "outputs": [],
   "source": []
  }
 ],
 "metadata": {
  "kernelspec": {
   "display_name": "Python 3",
   "language": "python",
   "name": "python3"
  },
  "language_info": {
   "codemirror_mode": {
    "name": "ipython",
    "version": 3
   },
   "file_extension": ".py",
   "mimetype": "text/x-python",
   "name": "python",
   "nbconvert_exporter": "python",
   "pygments_lexer": "ipython3",
   "version": "3.7.0"
  }
 },
 "nbformat": 4,
 "nbformat_minor": 2
}
