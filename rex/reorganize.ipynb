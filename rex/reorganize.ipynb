{
 "cells": [
  {
   "cell_type": "code",
   "execution_count": null,
   "metadata": {},
   "outputs": [],
   "source": [
    "import os"
   ]
  },
  {
   "cell_type": "code",
   "execution_count": null,
   "metadata": {},
   "outputs": [],
   "source": [
    "for i in range(0, len(sa1_256)):\n",
    "    if (int(sa1_256[i][13:15]) == 23 and int(sa1_256[i+1][13:15])+1 == 0):\n",
    "        os.rename(path_in+sa1_256[i], path_out+folder+\"/\"+sa1_256[i])\n",
    "    elif (int(sa1_256[i][13:15])+1 == int(sa1_256[i+1][13:15])):\n",
    "        os.rename(path_in+sa1_256[i], path_out+folder+\"/\"+sa1_256[i])\n",
    "    else:\n",
    "        os.rename(path_in+sa1_256[i], path_out+folder+\"/\"+sa1_256[i])\n",
    "        break"
   ]
  },
  {
   "cell_type": "code",
   "execution_count": null,
   "metadata": {},
   "outputs": [],
   "source": [
    "path_in = \"/mnt/data-weather/rad_sat/rad_sat12346/radpng/\"\n",
    "directory = os.fsencode(path_in)\n",
    "sa1_256 = []\n",
    "for file in os.listdir(directory):\n",
    "    filename = os.fsdecode(file)\n",
    "    sa1_256.append(filename)\n",
    "sa1_256.sort()"
   ]
  },
  {
   "cell_type": "code",
   "execution_count": null,
   "metadata": {},
   "outputs": [],
   "source": [
    "print(sa1_256[0])"
   ]
  },
  {
   "cell_type": "code",
   "execution_count": null,
   "metadata": {},
   "outputs": [],
   "source": [
    "import time"
   ]
  },
  {
   "cell_type": "code",
   "execution_count": null,
   "metadata": {},
   "outputs": [],
   "source": [
    "path_out = \"/mnt/data-weather/rad_sat/try_1/train_A/\"\n",
    "folder = \"000\"\n",
    "for i in range(300):\n",
    "    folder = int(folder)\n",
    "    if (folder <= 9):\n",
    "        folder = \"00\" + str(folder)\n",
    "    elif (folder <= 99):\n",
    "        folder = \"0\" + str(folder)\n",
    "    else:\n",
    "        folder = str(folder)\n",
    "    os.makedirs(path_out+folder+\"/\")\n",
    "    folder = int(folder) + 1"
   ]
  },
  {
   "cell_type": "code",
   "execution_count": null,
   "metadata": {},
   "outputs": [],
   "source": [
    "temp = \"000\"\n",
    "i = 0\n",
    "folder = int(temp)\n",
    "path_in = \"/mnt/data-weather/rad_sat/try_1/sa1_256x128/\"\n",
    "path_out = \"/mnt/data-weather/rad_sat/try_1/train_A/\"\n",
    "directory = os.fsencode(path_in)\n",
    "\n",
    "while (i < 500):\n",
    "    if (folder <= 9):\n",
    "        folder = \"00\" + str(folder)\n",
    "    elif (folder <= 99):\n",
    "        folder = \"0\" + str(folder)\n",
    "    else:\n",
    "        folder = str(folder)\n",
    "\n",
    "    sa1_256 = []\n",
    "    for file in os.listdir(directory):\n",
    "        filename = os.fsdecode(file)\n",
    "        sa1_256.append(filename)\n",
    "    sa1_256.sort()\n",
    " \n",
    "    for i in range(0, len(sa1_256)):\n",
    "        if (int(sa1_256[i][13:15]) == 23 and int(sa1_256[i+1][13:15])+1 == 0):\n",
    "            os.rename(path_in+sa1_256[i], path_out+folder+\"/\"+sa1_256[i])\n",
    "        elif (int(sa1_256[i][13:15])+1 == int(sa1_256[i+1][13:15])):\n",
    "            os.rename(path_in+sa1_256[i], path_out+folder+\"/\"+sa1_256[i])\n",
    "        else:\n",
    "            os.rename(path_in+sa1_256[i], path_out+folder+\"/\"+sa1_256[i])\n",
    "            break\n",
    "\n",
    "    i = i + 1\n",
    "    folder = int(folder)\n",
    "    folder = folder + 1\n",
    "print(folder)"
   ]
  },
  {
   "cell_type": "code",
   "execution_count": null,
   "metadata": {},
   "outputs": [],
   "source": [
    "folder = \"000\"\n",
    "i = 0\n",
    "temp = int(folder)\n",
    "while (i < 500):\n",
    "    if (temp <= 9):\n",
    "        folder = \"00\" + str(temp)\n",
    "    elif (temp <= 99):\n",
    "        folder = \"0\" + str(temp)\n",
    "    else:\n",
    "        folder = str(temp)\n",
    "    \n",
    "    print(folder)\n",
    "    #os.makedirs(\"/mnt/data-weather/rad_sat/rad_sat12346/\"+folder+\"/\")\n",
    "    #time.sleep(0.5)\n",
    "    os.makedirs(\"/mnt/data-weather/rad_sat/rad_sat12346/\"+folder+\"/A/sa1_256/\")\n",
    "    os.makedirs(\"/mnt/data-weather/rad_sat/rad_sat12346/\"+folder+\"/A/sa2_256/\")\n",
    "    os.makedirs(\"/mnt/data-weather/rad_sat/rad_sat12346/\"+folder+\"/A/sa3_256/\")\n",
    "    os.makedirs(\"/mnt/data-weather/rad_sat/rad_sat12346/\"+folder+\"/A/sa4_256/\")\n",
    "    os.makedirs(\"/mnt/data-weather/rad_sat/rad_sat12346/\"+folder+\"/A/sa6_256/\")\n",
    "    \n",
    "    #os.makedirs(\"/mnt/data-weather/rad_sat/rad_sat12346/\"+folder+\"/B/\")\n",
    "    temp = temp + 1\n",
    "    i = i + 1"
   ]
  },
  {
   "cell_type": "code",
   "execution_count": null,
   "metadata": {},
   "outputs": [],
   "source": []
  }
 ],
 "metadata": {
  "kernelspec": {
   "display_name": "Python 3",
   "language": "python",
   "name": "python3"
  },
  "language_info": {
   "codemirror_mode": {
    "name": "ipython",
    "version": 3
   },
   "file_extension": ".py",
   "mimetype": "text/x-python",
   "name": "python",
   "nbconvert_exporter": "python",
   "pygments_lexer": "ipython3",
   "version": "3.6.6"
  }
 },
 "nbformat": 4,
 "nbformat_minor": 2
}
