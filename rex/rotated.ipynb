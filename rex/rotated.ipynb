{
 "cells": [
  {
   "cell_type": "code",
   "execution_count": null,
   "metadata": {},
   "outputs": [],
   "source": [
    "import os\n",
    "from shutil import copy2"
   ]
  },
  {
   "cell_type": "code",
   "execution_count": null,
   "metadata": {},
   "outputs": [],
   "source": [
    "path = \"D:data-weather/member_satyam/satyam_rad_sat_npy/rad_npy/\"\n",
    "directory = os.fsencode(path)\n",
    "list_corr = []\n",
    "for file in os.listdir(directory):\n",
    "    filename = os.fsdecode(file)\n",
    "    list_corr.append(filename[4:14]+\"_0.png\")\n",
    "    list_corr.append(filename[4:14]+\"_1.png\")\n",
    "    list_corr.append(filename[4:14]+\"_2.png\")\n",
    "    list_corr.append(filename[4:14]+\"_3.png\")"
   ]
  },
  {
   "cell_type": "code",
   "execution_count": null,
   "metadata": {},
   "outputs": [],
   "source": [
    "print(len(list_corr))\n",
    "print(list_corr[0][0:12])"
   ]
  },
  {
   "cell_type": "code",
   "execution_count": null,
   "metadata": {},
   "outputs": [],
   "source": [
    "path_in = \"D:data-weather/data_rad_png_256x256/\"\n",
    "path_out = \"D:/data-weather/member_sami/sami_rotated/B/\"\n",
    "for file in list_corr:\n",
    "    copy2(path_in+\"rad.\"+file, path_out+file[0:12]+\"B.png\")"
   ]
  },
  {
   "cell_type": "code",
   "execution_count": null,
   "metadata": {},
   "outputs": [],
   "source": [
    "path_in = \"D:data-weather/data_sat_1_png_256x256/\"\n",
    "path_out = \"D:/data-weather/member_sami/sami_rotated/A/\"\n",
    "for file in list_corr:\n",
    "    copy2(path_in+\"sat.\"+file, path_out+file[0:12]+\"A1.png\")"
   ]
  },
  {
   "cell_type": "code",
   "execution_count": null,
   "metadata": {},
   "outputs": [],
   "source": [
    "path_in = \"D:data-weather/data_sat_2_png_256x256/\"\n",
    "path_out = \"D:/data-weather/member_sami/sami_rotated/A/\"\n",
    "for file in list_corr:\n",
    "    copy2(path_in+\"sat.\"+file, path_out+file[0:12]+\"A2.png\")"
   ]
  },
  {
   "cell_type": "code",
   "execution_count": null,
   "metadata": {},
   "outputs": [],
   "source": [
    "path_in = \"D:data-weather/data_sat_3_png_256x256/\"\n",
    "path_out = \"D:/data-weather/member_sami/sami_rotated/A/\"\n",
    "for file in list_corr:\n",
    "    copy2(path_in+\"sat.\"+file, path_out+file[0:12]+\"A3.png\")"
   ]
  },
  {
   "cell_type": "code",
   "execution_count": null,
   "metadata": {},
   "outputs": [],
   "source": [
    "path_in = \"D:data-weather/data_sat_4_png_256x256/\"\n",
    "path_out = \"D:/data-weather/member_sami/sami_rotated/A/\"\n",
    "for file in list_corr:\n",
    "    copy2(path_in+\"sat.\"+file, path_out+file[0:12]+\"A4.png\")"
   ]
  },
  {
   "cell_type": "code",
   "execution_count": null,
   "metadata": {},
   "outputs": [],
   "source": [
    "path_in = \"D:data-weather/data_sat_6_png_256x256/\"\n",
    "path_out = \"D:/data-weather/member_sami/sami_rotated/A/\"\n",
    "for file in list_corr:\n",
    "    copy2(path_in+\"sat.\"+file, path_out+file[0:12]+\"A5.png\")"
   ]
  },
  {
   "cell_type": "code",
   "execution_count": null,
   "metadata": {},
   "outputs": [],
   "source": []
  }
 ],
 "metadata": {
  "kernelspec": {
   "display_name": "Python 3",
   "language": "python",
   "name": "python3"
  },
  "language_info": {
   "codemirror_mode": {
    "name": "ipython",
    "version": 3
   },
   "file_extension": ".py",
   "mimetype": "text/x-python",
   "name": "python",
   "nbconvert_exporter": "python",
   "pygments_lexer": "ipython3",
   "version": "3.7.0"
  }
 },
 "nbformat": 4,
 "nbformat_minor": 2
}
