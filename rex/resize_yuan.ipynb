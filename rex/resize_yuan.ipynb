{
 "cells": [
  {
   "cell_type": "code",
   "execution_count": null,
   "metadata": {},
   "outputs": [],
   "source": [
    "import os\n",
    "from PIL import Image"
   ]
  },
  {
   "cell_type": "code",
   "execution_count": null,
   "metadata": {},
   "outputs": [],
   "source": [
    "path = \"D:data-weather/member_yuan/rad_sa2_2080x1040/yuan_png_2080x1040/train_A/\"\n",
    "size = (2048,1024)\n",
    "folder_list = [\"001/\", \"020/\", \"032/\", \"033/\", \"067/\", \"080/\", \"102/\", \"107/\", \"132/\", \"139/\", \"142/\"]\n",
    "for folder in folder_list:\n",
    "    directory = os.fsencode(path+folder)\n",
    "    for file in os.listdir(directory):\n",
    "        filename = os.fsdecode(file)\n",
    "        im = Image.open(path+folder+filename)\n",
    "        im = im.resize(size,Image.ANTIALIAS)\n",
    "        im.save(path+folder+filename)"
   ]
  },
  {
   "cell_type": "code",
   "execution_count": null,
   "metadata": {},
   "outputs": [],
   "source": [
    "path = \"D:data-weather/member_yuan/rad_sa2_2080x1040/yuan_png_2080x1040/train_B/\"\n",
    "size = (2048,1024)\n",
    "folder_list = [\"001/\", \"020/\", \"032/\", \"033/\", \"067/\", \"080/\", \"102/\", \"107/\", \"132/\", \"139/\", \"142/\"]\n",
    "for folder in folder_list:\n",
    "    directory = os.fsencode(path+folder)\n",
    "    for file in os.listdir(directory):\n",
    "        filename = os.fsdecode(file)\n",
    "        im = Image.open(path+folder+filename)\n",
    "        im = im.resize(size,Image.ANTIALIAS)\n",
    "        im.save(path+folder+filename)"
   ]
  },
  {
   "cell_type": "code",
   "execution_count": null,
   "metadata": {},
   "outputs": [],
   "source": []
  }
 ],
 "metadata": {
  "kernelspec": {
   "display_name": "Python 3",
   "language": "python",
   "name": "python3"
  },
  "language_info": {
   "codemirror_mode": {
    "name": "ipython",
    "version": 3
   },
   "file_extension": ".py",
   "mimetype": "text/x-python",
   "name": "python",
   "nbconvert_exporter": "python",
   "pygments_lexer": "ipython3",
   "version": "3.7.0"
  }
 },
 "nbformat": 4,
 "nbformat_minor": 2
}
