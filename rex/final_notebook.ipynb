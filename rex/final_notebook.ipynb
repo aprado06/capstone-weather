{
 "cells": [
  {
   "cell_type": "code",
   "execution_count": 66,
   "metadata": {},
   "outputs": [],
   "source": [
    "import os\n",
    "from shutil import copy2\n",
    "import numpy as np\n",
    "import matplotlib.pyplot as plt\n",
    "import pygrib\n",
    "from mpl_toolkits.basemap import Basemap"
   ]
  },
  {
   "cell_type": "code",
   "execution_count": 7,
   "metadata": {},
   "outputs": [],
   "source": [
    "# list of paths to all the data that needs to be correlated\n",
    "mod_path = \"/mnt/data-weather/corr/mod/band0/modgrb/\"\n",
    "rad_path = \"/mnt/data-weather/corr/mod/band0/raddat/\"\n",
    "sa2_path = \"/mnt/data-weather/corr/sat/band2/\"\n",
    "sa6_path = \"/mnt/data-weather/corr/sat/band6/\""
   ]
  },
  {
   "cell_type": "code",
   "execution_count": 28,
   "metadata": {},
   "outputs": [],
   "source": [
    "mod_filenames = []\n",
    "rad_filenames = []\n",
    "sa2_filenames = []\n",
    "sa6_filenames = []\n",
    "\n",
    "directory = os.fsencode(mod_path)\n",
    "for file in os.listdir(directory):\n",
    "    filename = os.fsdecode(file)\n",
    "    mod_filenames.append(filename)\n",
    "\n",
    "directory = os.fsencode(rad_path)\n",
    "for file in os.listdir(directory):\n",
    "    filename = os.fsdecode(file)\n",
    "    rad_filenames.append(filename)\n",
    "\n",
    "directory = os.fsencode(sa2_path)\n",
    "for file in os.listdir(directory):\n",
    "    filename = os.fsdecode(file)\n",
    "    sa2_filenames.append(filename)\n",
    "    \n",
    "directory = os.fsencode(sa6_path)\n",
    "for file in os.listdir(directory):\n",
    "    filename = os.fsdecode(file)\n",
    "    sa6_filenames.append(filename)"
   ]
  },
  {
   "cell_type": "code",
   "execution_count": 29,
   "metadata": {},
   "outputs": [
    {
     "name": "stdout",
     "output_type": "stream",
     "text": [
      "nam.20171204.06.00.grb2\n",
      "sat.20171106.03.02.nc\n",
      "sat.20170930.10.06.nc\n",
      "rad.20171214.00.dat\n"
     ]
    }
   ],
   "source": [
    "print(mod_filenames[0])\n",
    "print(sa2_filenames[0])\n",
    "print(sa6_filenames[0])\n",
    "print(rad_filenames[0])"
   ]
  },
  {
   "cell_type": "code",
   "execution_count": 35,
   "metadata": {},
   "outputs": [
    {
     "name": "stdout",
     "output_type": "stream",
     "text": [
      "1294\n",
      "1780\n",
      "1752\n",
      "1294\n"
     ]
    }
   ],
   "source": [
    "mod_corr = []\n",
    "sa2_corr = []\n",
    "sa6_corr = []\n",
    "rad_corr = []\n",
    "\n",
    "temp = []\n",
    "\n",
    "print(len(mod_filenames))\n",
    "print(len(sa2_filenames))\n",
    "print(len(sa6_filenames))\n",
    "print(len(rad_filenames))\n",
    "\n",
    "for sa2 in sa2_filenames:\n",
    "    for rad in rad_filenames:\n",
    "        if (rad[8:15]==sa2[8:15]):\n",
    "            temp.append(rad)\n",
    "            break"
   ]
  },
  {
   "cell_type": "code",
   "execution_count": 36,
   "metadata": {},
   "outputs": [],
   "source": [
    "temp2 = []\n",
    "for sa6 in sa6_filenames:\n",
    "    for t in temp:\n",
    "        if (t[8:15]==sa6[8:15]):\n",
    "            temp2.append(t)\n",
    "            break"
   ]
  },
  {
   "cell_type": "code",
   "execution_count": 42,
   "metadata": {},
   "outputs": [],
   "source": [
    "#print(temp2)\n",
    "mod_corr = []\n",
    "sa2_corr = []\n",
    "sa6_corr = []\n",
    "rad_corr = []\n",
    "for t in temp2:\n",
    "    for mod in mod_filenames:\n",
    "        if (t[8:15]==mod[8:15]):\n",
    "            mod_corr.append(mod)\n",
    "    for sa2 in sa2_filenames:\n",
    "        if (t[8:15]==sa2[8:15]):\n",
    "            sa2_corr.append(sa2)\n",
    "    for sa6 in sa6_filenames:\n",
    "        if (t[8:15]==sa6[8:15]):\n",
    "            sa6_corr.append(sa6)\n",
    "    for rad in rad_filenames:\n",
    "        if (t[8:15]==rad[8:15]):\n",
    "            rad_corr.append(rad)"
   ]
  },
  {
   "cell_type": "code",
   "execution_count": 44,
   "metadata": {},
   "outputs": [
    {
     "name": "stdout",
     "output_type": "stream",
     "text": [
      "292 292 292 292\n",
      "nam.20170930.12.00.grb2\n"
     ]
    }
   ],
   "source": [
    "print(len(mod_corr), len(sa2_corr), len(sa6_corr), len(rad_corr))\n",
    "print(mod_corr[0])"
   ]
  },
  {
   "cell_type": "code",
   "execution_count": 50,
   "metadata": {},
   "outputs": [],
   "source": [
    "new_mod = \"/mnt/data-weather/final/mod/\"\n",
    "new_sa2 = \"/mnt/data-weather/final/sa2/\"\n",
    "new_sa6 = \"/mnt/data-weather/final/sa6/\"\n",
    "new_rad = \"/mnt/data-weather/final/rad/\"\n",
    "\n",
    "for mod in mod_corr:\n",
    "    copy2(mod_path+mod,new_mod+mod)\n",
    "\n",
    "for sa2 in sa2_corr:\n",
    "    copy2(sa2_path+sa2,new_sa2+sa2)\n",
    "    \n",
    "for sa6 in sa6_corr:\n",
    "    copy2(sa6_path+sa6,new_sa6+sa6)\n",
    "    \n",
    "for rad in rad_corr:\n",
    "    copy2(rad_path+rad,new_rad+rad)"
   ]
  },
  {
   "cell_type": "code",
   "execution_count": 58,
   "metadata": {},
   "outputs": [],
   "source": [
    "# radar data to radar png \n",
    "path = \"/mnt/data-weather/final/rad/\"\n",
    "out = \"/mnt/data-weather/final/radpng/\"\n",
    "directory = os.fsencode(path)\n",
    "dims = (126,201)\n",
    "for file in os.listdir(directory):\n",
    "    filename = os.fsdecode(file)\n",
    "    newname = out+filename[0:15]+\".png\"\n",
    "    #print(newname)\n",
    "    data = np.fromfile(path+filename,dtype='int16',count=-1,sep='') # 2 byte integers\n",
    "    data = np.reshape(data,dims)\n",
    "    fig = plt.figure(figsize=(9,9))\n",
    "    plt.axis('off')\n",
    "    plt.imshow(data, cmap='gray', origin='lower')\n",
    "    fig.savefig(newname,bbox_inches='tight',pad_inches=-0.36)\n",
    "    plt.close(fig)"
   ]
  },
  {
   "cell_type": "code",
   "execution_count": null,
   "metadata": {},
   "outputs": [
    {
     "name": "stdout",
     "output_type": "stream",
     "text": [
      "/mnt/data-weather/final/modpng/RH/nam.20170719.18.00.RH.png\n",
      "/mnt/data-weather/final/modpng/RH/nam.20170720.00.00.RH.png\n",
      "/mnt/data-weather/final/modpng/RH/nam.20170721.00.00.RH.png\n",
      "/mnt/data-weather/final/modpng/RH/nam.20170721.06.00.RH.png\n",
      "/mnt/data-weather/final/modpng/RH/nam.20170721.18.00.RH.png\n",
      "/mnt/data-weather/final/modpng/RH/nam.20170722.00.00.RH.png\n",
      "/mnt/data-weather/final/modpng/RH/nam.20170722.06.00.RH.png\n",
      "/mnt/data-weather/final/modpng/RH/nam.20170726.00.00.RH.png\n",
      "/mnt/data-weather/final/modpng/RH/nam.20170726.06.00.RH.png\n",
      "/mnt/data-weather/final/modpng/RH/nam.20170809.00.00.RH.png\n",
      "/mnt/data-weather/final/modpng/RH/nam.20170809.06.00.RH.png\n",
      "/mnt/data-weather/final/modpng/RH/nam.20170809.12.00.RH.png\n",
      "/mnt/data-weather/final/modpng/RH/nam.20170809.18.00.RH.png\n",
      "/mnt/data-weather/final/modpng/RH/nam.20170810.00.00.RH.png\n",
      "/mnt/data-weather/final/modpng/RH/nam.20170810.06.00.RH.png\n",
      "/mnt/data-weather/final/modpng/RH/nam.20170816.18.00.RH.png\n",
      "/mnt/data-weather/final/modpng/RH/nam.20170817.00.00.RH.png\n",
      "/mnt/data-weather/final/modpng/RH/nam.20170818.18.00.RH.png\n",
      "/mnt/data-weather/final/modpng/RH/nam.20170819.00.00.RH.png\n",
      "/mnt/data-weather/final/modpng/RH/nam.20170822.18.00.RH.png\n",
      "/mnt/data-weather/final/modpng/RH/nam.20170823.00.00.RH.png\n",
      "/mnt/data-weather/final/modpng/RH/nam.20170823.18.00.RH.png\n",
      "/mnt/data-weather/final/modpng/RH/nam.20170824.00.00.RH.png\n",
      "/mnt/data-weather/final/modpng/RH/nam.20170824.06.00.RH.png\n",
      "/mnt/data-weather/final/modpng/RH/nam.20170824.12.00.RH.png\n",
      "/mnt/data-weather/final/modpng/RH/nam.20170824.18.00.RH.png\n",
      "/mnt/data-weather/final/modpng/RH/nam.20170825.00.00.RH.png\n",
      "/mnt/data-weather/final/modpng/RH/nam.20170825.06.00.RH.png\n",
      "/mnt/data-weather/final/modpng/RH/nam.20170825.12.00.RH.png\n",
      "/mnt/data-weather/final/modpng/RH/nam.20170825.18.00.RH.png\n",
      "/mnt/data-weather/final/modpng/RH/nam.20170826.00.00.RH.png\n",
      "/mnt/data-weather/final/modpng/RH/nam.20170826.06.00.RH.png\n",
      "/mnt/data-weather/final/modpng/RH/nam.20170826.18.00.RH.png\n",
      "/mnt/data-weather/final/modpng/RH/nam.20170901.18.00.RH.png\n",
      "/mnt/data-weather/final/modpng/RH/nam.20170902.00.00.RH.png\n",
      "/mnt/data-weather/final/modpng/RH/nam.20170904.18.00.RH.png\n",
      "/mnt/data-weather/final/modpng/RH/nam.20170905.00.00.RH.png\n",
      "/mnt/data-weather/final/modpng/RH/nam.20170905.06.00.RH.png\n",
      "/mnt/data-weather/final/modpng/RH/nam.20170905.18.00.RH.png\n",
      "/mnt/data-weather/final/modpng/RH/nam.20170906.00.00.RH.png\n"
     ]
    }
   ],
   "source": [
    "path = \"/mnt/data-weather/final/mod/\"\n",
    "out = \"/mnt/data-weather/final/modpng/RH/\"\n",
    "directory = os.fsencode(path)\n",
    "feature = \"Relative humidity\"\n",
    "m = Basemap(projection='mill',\n",
    "            llcrnrlon=-102.0,\n",
    "            urcrnrlon=-82.0,\n",
    "            llcrnrlat=31.0,\n",
    "            urcrnrlat=41.0,\n",
    "            resolution='l')\n",
    "rex = 0\n",
    "for file in os.listdir(directory):\n",
    "    filename = os.fsdecode(file)\n",
    "    newname = out+filename[0:18]+\".RH.png\"\n",
    "    print(newname)\n",
    "    grbs = pygrib.open(path+filename)\n",
    "    grb = grbs.select(name=feature)[0]\n",
    "    grbs.close()\n",
    "    data = grb.values\n",
    "    if (rex == 0):\n",
    "        lat, lon = grb.latlons()\n",
    "        x, y = m(lon,lat)\n",
    "        rex += 1\n",
    "    plt.figure(figsize=(9,9))\n",
    "    m.pcolormesh(x,y,data,shading='flat',cmap=\"gray\")\n",
    "    plt.savefig(newname, bbox_inches=\"tight\", pad_inches=-0.1)\n",
    "    plt.clf()\n",
    "    plt.close()"
   ]
  },
  {
   "cell_type": "code",
   "execution_count": 27,
   "metadata": {},
   "outputs": [],
   "source": [
    "# fixing the radar directory filenames\n",
    "directory = os.fsencode(rad_path)\n",
    "for file in os.listdir(directory):\n",
    "    filename = os.fsdecode(file)\n",
    "    newname = \"rad.2017\"+filename[14:]\n",
    "    #print(filename)\n",
    "    #print(newname)\n",
    "    #os.rename(rad_path+filename,rad_path+newname)"
   ]
  },
  {
   "cell_type": "code",
   "execution_count": null,
   "metadata": {},
   "outputs": [],
   "source": []
  }
 ],
 "metadata": {
  "kernelspec": {
   "display_name": "Python 3",
   "language": "python",
   "name": "python3"
  },
  "language_info": {
   "codemirror_mode": {
    "name": "ipython",
    "version": 3
   },
   "file_extension": ".py",
   "mimetype": "text/x-python",
   "name": "python",
   "nbconvert_exporter": "python",
   "pygments_lexer": "ipython3",
   "version": "3.6.6"
  }
 },
 "nbformat": 4,
 "nbformat_minor": 2
}
