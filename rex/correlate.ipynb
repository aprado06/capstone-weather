{
 "cells": [
  {
   "cell_type": "code",
   "execution_count": 14,
   "metadata": {},
   "outputs": [],
   "source": [
    "import os\n",
    "from shutil import copy2"
   ]
  },
  {
   "cell_type": "code",
   "execution_count": 15,
   "metadata": {},
   "outputs": [],
   "source": [
    "path_to_correlate = \"/mnt/data-weather/correlate/\"\n",
    "path_to_rad = \"/mnt/data-weather/raddata/\" # every hour of 2017\n",
    "path_to_sat = \"/mnt/data-weather/satdata/\" # every 30 minutes of 2017\n",
    "path_to_mod = \"/mnt/data-weather/moddata/\" # 1800-2400 UTC every hour of 2017 (more will come later)\n",
    "rad_dir = os.fsencode(path_to_rad)\n",
    "hour = [\"18\", \"19\", \"20\", \"21\", \"22\", \"23\"]\n",
    "list_for_rad = []\n",
    "list_for_sat = []\n",
    "list_for_mod = []\n",
    "for file in os.listdir(rad_dir):\n",
    "    filename = os.fsdecode(file)\n",
    "    if (int(filename[-6:-4]) >= 18):\n",
    "        copy2(path_to_rad + filename, path_to_correlate + \"raddata\")\n",
    "#for file in list_for_rad:\n",
    "   # print(file)"
   ]
  },
  {
   "cell_type": "code",
   "execution_count": null,
   "metadata": {},
   "outputs": [],
   "source": []
  }
 ],
 "metadata": {
  "kernelspec": {
   "display_name": "Python 3",
   "language": "python",
   "name": "python3"
  },
  "language_info": {
   "codemirror_mode": {
    "name": "ipython",
    "version": 3
   },
   "file_extension": ".py",
   "mimetype": "text/x-python",
   "name": "python",
   "nbconvert_exporter": "python",
   "pygments_lexer": "ipython3",
   "version": "3.6.5"
  }
 },
 "nbformat": 4,
 "nbformat_minor": 2
}
