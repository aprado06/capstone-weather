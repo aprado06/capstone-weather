{
 "cells": [
  {
   "cell_type": "code",
   "execution_count": null,
   "metadata": {},
   "outputs": [],
   "source": [
    "import os\n",
    "from shutil import copy2\n",
    "from shutil import move"
   ]
  },
  {
   "cell_type": "code",
   "execution_count": null,
   "metadata": {},
   "outputs": [],
   "source": [
    "path_to_correlate = \"/mnt/data-weather/correlate/\"\n",
    "path_to_rad = \"/mnt/data-weather/raddata/\" # every hour of 2017\n",
    "path_to_sat = \"/mnt/data-weather/satdata/\" # every 30 minutes of 2017\n",
    "path_to_mod = \"/mnt/data-weather/moddata/\" # 1800-2400 UTC every hour of 2017 (more will come later)\n",
    "rad_dir = os.fsencode(path_to_rad)\n",
    "sat_dir = os.fsencode(path_to_sat)\n",
    "hour = [\"18\", \"19\", \"20\", \"21\", \"22\", \"23\"]"
   ]
  },
  {
   "cell_type": "code",
   "execution_count": null,
   "metadata": {},
   "outputs": [],
   "source": [
    "#code used to move radar data into new dir\n",
    "for file in os.listdir(rad_dir):\n",
    "    filename = os.fsdecode(file)\n",
    "    if (int(filename[-6:-4]) >= 18): # the part of the name that contains the hours\n",
    "        copy2(path_to_rad + filename, path_to_correlate + \"raddata\")\n",
    "        #print(filename)"
   ]
  },
  {
   "cell_type": "code",
   "execution_count": null,
   "metadata": {},
   "outputs": [],
   "source": [
    "#code used to move band1 elsewhere\n",
    "for file in os.listdir(sat_dir):\n",
    "    filename = os.fsdecode(file)\n",
    "    if (filename[-4] == \"1\"): # the part of the name that contains the band\n",
    "        move(path_to_sat + filename, path_to_sat + \"band1/\" + filename)\n",
    "        #print(filename)"
   ]
  },
  {
   "cell_type": "code",
   "execution_count": null,
   "metadata": {},
   "outputs": [],
   "source": [
    "#code used to move sattellite dat into new dir\n",
    "# does not include band 1\n",
    "for file in os.listdir(sat_dir):\n",
    "    filename = os.fsdecode(file)\n",
    "    if (int(filename[-17:-15]) >= 18): # the part of the name that contains the hours\n",
    "        copy2(path_to_sat + filename, path_to_correlate + \"satdata\")\n",
    "        print(filename)"
   ]
  },
  {
   "cell_type": "code",
   "execution_count": null,
   "metadata": {},
   "outputs": [],
   "source": []
  }
 ],
 "metadata": {
  "kernelspec": {
   "display_name": "Python 3",
   "language": "python",
   "name": "python3"
  },
  "language_info": {
   "codemirror_mode": {
    "name": "ipython",
    "version": 3
   },
   "file_extension": ".py",
   "mimetype": "text/x-python",
   "name": "python",
   "nbconvert_exporter": "python",
   "pygments_lexer": "ipython3",
   "version": "3.6.5"
  }
 },
 "nbformat": 4,
 "nbformat_minor": 2
}
