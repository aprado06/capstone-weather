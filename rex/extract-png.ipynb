{
 "cells": [
  {
   "cell_type": "code",
   "execution_count": null,
   "metadata": {},
   "outputs": [],
   "source": [
    "import os\n",
    "from shutil import copy2\n",
    "import numpy as np\n",
    "import matplotlib.pyplot as plt\n",
    "from mpl_toolkits.basemap import Basemap\n",
    "import pygrib\n",
    "from netCDF4 import Dataset"
   ]
  },
  {
   "cell_type": "code",
   "execution_count": null,
   "metadata": {},
   "outputs": [],
   "source": [
    "path = \"/mnt/data-weather/corr/mod/band0/B/\"\n",
    "out = \"/mnt/data-weather/corr/mod/band0/real_B/\"\n",
    "directory = os.fsencode(path)\n",
    "dims = (126,201)\n",
    "for file in os.listdir(directory):\n",
    "    filename = os.fsdecode(file)\n",
    "    data = np.fromfile(path+filename,dtype='int16',count=-1,sep='') # 2 byte integers\n",
    "    data = np.reshape(data,dims)\n",
    "    fig = plt.figure(figsize=(9,9))\n",
    "    plt.axis('off')\n",
    "    plt.imshow(data, cmap='gray', origin='lower')\n",
    "    fig.savefig(out+filename[0:17]+\".png\",bbox_inches='tight',pad_inches=-0.36)\n",
    "    plt.close(fig)"
   ]
  },
  {
   "cell_type": "code",
   "execution_count": null,
   "metadata": {},
   "outputs": [],
   "source": [
    "path = \"/mnt/data-weather/corr/mod/band0/grb/\"\n",
    "out = \"/mnt/data-weather/corr/mod/band0/grbpng/relative_humidity/\"\n",
    "directory = os.fsencode(path)\n",
    "feature = \"Relative humidity\"\n",
    "m = Basemap(projection='mill',\n",
    "            llcrnrlon=-102.0,\n",
    "            urcrnrlon=-82.0,\n",
    "            llcrnrlat=31.0,\n",
    "            urcrnrlat=41.0,\n",
    "            resolution='c')\n",
    "rex = 0\n",
    "for file in os.listdir(directory):\n",
    "    filename = os.fsdecode(file)\n",
    "    print(filename)\n",
    "    grbs = pygrib.open(path+filename)\n",
    "    grb = grbs.select(name=feature)[0]\n",
    "    grbs.close()\n",
    "    data = grb.values\n",
    "    if (rex == 0):\n",
    "        lat, lon = grb.latlons()\n",
    "        x, y = m(lon,lat)\n",
    "        rex += 1\n",
    "    plt.figure(figsize=(9,9))\n",
    "    m.pcolormesh(x,y,data,shading='flat',cmap=\"gray\")\n",
    "    plt.savefig(out+filename[0:15]+\"RH.png\", bbox_inches=\"tight\", pad_inches=-0.1)\n",
    "    plt.clf()\n",
    "    plt.close()"
   ]
  },
  {
   "cell_type": "code",
   "execution_count": null,
   "metadata": {},
   "outputs": [],
   "source": [
    "path = \"/mnt/data-weather/corr/mod/band1236/A/\"\n",
    "out = \"/mnt/data-weather/corr/mod/band1236/real_A/\"\n",
    "directory = os.fsencode(path)\n",
    "feature = \"Temperature\"\n",
    "m = Basemap(projection='mill',\n",
    "            llcrnrlon=-102.0,\n",
    "            urcrnrlon=-82.0,\n",
    "            llcrnrlat=31.0,\n",
    "            urcrnrlat=41.0,\n",
    "            resolution='c')\n",
    "rex = 0\n",
    "for file in os.listdir(directory):\n",
    "    filename = os.fsdecode(file)\n",
    "    print(filename)\n",
    "    grbs = pygrib.open(path+filename)\n",
    "    grb = grbs.select(name=feature)[0]\n",
    "    grbs.close()\n",
    "    data = grb.values\n",
    "    if (rex == 0):\n",
    "        lat, lon = grb.latlons()\n",
    "        x, y = m(lon,lat)\n",
    "        rex += 1\n",
    "    plt.figure(figsize=(9,9))\n",
    "    m.pcolormesh(x,y,data,shading='flat',cmap=\"gray\")\n",
    "    plt.savefig(out+filename[0:18]+\".png\", bbox_inches=\"tight\", pad_inches=-0.1)\n",
    "    plt.close()"
   ]
  },
  {
   "cell_type": "code",
   "execution_count": null,
   "metadata": {},
   "outputs": [],
   "source": []
  }
 ],
 "metadata": {
  "kernelspec": {
   "display_name": "Python 3",
   "language": "python",
   "name": "python3"
  },
  "language_info": {
   "codemirror_mode": {
    "name": "ipython",
    "version": 3
   },
   "file_extension": ".py",
   "mimetype": "text/x-python",
   "name": "python",
   "nbconvert_exporter": "python",
   "pygments_lexer": "ipython3",
   "version": "3.6.6"
  }
 },
 "nbformat": 4,
 "nbformat_minor": 2
}
