{
 "cells": [
  {
   "cell_type": "code",
   "execution_count": null,
   "metadata": {},
   "outputs": [],
   "source": [
    "import numpy as np\n",
    "from netCDF4 import Dataset\n",
    "import pygrib\n",
    "import matplotlib.pyplot as plt"
   ]
  },
  {
   "cell_type": "code",
   "execution_count": null,
   "metadata": {},
   "outputs": [],
   "source": [
    "path_to_model = \"/mnt/data-weather/moddata/modgrb/namanl_218_20170102_1200_002.grb\"\n",
    "path_to_model2 = \"/mnt/data-weather/moddata/modgrb/namanl_218_20170102_1200_001.grb\"\n",
    "path_to_satellite = \"/mnt/data-weather/satdata/goes13.2017.002.141518.BAND_02.nc\"\n",
    "path_to_radar = \"/mnt/data-weather/raddata/raddat/radar.20170102.14.dat\""
   ]
  },
  {
   "cell_type": "code",
   "execution_count": null,
   "metadata": {},
   "outputs": [],
   "source": [
    "grbs = pygrib.open(path_to_model)\n",
    "for grb in grbs:\n",
    "    print(grb)\n",
    "grb = grbs.select(name='Total Cloud Cover')[0]\n",
    "grbs.close()"
   ]
  },
  {
   "cell_type": "code",
   "execution_count": null,
   "metadata": {},
   "outputs": [],
   "source": [
    "grbs = pygrib.open(path_to_model2)\n",
    "for grb2 in grbs:\n",
    "    print(grb2)\n",
    "grb2 = grbs.select(name='Total Cloud Cover')[0]\n",
    "grbs.close()"
   ]
  },
  {
   "cell_type": "code",
   "execution_count": null,
   "metadata": {},
   "outputs": [],
   "source": [
    "mod_data2 = grb2.values\n",
    "mod_data = mod_data - mod_data2\n",
    "rex = mod_data\n",
    "rex[mod_lats < 31.0] = -1.0\n",
    "rex[mod_lats > 41.0] = -1.0\n",
    "rex[mod_lons < -102.0] = -1.0\n",
    "rex[mod_lons > -82.0] = -1.0\n",
    "mod_1d_data = rex[rex != -1.0]\n",
    "print(mod_1d_data.shape)\n",
    "plt.imshow(rex, cmap='gray', origin='lower')\n",
    "plt.colorbar()"
   ]
  },
  {
   "cell_type": "code",
   "execution_count": null,
   "metadata": {},
   "outputs": [],
   "source": [
    "mod_data = grb.values\n",
    "mod_lats, mod_lons = grb.latlons()\n",
    "print(mod_data.shape, mod_lats.shape, mod_lons.shape)\n",
    "rex = mod_data\n",
    "rex[mod_lats < 31.0] = -10.0\n",
    "rex[mod_lats > 41.0] = -10.0\n",
    "rex[mod_lons < -102.0] = -10.0\n",
    "rex[mod_lons > -82.0] = -10.0\n",
    "mod_1d_data = rex[rex != -1.0]\n",
    "print(mod_1d_data.shape)\n",
    "plt.imshow(rex, cmap='gray', origin='lower')\n",
    "plt.colorbar()"
   ]
  },
  {
   "cell_type": "code",
   "execution_count": null,
   "metadata": {},
   "outputs": [],
   "source": [
    "temp_data, temp_lats, temp_lons = grb.data(lat1=31.0,lat2=41.0,lon1=-102.0,lon2=-82.0)\n",
    "print(temp_data.shape, temp_lats.shape, temp_lons.shape)\n",
    "temp_data = (temp_data/temp_data.max())*30\n",
    "plt.scatter(x=temp_lons, y=temp_lats, s=temp_data, c=temp_data, cmap='gray')\n",
    "plt.colorbar()"
   ]
  },
  {
   "cell_type": "code",
   "execution_count": null,
   "metadata": {},
   "outputs": [],
   "source": [
    "nc_fid = Dataset(path_to_satellite, 'r') # \"opening\" the satellite data file \n",
    "print(nc_fid) # this should print out all the information of the file, similar to a pandas dataframe\n",
    "data = nc_fid.variables['data'][:][0] # extracting the data we want from the file\n",
    "lat = nc_fid.variables['lat'][:]\n",
    "lon = nc_fid.variables['lon'][:]\n",
    "print(\"Data Shape: \", data.shape) # this should print out a 3D array where data(time, y, x)\n",
    "print(\"lat shape\", lat.max(), lat.min())\n",
    "print(\"lon\", lon.max(), lon.min())\n",
    "plt.imshow(data, cmap='gray', origin='lower')\n",
    "plt.colorbar()\n",
    "nc_fid.close() # closing the file after using it"
   ]
  },
  {
   "cell_type": "code",
   "execution_count": null,
   "metadata": {},
   "outputs": [],
   "source": [
    "rex = data\n",
    "rex[lat < 31.0] = -1.0\n",
    "rex[lat > 41.0] = -1.0\n",
    "rex[lon < -102.0] = -1.0\n",
    "rex[lon > -82.0] = -1.0\n",
    "sat_1d_data = rex[rex != -1.0]\n",
    "sat_1d_lats = lat[rex != -1.0]\n",
    "sat_1d_lons = lon[rex != -1.0]\n",
    "print(sat_1d_data.shape, sat_1d_lats.shape, sat_1d_lons.shape)\n",
    "plt.imshow(rex, cmap='gray', origin='lower')\n",
    "plt.colorbar()"
   ]
  },
  {
   "cell_type": "code",
   "execution_count": null,
   "metadata": {},
   "outputs": [],
   "source": [
    "sat_1d_data = (sat_1d_data/sat_1d_data.max())*30\n",
    "plt.scatter(x=sat_1d_lons, y=sat_1d_lats, s=sat_1d_data, c=sat_1d_data, cmap='Greys')\n",
    "plt.colorbar()"
   ]
  },
  {
   "cell_type": "code",
   "execution_count": null,
   "metadata": {},
   "outputs": [],
   "source": [
    "rex = np.reshape(data,(290832,))\n",
    "rex.shape"
   ]
  },
  {
   "cell_type": "code",
   "execution_count": null,
   "metadata": {},
   "outputs": [],
   "source": [
    "rad_lat = np.linspace(31.0, 41.0, 126)\n",
    "rad_lon = np.linspace(-102.0, -82.0, 201)\n",
    "print(rad_lat.shape)\n",
    "print(rad_lon.shape)\n",
    "print(rad_dat.shape)\n",
    "plt.imshow(rad_dat, cmap='gray', origin='lower')\n",
    "plt.colorbar()"
   ]
  },
  {
   "cell_type": "code",
   "execution_count": null,
   "metadata": {},
   "outputs": [],
   "source": [
    "dims = (126, 201)\n",
    "rad_dat = np.fromfile(path_to_radar, dtype='int16', count=-1, sep='')\n",
    "rad_dat = np.reshape(rad_dat, dims)"
   ]
  },
  {
   "cell_type": "code",
   "execution_count": null,
   "metadata": {},
   "outputs": [],
   "source": [
    "lat[lat < 31.0] = 0.0\n",
    "lat[lat > 41.0] = 0.0\n",
    "lon[lon < -102.0] = 0.0\n",
    "lon[lon > -82.0] = 0.0"
   ]
  },
  {
   "cell_type": "code",
   "execution_count": null,
   "metadata": {},
   "outputs": [],
   "source": [
    "for row in range(0,lat.shape[0]):\n",
    "    for col in range(0,lat.shape[1]):\n",
    "        if lat[row][col] != 0:\n",
    "            print(row, col)\n",
    "            break\n",
    "for row in range(0,lat.shape[0]):\n",
    "    for col in range(0,lat.shape[1]):\n",
    "        if lon[row][col] != 0:\n",
    "            print(row, col)\n",
    "            break"
   ]
  },
  {
   "cell_type": "code",
   "execution_count": null,
   "metadata": {},
   "outputs": [],
   "source": [
    "blah = data[36:250][102:310]"
   ]
  },
  {
   "cell_type": "code",
   "execution_count": null,
   "metadata": {},
   "outputs": [],
   "source": [
    "bleh = data[0][0]\n",
    "print(bleh.shape)"
   ]
  },
  {
   "cell_type": "code",
   "execution_count": null,
   "metadata": {},
   "outputs": [],
   "source": [
    "print(blah.shape)"
   ]
  },
  {
   "cell_type": "code",
   "execution_count": null,
   "metadata": {},
   "outputs": [],
   "source": [
    "plt.imshow(blah, cmap='Greys', origin='lower')\n",
    "plt.colorbar()"
   ]
  },
  {
   "cell_type": "code",
   "execution_count": null,
   "metadata": {},
   "outputs": [],
   "source": []
  }
 ],
 "metadata": {
  "kernelspec": {
   "display_name": "Python 3",
   "language": "python",
   "name": "python3"
  },
  "language_info": {
   "codemirror_mode": {
    "name": "ipython",
    "version": 3
   },
   "file_extension": ".py",
   "mimetype": "text/x-python",
   "name": "python",
   "nbconvert_exporter": "python",
   "pygments_lexer": "ipython3",
   "version": "3.6.5"
  }
 },
 "nbformat": 4,
 "nbformat_minor": 2
}
