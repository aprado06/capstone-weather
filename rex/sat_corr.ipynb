{
 "cells": [
  {
   "cell_type": "code",
   "execution_count": 2,
   "metadata": {},
   "outputs": [],
   "source": [
    "import os"
   ]
  },
  {
   "cell_type": "code",
   "execution_count": null,
   "metadata": {},
   "outputs": [],
   "source": [
    "import os\n",
    "from datetime import timedelta\n",
    "import datetime\n",
    "from shutil import copy2\n",
    "path_in = \"/mnt/data-weather/satraw/band1/\"\n",
    "path_out = \"/mnt/data-weather/satdata/1/\"\n",
    "directory = os.fsencode(path_in)\n",
    "for file in os.listdir(directory):\n",
    "    filename = os.fsdecode(file)\n",
    "    #print(filename)\n",
    "    #print(filename[12:15])\n",
    "    date = datetime.datetime(2017, 1, 1) + datetime.timedelta(int(filename[12:15]) - 1)\n",
    "    if (date.month <= 9 and date.day <= 9):\n",
    "        #print(\"sat.\"+str(date.year)+\"0\"+str(date.month)+\"0\"+str(date.day)+\".\"+filename[16:18]+\".\"+filename[28:30]+\".nc\")\n",
    "        name = \"sat.\"+str(date.year)+\"0\"+str(date.month)+\"0\"+str(date.day)+\".\"+filename[16:18]+\".nc\"\n",
    "    elif (date.month <= 9 and date.day > 9):\n",
    "        #print(\"sat.\"+str(date.year)+\"0\"+str(date.month)+str(date.day)+\".\"+filename[16:18]+\".\"+filename[28:30]+\".nc\")\n",
    "        name = \"sat.\"+str(date.year)+\"0\"+str(date.month)+str(date.day)+\".\"+filename[16:18]+\".nc\"\n",
    "    elif (date.month > 9 and date.day <= 9):\n",
    "        #print(\"sat.\"+str(date.year)+str(date.month)+\"0\"+str(date.day)+\".\"+filename[16:18]+\".\"+filename[28:30]+\".nc\")\n",
    "        name = \"sat.\"+str(date.year)+str(date.month)+\"0\"+str(date.day)+\".\"+filename[16:18]+\".nc\"\n",
    "    else:\n",
    "        #print(\"sat.\"+str(date.year)+str(date.month)+str(date.day)+\".\"+filename[16:18]+\".\"+filename[28:30]+\".nc\")\n",
    "        name = \"sat.\"+str(date.year)+str(date.month)+str(date.day)+\".\"+filename[16:18]+\".nc\"\n",
    "    #print(name)\n",
    "    copy2(path_in+filename, path_out+name)"
   ]
  },
  {
   "cell_type": "code",
   "execution_count": 3,
   "metadata": {},
   "outputs": [],
   "source": [
    "path_rad = \"/mnt/data-weather/raddata/\"\n",
    "directory = os.fsencode(path_rad)\n",
    "list_rad = []\n",
    "for file in os.listdir(directory):\n",
    "    filename = os.fsdecode(file)\n",
    "    #print(filename)\n",
    "    list_rad.append(filename)"
   ]
  },
  {
   "cell_type": "code",
   "execution_count": 4,
   "metadata": {},
   "outputs": [
    {
     "name": "stdout",
     "output_type": "stream",
     "text": [
      "7857\n"
     ]
    }
   ],
   "source": [
    "print(len(list_rad))"
   ]
  },
  {
   "cell_type": "code",
   "execution_count": 5,
   "metadata": {},
   "outputs": [],
   "source": [
    "path_sa1 = \"/mnt/data-weather/satdata/1/\"\n",
    "directory = os.fsencode(path_sa1)\n",
    "list_sa1 = []\n",
    "for file in os.listdir(directory):\n",
    "    filename = os.fsdecode(file)\n",
    "    #print(filename)\n",
    "    list_sa1.append(filename)"
   ]
  },
  {
   "cell_type": "code",
   "execution_count": 6,
   "metadata": {},
   "outputs": [
    {
     "name": "stdout",
     "output_type": "stream",
     "text": [
      "1840\n"
     ]
    }
   ],
   "source": [
    "print(len(list_sa1))"
   ]
  },
  {
   "cell_type": "code",
   "execution_count": 7,
   "metadata": {},
   "outputs": [],
   "source": [
    "path_sa2 = \"/mnt/data-weather/satdata/2/\"\n",
    "directory = os.fsencode(path_sa2)\n",
    "list_sa2 = []\n",
    "for file in os.listdir(directory):\n",
    "    filename = os.fsdecode(file)\n",
    "    #print(filename)\n",
    "    list_sa2.append(filename)"
   ]
  },
  {
   "cell_type": "code",
   "execution_count": 8,
   "metadata": {},
   "outputs": [
    {
     "name": "stdout",
     "output_type": "stream",
     "text": [
      "1842\n"
     ]
    }
   ],
   "source": [
    "print(len(list_sa2))"
   ]
  },
  {
   "cell_type": "code",
   "execution_count": 9,
   "metadata": {},
   "outputs": [],
   "source": [
    "path_sa3 = \"/mnt/data-weather/satdata/3/\"\n",
    "directory = os.fsencode(path_sa3)\n",
    "list_sa3 = []\n",
    "for file in os.listdir(directory):\n",
    "    filename = os.fsdecode(file)\n",
    "    #print(filename)\n",
    "    list_sa3.append(filename)"
   ]
  },
  {
   "cell_type": "code",
   "execution_count": 10,
   "metadata": {},
   "outputs": [
    {
     "name": "stdout",
     "output_type": "stream",
     "text": [
      "1844\n"
     ]
    }
   ],
   "source": [
    "print(len(list_sa3))"
   ]
  },
  {
   "cell_type": "code",
   "execution_count": 11,
   "metadata": {},
   "outputs": [],
   "source": [
    "path_sa4 = \"/mnt/data-weather/satdata/4/\"\n",
    "directory = os.fsencode(path_sa4)\n",
    "list_sa4 = []\n",
    "for file in os.listdir(directory):\n",
    "    filename = os.fsdecode(file)\n",
    "    #print(filename)\n",
    "    list_sa4.append(filename)"
   ]
  },
  {
   "cell_type": "code",
   "execution_count": 12,
   "metadata": {},
   "outputs": [
    {
     "name": "stdout",
     "output_type": "stream",
     "text": [
      "1839\n"
     ]
    }
   ],
   "source": [
    "print(len(list_sa4))"
   ]
  },
  {
   "cell_type": "code",
   "execution_count": 13,
   "metadata": {},
   "outputs": [],
   "source": [
    "path_sa6 = \"/mnt/data-weather/satdata/6/\"\n",
    "directory = os.fsencode(path_sa6)\n",
    "list_sa6 = []\n",
    "for file in os.listdir(directory):\n",
    "    filename = os.fsdecode(file)\n",
    "    #print(filename)\n",
    "    list_sa6.append(filename)"
   ]
  },
  {
   "cell_type": "code",
   "execution_count": 14,
   "metadata": {},
   "outputs": [
    {
     "name": "stdout",
     "output_type": "stream",
     "text": [
      "1812\n"
     ]
    }
   ],
   "source": [
    "print(len(list_sa6))"
   ]
  },
  {
   "cell_type": "code",
   "execution_count": 18,
   "metadata": {},
   "outputs": [
    {
     "name": "stdout",
     "output_type": "stream",
     "text": [
      "rad.20171231.05.dat\n",
      "1231.05\n",
      "sat.20171022.01.nc\n",
      "sat.20171021.23.nc\n",
      "sat.20171021.20.nc\n",
      "sat.20171022.02.nc\n",
      "sat.20171106.04.nc\n"
     ]
    }
   ],
   "source": [
    "print(list_rad[0])\n",
    "print(list_rad[0][8:15])\n",
    "print(list_sa1[0])\n",
    "print(list_sa2[0])\n",
    "print(list_sa3[0])\n",
    "print(list_sa4[0])\n",
    "print(list_sa6[0])"
   ]
  },
  {
   "cell_type": "code",
   "execution_count": 20,
   "metadata": {},
   "outputs": [],
   "source": [
    "rad_sa1 = []\n",
    "for rad in list_rad:\n",
    "    for sa1 in list_sa1:\n",
    "        if (rad[8:15] == sa1[8:15]):\n",
    "            rad_sa1.append(rad)\n",
    "            break;\n",
    "rad_sa12 = []\n",
    "for rad in rad_sa1:\n",
    "    for sa2 in list_sa2:\n",
    "        if (rad[8:15] == sa2[8:15]):\n",
    "            rad_sa12.append(rad)\n",
    "            break;\n",
    "rad_sa123 = []\n",
    "for rad in rad_sa12:\n",
    "    for sa3 in list_sa3:\n",
    "        if (rad[8:15] == sa3[8:15]):\n",
    "            rad_sa123.append(rad)\n",
    "            break;\n",
    "rad_sa1234 = []\n",
    "for rad in rad_sa123:\n",
    "    for sa4 in list_sa4:\n",
    "        if (rad[8:15] == sa4[8:15]):\n",
    "            rad_sa1234.append(rad)\n",
    "            break;\n",
    "rad_sa12346 = []\n",
    "for rad in rad_sa1234:\n",
    "    for sa6 in list_sa6:\n",
    "        if (rad[8:15] == sa6[8:15]):\n",
    "            rad_sa12346.append(rad)\n",
    "            break;"
   ]
  },
  {
   "cell_type": "code",
   "execution_count": 23,
   "metadata": {},
   "outputs": [
    {
     "name": "stdout",
     "output_type": "stream",
     "text": [
      "7857\n",
      "1779\n",
      "1775\n",
      "1773\n",
      "1766\n",
      "1734\n",
      "rad.20171208.17.dat\n"
     ]
    }
   ],
   "source": [
    "print(len(list_rad))\n",
    "print(len(rad_sa1))\n",
    "print(len(rad_sa12))\n",
    "print(len(rad_sa123))\n",
    "print(len(rad_sa1234))\n",
    "print(len(rad_sa12346))\n",
    "print(rad_sa12346[0])"
   ]
  },
  {
   "cell_type": "code",
   "execution_count": 26,
   "metadata": {},
   "outputs": [],
   "source": [
    "from shutil import copy2\n",
    "path_in = \"/mnt/data-weather/raddata/\"\n",
    "path_out = \"/mnt/data-weather/rad_sat/rad/\"\n",
    "for rad in rad_sa12346:\n",
    "    copy2(path_in+rad, path_out+rad)"
   ]
  },
  {
   "cell_type": "code",
   "execution_count": 27,
   "metadata": {},
   "outputs": [],
   "source": [
    "new_sa1 = []\n",
    "new_sa2 = []\n",
    "new_sa3 = []\n",
    "new_sa4 = []\n",
    "new_sa6 = []\n",
    "for rad in rad_sa12346:\n",
    "    for sat in list_sa1:\n",
    "        if (rad[8:15] == sat[8:15]):\n",
    "            new_sa1.append(sat)\n",
    "            break\n",
    "    for sat in list_sa2:\n",
    "        if (rad[8:15] == sat[8:15]):\n",
    "            new_sa2.append(sat)\n",
    "            break\n",
    "    for sat in list_sa3:\n",
    "        if (rad[8:15] == sat[8:15]):\n",
    "            new_sa3.append(sat)\n",
    "            break\n",
    "    for sat in list_sa4:\n",
    "        if (rad[8:15] == sat[8:15]):\n",
    "            new_sa4.append(sat)\n",
    "            break\n",
    "    for sat in list_sa6:\n",
    "        if (rad[8:15] == sat[8:15]):\n",
    "            new_sa6.append(sat)\n",
    "            break"
   ]
  },
  {
   "cell_type": "code",
   "execution_count": 31,
   "metadata": {},
   "outputs": [
    {
     "name": "stdout",
     "output_type": "stream",
     "text": [
      "1734\n",
      "sat.20171208.17.nc\n",
      "1734\n",
      "sat.20171208.17.nc\n",
      "1734\n",
      "1734\n",
      "1734\n"
     ]
    }
   ],
   "source": [
    "print(len(new_sa1))\n",
    "print(new_sa1[0])\n",
    "print(len(new_sa2))\n",
    "print(new_sa2[0])\n",
    "print(len(new_sa3))\n",
    "print(len(new_sa4))\n",
    "print(len(new_sa6))"
   ]
  },
  {
   "cell_type": "code",
   "execution_count": null,
   "metadata": {},
   "outputs": [],
   "source": [
    "path_sa1 = \"/mnt/data-weather/satdata/1/\"\n",
    "path_ou1 = \"/mnt/data-weather/rad_sat/sa1/\"\n",
    "path_sa2 = \"/mnt/data-weather/satdata/2/\"\n",
    "path_ou2 = \"/mnt/data-weather/rad_sat/sa2/\"\n",
    "path_sa3 = \"/mnt/data-weather/satdata/3/\"\n",
    "path_ou3 = \"/mnt/data-weather/rad_sat/sa3/\"\n",
    "path_sa4 = \"/mnt/data-weather/satdata/4/\"\n",
    "path_ou4 = \"/mnt/data-weather/rad_sat/sa4/\"\n",
    "path_sa6 = \"/mnt/data-weather/satdata/6/\"\n",
    "path_ou6 = \"/mnt/data-weather/rad_sat/sa6/\"\n",
    "\n",
    "for sat in new_sa1:\n",
    "    copy2(path_sa1+sat, path_ou1+sat)\n",
    "    copy2(path_sa2+sat, path_ou2+sat)\n",
    "    copy2(path_sa3+sat, path_ou3+sat)\n",
    "    copy2(path_sa4+sat, path_ou4+sat)\n",
    "    copy2(path_sa6+sat, path_ou6+sat)"
   ]
  },
  {
   "cell_type": "code",
   "execution_count": null,
   "metadata": {},
   "outputs": [],
   "source": []
  }
 ],
 "metadata": {
  "kernelspec": {
   "display_name": "Python 3",
   "language": "python",
   "name": "python3"
  },
  "language_info": {
   "codemirror_mode": {
    "name": "ipython",
    "version": 3
   },
   "file_extension": ".py",
   "mimetype": "text/x-python",
   "name": "python",
   "nbconvert_exporter": "python",
   "pygments_lexer": "ipython3",
   "version": "3.6.6"
  }
 },
 "nbformat": 4,
 "nbformat_minor": 2
}
