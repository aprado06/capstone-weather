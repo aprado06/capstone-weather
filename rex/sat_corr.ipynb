{
 "cells": [
  {
   "cell_type": "code",
   "execution_count": null,
   "metadata": {},
   "outputs": [],
   "source": [
    "import os"
   ]
  },
  {
   "cell_type": "code",
   "execution_count": null,
   "metadata": {},
   "outputs": [],
   "source": [
    "path_in = \"/mnt/data-weather/satraw/band1/\"\n",
    "path_out = \"/mnt/data-weather/satdata/1/\"\n",
    "directory = os.fsencode(path_in)\n",
    "for file in os.listdir(directory):\n",
    "    filename = os.fsdecode(file)\n",
    "    mmddhh = \"\" + \".\" + \"\"\n",
    "    outname = \"sat.2017\" + \".nc\"\n",
    "    print(filename)"
   ]
  },
  {
   "cell_type": "code",
   "execution_count": 6,
   "metadata": {},
   "outputs": [],
   "source": [
    "import os\n",
    "from datetime import timedelta\n",
    "import datetime\n",
    "from shutil import copy2\n",
    "path_in = \"/mnt/data-weather/satraw/band1/\"\n",
    "path_out = \"/mnt/data-weather/satdata/1/\"\n",
    "directory = os.fsencode(path_in)\n",
    "for file in os.listdir(directory):\n",
    "    filename = os.fsdecode(file)\n",
    "    #print(filename)\n",
    "    #print(filename[12:15])\n",
    "    date = datetime.datetime(2017, 1, 1) + datetime.timedelta(int(filename[12:15]) - 1)\n",
    "    if (date.month <= 9 and date.day <= 9):\n",
    "        #print(\"sat.\"+str(date.year)+\"0\"+str(date.month)+\"0\"+str(date.day)+\".\"+filename[16:18]+\".\"+filename[28:30]+\".nc\")\n",
    "        name = \"sat.\"+str(date.year)+\"0\"+str(date.month)+\"0\"+str(date.day)+\".\"+filename[16:18]+\".nc\"\n",
    "    elif (date.month <= 9 and date.day > 9):\n",
    "        #print(\"sat.\"+str(date.year)+\"0\"+str(date.month)+str(date.day)+\".\"+filename[16:18]+\".\"+filename[28:30]+\".nc\")\n",
    "        name = \"sat.\"+str(date.year)+\"0\"+str(date.month)+str(date.day)+\".\"+filename[16:18]+\".nc\"\n",
    "    elif (date.month > 9 and date.day <= 9):\n",
    "        #print(\"sat.\"+str(date.year)+str(date.month)+\"0\"+str(date.day)+\".\"+filename[16:18]+\".\"+filename[28:30]+\".nc\")\n",
    "        name = \"sat.\"+str(date.year)+str(date.month)+\"0\"+str(date.day)+\".\"+filename[16:18]+\".nc\"\n",
    "    else:\n",
    "        #print(\"sat.\"+str(date.year)+str(date.month)+str(date.day)+\".\"+filename[16:18]+\".\"+filename[28:30]+\".nc\")\n",
    "        name = \"sat.\"+str(date.year)+str(date.month)+str(date.day)+\".\"+filename[16:18]+\".nc\"\n",
    "    #print(name)\n",
    "    copy2(path_in+filename, path_out+name)"
   ]
  },
  {
   "cell_type": "code",
   "execution_count": 7,
   "metadata": {},
   "outputs": [],
   "source": [
    "import os\n",
    "from datetime import timedelta\n",
    "import datetime\n",
    "from shutil import copy2\n",
    "path_in = \"/mnt/data-weather/satraw/band2/\"\n",
    "path_out = \"/mnt/data-weather/satdata/2/\"\n",
    "directory = os.fsencode(path_in)\n",
    "for file in os.listdir(directory):\n",
    "    filename = os.fsdecode(file)\n",
    "    #print(filename)\n",
    "    #print(filename[12:15])\n",
    "    date = datetime.datetime(2017, 1, 1) + datetime.timedelta(int(filename[12:15]) - 1)\n",
    "    if (date.month <= 9 and date.day <= 9):\n",
    "        #print(\"sat.\"+str(date.year)+\"0\"+str(date.month)+\"0\"+str(date.day)+\".\"+filename[16:18]+\".\"+filename[28:30]+\".nc\")\n",
    "        name = \"sat.\"+str(date.year)+\"0\"+str(date.month)+\"0\"+str(date.day)+\".\"+filename[16:18]+\".nc\"\n",
    "    elif (date.month <= 9 and date.day > 9):\n",
    "        #print(\"sat.\"+str(date.year)+\"0\"+str(date.month)+str(date.day)+\".\"+filename[16:18]+\".\"+filename[28:30]+\".nc\")\n",
    "        name = \"sat.\"+str(date.year)+\"0\"+str(date.month)+str(date.day)+\".\"+filename[16:18]+\".nc\"\n",
    "    elif (date.month > 9 and date.day <= 9):\n",
    "        #print(\"sat.\"+str(date.year)+str(date.month)+\"0\"+str(date.day)+\".\"+filename[16:18]+\".\"+filename[28:30]+\".nc\")\n",
    "        name = \"sat.\"+str(date.year)+str(date.month)+\"0\"+str(date.day)+\".\"+filename[16:18]+\".nc\"\n",
    "    else:\n",
    "        #print(\"sat.\"+str(date.year)+str(date.month)+str(date.day)+\".\"+filename[16:18]+\".\"+filename[28:30]+\".nc\")\n",
    "        name = \"sat.\"+str(date.year)+str(date.month)+str(date.day)+\".\"+filename[16:18]+\".nc\"\n",
    "    #print(name)\n",
    "    copy2(path_in+filename, path_out+name)"
   ]
  },
  {
   "cell_type": "code",
   "execution_count": null,
   "metadata": {},
   "outputs": [],
   "source": [
    "path_rad = \"/mnt/data-weather/raddata/\"\n",
    "directory = os.fsencode(path_rad)\n",
    "list_rad = []\n",
    "for file in os.listdir(directory):\n",
    "    filename = os.fsdecode(file)\n",
    "    #print(filename)\n",
    "    list_rad.append(filename)"
   ]
  },
  {
   "cell_type": "code",
   "execution_count": null,
   "metadata": {},
   "outputs": [],
   "source": [
    "print(len(list_rad))"
   ]
  },
  {
   "cell_type": "code",
   "execution_count": null,
   "metadata": {},
   "outputs": [],
   "source": [
    "path_sa1 = \"/mnt/data-weather/satdata/1/\"\n",
    "directory = os.fsencode(path_sa1)\n",
    "list_sa1 = []\n",
    "for file in os.listdir(directory):\n",
    "    filename = os.fsdecode(file)\n",
    "    #print(filename)\n",
    "    list_sa1.append(filename)"
   ]
  },
  {
   "cell_type": "code",
   "execution_count": null,
   "metadata": {},
   "outputs": [],
   "source": [
    "print(len(list_sa1))"
   ]
  },
  {
   "cell_type": "code",
   "execution_count": null,
   "metadata": {},
   "outputs": [],
   "source": [
    "path_sa2 = \"/mnt/data-weather/satdata/2/\"\n",
    "directory = os.fsencode(path_sa2)\n",
    "list_sa2 = []\n",
    "for file in os.listdir(directory):\n",
    "    filename = os.fsdecode(file)\n",
    "    #print(filename)\n",
    "    list_sa2.append(filename)"
   ]
  },
  {
   "cell_type": "code",
   "execution_count": null,
   "metadata": {},
   "outputs": [],
   "source": [
    "print(len(list_sa2))"
   ]
  },
  {
   "cell_type": "code",
   "execution_count": null,
   "metadata": {},
   "outputs": [],
   "source": [
    "path_sa3 = \"/mnt/data-weather/satdata/3/\"\n",
    "directory = os.fsencode(path_sa3)\n",
    "list_sa3 = []\n",
    "for file in os.listdir(directory):\n",
    "    filename = os.fsdecode(file)\n",
    "    #print(filename)\n",
    "    list_sa3.append(filename)"
   ]
  },
  {
   "cell_type": "code",
   "execution_count": null,
   "metadata": {},
   "outputs": [],
   "source": [
    "print(len(list_sa3))"
   ]
  },
  {
   "cell_type": "code",
   "execution_count": null,
   "metadata": {},
   "outputs": [],
   "source": [
    "path_sa4 = \"/mnt/data-weather/satdata/4/\"\n",
    "directory = os.fsencode(path_sa4)\n",
    "list_sa4 = []\n",
    "for file in os.listdir(directory):\n",
    "    filename = os.fsdecode(file)\n",
    "    #print(filename)\n",
    "    list_sa4.append(filename)"
   ]
  },
  {
   "cell_type": "code",
   "execution_count": null,
   "metadata": {},
   "outputs": [],
   "source": [
    "print(len(list_sa4))"
   ]
  },
  {
   "cell_type": "code",
   "execution_count": null,
   "metadata": {},
   "outputs": [],
   "source": [
    "path_sa6 = \"/mnt/data-weather/satdata/6/\"\n",
    "directory = os.fsencode(path_sa6)\n",
    "list_sa6 = []\n",
    "for file in os.listdir(directory):\n",
    "    filename = os.fsdecode(file)\n",
    "    #print(filename)\n",
    "    list_sa6.append(filename)"
   ]
  },
  {
   "cell_type": "code",
   "execution_count": null,
   "metadata": {},
   "outputs": [],
   "source": [
    "print(len(list_sa6))"
   ]
  },
  {
   "cell_type": "code",
   "execution_count": null,
   "metadata": {},
   "outputs": [],
   "source": []
  }
 ],
 "metadata": {
  "kernelspec": {
   "display_name": "Python 3",
   "language": "python",
   "name": "python3"
  },
  "language_info": {
   "codemirror_mode": {
    "name": "ipython",
    "version": 3
   },
   "file_extension": ".py",
   "mimetype": "text/x-python",
   "name": "python",
   "nbconvert_exporter": "python",
   "pygments_lexer": "ipython3",
   "version": "3.6.6"
  }
 },
 "nbformat": 4,
 "nbformat_minor": 2
}
