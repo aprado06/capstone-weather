{
 "cells": [
  {
   "cell_type": "code",
   "execution_count": null,
   "metadata": {},
   "outputs": [],
   "source": [
    "import os\n",
    "from scipy import misc\n",
    "import numpy as np\n",
    "from shutil import copy2"
   ]
  },
  {
   "cell_type": "code",
   "execution_count": null,
   "metadata": {},
   "outputs": [],
   "source": [
    "path_A = \"/mnt/data-weather/A/\"\n",
    "path_B = \"/mnt/data-weather/B/\"\n",
    "path_A_new = \"/mnt/data-weather/A_new/\"\n",
    "path_B_new = \"/mnt/data-weather/B_new/\""
   ]
  },
  {
   "cell_type": "code",
   "execution_count": null,
   "metadata": {},
   "outputs": [],
   "source": [
    "# getting a list of all the filenames in folder A\n",
    "list_A = []\n",
    "directory = os.fsencode(path_A)\n",
    "for file in os.listdir(directory):\n",
    "    filename = os.fsdecode(file)\n",
    "    #print(filename)\n",
    "    list_A.append(filename)"
   ]
  },
  {
   "cell_type": "code",
   "execution_count": null,
   "metadata": {},
   "outputs": [],
   "source": [
    "# getting a list of all the filenames in folder B\n",
    "list_B = []\n",
    "directory = os.fsencode(path_B)\n",
    "for file in os.listdir(directory):\n",
    "    filename = os.fsdecode(file)\n",
    "    #print(filename)\n",
    "    list_B.append(filename)"
   ]
  },
  {
   "cell_type": "code",
   "execution_count": null,
   "metadata": {},
   "outputs": [],
   "source": [
    "list_A.sort()\n",
    "list_B.sort()"
   ]
  },
  {
   "cell_type": "code",
   "execution_count": null,
   "metadata": {},
   "outputs": [],
   "source": [
    "print(\"Length of A: \", len(list_A))\n",
    "print(\"Length of B: \", len(list_B))"
   ]
  },
  {
   "cell_type": "code",
   "execution_count": null,
   "metadata": {},
   "outputs": [],
   "source": [
    "# there are 6 features for every 1 radar image so the len(list_b) * 6 = len(list_a)\n",
    "print(int(len(list_B))*(6))"
   ]
  },
  {
   "cell_type": "code",
   "execution_count": null,
   "metadata": {},
   "outputs": [],
   "source": [
    "print(list_B[0])\n",
    "image = misc.imread(path_B+list_B[0])\n",
    "print(image.shape)\n",
    "print(image.dtype)"
   ]
  },
  {
   "cell_type": "code",
   "execution_count": null,
   "metadata": {},
   "outputs": [],
   "source": [
    "print(image[0].min(), image[0].max())\n",
    "print(image[1].min(), image[1].max())\n",
    "print(image[2].min(), image[2].max())\n",
    "print(image[3].min(), image[3].max())"
   ]
  },
  {
   "cell_type": "code",
   "execution_count": null,
   "metadata": {},
   "outputs": [],
   "source": [
    "print(np.mean(image))"
   ]
  },
  {
   "cell_type": "code",
   "execution_count": null,
   "metadata": {},
   "outputs": [],
   "source": [
    "print(list_B[0])\n",
    "image = misc.imread(path_B+\"042412B1.png\")\n",
    "print(image.shape)\n",
    "print(image.dtype)\n",
    "print(np.mean(image))\n",
    "print(image[255][255][3])"
   ]
  },
  {
   "cell_type": "code",
   "execution_count": null,
   "metadata": {},
   "outputs": [],
   "source": [
    "list_B_new = []\n",
    "for filename in list_B:\n",
    "    image = misc.imread(path_B+filename)\n",
    "    if (np.mean(image) >= 64.5):\n",
    "        list_B_new.append(filename)\n",
    "print(len(list_B))\n",
    "print(len(list_B_new))"
   ]
  },
  {
   "cell_type": "code",
   "execution_count": null,
   "metadata": {},
   "outputs": [],
   "source": [
    "for filename in list_B_new:\n",
    "    copy2(path_B+filename, path_B_new+filename)"
   ]
  },
  {
   "cell_type": "code",
   "execution_count": null,
   "metadata": {},
   "outputs": [],
   "source": [
    "list_A_new = []\n",
    "for filename in list_B_new:\n",
    "    #print(filename[0:6])\n",
    "    list_A_new.append(filename[0:6]+\"A1.png\")\n",
    "    list_A_new.append(filename[0:6]+\"A2.png\")\n",
    "    list_A_new.append(filename[0:6]+\"A3.png\")\n",
    "    list_A_new.append(filename[0:6]+\"A4.png\")\n",
    "    list_A_new.append(filename[0:6]+\"A5.png\")\n",
    "    list_A_new.append(filename[0:6]+\"A6.png\")"
   ]
  },
  {
   "cell_type": "code",
   "execution_count": null,
   "metadata": {},
   "outputs": [],
   "source": [
    "print(len(list_A_new))\n",
    "print(int(len(list_B_new))*6)\n",
    "print(list_A_new[0:10])"
   ]
  },
  {
   "cell_type": "code",
   "execution_count": null,
   "metadata": {},
   "outputs": [],
   "source": [
    "for filename in list_A_new:\n",
    "    copy2(path_A+filename, path_A_new+filename)"
   ]
  },
  {
   "cell_type": "code",
   "execution_count": null,
   "metadata": {},
   "outputs": [],
   "source": []
  }
 ],
 "metadata": {
  "kernelspec": {
   "display_name": "Python 3",
   "language": "python",
   "name": "python3"
  },
  "language_info": {
   "codemirror_mode": {
    "name": "ipython",
    "version": 3
   },
   "file_extension": ".py",
   "mimetype": "text/x-python",
   "name": "python",
   "nbconvert_exporter": "python",
   "pygments_lexer": "ipython3",
   "version": "3.6.6"
  }
 },
 "nbformat": 4,
 "nbformat_minor": 2
}
