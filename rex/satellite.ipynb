{
 "cells": [
  {
   "cell_type": "code",
   "execution_count": 1,
   "metadata": {},
   "outputs": [],
   "source": [
    "import os\n",
    "import numpy as np\n",
    "from PIL import Image\n",
    "from netCDF4 import Dataset"
   ]
  },
  {
   "cell_type": "code",
   "execution_count": null,
   "metadata": {},
   "outputs": [],
   "source": [
    "path = \"D:/data-weather/data_sat/1/\"\n",
    "path_save = \"D:/data-weather/data_sat_1_png_256x256/\"\n",
    "directory = os.fsencode(path)\n",
    "size = (256,256)\n",
    "for file in os.listdir(directory):\n",
    "    filename = os.fsdecode(file)\n",
    "    newname = filename[0:12]+filename[13:15]+\".png\"\n",
    "    nc = Dataset(path+filename, 'r')\n",
    "    nc_data = nc.variables['data'][0][:]\n",
    "    nc.close()\n",
    "    data = np.array(nc_data[230:1000,1000:3500])\n",
    "    data = data/data.max()\n",
    "    data = data*255.0\n",
    "    data = data.astype(np.uint8)\n",
    "    data = np.flipud(data)\n",
    "    im = Image.fromarray(data)\n",
    "    im = im.resize(size,Image.ANTIALIAS)\n",
    "    im.save(path_save+newname)"
   ]
  },
  {
   "cell_type": "code",
   "execution_count": null,
   "metadata": {},
   "outputs": [],
   "source": []
  }
 ],
 "metadata": {
  "kernelspec": {
   "display_name": "Python 3",
   "language": "python",
   "name": "python3"
  },
  "language_info": {
   "codemirror_mode": {
    "name": "ipython",
    "version": 3
   },
   "file_extension": ".py",
   "mimetype": "text/x-python",
   "name": "python",
   "nbconvert_exporter": "python",
   "pygments_lexer": "ipython3",
   "version": "3.7.0"
  }
 },
 "nbformat": 4,
 "nbformat_minor": 2
}
