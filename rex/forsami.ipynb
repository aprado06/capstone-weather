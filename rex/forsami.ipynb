{
 "cells": [
  {
   "cell_type": "code",
   "execution_count": null,
   "metadata": {},
   "outputs": [],
   "source": [
    "import os\n",
    "import numpy as np\n",
    "import matplotlib.pyplot as plt"
   ]
  },
  {
   "cell_type": "markdown",
   "metadata": {},
   "source": [
    "The code below is just what i used to create the png images."
   ]
  },
  {
   "cell_type": "code",
   "execution_count": null,
   "metadata": {},
   "outputs": [],
   "source": [
    "#path_to_directory = \"/mnt/data-weather/raddata/\" #virtualbox\n",
    "#path_to_output = \"/mnt/data-weather/radpng/\" #virtualbox\n",
    "#path_to_directory = \"D:/data-weather/raddata/\" #windows\n",
    "#path_to_output = \"D:/data-weather/radpng/\" #windows\n",
    "directory = os.fsencode(path_to_directory)\n",
    "dims = (126,201)\n",
    "fig = None\n",
    "for file in os.listdir(directory):\n",
    "    filename = os.fsdecode(file) # Gets the filename of every file in \"path_to_directory\"\n",
    "    print(filename)\n",
    "    data = np.fromfile(path_to_directory+filename, dtype='int16')\n",
    "    data = np.reshape(data,dims)\n",
    "    if fig is None:\n",
    "        fig = plt.imshow(data, cmap=\"gray\", origin='lower')\n",
    "    else:\n",
    "        fig.set_data(data)\n",
    "    #fig.axes.get_xaxis().set_visible(False)\n",
    "    #fig.axes.get_yaxis().set_visible(False)\n",
    "    #plt.savefig(path_to_output+filename[0:-4]+\".png\", bbox_inches='tight', pad_inches=-0.1)\n",
    "\n",
    "print(\"SUCCESS!\")"
   ]
  },
  {
   "cell_type": "markdown",
   "metadata": {},
   "source": [
    "The code below looks through all of the radar files and gives you the data for each file WITHOUT scaling between 0-30"
   ]
  },
  {
   "cell_type": "code",
   "execution_count": null,
   "metadata": {},
   "outputs": [],
   "source": [
    "path_to_directory = \"/mnt/data-weather/raddata/\" #change me\n",
    "directory = os.fsencode(path_to_directory)\n",
    "dims = (126,201)\n",
    "for file in os.listdir(directory):\n",
    "    filename = os.fsdecode(file) # Gets the filename of every file in \"path_to_directory\"\n",
    "    print(filename) # to make sure its in the correct directory\n",
    "    data = np.fromfile(path_to_directory+filename, dtype='int16')\n",
    "    data = np.reshape(data,dims) \n",
    "    print(data.min(), data.max())"
   ]
  },
  {
   "cell_type": "markdown",
   "metadata": {},
   "source": [
    "The code below looks through all of the radar files and gives you the data for each file WITHOUT scaling between 0-30"
   ]
  },
  {
   "cell_type": "code",
   "execution_count": null,
   "metadata": {},
   "outputs": [],
   "source": [
    "path_to_directory = \"/mnt/data-weather/raddata/\" #change me\n",
    "directory = os.fsencode(path_to_directory)\n",
    "dims = (126,201)\n",
    "for file in os.listdir(directory):\n",
    "    filename = os.fsdecode(file) # Gets the filename of every file in \"path_to_directory\"\n",
    "    print(filename) # to make sure its in the correct directory\n",
    "    data = np.fromfile(path_to_directory+filename, dtype='int16')\n",
    "    data = data/data.max() #changes it between 0-1\n",
    "    data = data*30 # scales it to 0-30\n",
    "    data = np.reshape(data,dims) \n",
    "    print(data.min(), data.max())"
   ]
  }
 ],
 "metadata": {
  "kernelspec": {
   "display_name": "Python 3",
   "language": "python",
   "name": "python3"
  },
  "language_info": {
   "codemirror_mode": {
    "name": "ipython",
    "version": 3
   },
   "file_extension": ".py",
   "mimetype": "text/x-python",
   "name": "python",
   "nbconvert_exporter": "python",
   "pygments_lexer": "ipython3",
   "version": "3.6.5"
  }
 },
 "nbformat": 4,
 "nbformat_minor": 2
}
