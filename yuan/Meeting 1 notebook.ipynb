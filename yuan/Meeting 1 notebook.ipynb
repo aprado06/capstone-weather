{
 "cells": [
  {
   "cell_type": "code",
   "execution_count": 7,
   "metadata": {
    "collapsed": true
   },
   "outputs": [],
   "source": [
    "def data_read_display(data): #data is already in nu\n",
    "    \"\"\" \n",
    "\twhen passed the full filename (path plus filename) of a deep learning dataset\n",
    "\tThis function reads the binary data and rescales it\n",
    "\treforms it from vector into array of the proper size\n",
    "\trails the data off at suggested maximum and minimum values\n",
    "\tdisplays the data as grayscale on black background\n",
    "    \"\"\"\n",
    "\n",
    "    import numpy as np\n",
    "    import matplotlib.pyplot as plt\n",
    "\n",
    "    dims = (126,201)   # rows, columns\n",
    "\n",
    "    minmax = [0,30]\t# suggested data limits for display purposes\n",
    "    \n",
    "    # set minmax = [0,0] to use minimum and maximum of each file (excluding missing data)\n",
    "    # [0,30] mm/hr is a good range for rainfall\n",
    "\n",
    "    #data = np.array(filename) # 2 byte integers\n",
    "    #print('size of read vector',len(data))\n",
    "    data = np.reshape(data,dims)\n",
    "    #print(data.shape)\n",
    "    if (np.max(data) > 0):\n",
    "\n",
    "        # scale data to between 0 and 1 then rail off the extremes\n",
    "        if (minmax[0] > 0 or minmax[1] > 0):\n",
    "            data[(data < minmax[0])] = minmax[0]\n",
    "            data[(data > minmax[1])] = minmax[1]\n",
    "            data = (data - minmax[0])/(minmax[1] - minmax[0])\n",
    "        else:\n",
    "            data = (data - np.min(data))/(np.max(data) - np.min(data))\n",
    "\n",
    "    else:\n",
    "        print('empty hour!')\n",
    "\n",
    "    # display image as grayscale\n",
    "    plt.ion()  # needed if running from command line\n",
    "    plt.imshow(data, cmap='Paired', origin='lower')\n"
   ]
  },
  {
   "cell_type": "code",
   "execution_count": 8,
   "metadata": {
    "collapsed": true
   },
   "outputs": [],
   "source": [
    "def get_average_values(directoryname):\n",
    "    import os\n",
    "    import numpy as np\n",
    "    '''\n",
    "    for data in os.listdir(directoryname):   \n",
    "        #print(data)\n",
    "        the_data = np.fromfile(directoryname+data,dtype='int16',count=-1,sep='')\n",
    "        \n",
    "        print(the_data, the_data.shape)\n",
    "    print(list(map(np.fromfile(directoryname+data,dtype='int16',count=-1,sep=''), )))\n",
    "    '''\n",
    "    #print(directoryname)\n",
    "    #list(map(os.listdir, directoryname))\n",
    "    data = os.listdir(directoryname)\n",
    "    #print(data)\n",
    "    #print(directoryname+data[0])\n",
    "    #data_list = list(map(np.fromfile(directoryname+,dtype='int16',count=-1,sep=''), data))\n",
    "    data_list = [np.fromfile(directoryname+d,dtype='int16',count=-1,sep='') for d in data]\n",
    "    #test = []\n",
    "    #test.append([1,2,3])\n",
    "    #test.append([4,5,6])    \n",
    "    count = len(data_list)\n",
    "    test_list = list(map(sum, zip(*data_list)))\n",
    "    new_list = list(map(lambda x:x/count, test_list))\n",
    "    return new_list\n",
    "'''\n",
    "def slow_get_average_values(directoryname):\n",
    "    import os\n",
    "    import numpy as np\n",
    "    list_len = len(np.fromfile(directoryname+os.listdir(directoryname)[0],dtype='int16',count=-1,sep=''))\n",
    "    output_list = [0] * list_len\n",
    "    for data in os.listdir(directoryname):\n",
    "        d = (np.fromfile(directoryname+data,dtype='int16',count=-1,sep=''))\n",
    "        for i in range(len(d)):\n",
    "            output_list += d[i]\n",
    "    for i in range(len(output_list)):\n",
    "        output_list[i] = output_list[i]/list_len\n",
    "    return output_list\n",
    "'''\n",
    "def average_data(directoryname):\n",
    "    import os\n",
    "    import numpy as np\n",
    "    list_len = len(np.fromfile(directoryname+os.listdir(directoryname)[0],dtype='int16',count=-1,sep=''))\n",
    "    output_list = np.zeros(list_len)#[0] * list_len\n",
    "    for data in os.listdir(directoryname):\n",
    "        d = (np.fromfile(directoryname+data,dtype='int16',count=-1,sep=''))\n",
    "        output_list=output_list + d\n",
    "    #print(output_list)\n",
    "    return output_list/list_len"
   ]
  },
  {
   "cell_type": "code",
   "execution_count": 29,
   "metadata": {},
   "outputs": [
    {
     "name": "stdout",
     "output_type": "stream",
     "text": [
      "radar.2017.12\n"
     ]
    },
    {
     "data": {
      "image/png": "[encoded data removed]",
      "text/plain": [
       "<matplotlib.figure.Figure at 0x7f7e587a2fd0>"
      ]
     },
     "metadata": {},
     "output_type": "display_data"
    }
   ],
   "source": [
    "import numpy as np\n",
    "#data = np.fromfile(\"/home/yuan/Documents/Spring-2018/Senior Design/Weather/radar-data/radar.2008.06/radar.20080601.00.dat\",dtype='int16',count=-1,sep='') # 2 byte integers\n",
    "#data_read_display(data)\n",
    "test = average_data(\"/home/yuan/Documents/Spring-2018/Senior Design/Weather/radar-data/radar.2017.12/\")\n",
    "#print(len(test))\n",
    "#print(type(test))\n",
    "print(\"radar.2017.12\")\n",
    "data_read_display(test)"
   ]
  },
  {
   "cell_type": "raw",
   "metadata": {},
   "source": [
    "test = average_data(\"/home/yuan/Documents/Spring-2018/Senior Design/Weather/radar-data/radar.2008.12/\")\n",
    "print(len(test))\n",
    "data_read_display(test)"
   ]
  },
  {
   "cell_type": "code",
   "execution_count": null,
   "metadata": {
    "collapsed": true
   },
   "outputs": [],
   "source": []
  }
 ],
 "metadata": {
  "kernelspec": {
   "display_name": "Python 3",
   "language": "python",
   "name": "python3"
  },
  "language_info": {
   "codemirror_mode": {
    "name": "ipython",
    "version": 3
   },
   "file_extension": ".py",
   "mimetype": "text/x-python",
   "name": "python",
   "nbconvert_exporter": "python",
   "pygments_lexer": "ipython3",
   "version": "3.6.3"
  }
 },
 "nbformat": 4,
 "nbformat_minor": 2
}
