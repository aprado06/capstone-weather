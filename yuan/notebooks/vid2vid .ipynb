{
 "cells": [
  {
   "cell_type": "markdown",
   "metadata": {},
   "source": [
    "## This is a jupyter notebook for the vid2vid algorithm\n",
    "`https://github.com/NVIDIA/vid2vid`\n",
    "\n",
    "Pytorch implementation for high-resolution (e.g., 2048x1024) photorealistic video-to-video translation. It can be used for turning semantic label maps into photo-realistic videos, synthesizing people talking from edge maps, or generating human motions from poses."
   ]
  },
  {
   "cell_type": "markdown",
   "metadata": {},
   "source": [
    "This algorithm uses pytorch instead of tensorflow, which is what pix2pix uses. However it allows the user to use tensorboard, to evaluate the results of the algorithm."
   ]
  },
  {
   "cell_type": "markdown",
   "metadata": {},
   "source": [
    "### Prerequisite for Vid2Vid:\n",
    "- Python 3\n",
    "- NVIDIA GPU + CUDA cuDNN\n",
    "- PyTorch 0.4 ** still permission for **\n",
    "- Python libraries dominate and requests\n"
   ]
  },
  {
   "cell_type": "markdown",
   "metadata": {},
   "source": [
    "### Issues while running the code, while downloading the \n",
    "\n",
    "The placement of the download_gdrive.py is outside of the scripts folder, and it raises an error when one of the scripts inside the scripts folder tries to import it. \n",
    "    --> to solve this problem, we can move teh download_gdrive.py script inside the scripts directory and edit the script to import from its current directory.\n",
    "  "
   ]
  },
  {
   "cell_type": "markdown",
   "metadata": {},
   "source": [
    "### CUDA\n",
    "This is a plateform that is developed by NVIDIA to perform parallel computing, however I have found a script that allows to use just one CPU but, the results are not garanteed to be as good as using 8 GPUs. "
   ]
  },
  {
   "cell_type": "code",
   "execution_count": null,
   "metadata": {},
   "outputs": [],
   "source": []
  }
 ],
 "metadata": {
  "kernelspec": {
   "display_name": "Python 3",
   "language": "python",
   "name": "python3"
  },
  "language_info": {
   "codemirror_mode": {
    "name": "ipython",
    "version": 3
   },
   "file_extension": ".py",
   "mimetype": "text/x-python",
   "name": "python",
   "nbconvert_exporter": "python",
   "pygments_lexer": "ipython3",
   "version": "3.6.5"
  }
 },
 "nbformat": 4,
 "nbformat_minor": 2
}
