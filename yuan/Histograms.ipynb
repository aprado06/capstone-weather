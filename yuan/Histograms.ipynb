{
 "cells": [
  {
   "cell_type": "code",
   "execution_count": null,
   "metadata": {
    "collapsed": true
   },
   "outputs": [],
   "source": [
    "def get_maxes(filename):\n",
    "    \"\"\" \n",
    "\twhen passed the full filename (path plus filename) of a deep learning dataset\n",
    "\tThis function reads the binary data and rescales it\n",
    "\treforms it from vector into array of the proper size\n",
    "\trails the data off at suggested maximum and minimum values\n",
    "\tdisplays the data as grayscale on black background\n",
    "    \"\"\"\n",
    "\n",
    "    import numpy as np\n",
    "    import matplotlib.pyplot as plt\n",
    "\n",
    "    dims = (126,201)   # rows, columns\n",
    "    minmax = [0,0]\t# suggested data limits for display purposes\n",
    "\n",
    "    data = np.fromfile(filename,dtype='int16',count=-1,sep='') # 2 byte integers\n",
    "    #print('size of read vector',len(data))\n",
    "    data = np.reshape(data,dims)\n",
    "    #print(data[98]) #max exists in the 98th element row\n",
    "    \n",
    "    #print('elemnt of max', np.argmax(data))\n",
    "    #print('np.max(data) type', type(np.max(data)))\n",
    "    #print('np.min(data)', np.min(data))\n",
    "    return (int(np.max(data)))\n",
    "    \n",
    "data_read_display(\"/home/yuan/Documents/Spring-2018/Senior Design/Weather/radar-data/radar.2008.06/radar.20080601.00.dat\")\n",
    "\n",
    "def get_max(folder_path):\n",
    "    import os\n",
    "    import matplotlib.pyplot as plt\n",
    "    list_of_max = []\n",
    "    #for data_file in os.listdir(folder_path):\n",
    "    #filelist = glob.glob(os.path.join(path, '/home/yuan/Documents/Spring-2018/Senior Design/Weather/radar-data/radar.2008.06/'))\n",
    "    filelist = os.listdir(folder_path)\n",
    "    month = \"\"\n",
    "    for infile in sorted(filelist): \n",
    "        list_of_max.append(data_read_display(str(folder_path+infile)))\n",
    "        month = infile\n",
    "        #print(str(folder_path+infile))\n",
    "        #print (infile)\n",
    "    #print(list_of_max)\n",
    "    #plt.hist(list_of_max)\n",
    "    #plt('pixel intensity', 'time', data=list_of_max)\n",
    "    print(len(list_of_max))\n",
    "    # for i in range(720):\n",
    "    #    plt.plot(i,list_ofmax[i] for pt in y,label = 'id %s'%i)\n",
    "    plt.figure(figsize=(30,10))\n",
    "    plt.plot(list_of_max)   \n",
    "    plt.xlabel(\"data\")\n",
    "    plt.ylabel(\"pixel intensity\")\n",
    "    plt.title(month[:-7])\n",
    "    plt.show()\n",
    "    #figure.set_size_inches(18.5, 10.5, forward=True)\n",
    "get_max(\"/home/yuan/Documents/Spring-2018/Senior Design/Weather/radar-data/radar.2008.06/\")\n"
   ]
  },
  {
   "cell_type": "code",
   "execution_count": null,
   "metadata": {
    "collapsed": true
   },
   "outputs": [],
   "source": [
    "def get_max_min(folder_path):\n",
    "    "
   ]
  }
 ],
 "metadata": {
  "kernelspec": {
   "display_name": "Python 3",
   "language": "python",
   "name": "python3"
  },
  "language_info": {
   "codemirror_mode": {
    "name": "ipython",
    "version": 3
   },
   "file_extension": ".py",
   "mimetype": "text/x-python",
   "name": "python",
   "nbconvert_exporter": "python",
   "pygments_lexer": "ipython3",
   "version": "3.6.3"
  }
 },
 "nbformat": 4,
 "nbformat_minor": 2
}
