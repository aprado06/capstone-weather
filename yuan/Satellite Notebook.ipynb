{
 "cells": [
  {
   "cell_type": "code",
   "execution_count": 30,
   "metadata": {},
   "outputs": [],
   "source": [
    "from netCDF4 import Dataset \n",
    "import numpy as np\n",
    "import matplotlib.pyplot as plt \n",
    "import seaborn as sns\n",
    "%matplotlib inline\n"
   ]
  },
  {
   "cell_type": "code",
   "execution_count": 31,
   "metadata": {},
   "outputs": [],
   "source": [
    "def display_data (filepath):\n",
    "    data_lst = Dataset(filepath, 'r')\n",
    "    sns.load_dataset()"
   ]
  },
  {
   "cell_type": "code",
   "execution_count": 73,
   "metadata": {},
   "outputs": [
    {
     "name": "stdout",
     "output_type": "stream",
     "text": [
      "GVAR\n",
      "(840, 3168)\n"
     ]
    }
   ],
   "source": [
    "results = Dataset('/home/yuan/Documents/Spring-2018/Senior Design/Weather/Satellite-data/goes13.2017.182.001519.BAND_01 (1).nc', 'r')\n",
    "print(results.variables['data'].type)\n",
    "np_data = (np.array(results.variables['data']))[0]\n",
    "print(np_data.shape)\n",
    "\n"
   ]
  },
  {
   "cell_type": "code",
   "execution_count": 72,
   "metadata": {},
   "outputs": [
    {
     "name": "stdout",
     "output_type": "stream",
     "text": [
      "<class 'netCDF4._netCDF4.Dataset'>\n",
      "root group (NETCDF4_CLASSIC data model, file format HDF5):\n",
      "    start_year: 2016\n",
      "    source: Daymet Software Version 3.0\n",
      "    Version_software: Daymet Software Version 3.0\n",
      "    Version_data: Daymet Data Version 3.0\n",
      "    Conventions: CF-1.6\n",
      "    citation: Please see http://daymet.ornl.gov/ for current Daymet data citation information\n",
      "    references: Please see http://daymet.ornl.gov/ for current information on Daymet references\n",
      "    nco_openmp_thread_number: 1\n",
      "    NCO: \"4.6.0\"\n",
      "    dimensions(sizes): time(12), nv(2), y(8075), x(7814)\n",
      "    variables(dimensions): float32 \u001b[4mtime_bnds\u001b[0m(time,nv), int16 \u001b[4mlambert_conformal_conic\u001b[0m(), float32 \u001b[4mlat\u001b[0m(y,x), float32 \u001b[4mlon\u001b[0m(y,x), float32 \u001b[4mtime\u001b[0m(time), float32 \u001b[4mtmax\u001b[0m(time,y,x), float32 \u001b[4mx\u001b[0m(x), float32 \u001b[4my\u001b[0m(y)\n",
      "    groups: \n",
      "\n",
      "[ 4984000.  4983000.  4982000. ..., -3088000. -3089000. -3090000.]\n"
     ]
    }
   ],
   "source": [
    "\n",
    "nasa_data = Dataset('/home/yuan/Downloads/daymet_v3_tmax_monavg_2016_na (1).nc4')\n",
    "print(nasa_data)\n",
    "\n",
    "nasa_np = np.array(nasa_data['y'])\n",
    "print(nasa_np) \n",
    "\n",
    "#ax = sns.heatmap(nasa_np)\n"
   ]
  },
  {
   "cell_type": "code",
   "execution_count": 1,
   "metadata": {},
   "outputs": [
    {
     "ename": "SyntaxError",
     "evalue": "invalid syntax (<ipython-input-1-85d12fed8e28>, line 1)",
     "output_type": "error",
     "traceback": [
      "\u001b[0;36m  File \u001b[0;32m\"<ipython-input-1-85d12fed8e28>\"\u001b[0;36m, line \u001b[0;32m1\u001b[0m\n\u001b[0;31m    importfrom sklearn import datasets, svm, metrics\u001b[0m\n\u001b[0m                     ^\u001b[0m\n\u001b[0;31mSyntaxError\u001b[0m\u001b[0;31m:\u001b[0m invalid syntax\n"
     ]
    }
   ],
   "source": [
    "importfrom sklearn import datasets, svm, metrics "
   ]
  },
  {
   "cell_type": "code",
   "execution_count": null,
   "metadata": {},
   "outputs": [],
   "source": []
  }
 ],
 "metadata": {
  "kernelspec": {
   "display_name": "Python 3",
   "language": "python",
   "name": "python3"
  },
  "language_info": {
   "codemirror_mode": {
    "name": "ipython",
    "version": 3
   },
   "file_extension": ".py",
   "mimetype": "text/x-python",
   "name": "python",
   "nbconvert_exporter": "python",
   "pygments_lexer": "ipython3",
   "version": "3.6.3"
  }
 },
 "nbformat": 4,
 "nbformat_minor": 2
}
